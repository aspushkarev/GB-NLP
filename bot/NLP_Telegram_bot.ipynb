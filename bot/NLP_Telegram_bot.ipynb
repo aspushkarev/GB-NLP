{
  "cells": [
    {
      "cell_type": "code",
      "execution_count": null,
      "metadata": {
        "colab": {
          "base_uri": "https://localhost:8080/"
        },
        "id": "Uz9bGgfffp28",
        "outputId": "6c6eac4d-6ae3-43f7-b053-0bc9405e1202"
      },
      "outputs": [
        {
          "name": "stdout",
          "output_type": "stream",
          "text": [
            "\u001b[2K     \u001b[90m━━━━━━━━━━━━━━━━━━━━━━━━━━━━━━━━━━━━━━━\u001b[0m \u001b[32m355.6/355.6 kB\u001b[0m \u001b[31m4.5 MB/s\u001b[0m eta \u001b[36m0:00:00\u001b[0m\n",
            "\u001b[2K     \u001b[90m━━━━━━━━━━━━━━━━━━━━━━━━━━━━━━━━━━━━━━\u001b[0m \u001b[32m647.5/647.5 kB\u001b[0m \u001b[31m12.8 MB/s\u001b[0m eta \u001b[36m0:00:00\u001b[0m\n",
            "\u001b[?25h  Preparing metadata (setup.py) ... \u001b[?25l\u001b[?25hdone\n",
            "  Preparing metadata (setup.py) ... \u001b[?25l\u001b[?25hdone\n",
            "\u001b[2K     \u001b[90m━━━━━━━━━━━━━━━━━━━━━━━━━━━━━━━━━━━━━━━━\u001b[0m \u001b[32m55.5/55.5 kB\u001b[0m \u001b[31m5.6 MB/s\u001b[0m eta \u001b[36m0:00:00\u001b[0m\n",
            "\u001b[2K     \u001b[90m━━━━━━━━━━━━━━━━━━━━━━━━━━━━━━━━━━━━━━\u001b[0m \u001b[32m544.8/544.8 kB\u001b[0m \u001b[31m16.2 MB/s\u001b[0m eta \u001b[36m0:00:00\u001b[0m\n",
            "\u001b[2K     \u001b[90m━━━━━━━━━━━━━━━━━━━━━━━━━━━━━━━━━━━━━━━\u001b[0m \u001b[32m120.2/120.2 kB\u001b[0m \u001b[31m9.0 MB/s\u001b[0m eta \u001b[36m0:00:00\u001b[0m\n",
            "\u001b[2K     \u001b[90m━━━━━━━━━━━━━━━━━━━━━━━━━━━━━━━━━━━━━━━━\u001b[0m \u001b[32m8.2/8.2 MB\u001b[0m \u001b[31m25.9 MB/s\u001b[0m eta \u001b[36m0:00:00\u001b[0m\n",
            "\u001b[?25h  Preparing metadata (setup.py) ... \u001b[?25l\u001b[?25hdone\n",
            "\u001b[2K     \u001b[90m━━━━━━━━━━━━━━━━━━━━━━━━━━━━━━━━━━━━━━━━\u001b[0m \u001b[32m75.4/75.4 kB\u001b[0m \u001b[31m6.9 MB/s\u001b[0m eta \u001b[36m0:00:00\u001b[0m\n",
            "\u001b[2K     \u001b[90m━━━━━━━━━━━━━━━━━━━━━━━━━━━━━━━━━━━━━━━━\u001b[0m \u001b[32m74.5/74.5 kB\u001b[0m \u001b[31m8.9 MB/s\u001b[0m eta \u001b[36m0:00:00\u001b[0m\n",
            "\u001b[2K     \u001b[90m━━━━━━━━━━━━━━━━━━━━━━━━━━━━━━━━━━━━━━━━\u001b[0m \u001b[32m58.3/58.3 kB\u001b[0m \u001b[31m6.6 MB/s\u001b[0m eta \u001b[36m0:00:00\u001b[0m\n",
            "\u001b[?25h  Building wheel for annoy (setup.py) ... \u001b[?25l\u001b[?25hdone\n",
            "  Building wheel for stop_words (setup.py) ... \u001b[?25l\u001b[?25hdone\n",
            "  Building wheel for docopt (setup.py) ... \u001b[?25l\u001b[?25hdone\n"
          ]
        }
      ],
      "source": [
        "!pip install -q dialogflow gensim annoy tqdm stop_words pymorphy2 python-telegram-bot"
      ]
    },
    {
      "cell_type": "code",
      "execution_count": null,
      "metadata": {
        "colab": {
          "base_uri": "https://localhost:8080/"
        },
        "id": "Y5GwgAmhg7Ga",
        "outputId": "8ecd5ed0-8f70-498c-bbae-9f907c8aee80"
      },
      "outputs": [
        {
          "name": "stdout",
          "output_type": "stream",
          "text": [
            "  Preparing metadata (setup.py) ... \u001b[?25l\u001b[?25hdone\n",
            "\u001b[?25l     \u001b[90m━━━━━━━━━━━━━━━━━━━━━━━━━━━━━━━━━━━━━━━━\u001b[0m \u001b[32m0.0/115.3 kB\u001b[0m \u001b[31m?\u001b[0m eta \u001b[36m-:--:--\u001b[0m\r\u001b[2K     \u001b[90m━━━━━━━━━━━━━━━━━━━━━━━━━━━━━━━━━━━━━━━\u001b[0m \u001b[32m115.3/115.3 kB\u001b[0m \u001b[31m3.8 MB/s\u001b[0m eta \u001b[36m0:00:00\u001b[0m\n",
            "\u001b[?25h  Building wheel for pandarallel (setup.py) ... \u001b[?25l\u001b[?25hdone\n"
          ]
        }
      ],
      "source": [
        "!pip install -q pandarallel"
      ]
    },
    {
      "cell_type": "code",
      "execution_count": null,
      "metadata": {
        "colab": {
          "base_uri": "https://localhost:8080/"
        },
        "id": "fcvnHhSKfK_F",
        "outputId": "0a7d5cc7-794e-4234-be49-b502d45c5e1a"
      },
      "outputs": [
        {
          "name": "stdout",
          "output_type": "stream",
          "text": [
            "INFO: Pandarallel will run on 1 workers.\n",
            "INFO: Pandarallel will use Memory file system to transfer data between the main process and workers.\n"
          ]
        }
      ],
      "source": [
        "import numpy as np\n",
        "import pandas as pd\n",
        "import annoy\n",
        "import mmap\n",
        "import string\n",
        "import pickle\n",
        "import os\n",
        "import re\n",
        "from telegram.ext import Updater, CommandHandler, MessageHandler, filters, CallbackContext\n",
        "from pymorphy2 import MorphAnalyzer\n",
        "from stop_words import get_stop_words\n",
        "from gensim.models import Word2Vec, FastText\n",
        "from tqdm.notebook import tqdm\n",
        "from pandarallel import pandarallel\n",
        "\n",
        "tqdm.pandas()\n",
        "pandarallel.initialize(progress_bar=True)"
      ]
    },
    {
      "cell_type": "code",
      "execution_count": null,
      "metadata": {
        "id": "0cyakHKy6nB3"
      },
      "outputs": [],
      "source": [
        "!pip install -U -q PyDrive\n",
        "\n",
        "from pydrive.auth import GoogleAuth\n",
        "from pydrive.drive import GoogleDrive\n",
        "from google.colab import auth\n",
        "from oauth2client.client import GoogleCredentials\n",
        "\n",
        "# Authenticate and create the PyDrive client\n",
        "auth.authenticate_user()\n",
        "gauth = GoogleAuth()\n",
        "gauth.credentials = GoogleCredentials.get_application_default()\n",
        "drive = GoogleDrive(gauth)"
      ]
    },
    {
      "cell_type": "code",
      "execution_count": null,
      "metadata": {
        "id": "sWNwcVbx6qYx"
      },
      "outputs": [],
      "source": [
        "link = 'https://drive.google.com/file/d/1eJZSk2c_lzoiwQ8jWKQ7RZoeFVmdXPmY/view?usp=sharing'\n",
        "\n",
        "# to get the id part of the file\n",
        "id_test = link.split(\"/\")[-2]\n",
        "\n",
        "downloaded = drive.CreateFile({'id':id_test})\n",
        "downloaded.GetContentFile('Otvety.txt')"
      ]
    },
    {
      "cell_type": "code",
      "execution_count": null,
      "metadata": {
        "id": "AJ8kLMAmmPD5"
      },
      "outputs": [],
      "source": [
        "def get_num_lines(file_path):\n",
        "    fp = open(file_path, \"r+\")\n",
        "    buf = mmap.mmap(fp.fileno(), 0)\n",
        "    lines = 0\n",
        "    while buf.readline():\n",
        "        lines += 1\n",
        "    return lines"
      ]
    },
    {
      "cell_type": "code",
      "execution_count": null,
      "metadata": {
        "colab": {
          "base_uri": "https://localhost:8080/",
          "height": 49,
          "referenced_widgets": [
            "90aa2470dc7649bd815ff096bde4eba9",
            "b2a46e0a37cb48f3bd02ba36bede2f9b",
            "8d32124833b54c60910a176749f42675",
            "ed953c2c34604d4f966da7606ea5016b",
            "d5f9f57affaf4188af5809da4608cb9a",
            "46c5f01b2d924e12a436b7943bce9c96",
            "6ef3329829e548b0afcba33ee9ba29e2",
            "51af6b1fceab4e248ae9a333bd3d6b02",
            "62120df62ede4596b5c0d5e471d082b9",
            "fd6c77a0b6df4f2393f0e1af0b7d731d",
            "1684d551e45d4bd68042f89c02f75d49"
          ]
        },
        "id": "ErjEZb3amW7D",
        "outputId": "bfe6f6d6-e7f7-431b-876a-ada8eab17c85"
      },
      "outputs": [
        {
          "data": {
            "application/vnd.jupyter.widget-view+json": {
              "model_id": "90aa2470dc7649bd815ff096bde4eba9",
              "version_major": 2,
              "version_minor": 0
            },
            "text/plain": [
              "0it [00:00, ?it/s]"
            ]
          },
          "metadata": {},
          "output_type": "display_data"
        }
      ],
      "source": [
        "# Преобразование файла вопросов-ответов в строчный вид\n",
        "if not os.path.isfile('prepared_answers.txt'):\n",
        "\n",
        "    question = None\n",
        "    written = False\n",
        "\n",
        "    with open(\"prepared_answers.txt\", \"w\") as fout:\n",
        "        with open(\"Otvety.txt\", \"r\") as fin:\n",
        "            for line in tqdm(fin):\n",
        "                if line.startswith(\"---\"):\n",
        "                    written = False\n",
        "                    continue\n",
        "                if not written and question is not None:\n",
        "                    fout.write(question.replace(\"\\t\", \" \").strip() + \"\\t\" + line.replace(\"\\t\", \" \"))\n",
        "                    written = True\n",
        "                    question = None\n",
        "                    continue\n",
        "                if not written:\n",
        "                    question = line.strip()\n",
        "                    continue"
      ]
    },
    {
      "cell_type": "code",
      "execution_count": null,
      "metadata": {
        "id": "jQOLNboZ_Sho"
      },
      "outputs": [],
      "source": [
        "morpher = MorphAnalyzer()\n",
        "sw = set(get_stop_words(\"ru\"))\n",
        "exclude = set(string.punctuation)"
      ]
    },
    {
      "cell_type": "code",
      "execution_count": null,
      "metadata": {
        "id": "hjopnsz49V7g"
      },
      "outputs": [],
      "source": [
        "# Препроцессинг текста\n",
        "def preprocess_txt(line):\n",
        "    spls = \"\".join(i for i in line.strip() if i not in exclude).split()\n",
        "    spls = [morpher.parse(i.lower())[0].normal_form for i in spls]\n",
        "    spls = [i for i in spls if i not in sw and i != \"\"]\n",
        "    return spls"
      ]
    },
    {
      "cell_type": "code",
      "execution_count": null,
      "metadata": {
        "colab": {
          "background_save": true,
          "base_uri": "https://localhost:8080/",
          "height": 49,
          "referenced_widgets": [
            "a38bf19f6707402794deffab7cacf746",
            "8e30c6f868ac4f44b19902215e40b5ea",
            "0ed97bac5ad84bbcaad890c7312e031a",
            "cc52901fe8e24945b9aedc20bab9223f",
            "341c6e0c9f5749a181b75417eff5dbf9",
            "fc1f63c570cc478bbb4825855715c50f",
            "46789805eaee4b8cae2fa73f77cdb653",
            "7bc4c16f79fa4e3bb27fe546b086c633",
            "e1b33756b0bb4b77b9e0db23d98edd4e",
            "7e5217d13d8d48588798433c2fb29604",
            "ae5965052b1140838f654813249d9222"
          ]
        },
        "id": "tgKLOj5o_-DY",
        "outputId": "2c672290-7a1d-48f3-cdd1-3dd040fba030"
      },
      "outputs": [
        {
          "data": {
            "application/vnd.jupyter.widget-view+json": {
              "model_id": "a38bf19f6707402794deffab7cacf746",
              "version_major": 2,
              "version_minor": 0
            },
            "text/plain": [
              "  0%|          | 0/1163342 [00:00<?, ?it/s]"
            ]
          },
          "metadata": {},
          "output_type": "display_data"
        }
      ],
      "source": [
        "# Обработка текста\n",
        "\n",
        "sentences = []\n",
        "# morpher = MorphAnalyzer()\n",
        "# sw = set(get_stop_words(\"ru\"))\n",
        "# exclude = set(string.punctuation)\n",
        "c = 0\n",
        "\n",
        "file_path_from = 'prepared_answers.txt'\n",
        "file_path_to = 'Otvety2.txt'\n",
        "\n",
        "if not os.path.isfile(file_path_to):\n",
        "\n",
        "    N = get_num_lines(file_path_from)\n",
        "    with open(file_path_to, mode = 'w') as fileto:\n",
        "        with open(file_path_from) as filefrom:\n",
        "            for k in tqdm(range(N)):\n",
        "                line = filefrom.readline()\n",
        "                if line == '': break\n",
        "                spls = preprocess_txt(line)\n",
        "                sentences.append(spls)\n",
        "                c += 1\n",
        "                if c > 500000000:\n",
        "                    break\n",
        "                fileto.write(' '.join(spls)+'\\n')\n",
        "    filefrom.close()\n",
        "    fileto.close()"
      ]
    },
    {
      "cell_type": "code",
      "execution_count": null,
      "metadata": {
        "id": "2RvHHdw3ATtz"
      },
      "outputs": [],
      "source": [
        "# Загрузить результат\n",
        "\n",
        "sentences = []\n",
        "\n",
        "file_path_from = 'Otvety2.txt'\n",
        "if os.path.isfile(file_path_from):\n",
        "    N = get_num_lines(file_path_from)\n",
        "    with open(file_path_to, mode = 'r') as filefrom:\n",
        "        for k in tqdm(range(N)):\n",
        "            line = filefrom.readline()\n",
        "            if line == '': break\n",
        "            sentences.append(line.split())\n",
        "    filefrom.close()"
      ]
    },
    {
      "cell_type": "code",
      "execution_count": null,
      "metadata": {
        "id": "4wsSumarAZis"
      },
      "outputs": [],
      "source": [
        "vec = []\n",
        "_ = [vec.extend(x)  for x in sentences[:100]]\n",
        "vec = list(set(vec))\n",
        "vec.sort()\n",
        "vec[20:30]"
      ]
    },
    {
      "cell_type": "code",
      "execution_count": null,
      "metadata": {
        "id": "YQuZlzMvAdeN"
      },
      "outputs": [],
      "source": [
        "# Обучим модель FastText\n",
        "\n",
        "file_path_from = 'ft_model'\n",
        "if not os.path.isfile(file_path_from):\n",
        "\n",
        "    sentences = [i for i in tqdm(sentences) if len(i) > 2]\n",
        "    modelFT = FastText(sentences=sentences, size=100, min_count=1, window=5)\n",
        "    modelFT.save(\"ft_model\")"
      ]
    },
    {
      "cell_type": "code",
      "execution_count": null,
      "metadata": {
        "id": "i5pFXmOEAiKd"
      },
      "outputs": [],
      "source": [
        "# Загрузить модель\n",
        "\n",
        "modelFT = FastText.load(\"ft_model\")\n",
        "ft_index = annoy.AnnoyIndex(100 ,'angular')"
      ]
    },
    {
      "cell_type": "code",
      "execution_count": null,
      "metadata": {
        "id": "V0eJsZZnApHb"
      },
      "outputs": [],
      "source": [
        "# Создаем Индексы для вопросов-ответов\n",
        "\n",
        "file_path_from = 'speaker.ann'\n",
        "if not os.path.isfile(file_path_from):\n",
        "    # morpher = MorphAnalyzer()\n",
        "    # sw = set(get_stop_words(\"ru\"))\n",
        "    # exclude = set(string.punctuation)\n",
        "    modelFT = FastText.load(\"ft_model\")\n",
        "    ft_index = annoy.AnnoyIndex(100 ,'angular')\n",
        "\n",
        "    index_map = {}\n",
        "    counter = 0\n",
        "    with open(\"Otvety2.txt\", \"r\") as f:\n",
        "        for line in tqdm(f):\n",
        "            n_ft = 0\n",
        "            spls = line.split(\"\\t\")\n",
        "            index_map[counter] = spls[1]\n",
        "            question = preprocess_txt(spls[0])\n",
        "            vector_ft = np.zeros(100)\n",
        "            for word in question:\n",
        "                if word in modelFT.wv:\n",
        "                    vector_ft += modelFT.wv[word]\n",
        "                    n_ft += 1\n",
        "            if n_ft > 0:\n",
        "                vector_ft = vector_ft / n_ft\n",
        "            ft_index.add_item(counter, vector_ft)\n",
        "\n",
        "            counter += 1\n",
        "\n",
        "            if counter > 50_000:\n",
        "                break\n",
        "\n",
        "    ft_index.build(10)\n",
        "    ft_index.save('speaker.ann')\n",
        "\n",
        "    with open(\"index_speaker.pkl\", \"wb\") as f:\n",
        "        pickle.dump(index_map, f)"
      ]
    },
    {
      "cell_type": "code",
      "execution_count": null,
      "metadata": {
        "id": "veFjSXA3AxSx"
      },
      "outputs": [],
      "source": [
        "#  Загрузим индексы\n",
        "ft_index = annoy.AnnoyIndex(100, 'angular')\n",
        "ft_index.load('speaker.ann')\n",
        "index_map = pd.read_pickle(\"index_speaker.pkl\")"
      ]
    },
    {
      "cell_type": "code",
      "execution_count": null,
      "metadata": {
        "id": "faIMniaSAztX"
      },
      "outputs": [],
      "source": [
        "np.random.permutation(100)"
      ]
    },
    {
      "cell_type": "code",
      "execution_count": null,
      "metadata": {
        "id": "y1UyLPY4A184"
      },
      "outputs": [],
      "source": [
        "#  Пример получения индексов\n",
        "a = ft_index.get_nns_by_vector(np.random.permutation(100), 5, include_distances=True)\n",
        "a"
      ]
    },
    {
      "cell_type": "code",
      "execution_count": null,
      "metadata": {
        "id": "2cTGQ3xJA4nG"
      },
      "outputs": [],
      "source": [
        "[index_map[x] for x in a[0]]"
      ]
    },
    {
      "cell_type": "code",
      "execution_count": null,
      "metadata": {
        "id": "Y1D59rbYBJZD"
      },
      "outputs": [],
      "source": [
        "# Создадим модель продуктовых данных\n",
        "\n",
        "shop_data = pd.read_csv(\"ProductsDataset.csv\")\n",
        "#shop_data = shop_data.iloc[:5000, :]\n",
        "\n",
        "shop_data['text'] = shop_data['title'] + \" \" + shop_data[\"descrirption\"]\n",
        "shop_data['text'] = shop_data['text'].progress_apply(lambda x: preprocess_txt(str(x)))\n",
        "shop_data.head()"
      ]
    },
    {
      "cell_type": "code",
      "execution_count": null,
      "metadata": {
        "id": "pv5wP069BLxd"
      },
      "outputs": [],
      "source": [
        "from sklearn.feature_extraction.text import CountVectorizer\n",
        "from sklearn.linear_model import LogisticRegression\n",
        "\n",
        "vectorizer = CountVectorizer(ngram_range=(1, 2))"
      ]
    },
    {
      "cell_type": "code",
      "execution_count": null,
      "metadata": {
        "id": "vLqd2nX5BNz8"
      },
      "outputs": [],
      "source": [
        "idxs = set(np.random.randint(0, len(index_map), len(shop_data)))\n",
        "# Вопрос-ответный домен\n",
        "negative_texts = [\" \".join(preprocess_txt(index_map[i])) for i in tqdm(idxs)]\n",
        "# Продуктовый домен\n",
        "positive_texts = [\" \".join(val) for val in tqdm(shop_data['text'].values)]"
      ]
    },
    {
      "cell_type": "code",
      "execution_count": null,
      "metadata": {
        "id": "nHVRXp7CBOtm"
      },
      "outputs": [],
      "source": [
        "# ВО = 0, Прод = 1\n",
        "\n",
        "dataset = negative_texts + positive_texts\n",
        "labels = np.zeros(len(dataset))\n",
        "labels[len(negative_texts):] = np.ones(len(positive_texts))"
      ]
    },
    {
      "cell_type": "code",
      "execution_count": null,
      "metadata": {
        "id": "1AImCmp_BUJ2"
      },
      "outputs": [],
      "source": [
        "from sklearn.model_selection import train_test_split\n",
        "\n",
        "X_train, X_test, y_train, y_test = train_test_split(dataset, labels, test_size=0.2,\n",
        "                                                    stratify=labels, random_state=13)"
      ]
    },
    {
      "cell_type": "code",
      "execution_count": null,
      "metadata": {
        "id": "hKMI2hCYBWVx"
      },
      "outputs": [],
      "source": [
        "# Модель\n",
        "\n",
        "x_train_vec = vectorizer.fit_transform(X_train)\n",
        "x_test_vec = vectorizer.transform(X_test)\n",
        "\n",
        "lr = LogisticRegression().fit(x_train_vec, y_train)"
      ]
    },
    {
      "cell_type": "code",
      "execution_count": null,
      "metadata": {
        "id": "aD0jfOXnBdfL"
      },
      "outputs": [],
      "source": [
        "# Качество\n",
        "\n",
        "from sklearn.metrics import accuracy_score\n",
        "accuracy_score(y_true=y_test, y_pred=lr.predict(x_test_vec))"
      ]
    },
    {
      "cell_type": "code",
      "execution_count": null,
      "metadata": {
        "id": "IdAwreSrBgoX"
      },
      "outputs": [],
      "source": [
        "# Добавим IDF взвешивание (для каждого слова найдем IDF вес)\n",
        "from sklearn.feature_extraction.text import TfidfVectorizer\n",
        "\n",
        "tfidf_vect = TfidfVectorizer().fit(X_train)"
      ]
    },
    {
      "cell_type": "code",
      "execution_count": null,
      "metadata": {
        "id": "XmWi_QL1Bkpv"
      },
      "outputs": [],
      "source": [
        "np.mean(tfidf_vect.idf_)"
      ]
    },
    {
      "cell_type": "code",
      "execution_count": null,
      "metadata": {
        "id": "RiJtD9q5BnEL"
      },
      "outputs": [],
      "source": [
        "idfs = {v[0]: v[1] for v in zip(tfidf_vect.vocabulary_, tfidf_vect.idf_)}"
      ]
    },
    {
      "cell_type": "code",
      "execution_count": null,
      "metadata": {
        "id": "Ryt0irVNBo6p"
      },
      "outputs": [],
      "source": [
        "len(idfs.keys())"
      ]
    },
    {
      "cell_type": "code",
      "execution_count": null,
      "metadata": {
        "id": "_UN-vaG0Bo4G"
      },
      "outputs": [],
      "source": [
        "list(idfs.keys())[:5]"
      ]
    },
    {
      "cell_type": "code",
      "execution_count": null,
      "metadata": {
        "id": "7B9hK3_aBtLT"
      },
      "outputs": [],
      "source": [
        "list(idfs.values())[:5]"
      ]
    },
    {
      "cell_type": "code",
      "execution_count": null,
      "metadata": {
        "id": "SbMx2ktmByDB"
      },
      "outputs": [],
      "source": [
        "# Создаем Индексы для продуктовых данных\n",
        "\n",
        "file_path_from = 'shop.ann'\n",
        "if not os.path.isfile(file_path_from):\n",
        "\n",
        "\n",
        "    ft_index_shop = annoy.AnnoyIndex(100 ,'angular')\n",
        "\n",
        "    midf = np.mean(tfidf_vect.idf_)\n",
        "\n",
        "    index_map_shop = {}\n",
        "    counter = 0\n",
        "\n",
        "    for i in tqdm(range(len(shop_data))):\n",
        "        n_ft = 0\n",
        "        index_map_shop[counter] = (shop_data.loc[i, \"title\"], shop_data.loc[i, \"image_links\"])\n",
        "        vector_ft = np.zeros(100)\n",
        "        for word in shop_data.loc[i, \"text\"]:\n",
        "            if word in modelFT.wv:\n",
        "                vector_ft += modelFT.wv[word] * idfs.get(word, midf)\n",
        "                n_ft += idfs.get(word, midf)\n",
        "        if n_ft > 0:\n",
        "            vector_ft = vector_ft / n_ft\n",
        "        ft_index_shop.add_item(counter, vector_ft)\n",
        "        counter += 1\n",
        "\n",
        "    ft_index_shop.build(10)\n",
        "    ft_index_shop.save('shop.ann')\n",
        "\n",
        "    file_path_from = 'index_shop.pkl'\n",
        "    if not os.path.isfile(file_path_from):\n",
        "\n",
        "        with open(\"index_shop.pkl\", \"wb\") as f:\n",
        "            pickle.dump(index_map_shop, f)"
      ]
    },
    {
      "cell_type": "code",
      "execution_count": null,
      "metadata": {
        "id": "U4xqi3LYB0kU"
      },
      "outputs": [],
      "source": [
        "# Загрузим индексы\n",
        "\n",
        "midf = np.mean(tfidf_vect.idf_)\n",
        "\n",
        "ft_index_shop = annoy.AnnoyIndex(100, 'angular')\n",
        "ft_index_shop.load('shop.ann')\n",
        "\n",
        "index_map_shop = pd.read_pickle(\"index_shop.pkl\")"
      ]
    },
    {
      "cell_type": "code",
      "execution_count": null,
      "metadata": {
        "id": "0jr_bOLqB2uX"
      },
      "outputs": [],
      "source": [
        "# Основная функция преобразования текста в вектор х100\n",
        "\n",
        "def embed_txt(txt, idfs, midf):\n",
        "    n_ft = 0\n",
        "    vector_ft = np.zeros(100)\n",
        "    for word in txt:\n",
        "        if word in modelFT.wv:\n",
        "            vector_ft += modelFT.wv[word] * idfs.get(word, midf)\n",
        "            n_ft += idfs.get(word, midf)\n",
        "    return vector_ft / n_ft"
      ]
    },
    {
      "cell_type": "code",
      "execution_count": null,
      "metadata": {
        "id": "AsMGGSkkB41F"
      },
      "outputs": [],
      "source": [
        "# Пример получения индекса\n",
        "\n",
        "ft_index_shop.get_nns_by_vector(np.ones(100)*20, 5, include_distances=True)"
      ]
    },
    {
      "cell_type": "code",
      "execution_count": null,
      "metadata": {
        "id": "9mcpnqGFB_tf"
      },
      "outputs": [],
      "source": [
        "# заменить на свой токен\n",
        "updater = Updater(\"6599481223:AAEW6PqvbHrdZlqcj19GkSfdlfoEbjgL79E\", use_context=True) # Токен API к Telegram\n",
        "dispatcher = updater.dispatcher\n",
        "\n",
        "def startCommand(update, context):\n",
        "    context.bot.send_message(chat_id=update.message.chat_id, text='Привет, давай пообщаемся?')\n",
        "\n",
        "def textMessage(update, context):\n",
        "\n",
        "    input_txt = preprocess_txt(update.message.text)\n",
        "    vect = vectorizer.transform([\" \".join(input_txt)])\n",
        "    prediction = lr.predict(vect)\n",
        "\n",
        "    # ПРОД\n",
        "    if prediction[0] == 1:\n",
        "        vect_ft = embed_txt(input_txt, idfs, midf)\n",
        "        ft_index_shop_val = ft_index_shop.get_nns_by_vector(vect_ft, 5)\n",
        "        for item in ft_index_shop_val:\n",
        "            title, image = index_map_shop[item]\n",
        "            context.bot.send_message(chat_id=update.message.chat_id, text=\"title: {} image: {}\".format(title, image))\n",
        "        return\n",
        "\n",
        "    # QA\n",
        "    vect_ft = embed_txt(input_txt, {}, 1)\n",
        "    ft_index_val, distances = ft_index.get_nns_by_vector(vect_ft, 1, include_distances=True)\n",
        "\n",
        "    #\n",
        "    if distances[0] > 100.5:\n",
        "        print(distances[0])\n",
        "        context.bot.send_message(chat_id=update.message.chat_id, text=\"Моя твоя не понимать\")\n",
        "        return\n",
        "\n",
        "    # Вопрос-Ответ\n",
        "    context.bot.send_message(chat_id=update.message.chat_id, text=index_map[ft_index_val[0]])\n",
        "\n",
        "start_command_handler = CommandHandler('start', startCommand)\n",
        "text_message_handler = MessageHandler(filters.text, textMessage)\n",
        "dispatcher.add_handler(start_command_handler)\n",
        "dispatcher.add_handler(text_message_handler)\n",
        "updater.start_polling(clean=True)\n",
        "updater.idle()"
      ]
    }
  ],
  "metadata": {
    "accelerator": "GPU",
    "colab": {
      "provenance": []
    },
    "kernelspec": {
      "display_name": "Python 3",
      "name": "python3"
    },
    "language_info": {
      "name": "python"
    },
    "widgets": {
      "application/vnd.jupyter.widget-state+json": {
        "0ed97bac5ad84bbcaad890c7312e031a": {
          "model_module": "@jupyter-widgets/controls",
          "model_module_version": "1.5.0",
          "model_name": "FloatProgressModel",
          "state": {
            "_dom_classes": [],
            "_model_module": "@jupyter-widgets/controls",
            "_model_module_version": "1.5.0",
            "_model_name": "FloatProgressModel",
            "_view_count": null,
            "_view_module": "@jupyter-widgets/controls",
            "_view_module_version": "1.5.0",
            "_view_name": "ProgressView",
            "bar_style": "",
            "description": "",
            "description_tooltip": null,
            "layout": "IPY_MODEL_7bc4c16f79fa4e3bb27fe546b086c633",
            "max": 1163342,
            "min": 0,
            "orientation": "horizontal",
            "style": "IPY_MODEL_e1b33756b0bb4b77b9e0db23d98edd4e",
            "value": 1328
          }
        },
        "1684d551e45d4bd68042f89c02f75d49": {
          "model_module": "@jupyter-widgets/controls",
          "model_module_version": "1.5.0",
          "model_name": "DescriptionStyleModel",
          "state": {
            "_model_module": "@jupyter-widgets/controls",
            "_model_module_version": "1.5.0",
            "_model_name": "DescriptionStyleModel",
            "_view_count": null,
            "_view_module": "@jupyter-widgets/base",
            "_view_module_version": "1.2.0",
            "_view_name": "StyleView",
            "description_width": ""
          }
        },
        "341c6e0c9f5749a181b75417eff5dbf9": {
          "model_module": "@jupyter-widgets/base",
          "model_module_version": "1.2.0",
          "model_name": "LayoutModel",
          "state": {
            "_model_module": "@jupyter-widgets/base",
            "_model_module_version": "1.2.0",
            "_model_name": "LayoutModel",
            "_view_count": null,
            "_view_module": "@jupyter-widgets/base",
            "_view_module_version": "1.2.0",
            "_view_name": "LayoutView",
            "align_content": null,
            "align_items": null,
            "align_self": null,
            "border": null,
            "bottom": null,
            "display": null,
            "flex": null,
            "flex_flow": null,
            "grid_area": null,
            "grid_auto_columns": null,
            "grid_auto_flow": null,
            "grid_auto_rows": null,
            "grid_column": null,
            "grid_gap": null,
            "grid_row": null,
            "grid_template_areas": null,
            "grid_template_columns": null,
            "grid_template_rows": null,
            "height": null,
            "justify_content": null,
            "justify_items": null,
            "left": null,
            "margin": null,
            "max_height": null,
            "max_width": null,
            "min_height": null,
            "min_width": null,
            "object_fit": null,
            "object_position": null,
            "order": null,
            "overflow": null,
            "overflow_x": null,
            "overflow_y": null,
            "padding": null,
            "right": null,
            "top": null,
            "visibility": null,
            "width": null
          }
        },
        "46789805eaee4b8cae2fa73f77cdb653": {
          "model_module": "@jupyter-widgets/controls",
          "model_module_version": "1.5.0",
          "model_name": "DescriptionStyleModel",
          "state": {
            "_model_module": "@jupyter-widgets/controls",
            "_model_module_version": "1.5.0",
            "_model_name": "DescriptionStyleModel",
            "_view_count": null,
            "_view_module": "@jupyter-widgets/base",
            "_view_module_version": "1.2.0",
            "_view_name": "StyleView",
            "description_width": ""
          }
        },
        "46c5f01b2d924e12a436b7943bce9c96": {
          "model_module": "@jupyter-widgets/base",
          "model_module_version": "1.2.0",
          "model_name": "LayoutModel",
          "state": {
            "_model_module": "@jupyter-widgets/base",
            "_model_module_version": "1.2.0",
            "_model_name": "LayoutModel",
            "_view_count": null,
            "_view_module": "@jupyter-widgets/base",
            "_view_module_version": "1.2.0",
            "_view_name": "LayoutView",
            "align_content": null,
            "align_items": null,
            "align_self": null,
            "border": null,
            "bottom": null,
            "display": null,
            "flex": null,
            "flex_flow": null,
            "grid_area": null,
            "grid_auto_columns": null,
            "grid_auto_flow": null,
            "grid_auto_rows": null,
            "grid_column": null,
            "grid_gap": null,
            "grid_row": null,
            "grid_template_areas": null,
            "grid_template_columns": null,
            "grid_template_rows": null,
            "height": null,
            "justify_content": null,
            "justify_items": null,
            "left": null,
            "margin": null,
            "max_height": null,
            "max_width": null,
            "min_height": null,
            "min_width": null,
            "object_fit": null,
            "object_position": null,
            "order": null,
            "overflow": null,
            "overflow_x": null,
            "overflow_y": null,
            "padding": null,
            "right": null,
            "top": null,
            "visibility": null,
            "width": null
          }
        },
        "51af6b1fceab4e248ae9a333bd3d6b02": {
          "model_module": "@jupyter-widgets/base",
          "model_module_version": "1.2.0",
          "model_name": "LayoutModel",
          "state": {
            "_model_module": "@jupyter-widgets/base",
            "_model_module_version": "1.2.0",
            "_model_name": "LayoutModel",
            "_view_count": null,
            "_view_module": "@jupyter-widgets/base",
            "_view_module_version": "1.2.0",
            "_view_name": "LayoutView",
            "align_content": null,
            "align_items": null,
            "align_self": null,
            "border": null,
            "bottom": null,
            "display": null,
            "flex": null,
            "flex_flow": null,
            "grid_area": null,
            "grid_auto_columns": null,
            "grid_auto_flow": null,
            "grid_auto_rows": null,
            "grid_column": null,
            "grid_gap": null,
            "grid_row": null,
            "grid_template_areas": null,
            "grid_template_columns": null,
            "grid_template_rows": null,
            "height": null,
            "justify_content": null,
            "justify_items": null,
            "left": null,
            "margin": null,
            "max_height": null,
            "max_width": null,
            "min_height": null,
            "min_width": null,
            "object_fit": null,
            "object_position": null,
            "order": null,
            "overflow": null,
            "overflow_x": null,
            "overflow_y": null,
            "padding": null,
            "right": null,
            "top": null,
            "visibility": null,
            "width": "20px"
          }
        },
        "62120df62ede4596b5c0d5e471d082b9": {
          "model_module": "@jupyter-widgets/controls",
          "model_module_version": "1.5.0",
          "model_name": "ProgressStyleModel",
          "state": {
            "_model_module": "@jupyter-widgets/controls",
            "_model_module_version": "1.5.0",
            "_model_name": "ProgressStyleModel",
            "_view_count": null,
            "_view_module": "@jupyter-widgets/base",
            "_view_module_version": "1.2.0",
            "_view_name": "StyleView",
            "bar_color": null,
            "description_width": ""
          }
        },
        "6ef3329829e548b0afcba33ee9ba29e2": {
          "model_module": "@jupyter-widgets/controls",
          "model_module_version": "1.5.0",
          "model_name": "DescriptionStyleModel",
          "state": {
            "_model_module": "@jupyter-widgets/controls",
            "_model_module_version": "1.5.0",
            "_model_name": "DescriptionStyleModel",
            "_view_count": null,
            "_view_module": "@jupyter-widgets/base",
            "_view_module_version": "1.2.0",
            "_view_name": "StyleView",
            "description_width": ""
          }
        },
        "7bc4c16f79fa4e3bb27fe546b086c633": {
          "model_module": "@jupyter-widgets/base",
          "model_module_version": "1.2.0",
          "model_name": "LayoutModel",
          "state": {
            "_model_module": "@jupyter-widgets/base",
            "_model_module_version": "1.2.0",
            "_model_name": "LayoutModel",
            "_view_count": null,
            "_view_module": "@jupyter-widgets/base",
            "_view_module_version": "1.2.0",
            "_view_name": "LayoutView",
            "align_content": null,
            "align_items": null,
            "align_self": null,
            "border": null,
            "bottom": null,
            "display": null,
            "flex": null,
            "flex_flow": null,
            "grid_area": null,
            "grid_auto_columns": null,
            "grid_auto_flow": null,
            "grid_auto_rows": null,
            "grid_column": null,
            "grid_gap": null,
            "grid_row": null,
            "grid_template_areas": null,
            "grid_template_columns": null,
            "grid_template_rows": null,
            "height": null,
            "justify_content": null,
            "justify_items": null,
            "left": null,
            "margin": null,
            "max_height": null,
            "max_width": null,
            "min_height": null,
            "min_width": null,
            "object_fit": null,
            "object_position": null,
            "order": null,
            "overflow": null,
            "overflow_x": null,
            "overflow_y": null,
            "padding": null,
            "right": null,
            "top": null,
            "visibility": null,
            "width": null
          }
        },
        "7e5217d13d8d48588798433c2fb29604": {
          "model_module": "@jupyter-widgets/base",
          "model_module_version": "1.2.0",
          "model_name": "LayoutModel",
          "state": {
            "_model_module": "@jupyter-widgets/base",
            "_model_module_version": "1.2.0",
            "_model_name": "LayoutModel",
            "_view_count": null,
            "_view_module": "@jupyter-widgets/base",
            "_view_module_version": "1.2.0",
            "_view_name": "LayoutView",
            "align_content": null,
            "align_items": null,
            "align_self": null,
            "border": null,
            "bottom": null,
            "display": null,
            "flex": null,
            "flex_flow": null,
            "grid_area": null,
            "grid_auto_columns": null,
            "grid_auto_flow": null,
            "grid_auto_rows": null,
            "grid_column": null,
            "grid_gap": null,
            "grid_row": null,
            "grid_template_areas": null,
            "grid_template_columns": null,
            "grid_template_rows": null,
            "height": null,
            "justify_content": null,
            "justify_items": null,
            "left": null,
            "margin": null,
            "max_height": null,
            "max_width": null,
            "min_height": null,
            "min_width": null,
            "object_fit": null,
            "object_position": null,
            "order": null,
            "overflow": null,
            "overflow_x": null,
            "overflow_y": null,
            "padding": null,
            "right": null,
            "top": null,
            "visibility": null,
            "width": null
          }
        },
        "8d32124833b54c60910a176749f42675": {
          "model_module": "@jupyter-widgets/controls",
          "model_module_version": "1.5.0",
          "model_name": "FloatProgressModel",
          "state": {
            "_dom_classes": [],
            "_model_module": "@jupyter-widgets/controls",
            "_model_module_version": "1.5.0",
            "_model_name": "FloatProgressModel",
            "_view_count": null,
            "_view_module": "@jupyter-widgets/controls",
            "_view_module_version": "1.5.0",
            "_view_name": "ProgressView",
            "bar_style": "success",
            "description": "",
            "description_tooltip": null,
            "layout": "IPY_MODEL_51af6b1fceab4e248ae9a333bd3d6b02",
            "max": 1,
            "min": 0,
            "orientation": "horizontal",
            "style": "IPY_MODEL_62120df62ede4596b5c0d5e471d082b9",
            "value": 1
          }
        },
        "8e30c6f868ac4f44b19902215e40b5ea": {
          "model_module": "@jupyter-widgets/controls",
          "model_module_version": "1.5.0",
          "model_name": "HTMLModel",
          "state": {
            "_dom_classes": [],
            "_model_module": "@jupyter-widgets/controls",
            "_model_module_version": "1.5.0",
            "_model_name": "HTMLModel",
            "_view_count": null,
            "_view_module": "@jupyter-widgets/controls",
            "_view_module_version": "1.5.0",
            "_view_name": "HTMLView",
            "description": "",
            "description_tooltip": null,
            "layout": "IPY_MODEL_fc1f63c570cc478bbb4825855715c50f",
            "placeholder": "​",
            "style": "IPY_MODEL_46789805eaee4b8cae2fa73f77cdb653",
            "value": "  0%"
          }
        },
        "90aa2470dc7649bd815ff096bde4eba9": {
          "model_module": "@jupyter-widgets/controls",
          "model_module_version": "1.5.0",
          "model_name": "HBoxModel",
          "state": {
            "_dom_classes": [],
            "_model_module": "@jupyter-widgets/controls",
            "_model_module_version": "1.5.0",
            "_model_name": "HBoxModel",
            "_view_count": null,
            "_view_module": "@jupyter-widgets/controls",
            "_view_module_version": "1.5.0",
            "_view_name": "HBoxView",
            "box_style": "",
            "children": [
              "IPY_MODEL_b2a46e0a37cb48f3bd02ba36bede2f9b",
              "IPY_MODEL_8d32124833b54c60910a176749f42675",
              "IPY_MODEL_ed953c2c34604d4f966da7606ea5016b"
            ],
            "layout": "IPY_MODEL_d5f9f57affaf4188af5809da4608cb9a"
          }
        },
        "a38bf19f6707402794deffab7cacf746": {
          "model_module": "@jupyter-widgets/controls",
          "model_module_version": "1.5.0",
          "model_name": "HBoxModel",
          "state": {
            "_dom_classes": [],
            "_model_module": "@jupyter-widgets/controls",
            "_model_module_version": "1.5.0",
            "_model_name": "HBoxModel",
            "_view_count": null,
            "_view_module": "@jupyter-widgets/controls",
            "_view_module_version": "1.5.0",
            "_view_name": "HBoxView",
            "box_style": "",
            "children": [
              "IPY_MODEL_8e30c6f868ac4f44b19902215e40b5ea",
              "IPY_MODEL_0ed97bac5ad84bbcaad890c7312e031a",
              "IPY_MODEL_cc52901fe8e24945b9aedc20bab9223f"
            ],
            "layout": "IPY_MODEL_341c6e0c9f5749a181b75417eff5dbf9"
          }
        },
        "ae5965052b1140838f654813249d9222": {
          "model_module": "@jupyter-widgets/controls",
          "model_module_version": "1.5.0",
          "model_name": "DescriptionStyleModel",
          "state": {
            "_model_module": "@jupyter-widgets/controls",
            "_model_module_version": "1.5.0",
            "_model_name": "DescriptionStyleModel",
            "_view_count": null,
            "_view_module": "@jupyter-widgets/base",
            "_view_module_version": "1.2.0",
            "_view_name": "StyleView",
            "description_width": ""
          }
        },
        "b2a46e0a37cb48f3bd02ba36bede2f9b": {
          "model_module": "@jupyter-widgets/controls",
          "model_module_version": "1.5.0",
          "model_name": "HTMLModel",
          "state": {
            "_dom_classes": [],
            "_model_module": "@jupyter-widgets/controls",
            "_model_module_version": "1.5.0",
            "_model_name": "HTMLModel",
            "_view_count": null,
            "_view_module": "@jupyter-widgets/controls",
            "_view_module_version": "1.5.0",
            "_view_name": "HTMLView",
            "description": "",
            "description_tooltip": null,
            "layout": "IPY_MODEL_46c5f01b2d924e12a436b7943bce9c96",
            "placeholder": "​",
            "style": "IPY_MODEL_6ef3329829e548b0afcba33ee9ba29e2",
            "value": ""
          }
        },
        "cc52901fe8e24945b9aedc20bab9223f": {
          "model_module": "@jupyter-widgets/controls",
          "model_module_version": "1.5.0",
          "model_name": "HTMLModel",
          "state": {
            "_dom_classes": [],
            "_model_module": "@jupyter-widgets/controls",
            "_model_module_version": "1.5.0",
            "_model_name": "HTMLModel",
            "_view_count": null,
            "_view_module": "@jupyter-widgets/controls",
            "_view_module_version": "1.5.0",
            "_view_name": "HTMLView",
            "description": "",
            "description_tooltip": null,
            "layout": "IPY_MODEL_7e5217d13d8d48588798433c2fb29604",
            "placeholder": "​",
            "style": "IPY_MODEL_ae5965052b1140838f654813249d9222",
            "value": " 1328/1163342 [00:23&lt;4:38:15, 69.60it/s]"
          }
        },
        "d5f9f57affaf4188af5809da4608cb9a": {
          "model_module": "@jupyter-widgets/base",
          "model_module_version": "1.2.0",
          "model_name": "LayoutModel",
          "state": {
            "_model_module": "@jupyter-widgets/base",
            "_model_module_version": "1.2.0",
            "_model_name": "LayoutModel",
            "_view_count": null,
            "_view_module": "@jupyter-widgets/base",
            "_view_module_version": "1.2.0",
            "_view_name": "LayoutView",
            "align_content": null,
            "align_items": null,
            "align_self": null,
            "border": null,
            "bottom": null,
            "display": null,
            "flex": null,
            "flex_flow": null,
            "grid_area": null,
            "grid_auto_columns": null,
            "grid_auto_flow": null,
            "grid_auto_rows": null,
            "grid_column": null,
            "grid_gap": null,
            "grid_row": null,
            "grid_template_areas": null,
            "grid_template_columns": null,
            "grid_template_rows": null,
            "height": null,
            "justify_content": null,
            "justify_items": null,
            "left": null,
            "margin": null,
            "max_height": null,
            "max_width": null,
            "min_height": null,
            "min_width": null,
            "object_fit": null,
            "object_position": null,
            "order": null,
            "overflow": null,
            "overflow_x": null,
            "overflow_y": null,
            "padding": null,
            "right": null,
            "top": null,
            "visibility": null,
            "width": null
          }
        },
        "e1b33756b0bb4b77b9e0db23d98edd4e": {
          "model_module": "@jupyter-widgets/controls",
          "model_module_version": "1.5.0",
          "model_name": "ProgressStyleModel",
          "state": {
            "_model_module": "@jupyter-widgets/controls",
            "_model_module_version": "1.5.0",
            "_model_name": "ProgressStyleModel",
            "_view_count": null,
            "_view_module": "@jupyter-widgets/base",
            "_view_module_version": "1.2.0",
            "_view_name": "StyleView",
            "bar_color": null,
            "description_width": ""
          }
        },
        "ed953c2c34604d4f966da7606ea5016b": {
          "model_module": "@jupyter-widgets/controls",
          "model_module_version": "1.5.0",
          "model_name": "HTMLModel",
          "state": {
            "_dom_classes": [],
            "_model_module": "@jupyter-widgets/controls",
            "_model_module_version": "1.5.0",
            "_model_name": "HTMLModel",
            "_view_count": null,
            "_view_module": "@jupyter-widgets/controls",
            "_view_module_version": "1.5.0",
            "_view_name": "HTMLView",
            "description": "",
            "description_tooltip": null,
            "layout": "IPY_MODEL_fd6c77a0b6df4f2393f0e1af0b7d731d",
            "placeholder": "​",
            "style": "IPY_MODEL_1684d551e45d4bd68042f89c02f75d49",
            "value": " 7550926/? [00:30&lt;00:00, 359764.75it/s]"
          }
        },
        "fc1f63c570cc478bbb4825855715c50f": {
          "model_module": "@jupyter-widgets/base",
          "model_module_version": "1.2.0",
          "model_name": "LayoutModel",
          "state": {
            "_model_module": "@jupyter-widgets/base",
            "_model_module_version": "1.2.0",
            "_model_name": "LayoutModel",
            "_view_count": null,
            "_view_module": "@jupyter-widgets/base",
            "_view_module_version": "1.2.0",
            "_view_name": "LayoutView",
            "align_content": null,
            "align_items": null,
            "align_self": null,
            "border": null,
            "bottom": null,
            "display": null,
            "flex": null,
            "flex_flow": null,
            "grid_area": null,
            "grid_auto_columns": null,
            "grid_auto_flow": null,
            "grid_auto_rows": null,
            "grid_column": null,
            "grid_gap": null,
            "grid_row": null,
            "grid_template_areas": null,
            "grid_template_columns": null,
            "grid_template_rows": null,
            "height": null,
            "justify_content": null,
            "justify_items": null,
            "left": null,
            "margin": null,
            "max_height": null,
            "max_width": null,
            "min_height": null,
            "min_width": null,
            "object_fit": null,
            "object_position": null,
            "order": null,
            "overflow": null,
            "overflow_x": null,
            "overflow_y": null,
            "padding": null,
            "right": null,
            "top": null,
            "visibility": null,
            "width": null
          }
        },
        "fd6c77a0b6df4f2393f0e1af0b7d731d": {
          "model_module": "@jupyter-widgets/base",
          "model_module_version": "1.2.0",
          "model_name": "LayoutModel",
          "state": {
            "_model_module": "@jupyter-widgets/base",
            "_model_module_version": "1.2.0",
            "_model_name": "LayoutModel",
            "_view_count": null,
            "_view_module": "@jupyter-widgets/base",
            "_view_module_version": "1.2.0",
            "_view_name": "LayoutView",
            "align_content": null,
            "align_items": null,
            "align_self": null,
            "border": null,
            "bottom": null,
            "display": null,
            "flex": null,
            "flex_flow": null,
            "grid_area": null,
            "grid_auto_columns": null,
            "grid_auto_flow": null,
            "grid_auto_rows": null,
            "grid_column": null,
            "grid_gap": null,
            "grid_row": null,
            "grid_template_areas": null,
            "grid_template_columns": null,
            "grid_template_rows": null,
            "height": null,
            "justify_content": null,
            "justify_items": null,
            "left": null,
            "margin": null,
            "max_height": null,
            "max_width": null,
            "min_height": null,
            "min_width": null,
            "object_fit": null,
            "object_position": null,
            "order": null,
            "overflow": null,
            "overflow_x": null,
            "overflow_y": null,
            "padding": null,
            "right": null,
            "top": null,
            "visibility": null,
            "width": null
          }
        }
      }
    }
  },
  "nbformat": 4,
  "nbformat_minor": 0
}