{
  "nbformat": 4,
  "nbformat_minor": 0,
  "metadata": {
    "colab": {
      "provenance": [],
      "gpuType": "T4"
    },
    "kernelspec": {
      "name": "python3",
      "display_name": "Python 3"
    },
    "language_info": {
      "name": "python"
    },
    "accelerator": "GPU",
    "widgets": {
      "application/vnd.jupyter.widget-state+json": {
        "b7caa3819a764102a0d5ada6d255e426": {
          "model_module": "@jupyter-widgets/controls",
          "model_name": "HBoxModel",
          "model_module_version": "1.5.0",
          "state": {
            "_dom_classes": [],
            "_model_module": "@jupyter-widgets/controls",
            "_model_module_version": "1.5.0",
            "_model_name": "HBoxModel",
            "_view_count": null,
            "_view_module": "@jupyter-widgets/controls",
            "_view_module_version": "1.5.0",
            "_view_name": "HBoxView",
            "box_style": "",
            "children": [
              "IPY_MODEL_f5b8256a17694d7a88dc90773c70b161",
              "IPY_MODEL_3b7649f995094db7ad7a4054ae86371b",
              "IPY_MODEL_3bcb781f662246f4a00be18dc15c108a"
            ],
            "layout": "IPY_MODEL_c08713c018b64349aad064c4f8d58ed9"
          }
        },
        "f5b8256a17694d7a88dc90773c70b161": {
          "model_module": "@jupyter-widgets/controls",
          "model_name": "HTMLModel",
          "model_module_version": "1.5.0",
          "state": {
            "_dom_classes": [],
            "_model_module": "@jupyter-widgets/controls",
            "_model_module_version": "1.5.0",
            "_model_name": "HTMLModel",
            "_view_count": null,
            "_view_module": "@jupyter-widgets/controls",
            "_view_module_version": "1.5.0",
            "_view_name": "HTMLView",
            "description": "",
            "description_tooltip": null,
            "layout": "IPY_MODEL_b4f2a177d46244a2814237bd69c4f7a4",
            "placeholder": "​",
            "style": "IPY_MODEL_bf48def7721f45778186e21d6da26017",
            "value": "Downloading (…)tencepiece.bpe.model: 100%"
          }
        },
        "3b7649f995094db7ad7a4054ae86371b": {
          "model_module": "@jupyter-widgets/controls",
          "model_name": "FloatProgressModel",
          "model_module_version": "1.5.0",
          "state": {
            "_dom_classes": [],
            "_model_module": "@jupyter-widgets/controls",
            "_model_module_version": "1.5.0",
            "_model_name": "FloatProgressModel",
            "_view_count": null,
            "_view_module": "@jupyter-widgets/controls",
            "_view_module_version": "1.5.0",
            "_view_name": "ProgressView",
            "bar_style": "success",
            "description": "",
            "description_tooltip": null,
            "layout": "IPY_MODEL_ba23d09ab6e7405596ae4e65665ab122",
            "max": 5069051,
            "min": 0,
            "orientation": "horizontal",
            "style": "IPY_MODEL_ded30fec9572437b889862e2ddeb77eb",
            "value": 5069051
          }
        },
        "3bcb781f662246f4a00be18dc15c108a": {
          "model_module": "@jupyter-widgets/controls",
          "model_name": "HTMLModel",
          "model_module_version": "1.5.0",
          "state": {
            "_dom_classes": [],
            "_model_module": "@jupyter-widgets/controls",
            "_model_module_version": "1.5.0",
            "_model_name": "HTMLModel",
            "_view_count": null,
            "_view_module": "@jupyter-widgets/controls",
            "_view_module_version": "1.5.0",
            "_view_name": "HTMLView",
            "description": "",
            "description_tooltip": null,
            "layout": "IPY_MODEL_a06946cba8244b609b49de2d84550f2d",
            "placeholder": "​",
            "style": "IPY_MODEL_57911428851a42999cd902bd2925cc55",
            "value": " 5.07M/5.07M [00:00&lt;00:00, 58.5MB/s]"
          }
        },
        "c08713c018b64349aad064c4f8d58ed9": {
          "model_module": "@jupyter-widgets/base",
          "model_name": "LayoutModel",
          "model_module_version": "1.2.0",
          "state": {
            "_model_module": "@jupyter-widgets/base",
            "_model_module_version": "1.2.0",
            "_model_name": "LayoutModel",
            "_view_count": null,
            "_view_module": "@jupyter-widgets/base",
            "_view_module_version": "1.2.0",
            "_view_name": "LayoutView",
            "align_content": null,
            "align_items": null,
            "align_self": null,
            "border": null,
            "bottom": null,
            "display": null,
            "flex": null,
            "flex_flow": null,
            "grid_area": null,
            "grid_auto_columns": null,
            "grid_auto_flow": null,
            "grid_auto_rows": null,
            "grid_column": null,
            "grid_gap": null,
            "grid_row": null,
            "grid_template_areas": null,
            "grid_template_columns": null,
            "grid_template_rows": null,
            "height": null,
            "justify_content": null,
            "justify_items": null,
            "left": null,
            "margin": null,
            "max_height": null,
            "max_width": null,
            "min_height": null,
            "min_width": null,
            "object_fit": null,
            "object_position": null,
            "order": null,
            "overflow": null,
            "overflow_x": null,
            "overflow_y": null,
            "padding": null,
            "right": null,
            "top": null,
            "visibility": null,
            "width": null
          }
        },
        "b4f2a177d46244a2814237bd69c4f7a4": {
          "model_module": "@jupyter-widgets/base",
          "model_name": "LayoutModel",
          "model_module_version": "1.2.0",
          "state": {
            "_model_module": "@jupyter-widgets/base",
            "_model_module_version": "1.2.0",
            "_model_name": "LayoutModel",
            "_view_count": null,
            "_view_module": "@jupyter-widgets/base",
            "_view_module_version": "1.2.0",
            "_view_name": "LayoutView",
            "align_content": null,
            "align_items": null,
            "align_self": null,
            "border": null,
            "bottom": null,
            "display": null,
            "flex": null,
            "flex_flow": null,
            "grid_area": null,
            "grid_auto_columns": null,
            "grid_auto_flow": null,
            "grid_auto_rows": null,
            "grid_column": null,
            "grid_gap": null,
            "grid_row": null,
            "grid_template_areas": null,
            "grid_template_columns": null,
            "grid_template_rows": null,
            "height": null,
            "justify_content": null,
            "justify_items": null,
            "left": null,
            "margin": null,
            "max_height": null,
            "max_width": null,
            "min_height": null,
            "min_width": null,
            "object_fit": null,
            "object_position": null,
            "order": null,
            "overflow": null,
            "overflow_x": null,
            "overflow_y": null,
            "padding": null,
            "right": null,
            "top": null,
            "visibility": null,
            "width": null
          }
        },
        "bf48def7721f45778186e21d6da26017": {
          "model_module": "@jupyter-widgets/controls",
          "model_name": "DescriptionStyleModel",
          "model_module_version": "1.5.0",
          "state": {
            "_model_module": "@jupyter-widgets/controls",
            "_model_module_version": "1.5.0",
            "_model_name": "DescriptionStyleModel",
            "_view_count": null,
            "_view_module": "@jupyter-widgets/base",
            "_view_module_version": "1.2.0",
            "_view_name": "StyleView",
            "description_width": ""
          }
        },
        "ba23d09ab6e7405596ae4e65665ab122": {
          "model_module": "@jupyter-widgets/base",
          "model_name": "LayoutModel",
          "model_module_version": "1.2.0",
          "state": {
            "_model_module": "@jupyter-widgets/base",
            "_model_module_version": "1.2.0",
            "_model_name": "LayoutModel",
            "_view_count": null,
            "_view_module": "@jupyter-widgets/base",
            "_view_module_version": "1.2.0",
            "_view_name": "LayoutView",
            "align_content": null,
            "align_items": null,
            "align_self": null,
            "border": null,
            "bottom": null,
            "display": null,
            "flex": null,
            "flex_flow": null,
            "grid_area": null,
            "grid_auto_columns": null,
            "grid_auto_flow": null,
            "grid_auto_rows": null,
            "grid_column": null,
            "grid_gap": null,
            "grid_row": null,
            "grid_template_areas": null,
            "grid_template_columns": null,
            "grid_template_rows": null,
            "height": null,
            "justify_content": null,
            "justify_items": null,
            "left": null,
            "margin": null,
            "max_height": null,
            "max_width": null,
            "min_height": null,
            "min_width": null,
            "object_fit": null,
            "object_position": null,
            "order": null,
            "overflow": null,
            "overflow_x": null,
            "overflow_y": null,
            "padding": null,
            "right": null,
            "top": null,
            "visibility": null,
            "width": null
          }
        },
        "ded30fec9572437b889862e2ddeb77eb": {
          "model_module": "@jupyter-widgets/controls",
          "model_name": "ProgressStyleModel",
          "model_module_version": "1.5.0",
          "state": {
            "_model_module": "@jupyter-widgets/controls",
            "_model_module_version": "1.5.0",
            "_model_name": "ProgressStyleModel",
            "_view_count": null,
            "_view_module": "@jupyter-widgets/base",
            "_view_module_version": "1.2.0",
            "_view_name": "StyleView",
            "bar_color": null,
            "description_width": ""
          }
        },
        "a06946cba8244b609b49de2d84550f2d": {
          "model_module": "@jupyter-widgets/base",
          "model_name": "LayoutModel",
          "model_module_version": "1.2.0",
          "state": {
            "_model_module": "@jupyter-widgets/base",
            "_model_module_version": "1.2.0",
            "_model_name": "LayoutModel",
            "_view_count": null,
            "_view_module": "@jupyter-widgets/base",
            "_view_module_version": "1.2.0",
            "_view_name": "LayoutView",
            "align_content": null,
            "align_items": null,
            "align_self": null,
            "border": null,
            "bottom": null,
            "display": null,
            "flex": null,
            "flex_flow": null,
            "grid_area": null,
            "grid_auto_columns": null,
            "grid_auto_flow": null,
            "grid_auto_rows": null,
            "grid_column": null,
            "grid_gap": null,
            "grid_row": null,
            "grid_template_areas": null,
            "grid_template_columns": null,
            "grid_template_rows": null,
            "height": null,
            "justify_content": null,
            "justify_items": null,
            "left": null,
            "margin": null,
            "max_height": null,
            "max_width": null,
            "min_height": null,
            "min_width": null,
            "object_fit": null,
            "object_position": null,
            "order": null,
            "overflow": null,
            "overflow_x": null,
            "overflow_y": null,
            "padding": null,
            "right": null,
            "top": null,
            "visibility": null,
            "width": null
          }
        },
        "57911428851a42999cd902bd2925cc55": {
          "model_module": "@jupyter-widgets/controls",
          "model_name": "DescriptionStyleModel",
          "model_module_version": "1.5.0",
          "state": {
            "_model_module": "@jupyter-widgets/controls",
            "_model_module_version": "1.5.0",
            "_model_name": "DescriptionStyleModel",
            "_view_count": null,
            "_view_module": "@jupyter-widgets/base",
            "_view_module_version": "1.2.0",
            "_view_name": "StyleView",
            "description_width": ""
          }
        },
        "1ce0c80f324a4175b966fa165c828f21": {
          "model_module": "@jupyter-widgets/controls",
          "model_name": "HBoxModel",
          "model_module_version": "1.5.0",
          "state": {
            "_dom_classes": [],
            "_model_module": "@jupyter-widgets/controls",
            "_model_module_version": "1.5.0",
            "_model_name": "HBoxModel",
            "_view_count": null,
            "_view_module": "@jupyter-widgets/controls",
            "_view_module_version": "1.5.0",
            "_view_name": "HBoxView",
            "box_style": "",
            "children": [
              "IPY_MODEL_7198062596734430a36a0e1f3b2409b0",
              "IPY_MODEL_43c0a666347c46199a9f2e63b71e2f70",
              "IPY_MODEL_4b292f7984654a64a1d75f6f3153cb11"
            ],
            "layout": "IPY_MODEL_91f3ef79444640c99e8114dd5ad215e8"
          }
        },
        "7198062596734430a36a0e1f3b2409b0": {
          "model_module": "@jupyter-widgets/controls",
          "model_name": "HTMLModel",
          "model_module_version": "1.5.0",
          "state": {
            "_dom_classes": [],
            "_model_module": "@jupyter-widgets/controls",
            "_model_module_version": "1.5.0",
            "_model_name": "HTMLModel",
            "_view_count": null,
            "_view_module": "@jupyter-widgets/controls",
            "_view_module_version": "1.5.0",
            "_view_name": "HTMLView",
            "description": "",
            "description_tooltip": null,
            "layout": "IPY_MODEL_7baed3737da54c5ab80f2d491292cf1a",
            "placeholder": "​",
            "style": "IPY_MODEL_a5d175b98a3d426f875013341db543d0",
            "value": "Downloading (…)cial_tokens_map.json: 100%"
          }
        },
        "43c0a666347c46199a9f2e63b71e2f70": {
          "model_module": "@jupyter-widgets/controls",
          "model_name": "FloatProgressModel",
          "model_module_version": "1.5.0",
          "state": {
            "_dom_classes": [],
            "_model_module": "@jupyter-widgets/controls",
            "_model_module_version": "1.5.0",
            "_model_name": "FloatProgressModel",
            "_view_count": null,
            "_view_module": "@jupyter-widgets/controls",
            "_view_module_version": "1.5.0",
            "_view_name": "ProgressView",
            "bar_style": "success",
            "description": "",
            "description_tooltip": null,
            "layout": "IPY_MODEL_81a66bd1107447f38e77b2291575afae",
            "max": 406,
            "min": 0,
            "orientation": "horizontal",
            "style": "IPY_MODEL_7439ddb0135442e387a2eee77edb4ca7",
            "value": 406
          }
        },
        "4b292f7984654a64a1d75f6f3153cb11": {
          "model_module": "@jupyter-widgets/controls",
          "model_name": "HTMLModel",
          "model_module_version": "1.5.0",
          "state": {
            "_dom_classes": [],
            "_model_module": "@jupyter-widgets/controls",
            "_model_module_version": "1.5.0",
            "_model_name": "HTMLModel",
            "_view_count": null,
            "_view_module": "@jupyter-widgets/controls",
            "_view_module_version": "1.5.0",
            "_view_name": "HTMLView",
            "description": "",
            "description_tooltip": null,
            "layout": "IPY_MODEL_adf2cbfc67ee4074bdf673340b7d3e58",
            "placeholder": "​",
            "style": "IPY_MODEL_644f8e4b226442788fb021131399c72c",
            "value": " 406/406 [00:00&lt;00:00, 15.4kB/s]"
          }
        },
        "91f3ef79444640c99e8114dd5ad215e8": {
          "model_module": "@jupyter-widgets/base",
          "model_name": "LayoutModel",
          "model_module_version": "1.2.0",
          "state": {
            "_model_module": "@jupyter-widgets/base",
            "_model_module_version": "1.2.0",
            "_model_name": "LayoutModel",
            "_view_count": null,
            "_view_module": "@jupyter-widgets/base",
            "_view_module_version": "1.2.0",
            "_view_name": "LayoutView",
            "align_content": null,
            "align_items": null,
            "align_self": null,
            "border": null,
            "bottom": null,
            "display": null,
            "flex": null,
            "flex_flow": null,
            "grid_area": null,
            "grid_auto_columns": null,
            "grid_auto_flow": null,
            "grid_auto_rows": null,
            "grid_column": null,
            "grid_gap": null,
            "grid_row": null,
            "grid_template_areas": null,
            "grid_template_columns": null,
            "grid_template_rows": null,
            "height": null,
            "justify_content": null,
            "justify_items": null,
            "left": null,
            "margin": null,
            "max_height": null,
            "max_width": null,
            "min_height": null,
            "min_width": null,
            "object_fit": null,
            "object_position": null,
            "order": null,
            "overflow": null,
            "overflow_x": null,
            "overflow_y": null,
            "padding": null,
            "right": null,
            "top": null,
            "visibility": null,
            "width": null
          }
        },
        "7baed3737da54c5ab80f2d491292cf1a": {
          "model_module": "@jupyter-widgets/base",
          "model_name": "LayoutModel",
          "model_module_version": "1.2.0",
          "state": {
            "_model_module": "@jupyter-widgets/base",
            "_model_module_version": "1.2.0",
            "_model_name": "LayoutModel",
            "_view_count": null,
            "_view_module": "@jupyter-widgets/base",
            "_view_module_version": "1.2.0",
            "_view_name": "LayoutView",
            "align_content": null,
            "align_items": null,
            "align_self": null,
            "border": null,
            "bottom": null,
            "display": null,
            "flex": null,
            "flex_flow": null,
            "grid_area": null,
            "grid_auto_columns": null,
            "grid_auto_flow": null,
            "grid_auto_rows": null,
            "grid_column": null,
            "grid_gap": null,
            "grid_row": null,
            "grid_template_areas": null,
            "grid_template_columns": null,
            "grid_template_rows": null,
            "height": null,
            "justify_content": null,
            "justify_items": null,
            "left": null,
            "margin": null,
            "max_height": null,
            "max_width": null,
            "min_height": null,
            "min_width": null,
            "object_fit": null,
            "object_position": null,
            "order": null,
            "overflow": null,
            "overflow_x": null,
            "overflow_y": null,
            "padding": null,
            "right": null,
            "top": null,
            "visibility": null,
            "width": null
          }
        },
        "a5d175b98a3d426f875013341db543d0": {
          "model_module": "@jupyter-widgets/controls",
          "model_name": "DescriptionStyleModel",
          "model_module_version": "1.5.0",
          "state": {
            "_model_module": "@jupyter-widgets/controls",
            "_model_module_version": "1.5.0",
            "_model_name": "DescriptionStyleModel",
            "_view_count": null,
            "_view_module": "@jupyter-widgets/base",
            "_view_module_version": "1.2.0",
            "_view_name": "StyleView",
            "description_width": ""
          }
        },
        "81a66bd1107447f38e77b2291575afae": {
          "model_module": "@jupyter-widgets/base",
          "model_name": "LayoutModel",
          "model_module_version": "1.2.0",
          "state": {
            "_model_module": "@jupyter-widgets/base",
            "_model_module_version": "1.2.0",
            "_model_name": "LayoutModel",
            "_view_count": null,
            "_view_module": "@jupyter-widgets/base",
            "_view_module_version": "1.2.0",
            "_view_name": "LayoutView",
            "align_content": null,
            "align_items": null,
            "align_self": null,
            "border": null,
            "bottom": null,
            "display": null,
            "flex": null,
            "flex_flow": null,
            "grid_area": null,
            "grid_auto_columns": null,
            "grid_auto_flow": null,
            "grid_auto_rows": null,
            "grid_column": null,
            "grid_gap": null,
            "grid_row": null,
            "grid_template_areas": null,
            "grid_template_columns": null,
            "grid_template_rows": null,
            "height": null,
            "justify_content": null,
            "justify_items": null,
            "left": null,
            "margin": null,
            "max_height": null,
            "max_width": null,
            "min_height": null,
            "min_width": null,
            "object_fit": null,
            "object_position": null,
            "order": null,
            "overflow": null,
            "overflow_x": null,
            "overflow_y": null,
            "padding": null,
            "right": null,
            "top": null,
            "visibility": null,
            "width": null
          }
        },
        "7439ddb0135442e387a2eee77edb4ca7": {
          "model_module": "@jupyter-widgets/controls",
          "model_name": "ProgressStyleModel",
          "model_module_version": "1.5.0",
          "state": {
            "_model_module": "@jupyter-widgets/controls",
            "_model_module_version": "1.5.0",
            "_model_name": "ProgressStyleModel",
            "_view_count": null,
            "_view_module": "@jupyter-widgets/base",
            "_view_module_version": "1.2.0",
            "_view_name": "StyleView",
            "bar_color": null,
            "description_width": ""
          }
        },
        "adf2cbfc67ee4074bdf673340b7d3e58": {
          "model_module": "@jupyter-widgets/base",
          "model_name": "LayoutModel",
          "model_module_version": "1.2.0",
          "state": {
            "_model_module": "@jupyter-widgets/base",
            "_model_module_version": "1.2.0",
            "_model_name": "LayoutModel",
            "_view_count": null,
            "_view_module": "@jupyter-widgets/base",
            "_view_module_version": "1.2.0",
            "_view_name": "LayoutView",
            "align_content": null,
            "align_items": null,
            "align_self": null,
            "border": null,
            "bottom": null,
            "display": null,
            "flex": null,
            "flex_flow": null,
            "grid_area": null,
            "grid_auto_columns": null,
            "grid_auto_flow": null,
            "grid_auto_rows": null,
            "grid_column": null,
            "grid_gap": null,
            "grid_row": null,
            "grid_template_areas": null,
            "grid_template_columns": null,
            "grid_template_rows": null,
            "height": null,
            "justify_content": null,
            "justify_items": null,
            "left": null,
            "margin": null,
            "max_height": null,
            "max_width": null,
            "min_height": null,
            "min_width": null,
            "object_fit": null,
            "object_position": null,
            "order": null,
            "overflow": null,
            "overflow_x": null,
            "overflow_y": null,
            "padding": null,
            "right": null,
            "top": null,
            "visibility": null,
            "width": null
          }
        },
        "644f8e4b226442788fb021131399c72c": {
          "model_module": "@jupyter-widgets/controls",
          "model_name": "DescriptionStyleModel",
          "model_module_version": "1.5.0",
          "state": {
            "_model_module": "@jupyter-widgets/controls",
            "_model_module_version": "1.5.0",
            "_model_name": "DescriptionStyleModel",
            "_view_count": null,
            "_view_module": "@jupyter-widgets/base",
            "_view_module_version": "1.2.0",
            "_view_name": "StyleView",
            "description_width": ""
          }
        },
        "b20ceb5892354f16b3f8815ed5952548": {
          "model_module": "@jupyter-widgets/controls",
          "model_name": "HBoxModel",
          "model_module_version": "1.5.0",
          "state": {
            "_dom_classes": [],
            "_model_module": "@jupyter-widgets/controls",
            "_model_module_version": "1.5.0",
            "_model_name": "HBoxModel",
            "_view_count": null,
            "_view_module": "@jupyter-widgets/controls",
            "_view_module_version": "1.5.0",
            "_view_name": "HBoxView",
            "box_style": "",
            "children": [
              "IPY_MODEL_052d875ccd3b4df39f31df56db1184c2",
              "IPY_MODEL_55453d1113df4fbcadd61a8cbb98a074",
              "IPY_MODEL_a80ef22a0c694035bd35f0e570312354"
            ],
            "layout": "IPY_MODEL_b4b46a40c8bb4ef28332b8b3d7d7f710"
          }
        },
        "052d875ccd3b4df39f31df56db1184c2": {
          "model_module": "@jupyter-widgets/controls",
          "model_name": "HTMLModel",
          "model_module_version": "1.5.0",
          "state": {
            "_dom_classes": [],
            "_model_module": "@jupyter-widgets/controls",
            "_model_module_version": "1.5.0",
            "_model_name": "HTMLModel",
            "_view_count": null,
            "_view_module": "@jupyter-widgets/controls",
            "_view_module_version": "1.5.0",
            "_view_name": "HTMLView",
            "description": "",
            "description_tooltip": null,
            "layout": "IPY_MODEL_9b1c002f7b154875b4d2c7471825cda3",
            "placeholder": "​",
            "style": "IPY_MODEL_a6060e9fe1a8482da719b9af67e026f4",
            "value": "Downloading (…)okenizer_config.json: 100%"
          }
        },
        "55453d1113df4fbcadd61a8cbb98a074": {
          "model_module": "@jupyter-widgets/controls",
          "model_name": "FloatProgressModel",
          "model_module_version": "1.5.0",
          "state": {
            "_dom_classes": [],
            "_model_module": "@jupyter-widgets/controls",
            "_model_module_version": "1.5.0",
            "_model_name": "FloatProgressModel",
            "_view_count": null,
            "_view_module": "@jupyter-widgets/controls",
            "_view_module_version": "1.5.0",
            "_view_name": "ProgressView",
            "bar_style": "success",
            "description": "",
            "description_tooltip": null,
            "layout": "IPY_MODEL_4e5580ecba0e4860b1bfaa3d54f0bb87",
            "max": 287,
            "min": 0,
            "orientation": "horizontal",
            "style": "IPY_MODEL_27c0041d38b44ae49596add796083c63",
            "value": 287
          }
        },
        "a80ef22a0c694035bd35f0e570312354": {
          "model_module": "@jupyter-widgets/controls",
          "model_name": "HTMLModel",
          "model_module_version": "1.5.0",
          "state": {
            "_dom_classes": [],
            "_model_module": "@jupyter-widgets/controls",
            "_model_module_version": "1.5.0",
            "_model_name": "HTMLModel",
            "_view_count": null,
            "_view_module": "@jupyter-widgets/controls",
            "_view_module_version": "1.5.0",
            "_view_name": "HTMLView",
            "description": "",
            "description_tooltip": null,
            "layout": "IPY_MODEL_f813bceb700c443fbafb1fe6419e2d91",
            "placeholder": "​",
            "style": "IPY_MODEL_4b43ef0a032f4060a451bd301c824db2",
            "value": " 287/287 [00:00&lt;00:00, 21.9kB/s]"
          }
        },
        "b4b46a40c8bb4ef28332b8b3d7d7f710": {
          "model_module": "@jupyter-widgets/base",
          "model_name": "LayoutModel",
          "model_module_version": "1.2.0",
          "state": {
            "_model_module": "@jupyter-widgets/base",
            "_model_module_version": "1.2.0",
            "_model_name": "LayoutModel",
            "_view_count": null,
            "_view_module": "@jupyter-widgets/base",
            "_view_module_version": "1.2.0",
            "_view_name": "LayoutView",
            "align_content": null,
            "align_items": null,
            "align_self": null,
            "border": null,
            "bottom": null,
            "display": null,
            "flex": null,
            "flex_flow": null,
            "grid_area": null,
            "grid_auto_columns": null,
            "grid_auto_flow": null,
            "grid_auto_rows": null,
            "grid_column": null,
            "grid_gap": null,
            "grid_row": null,
            "grid_template_areas": null,
            "grid_template_columns": null,
            "grid_template_rows": null,
            "height": null,
            "justify_content": null,
            "justify_items": null,
            "left": null,
            "margin": null,
            "max_height": null,
            "max_width": null,
            "min_height": null,
            "min_width": null,
            "object_fit": null,
            "object_position": null,
            "order": null,
            "overflow": null,
            "overflow_x": null,
            "overflow_y": null,
            "padding": null,
            "right": null,
            "top": null,
            "visibility": null,
            "width": null
          }
        },
        "9b1c002f7b154875b4d2c7471825cda3": {
          "model_module": "@jupyter-widgets/base",
          "model_name": "LayoutModel",
          "model_module_version": "1.2.0",
          "state": {
            "_model_module": "@jupyter-widgets/base",
            "_model_module_version": "1.2.0",
            "_model_name": "LayoutModel",
            "_view_count": null,
            "_view_module": "@jupyter-widgets/base",
            "_view_module_version": "1.2.0",
            "_view_name": "LayoutView",
            "align_content": null,
            "align_items": null,
            "align_self": null,
            "border": null,
            "bottom": null,
            "display": null,
            "flex": null,
            "flex_flow": null,
            "grid_area": null,
            "grid_auto_columns": null,
            "grid_auto_flow": null,
            "grid_auto_rows": null,
            "grid_column": null,
            "grid_gap": null,
            "grid_row": null,
            "grid_template_areas": null,
            "grid_template_columns": null,
            "grid_template_rows": null,
            "height": null,
            "justify_content": null,
            "justify_items": null,
            "left": null,
            "margin": null,
            "max_height": null,
            "max_width": null,
            "min_height": null,
            "min_width": null,
            "object_fit": null,
            "object_position": null,
            "order": null,
            "overflow": null,
            "overflow_x": null,
            "overflow_y": null,
            "padding": null,
            "right": null,
            "top": null,
            "visibility": null,
            "width": null
          }
        },
        "a6060e9fe1a8482da719b9af67e026f4": {
          "model_module": "@jupyter-widgets/controls",
          "model_name": "DescriptionStyleModel",
          "model_module_version": "1.5.0",
          "state": {
            "_model_module": "@jupyter-widgets/controls",
            "_model_module_version": "1.5.0",
            "_model_name": "DescriptionStyleModel",
            "_view_count": null,
            "_view_module": "@jupyter-widgets/base",
            "_view_module_version": "1.2.0",
            "_view_name": "StyleView",
            "description_width": ""
          }
        },
        "4e5580ecba0e4860b1bfaa3d54f0bb87": {
          "model_module": "@jupyter-widgets/base",
          "model_name": "LayoutModel",
          "model_module_version": "1.2.0",
          "state": {
            "_model_module": "@jupyter-widgets/base",
            "_model_module_version": "1.2.0",
            "_model_name": "LayoutModel",
            "_view_count": null,
            "_view_module": "@jupyter-widgets/base",
            "_view_module_version": "1.2.0",
            "_view_name": "LayoutView",
            "align_content": null,
            "align_items": null,
            "align_self": null,
            "border": null,
            "bottom": null,
            "display": null,
            "flex": null,
            "flex_flow": null,
            "grid_area": null,
            "grid_auto_columns": null,
            "grid_auto_flow": null,
            "grid_auto_rows": null,
            "grid_column": null,
            "grid_gap": null,
            "grid_row": null,
            "grid_template_areas": null,
            "grid_template_columns": null,
            "grid_template_rows": null,
            "height": null,
            "justify_content": null,
            "justify_items": null,
            "left": null,
            "margin": null,
            "max_height": null,
            "max_width": null,
            "min_height": null,
            "min_width": null,
            "object_fit": null,
            "object_position": null,
            "order": null,
            "overflow": null,
            "overflow_x": null,
            "overflow_y": null,
            "padding": null,
            "right": null,
            "top": null,
            "visibility": null,
            "width": null
          }
        },
        "27c0041d38b44ae49596add796083c63": {
          "model_module": "@jupyter-widgets/controls",
          "model_name": "ProgressStyleModel",
          "model_module_version": "1.5.0",
          "state": {
            "_model_module": "@jupyter-widgets/controls",
            "_model_module_version": "1.5.0",
            "_model_name": "ProgressStyleModel",
            "_view_count": null,
            "_view_module": "@jupyter-widgets/base",
            "_view_module_version": "1.2.0",
            "_view_name": "StyleView",
            "bar_color": null,
            "description_width": ""
          }
        },
        "f813bceb700c443fbafb1fe6419e2d91": {
          "model_module": "@jupyter-widgets/base",
          "model_name": "LayoutModel",
          "model_module_version": "1.2.0",
          "state": {
            "_model_module": "@jupyter-widgets/base",
            "_model_module_version": "1.2.0",
            "_model_name": "LayoutModel",
            "_view_count": null,
            "_view_module": "@jupyter-widgets/base",
            "_view_module_version": "1.2.0",
            "_view_name": "LayoutView",
            "align_content": null,
            "align_items": null,
            "align_self": null,
            "border": null,
            "bottom": null,
            "display": null,
            "flex": null,
            "flex_flow": null,
            "grid_area": null,
            "grid_auto_columns": null,
            "grid_auto_flow": null,
            "grid_auto_rows": null,
            "grid_column": null,
            "grid_gap": null,
            "grid_row": null,
            "grid_template_areas": null,
            "grid_template_columns": null,
            "grid_template_rows": null,
            "height": null,
            "justify_content": null,
            "justify_items": null,
            "left": null,
            "margin": null,
            "max_height": null,
            "max_width": null,
            "min_height": null,
            "min_width": null,
            "object_fit": null,
            "object_position": null,
            "order": null,
            "overflow": null,
            "overflow_x": null,
            "overflow_y": null,
            "padding": null,
            "right": null,
            "top": null,
            "visibility": null,
            "width": null
          }
        },
        "4b43ef0a032f4060a451bd301c824db2": {
          "model_module": "@jupyter-widgets/controls",
          "model_name": "DescriptionStyleModel",
          "model_module_version": "1.5.0",
          "state": {
            "_model_module": "@jupyter-widgets/controls",
            "_model_module_version": "1.5.0",
            "_model_name": "DescriptionStyleModel",
            "_view_count": null,
            "_view_module": "@jupyter-widgets/base",
            "_view_module_version": "1.2.0",
            "_view_name": "StyleView",
            "description_width": ""
          }
        },
        "146c2ffad16a4a3b810a1f197b2ecf74": {
          "model_module": "@jupyter-widgets/controls",
          "model_name": "HBoxModel",
          "model_module_version": "1.5.0",
          "state": {
            "_dom_classes": [],
            "_model_module": "@jupyter-widgets/controls",
            "_model_module_version": "1.5.0",
            "_model_name": "HBoxModel",
            "_view_count": null,
            "_view_module": "@jupyter-widgets/controls",
            "_view_module_version": "1.5.0",
            "_view_name": "HBoxView",
            "box_style": "",
            "children": [
              "IPY_MODEL_39a015c6c33b411da753f3526caac8d9",
              "IPY_MODEL_0d7b0fe792f545a3bf0ef0ee87ff172e",
              "IPY_MODEL_ab280224c50c4e4c866e311ba96285d1"
            ],
            "layout": "IPY_MODEL_6452b1fc0d7f4783b4b7011257808575"
          }
        },
        "39a015c6c33b411da753f3526caac8d9": {
          "model_module": "@jupyter-widgets/controls",
          "model_name": "HTMLModel",
          "model_module_version": "1.5.0",
          "state": {
            "_dom_classes": [],
            "_model_module": "@jupyter-widgets/controls",
            "_model_module_version": "1.5.0",
            "_model_name": "HTMLModel",
            "_view_count": null,
            "_view_module": "@jupyter-widgets/controls",
            "_view_module_version": "1.5.0",
            "_view_name": "HTMLView",
            "description": "",
            "description_tooltip": null,
            "layout": "IPY_MODEL_f2d3865a82b1441998601618e41fb0ad",
            "placeholder": "​",
            "style": "IPY_MODEL_b7adf1e6b64f453b93c475c1e938fad9",
            "value": "Downloading (…)lve/main/config.json: 100%"
          }
        },
        "0d7b0fe792f545a3bf0ef0ee87ff172e": {
          "model_module": "@jupyter-widgets/controls",
          "model_name": "FloatProgressModel",
          "model_module_version": "1.5.0",
          "state": {
            "_dom_classes": [],
            "_model_module": "@jupyter-widgets/controls",
            "_model_module_version": "1.5.0",
            "_model_name": "FloatProgressModel",
            "_view_count": null,
            "_view_module": "@jupyter-widgets/controls",
            "_view_module_version": "1.5.0",
            "_view_name": "ProgressView",
            "bar_style": "success",
            "description": "",
            "description_tooltip": null,
            "layout": "IPY_MODEL_27fb71f3792d465293f90fb6159b045c",
            "max": 1080,
            "min": 0,
            "orientation": "horizontal",
            "style": "IPY_MODEL_c4fa639ebb924dc3ba46acabbf39d4f0",
            "value": 1080
          }
        },
        "ab280224c50c4e4c866e311ba96285d1": {
          "model_module": "@jupyter-widgets/controls",
          "model_name": "HTMLModel",
          "model_module_version": "1.5.0",
          "state": {
            "_dom_classes": [],
            "_model_module": "@jupyter-widgets/controls",
            "_model_module_version": "1.5.0",
            "_model_name": "HTMLModel",
            "_view_count": null,
            "_view_module": "@jupyter-widgets/controls",
            "_view_module_version": "1.5.0",
            "_view_name": "HTMLView",
            "description": "",
            "description_tooltip": null,
            "layout": "IPY_MODEL_a0c742279769406084d9bb53e4d0b5f7",
            "placeholder": "​",
            "style": "IPY_MODEL_04b294d4e6fb4e86a95c352871ab1d45",
            "value": " 1.08k/1.08k [00:00&lt;00:00, 83.5kB/s]"
          }
        },
        "6452b1fc0d7f4783b4b7011257808575": {
          "model_module": "@jupyter-widgets/base",
          "model_name": "LayoutModel",
          "model_module_version": "1.2.0",
          "state": {
            "_model_module": "@jupyter-widgets/base",
            "_model_module_version": "1.2.0",
            "_model_name": "LayoutModel",
            "_view_count": null,
            "_view_module": "@jupyter-widgets/base",
            "_view_module_version": "1.2.0",
            "_view_name": "LayoutView",
            "align_content": null,
            "align_items": null,
            "align_self": null,
            "border": null,
            "bottom": null,
            "display": null,
            "flex": null,
            "flex_flow": null,
            "grid_area": null,
            "grid_auto_columns": null,
            "grid_auto_flow": null,
            "grid_auto_rows": null,
            "grid_column": null,
            "grid_gap": null,
            "grid_row": null,
            "grid_template_areas": null,
            "grid_template_columns": null,
            "grid_template_rows": null,
            "height": null,
            "justify_content": null,
            "justify_items": null,
            "left": null,
            "margin": null,
            "max_height": null,
            "max_width": null,
            "min_height": null,
            "min_width": null,
            "object_fit": null,
            "object_position": null,
            "order": null,
            "overflow": null,
            "overflow_x": null,
            "overflow_y": null,
            "padding": null,
            "right": null,
            "top": null,
            "visibility": null,
            "width": null
          }
        },
        "f2d3865a82b1441998601618e41fb0ad": {
          "model_module": "@jupyter-widgets/base",
          "model_name": "LayoutModel",
          "model_module_version": "1.2.0",
          "state": {
            "_model_module": "@jupyter-widgets/base",
            "_model_module_version": "1.2.0",
            "_model_name": "LayoutModel",
            "_view_count": null,
            "_view_module": "@jupyter-widgets/base",
            "_view_module_version": "1.2.0",
            "_view_name": "LayoutView",
            "align_content": null,
            "align_items": null,
            "align_self": null,
            "border": null,
            "bottom": null,
            "display": null,
            "flex": null,
            "flex_flow": null,
            "grid_area": null,
            "grid_auto_columns": null,
            "grid_auto_flow": null,
            "grid_auto_rows": null,
            "grid_column": null,
            "grid_gap": null,
            "grid_row": null,
            "grid_template_areas": null,
            "grid_template_columns": null,
            "grid_template_rows": null,
            "height": null,
            "justify_content": null,
            "justify_items": null,
            "left": null,
            "margin": null,
            "max_height": null,
            "max_width": null,
            "min_height": null,
            "min_width": null,
            "object_fit": null,
            "object_position": null,
            "order": null,
            "overflow": null,
            "overflow_x": null,
            "overflow_y": null,
            "padding": null,
            "right": null,
            "top": null,
            "visibility": null,
            "width": null
          }
        },
        "b7adf1e6b64f453b93c475c1e938fad9": {
          "model_module": "@jupyter-widgets/controls",
          "model_name": "DescriptionStyleModel",
          "model_module_version": "1.5.0",
          "state": {
            "_model_module": "@jupyter-widgets/controls",
            "_model_module_version": "1.5.0",
            "_model_name": "DescriptionStyleModel",
            "_view_count": null,
            "_view_module": "@jupyter-widgets/base",
            "_view_module_version": "1.2.0",
            "_view_name": "StyleView",
            "description_width": ""
          }
        },
        "27fb71f3792d465293f90fb6159b045c": {
          "model_module": "@jupyter-widgets/base",
          "model_name": "LayoutModel",
          "model_module_version": "1.2.0",
          "state": {
            "_model_module": "@jupyter-widgets/base",
            "_model_module_version": "1.2.0",
            "_model_name": "LayoutModel",
            "_view_count": null,
            "_view_module": "@jupyter-widgets/base",
            "_view_module_version": "1.2.0",
            "_view_name": "LayoutView",
            "align_content": null,
            "align_items": null,
            "align_self": null,
            "border": null,
            "bottom": null,
            "display": null,
            "flex": null,
            "flex_flow": null,
            "grid_area": null,
            "grid_auto_columns": null,
            "grid_auto_flow": null,
            "grid_auto_rows": null,
            "grid_column": null,
            "grid_gap": null,
            "grid_row": null,
            "grid_template_areas": null,
            "grid_template_columns": null,
            "grid_template_rows": null,
            "height": null,
            "justify_content": null,
            "justify_items": null,
            "left": null,
            "margin": null,
            "max_height": null,
            "max_width": null,
            "min_height": null,
            "min_width": null,
            "object_fit": null,
            "object_position": null,
            "order": null,
            "overflow": null,
            "overflow_x": null,
            "overflow_y": null,
            "padding": null,
            "right": null,
            "top": null,
            "visibility": null,
            "width": null
          }
        },
        "c4fa639ebb924dc3ba46acabbf39d4f0": {
          "model_module": "@jupyter-widgets/controls",
          "model_name": "ProgressStyleModel",
          "model_module_version": "1.5.0",
          "state": {
            "_model_module": "@jupyter-widgets/controls",
            "_model_module_version": "1.5.0",
            "_model_name": "ProgressStyleModel",
            "_view_count": null,
            "_view_module": "@jupyter-widgets/base",
            "_view_module_version": "1.2.0",
            "_view_name": "StyleView",
            "bar_color": null,
            "description_width": ""
          }
        },
        "a0c742279769406084d9bb53e4d0b5f7": {
          "model_module": "@jupyter-widgets/base",
          "model_name": "LayoutModel",
          "model_module_version": "1.2.0",
          "state": {
            "_model_module": "@jupyter-widgets/base",
            "_model_module_version": "1.2.0",
            "_model_name": "LayoutModel",
            "_view_count": null,
            "_view_module": "@jupyter-widgets/base",
            "_view_module_version": "1.2.0",
            "_view_name": "LayoutView",
            "align_content": null,
            "align_items": null,
            "align_self": null,
            "border": null,
            "bottom": null,
            "display": null,
            "flex": null,
            "flex_flow": null,
            "grid_area": null,
            "grid_auto_columns": null,
            "grid_auto_flow": null,
            "grid_auto_rows": null,
            "grid_column": null,
            "grid_gap": null,
            "grid_row": null,
            "grid_template_areas": null,
            "grid_template_columns": null,
            "grid_template_rows": null,
            "height": null,
            "justify_content": null,
            "justify_items": null,
            "left": null,
            "margin": null,
            "max_height": null,
            "max_width": null,
            "min_height": null,
            "min_width": null,
            "object_fit": null,
            "object_position": null,
            "order": null,
            "overflow": null,
            "overflow_x": null,
            "overflow_y": null,
            "padding": null,
            "right": null,
            "top": null,
            "visibility": null,
            "width": null
          }
        },
        "04b294d4e6fb4e86a95c352871ab1d45": {
          "model_module": "@jupyter-widgets/controls",
          "model_name": "DescriptionStyleModel",
          "model_module_version": "1.5.0",
          "state": {
            "_model_module": "@jupyter-widgets/controls",
            "_model_module_version": "1.5.0",
            "_model_name": "DescriptionStyleModel",
            "_view_count": null,
            "_view_module": "@jupyter-widgets/base",
            "_view_module_version": "1.2.0",
            "_view_name": "StyleView",
            "description_width": ""
          }
        },
        "464e60ec6ab84eb7aca15c4f9409e168": {
          "model_module": "@jupyter-widgets/controls",
          "model_name": "HBoxModel",
          "model_module_version": "1.5.0",
          "state": {
            "_dom_classes": [],
            "_model_module": "@jupyter-widgets/controls",
            "_model_module_version": "1.5.0",
            "_model_name": "HBoxModel",
            "_view_count": null,
            "_view_module": "@jupyter-widgets/controls",
            "_view_module_version": "1.5.0",
            "_view_name": "HBoxView",
            "box_style": "",
            "children": [
              "IPY_MODEL_998c945dc6134e60b6eb3f3eb606abc7",
              "IPY_MODEL_0243409c358a4a0ba688b8295f6c5947",
              "IPY_MODEL_7c25cc60cce8492c82c83456b9356090"
            ],
            "layout": "IPY_MODEL_d0a7ea1a4ffe4ddf92b0d5c07d1815ad"
          }
        },
        "998c945dc6134e60b6eb3f3eb606abc7": {
          "model_module": "@jupyter-widgets/controls",
          "model_name": "HTMLModel",
          "model_module_version": "1.5.0",
          "state": {
            "_dom_classes": [],
            "_model_module": "@jupyter-widgets/controls",
            "_model_module_version": "1.5.0",
            "_model_name": "HTMLModel",
            "_view_count": null,
            "_view_module": "@jupyter-widgets/controls",
            "_view_module_version": "1.5.0",
            "_view_name": "HTMLView",
            "description": "",
            "description_tooltip": null,
            "layout": "IPY_MODEL_12f0452324544113bf9ab4c4afc7eee5",
            "placeholder": "​",
            "style": "IPY_MODEL_b2b90142c0c248af8fcfd63296d52d01",
            "value": "Downloading model.safetensors: 100%"
          }
        },
        "0243409c358a4a0ba688b8295f6c5947": {
          "model_module": "@jupyter-widgets/controls",
          "model_name": "FloatProgressModel",
          "model_module_version": "1.5.0",
          "state": {
            "_dom_classes": [],
            "_model_module": "@jupyter-widgets/controls",
            "_model_module_version": "1.5.0",
            "_model_name": "FloatProgressModel",
            "_view_count": null,
            "_view_module": "@jupyter-widgets/controls",
            "_view_module_version": "1.5.0",
            "_view_name": "ProgressView",
            "bar_style": "success",
            "description": "",
            "description_tooltip": null,
            "layout": "IPY_MODEL_1b5e976203ae47498010ee388971cfae",
            "max": 3468579524,
            "min": 0,
            "orientation": "horizontal",
            "style": "IPY_MODEL_be7d8af59dec41659b28f295b6303753",
            "value": 3468579524
          }
        },
        "7c25cc60cce8492c82c83456b9356090": {
          "model_module": "@jupyter-widgets/controls",
          "model_name": "HTMLModel",
          "model_module_version": "1.5.0",
          "state": {
            "_dom_classes": [],
            "_model_module": "@jupyter-widgets/controls",
            "_model_module_version": "1.5.0",
            "_model_name": "HTMLModel",
            "_view_count": null,
            "_view_module": "@jupyter-widgets/controls",
            "_view_module_version": "1.5.0",
            "_view_name": "HTMLView",
            "description": "",
            "description_tooltip": null,
            "layout": "IPY_MODEL_12f68e9155664e4fb2b8c984868a5532",
            "placeholder": "​",
            "style": "IPY_MODEL_857dc0df17174aa9b10add39d58fceb4",
            "value": " 3.47G/3.47G [00:28&lt;00:00, 149MB/s]"
          }
        },
        "d0a7ea1a4ffe4ddf92b0d5c07d1815ad": {
          "model_module": "@jupyter-widgets/base",
          "model_name": "LayoutModel",
          "model_module_version": "1.2.0",
          "state": {
            "_model_module": "@jupyter-widgets/base",
            "_model_module_version": "1.2.0",
            "_model_name": "LayoutModel",
            "_view_count": null,
            "_view_module": "@jupyter-widgets/base",
            "_view_module_version": "1.2.0",
            "_view_name": "LayoutView",
            "align_content": null,
            "align_items": null,
            "align_self": null,
            "border": null,
            "bottom": null,
            "display": null,
            "flex": null,
            "flex_flow": null,
            "grid_area": null,
            "grid_auto_columns": null,
            "grid_auto_flow": null,
            "grid_auto_rows": null,
            "grid_column": null,
            "grid_gap": null,
            "grid_row": null,
            "grid_template_areas": null,
            "grid_template_columns": null,
            "grid_template_rows": null,
            "height": null,
            "justify_content": null,
            "justify_items": null,
            "left": null,
            "margin": null,
            "max_height": null,
            "max_width": null,
            "min_height": null,
            "min_width": null,
            "object_fit": null,
            "object_position": null,
            "order": null,
            "overflow": null,
            "overflow_x": null,
            "overflow_y": null,
            "padding": null,
            "right": null,
            "top": null,
            "visibility": null,
            "width": null
          }
        },
        "12f0452324544113bf9ab4c4afc7eee5": {
          "model_module": "@jupyter-widgets/base",
          "model_name": "LayoutModel",
          "model_module_version": "1.2.0",
          "state": {
            "_model_module": "@jupyter-widgets/base",
            "_model_module_version": "1.2.0",
            "_model_name": "LayoutModel",
            "_view_count": null,
            "_view_module": "@jupyter-widgets/base",
            "_view_module_version": "1.2.0",
            "_view_name": "LayoutView",
            "align_content": null,
            "align_items": null,
            "align_self": null,
            "border": null,
            "bottom": null,
            "display": null,
            "flex": null,
            "flex_flow": null,
            "grid_area": null,
            "grid_auto_columns": null,
            "grid_auto_flow": null,
            "grid_auto_rows": null,
            "grid_column": null,
            "grid_gap": null,
            "grid_row": null,
            "grid_template_areas": null,
            "grid_template_columns": null,
            "grid_template_rows": null,
            "height": null,
            "justify_content": null,
            "justify_items": null,
            "left": null,
            "margin": null,
            "max_height": null,
            "max_width": null,
            "min_height": null,
            "min_width": null,
            "object_fit": null,
            "object_position": null,
            "order": null,
            "overflow": null,
            "overflow_x": null,
            "overflow_y": null,
            "padding": null,
            "right": null,
            "top": null,
            "visibility": null,
            "width": null
          }
        },
        "b2b90142c0c248af8fcfd63296d52d01": {
          "model_module": "@jupyter-widgets/controls",
          "model_name": "DescriptionStyleModel",
          "model_module_version": "1.5.0",
          "state": {
            "_model_module": "@jupyter-widgets/controls",
            "_model_module_version": "1.5.0",
            "_model_name": "DescriptionStyleModel",
            "_view_count": null,
            "_view_module": "@jupyter-widgets/base",
            "_view_module_version": "1.2.0",
            "_view_name": "StyleView",
            "description_width": ""
          }
        },
        "1b5e976203ae47498010ee388971cfae": {
          "model_module": "@jupyter-widgets/base",
          "model_name": "LayoutModel",
          "model_module_version": "1.2.0",
          "state": {
            "_model_module": "@jupyter-widgets/base",
            "_model_module_version": "1.2.0",
            "_model_name": "LayoutModel",
            "_view_count": null,
            "_view_module": "@jupyter-widgets/base",
            "_view_module_version": "1.2.0",
            "_view_name": "LayoutView",
            "align_content": null,
            "align_items": null,
            "align_self": null,
            "border": null,
            "bottom": null,
            "display": null,
            "flex": null,
            "flex_flow": null,
            "grid_area": null,
            "grid_auto_columns": null,
            "grid_auto_flow": null,
            "grid_auto_rows": null,
            "grid_column": null,
            "grid_gap": null,
            "grid_row": null,
            "grid_template_areas": null,
            "grid_template_columns": null,
            "grid_template_rows": null,
            "height": null,
            "justify_content": null,
            "justify_items": null,
            "left": null,
            "margin": null,
            "max_height": null,
            "max_width": null,
            "min_height": null,
            "min_width": null,
            "object_fit": null,
            "object_position": null,
            "order": null,
            "overflow": null,
            "overflow_x": null,
            "overflow_y": null,
            "padding": null,
            "right": null,
            "top": null,
            "visibility": null,
            "width": null
          }
        },
        "be7d8af59dec41659b28f295b6303753": {
          "model_module": "@jupyter-widgets/controls",
          "model_name": "ProgressStyleModel",
          "model_module_version": "1.5.0",
          "state": {
            "_model_module": "@jupyter-widgets/controls",
            "_model_module_version": "1.5.0",
            "_model_name": "ProgressStyleModel",
            "_view_count": null,
            "_view_module": "@jupyter-widgets/base",
            "_view_module_version": "1.2.0",
            "_view_name": "StyleView",
            "bar_color": null,
            "description_width": ""
          }
        },
        "12f68e9155664e4fb2b8c984868a5532": {
          "model_module": "@jupyter-widgets/base",
          "model_name": "LayoutModel",
          "model_module_version": "1.2.0",
          "state": {
            "_model_module": "@jupyter-widgets/base",
            "_model_module_version": "1.2.0",
            "_model_name": "LayoutModel",
            "_view_count": null,
            "_view_module": "@jupyter-widgets/base",
            "_view_module_version": "1.2.0",
            "_view_name": "LayoutView",
            "align_content": null,
            "align_items": null,
            "align_self": null,
            "border": null,
            "bottom": null,
            "display": null,
            "flex": null,
            "flex_flow": null,
            "grid_area": null,
            "grid_auto_columns": null,
            "grid_auto_flow": null,
            "grid_auto_rows": null,
            "grid_column": null,
            "grid_gap": null,
            "grid_row": null,
            "grid_template_areas": null,
            "grid_template_columns": null,
            "grid_template_rows": null,
            "height": null,
            "justify_content": null,
            "justify_items": null,
            "left": null,
            "margin": null,
            "max_height": null,
            "max_width": null,
            "min_height": null,
            "min_width": null,
            "object_fit": null,
            "object_position": null,
            "order": null,
            "overflow": null,
            "overflow_x": null,
            "overflow_y": null,
            "padding": null,
            "right": null,
            "top": null,
            "visibility": null,
            "width": null
          }
        },
        "857dc0df17174aa9b10add39d58fceb4": {
          "model_module": "@jupyter-widgets/controls",
          "model_name": "DescriptionStyleModel",
          "model_module_version": "1.5.0",
          "state": {
            "_model_module": "@jupyter-widgets/controls",
            "_model_module_version": "1.5.0",
            "_model_name": "DescriptionStyleModel",
            "_view_count": null,
            "_view_module": "@jupyter-widgets/base",
            "_view_module_version": "1.2.0",
            "_view_name": "StyleView",
            "description_width": ""
          }
        }
      }
    }
  },
  "cells": [
    {
      "cell_type": "markdown",
      "source": [
        "# Task"
      ],
      "metadata": {
        "id": "-Eh2ngZc1doE"
      }
    },
    {
      "cell_type": "markdown",
      "source": [
        "Реализовать суммаризацию текста\n",
        "\n",
        "Взять тот же датасет, который был на вебинаре и предобученную модель для задачи суммаризации.\n",
        "Проверить насколько хорошо она суммаризирует\n",
        "\n",
        "Сделать генерацию заголовков для статьи (обучить модель для генерации заголовков)"
      ],
      "metadata": {
        "id": "acxQmI3uTyTD"
      }
    },
    {
      "cell_type": "code",
      "execution_count": 1,
      "metadata": {
        "colab": {
          "base_uri": "https://localhost:8080/"
        },
        "id": "YDg4DqsnFhbg",
        "outputId": "b91394db-f06f-45a4-c8b2-fc1649b0f35f"
      },
      "outputs": [
        {
          "output_type": "stream",
          "name": "stdout",
          "text": [
            "\u001b[2K     \u001b[90m━━━━━━━━━━━━━━━━━━━━━━━━━━━━━━━━━━━━━━━━\u001b[0m \u001b[32m7.6/7.6 MB\u001b[0m \u001b[31m23.5 MB/s\u001b[0m eta \u001b[36m0:00:00\u001b[0m\n",
            "\u001b[2K     \u001b[90m━━━━━━━━━━━━━━━━━━━━━━━━━━━━━━━━━━━━━━\u001b[0m \u001b[32m294.8/294.8 kB\u001b[0m \u001b[31m32.7 MB/s\u001b[0m eta \u001b[36m0:00:00\u001b[0m\n",
            "\u001b[2K     \u001b[90m━━━━━━━━━━━━━━━━━━━━━━━━━━━━━━━━━━━━━━━━\u001b[0m \u001b[32m7.8/7.8 MB\u001b[0m \u001b[31m60.2 MB/s\u001b[0m eta \u001b[36m0:00:00\u001b[0m\n",
            "\u001b[2K     \u001b[90m━━━━━━━━━━━━━━━━━━━━━━━━━━━━━━━━━━━━━━━━\u001b[0m \u001b[32m1.3/1.3 MB\u001b[0m \u001b[31m59.8 MB/s\u001b[0m eta \u001b[36m0:00:00\u001b[0m\n",
            "\u001b[2K     \u001b[90m━━━━━━━━━━━━━━━━━━━━━━━━━━━━━━━━━━━━━━━━\u001b[0m \u001b[32m55.5/55.5 kB\u001b[0m \u001b[31m1.7 MB/s\u001b[0m eta \u001b[36m0:00:00\u001b[0m\n",
            "\u001b[2K     \u001b[90m━━━━━━━━━━━━━━━━━━━━━━━━━━━━━━━━━━━━━━━━\u001b[0m \u001b[32m8.2/8.2 MB\u001b[0m \u001b[31m25.0 MB/s\u001b[0m eta \u001b[36m0:00:00\u001b[0m\n",
            "\u001b[?25h  Preparing metadata (setup.py) ... \u001b[?25l\u001b[?25hdone\n",
            "  Building wheel for docopt (setup.py) ... \u001b[?25l\u001b[?25hdone\n"
          ]
        }
      ],
      "source": [
        "!pip install -q transformers\n",
        "!pip install -q pymorphy2"
      ]
    },
    {
      "cell_type": "code",
      "source": [
        "!wget -q https://www.dropbox.com/s/43l702z5a5i2w8j/gazeta_train.txt\n",
        "!wget -q https://www.dropbox.com/s/k2egt3sug0hb185/gazeta_val.txt\n",
        "!wget -q https://www.dropbox.com/s/3gki5n5djs9w0v6/gazeta_test.txt"
      ],
      "metadata": {
        "id": "ti31NjXkqPwZ"
      },
      "execution_count": 2,
      "outputs": []
    },
    {
      "cell_type": "code",
      "source": [
        "!ls"
      ],
      "metadata": {
        "colab": {
          "base_uri": "https://localhost:8080/"
        },
        "id": "RABOjmAHqXLU",
        "outputId": "6b9906f6-98bb-423c-b4f9-b71308d61cae"
      },
      "execution_count": 3,
      "outputs": [
        {
          "output_type": "stream",
          "name": "stdout",
          "text": [
            "gazeta_test.txt  gazeta_train.txt  gazeta_val.txt  sample_data\n"
          ]
        }
      ]
    },
    {
      "cell_type": "code",
      "source": [
        "!pip install razdel networkx pymorphy2[fast] nltk rouge==0.3.1 summa lexrank sumy\n",
        "!pip install --upgrade datasets razdel spacy networkx seaborn scipy tqdm tensorflow-text\n",
        "!python -m spacy download ru_core_news_md"
      ],
      "metadata": {
        "id": "ER9dGpO-qZEV"
      },
      "execution_count": null,
      "outputs": []
    },
    {
      "cell_type": "code",
      "source": [
        "import json\n",
        "import spacy\n",
        "import random\n",
        "import razdel\n",
        "import pymorphy2\n",
        "import matplotlib.pyplot as plt\n",
        "from datasets import load_dataset\n",
        "from collections import Counter, namedtuple"
      ],
      "metadata": {
        "id": "mYhz21pbqjRe"
      },
      "execution_count": 5,
      "outputs": []
    },
    {
      "cell_type": "markdown",
      "source": [
        "## EDA"
      ],
      "metadata": {
        "id": "9fVIDWp3sCzl"
      }
    },
    {
      "cell_type": "code",
      "source": [
        "!head -n 1 gazeta_train.txt\n",
        "!cat gazeta_train.txt | wc -l\n",
        "!cat gazeta_val.txt | wc -l\n",
        "!cat gazeta_test.txt | wc -l"
      ],
      "metadata": {
        "colab": {
          "base_uri": "https://localhost:8080/"
        },
        "id": "26QfyFArrQ2u",
        "outputId": "215f53c4-1744-4f71-f5c8-0dce6c86d4b9"
      },
      "execution_count": 6,
      "outputs": [
        {
          "output_type": "stream",
          "name": "stdout",
          "text": [
            "{\"url\": \"https://www.gazeta.ru/financial/2011/11/30/3852658.shtml\", \"text\": \"«По итогам 2011 года чистый отток может составить примерно $80 млрд, в следующем году — около $20 млрд. При этом мы ожидаем, что со второго полугодия 2012 года начнется приток капитала», — заявил «Интерфаксу» замминистра экономического развития Андрей Клепач. Официальные прогнозы по выводу капитала из России становятся все пессимистичными: еще летом власти полагали, что из страны уйдет не более $35 млрд, в сентябре Минэкономразвития назвал цифру $50 млрд, в начале ноября Центробанк пересмотрел оценку до $70 млрд. Очередное изменение прогноза было ожидаемо: по расчетам Центробанка , за январь — октябрь чистый отток капитала достиг $64 млрд, причем в последние месяцы он ускорился: в сентябре он составил $14 млрд, в октябре — $13 млрд против среднего ежемесячного оттока в $6—8 млрд в первом полугодии. «После октябрьских данных Минэкономразвития вынуждено было изменить оценку, настаивать на $70 млрд означало ожидать серьезного замедления оттока капитала на непонятно каких причинах», — говорит главный экономист BNP Paribas Юлия Цепляева. «В последние два месяца отток капитала ускорится, на декабрь приходится значительная часть выплат по внешним долгам, что приводит к усилению оттока, особенно если они не рефинансируются новыми кредитами», — соглашается главный экономист ФК «Открытие» Владимир Тихомиров. Прогнозируемый Минэкономразвития отток капитала — один из самых высоких за последние 20 лет. Больше ушло лишь в 2008 году на фоне разрастания финансового кризиса и российско-грузинской войны — $133,7 млрд. В кризисный 2009 год из России утекло $56,1 млрд. Главный фактор ускорения оттока капитала в 2011 году — нестабильность на внешних финансовых рынках и рост опасений относительно второй волны рецессии. «Это реакция на неуверенность, которую генерирует Европа с долговыми проблемами. В случае новой волны глобальной турбулентности Россия — одна из самых уязвимых стран», — говорит Цепляева. Еще одна причина — ослабление рубля. «Привлекательность вложений снижается на фоне того, что рубль перестал укрепляться, а ставки по депозитам достаточно низкие. В результате экспортеры не полностью возвращают экспортную выручку», — говорит Тихомиров. Внутри страны эксперты не видят особых причин для бегства капитала. «Ситуация выглядит достаточно позитивно, очень хорошие макроэкономические результаты за год, особенно на фоне других стран. С политической точки зрения все достаточно понятно и предсказуемо, итог выборов очевиден», — говорит экономист ИК «Тройка Диалог» Антон Струченевский. Тем не менее политический фактор играет роль. «Бизнесу важно не только, кто будет президентом, он ждет ясности с перестановками в правительстве. В наших условиях административный ресурс важнее всего для успешности бизнеса», — говорит Цепляева, добавляя, что отток капитала продолжится до завершения президентских выборов.\", \"title\": \"Прогноз не успевает за оттоком\", \"summary\": \"В 2011 году из России уйдет $80 млрд, считают в Минэкономразвития. Менее месяца назад Центробанк давал оценку $70 млрд, повысив первоначальный прогноз вдвое. Отток капитала из страны усиливается из-за кризиса в Европе, а в декабре российским компаниям выплачивать внешние долги. На движение капитала повлияли и выборы: несмотря на их предсказуемость, бизнес хочет ясности с перестановками в правительстве.\", \"date\": \"2011-11-30 18:33:39\"}\n",
            "52400\n",
            "5265\n",
            "5770\n"
          ]
        }
      ]
    },
    {
      "cell_type": "code",
      "source": [
        "def read_gazeta_records(file_name, shuffle=True, sort_by_date=False):\n",
        "    assert shuffle != sort_by_date\n",
        "    records = []\n",
        "    with open(file_name, \"r\") as r:\n",
        "        for line in r:\n",
        "            records.append(json.loads(line))\n",
        "    if sort_by_date:\n",
        "        records.sort(key=lambda x: x[\"date\"])\n",
        "    if shuffle:\n",
        "        random.shuffle\n",
        "    return records"
      ],
      "metadata": {
        "id": "8A3ha7fVsJq_"
      },
      "execution_count": 7,
      "outputs": []
    },
    {
      "cell_type": "code",
      "source": [
        "train_records = read_gazeta_records(\"gazeta_train.txt\")\n",
        "val_records = read_gazeta_records(\"gazeta_val.txt\")\n",
        "test_records = read_gazeta_records(\"gazeta_test.txt\")"
      ],
      "metadata": {
        "id": "0qgdmEZdscLX"
      },
      "execution_count": 8,
      "outputs": []
    },
    {
      "cell_type": "code",
      "source": [
        "test_records[0]"
      ],
      "metadata": {
        "colab": {
          "base_uri": "https://localhost:8080/"
        },
        "id": "GnQj2md6sg1T",
        "outputId": "7bb56f94-c54f-4dbc-98ec-cbfc65f9b95e"
      },
      "execution_count": 9,
      "outputs": [
        {
          "output_type": "execute_result",
          "data": {
            "text/plain": [
              "{'url': 'https://www.gazeta.ru/science/2020/02/14_a_12960289.shtml',\n",
              " 'text': 'Американское аэрокосмическое агентство NASA огласило названия четырех космических миссий, которые в скором времени могут быть выбраны для реализации и запуск которых может состояться уже в конце этого десятилетия. Эти четыре проекта стали полуфиналистами конкурса, объявленного среди американских научных команд, в котором участвовало более десяти миссий. Все они были отобраны по критериям потенциальной пользы для науки и технической осуществимости проекта. В рамках программы Discovery NASA занимается планированием миссий, которые призваны дать ответы на фундаментальные вопросы о происхождении тел Солнечной системы и возможному наличию жизни на них. «Эти выбранные миссии могут трансформировать наше восприятие некоторых из наиболее активных и сложных миров в Солнечной системе, — заявил Томас Зурбучен, помощник директора NASA по науке. — Исследование каждого из этих небесных тел поможет раскрыть секреты о том, как они и им подобные объекты образовались в космосе». Каждый проект из выбранных полуфиналистов получит $3 млн на проработку концепции. Из четырех выбранных проектов NASA планирует отобрать две в 2021 году, чтобы профинансировать работу по их реализации в рамках программы Discovery. Два из четырех проектов посвящены исследованию Венеры, куда аппараты NASA не отправлялись уже свыше тридцати лет — с 1989 года, когда к этой планете был запущен зонд Magellan. Миссия VERITAS ( Venus Emissivity, Radio Science, InSAR, Topography, and Spectroscopy) призвана картировать поверхность Венеры для лучшего понимания геологической истории планеты и получения ответа на вопрос о причинах ее кардинальных отличий от Земли. Карта будет построена при помощи радара, установленного на орбитальном аппарате. В ходе миссии планируется узнать, продолжаются ли в наши дни на Венере тектонические и вулканические процессы. Кроме того, планируется картировать поверхность планеты в инфракрасном диапазоне. Миссия DAVINCI+ (Deep Atmosphere Venus Investigation of Noble gases, Chemistry and Imaging Plus) задумана для того, чтобы исследовать состав атмосферы Венеры, понять, как она формировалась и эволюционировала в прошлом, и ответить на вопрос о существовании когда-либо на планете жидкого океана. Сделать это планируется при помощи спускаемого аппарата, который будет проводить измерения от верхних слоев атмосферы до самой поверхности. Научные инструменты аппарата будут размещены внутри герметичного сферического корпуса, который должен защитить их от разрушительного воздействия высокой температуры атмосферы. + в названии миссии говорит о наличии в ее составе камер, которые будут присутствовать на борту орбитального и спускаемого аппаратов. «Проект DAVINCI+ пересекается по целям с российской миссией «Венера-Д», обе нацелены на посадку, поэтому в будущем возможно их совмещение в одном совместном проекте», — сказал «Газете.Ru» основатель проекта «Открытый космос» Виталий Егоров. Миссия TRIDENT должна исследовать Тритон — ледяной спутник Нептуна, известный ученым своей активностью. Данные, полученные американским зондом Voyager 2, показали, что поверхность Тритона активно обновляется. Ученые считают, что Тритон, на котором выпадает «снег» из органических веществ, может оказаться отличной целью для понимания вопросов происхождения аналогичных тел в Солнечной системе. Пролетев мимо Тритона, аппарат попытается картировать его поверхность, изучить активные процессы на его поверхности и определить, есть ли под его поверхностью жидкий океан. Миссия IVO (Io Volcano Observer) должна направиться к одному из самых интересных спутников Юпитера — Ио. Это тело с наиболее мощной вулканической активностью в Солнечной системе, которая поддерживается за счет мощного приливного воздействия со стороны Юпитера. Во время нескольких близких пролетов аппарат выяснит, как формируется лава на поверхности спутника.',\n",
              " 'title': 'Венера, Ио или Тритон: куда полетит NASA',\n",
              " 'summary': 'В NASA назвали четыре миссии в дальний космос, которые в этом десятилетии могут быть запущены американцами. Среди них — две миссии по изучению Венеры, полет к спутнику Юпитера и экспедиция к Тритону, спутнику Нептуна.',\n",
              " 'date': '2020-02-14 16:39:11'}"
            ]
          },
          "metadata": {},
          "execution_count": 9
        }
      ]
    },
    {
      "cell_type": "code",
      "source": [
        "train_records[0].keys()"
      ],
      "metadata": {
        "colab": {
          "base_uri": "https://localhost:8080/"
        },
        "id": "fdOZ4ZMVsocK",
        "outputId": "ee1a0aa6-805c-4dde-fe35-a30a2d344893"
      },
      "execution_count": 10,
      "outputs": [
        {
          "output_type": "execute_result",
          "data": {
            "text/plain": [
              "dict_keys(['url', 'text', 'title', 'summary', 'date'])"
            ]
          },
          "metadata": {},
          "execution_count": 10
        }
      ]
    },
    {
      "cell_type": "code",
      "source": [
        "print(min([record[\"date\"] for record in train_records]), end=' - ')\n",
        "print(max([record[\"date\"] for record in train_records]))\n",
        "print(min([record[\"date\"] for record in val_records]), end=' - ')\n",
        "print(max([record[\"date\"] for record in val_records]))\n",
        "print(min([record[\"date\"] for record in test_records]), end=' - ')\n",
        "print(max([record[\"date\"] for record in test_records]))"
      ],
      "metadata": {
        "colab": {
          "base_uri": "https://localhost:8080/"
        },
        "id": "jeYms1ynsuZ9",
        "outputId": "1f0e98b1-455a-4392-e33d-625acc93db62"
      },
      "execution_count": 11,
      "outputs": [
        {
          "output_type": "stream",
          "name": "stdout",
          "text": [
            "2010-06-01 10:35:49 - 2019-05-31 23:56:26\n",
            "2019-06-01 08:30:00 - 2019-09-30 23:11:23\n",
            "2019-10-01 08:23:02 - 2020-03-23 22:16:23\n"
          ]
        }
      ]
    },
    {
      "cell_type": "code",
      "source": [
        "Stats = namedtuple(\"Stats\", \"vocabulary,lemma_vocabulary, words_counts, unique_words_counts\")\n",
        "\n",
        "def collect_stats(records, lower=True, text_max_words=3000, summary_max_words=100, nrows=1000):\n",
        "    morph = pymorphy2.MorphAnalyzer()\n",
        "\n",
        "    text_stats = Stats(Counter(),  Counter(), list(), list())\n",
        "    summary_stats = Stats(Counter(),  Counter(), list(), list())\n",
        "\n",
        "    def update_record_field_stats(field, stats, max_words):\n",
        "        words = [word.text for word in razdel.tokenize(field)][:max_words]\n",
        "        lemmas = [morph.parse(word)[0].normal_form for word in words]\n",
        "        stats.vocabulary.update(words)\n",
        "        stats.lemma_vocabulary.update(lemmas)\n",
        "        stats.words_counts.append(len(words))\n",
        "        stats.unique_words_counts.append(len(set(words)))\n",
        "\n",
        "    for i, record in enumerate(records):\n",
        "        if i >= nrows:\n",
        "            break\n",
        "        text = record[\"text\"]\n",
        "        text = text if not lower else text.lower()\n",
        "        update_record_field_stats(text, text_stats, text_max_words)\n",
        "\n",
        "        summary = record[\"summary\"]\n",
        "        summary = summary if not lower else summary.lower()\n",
        "        summary_words = [word.text for word in razdel.tokenize(summary)]\n",
        "        update_record_field_stats(summary, summary_stats, summary_max_words)\n",
        "    return text_stats, summary_stats"
      ],
      "metadata": {
        "id": "rawCPr8Cs8yR"
      },
      "execution_count": 12,
      "outputs": []
    },
    {
      "cell_type": "code",
      "source": [
        "train_text_stats, train_summary_stats = collect_stats(train_records)\n",
        "print(\"Train texts vocabulary size: \", len(train_text_stats.vocabulary))\n",
        "print(\"Train texts lemma vocabulary size: \", len(train_text_stats.lemma_vocabulary))\n",
        "print(\"Train summaries vocabulary size: \", len(train_summary_stats.vocabulary))\n",
        "print(\"Train summaries lemma vocabulary size: \", len(train_summary_stats.lemma_vocabulary))\n",
        "print(\"Train common lemmas summary vs text: \", len(set(train_text_stats.lemma_vocabulary.keys()) & set(train_summary_stats.lemma_vocabulary.keys())))"
      ],
      "metadata": {
        "colab": {
          "base_uri": "https://localhost:8080/"
        },
        "id": "ta-C6tKNtimz",
        "outputId": "18da962e-7c3c-40b2-9ab3-799a8f3cb6e7"
      },
      "execution_count": 13,
      "outputs": [
        {
          "output_type": "stream",
          "name": "stdout",
          "text": [
            "Train texts vocabulary size:  82978\n",
            "Train texts lemma vocabulary size:  37851\n",
            "Train summaries vocabulary size:  15441\n",
            "Train summaries lemma vocabulary size:  9030\n",
            "Train common lemmas summary vs text:  8652\n"
          ]
        }
      ]
    },
    {
      "cell_type": "code",
      "source": [
        "fig, axs = plt.subplots(1, 2, figsize=(20, 5))\n",
        "axs[0].hist(train_text_stats.words_counts, 20)\n",
        "axs[0].set_title('# Words in texts')\n",
        "\n",
        "axs[1].hist(train_summary_stats.words_counts, 20)\n",
        "axs[1].set_title('# Words in summary')\n",
        "plt.show()"
      ],
      "metadata": {
        "colab": {
          "base_uri": "https://localhost:8080/",
          "height": 407
        },
        "id": "zmOsnyFitotK",
        "outputId": "654ca2e9-94d6-482e-94e5-d6b922769dfd"
      },
      "execution_count": 14,
      "outputs": [
        {
          "output_type": "display_data",
          "data": {
            "text/plain": [
              "<Figure size 2000x500 with 2 Axes>"
            ],
            "image/png": "[encoded data removed]"
          },
          "metadata": {}
        }
      ]
    },
    {
      "cell_type": "markdown",
      "source": [
        "## Luhn method"
      ],
      "metadata": {
        "id": "yJRjqEA6w3Fe"
      }
    },
    {
      "cell_type": "code",
      "source": [
        "# Список частей речи, которые мы не хотим считать значимыми\n",
        "# Подбирался на глаз\n",
        "BAD_POS = (\"PREP\", \"NPRO\", \"CONJ\", \"PRCL\", \"NUMR\", \"PRED\", \"INTJ\", \"PUNCT\", \"CCONJ\", \"ADP\", \"DET\", \"ADV\")\n",
        "\n",
        "# Загрузка модели для частеречной разметки\n",
        "spacy_model = spacy.load(\"ru_core_news_md\")\n",
        "\n",
        "\n",
        "# Метод для разбиения текста на предложения\n",
        "def sentenize(text):\n",
        "    return [s.text for s in razdel.sentenize(text)]\n",
        "\n",
        "\n",
        "# Метод для токенизации предложения\n",
        "def tokenize_sentence(sentence):\n",
        "    sentence = sentence.strip().replace(\"\\xa0\", \"\")\n",
        "    tokens = [token.lemma_ for token in spacy_model(sentence) if token.pos_ not in BAD_POS]\n",
        "    tokens = [token for token in tokens if len(token) > 2]\n",
        "    return tokens\n",
        "\n",
        "\n",
        "# Метод для токенизации всего текста\n",
        "def tokenize_text(text):\n",
        "    all_tokens = []\n",
        "    for sentence in sentenize(text):\n",
        "        all_tokens.extend(tokenize_sentence(sentence))\n",
        "    return all_tokens\n",
        "\n",
        "\n",
        "# Пример работы обоих методов\n",
        "text = test_records[0][\"text\"]\n",
        "sentences = sentenize(text)\n",
        "print(tokenize_sentence(sentences[0]))\n",
        "print(tokenize_text(text))"
      ],
      "metadata": {
        "colab": {
          "base_uri": "https://localhost:8080/"
        },
        "id": "pQwWeJ1Bxg0-",
        "outputId": "aa454a57-ebdd-4de4-bb5a-0bfed24a713b"
      },
      "execution_count": 15,
      "outputs": [
        {
          "output_type": "stream",
          "name": "stdout",
          "text": [
            "['американский', 'аэрокосмический', 'агентство', 'nasa', 'огласить', 'название', 'четыре', 'космический', 'миссия', 'которые', 'скорый', 'время', 'мочь', 'быть', 'выбрать', 'реализация', 'запуск', 'которых', 'мочь', 'состояться', 'конец', 'десятилетие']\n",
            "['американский', 'аэрокосмический', 'агентство', 'nasa', 'огласить', 'название', 'четыре', 'космический', 'миссия', 'которые', 'скорый', 'время', 'мочь', 'быть', 'выбрать', 'реализация', 'запуск', 'которых', 'мочь', 'состояться', 'конец', 'десятилетие', 'четыре', 'проект', 'стать', 'полуфиналист', 'конкурс', 'объявить', 'американский', 'научный', 'команда', 'котором', 'участвовать', 'десять', 'миссия', 'они', 'были', 'отобрать', 'критерий', 'потенциальный', 'польза', 'наука', 'технический', 'осуществимость', 'проект', 'рамка', 'программа', 'discovery', 'nasa', 'заниматься', 'планирование', 'миссия', 'которые', 'призваны', 'дать', 'ответ', 'фундаментальный', 'вопрос', 'происхождение', 'тело', 'солнечный', 'система', 'возможный', 'наличие', 'жизнь', 'них', 'выбрать', 'миссия', 'мочь', 'трансформировать', 'восприятие', 'активный', 'сложный', 'мир', 'солнечный', 'система', 'заявить', 'томас', 'зурбучен', 'помощник', 'директор', 'nasa', 'наука', 'исследование', 'небесный', 'тело', 'помочь', 'раскрыть', 'секрет', 'том', 'они', 'подобный', 'объект', 'образоваться', 'космос', 'проект', 'выбрать', 'полуфиналист', 'получить', 'млн', 'проработка', 'концепция', 'четыре', 'выбрать', 'проект', 'nasa', 'планировать', 'отобрать', 'два', '2021', 'год', 'чтобы', 'профинансировать', 'работа', 'реализация', 'рамка', 'программа', 'discovery', 'два', 'четыре', 'проект', 'посвятить', 'исследование', 'венера', 'аппарат', 'nasa', 'отправляться', 'тридцать', 'год', '1989', 'год', 'планета', 'быть', 'запустить', 'зонд', 'magellan', 'миссия', 'veritas', 'venus', 'emissivity', 'radio', 'science', 'insar', 'topography', 'and', 'spectroscopy', 'призвана', 'картировать', 'поверхность', 'венера', 'хороший', 'понимание', 'геологический', 'история', 'планета', 'получение', 'ответ', 'вопрос', 'причина', 'кардинальный', 'отличие', 'земля', 'карта', 'быть', 'построить', 'помощь', 'радар', 'установить', 'орбитальный', 'аппарат', 'ход', 'миссия', 'планироваться', 'узнать', 'продолжаться', 'день', 'венера', 'тектонический', 'вулканический', 'процесс', 'того', 'планироваться', 'картировать', 'поверхность', 'планета', 'инфракрасный', 'диапазон', 'миссия', 'davinci+', 'deep', 'atmosphere', 'venus', 'investigation', 'noble', 'gases', 'chemistry', 'and', 'imaging', 'plus', 'задумать', 'того', 'чтобы', 'исследовать', 'состав', 'атмосфера', 'венера', 'понять', 'она', 'формироваться', 'эволюционировать', 'прошлое', 'ответить', 'вопрос', 'существование', 'планета', 'жидкий', 'океан', 'сделать', 'это', 'планироваться', 'помощь', 'спускаемого', 'аппарат', 'который', 'быть', 'проводить', 'измерение', 'верхний', 'слой', 'атмосфера', 'самой', 'поверхность', 'научный', 'инструмент', 'аппарат', 'быть', 'разместить', 'герметичный', 'сферический', 'корпус', 'который', 'должный', 'защитить', 'разрушительный', 'воздействие', 'высокий', 'температура', 'атмосфера', 'название', 'миссия', 'говорить', 'наличие', 'состав', 'камера', 'которые', 'быть', 'присутствовать', 'борт', 'орбитальный', 'спускаемого', 'аппарат', 'проект', 'davinci+', 'пересекаться', 'цель', 'российский', 'миссия', 'венера', 'оба', 'нацелить', 'посадка', 'будущее', 'возможный', 'совмещение', 'одном', 'совместный', 'проект', 'сказать', 'газета', 'основатель', 'проект', 'открытый', 'космос', 'виталий', 'егоров', 'миссия', 'trident', 'должный', 'исследовать', 'тритон', 'ледяной', 'спутник', 'нептун', 'известный', 'учёный', 'активность', 'данные', 'получить', 'американский', 'зонд', 'voyager', 'показать', 'что', 'поверхность', 'тритон', 'обновляться', 'учёный', 'считать', 'что', 'тритон', 'котором', 'выпадать', 'снег', 'органический', 'вещество', 'мочь', 'оказаться', 'отличный', 'цель', 'понимание', 'вопрос', 'происхождение', 'аналогичный', 'тело', 'солнечный', 'система', 'пролететь', 'тритон', 'аппарат', 'попытаться', 'картировать', 'поверхность', 'изучить', 'активный', 'процесс', 'поверхность', 'определить', 'быть', 'поверхность', 'жидкий', 'океан', 'миссия', 'ivo', 'volcano', 'observer', 'должный', 'направиться', 'одному', 'самых', 'интересный', 'спутник', 'юпитер', 'тело', 'мощный', 'вулканический', 'активность', 'солнечный', 'система', 'которая', 'поддерживаться', 'счёт', 'мощный', 'приливный', 'воздействие', 'сторона', 'юпитер', 'время', 'несколько', 'близкий', 'пролёт', 'аппарат', 'выяснить', 'формироваться', 'лава', 'поверхность', 'спутник']\n"
          ]
        }
      ]
    },
    {
      "cell_type": "code",
      "source": [
        "class LuhnSummarizer:\n",
        "    \"\"\"\n",
        "    Метод Луна.\n",
        "    Основано на https://github.com/miso-belica/sumy/blob/main/sumy/summarizers/luhn.py\n",
        "    Оригинальная статья: https://courses.ischool.berkeley.edu/i256/f06/papers/luhn58.pdf\n",
        "    \"\"\"\n",
        "    def __init__(\n",
        "        self,\n",
        "        significant_percentage = 0.4, # 40% самых частотных токенов мы считаем значимыми.\n",
        "        min_token_freq = 2, # Кроме того, слова должны встречаться минимум 2 раза.\n",
        "        max_gap_size = 4, # Максимальное количество подряд идущих незначимых токенов в промежутках.\n",
        "        verbose = False # Отладочный вывод для наглядности.\n",
        "    ):\n",
        "        self.significant_percentage = significant_percentage\n",
        "        self.min_token_freq = min_token_freq\n",
        "        self.max_gap_size = max_gap_size\n",
        "        self.chunk_ending_mask = [0] * self.max_gap_size\n",
        "        self.verbose = verbose\n",
        "\n",
        "    def __call__(self, text, target_sentences_count):\n",
        "        # Считаем значимые токены.\n",
        "        all_significant_tokens = self._get_significant_tokens(text)\n",
        "        if self.verbose:\n",
        "            print(\"Значимые токены: \", all_significant_tokens)\n",
        "\n",
        "        # Считаем значимости предложений.\n",
        "        ratings = []\n",
        "        for sentence_index, sentence in enumerate(sentenize(text)):\n",
        "            # Значимость предложений - максимум из значимостей промежутков.\n",
        "            sentence_rating = max(self._get_chunk_ratings(sentence, all_significant_tokens))\n",
        "            if self.verbose:\n",
        "                print(\"\\tПРЕДЛОЖЕНИЕ. Значимость: {}, текст: {}\".format(sentence_rating, sentence))\n",
        "            ratings.append((sentence_rating, sentence_index))\n",
        "\n",
        "        # Сортируем предложения по значимости.\n",
        "        ratings.sort(reverse=True)\n",
        "\n",
        "        # Оставляем топовые и собираем реферат.\n",
        "        ratings = ratings[:target_sentences_count]\n",
        "        indices = [index for _, index in ratings]\n",
        "        indices.sort()\n",
        "        return \" \".join([sentences[index] for index in indices])\n",
        "\n",
        "    def _get_significant_tokens(self, text):\n",
        "        \"\"\" Метод для подсчёта того, какие токены являются значимыми. \"\"\"\n",
        "        tokens_counter = Counter(tokenize_text(text))\n",
        "        significant_tokens_max_count = int(len(tokens_counter) * self.significant_percentage)\n",
        "        significant_tokens = tokens_counter.most_common(significant_tokens_max_count)\n",
        "        significant_tokens = {token for token, cnt in significant_tokens if cnt >= self.min_token_freq}\n",
        "        return significant_tokens\n",
        "\n",
        "    def _get_chunk_ratings(self, sentence, significant_tokens):\n",
        "        \"\"\" Разбиваем предложение на промежтуки и считаем их значимости. \"\"\"\n",
        "\n",
        "        tokens = tokenize_sentence(sentence)\n",
        "\n",
        "        chunks, masks = [], []\n",
        "        in_chunk = False\n",
        "        for token in tokens:\n",
        "            is_significant_token = token in significant_tokens\n",
        "\n",
        "            if is_significant_token and not in_chunk:\n",
        "                in_chunk = True\n",
        "                masks.append([int(is_significant_token)])\n",
        "                chunks.append([token])\n",
        "            elif in_chunk:\n",
        "                last_mask = masks[-1]\n",
        "                last_mask.append(int(is_significant_token))\n",
        "                last_chunk = chunks[-1]\n",
        "                last_chunk.append(token)\n",
        "            if not chunks:\n",
        "                continue\n",
        "\n",
        "            # Проверяем на наличие 4 подряд идущих незначимых токенов.\n",
        "            # Если встретили - завершаем промежуток.\n",
        "            last_chunk_ending_mask = masks[-1][-self.max_gap_size:]\n",
        "            if last_chunk_ending_mask == self.chunk_ending_mask:\n",
        "                in_chunk = False\n",
        "\n",
        "        ratings = []\n",
        "        for chunk, mask in zip(chunks, masks):\n",
        "            rating = self._get_chunk_rating(mask, chunk)\n",
        "            ratings.append(rating)\n",
        "        return ratings\n",
        "\n",
        "    def _get_chunk_rating(self, original_mask, chunk):\n",
        "        \"\"\" Подсчёт значимости одного промежутка \"\"\"\n",
        "\n",
        "        # Убираем незначимые токены в конце промежутка\n",
        "        original_mask = \"\".join(map(str, original_mask))\n",
        "        mask = original_mask.rstrip(\"0\")\n",
        "\n",
        "        end_index = original_mask.rfind(\"1\") + 1\n",
        "        chunk = chunk[:end_index]\n",
        "        assert len(mask) == len(chunk)\n",
        "        chunk = \" \".join(chunk)\n",
        "\n",
        "        # Считаем значимость\n",
        "        words_count = len(mask)\n",
        "        assert words_count > 0\n",
        "        significant_words_count = mask.count(\"1\")\n",
        "        assert significant_words_count > 0\n",
        "\n",
        "        rating = significant_words_count * significant_words_count / words_count\n",
        "        if self.verbose:\n",
        "            print(\"ПРОМЕЖУТОК. Значимость: {}, маска: {}, текст: {}\".format(rating, mask, chunk))\n",
        "        return rating"
      ],
      "metadata": {
        "id": "0CVJ7-EHyTX0"
      },
      "execution_count": 16,
      "outputs": []
    },
    {
      "cell_type": "code",
      "source": [
        "luhn = LuhnSummarizer(verbose=False)\n",
        "summary = luhn(text, 3)\n",
        "\n",
        "print()\n",
        "print(\"Текст: {}\".format(test_records[0][\"text\"]))\n",
        "print(\"Итоговый реферат: {}\".format(summary))\n",
        "print(\"Правильный реферат: {}\".format(test_records[0][\"summary\"]))"
      ],
      "metadata": {
        "colab": {
          "base_uri": "https://localhost:8080/"
        },
        "id": "x0OE5fVVylZo",
        "outputId": "9f9257ec-7eb2-4498-f4f1-d473ea5d3d91"
      },
      "execution_count": 17,
      "outputs": [
        {
          "output_type": "stream",
          "name": "stdout",
          "text": [
            "\n",
            "Текст: Американское аэрокосмическое агентство NASA огласило названия четырех космических миссий, которые в скором времени могут быть выбраны для реализации и запуск которых может состояться уже в конце этого десятилетия. Эти четыре проекта стали полуфиналистами конкурса, объявленного среди американских научных команд, в котором участвовало более десяти миссий. Все они были отобраны по критериям потенциальной пользы для науки и технической осуществимости проекта. В рамках программы Discovery NASA занимается планированием миссий, которые призваны дать ответы на фундаментальные вопросы о происхождении тел Солнечной системы и возможному наличию жизни на них. «Эти выбранные миссии могут трансформировать наше восприятие некоторых из наиболее активных и сложных миров в Солнечной системе, — заявил Томас Зурбучен, помощник директора NASA по науке. — Исследование каждого из этих небесных тел поможет раскрыть секреты о том, как они и им подобные объекты образовались в космосе». Каждый проект из выбранных полуфиналистов получит $3 млн на проработку концепции. Из четырех выбранных проектов NASA планирует отобрать две в 2021 году, чтобы профинансировать работу по их реализации в рамках программы Discovery. Два из четырех проектов посвящены исследованию Венеры, куда аппараты NASA не отправлялись уже свыше тридцати лет — с 1989 года, когда к этой планете был запущен зонд Magellan. Миссия VERITAS ( Venus Emissivity, Radio Science, InSAR, Topography, and Spectroscopy) призвана картировать поверхность Венеры для лучшего понимания геологической истории планеты и получения ответа на вопрос о причинах ее кардинальных отличий от Земли. Карта будет построена при помощи радара, установленного на орбитальном аппарате. В ходе миссии планируется узнать, продолжаются ли в наши дни на Венере тектонические и вулканические процессы. Кроме того, планируется картировать поверхность планеты в инфракрасном диапазоне. Миссия DAVINCI+ (Deep Atmosphere Venus Investigation of Noble gases, Chemistry and Imaging Plus) задумана для того, чтобы исследовать состав атмосферы Венеры, понять, как она формировалась и эволюционировала в прошлом, и ответить на вопрос о существовании когда-либо на планете жидкого океана. Сделать это планируется при помощи спускаемого аппарата, который будет проводить измерения от верхних слоев атмосферы до самой поверхности. Научные инструменты аппарата будут размещены внутри герметичного сферического корпуса, который должен защитить их от разрушительного воздействия высокой температуры атмосферы. + в названии миссии говорит о наличии в ее составе камер, которые будут присутствовать на борту орбитального и спускаемого аппаратов. «Проект DAVINCI+ пересекается по целям с российской миссией «Венера-Д», обе нацелены на посадку, поэтому в будущем возможно их совмещение в одном совместном проекте», — сказал «Газете.Ru» основатель проекта «Открытый космос» Виталий Егоров. Миссия TRIDENT должна исследовать Тритон — ледяной спутник Нептуна, известный ученым своей активностью. Данные, полученные американским зондом Voyager 2, показали, что поверхность Тритона активно обновляется. Ученые считают, что Тритон, на котором выпадает «снег» из органических веществ, может оказаться отличной целью для понимания вопросов происхождения аналогичных тел в Солнечной системе. Пролетев мимо Тритона, аппарат попытается картировать его поверхность, изучить активные процессы на его поверхности и определить, есть ли под его поверхностью жидкий океан. Миссия IVO (Io Volcano Observer) должна направиться к одному из самых интересных спутников Юпитера — Ио. Это тело с наиболее мощной вулканической активностью в Солнечной системе, которая поддерживается за счет мощного приливного воздействия со стороны Юпитера. Во время нескольких близких пролетов аппарат выяснит, как формируется лава на поверхности спутника.\n",
            "Итоговый реферат: В рамках программы Discovery NASA занимается планированием миссий, которые призваны дать ответы на фундаментальные вопросы о происхождении тел Солнечной системы и возможному наличию жизни на них. Из четырех выбранных проектов NASA планирует отобрать две в 2021 году, чтобы профинансировать работу по их реализации в рамках программы Discovery. Пролетев мимо Тритона, аппарат попытается картировать его поверхность, изучить активные процессы на его поверхности и определить, есть ли под его поверхностью жидкий океан.\n",
            "Правильный реферат: В NASA назвали четыре миссии в дальний космос, которые в этом десятилетии могут быть запущены американцами. Среди них — две миссии по изучению Венеры, полет к спутнику Юпитера и экспедиция к Тритону, спутнику Нептуна.\n"
          ]
        }
      ]
    },
    {
      "cell_type": "markdown",
      "source": [
        "## mBART huggingface"
      ],
      "metadata": {
        "id": "h509tH2q15Aw"
      }
    },
    {
      "cell_type": "code",
      "source": [
        "!pip install sentencepiece"
      ],
      "metadata": {
        "colab": {
          "base_uri": "https://localhost:8080/"
        },
        "id": "5wakrt3q3vKU",
        "outputId": "b38c431d-ae98-4baa-c379-a3b6b73089ed"
      },
      "execution_count": 18,
      "outputs": [
        {
          "output_type": "stream",
          "name": "stdout",
          "text": [
            "Collecting sentencepiece\n",
            "  Downloading sentencepiece-0.1.99-cp310-cp310-manylinux_2_17_x86_64.manylinux2014_x86_64.whl (1.3 MB)\n",
            "\u001b[2K     \u001b[90m━━━━━━━━━━━━━━━━━━━━━━━━━━━━━━━━━━━━━━━━\u001b[0m \u001b[32m1.3/1.3 MB\u001b[0m \u001b[31m10.8 MB/s\u001b[0m eta \u001b[36m0:00:00\u001b[0m\n",
            "\u001b[?25hInstalling collected packages: sentencepiece\n",
            "Successfully installed sentencepiece-0.1.99\n"
          ]
        }
      ]
    },
    {
      "cell_type": "markdown",
      "source": [
        "Возьмём предобученную модель с сайта huggingface.co"
      ],
      "metadata": {
        "id": "XBvS9OnQhQkk"
      }
    },
    {
      "cell_type": "code",
      "source": [
        "from transformers import MBartTokenizer, MBartForConditionalGeneration\n",
        "\n",
        "model_name = \"IlyaGusev/mbart_ru_sum_gazeta\"\n",
        "tokenizer = MBartTokenizer.from_pretrained(model_name)"
      ],
      "metadata": {
        "colab": {
          "base_uri": "https://localhost:8080/",
          "height": 145,
          "referenced_widgets": [
            "b7caa3819a764102a0d5ada6d255e426",
            "f5b8256a17694d7a88dc90773c70b161",
            "3b7649f995094db7ad7a4054ae86371b",
            "3bcb781f662246f4a00be18dc15c108a",
            "c08713c018b64349aad064c4f8d58ed9",
            "b4f2a177d46244a2814237bd69c4f7a4",
            "bf48def7721f45778186e21d6da26017",
            "ba23d09ab6e7405596ae4e65665ab122",
            "ded30fec9572437b889862e2ddeb77eb",
            "a06946cba8244b609b49de2d84550f2d",
            "57911428851a42999cd902bd2925cc55",
            "1ce0c80f324a4175b966fa165c828f21",
            "7198062596734430a36a0e1f3b2409b0",
            "43c0a666347c46199a9f2e63b71e2f70",
            "4b292f7984654a64a1d75f6f3153cb11",
            "91f3ef79444640c99e8114dd5ad215e8",
            "7baed3737da54c5ab80f2d491292cf1a",
            "a5d175b98a3d426f875013341db543d0",
            "81a66bd1107447f38e77b2291575afae",
            "7439ddb0135442e387a2eee77edb4ca7",
            "adf2cbfc67ee4074bdf673340b7d3e58",
            "644f8e4b226442788fb021131399c72c",
            "b20ceb5892354f16b3f8815ed5952548",
            "052d875ccd3b4df39f31df56db1184c2",
            "55453d1113df4fbcadd61a8cbb98a074",
            "a80ef22a0c694035bd35f0e570312354",
            "b4b46a40c8bb4ef28332b8b3d7d7f710",
            "9b1c002f7b154875b4d2c7471825cda3",
            "a6060e9fe1a8482da719b9af67e026f4",
            "4e5580ecba0e4860b1bfaa3d54f0bb87",
            "27c0041d38b44ae49596add796083c63",
            "f813bceb700c443fbafb1fe6419e2d91",
            "4b43ef0a032f4060a451bd301c824db2",
            "146c2ffad16a4a3b810a1f197b2ecf74",
            "39a015c6c33b411da753f3526caac8d9",
            "0d7b0fe792f545a3bf0ef0ee87ff172e",
            "ab280224c50c4e4c866e311ba96285d1",
            "6452b1fc0d7f4783b4b7011257808575",
            "f2d3865a82b1441998601618e41fb0ad",
            "b7adf1e6b64f453b93c475c1e938fad9",
            "27fb71f3792d465293f90fb6159b045c",
            "c4fa639ebb924dc3ba46acabbf39d4f0",
            "a0c742279769406084d9bb53e4d0b5f7",
            "04b294d4e6fb4e86a95c352871ab1d45"
          ]
        },
        "id": "LHmQZTZD21o5",
        "outputId": "29d29495-8f37-4870-c2e1-60843ee37083"
      },
      "execution_count": 19,
      "outputs": [
        {
          "output_type": "display_data",
          "data": {
            "text/plain": [
              "Downloading (…)tencepiece.bpe.model:   0%|          | 0.00/5.07M [00:00<?, ?B/s]"
            ],
            "application/vnd.jupyter.widget-view+json": {
              "version_major": 2,
              "version_minor": 0,
              "model_id": "b7caa3819a764102a0d5ada6d255e426"
            }
          },
          "metadata": {}
        },
        {
          "output_type": "display_data",
          "data": {
            "text/plain": [
              "Downloading (…)cial_tokens_map.json:   0%|          | 0.00/406 [00:00<?, ?B/s]"
            ],
            "application/vnd.jupyter.widget-view+json": {
              "version_major": 2,
              "version_minor": 0,
              "model_id": "1ce0c80f324a4175b966fa165c828f21"
            }
          },
          "metadata": {}
        },
        {
          "output_type": "display_data",
          "data": {
            "text/plain": [
              "Downloading (…)okenizer_config.json:   0%|          | 0.00/287 [00:00<?, ?B/s]"
            ],
            "application/vnd.jupyter.widget-view+json": {
              "version_major": 2,
              "version_minor": 0,
              "model_id": "b20ceb5892354f16b3f8815ed5952548"
            }
          },
          "metadata": {}
        },
        {
          "output_type": "display_data",
          "data": {
            "text/plain": [
              "Downloading (…)lve/main/config.json:   0%|          | 0.00/1.08k [00:00<?, ?B/s]"
            ],
            "application/vnd.jupyter.widget-view+json": {
              "version_major": 2,
              "version_minor": 0,
              "model_id": "146c2ffad16a4a3b810a1f197b2ecf74"
            }
          },
          "metadata": {}
        }
      ]
    },
    {
      "cell_type": "code",
      "source": [
        "model = MBartForConditionalGeneration.from_pretrained(model_name)\n",
        "model.to(\"cuda\")"
      ],
      "metadata": {
        "colab": {
          "base_uri": "https://localhost:8080/",
          "height": 984,
          "referenced_widgets": [
            "464e60ec6ab84eb7aca15c4f9409e168",
            "998c945dc6134e60b6eb3f3eb606abc7",
            "0243409c358a4a0ba688b8295f6c5947",
            "7c25cc60cce8492c82c83456b9356090",
            "d0a7ea1a4ffe4ddf92b0d5c07d1815ad",
            "12f0452324544113bf9ab4c4afc7eee5",
            "b2b90142c0c248af8fcfd63296d52d01",
            "1b5e976203ae47498010ee388971cfae",
            "be7d8af59dec41659b28f295b6303753",
            "12f68e9155664e4fb2b8c984868a5532",
            "857dc0df17174aa9b10add39d58fceb4"
          ]
        },
        "id": "Yi0fyXL7rC0Z",
        "outputId": "ba94b5b9-1c7c-4853-887e-a9af660829ba"
      },
      "execution_count": 20,
      "outputs": [
        {
          "output_type": "display_data",
          "data": {
            "text/plain": [
              "Downloading model.safetensors:   0%|          | 0.00/3.47G [00:00<?, ?B/s]"
            ],
            "application/vnd.jupyter.widget-view+json": {
              "version_major": 2,
              "version_minor": 0,
              "model_id": "464e60ec6ab84eb7aca15c4f9409e168"
            }
          },
          "metadata": {}
        },
        {
          "output_type": "execute_result",
          "data": {
            "text/plain": [
              "MBartForConditionalGeneration(\n",
              "  (model): MBartModel(\n",
              "    (shared): Embedding(250027, 1024, padding_idx=1)\n",
              "    (encoder): MBartEncoder(\n",
              "      (embed_tokens): Embedding(250027, 1024, padding_idx=1)\n",
              "      (embed_positions): MBartLearnedPositionalEmbedding(1026, 1024)\n",
              "      (layers): ModuleList(\n",
              "        (0-11): 12 x MBartEncoderLayer(\n",
              "          (self_attn): MBartAttention(\n",
              "            (k_proj): Linear(in_features=1024, out_features=1024, bias=True)\n",
              "            (v_proj): Linear(in_features=1024, out_features=1024, bias=True)\n",
              "            (q_proj): Linear(in_features=1024, out_features=1024, bias=True)\n",
              "            (out_proj): Linear(in_features=1024, out_features=1024, bias=True)\n",
              "          )\n",
              "          (self_attn_layer_norm): LayerNorm((1024,), eps=1e-05, elementwise_affine=True)\n",
              "          (activation_fn): GELUActivation()\n",
              "          (fc1): Linear(in_features=1024, out_features=4096, bias=True)\n",
              "          (fc2): Linear(in_features=4096, out_features=1024, bias=True)\n",
              "          (final_layer_norm): LayerNorm((1024,), eps=1e-05, elementwise_affine=True)\n",
              "        )\n",
              "      )\n",
              "      (layernorm_embedding): LayerNorm((1024,), eps=1e-05, elementwise_affine=True)\n",
              "      (layer_norm): LayerNorm((1024,), eps=1e-05, elementwise_affine=True)\n",
              "    )\n",
              "    (decoder): MBartDecoder(\n",
              "      (embed_tokens): Embedding(250027, 1024, padding_idx=1)\n",
              "      (embed_positions): MBartLearnedPositionalEmbedding(1026, 1024)\n",
              "      (layers): ModuleList(\n",
              "        (0-11): 12 x MBartDecoderLayer(\n",
              "          (self_attn): MBartAttention(\n",
              "            (k_proj): Linear(in_features=1024, out_features=1024, bias=True)\n",
              "            (v_proj): Linear(in_features=1024, out_features=1024, bias=True)\n",
              "            (q_proj): Linear(in_features=1024, out_features=1024, bias=True)\n",
              "            (out_proj): Linear(in_features=1024, out_features=1024, bias=True)\n",
              "          )\n",
              "          (activation_fn): GELUActivation()\n",
              "          (self_attn_layer_norm): LayerNorm((1024,), eps=1e-05, elementwise_affine=True)\n",
              "          (encoder_attn): MBartAttention(\n",
              "            (k_proj): Linear(in_features=1024, out_features=1024, bias=True)\n",
              "            (v_proj): Linear(in_features=1024, out_features=1024, bias=True)\n",
              "            (q_proj): Linear(in_features=1024, out_features=1024, bias=True)\n",
              "            (out_proj): Linear(in_features=1024, out_features=1024, bias=True)\n",
              "          )\n",
              "          (encoder_attn_layer_norm): LayerNorm((1024,), eps=1e-05, elementwise_affine=True)\n",
              "          (fc1): Linear(in_features=1024, out_features=4096, bias=True)\n",
              "          (fc2): Linear(in_features=4096, out_features=1024, bias=True)\n",
              "          (final_layer_norm): LayerNorm((1024,), eps=1e-05, elementwise_affine=True)\n",
              "        )\n",
              "      )\n",
              "      (layernorm_embedding): LayerNorm((1024,), eps=1e-05, elementwise_affine=True)\n",
              "      (layer_norm): LayerNorm((1024,), eps=1e-05, elementwise_affine=True)\n",
              "    )\n",
              "  )\n",
              "  (lm_head): Linear(in_features=1024, out_features=250027, bias=False)\n",
              ")"
            ]
          },
          "metadata": {},
          "execution_count": 20
        }
      ]
    },
    {
      "cell_type": "code",
      "source": [
        "article_text = test_records[0][\"text\"]\n",
        "input_ids = tokenizer(\n",
        "    [article_text],\n",
        "    max_length=600,\n",
        "    truncation=True,\n",
        "    return_tensors=\"pt\",\n",
        ")[\"input_ids\"].to(\"cuda\")\n",
        "print(input_ids)"
      ],
      "metadata": {
        "colab": {
          "base_uri": "https://localhost:8080/"
        },
        "id": "aAe3MHCwffIq",
        "outputId": "63c90e8b-c223-41a8-aeae-5461059a3155"
      },
      "execution_count": 21,
      "outputs": [
        {
          "output_type": "stream",
          "name": "stdout",
          "text": [
            "tensor([[     6, 230681,  34358, 227683, 204209,  13475, 153827,  40087, 128740,\n",
            "          14424,  22002,   2097, 181515, 216985,    244, 103499,    983,      4,\n",
            "           3837,     49,  18777,    130,  13686,   9072,   3505, 137302,    227,\n",
            "            518,  55735,     35, 119746,  12703,   3150,  54064,   2454,   3216,\n",
            "             49,  28804,   5434,  93643,   7330,   1114,      5,  68406,  97945,\n",
            "          30840,  28390, 200007,   7246,   1281,  78716,      4, 123928,   1270,\n",
            "          25514,  41374,    244, 193145,  31915,      4,     49,  33763, 210551,\n",
            "            197,   5138,  93643, 103499,    983,      5,   7762,   2792,   7638,\n",
            "            183,  42437,  14582,    129,  90870,  18419,  43346,  75819,  34512,\n",
            "          11514,    518,  33034,     35, 150738,    312, 117742,   1595,  11981,\n",
            "          30840,      5,    417,  23085,  41322, 156457,  40087, 188986,   6314,\n",
            "          36274,    130, 103499,    983,      4,   3837, 182830,    227,  89418,\n",
            "         190393,     29, 233719,   5145,  34819,    407,    591,   9685,  33394,\n",
            "          45073,     89,  78480,  29793,    336, 123517,  22937,     35,  23334,\n",
            "           1719,     29,  65181,   4256,  10094,     29,   5308,      5,     94,\n",
            "           9223,    640, 137302,   1874, 103499,   1993,   9072,  82847,  16833,\n",
            "          20946,  34526,  89443,    103,  59119,    424,  43993,   8604,   1196,\n",
            "             35, 241104,  11373,    559,     49,  29793,    336, 123517,  71405,\n",
            "              4,    292,  83694, 184340,  70259,  50738,  87645,      4, 184871,\n",
            "          53979,  40087,    129, 124603,      5,    292,  19832,  13390,  60303,\n",
            "          51559,    424,  20228, 101074,   1196,  78480, 101734, 219533,   1041,\n",
            "          77791,    227,    407,   2660,      4,    819,   2792,     35,   2431,\n",
            "         178245, 192135, 106333,   6878,     49, 164319,    103,   1251, 116220,\n",
            "           8921,    424, 137302,   1196, 200007,  59392,  32317,    222, 124459,\n",
            "          10168,     29,    591,  18954,    928, 236802,      5,   3743, 181515,\n",
            "         137302,   1196, 109596,  40087,   6314,  32302,      6,   7474, 107977,\n",
            "           6429,     49,  64371,   8165,      4,   3077,    591,  81660,  16833,\n",
            "          23262,    129,   1725,  55735,     49,  23085,  41322, 156457,      5,\n",
            "          55602,    424, 181515, 109596, 127815,    227, 130014,  20151,  87606,\n",
            "          63892,      4,  36182, 140833,  40087,     77, 166269,   6878,   3216,\n",
            "         212669,   3146,    526,   2351,    640,   4476,    292,    135,  13501,\n",
            "           2699,      4,   4222,    718,  10757,  47524,    226,   4387,     61,\n",
            "          59576,    210,  73999,   5695,   4523,     19,      5,  61398,  31126,\n",
            "          34237, 147891,     15, 133484,    241,  86811,   3760,     53,      4,\n",
            "           6436,  28745,      4,    360,  80478,      4,   4792,  87168,      4,\n",
            "            136,  24990,  49042, 137366,     16, 182830,     59,  29658,  16833,\n",
            "          67689,   9296,  87606,  63892,    518,  14357,    695, 220527, 180004,\n",
            "          31825,  42816, 209322,     35,  60787, 154669,     29,  13962,    407,\n",
            "          36717,    244,   4641, 207283,  34900, 154975,    312,    183,  30744,\n",
            "            546,      5, 157043,   3318,  93033,     59,    440,  40687,  22816,\n",
            "           1941,      4,  29514,   1270,     29,  17492,  33303, 131213,  49813,\n",
            "            103,      5,    417,  68642, 103499,   1993,   6314,  60407,  70294,\n",
            "              4, 235596,    989,   1656,     49,  28081,  15599,     29,  87606,\n",
            "          40980,  19674,  18149,  48837,     35, 158834,  48837,  23054,    227,\n",
            "              5,  36933,   2574,      4,   6314,  60407,  29658,  16833,  67689,\n",
            "           9296, 209322,     49,  45808,   1941,  87023,   2172, 184997,    103,\n",
            "              5,  61398,  31126,   6405,  56708,  17304,   1328,     15,   4657,\n",
            "           4517,   1913,    432, 157695, 133484, 125015,   1363,    111,    438,\n",
            "           2661, 106500,      4,  83230,  38904,    136,   3370,  66398,   8183,\n",
            "             16, 120762,    212,    518,   2574,      4,   3077, 130014,   1117,\n",
            "          27135,  73210,    227,  87606,  63892,      4,  46806,      4,    819,\n",
            "           2732,  39336,  24873,   7031,     35,  11968,  40542,  13553,  53871,\n",
            "             59,     49, 119065,      4,     35, 159862,     29,  13962,    407,\n",
            "          52667, 132017,     89,   4222,      9,  27142,     29,  47524,    226,\n",
            "          26876,    526,  44806,  85169,     59,      5,    589, 194749,   1097,\n",
            "           6314,  60407,    440,  40687,    135,  38080, 107985,  49813,     59,\n",
            "              4,   7176,   3318,  93293, 228317,    183,  53302,   1315,  33641,\n",
            "           3407,  73210,    227,    255,  61392, 212787,      5,    672,    105,\n",
            "          77892,  40694,    227,  49813,     59,  14219, 125244,    227,  79252,\n",
            "              6,   8427,    888, 128997,      6, 105577,  39255, 179563,      4,\n",
            "           7176,  15856, 163636,   1117,   1725,    183, 213294,  78785, 177507,\n",
            "         172770,  53951,    227,  73210,    227,      5,    997,     49,  22002,\n",
            "          13701, 103499,   1993,  33247,    407,  96664,     49,   4641, 120496,\n",
            "          41614,      4,   3837,  14219,    440,  24178,  85896,     29,  18999,\n",
            "           1882,  17492,  33303,  34664,     35,    135,  38080, 107985,  49813,\n",
            "            559,      5,     94,  11325,  23971,   6405,  56708,  17304,   1328,\n",
            "           1741,  23369,  51639,    129,      2, 250004]], device='cuda:0')\n"
          ]
        }
      ]
    },
    {
      "cell_type": "code",
      "source": [
        "output_ids = model.generate(\n",
        "    input_ids=input_ids,\n",
        "    no_repeat_ngram_size=4\n",
        ")[0]\n",
        "summary = tokenizer.decode(output_ids, skip_special_tokens=True)\n",
        "print(\"Текст: {}\".format(test_records[0][\"text\"]))\n",
        "print(\"\\nИтоговый реферат: {}\".format(summary))"
      ],
      "metadata": {
        "colab": {
          "base_uri": "https://localhost:8080/"
        },
        "id": "s8ukIIpyfp9e",
        "outputId": "73017246-4f78-4a1f-de1b-02b4bf3a2a7f"
      },
      "execution_count": 22,
      "outputs": [
        {
          "output_type": "stream",
          "name": "stdout",
          "text": [
            "Текст: Американское аэрокосмическое агентство NASA огласило названия четырех космических миссий, которые в скором времени могут быть выбраны для реализации и запуск которых может состояться уже в конце этого десятилетия. Эти четыре проекта стали полуфиналистами конкурса, объявленного среди американских научных команд, в котором участвовало более десяти миссий. Все они были отобраны по критериям потенциальной пользы для науки и технической осуществимости проекта. В рамках программы Discovery NASA занимается планированием миссий, которые призваны дать ответы на фундаментальные вопросы о происхождении тел Солнечной системы и возможному наличию жизни на них. «Эти выбранные миссии могут трансформировать наше восприятие некоторых из наиболее активных и сложных миров в Солнечной системе, — заявил Томас Зурбучен, помощник директора NASA по науке. — Исследование каждого из этих небесных тел поможет раскрыть секреты о том, как они и им подобные объекты образовались в космосе». Каждый проект из выбранных полуфиналистов получит $3 млн на проработку концепции. Из четырех выбранных проектов NASA планирует отобрать две в 2021 году, чтобы профинансировать работу по их реализации в рамках программы Discovery. Два из четырех проектов посвящены исследованию Венеры, куда аппараты NASA не отправлялись уже свыше тридцати лет — с 1989 года, когда к этой планете был запущен зонд Magellan. Миссия VERITAS ( Venus Emissivity, Radio Science, InSAR, Topography, and Spectroscopy) призвана картировать поверхность Венеры для лучшего понимания геологической истории планеты и получения ответа на вопрос о причинах ее кардинальных отличий от Земли. Карта будет построена при помощи радара, установленного на орбитальном аппарате. В ходе миссии планируется узнать, продолжаются ли в наши дни на Венере тектонические и вулканические процессы. Кроме того, планируется картировать поверхность планеты в инфракрасном диапазоне. Миссия DAVINCI+ (Deep Atmosphere Venus Investigation of Noble gases, Chemistry and Imaging Plus) задумана для того, чтобы исследовать состав атмосферы Венеры, понять, как она формировалась и эволюционировала в прошлом, и ответить на вопрос о существовании когда-либо на планете жидкого океана. Сделать это планируется при помощи спускаемого аппарата, который будет проводить измерения от верхних слоев атмосферы до самой поверхности. Научные инструменты аппарата будут размещены внутри герметичного сферического корпуса, который должен защитить их от разрушительного воздействия высокой температуры атмосферы. + в названии миссии говорит о наличии в ее составе камер, которые будут присутствовать на борту орбитального и спускаемого аппаратов. «Проект DAVINCI+ пересекается по целям с российской миссией «Венера-Д», обе нацелены на посадку, поэтому в будущем возможно их совмещение в одном совместном проекте», — сказал «Газете.Ru» основатель проекта «Открытый космос» Виталий Егоров. Миссия TRIDENT должна исследовать Тритон — ледяной спутник Нептуна, известный ученым своей активностью. Данные, полученные американским зондом Voyager 2, показали, что поверхность Тритона активно обновляется. Ученые считают, что Тритон, на котором выпадает «снег» из органических веществ, может оказаться отличной целью для понимания вопросов происхождения аналогичных тел в Солнечной системе. Пролетев мимо Тритона, аппарат попытается картировать его поверхность, изучить активные процессы на его поверхности и определить, есть ли под его поверхностью жидкий океан. Миссия IVO (Io Volcano Observer) должна направиться к одному из самых интересных спутников Юпитера — Ио. Это тело с наиболее мощной вулканической активностью в Солнечной системе, которая поддерживается за счет мощного приливного воздействия со стороны Юпитера. Во время нескольких близких пролетов аппарат выяснит, как формируется лава на поверхности спутника.\n",
            "\n",
            "Итоговый реферат: Американское аэрокосмическое агентство NASA огласило названия четырех космических миссий, которые в скором времени могут быть выбраны для реализации и запуск которых может состояться уже в конце этого десятилетия. Все они были отобраны по критериям потенциальной пользы для науки и технической осуществимости.\n"
          ]
        }
      ]
    }
  ]
}