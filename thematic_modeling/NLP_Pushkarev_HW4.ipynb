{
  "cells": [
    {
      "cell_type": "markdown",
      "metadata": {
        "id": "50ewmbnO4Lg_"
      },
      "source": [
        "# Тематическе моделирование"
      ]
    },
    {
      "cell_type": "markdown",
      "metadata": {
        "id": "92VdpPSV4P83"
      },
      "source": [
        "Что надо сделать:\n",
        "1. объединить в одну выборку (это только для твитов), для роспотребнадзора сформировать датасет из вопросов\n",
        "2. провести исследование и выявить тематики о которых говорят в твитах (для твитов), а для роспотребнадзора так же выявить тематики о которых люди пишут проанализировать\n",
        "3. сделать визуализацию кластеров тематик\n",
        "4. проинтерпритировать получившиеся тематики"
      ]
    },
    {
      "cell_type": "code",
      "execution_count": null,
      "metadata": {
        "id": "Z9QUaQjBcqA_"
      },
      "outputs": [],
      "source": [
        "# Рабочий вариант зависимостей для визуализации результатов работы LDA модели\n",
        "#  на момент август 2023 года.\n",
        "!pip install pandas==1.5.3\n",
        "!pip install numpy==1.18\n",
        "!pip install -q pyLDAvis"
      ]
    },
    {
      "cell_type": "code",
      "execution_count": null,
      "metadata": {
        "id": "TvXYFwCIgCub"
      },
      "outputs": [],
      "source": [
        "!pip install -q pymorphy2"
      ]
    },
    {
      "cell_type": "code",
      "execution_count": null,
      "metadata": {
        "id": "b8DqKzuVVsmE"
      },
      "outputs": [],
      "source": [
        "import numpy as np\n",
        "import pandas as pd\n",
        "import matplotlib.pyplot as plt\n",
        "%matplotlib inline\n",
        "\n",
        "import re\n",
        "import nltk\n",
        "import json\n",
        "import string\n",
        "import pymorphy2\n",
        "from tqdm.notebook import tqdm\n",
        "from nltk.corpus import stopwords\n",
        "from nltk.tokenize import word_tokenize\n",
        "from gensim.models import ldamodel, CoherenceModel\n",
        "from gensim import corpora\n",
        "import pyLDAvis\n",
        "import pyLDAvis.gensim_models as gensimvis\n",
        "import warnings\n",
        "warnings.filterwarnings(\"ignore\", category=DeprecationWarning)"
      ]
    },
    {
      "cell_type": "code",
      "execution_count": null,
      "metadata": {
        "colab": {
          "base_uri": "https://localhost:8080/"
        },
        "id": "Z8aLOxFWVeMs",
        "outputId": "260a3a56-676a-43ce-e7c8-7ff05993aa98"
      },
      "outputs": [
        {
          "name": "stdout",
          "output_type": "stream",
          "text": [
            "Mounted at /content/drive\n"
          ]
        }
      ],
      "source": [
        "from google.colab import drive\n",
        "drive.mount('/content/drive')"
      ]
    },
    {
      "cell_type": "code",
      "execution_count": null,
      "metadata": {
        "id": "_dK83K_y39YK"
      },
      "outputs": [],
      "source": [
        "# считываем данные и заполняем общий датасет\n",
        "positive = pd.read_csv('drive/MyDrive/positive.csv',\n",
        "                       sep=';',\n",
        "                       usecols=[3],\n",
        "                       names=['text'])\n",
        "negative = pd.read_csv('drive/MyDrive/negative.csv',\n",
        "                       sep=';',\n",
        "                       usecols=[3],\n",
        "                       names=['text'])\n",
        "\n",
        "df = pd.concat([positive, negative])"
      ]
    },
    {
      "cell_type": "code",
      "execution_count": null,
      "metadata": {
        "colab": {
          "base_uri": "https://localhost:8080/"
        },
        "id": "LYvhpCRVXg9Y",
        "outputId": "7c63217e-c73b-4004-ebb0-44728d22579d"
      },
      "outputs": [
        {
          "data": {
            "text/plain": [
              "(226834, 1)"
            ]
          },
          "execution_count": 6,
          "metadata": {},
          "output_type": "execute_result"
        }
      ],
      "source": [
        "df.shape"
      ]
    },
    {
      "cell_type": "code",
      "execution_count": null,
      "metadata": {
        "colab": {
          "base_uri": "https://localhost:8080/",
          "height": 204
        },
        "id": "2cXHEYpaXjnt",
        "outputId": "d01057f2-8142-4a0f-e2c6-48f54fc2a293"
      },
      "outputs": [
        {
          "data": {
            "text/html": [
              "\n",
              "\n",
              "  <div id=\"df-9af13fef-3989-4223-b93f-ed526caeb0be\">\n",
              "    <div class=\"colab-df-container\">\n",
              "      <div>\n",
              "<style scoped>\n",
              "    .dataframe tbody tr th:only-of-type {\n",
              "        vertical-align: middle;\n",
              "    }\n",
              "\n",
              "    .dataframe tbody tr th {\n",
              "        vertical-align: top;\n",
              "    }\n",
              "\n",
              "    .dataframe thead th {\n",
              "        text-align: right;\n",
              "    }\n",
              "</style>\n",
              "<table border=\"1\" class=\"dataframe\">\n",
              "  <thead>\n",
              "    <tr style=\"text-align: right;\">\n",
              "      <th></th>\n",
              "      <th>text</th>\n",
              "    </tr>\n",
              "  </thead>\n",
              "  <tbody>\n",
              "    <tr>\n",
              "      <th>0</th>\n",
              "      <td>@first_timee хоть я и школота, но поверь, у на...</td>\n",
              "    </tr>\n",
              "    <tr>\n",
              "      <th>1</th>\n",
              "      <td>Да, все-таки он немного похож на него. Но мой ...</td>\n",
              "    </tr>\n",
              "    <tr>\n",
              "      <th>2</th>\n",
              "      <td>RT @KatiaCheh: Ну ты идиотка) я испугалась за ...</td>\n",
              "    </tr>\n",
              "    <tr>\n",
              "      <th>3</th>\n",
              "      <td>RT @digger2912: \"Кто то в углу сидит и погибае...</td>\n",
              "    </tr>\n",
              "    <tr>\n",
              "      <th>4</th>\n",
              "      <td>@irina_dyshkant Вот что значит страшилка :D\\nН...</td>\n",
              "    </tr>\n",
              "  </tbody>\n",
              "</table>\n",
              "</div>\n",
              "      <button class=\"colab-df-convert\" onclick=\"convertToInteractive('df-9af13fef-3989-4223-b93f-ed526caeb0be')\"\n",
              "              title=\"Convert this dataframe to an interactive table.\"\n",
              "              style=\"display:none;\">\n",
              "\n",
              "  <svg xmlns=\"http://www.w3.org/2000/svg\" height=\"24px\"viewBox=\"0 0 24 24\"\n",
              "       width=\"24px\">\n",
              "    <path d=\"M0 0h24v24H0V0z\" fill=\"none\"/>\n",
              "    <path d=\"M18.56 5.44l.94 2.06.94-2.06 2.06-.94-2.06-.94-.94-2.06-.94 2.06-2.06.94zm-11 1L8.5 8.5l.94-2.06 2.06-.94-2.06-.94L8.5 2.5l-.94 2.06-2.06.94zm10 10l.94 2.06.94-2.06 2.06-.94-2.06-.94-.94-2.06-.94 2.06-2.06.94z\"/><path d=\"M17.41 7.96l-1.37-1.37c-.4-.4-.92-.59-1.43-.59-.52 0-1.04.2-1.43.59L10.3 9.45l-7.72 7.72c-.78.78-.78 2.05 0 2.83L4 21.41c.39.39.9.59 1.41.59.51 0 1.02-.2 1.41-.59l7.78-7.78 2.81-2.81c.8-.78.8-2.07 0-2.86zM5.41 20L4 18.59l7.72-7.72 1.47 1.35L5.41 20z\"/>\n",
              "  </svg>\n",
              "      </button>\n",
              "\n",
              "\n",
              "\n",
              "    <div id=\"df-8b9d1612-f321-4b57-ac35-8023ecb34e1e\">\n",
              "      <button class=\"colab-df-quickchart\" onclick=\"quickchart('df-8b9d1612-f321-4b57-ac35-8023ecb34e1e')\"\n",
              "              title=\"Suggest charts.\"\n",
              "              style=\"display:none;\">\n",
              "\n",
              "<svg xmlns=\"http://www.w3.org/2000/svg\" height=\"24px\"viewBox=\"0 0 24 24\"\n",
              "     width=\"24px\">\n",
              "    <g>\n",
              "        <path d=\"M19 3H5c-1.1 0-2 .9-2 2v14c0 1.1.9 2 2 2h14c1.1 0 2-.9 2-2V5c0-1.1-.9-2-2-2zM9 17H7v-7h2v7zm4 0h-2V7h2v10zm4 0h-2v-4h2v4z\"/>\n",
              "    </g>\n",
              "</svg>\n",
              "      </button>\n",
              "    </div>\n",
              "\n",
              "<style>\n",
              "  .colab-df-quickchart {\n",
              "    background-color: #E8F0FE;\n",
              "    border: none;\n",
              "    border-radius: 50%;\n",
              "    cursor: pointer;\n",
              "    display: none;\n",
              "    fill: #1967D2;\n",
              "    height: 32px;\n",
              "    padding: 0 0 0 0;\n",
              "    width: 32px;\n",
              "  }\n",
              "\n",
              "  .colab-df-quickchart:hover {\n",
              "    background-color: #E2EBFA;\n",
              "    box-shadow: 0px 1px 2px rgba(60, 64, 67, 0.3), 0px 1px 3px 1px rgba(60, 64, 67, 0.15);\n",
              "    fill: #174EA6;\n",
              "  }\n",
              "\n",
              "  [theme=dark] .colab-df-quickchart {\n",
              "    background-color: #3B4455;\n",
              "    fill: #D2E3FC;\n",
              "  }\n",
              "\n",
              "  [theme=dark] .colab-df-quickchart:hover {\n",
              "    background-color: #434B5C;\n",
              "    box-shadow: 0px 1px 3px 1px rgba(0, 0, 0, 0.15);\n",
              "    filter: drop-shadow(0px 1px 2px rgba(0, 0, 0, 0.3));\n",
              "    fill: #FFFFFF;\n",
              "  }\n",
              "</style>\n",
              "\n",
              "    <script>\n",
              "      async function quickchart(key) {\n",
              "        const containerElement = document.querySelector('#' + key);\n",
              "        const charts = await google.colab.kernel.invokeFunction(\n",
              "            'suggestCharts', [key], {});\n",
              "      }\n",
              "    </script>\n",
              "\n",
              "      <script>\n",
              "\n",
              "function displayQuickchartButton(domScope) {\n",
              "  let quickchartButtonEl =\n",
              "    domScope.querySelector('#df-8b9d1612-f321-4b57-ac35-8023ecb34e1e button.colab-df-quickchart');\n",
              "  quickchartButtonEl.style.display =\n",
              "    google.colab.kernel.accessAllowed ? 'block' : 'none';\n",
              "}\n",
              "\n",
              "        displayQuickchartButton(document);\n",
              "      </script>\n",
              "      <style>\n",
              "    .colab-df-container {\n",
              "      display:flex;\n",
              "      flex-wrap:wrap;\n",
              "      gap: 12px;\n",
              "    }\n",
              "\n",
              "    .colab-df-convert {\n",
              "      background-color: #E8F0FE;\n",
              "      border: none;\n",
              "      border-radius: 50%;\n",
              "      cursor: pointer;\n",
              "      display: none;\n",
              "      fill: #1967D2;\n",
              "      height: 32px;\n",
              "      padding: 0 0 0 0;\n",
              "      width: 32px;\n",
              "    }\n",
              "\n",
              "    .colab-df-convert:hover {\n",
              "      background-color: #E2EBFA;\n",
              "      box-shadow: 0px 1px 2px rgba(60, 64, 67, 0.3), 0px 1px 3px 1px rgba(60, 64, 67, 0.15);\n",
              "      fill: #174EA6;\n",
              "    }\n",
              "\n",
              "    [theme=dark] .colab-df-convert {\n",
              "      background-color: #3B4455;\n",
              "      fill: #D2E3FC;\n",
              "    }\n",
              "\n",
              "    [theme=dark] .colab-df-convert:hover {\n",
              "      background-color: #434B5C;\n",
              "      box-shadow: 0px 1px 3px 1px rgba(0, 0, 0, 0.15);\n",
              "      filter: drop-shadow(0px 1px 2px rgba(0, 0, 0, 0.3));\n",
              "      fill: #FFFFFF;\n",
              "    }\n",
              "  </style>\n",
              "\n",
              "      <script>\n",
              "        const buttonEl =\n",
              "          document.querySelector('#df-9af13fef-3989-4223-b93f-ed526caeb0be button.colab-df-convert');\n",
              "        buttonEl.style.display =\n",
              "          google.colab.kernel.accessAllowed ? 'block' : 'none';\n",
              "\n",
              "        async function convertToInteractive(key) {\n",
              "          const element = document.querySelector('#df-9af13fef-3989-4223-b93f-ed526caeb0be');\n",
              "          const dataTable =\n",
              "            await google.colab.kernel.invokeFunction('convertToInteractive',\n",
              "                                                     [key], {});\n",
              "          if (!dataTable) return;\n",
              "\n",
              "          const docLinkHtml = 'Like what you see? Visit the ' +\n",
              "            '<a target=\"_blank\" href=https://colab.research.google.com/notebooks/data_table.ipynb>data table notebook</a>'\n",
              "            + ' to learn more about interactive tables.';\n",
              "          element.innerHTML = '';\n",
              "          dataTable['output_type'] = 'display_data';\n",
              "          await google.colab.output.renderOutput(dataTable, element);\n",
              "          const docLink = document.createElement('div');\n",
              "          docLink.innerHTML = docLinkHtml;\n",
              "          element.appendChild(docLink);\n",
              "        }\n",
              "      </script>\n",
              "    </div>\n",
              "  </div>\n"
            ],
            "text/plain": [
              "                                                text\n",
              "0  @first_timee хоть я и школота, но поверь, у на...\n",
              "1  Да, все-таки он немного похож на него. Но мой ...\n",
              "2  RT @KatiaCheh: Ну ты идиотка) я испугалась за ...\n",
              "3  RT @digger2912: \"Кто то в углу сидит и погибае...\n",
              "4  @irina_dyshkant Вот что значит страшилка :D\\nН..."
            ]
          },
          "execution_count": 7,
          "metadata": {},
          "output_type": "execute_result"
        }
      ],
      "source": [
        "df.head()"
      ]
    },
    {
      "cell_type": "markdown",
      "metadata": {
        "id": "yFDZFxa1uoBv"
      },
      "source": [
        "# Preprocessing"
      ]
    },
    {
      "cell_type": "code",
      "execution_count": null,
      "metadata": {
        "id": "BDtkesIjZYA-"
      },
      "outputs": [],
      "source": [
        "morph = pymorphy2.MorphAnalyzer()"
      ]
    },
    {
      "cell_type": "code",
      "execution_count": null,
      "metadata": {
        "colab": {
          "base_uri": "https://localhost:8080/"
        },
        "id": "z1mUT0Vqg6Rl",
        "outputId": "f43df5c6-b6c8-48e3-cd8c-d9a2713e01ef"
      },
      "outputs": [
        {
          "name": "stderr",
          "output_type": "stream",
          "text": [
            "[nltk_data] Downloading package stopwords to /root/nltk_data...\n",
            "[nltk_data]   Unzipping corpora/stopwords.zip.\n"
          ]
        }
      ],
      "source": [
        "nltk.download('stopwords')\n",
        "words_regex = re.compile('\\w+')"
      ]
    },
    {
      "cell_type": "code",
      "execution_count": null,
      "metadata": {
        "colab": {
          "base_uri": "https://localhost:8080/"
        },
        "id": "jTwteZM-s55m",
        "outputId": "46e39d22-ea61-4c5e-e073-2ce2e453d6ac"
      },
      "outputs": [
        {
          "name": "stdout",
          "output_type": "stream",
          "text": [
            "--2023-08-16 11:33:26--  https://github.com/stopwords-iso/stopwords-ru/blob/master/stopwords-ru.json\n",
            "Resolving github.com (github.com)... 140.82.113.4\n",
            "Connecting to github.com (github.com)|140.82.113.4|:443... connected.\n",
            "HTTP request sent, awaiting response... 200 OK\n",
            "Length: 13050 (13K) [text/plain]\n",
            "Saving to: ‘stopwords-ru.json’\n",
            "\n",
            "\rstopwords-ru.json     0%[                    ]       0  --.-KB/s               \rstopwords-ru.json   100%[===================>]  12.74K  --.-KB/s    in 0.02s   \n",
            "\n",
            "2023-08-16 11:33:27 (708 KB/s) - ‘stopwords-ru.json’ saved [13050/13050]\n",
            "\n"
          ]
        }
      ],
      "source": [
        "# Загрузим дополнительные стоп-слова\n",
        "!wget https://github.com/stopwords-iso/stopwords-ru/blob/master/stopwords-ru.json"
      ]
    },
    {
      "cell_type": "code",
      "execution_count": null,
      "metadata": {
        "id": "wNyylk-ztvzY"
      },
      "outputs": [],
      "source": [
        "f = open('stopwords-ru.json')\n",
        "data = json.load(f)\n",
        "f.close()"
      ]
    },
    {
      "cell_type": "code",
      "execution_count": null,
      "metadata": {
        "id": "KhrdZEa9tL8L"
      },
      "outputs": [],
      "source": [
        "extended_words = list(data)\n",
        "stopwords_list = stopwords.words('russian') + extended_words"
      ]
    },
    {
      "cell_type": "code",
      "execution_count": null,
      "metadata": {
        "id": "Wb_NFRVCq-W_"
      },
      "outputs": [],
      "source": [
        "def find_words(text, regex=words_regex):\n",
        "    tokens =  regex.findall(text.lower())\n",
        "    return [w for w in tokens if w.isalpha() and len(w) >= 3]\n",
        "\n",
        "def lemmatize(words, lemmer=morph, stopwords=stopwords_list):\n",
        "    lemmas = [lemmer.parse(w)[0].normal_form for w in words]\n",
        "    return [w for w in lemmas if not w in stopwords\n",
        "            and w.isalpha()]\n",
        "\n",
        "def preprocess(text):\n",
        "    return (lemmatize(find_words(text)))"
      ]
    },
    {
      "cell_type": "code",
      "execution_count": null,
      "metadata": {
        "colab": {
          "base_uri": "https://localhost:8080/",
          "height": 35
        },
        "id": "RQ4NJppawqCZ",
        "outputId": "f5996b91-25c7-4423-b8d5-560ef62dd1fc"
      },
      "outputs": [
        {
          "data": {
            "application/vnd.google.colaboratory.intrinsic+json": {
              "type": "string"
            },
            "text/plain": [
              "'Да, все-таки он немного похож на него. Но мой мальчик все равно лучше:D'"
            ]
          },
          "execution_count": 14,
          "metadata": {},
          "output_type": "execute_result"
        }
      ],
      "source": [
        "df.text.iloc[1]"
      ]
    },
    {
      "cell_type": "code",
      "execution_count": null,
      "metadata": {
        "colab": {
          "base_uri": "https://localhost:8080/"
        },
        "id": "WS4jFso0xVc3",
        "outputId": "ea6176f1-97af-4b15-cca9-e25ed0410181"
      },
      "outputs": [
        {
          "name": "stdout",
          "output_type": "stream",
          "text": [
            "['всё', 'таки', 'немного', 'похожий', 'мальчик', 'всё', 'равно', 'хороший']\n"
          ]
        }
      ],
      "source": [
        "print(preprocess(df.text.iloc[1]))"
      ]
    },
    {
      "cell_type": "code",
      "execution_count": null,
      "metadata": {
        "colab": {
          "base_uri": "https://localhost:8080/",
          "height": 49,
          "referenced_widgets": [
            "3fe7f563427e48049ededc497ab7b1ce",
            "ad5169fe2d4142efb19f580ae3718821",
            "b24b425dadfb47c2bd0dca8d0ed61f04",
            "f290cb2551654ca6b68fc71ed0140d60",
            "da73cf80b006479ca4db3bca72743df8",
            "71d890884b0d4fff905218211f3a24e5",
            "c1f83078978c423c8bb2ad7bb0d129e1",
            "c6d0ab4c7d654a67b2685acbc6c6b70d",
            "3adbfd2f1aea4c58b8b0b22d8ab1f9db",
            "5ae6069a0aab4554a00518a30e47df4b",
            "10dd1d93de2f4187bd3b0e70880433c3"
          ]
        },
        "id": "H0ILyBYQx4En",
        "outputId": "88c073fc-f68e-490f-e8ae-9e5429b0603e"
      },
      "outputs": [
        {
          "data": {
            "application/vnd.jupyter.widget-view+json": {
              "model_id": "3fe7f563427e48049ededc497ab7b1ce",
              "version_major": 2,
              "version_minor": 0
            },
            "text/plain": [
              "Progress:   0%|          | 0/226834 [00:00<?, ?it/s]"
            ]
          },
          "metadata": {},
          "output_type": "display_data"
        }
      ],
      "source": [
        "preprocessed_text = list(tqdm(map(preprocess, df['text']), total=len(df), desc='Progress'))"
      ]
    },
    {
      "cell_type": "code",
      "execution_count": null,
      "metadata": {
        "colab": {
          "base_uri": "https://localhost:8080/",
          "height": 142
        },
        "id": "kXxgrbKXoR6c",
        "outputId": "0e61742e-03d3-43b7-bfce-e2a01cc285a7"
      },
      "outputs": [
        {
          "data": {
            "text/html": [
              "\n",
              "\n",
              "  <div id=\"df-12008de7-b67d-4df3-b8c6-b3b21801ff35\">\n",
              "    <div class=\"colab-df-container\">\n",
              "      <div>\n",
              "<style scoped>\n",
              "    .dataframe tbody tr th:only-of-type {\n",
              "        vertical-align: middle;\n",
              "    }\n",
              "\n",
              "    .dataframe tbody tr th {\n",
              "        vertical-align: top;\n",
              "    }\n",
              "\n",
              "    .dataframe thead th {\n",
              "        text-align: right;\n",
              "    }\n",
              "</style>\n",
              "<table border=\"1\" class=\"dataframe\">\n",
              "  <thead>\n",
              "    <tr style=\"text-align: right;\">\n",
              "      <th></th>\n",
              "      <th>text</th>\n",
              "      <th>preprocessed_text</th>\n",
              "    </tr>\n",
              "  </thead>\n",
              "  <tbody>\n",
              "    <tr>\n",
              "      <th>0</th>\n",
              "      <td>@first_timee хоть я и школота, но поверь, у на...</td>\n",
              "      <td>[школотый, поверь, самый, общество, профилиров...</td>\n",
              "    </tr>\n",
              "    <tr>\n",
              "      <th>1</th>\n",
              "      <td>Да, все-таки он немного похож на него. Но мой ...</td>\n",
              "      <td>[всё, таки, немного, похожий, мальчик, всё, ра...</td>\n",
              "    </tr>\n",
              "    <tr>\n",
              "      <th>2</th>\n",
              "      <td>RT @KatiaCheh: Ну ты идиотка) я испугалась за ...</td>\n",
              "      <td>[katiacheh, идиотка, испугаться]</td>\n",
              "    </tr>\n",
              "  </tbody>\n",
              "</table>\n",
              "</div>\n",
              "      <button class=\"colab-df-convert\" onclick=\"convertToInteractive('df-12008de7-b67d-4df3-b8c6-b3b21801ff35')\"\n",
              "              title=\"Convert this dataframe to an interactive table.\"\n",
              "              style=\"display:none;\">\n",
              "\n",
              "  <svg xmlns=\"http://www.w3.org/2000/svg\" height=\"24px\"viewBox=\"0 0 24 24\"\n",
              "       width=\"24px\">\n",
              "    <path d=\"M0 0h24v24H0V0z\" fill=\"none\"/>\n",
              "    <path d=\"M18.56 5.44l.94 2.06.94-2.06 2.06-.94-2.06-.94-.94-2.06-.94 2.06-2.06.94zm-11 1L8.5 8.5l.94-2.06 2.06-.94-2.06-.94L8.5 2.5l-.94 2.06-2.06.94zm10 10l.94 2.06.94-2.06 2.06-.94-2.06-.94-.94-2.06-.94 2.06-2.06.94z\"/><path d=\"M17.41 7.96l-1.37-1.37c-.4-.4-.92-.59-1.43-.59-.52 0-1.04.2-1.43.59L10.3 9.45l-7.72 7.72c-.78.78-.78 2.05 0 2.83L4 21.41c.39.39.9.59 1.41.59.51 0 1.02-.2 1.41-.59l7.78-7.78 2.81-2.81c.8-.78.8-2.07 0-2.86zM5.41 20L4 18.59l7.72-7.72 1.47 1.35L5.41 20z\"/>\n",
              "  </svg>\n",
              "      </button>\n",
              "\n",
              "\n",
              "\n",
              "    <div id=\"df-1d85fcf3-9ea6-462d-89d7-9595fa83a74d\">\n",
              "      <button class=\"colab-df-quickchart\" onclick=\"quickchart('df-1d85fcf3-9ea6-462d-89d7-9595fa83a74d')\"\n",
              "              title=\"Suggest charts.\"\n",
              "              style=\"display:none;\">\n",
              "\n",
              "<svg xmlns=\"http://www.w3.org/2000/svg\" height=\"24px\"viewBox=\"0 0 24 24\"\n",
              "     width=\"24px\">\n",
              "    <g>\n",
              "        <path d=\"M19 3H5c-1.1 0-2 .9-2 2v14c0 1.1.9 2 2 2h14c1.1 0 2-.9 2-2V5c0-1.1-.9-2-2-2zM9 17H7v-7h2v7zm4 0h-2V7h2v10zm4 0h-2v-4h2v4z\"/>\n",
              "    </g>\n",
              "</svg>\n",
              "      </button>\n",
              "    </div>\n",
              "\n",
              "<style>\n",
              "  .colab-df-quickchart {\n",
              "    background-color: #E8F0FE;\n",
              "    border: none;\n",
              "    border-radius: 50%;\n",
              "    cursor: pointer;\n",
              "    display: none;\n",
              "    fill: #1967D2;\n",
              "    height: 32px;\n",
              "    padding: 0 0 0 0;\n",
              "    width: 32px;\n",
              "  }\n",
              "\n",
              "  .colab-df-quickchart:hover {\n",
              "    background-color: #E2EBFA;\n",
              "    box-shadow: 0px 1px 2px rgba(60, 64, 67, 0.3), 0px 1px 3px 1px rgba(60, 64, 67, 0.15);\n",
              "    fill: #174EA6;\n",
              "  }\n",
              "\n",
              "  [theme=dark] .colab-df-quickchart {\n",
              "    background-color: #3B4455;\n",
              "    fill: #D2E3FC;\n",
              "  }\n",
              "\n",
              "  [theme=dark] .colab-df-quickchart:hover {\n",
              "    background-color: #434B5C;\n",
              "    box-shadow: 0px 1px 3px 1px rgba(0, 0, 0, 0.15);\n",
              "    filter: drop-shadow(0px 1px 2px rgba(0, 0, 0, 0.3));\n",
              "    fill: #FFFFFF;\n",
              "  }\n",
              "</style>\n",
              "\n",
              "    <script>\n",
              "      async function quickchart(key) {\n",
              "        const containerElement = document.querySelector('#' + key);\n",
              "        const charts = await google.colab.kernel.invokeFunction(\n",
              "            'suggestCharts', [key], {});\n",
              "      }\n",
              "    </script>\n",
              "\n",
              "      <script>\n",
              "\n",
              "function displayQuickchartButton(domScope) {\n",
              "  let quickchartButtonEl =\n",
              "    domScope.querySelector('#df-1d85fcf3-9ea6-462d-89d7-9595fa83a74d button.colab-df-quickchart');\n",
              "  quickchartButtonEl.style.display =\n",
              "    google.colab.kernel.accessAllowed ? 'block' : 'none';\n",
              "}\n",
              "\n",
              "        displayQuickchartButton(document);\n",
              "      </script>\n",
              "      <style>\n",
              "    .colab-df-container {\n",
              "      display:flex;\n",
              "      flex-wrap:wrap;\n",
              "      gap: 12px;\n",
              "    }\n",
              "\n",
              "    .colab-df-convert {\n",
              "      background-color: #E8F0FE;\n",
              "      border: none;\n",
              "      border-radius: 50%;\n",
              "      cursor: pointer;\n",
              "      display: none;\n",
              "      fill: #1967D2;\n",
              "      height: 32px;\n",
              "      padding: 0 0 0 0;\n",
              "      width: 32px;\n",
              "    }\n",
              "\n",
              "    .colab-df-convert:hover {\n",
              "      background-color: #E2EBFA;\n",
              "      box-shadow: 0px 1px 2px rgba(60, 64, 67, 0.3), 0px 1px 3px 1px rgba(60, 64, 67, 0.15);\n",
              "      fill: #174EA6;\n",
              "    }\n",
              "\n",
              "    [theme=dark] .colab-df-convert {\n",
              "      background-color: #3B4455;\n",
              "      fill: #D2E3FC;\n",
              "    }\n",
              "\n",
              "    [theme=dark] .colab-df-convert:hover {\n",
              "      background-color: #434B5C;\n",
              "      box-shadow: 0px 1px 3px 1px rgba(0, 0, 0, 0.15);\n",
              "      filter: drop-shadow(0px 1px 2px rgba(0, 0, 0, 0.3));\n",
              "      fill: #FFFFFF;\n",
              "    }\n",
              "  </style>\n",
              "\n",
              "      <script>\n",
              "        const buttonEl =\n",
              "          document.querySelector('#df-12008de7-b67d-4df3-b8c6-b3b21801ff35 button.colab-df-convert');\n",
              "        buttonEl.style.display =\n",
              "          google.colab.kernel.accessAllowed ? 'block' : 'none';\n",
              "\n",
              "        async function convertToInteractive(key) {\n",
              "          const element = document.querySelector('#df-12008de7-b67d-4df3-b8c6-b3b21801ff35');\n",
              "          const dataTable =\n",
              "            await google.colab.kernel.invokeFunction('convertToInteractive',\n",
              "                                                     [key], {});\n",
              "          if (!dataTable) return;\n",
              "\n",
              "          const docLinkHtml = 'Like what you see? Visit the ' +\n",
              "            '<a target=\"_blank\" href=https://colab.research.google.com/notebooks/data_table.ipynb>data table notebook</a>'\n",
              "            + ' to learn more about interactive tables.';\n",
              "          element.innerHTML = '';\n",
              "          dataTable['output_type'] = 'display_data';\n",
              "          await google.colab.output.renderOutput(dataTable, element);\n",
              "          const docLink = document.createElement('div');\n",
              "          docLink.innerHTML = docLinkHtml;\n",
              "          element.appendChild(docLink);\n",
              "        }\n",
              "      </script>\n",
              "    </div>\n",
              "  </div>\n"
            ],
            "text/plain": [
              "                                                text  \\\n",
              "0  @first_timee хоть я и школота, но поверь, у на...   \n",
              "1  Да, все-таки он немного похож на него. Но мой ...   \n",
              "2  RT @KatiaCheh: Ну ты идиотка) я испугалась за ...   \n",
              "\n",
              "                                   preprocessed_text  \n",
              "0  [школотый, поверь, самый, общество, профилиров...  \n",
              "1  [всё, таки, немного, похожий, мальчик, всё, ра...  \n",
              "2                   [katiacheh, идиотка, испугаться]  "
            ]
          },
          "execution_count": 17,
          "metadata": {},
          "output_type": "execute_result"
        }
      ],
      "source": [
        "df['preprocessed_text'] = preprocessed_text\n",
        "df.head(3)"
      ]
    },
    {
      "cell_type": "markdown",
      "metadata": {
        "id": "kSoTXgmSvDic"
      },
      "source": [
        "# LDA Modeling"
      ]
    },
    {
      "cell_type": "code",
      "execution_count": null,
      "metadata": {
        "id": "40q9w6V_vGFk"
      },
      "outputs": [],
      "source": [
        "!pip install -U -q gensim"
      ]
    },
    {
      "cell_type": "markdown",
      "metadata": {
        "id": "_p-jfwnQVceL"
      },
      "source": [
        "**Модель использует векторное представление документов, поэтому создадим словарь**"
      ]
    },
    {
      "cell_type": "code",
      "execution_count": null,
      "metadata": {
        "id": "484b3xCAVRul"
      },
      "outputs": [],
      "source": [
        "dictionary = corpora.Dictionary(df['preprocessed_text'])\n",
        "\n",
        "# игнорируем слова, которые встречаются реже 10 раз или составляют более 0.9 словаря\n",
        "dictionary.filter_extremes(no_below=10, no_above=0.9, keep_n=None)\n",
        "dictionary.save('tweets.dict')"
      ]
    },
    {
      "cell_type": "markdown",
      "metadata": {
        "id": "J_T_nwPbYuxr"
      },
      "source": [
        "**Векторизуем документы**"
      ]
    },
    {
      "cell_type": "code",
      "execution_count": null,
      "metadata": {
        "id": "lrGlydJ8YuOi"
      },
      "outputs": [],
      "source": [
        "corpus = [dictionary.doc2bow(text) for text in df['preprocessed_text']]\n",
        "corpora.MmCorpus.serialize('tweets.model', corpus)"
      ]
    },
    {
      "cell_type": "markdown",
      "metadata": {
        "id": "SfE9p_jCZyVo"
      },
      "source": [
        "**Обучение модели**"
      ]
    },
    {
      "cell_type": "code",
      "execution_count": null,
      "metadata": {
        "colab": {
          "base_uri": "https://localhost:8080/"
        },
        "id": "FzFLQHxaZLhJ",
        "outputId": "a2e78395-0a45-4eb2-b537-54849a972587"
      },
      "outputs": [
        {
          "name": "stdout",
          "output_type": "stream",
          "text": [
            "CPU times: user 4 µs, sys: 0 ns, total: 4 µs\n",
            "Wall time: 8.82 µs\n"
          ]
        }
      ],
      "source": [
        "%time\n",
        "\n",
        "lda = ldamodel.LdaModel(corpus, id2word=dictionary,\n",
        "                        num_topics=20,\n",
        "                        chunksize=50,\n",
        "                        update_every=1,\n",
        "                        passes=2)"
      ]
    },
    {
      "cell_type": "code",
      "execution_count": null,
      "metadata": {
        "colab": {
          "base_uri": "https://localhost:8080/"
        },
        "id": "zSGIsEWhZ1bE",
        "outputId": "7c815deb-d59e-47c2-cfce-e8a5ff9d73a2"
      },
      "outputs": [
        {
          "data": {
            "text/plain": [
              "[(19,\n",
              "  '0.260*\"очень\" + 0.237*\"завтра\" + 0.150*\"идти\" + 0.136*\"школа\" + 0.096*\"мама\" + 0.048*\"работать\" + 0.043*\"спасибо\" + 0.010*\"главное\" + 0.000*\"спать\" + 0.000*\"холодно\"'),\n",
              " (8,\n",
              "  '0.280*\"блин\" + 0.213*\"свой\" + 0.157*\"самый\" + 0.111*\"каждый\" + 0.097*\"посмотреть\" + 0.042*\"значит\" + 0.023*\"ощущение\" + 0.020*\"часть\" + 0.013*\"радовать\" + 0.012*\"факт\"'),\n",
              " (9,\n",
              "  '0.599*\"http\" + 0.178*\"знать\" + 0.131*\"любить\" + 0.066*\"бля\" + 0.010*\"ухо\" + 0.000*\"делать\" + 0.000*\"вообще\" + 0.000*\"скучать\" + 0.000*\"ждать\" + 0.000*\"жизнь\"'),\n",
              " (0,\n",
              "  '0.750*\"хотеть\" + 0.151*\"сидеть\" + 0.040*\"взять\" + 0.029*\"жрать\" + 0.004*\"поддержка\" + 0.000*\"спать\" + 0.000*\"дом\" + 0.000*\"делать\" + 0.000*\"домой\" + 0.000*\"нибыть\"'),\n",
              " (7,\n",
              "  '0.853*\"всё\" + 0.072*\"пиздец\" + 0.039*\"прям\" + 0.009*\"рада\" + 0.003*\"заебись\" + 0.001*\"победить\" + 0.000*\"болеть\" + 0.000*\"большой\" + 0.000*\"плохо\" + 0.000*\"вроде\"'),\n",
              " (18,\n",
              "  '0.493*\"весь\" + 0.237*\"сказать\" + 0.105*\"дело\" + 0.092*\"понять\" + 0.021*\"заметить\" + 0.011*\"сучка\" + 0.010*\"оля\" + 0.000*\"вообще\" + 0.000*\"большой\" + 0.000*\"жизнь\"'),\n",
              " (15,\n",
              "  '0.484*\"день\" + 0.123*\"неделя\" + 0.098*\"второй\" + 0.088*\"нравиться\" + 0.053*\"сон\" + 0.045*\"история\" + 0.022*\"ум\" + 0.019*\"прекрасный\" + 0.017*\"подряд\" + 0.013*\"мужчина\"'),\n",
              " (14,\n",
              "  '0.211*\"писать\" + 0.167*\"думать\" + 0.158*\"хотеться\" + 0.109*\"первый\" + 0.092*\"равно\" + 0.088*\"найти\" + 0.033*\"серия\" + 0.032*\"поэтому\" + 0.029*\"хуйня\" + 0.026*\"группа\"'),\n",
              " (2,\n",
              "  '0.000*\"снегурочка\" + 0.000*\"фикбук\" + 0.000*\"обидеть\" + 0.000*\"побриться\" + 0.000*\"лавочка\" + 0.000*\"офигительный\" + 0.000*\"одинаково\" + 0.000*\"строй\" + 0.000*\"смелый\" + 0.000*\"mashushnik\"'),\n",
              " (5,\n",
              "  '0.000*\"снегурочка\" + 0.000*\"фикбук\" + 0.000*\"обидеть\" + 0.000*\"побриться\" + 0.000*\"лавочка\" + 0.000*\"офигительный\" + 0.000*\"одинаково\" + 0.000*\"строй\" + 0.000*\"смелый\" + 0.000*\"mashushnik\"')]"
            ]
          },
          "execution_count": 22,
          "metadata": {},
          "output_type": "execute_result"
        }
      ],
      "source": [
        "lda.show_topics(num_topics=10, num_words=10, formatted=True)"
      ]
    },
    {
      "cell_type": "markdown",
      "metadata": {
        "id": "zyEDEP91cxID"
      },
      "source": [
        "**Полученные темы спроецируем на плоскости**"
      ]
    },
    {
      "cell_type": "code",
      "execution_count": null,
      "metadata": {
        "colab": {
          "base_uri": "https://localhost:8080/",
          "height": 915
        },
        "id": "ne2SeEj0dcGQ",
        "outputId": "e5c78735-2f7a-40b0-8f20-e7929f9bafd9"
      },
      "outputs": [
        {
          "name": "stdout",
          "output_type": "stream",
          "text": [
            "CPU times: user 5 µs, sys: 0 ns, total: 5 µs\n",
            "Wall time: 10 µs\n"
          ]
        },
        {
          "data": {
            "text/html": [
              "\n",
              "<link rel=\"stylesheet\" type=\"text/css\" href=\"https://cdn.jsdelivr.net/gh/bmabey/pyLDAvis@3.4.0/pyLDAvis/js/ldavis.v1.0.0.css\">\n",
              "\n",
              "\n",
              "<div id=\"ldavis_el1185138640153736832462307523\" style=\"background-color:white;\"></div>\n",
              "<script type=\"text/javascript\">\n",
              "\n",
              "var ldavis_el1185138640153736832462307523_data = {\"mdsDat\": {\"x\": [-0.14186420638603656, -0.13218728682162156, -0.11919381237314873, -0.12044720454969361, -0.12471449087461012, -0.1091291200161507, -0.08090724931442358, -0.09016744123707002, -0.07774576410179006, -0.04036144797984764, -0.07775685587347482, -0.09682552321256108, -0.016444620153084847, 0.02387129675060633, 0.03500472049799351, 0.06279038914318774, 0.13261986438556964, 0.3210015241429458, 0.3262286139866041, 0.32622861398660435], \"y\": [0.4229870289222392, -0.20748608704920585, -0.043412093557675564, -0.0493614577867181, -0.0668457505913501, -0.02656463613949146, -0.009509411934388316, -0.013059685352954296, -0.008912527190382375, -0.002033564003226335, -0.008478906952639203, -0.01681078918964405, 0.0005331758336687119, 0.003026107765410226, 0.003334116861671852, 0.004463140217213368, 0.005862671098320336, 0.004795883870953382, 0.003736392589099737, 0.0037363925890997567], \"topics\": [1, 2, 3, 4, 5, 6, 7, 8, 9, 10, 11, 12, 13, 14, 15, 16, 17, 18, 19, 20], \"cluster\": [1, 1, 1, 1, 1, 1, 1, 1, 1, 1, 1, 1, 1, 1, 1, 1, 1, 1, 1, 1], \"Freq\": [9.030094211847228, 7.824154160396116, 6.999644341712105, 6.744305523582181, 6.715513594000261, 6.154600940146602, 5.514176255642419, 5.479541920589338, 5.445137045953821, 5.392382535042152, 5.259413748820021, 4.81652913574475, 4.457130208872159, 3.5661775721892877, 3.3994439245005457, 3.3550889484064226, 3.0380350107766447, 2.3355321445876163, 2.236549388595164, 2.236549388595164]}, \"tinfo\": {\"Term\": [\"\\u044d\\u0442\\u043e\", \"\\u0432\\u0441\\u0451\", \"http\", \"\\u0445\\u043e\\u0442\\u0435\\u0442\\u044c\", \"\\u0432\\u0435\\u0441\\u044c\", \"\\u0434\\u0435\\u043d\\u044c\", \"\\u043f\\u0440\\u043e\\u0441\\u0442\\u043e\", \"\\u0435\\u0449\\u0451\", \"\\u043c\\u043e\\u0447\\u044c\", \"\\u0441\\u043c\\u043e\\u0442\\u0440\\u0435\\u0442\\u044c\", \"\\u0441\\u0435\\u0433\\u043e\\u0434\\u043d\\u044f\", \"\\u043e\\u0447\\u0435\\u043d\\u044c\", \"\\u0431\\u043b\\u0438\\u043d\", \"\\u0437\\u0430\\u0432\\u0442\\u0440\\u0430\", \"\\u0437\\u043d\\u0430\\u0442\\u044c\", \"\\u0441\\u043a\\u0430\\u0437\\u0430\\u0442\\u044c\", \"\\u0433\\u043e\\u0434\", \"\\u043d\\u0438\\u043a\\u0442\\u043e\", \"\\u043f\\u043e\\u0447\\u0435\\u043c\\u0443\", \"\\u0441\\u0432\\u043e\\u0439\", \"\\u0447\\u0435\\u043b\\u043e\\u0432\\u0435\\u043a\", \"\\u043f\\u0438\\u0441\\u0430\\u0442\\u044c\", \"\\u043d\\u043e\\u0447\\u044c\", \"\\u043b\\u044e\\u0431\\u0438\\u0442\\u044c\", \"\\u0432\\u0435\\u0447\\u0435\\u0440\\u043e\\u043c\", \"\\u0438\\u0434\\u0442\\u0438\", \"\\u0434\\u0443\\u043c\\u0430\\u0442\\u044c\", \"\\u0445\\u043e\\u0442\\u044f\", \"\\u043d\\u0430\\u0448\", \"\\u0441\\u0430\\u043c\\u044b\\u0439\", \"http\", \"\\u0437\\u043d\\u0430\\u0442\\u044c\", \"\\u043b\\u044e\\u0431\\u0438\\u0442\\u044c\", \"\\u0431\\u043b\\u044f\", \"\\u0443\\u0445\\u043e\", \"\\u0434\\u0435\\u043b\\u0430\\u0442\\u044c\", \"\\u0444\\u043e\\u0442\\u043e\", \"\\u043f\\u0440\\u043e\\u0441\\u0442\\u0438\\u0442\\u044c\", \"\\u0432\\u043e\\u043e\\u0431\\u0449\\u0435\", \"\\u0436\\u0434\\u0430\\u0442\\u044c\", \"\\u0441\\u043a\\u0443\\u0447\\u0430\\u0442\\u044c\", \"\\u0441\\u043a\\u0443\\u0447\\u043d\\u043e\", \"\\u0436\\u0438\\u0437\\u043d\\u044c\", \"\\u043a\\u0438\\u0435\\u0432\", \"\\u043f\\u043e\\u0433\\u043e\\u0434\\u0430\", \"\\u0436\\u0430\\u043b\\u044c\", \"\\u0443\\u0436\\u0430\\u0441\\u043d\\u044b\\u0439\", \"\\u0431\\u043b\\u044f\\u0434\\u044c\", \"\\u043d\\u0435\\u043d\\u0430\\u0432\\u0438\\u0434\\u0435\\u0442\\u044c\", \"\\u0431\\u043e\\u043b\\u0435\\u0442\\u044c\", \"\\u0441\\u043b\\u0438\\u0448\\u043a\\u043e\\u043c\", \"\\u0434\\u043e\\u043c\", \"\\u043f\\u043e\\u0440\\u0430\", \"\\u0434\\u0430\\u0432\\u0430\\u0442\\u044c\", \"\\u043b\\u0435\\u0442\\u043e\", \"\\u043f\\u043e\\u043a\\u0430\", \"\\u0434\\u043e\\u0436\\u0434\\u044c\", \"\\u043f\\u043e\\u043d\\u0435\\u0434\\u0435\\u043b\\u044c\\u043d\\u0438\\u043a\", \"\\u0441\\u0435\\u0440\\u0434\\u0446\\u0435\", \"\\u0441\\u043c\\u043e\\u0447\\u044c\", \"\\u043f\\u0440\\u0430\\u0432\\u0434\\u0430\", \"\\u043f\\u043b\\u043e\\u0445\\u043e\\u0439\", \"\\u0441\\u043a\\u043e\\u0440\\u043e\", \"\\u043f\\u043e\\u0441\\u043b\\u0435\\u0434\\u043d\\u0438\\u0439\", \"\\u0431\\u043e\\u043b\\u044c\\u0448\\u043e\\u0439\", \"\\u0441\\u0434\\u0435\\u043b\\u0430\\u0442\\u044c\", \"\\u043c\\u043e\\u0447\\u044c\", \"\\u0441\\u0435\\u0433\\u043e\\u0434\\u043d\\u044f\", \"\\u0447\\u0435\\u043b\\u043e\\u0432\\u0435\\u043a\", \"\\u0445\\u043e\\u0440\\u043e\\u0448\\u0438\\u0439\", \"\\u0441\\u0442\\u043e\\u043b\\u044c\\u043a\\u043e\", \"\\u043f\\u043e\\u043b\\u0443\\u0447\\u0430\\u0442\\u044c\\u0441\\u044f\", \"\\u043c\\u0435\\u0441\\u0442\\u043e\", \"\\u0441\\u043b\\u0443\\u0448\\u0430\\u0442\\u044c\", \"\\u043f\\u043e\\u0432\\u043e\\u0434\", \"\\u043d\\u0430\\u043e\\u0431\\u043e\\u0440\\u043e\\u0442\", \"\\u0432\\u044b\\u043f\\u0438\\u0442\\u044c\", \"\\u043f\\u043e\\u0439\\u0442\\u0438\", \"\\u0432\\u043e\\u043e\\u0431\\u0449\\u0435\", \"\\u043f\\u043e\\u043d\\u0438\\u043c\\u0430\\u0442\\u044c\", \"\\u0441\\u043f\\u0430\\u0442\\u044c\", \"\\u0443\\u0441\\u043d\\u0443\\u0442\\u044c\", \"\\u0434\\u0435\\u043b\\u0430\\u0442\\u044c\", \"\\u0440\\u0430\\u043d\\u043d\\u0438\\u0439\", \"\\u0447\\u0438\\u0442\\u0430\\u0442\\u044c\", \"\\u043c\\u0443\\u0437\\u044b\\u043a\\u0430\", \"\\u043f\\u043b\\u043e\\u0445\\u043e\\u0439\", \"\\u0443\\u0442\\u0440\\u043e\", \"\\u0434\\u043e\\u043c\", \"\\u0433\\u043e\\u043b\\u043e\\u0432\\u0430\", \"\\u0436\\u0430\\u043b\\u044c\", \"\\u043f\\u0435\\u0441\\u043d\\u044f\", \"\\u0431\\u043e\\u043b\\u0435\\u0442\\u044c\", \"\\u043d\\u0430\\u0441\\u0442\\u0440\\u043e\\u0435\\u043d\\u0438\\u0435\", \"\\u043f\\u044b\\u0442\\u0430\\u0442\\u044c\\u0441\\u044f\", \"\\u043f\\u043e\\u0436\\u0430\\u043b\\u0443\\u0439\\u0441\\u0442\\u0430\", \"\\u0436\\u0430\\u043b\\u043a\\u043e\", \"\\u0441\\u043a\\u0443\\u0447\\u0430\\u0442\\u044c\", \"\\u0431\\u043e\\u043b\\u044c\\u0448\\u043e\\u0439\", \"\\u0432\\u0438\\u0434\\u0435\\u0442\\u044c\", \"\\u0443\\u0440\\u043e\\u043a\", \"\\u0436\\u0438\\u0437\\u043d\\u044c\", \"\\u044d\\u0442\\u043e\", \"\\u0434\\u0440\\u0443\\u0433\", \"\\u0440\\u043e\\u0434\\u043d\\u044b\\u0439\", \"\\u0441\\u0442\\u0440\\u0430\\u0448\\u043d\\u043e\", \"\\u043c\\u043e\\u0441\\u043a\\u0432\\u0430\", \"\\u0430\\u0445\\u0430\\u0445\", \"\\u0432\\u043e\\u043e\\u0431\\u0449\\u0435\", \"\\u0443\\u0436\\u0430\\u0441\\u043d\\u043e\", \"\\u043a\\u0440\\u0443\\u0442\\u043e\", \"\\u0447\\u0443\\u0432\\u0441\\u0442\\u0432\\u043e\", \"\\u043f\\u043e\\u043d\\u0438\\u043c\\u0430\\u0442\\u044c\", \"\\u0441\\u043b\\u043e\\u0432\\u043e\", \"\\u043f\\u043b\\u043e\\u0445\\u043e\", \"\\u0443\\u0436\\u0430\\u0441\", \"\\u0447\\u0438\\u0442\\u0430\\u0442\\u044c\", \"\\u0441\\u0442\\u0430\\u0442\\u044c\", \"\\u0433\\u043e\\u0432\\u043e\\u0440\\u0438\\u0442\\u044c\", \"\\u0436\\u0430\\u043b\\u044c\", \"\\u043f\\u043b\\u043e\\u0445\\u043e\\u0439\", \"\\u043f\\u0435\\u0447\\u0430\\u043b\\u044c\\u043d\\u043e\", \"\\u043d\\u0430\\u043f\\u0438\\u0441\\u0430\\u0442\\u044c\", \"\\u0436\\u0438\\u0437\\u043d\\u044c\", \"\\u0434\\u0435\\u043b\\u0430\\u0442\\u044c\", \"\\u0436\\u0438\\u0442\\u044c\", \"\\u0442\\u043e\\u0447\\u043d\\u043e\", \"\\u0441\\u043d\\u043e\\u0432\\u0430\", \"\\u043f\\u043e\\u043b\\u0443\\u0447\\u0438\\u0442\\u044c\\u0441\\u044f\", \"\\u043e\\u0431\\u0438\\u0434\\u043d\\u043e\", \"\\u043c\\u0430\\u043b\\u043e\", \"\\u043f\\u043e\\u0445\\u043e\\u0434\", \"\\u043d\\u0443\\u0436\\u043d\\u043e\", \"\\u0431\\u043e\\u043b\\u0435\\u0442\\u044c\", \"\\u0432\\u0438\\u0434\\u0435\\u0442\\u044c\", \"\\u043b\\u044e\\u0431\\u0438\\u043c\\u044b\\u0439\", \"\\u0435\\u0449\\u0451\", \"\\u043f\\u043e\\u0447\\u0435\\u043c\\u0443\", \"\\u043a\\u043e\\u0442\\u043e\\u0440\\u044b\\u0439\", \"\\u0432\\u0440\\u0435\\u043c\\u044f\", \"\\u0440\\u0430\\u0431\\u043e\\u0442\\u0430\", \"\\u043d\\u0430\\u0432\\u0435\\u0440\\u043d\\u043e\\u0435\", \"\\u0440\\u0443\\u0441\\u0441\\u043a\\u0438\\u0439\", \"\\u0437\\u0440\\u044f\", \"\\u0448\\u0443\\u0442\\u0438\\u0442\\u044c\", \"\\u0434\\u0435\\u043b\\u0430\\u0442\\u044c\", \"\\u0441\\u043f\\u0430\\u0442\\u044c\", \"\\u043c\\u0435\\u0441\\u044f\\u0446\", \"\\u0433\\u043e\\u0432\\u043e\\u0440\\u0438\\u0442\\u044c\", \"\\u043f\\u043e\\u0441\\u043b\\u0435\\u0434\\u043d\\u0438\\u0439\", \"\\u043d\\u0430\\u0441\\u0442\\u0440\\u043e\\u0435\\u043d\\u0438\\u0435\", \"\\u0436\\u0430\\u043b\\u044c\", \"\\u0432\\u0435\\u0440\\u043d\\u0443\\u0442\\u044c\", \"\\u0431\\u043e\\u043b\\u0435\\u0442\\u044c\", \"\\u0442\\u0432\\u043e\\u0439\", \"\\u043f\\u043b\\u043e\\u0445\\u043e\", \"\\u0436\\u0438\\u0437\\u043d\\u044c\", \"\\u043f\\u043e\\u043d\\u0438\\u043c\\u0430\\u0442\\u044c\", \"\\u0441\\u0442\\u0430\\u0442\\u044c\", \"\\u0434\\u0430\\u043b\\u0435\\u043a\\u043e\", \"\\u043f\\u043b\\u043e\\u0445\\u043e\\u0439\", \"\\u0443\\u043b\\u0438\\u0446\\u0430\", \"\\u0432\\u043e\\u043e\\u0431\\u0449\\u0435\", \"\\u0443\\u0442\\u0440\\u043e\", \"\\u0441\\u043a\\u0443\\u0447\\u0430\\u0442\\u044c\", \"\\u0440\\u0430\\u043d\\u043d\\u0438\\u0439\", \"\\u043f\\u043e\\u043a\\u0430\", \"\\u043d\\u0438\\u0431\\u044b\\u0442\\u044c\", \"\\u0434\\u043e\\u043c\", \"\\u0431\\u043e\\u043b\\u044c\\u0448\\u043e\\u0439\", \"\\u0447\\u0430\\u0441\", \"\\u0443\\u0440\\u043e\\u043a\", \"\\u0441\\u0434\\u0435\\u043b\\u0430\\u0442\\u044c\", \"\\u043e\\u0447\\u0435\\u043d\\u044c\", \"\\u0437\\u0430\\u0432\\u0442\\u0440\\u0430\", \"\\u0438\\u0434\\u0442\\u0438\", \"\\u0448\\u043a\\u043e\\u043b\\u0430\", \"\\u043c\\u0430\\u043c\\u0430\", \"\\u0440\\u0430\\u0431\\u043e\\u0442\\u0430\\u0442\\u044c\", \"\\u0441\\u043f\\u0430\\u0441\\u0438\\u0431\\u043e\", \"\\u0433\\u043b\\u0430\\u0432\\u043d\\u043e\\u0435\", \"\\u0441\\u043f\\u0430\\u0442\\u044c\", \"\\u0445\\u043e\\u043b\\u043e\\u0434\\u043d\\u043e\", \"\\u0432\\u0441\\u0442\\u0430\\u0432\\u0430\\u0442\\u044c\", \"\\u0441\\u043d\\u043e\\u0432\\u0430\", \"\\u0443\\u0441\\u0442\\u0430\\u0442\\u044c\", \"\\u043f\\u043e\\u0439\\u0442\\u0438\", \"\\u0434\\u043e\\u043c\", \"\\u0441\\u043a\\u0443\\u0447\\u0430\\u0442\\u044c\", \"\\u0432\\u043e\\u043e\\u0431\\u0449\\u0435\", \"\\u0443\\u0447\\u0451\\u0431\\u0430\", \"\\u0431\\u043e\\u043b\\u0435\\u0442\\u044c\", \"\\u043d\\u0430\\u0445\\u0443\\u0439\", \"\\u0443\\u0442\\u0440\\u043e\", \"\\u0432\\u044b\\u0445\\u043e\\u0434\\u043d\\u043e\\u0439\", \"\\u043f\\u043e\\u043d\\u0435\\u0434\\u0435\\u043b\\u044c\\u043d\\u0438\\u043a\", \"\\u043f\\u043b\\u043e\\u0445\\u043e\", \"\\u0440\\u0430\\u043d\\u043e\", \"\\u0443\\u043b\\u0438\\u0446\\u0430\", \"\\u043a\\u0430\\u043d\\u0438\\u043a\\u0443\\u043b\\u044b\", \"\\u0436\\u0430\\u043b\\u044c\", \"\\u043f\\u0440\\u0438\\u0439\\u0442\\u0438\\u0441\\u044c\", \"\\u044d\\u043a\\u0437\\u0430\\u043c\\u0435\\u043d\", \"\\u0434\\u0435\\u043b\\u0430\\u0442\\u044c\", \"\\u0443\\u0440\\u043e\\u043a\", \"\\u0447\\u0430\\u0441\", \"\\u0431\\u043e\\u043b\\u044c\\u0448\\u043e\\u0439\", \"\\u0432\\u0441\\u0451\", \"\\u043f\\u0438\\u0437\\u0434\\u0435\\u0446\", \"\\u043f\\u0440\\u044f\\u043c\", \"\\u0440\\u0430\\u0434\\u0430\", \"\\u0437\\u0430\\u0435\\u0431\\u0438\\u0441\\u044c\", \"\\u043f\\u043e\\u0431\\u0435\\u0434\\u0438\\u0442\\u044c\", \"\\u0431\\u043e\\u043b\\u0435\\u0442\\u044c\", \"\\u0432\\u0440\\u043e\\u0434\\u0435\", \"\\u043f\\u043b\\u043e\\u0445\\u043e\", \"\\u0441\\u0442\\u0430\\u0442\\u044c\", \"\\u0431\\u043b\\u044f\\u0434\\u044c\", \"\\u0434\\u0435\\u043b\\u0430\\u0442\\u044c\", \"\\u0434\\u043e\\u043c\", \"\\u0432\\u043e\\u043e\\u0431\\u0449\\u0435\", \"\\u0440\\u0443\\u043a\\u0430\", \"\\u044d\\u043a\\u0437\\u0430\\u043c\\u0435\\u043d\", \"\\u0441\\u043a\\u043e\\u0440\\u043e\", \"\\u0431\\u043e\\u043b\\u044c\\u0448\\u043e\\u0439\", \"\\u0441\\u043f\\u0430\\u0442\\u044c\", \"\\u043f\\u043b\\u0430\\u043a\\u0430\\u0442\\u044c\", \"\\u043d\\u0443\\u0436\\u043d\\u043e\", \"\\u0433\\u043e\\u0432\\u043e\\u0440\\u0438\\u0442\\u044c\", \"\\u0433\\u043e\\u043b\\u043e\\u0432\\u0430\", \"\\u043d\\u0430\\u0434\\u0435\\u044f\\u0442\\u044c\\u0441\\u044f\", \"\\u0441\\u043a\\u0443\\u0447\\u0430\\u0442\\u044c\", \"\\u0436\\u0434\\u0430\\u0442\\u044c\", \"\\u0440\\u044f\\u0434\\u043e\\u043c\", \"\\u0443\\u0436\\u0430\\u0441\", \"\\u0447\\u0443\\u0432\\u0441\\u0442\\u0432\\u043e\\u0432\\u0430\\u0442\\u044c\", \"\\u0437\\u0430\\u043a\\u043e\\u043d\\u0447\\u0438\\u0442\\u044c\\u0441\\u044f\", \"\\u043e\\u0441\\u0442\\u0430\\u0442\\u044c\\u0441\\u044f\", \"\\u0436\\u0438\\u0437\\u043d\\u044c\", \"\\u043f\\u043e\\u0439\\u0442\\u0438\", \"\\u043d\\u0430\\u0441\\u0442\\u0440\\u043e\\u0435\\u043d\\u0438\\u0435\", \"\\u0437\\u0438\\u043c\\u0430\", \"\\u0441\\u0434\\u0435\\u043b\\u0430\\u0442\\u044c\", \"\\u043f\\u0440\\u043e\\u0439\\u0442\\u0438\", \"\\u0434\\u0435\\u043d\\u044c\", \"\\u043d\\u0435\\u0434\\u0435\\u043b\\u044f\", \"\\u0432\\u0442\\u043e\\u0440\\u043e\\u0439\", \"\\u043d\\u0440\\u0430\\u0432\\u0438\\u0442\\u044c\\u0441\\u044f\", \"\\u0441\\u043e\\u043d\", \"\\u0438\\u0441\\u0442\\u043e\\u0440\\u0438\\u044f\", \"\\u0443\\u043c\", \"\\u043f\\u0440\\u0435\\u043a\\u0440\\u0430\\u0441\\u043d\\u044b\\u0439\", \"\\u043f\\u043e\\u0434\\u0440\\u044f\\u0434\", \"\\u043c\\u0443\\u0436\\u0447\\u0438\\u043d\\u0430\", \"\\u0441\\u043e\\u0439\\u0442\\u0438\", \"\\u043a\\u043e\\u0441\\u0442\\u044e\\u043c\", \"\\u043f\\u043e\\u0441\\u043b\\u0435\\u0434\\u043d\\u0438\\u0439\", \"\\u0432\\u044b\\u0445\\u043e\\u0434\\u043d\\u043e\\u0439\", \"\\u0443\\u0447\\u0438\\u0442\\u044c\", \"\\u0446\\u0435\\u043b\\u044b\\u0439\", \"\\u0443\\u0447\\u0451\\u0431\\u0430\", \"\\u0441\\u043f\\u0430\\u0442\\u044c\", \"\\u0432\\u043e\\u043e\\u0431\\u0449\\u0435\", \"\\u0440\\u043e\\u0436\\u0434\\u0435\\u043d\\u0438\\u0435\", \"\\u0431\\u043e\\u043b\\u044c\\u0448\\u043e\\u0439\", \"\\u044d\\u043a\\u0437\\u0430\\u043c\\u0435\\u043d\", \"\\u0434\\u0435\\u043b\\u0430\\u0442\\u044c\", \"\\u0434\\u043e\\u043c\", \"\\u043d\\u0430\\u0434\\u043e\\u0435\\u0441\\u0442\\u044c\", \"\\u0441\\u0435\\u0441\\u0441\\u0438\\u044f\", \"\\u043d\\u0430\\u0441\\u0442\\u0430\\u0442\\u044c\", \"\\u0433\\u043e\\u043b\\u043e\\u0432\\u0430\", \"\\u043f\\u043e\\u0436\\u0430\\u043b\\u0443\\u0439\\u0441\\u0442\\u0430\", \"\\u043d\\u0435\\u0441\\u043a\\u043e\\u043b\\u044c\\u043a\\u043e\", \"\\u0431\\u043e\\u043b\\u0435\\u0442\\u044c\", \"\\u0447\\u0430\\u0441\", \"\\u0443\\u0442\\u0440\\u043e\", \"\\u0443\\u0440\\u043e\\u043a\", \"\\u0431\\u043b\\u0438\\u043d\", \"\\u0441\\u0432\\u043e\\u0439\", \"\\u0441\\u0430\\u043c\\u044b\\u0439\", \"\\u043a\\u0430\\u0436\\u0434\\u044b\\u0439\", \"\\u043f\\u043e\\u0441\\u043c\\u043e\\u0442\\u0440\\u0435\\u0442\\u044c\", \"\\u0437\\u043d\\u0430\\u0447\\u0438\\u0442\", \"\\u043e\\u0449\\u0443\\u0449\\u0435\\u043d\\u0438\\u0435\", \"\\u0447\\u0430\\u0441\\u0442\\u044c\", \"\\u0440\\u0430\\u0434\\u043e\\u0432\\u0430\\u0442\\u044c\", \"\\u0444\\u0430\\u043a\\u0442\", \"\\u043a\\u0443\\u0440\\u0438\\u0442\\u044c\", \"\\u0436\\u0438\\u0437\\u043d\\u044c\", \"\\u0432\\u043e\\u043e\\u0431\\u0449\\u0435\", \"\\u0434\\u0435\\u043b\\u0430\\u0442\\u044c\", \"\\u043f\\u043e\\u0439\\u0442\\u0438\", \"\\u0432\\u044b\\u0431\\u043e\\u0440\", \"\\u0443\\u0442\\u0440\\u043e\", \"\\u0432\\u0441\\u0442\\u0430\\u0432\\u0430\\u0442\\u044c\", \"\\u044d\\u043a\\u0437\\u0430\\u043c\\u0435\\u043d\", \"\\u0447\\u0430\\u0441\", \"\\u043d\\u0435\\u043f\\u0440\\u0430\\u0432\\u0438\\u043b\\u044c\\u043d\\u044b\\u0439\", \"\\u043f\\u0430\\u0440\\u0435\\u043d\\u044c\", \"\\u043c\\u0438\\u043d\\u0443\\u0442\\u0430\", \"\\u0440\\u0435\\u0431\\u044f\\u0442\\u0430\", \"\\u043d\\u0430\\u043f\\u0438\\u0441\\u0430\\u0442\\u044c\", \"\\u0431\\u043e\\u043b\\u044c\\u0448\\u043e\\u0439\", \"\\u0443\\u0436\\u0430\\u0441\\u043d\\u044b\\u0439\", \"\\u043b\\u0438\\u0447\\u043d\\u044b\\u0439\", \"\\u043d\\u0430\\u0434\\u0435\\u044f\\u0442\\u044c\\u0441\\u044f\", \"\\u0443\\u0447\\u0438\\u0442\\u044c\", \"\\u0434\\u043e\\u043c\", \"\\u0441\\u043f\\u0430\\u0442\\u044c\", \"\\u043b\\u044e\\u0431\\u0438\\u043c\\u044b\\u0439\", \"\\u0443\\u0440\\u043e\\u043a\", \"\\u0432\\u0435\\u0441\\u044c\", \"\\u0441\\u043a\\u0430\\u0437\\u0430\\u0442\\u044c\", \"\\u0434\\u0435\\u043b\\u043e\", \"\\u043f\\u043e\\u043d\\u044f\\u0442\\u044c\", \"\\u0437\\u0430\\u043c\\u0435\\u0442\\u0438\\u0442\\u044c\", \"\\u0441\\u0443\\u0447\\u043a\\u0430\", \"\\u043e\\u043b\\u044f\", \"\\u0432\\u043e\\u043e\\u0431\\u0449\\u0435\", \"\\u0436\\u0438\\u0437\\u043d\\u044c\", \"\\u0431\\u043e\\u043b\\u044c\\u0448\\u043e\\u0439\", \"\\u043f\\u043b\\u043e\\u0445\\u043e\\u0439\", \"\\u0441\\u0440\\u0430\\u0437\\u0443\", \"\\u0431\\u043e\\u043b\\u0435\\u0442\\u044c\", \"\\u043f\\u043b\\u043e\\u0445\\u043e\", \"\\u0441\\u043a\\u043e\\u0440\\u0435\\u0435\", \"\\u0433\\u043e\\u0432\\u043e\\u0440\\u0438\\u0442\\u044c\", \"\\u0434\\u0435\\u043b\\u0430\\u0442\\u044c\", \"\\u0442\\u0432\\u043e\\u0439\", \"\\u043a\\u043b\\u0430\\u0441\\u0441\\u043d\\u044b\\u0439\", \"\\u043f\\u0440\\u0430\\u0432\\u0434\\u0430\", \"\\u0434\\u043e\\u043c\", \"\\u043d\\u0443\\u0436\\u043d\\u043e\", \"\\u0436\\u0430\\u043b\\u043a\\u043e\", \"\\u043f\\u043e\\u043c\\u043d\\u0438\\u0442\\u044c\", \"\\u043c\\u0438\\u0440\", \"\\u0441\\u043f\\u0430\\u0441\\u0442\\u044c\", \"\\u0431\\u043e\\u044f\\u0442\\u044c\\u0441\\u044f\", \"\\u043b\\u0438\\u0448\\u044c\", \"\\u043a\\u0440\\u043e\\u0432\\u044c\", \"\\u0433\\u043e\\u043b\\u043e\\u0432\\u0430\", \"\\u0443\\u0442\\u0440\\u043e\", \"\\u0441\\u043f\\u0430\\u0442\\u044c\", \"\\u0447\\u0430\\u0441\", \"\\u0441\\u043a\\u0443\\u0447\\u0430\\u0442\\u044c\", \"\\u043f\\u0440\\u043e\\u0441\\u0442\\u043e\", \"\\u0433\\u043e\\u0434\", \"\\u043d\\u043e\\u0432\\u044b\\u0439\", \"\\u0441\\u0438\\u043b\\u044c\\u043d\\u043e\", \"\\u043f\\u043e\\u043b\\u043d\\u044b\\u0439\", \"\\u0447\\u0438\\u0442\\u0430\\u0442\\u0435\\u043b\\u044c\", \"\\u0436\\u0434\\u0430\\u0442\\u044c\", \"\\u0432\\u043e\\u043e\\u0431\\u0449\\u0435\", \"\\u043f\\u0435\\u0447\\u0430\\u043b\\u044c\\u043d\\u043e\", \"\\u0431\\u043e\\u043b\\u0435\\u0442\\u044c\", \"\\u0436\\u0438\\u0437\\u043d\\u044c\", \"\\u0443\\u0436\\u0430\\u0441\\u043d\\u043e\", \"\\u0433\\u043e\\u0432\\u043d\\u043e\", \"\\u0445\\u043e\\u0434\\u0438\\u0442\\u044c\", \"\\u0431\\u044b\\u0432\\u0430\\u0442\\u044c\", \"\\u0445\\u043e\\u043a\\u043a\\u0435\\u0439\", \"\\u0432\\u044b\\u0439\\u0442\\u0438\", \"\\u043a\\u0430\\u0441\\u0441\\u0430\", \"\\u043f\\u043b\\u0430\\u0447\", \"\\u0442\\u0432\\u0438\\u0442\\u0442\\u0435\\u0440\", \"\\u043f\\u0440\\u043e\\u0448\\u043b\\u044b\\u0439\", \"\\u0431\\u043e\\u0433\", \"\\u043f\\u043e\\u0436\\u0440\\u0430\\u0442\\u044c\", \"\\u0440\\u0443\\u043a\\u0430\", \"\\u0442\\u043e\\u0432\\u0430\\u0440\\u0438\\u0449\", \"\\u0431\\u043e\\u044f\\u0442\\u044c\\u0441\\u044f\", \"\\u043a\\u0430\\u0437\\u0430\\u0442\\u044c\\u0441\\u044f\", \"\\u0443\\u0436\\u0430\\u0441\", \"\\u043a\\u0438\\u0435\\u0432\", \"\\u043f\\u043e\\u043a\\u0443\\u043f\\u0430\\u0442\\u044c\", \"\\u043d\\u0430\\u0447\\u0430\\u043b\\u043e\", \"\\u0441\\u043a\\u0443\\u0447\\u0430\\u0442\\u044c\", \"\\u0431\\u043e\\u043b\\u044c\\u0448\\u043e\\u0439\", \"\\u0441\\u0442\\u0430\\u0440\\u044b\\u0439\", \"\\u043f\\u0440\\u043e\\u0439\\u0442\\u0438\", \"\\u043f\\u043b\\u0430\\u043a\\u0430\\u0442\\u044c\", \"\\u0433\\u043e\\u0432\\u043e\\u0440\\u0438\\u0442\\u044c\", \"\\u0434\\u043e\\u043c\", \"\\u043f\\u0438\\u0441\\u0430\\u0442\\u044c\", \"\\u0434\\u0443\\u043c\\u0430\\u0442\\u044c\", \"\\u0445\\u043e\\u0442\\u0435\\u0442\\u044c\\u0441\\u044f\", \"\\u043f\\u0435\\u0440\\u0432\\u044b\\u0439\", \"\\u0440\\u0430\\u0432\\u043d\\u043e\", \"\\u043d\\u0430\\u0439\\u0442\\u0438\", \"\\u0441\\u0435\\u0440\\u0438\\u044f\", \"\\u043f\\u043e\\u044d\\u0442\\u043e\\u043c\\u0443\", \"\\u0445\\u0443\\u0439\\u043d\\u044f\", \"\\u0433\\u0440\\u0443\\u043f\\u043f\\u0430\", \"\\u0432\\u0441\\u044f\\u043a\\u0438\\u0439\", \"\\u043a\\u0430\\u0447\\u0430\\u0442\\u044c\", \"\\u0441\\u043f\\u0430\\u0442\\u044c\", \"\\u0441\\u043a\\u0443\\u0447\\u0430\\u0442\\u044c\", \"\\u0432\\u043e\\u043e\\u0431\\u0449\\u0435\", \"\\u0442\\u0432\\u0438\\u0442\", \"\\u043f\\u043b\\u0430\\u043a\\u0430\\u0442\\u044c\", \"\\u0438\\u0441\\u043a\\u0430\\u0442\\u044c\", \"\\u0433\\u043e\\u043b\\u043e\\u0432\\u0430\", \"\\u0435\\u0445\\u0430\\u0442\\u044c\", \"\\u0440\\u0430\\u0441\\u0441\\u0442\\u0430\\u0442\\u044c\\u0441\\u044f\", \"\\u0434\\u0443\\u0448\\u0430\", \"\\u0431\\u043e\\u0433\", \"\\u0442\\u0432\\u0438\\u0442\\u0442\\u0435\\u0440\", \"\\u0434\\u0435\\u043b\\u0430\\u0442\\u044c\", \"\\u0433\\u043e\\u0432\\u043e\\u0440\\u0438\\u0442\\u044c\", \"\\u043d\\u0430\\u043f\\u0438\\u0441\\u0430\\u0442\\u044c\", \"\\u043f\\u043e\\u043b\\u044e\\u0431\\u0438\\u0442\\u044c\", \"\\u0431\\u043e\\u043b\\u044c\\u0448\\u043e\\u0439\", \"\\u0438\\u043d\\u0442\\u0435\\u0440\\u043d\\u0435\\u0442\", \"\\u0441\\u043a\\u0443\\u0447\\u043d\\u043e\", \"\\u0434\\u043e\\u043c\", \"\\u0443\\u0440\\u043e\\u043a\", \"\\u0445\\u043e\\u0442\\u0435\\u0442\\u044c\", \"\\u0441\\u0438\\u0434\\u0435\\u0442\\u044c\", \"\\u0432\\u0437\\u044f\\u0442\\u044c\", \"\\u0436\\u0440\\u0430\\u0442\\u044c\", \"\\u043f\\u043e\\u0434\\u0434\\u0435\\u0440\\u0436\\u043a\\u0430\", \"\\u0441\\u043f\\u0430\\u0442\\u044c\", \"\\u0434\\u043e\\u043c\", \"\\u0434\\u0435\\u043b\\u0430\\u0442\\u044c\", \"\\u0434\\u043e\\u043c\\u043e\\u0439\", \"\\u043d\\u0438\\u0431\\u044b\\u0442\\u044c\", \"\\u0442\\u0432\\u043e\\u0439\", \"\\u0443\\u043b\\u0438\\u0446\\u0430\", \"\\u0443\\u0432\\u0438\\u0434\\u0435\\u0442\\u044c\", \"\\u0436\\u0430\\u043b\\u044c\", \"\\u0443\\u0436\\u0430\\u0441\\u043d\\u043e\", \"\\u043f\\u043e\\u0439\\u0442\\u0438\", \"\\u0442\\u0435\\u043b\\u0435\\u0444\\u043e\\u043d\", \"\\u0431\\u043e\\u043b\\u0435\\u0442\\u044c\", \"\\u043b\\u0435\\u0442\\u043e\", \"\\u0434\\u0430\\u0432\\u043d\\u043e\", \"\\u0441\\u043a\\u0443\\u0447\\u0430\\u0442\\u044c\", \"\\u0445\\u043e\\u0434\\u0438\\u0442\\u044c\", \"\\u0445\\u043e\\u043b\\u043e\\u0434\\u043d\\u043e\", \"\\u0433\\u043e\\u0432\\u043e\\u0440\\u0438\\u0442\\u044c\", \"\\u0436\\u0435\\u043b\\u0430\\u043d\\u0438\\u0435\", \"\\u0443\\u0439\\u0442\\u0438\", \"\\u043f\\u043e\\u0441\\u043b\\u0435\\u0434\\u043d\\u0438\\u0439\", \"\\u0431\\u043e\\u044f\\u0442\\u044c\\u0441\\u044f\", \"\\u0432\\u0441\\u0442\\u0430\\u0432\\u0430\\u0442\\u044c\", \"\\u0436\\u0438\\u0442\\u044c\", \"\\u0432\\u043e\\u043e\\u0431\\u0449\\u0435\", \"\\u0431\\u043e\\u043b\\u044c\\u0448\\u043e\\u0439\", \"\\u0443\\u0440\\u043e\\u043a\", \"\\u043f\\u0430\\u0440\\u0430\", \"\\u043d\\u0430\\u0448\", \"\\u0432\\u0447\\u0435\\u0440\\u0430\", \"\\u043f\\u0440\\u0438\\u0439\\u0442\\u0438\", \"\\u0437\\u0430\\u0431\\u044b\\u0442\\u044c\", \"\\u043f\\u0440\\u0438\\u0435\\u0445\\u0430\\u0442\\u044c\", \"\\u0434\\u043e\\u0431\\u0440\\u044b\\u0439\", \"\\u0443\\u0442\\u0440\\u043e\\u043c\", \"\\u043f\\u043e\\u0434\\u0443\\u043c\\u0430\\u0442\\u044c\", \"\\u043e\\u0431\\u0449\\u0430\\u0442\\u044c\\u0441\\u044f\", \"\\u0431\\u043b\\u0430\", \"\\u0434\\u043e\\u043c\\u043e\\u0439\", \"\\u0432\\u0435\\u0447\\u0435\\u0440\", \"\\u043f\\u0440\\u0430\\u0432\\u043e\", \"\\u043a\\u0443\\u043f\\u0438\\u0442\\u044c\", \"\\u0441\\u043a\\u043e\\u0440\\u043e\", \"\\u0434\\u0430\\u0442\\u044c\", \"\\u043c\\u0438\\u043d\\u0443\\u0442\\u0430\", \"\\u0443\\u0442\\u0440\\u043e\", \"\\u0434\\u043e\\u043c\", \"\\u0447\\u0430\\u0441\", \"\\u0432\\u043e\\u043e\\u0431\\u0449\\u0435\", \"\\u043b\\u0435\\u0447\\u044c\", \"\\u043d\\u0430\\u043f\\u0438\\u0441\\u0430\\u0442\\u044c\", \"\\u043f\\u0443\\u0442\\u0438\\u043d\", \"\\u044f\\u043d\\u0443\\u043a\\u043e\\u0432\\u0438\\u0447\", \"\\u0441\\u043a\\u0443\\u0447\\u0430\\u0442\\u044c\", \"levsharansky\", \"\\u0441\\u0440\\u0430\\u0432\\u043d\\u0438\\u0442\\u044c\", \"\\u0433\\u043e\\u0432\\u043e\\u0440\\u0438\\u0442\\u044c\\u0441\\u044f\", \"\\u043a\\u0440\\u043e\\u0432\\u0430\\u0432\\u044b\\u0439\", \"\\u0433\\u043e\\u0432\\u043e\\u0440\\u0438\\u0442\\u044c\", \"\\u0433\\u043e\\u0441\\u0442\\u044c\", \"\\u0441\\u043f\\u0430\\u0442\\u044c\", \"\\u0437\\u0438\\u043c\\u0430\", \"\\u0431\\u043e\\u043b\\u044c\\u0448\\u043e\\u0439\", \"\\u0441\\u0442\\u0430\\u0442\\u044c\", \"\\u043d\\u043e\\u0447\\u044c\", \"\\u0444\\u0438\\u043b\\u044c\\u043c\", \"\\u043f\\u0430\\u043f\\u0430\", \"\\u0441\\u0435\\u0440\\u0438\\u0430\\u043b\", \"\\u043a\\u043d\\u0438\\u0433\\u0430\", \"\\u043a\\u043e\\u0444\\u0435\", \"\\u043e\\u0441\\u0442\\u0430\\u043b\\u044c\\u043d\\u043e\\u0439\", \"\\u043a\\u043e\\u043d\\u0442\\u0440\\u043e\\u043b\\u044c\\u043d\\u044b\\u0439\", \"\\u0441\\u0443\\u043f\\u0435\\u0440\", \"\\u0432\\u0441\\u0442\\u0440\\u0435\\u0447\\u0430\\u0442\\u044c\", \"\\u0447\\u0430\\u0441\", \"\\u043f\\u043e\\u0439\\u0442\\u0438\", \"\\u0436\\u0434\\u0430\\u0442\\u044c\", \"\\u0434\\u0435\\u043b\\u0430\\u0442\\u044c\", \"\\u0443\\u0442\\u0440\\u043e\", \"\\u043b\\u044e\\u0431\\u0438\\u043c\\u044b\\u0439\", \"\\u043d\\u0430\\u0447\\u0438\\u043d\\u0430\\u0442\\u044c\\u0441\\u044f\", \"\\u0437\\u0430\\u0431\\u043e\\u043b\\u0435\\u0442\\u044c\", \"\\u0443\\u0441\\u043d\\u0443\\u0442\\u044c\", \"\\u043f\\u043b\\u0451\\u043d\\u043a\\u0430\", \"\\u043f\\u0440\\u043e\\u0441\\u044b\\u043f\\u0430\\u0442\\u044c\\u0441\\u044f\", \"\\u043f\\u043b\\u0430\\u043a\\u0430\\u0442\\u044c\", \"\\u0437\\u0430\\u043a\\u0430\\u043d\\u0447\\u0438\\u0432\\u0430\\u0442\\u044c\\u0441\\u044f\", \"\\u043f\\u0438\\u0442\\u044c\", \"\\u043f\\u043e\\u043b\", \"\\u0432\\u0441\\u0442\\u0430\\u0442\\u044c\", \"\\u043a\\u0443\\u043f\\u0438\\u0442\\u044c\", \"\\u0440\\u0443\\u0431\\u043b\\u044c\", \"\\u0441\\u043f\\u0430\\u0442\\u044c\", \"\\u043f\\u043e\\u0441\\u043b\\u0435\\u0434\\u043d\\u0438\\u0439\", \"\\u0431\\u043e\\u043b\\u044c\\u0448\\u043e\\u0439\", \"\\u0443\\u0440\\u043e\\u043a\", \"\\u0441\\u0434\\u0435\\u043b\\u0430\\u0442\\u044c\", \"\\u0441\\u043c\\u043e\\u0442\\u0440\\u0435\\u0442\\u044c\", \"\\u043d\\u0438\\u043a\\u0442\\u043e\", \"\\u043f\\u043e\\u043f\\u0430\\u0441\\u0442\\u044c\", \"\\u0434\\u043e\\u0431\\u0440\\u043e\", \"\\u0441\\u043b\\u0443\\u0447\\u0430\\u0439\\u043d\\u043e\", \"\\u043f\\u043e\\u043d\\u0438\\u043c\\u0430\\u0442\\u044c\", \"\\u0441\\u043b\\u044b\\u0448\\u0430\\u0442\\u044c\", \"\\u043a\\u043e\\u043d\\u0446\\u0435\\u0440\\u0442\", \"\\u0441\\u043f\\u0430\\u0442\\u044c\", \"\\u043c\\u043e\\u043c\\u0435\\u043d\\u0442\", \"\\u0432\\u0438\\u0434\\u0435\\u0442\\u044c\", \"\\u0440\\u0435\\u0432\\u0435\\u0442\\u044c\", \"\\u0436\\u0435\\u043b\\u0430\\u0442\\u044c\", \"\\u0441\\u043b\\u0435\\u0437\\u0430\", \"\\u0441\\u0435\\u043c\\u044c\\u044f\", \"\\u0432\\u0440\\u043e\\u0434\\u0435\", \"\\u043d\\u0443\\u0436\\u043d\\u044b\\u0439\", \"\\u0433\\u0440\\u044f\\u0437\\u043d\\u044b\\u0439\", \"\\u0441\\u0442\\u0430\\u0442\\u044c\", \"\\u0440\\u0435\\u043a\\u0430\", \"\\u043e\\u0442\\u0432\\u0435\\u0442\\u0438\\u0442\\u044c\", \"\\u043f\\u0430\\u0448\\u043a\\u0430\", \"\\u0447\\u0438\\u0442\\u0430\\u0442\\u044c\", \"\\u0431\\u0438\\u0430\\u0442\\u043b\\u043e\\u043d\", \"\\u0436\\u0430\\u043b\\u044c\", \"\\u0436\\u0430\\u043b\\u043a\\u043e\", \"\\u043e\\u043b\\u0438\\u043c\\u043f\\u0438\\u0430\\u0434\\u0430\", \"\\u0443\\u043a\\u0440\\u0430\\u0438\\u043d\\u0430\", \"\\u0442\\u0440\\u0435\\u0442\\u0438\\u0439\", \"\\u0440\\u043e\\u0441\\u0441\\u0438\\u044f\", \"\\u043a\\u043e\\u043d\\u0435\\u0446\", \"\\u0434\\u043e\\u043c\", \"\\u0431\\u043e\\u043b\\u044c\\u0448\\u043e\\u0439\", \"\\u0442\\u0432\\u043e\\u0439\", \"\\u0432\\u043e\\u043e\\u0431\\u0449\\u0435\", \"\\u0447\\u0430\\u0441\", \"\\u0433\\u043e\\u0432\\u043e\\u0440\\u0438\\u0442\\u044c\", \"\\u0445\\u043e\\u0442\\u044f\", \"amp\", \"\\u0433\\u0443\\u043b\\u044f\\u0442\\u044c\", \"\\u0444\\u043e\\u0442\\u043a\\u0430\", \"\\u0441\\u0432\\u0435\\u0442\", \"\\u043f\\u0440\\u0430\\u0437\\u0434\\u043d\\u0438\\u043a\", \"\\u0440\\u0430\\u0441\\u0441\\u043a\\u0430\\u0437\\u0430\\u0442\\u044c\", \"\\u043e\\u0433\\u043e\\u043d\\u044c\", \"\\u043f\\u043e\\u0437\\u0434\\u043d\\u0438\\u0439\", \"\\u0447\\u0451\\u0440\\u043d\\u044b\\u0439\", \"\\u0432\\u043e\\u043a\\u0440\\u0443\\u0433\", \"\\u0434\\u0435\\u043c\\u043e\\u0442\\u0438\\u0432\\u0430\\u0442\\u043e\\u0440\", \"\\u043d\\u0435\\u043a\\u0440\\u043e\\u043b\\u043e\\u0433\", \"\\u0432\\u043d\\u0438\\u0437\\u0443\", \"\\u0440\\u0430\\u043c\\u043a\\u0430\", \"\\u043d\\u0430\\u0434\\u043f\\u0438\\u0441\\u044c\", \"\\u043d\\u0430\\u043f\\u043e\\u043c\\u043d\\u0438\\u0442\\u044c\", \"\\u043d\\u0430\\u0437\\u044b\\u0432\\u0430\\u0442\\u044c\\u0441\\u044f\", \"\\u043f\\u043e\\u0439\\u0442\\u0438\", \"\\u0443\\u043b\\u0438\\u0446\\u0430\", \"\\u0433\\u043e\\u0440\\u043e\\u0434\", \"\\u043e\\u043b\\u0438\\u043c\\u043f\\u0438\\u0439\\u0441\\u043a\\u0438\\u0439\", \"\\u043f\\u043e\\u0433\\u043e\\u0434\\u0430\", \"\\u0431\\u043e\\u044f\\u0442\\u044c\\u0441\\u044f\", \"\\u0434\\u0432\\u0435\\u0440\\u044c\", \"\\u043b\\u0430\\u0434\\u043d\\u044b\\u0439\", \"\\u043d\\u0438\\u0431\\u044b\\u0442\\u044c\", \"\\u0432\\u044b\\u0445\\u043e\\u0434\\u0438\\u0442\\u044c\", \"\\u0443\\u043a\\u0440\\u0430\\u0438\\u043d\\u0435\\u0446\", \"\\u043d\\u0430\\u0441\\u0438\\u043b\\u0438\\u0435\", \"\\u0441\\u0442\\u043e\\u0438\\u0442\\u044c\", \"\\u0431\\u043e\\u043b\\u0435\\u0442\\u044c\", \"\\u043f\\u043e\\u043d\\u0438\\u043c\\u0430\\u0442\\u044c\", \"\\u0441\\u0434\\u0435\\u043b\\u0430\\u0442\\u044c\", \"\\u0432\\u043e\\u043e\\u0431\\u0449\\u0435\", \"\\u0442\\u0430\\u043a\\u0438\", \"\\u0432\\u0430\\u0448\", \"\\u043d\\u0435\\u043c\\u043d\\u043e\\u0433\\u043e\", \"\\u0442\\u0435\\u043c\\u0430\", \"\\u043c\\u0430\\u043b\\u044c\\u0447\\u0438\\u043a\", \"\\u043f\\u043e\\u0445\\u043e\\u0436\\u0438\\u0439\", \"\\u0437\\u0438\\u043c\\u0430\", \"\\u043e\\u0431\\u0438\\u0434\\u043d\\u043e\", \"\\u0441\\u044a\\u0435\\u0445\\u0430\\u0442\\u044c\", \"\\u043f\\u0438\\u0434\\u043e\\u0440\\u0430\\u0441\", \"\\u043c\\u0430\\u043d\\u044c\\u044f\\u043a\", \"\\u0441\\u043e\\u0447\\u0438\\u043d\\u0435\\u043d\\u0438\\u0435\", \"\\u0436\\u0438\\u0437\\u043d\\u044c\", \"\\u043f\\u0440\\u0438\\u0439\\u0442\\u0438\\u0441\\u044c\", \"\\u0440\\u0435\\u0431\\u0451\\u043d\\u043e\\u043a\", \"\\u0447\\u0438\\u0442\\u0430\\u0442\\u044c\", \"\\u0443\\u0442\\u0440\\u043e\", \"\\u0443\\u043a\\u0440\\u0430\\u0441\\u0442\\u044c\", \"\\u043f\\u0430\\u0440\\u0442\\u0438\\u044f\", \"\\u0432\\u0435\\u0441\\u043d\\u0430\", \"\\u0440\\u0430\\u0437\\u043e\\u0447\\u0430\\u0440\\u043e\\u0432\\u0430\\u0442\\u044c\", \"\\u043f\\u0440\\u043e\\u0431\\u043b\\u0435\\u043c\\u0430\", \"\\u043f\\u0430\\u0440\\u0430\\u043d\\u043e\\u0440\\u043c\\u0430\\u043b\\u044c\\u043d\\u044b\\u0439\", \"\\u044f\\u0432\\u043b\\u0435\\u043d\\u0438\\u0435\", \"\\u0437\\u0430\\u0431\\u043e\\u043b\\u0435\\u0442\\u044c\", \"\\u044e\\u0431\\u043a\\u0430\", \"\\u043e\\u0434\\u0435\\u0442\\u044c\", \"\\u043a\\u043b\\u0451\\u0432\\u044b\\u0439\", \"\\u043b\\u0430\\u0434\\u043d\\u044b\\u0439\", \"\\u0434\\u0436\\u0438\\u043d\\u0441\\u044b\", \"\\u0434\\u043e\\u043b\\u0436\\u043d\\u044b\\u0439\", \"\\u0432\\u043e\\u043e\\u0431\\u0449\\u0435\", \"\\u0441\\u0434\\u0435\\u043b\\u0430\\u0442\\u044c\", \"\\u043f\\u043e\\u0439\\u0442\\u0438\", \"\\u0431\\u043e\\u044f\\u0442\\u044c\\u0441\\u044f\", \"\\u0432\\u0435\\u0447\\u0435\\u0440\\u043e\\u043c\", \"\\u0433\\u043b\\u044f\\u043d\\u0443\\u0442\\u044c\", \"\\u0437\\u0430\\u0445\\u043e\\u0442\\u0435\\u0442\\u044c\\u0441\\u044f\", \"\\u0441\\u0434\\u0435\\u043b\\u0430\\u0442\\u044c\", \"\\u0441\\u043a\\u0440\\u0438\\u043d\\u0448\\u043e\\u0442\", \"\\u0431\\u043e\\u043b\\u044c\", \"\\u043f\\u0430\\u0440\\u0430\", \"\\u0441\\u0442\\u0430\\u0440\\u044b\\u0439\", \"\\u043d\\u0430\\u0437\\u0430\\u0434\", \"\\u043f\\u043e\\u0435\\u0445\\u0430\\u0442\\u044c\", \"\\u0433\\u043e\\u0441\\u0442\\u044c\", \"\\u0438\\u0431\\u043e\", \"\\u0434\\u043e\\u043b\\u0436\\u043d\\u044b\\u0439\", \"\\u0443\\u0440\\u043e\\u043a\", \"\\u0441\\u044a\\u0435\\u0441\\u0442\\u044c\", \"\\u0437\\u0430\\u0445\\u043e\\u0442\\u0435\\u0442\\u044c\", \"\\u0447\\u0430\\u0441\", \"\\u0431\\u043e\\u043b\\u044c\\u0448\\u043e\\u0439\", \"\\u0431\\u043e\\u043b\\u044c\\u043d\\u0438\\u0446\\u0430\", \"\\u0433\\u0440\\u0430\\u043d\\u0434\", \"\\u0433\\u0440\\u043e\\u0434\\u043d\\u043e\", \"\\u0441\\u0442\\u0440\\u0438\\u043c\", \"\\u0444\\u0438\\u043d\\u0430\\u043b\", \"\\u043a\\u0440\\u0443\\u0442\\u0438\\u0442\\u044c\", \"\\u044f\\u043d\\u043a\\u0430\", \"\\u0431\\u0435\\u0434\\u043d\\u0435\\u043d\\u044c\\u043a\\u0438\\u0439\", \"\\u043a\\u0430\\u0444\\u0435\", \"\\u043a\\u0430\\u0440\\u0442\\u0430\", \"\\u044d\\u043a\\u0440\\u0430\\u043d\", \"\\u043a\\u0438\\u043d\\u043e\\u0442\\u0435\\u0430\\u0442\\u0440\", \"\\u043e\\u0442\\u0434\\u0430\\u0442\\u044c\", \"\\u0443\\u043f\\u0430\\u0441\\u0442\\u044c\", \"\\u0438\\u0433\\u0440\\u0430\\u0442\\u044c\", \"\\u0432\\u0435\\u0447\\u0435\\u0440\", \"\\u0448\\u043a\\u043e\\u043b\\u043e\\u0442\\u044b\\u0439\", \"\\u043a\\u043b\\u043e\\u0443\\u043d\", \"gruzdevvladimir\", \"\\u043e\\u0434\\u043d\\u043e\\u0433\\u0440\\u0443\\u043f\\u043f\\u043d\\u0438\\u0446\\u0430\", \"\\u0440\\u0438\\u0433\\u0430\", \"\\u043c\\u0430\\u043b\\u044c\\u0434\\u0438\\u0432\\u044b\", \"\\u0441\\u0442\\u043e\\u044f\\u043a\", \"\\u043e\\u043f\\u0430\", \"\\u043f\\u043e\\u0442\\u0443\\u0445\\u043d\\u0443\\u0442\\u044c\", \"fidelevna\", \"\\u043f\\u043e\\u043b\\u0438\\u0442\\u044c\", \"\\u043d\\u0430\\u043f\\u043e\\u043b\\u043d\\u0438\\u0442\\u044c\", \"\\u0434\\u043e\\u043d\\u0442\", \"ddddd\", \"dtoropova\", \"\\u0432\\u044b\\u0434\\u0430\\u0442\\u044c\\u0441\\u044f\", \"\\u0437\\u0430\\u0433\\u043e\\u0440\\u0430\\u0442\\u044c\", \"angel\", \"\\u0441\\u0430\\u043d\\u0438\", \"\\u0445\\u043e\\u043c\\u0430\", \"\\u043c\\u043a\\u0430\\u0434\", \"\\u0430\\u043d\\u0433\\u043b\\u0438\\u0447\\u0430\\u043d\\u043a\\u0430\", \"maksimofficial\", \"\\u043e\\u0431\\u044a\\u044f\\u0432\\u043b\\u044f\\u0442\\u044c\", \"\\u043d\\u0435\\u0432\\u043e\\u0437\\u043c\\u043e\\u0436\\u043d\\u043e\\u0441\\u0442\\u044c\", \"ekaetrina\", \"\\u043a\\u0430\\u043c\\u044b\\u0437\\u044f\\u043a\", \"\\u0441\\u043e\\u043a\\u043e\\u043b\\u043e\\u0432\\u0441\\u043a\\u0438\\u0439\\u044f\\u0445\\u043e\\u0447\\u0443\\u0442\\u0435\\u0441\\u0442\\u0438\", \"\\u0442\\u043e\\u043f\\u0438\\u043a\\u0430\", \"\\u043f\\u043e\\u043b\\u0443\\u0447\\u0435\\u043d\\u0438\\u0435\", \"\\u043e\\u0431\\u0449\\u0435\\u0441\\u0442\\u0432\\u043e\", \"\\u043f\\u043e\\u0432\\u0435\\u0440\\u044c\", \"\\u043f\\u0440\\u0435\\u0434\\u043c\\u0435\\u0442\", \"\\u0441\\u0430\\u043c\\u044b\\u0439\", \"\\u0442\\u0438\\u043f\", \"\\u0432\\u0441\\u0451\", \"\\u043c\\u0430\\u043b\\u044c\\u0447\\u0438\\u043a\", \"\\u043d\\u0435\\u043c\\u043d\\u043e\\u0433\\u043e\", \"\\u043f\\u043e\\u0445\\u043e\\u0436\\u0438\\u0439\", \"\\u0440\\u0430\\u0432\\u043d\\u043e\", \"\\u0442\\u0430\\u043a\\u0438\", \"\\u0445\\u043e\\u0440\\u043e\\u0448\\u0438\\u0439\", \"\\u0438\\u0434\\u0438\\u043e\\u0442\\u043a\\u0430\", \"\\u0438\\u0441\\u043f\\u0443\\u0433\\u0430\\u0442\\u044c\\u0441\\u044f\", \"http\", \"\\u0432\\u0437\\u044f\\u0442\\u044c\", \"\\u0433\\u043e\\u043b\\u043e\\u0434\", \"\\u0435\\u0449\\u0451\", \"\\u0436\\u0440\\u0430\\u0442\\u044c\", \"\\u043f\\u043e\\u0433\\u0438\\u0431\\u0430\\u0442\\u044c\", \"\\u043f\\u043e\\u0440\\u0446\\u0438\\u044f\", \"\\u0441\\u0438\\u0434\\u0435\\u0442\\u044c\", \"\\u0443\\u0433\\u043e\\u043b\", \"\\u0445\\u043e\\u0442\\u0435\\u0442\\u044c\", \"\\u0445\\u043e\\u0442\\u044f\", \"\\u0430\\u0432\\u0442\\u043e\\u0440\", \"\\u0431\\u043b\\u0438\\u043d\", \"\\u0437\\u043d\\u0430\\u0447\\u0438\\u0442\", \"\\u043a\\u0443\\u0440\\u0438\\u0442\\u044c\", \"\\u0448\\u043a\\u043e\\u043b\\u043e\\u0442\\u044b\\u0439\", \"\\u043a\\u043b\\u043e\\u0443\\u043d\", \"gruzdevvladimir\", \"\\u043e\\u0434\\u043d\\u043e\\u0433\\u0440\\u0443\\u043f\\u043f\\u043d\\u0438\\u0446\\u0430\", \"\\u0440\\u0438\\u0433\\u0430\", \"\\u043c\\u0430\\u043b\\u044c\\u0434\\u0438\\u0432\\u044b\", \"\\u0441\\u0442\\u043e\\u044f\\u043a\", \"\\u043e\\u043f\\u0430\", \"\\u043f\\u043e\\u0442\\u0443\\u0445\\u043d\\u0443\\u0442\\u044c\", \"fidelevna\", \"\\u043f\\u043e\\u043b\\u0438\\u0442\\u044c\", \"\\u043d\\u0430\\u043f\\u043e\\u043b\\u043d\\u0438\\u0442\\u044c\", \"\\u0434\\u043e\\u043d\\u0442\", \"ddddd\", \"dtoropova\", \"\\u0432\\u044b\\u0434\\u0430\\u0442\\u044c\\u0441\\u044f\", \"\\u0437\\u0430\\u0433\\u043e\\u0440\\u0430\\u0442\\u044c\", \"angel\", \"\\u0441\\u0430\\u043d\\u0438\", \"\\u0445\\u043e\\u043c\\u0430\", \"\\u043c\\u043a\\u0430\\u0434\", \"\\u0430\\u043d\\u0433\\u043b\\u0438\\u0447\\u0430\\u043d\\u043a\\u0430\", \"maksimofficial\", \"\\u043e\\u0431\\u044a\\u044f\\u0432\\u043b\\u044f\\u0442\\u044c\", \"\\u043d\\u0435\\u0432\\u043e\\u0437\\u043c\\u043e\\u0436\\u043d\\u043e\\u0441\\u0442\\u044c\", \"ekaetrina\", \"\\u043a\\u0430\\u043c\\u044b\\u0437\\u044f\\u043a\", \"\\u0441\\u043e\\u043a\\u043e\\u043b\\u043e\\u0432\\u0441\\u043a\\u0438\\u0439\\u044f\\u0445\\u043e\\u0447\\u0443\\u0442\\u0435\\u0441\\u0442\\u0438\", \"\\u0442\\u043e\\u043f\\u0438\\u043a\\u0430\", \"\\u043f\\u043e\\u043b\\u0443\\u0447\\u0435\\u043d\\u0438\\u0435\", \"\\u043e\\u0431\\u0449\\u0435\\u0441\\u0442\\u0432\\u043e\", \"\\u043f\\u043e\\u0432\\u0435\\u0440\\u044c\", \"\\u043f\\u0440\\u0435\\u0434\\u043c\\u0435\\u0442\", \"\\u0441\\u0430\\u043c\\u044b\\u0439\", \"\\u0442\\u0438\\u043f\", \"\\u0432\\u0441\\u0451\", \"\\u043c\\u0430\\u043b\\u044c\\u0447\\u0438\\u043a\", \"\\u043d\\u0435\\u043c\\u043d\\u043e\\u0433\\u043e\", \"\\u043f\\u043e\\u0445\\u043e\\u0436\\u0438\\u0439\", \"\\u0440\\u0430\\u0432\\u043d\\u043e\", \"\\u0442\\u0430\\u043a\\u0438\", \"\\u0445\\u043e\\u0440\\u043e\\u0448\\u0438\\u0439\", \"\\u0438\\u0434\\u0438\\u043e\\u0442\\u043a\\u0430\", \"\\u0438\\u0441\\u043f\\u0443\\u0433\\u0430\\u0442\\u044c\\u0441\\u044f\", \"http\", \"\\u0432\\u0437\\u044f\\u0442\\u044c\", \"\\u0433\\u043e\\u043b\\u043e\\u0434\", \"\\u0435\\u0449\\u0451\", \"\\u0436\\u0440\\u0430\\u0442\\u044c\", \"\\u043f\\u043e\\u0433\\u0438\\u0431\\u0430\\u0442\\u044c\", \"\\u043f\\u043e\\u0440\\u0446\\u0438\\u044f\", \"\\u0441\\u0438\\u0434\\u0435\\u0442\\u044c\", \"\\u0443\\u0433\\u043e\\u043b\", \"\\u0445\\u043e\\u0442\\u0435\\u0442\\u044c\", \"\\u0445\\u043e\\u0442\\u044f\", \"\\u0430\\u0432\\u0442\\u043e\\u0440\", \"\\u0431\\u043b\\u0438\\u043d\", \"\\u0437\\u043d\\u0430\\u0447\\u0438\\u0442\", \"\\u043a\\u0443\\u0440\\u0438\\u0442\\u044c\"], \"Freq\": [73958.0, 69428.0, 71504.0, 47732.0, 35475.0, 35248.0, 31007.0, 33575.0, 30978.0, 20740.0, 26539.0, 23042.0, 20262.0, 21084.0, 21299.0, 17031.0, 16909.0, 14473.0, 17961.0, 15450.0, 17253.0, 14695.0, 12822.0, 15660.0, 9625.0, 13341.0, 11651.0, 9992.0, 10901.0, 11372.0, 71495.15176089956, 21290.313581820188, 15650.981954520988, 7835.431112674834, 1156.9344193251263, 0.15587280868435407, 0.15581066816308262, 0.1558119028328284, 0.15585903736795875, 0.15581452141811342, 0.15581817115615315, 0.15579735815186704, 0.1558122962990111, 0.155770439637849, 0.15577602957120357, 0.15579585212613317, 0.1557729496807388, 0.15577065672263948, 0.15576430699251828, 0.15578931244682032, 0.15575738741482212, 0.15579127977773394, 0.1557592462033405, 0.155755705007696, 0.15575531154151329, 0.1557605080086851, 0.15574434875959464, 0.1557496537691617, 0.15574209650489354, 0.15575490450753116, 0.1557566954570525, 0.15576103715286188, 0.1557563155586692, 0.15576105072066126, 0.15579471243098322, 0.15578560843758296, 30969.213663095816, 26530.158613030555, 17244.223275363413, 11912.697178689445, 3755.346878546648, 3239.587547684847, 3117.1704834335937, 2647.2763335398563, 931.4900701695086, 739.1857469399835, 525.6634302312925, 0.1460710818838505, 0.14607510238913757, 0.1460429736144313, 0.1460603370246915, 0.14600772953592073, 0.1460395761699051, 0.1460060954709064, 0.14601498290364623, 0.14598645142314415, 0.14600040563301475, 0.14601189111156873, 0.14601519450918765, 0.14599220004035285, 0.14599927707012716, 0.1459777285724921, 0.14600372078649707, 0.14598385337733, 0.14597185064078588, 0.14597194468769317, 0.14597776384008235, 0.14599183560858706, 0.14604310292892883, 0.14599117728023597, 0.14601548840577294, 0.14598967252971917, 73948.53838949854, 8129.7213151595115, 2577.8098609041904, 2221.1021045221905, 1868.4772576875553, 1822.9936970232204, 0.1580381138866075, 0.15791026887181128, 0.15789870013898175, 0.15789420936723791, 0.15791091041063185, 0.15787553112223315, 0.15789479832090925, 0.15786441462168696, 0.15788253546410994, 0.1578825249470801, 0.1578847230063177, 0.157882125299946, 0.15786901056372923, 0.15785142608982836, 0.15785815698892916, 0.1578838816439301, 0.15788670020792858, 0.15784647256877132, 0.1578360712262546, 0.15784516845707056, 0.15784193972890811, 0.15784897562187444, 0.15783849014311896, 0.15783458832504646, 0.15784320177248953, 0.15785422361976711, 0.1578526776163799, 0.15784361193665347, 33566.29651676309, 17951.836298938604, 11060.063125587085, 10524.903772271316, 6696.763161060732, 3668.5351648931537, 2160.6753403547964, 1105.4025947125906, 599.7176322233121, 0.14658692475996515, 0.14658520208520737, 0.14652217245583485, 0.14653921680255583, 0.14653487971551862, 0.14652245619050083, 0.14653249837100052, 0.14650773238801235, 0.14653578158642122, 0.14651365028247434, 0.14652098685026627, 0.14652435113273438, 0.14651069133524333, 0.1465068102503479, 0.14648124373026639, 0.14649899741365235, 0.14649880487941472, 0.14653341037528406, 0.14650196649426428, 0.14649816647641625, 0.14647794024808386, 0.14647898398631945, 0.14648444587863965, 0.14649658566899149, 0.14653563971908823, 0.14652537460420811, 0.1465153324237084, 0.14650561451139837, 23032.807473214485, 21074.52594342384, 13331.59256035278, 12112.590722664829, 8548.339029514973, 4229.553887207191, 3846.4417351250754, 862.6009533725465, 0.13979851254995646, 0.1397422298561915, 0.13970714650620572, 0.13965913771148833, 0.13966373880656843, 0.13968596734266814, 0.1396824761608749, 0.13966931864336513, 0.13969076015004325, 0.1396405718892353, 0.1396622051082084, 0.13962789869752343, 0.13964570776071725, 0.13961820209144452, 0.13960405574209736, 0.13961896894062453, 0.13959623589848535, 0.13960452997777448, 0.13958497532368405, 0.13960712313881743, 0.13960161393286624, 0.1395891324534494, 0.13961409541228312, 0.13966493953094242, 0.13964647460989726, 0.13965161048137922, 69419.19763275266, 5849.2676812862255, 3131.962907091967, 730.3819033935558, 239.56200536545919, 62.93112523393823, 0.1553676845674989, 0.15527448983082795, 0.15527602488999517, 0.15525429363070004, 0.15523278430767, 0.15526618571557388, 0.1552608407505217, 0.1552724739097529, 0.15521978254147042, 0.15519840268126173, 0.15519836569188422, 0.15529516689286368, 0.15522969569464679, 0.15519181857206252, 0.15518632564950025, 0.15519821773437412, 0.15518580779821492, 0.15517136344629193, 0.15519856913346058, 0.15518845253870786, 0.15516601848123976, 0.155164058044231, 0.15516503826273537, 0.15516354019294568, 0.1551740451761624, 0.15519004308194137, 0.15518728737331586, 0.1551702537649662, 0.15517097505782793, 0.1552386471240075, 0.1551718628028885, 35239.52174100526, 8932.194185568891, 7147.665633744868, 6385.004511827018, 3877.535436711362, 3308.7013232140366, 1568.4147006989067, 1380.6727833028513, 1212.3717190865586, 982.0593448615289, 597.7042922207044, 98.76583738335783, 0.1749348745249957, 0.1748436721396101, 0.17483338204489274, 0.17479696074346152, 0.1747883110986266, 0.17483261981565443, 0.17482996858352112, 0.17475838531592197, 0.174882214426748, 0.17475652945342865, 0.17479212224481822, 0.17478599127050998, 0.17474594109509628, 0.17474537770826795, 0.17473328146165976, 0.17475268516683537, 0.1747168438224333, 0.17470622232369926, 0.1747386999173322, 0.17478998468891074, 0.17473932958496385, 0.1747526520264337, 20252.535561952962, 15441.029625110781, 11362.809963395624, 8029.489568698506, 7039.912445536995, 3042.1733050071402, 1632.8393750787864, 1422.5641238797339, 965.216980156571, 836.9277628791435, 426.4900678100007, 0.16031352482119868, 0.16020397569808853, 0.16017329930903784, 0.16015281545075602, 0.16010480023311147, 0.1601419478089023, 0.1601121935227968, 0.1601149104332602, 0.16020193389870996, 0.1600923847755998, 0.1600978515287747, 0.16009992626040132, 0.16008041390343672, 0.1600864240387043, 0.16019001242491893, 0.16007766406072524, 0.16006597311267048, 0.16006997438080756, 0.16007758173010514, 0.16010112828745482, 0.16011201239543255, 0.16007934360537535, 0.16009477236358283, 35465.973136347595, 17021.561742552905, 7578.478565285188, 6609.0054496487055, 1525.6818226975727, 803.2132168886395, 731.1446409173033, 0.18160127738867293, 0.18153844447958692, 0.1815936687160883, 0.1814475494769898, 0.18141626392434068, 0.18144018624545627, 0.18143388659181092, 0.18140073568717333, 0.18142482163565632, 0.18142845416321285, 0.18139206343670053, 0.18137044826146545, 0.18138172218708012, 0.18140818073239057, 0.1813737208088137, 0.1813714627511434, 0.1813623977949888, 0.18135226926094603, 0.1813518601925275, 0.1813687956250546, 0.18135135294768853, 0.18134469331383488, 0.18136344501014023, 0.1813861728514737, 0.18139671045393502, 0.1814283068985822, 0.18137039917325523, 30997.825150708362, 16900.167483965502, 10368.771273605787, 6687.960826636006, 2747.9405227122597, 598.4525287228341, 0.24141660119072553, 0.24143473370000104, 0.24133778392073804, 0.24136845848736763, 0.2413762365074322, 0.24132373487199643, 0.2413028476472814, 0.24130433843446045, 0.24129634975968584, 0.24128849071857894, 0.24130417639237578, 0.24128333778028616, 0.24129667384385517, 0.24130088693805682, 0.24128567118630553, 0.24130049803705358, 0.24127604588647564, 0.24129537750717775, 0.24127155732073005, 0.24130741723406934, 0.2412981160184088, 0.2412826572035305, 0.24127330737524458, 0.2412677169233232, 0.24127805520832565, 0.24131023676634275, 0.24140336235240734, 0.24141922627249732, 0.24131094975151532, 0.24128727540294384, 0.2412910185750999, 0.24129158572239628, 14685.57574203259, 11641.701238413609, 11002.45142347625, 7566.798543042509, 6375.55446414864, 6121.681951679971, 2298.340701280021, 2256.167150446859, 1998.4019458000146, 1800.134235207933, 1411.3562325213256, 256.19196325024876, 0.17073320276581022, 0.17067772849757357, 0.17067328739518767, 0.1706163432959123, 0.17060747689577532, 0.17059070817822572, 0.1706013921113676, 0.1705806090165724, 0.17056363483877007, 0.170569608990734, 0.1705696564046385, 0.17056526271615707, 0.17060196107822131, 0.17058106735098233, 0.17056545237177498, 0.170538047134988, 0.1706684353722963, 0.17054233019102563, 0.17055135463751084, 0.17056861329874, 0.17060068090280048, 47722.74797917753, 9586.177948837454, 2557.844608717715, 1870.7017514656723, 234.545753890528, 0.1374185665633111, 0.1372305669149853, 0.13717002318344734, 0.13710439916269831, 0.13709289252474166, 0.13708814513197462, 0.13708594512069236, 0.13707244110407152, 0.1370866398610973, 0.1370681713453329, 0.13708952013902606, 0.1370496738820516, 0.1370646831695498, 0.13704045409792787, 0.1370264145522449, 0.13705152652313143, 0.13702628428841898, 0.13702719613520045, 0.13703916593342705, 0.13701146315978047, 0.1370201039935668, 0.1370309882599107, 0.13702475007002474, 0.1370119263200504, 0.13701117368461174, 0.13704518701693644, 0.13705950156402968, 0.137042118580148, 0.13703328958750202, 10892.463033749567, 9694.85280408396, 9437.57568592386, 9256.23386064785, 4573.224497446428, 3496.348039150139, 3321.392673169709, 2859.0530027447726, 2519.102364743567, 0.23267947247158477, 0.23269701829465103, 0.2327344672422031, 0.23258617155289815, 0.2325967794092863, 0.23258510005225289, 0.23256626842841233, 0.2325721616819613, 0.23259702049693148, 0.23257237598209035, 0.23264459512558133, 0.2325864662155756, 0.23250363921569647, 0.23251521142266535, 0.2324864952053722, 0.23248373609121065, 0.23253634677289325, 0.2324776821125649, 0.2324776821125649, 0.2324776821125649, 0.2324776821125649, 0.23251518463514922, 0.2325681167670254, 0.23250905029395508, 0.2324889328693402, 0.23253798081137728, 0.2324914776833727, 12812.829300458125, 8594.190644492584, 6785.299977634701, 4933.771253392018, 4863.239825676909, 1950.4305676419672, 1664.8633529239162, 1265.2044298004048, 910.218161618046, 399.42364863908665, 0.24072486023630052, 0.2406120376713289, 0.2405779165612539, 0.24048772709442248, 0.24047428869240173, 0.24044931941273, 0.24039640168611245, 0.24041108319390225, 0.2403833276426792, 0.24036414523469105, 0.24035533633001716, 0.2403762333666523, 0.24035092116125117, 0.2403681103134372, 0.2404051034264959, 0.24032355140147366, 0.24033373200906513, 0.24030310445485836, 0.24038195593976158, 0.24033480365196952, 0.24045337022290852, 0.2403396903436134, 0.2403344821590982, 20731.023852801303, 14463.685149304067, 3971.1408424401284, 2005.6627316009578, 699.9549085951496, 0.24900574231557754, 0.24895613637507122, 0.2489059379418653, 0.24890070766148245, 0.2488225803482633, 0.2488399669443798, 0.2487744454241147, 0.24873679149151456, 0.24874682300584267, 0.24872079418862478, 0.24874206263346293, 0.24872083505019027, 0.24870453128555928, 0.24873760872282438, 0.2486645278129434, 0.2486701667089812, 0.24865512965288045, 0.24869388684774882, 0.24865410811374317, 0.24869891282030424, 0.24867180117160084, 0.2486449755538559, 0.24865482319113927, 0.24866230085762414, 0.2486543941447016, 0.24866681606061092, 0.248699975221007, 0.24879009540369781, 0.24867282271073812, 0.24870316242311533, 0.2487071872873162, 0.2486712904020322, 9983.141367351425, 8591.721102250365, 7451.6512467875555, 5652.41319604098, 3328.3765120977055, 2012.9642297559824, 1940.6428500575155, 1441.390932354092, 436.42777788681127, 0.2870971626629774, 0.2870774017394202, 0.28705915313144137, 0.28705915313144137, 0.28705915313144137, 0.28705915313144137, 0.28705915313144137, 0.28705915313144137, 0.2870591934598568, 0.28529607546598384, 0.28525123026803356, 0.28520440897772764, 0.28514579162591047, 0.2851263533296766, 0.2851462352384801, 0.2851062294503806, 0.2851061689577575, 0.2851093750667836, 0.2850742893453657, 0.2850475314417326, 0.2850475314417326, 0.2850577546950423, 0.28509802261784206, 0.28507303916448756, 0.28508703312463934, 0.28507580166094404, 8628.738589541701, 6746.799691190777, 5763.90817829287, 5357.041861395029, 4492.835645622838, 4447.366553566997, 0.3841580122763068, 0.38410962671624416, 0.384069494089445, 0.38396304585730723, 0.38396304585730723, 0.3838600302611286, 0.3839321886510786, 0.3838832188125548, 0.38382508310567204, 0.3837829055042589, 0.38378261336502834, 0.38368164274346367, 0.3836662689164551, 0.38366940941318367, 0.38366484473770607, 0.3836821539871172, 0.38365951319674824, 0.38365951319674824, 0.3837131937803649, 0.3836564822522311, 0.3836564822522311, 0.3836564822522311, 0.3836700667264525, 0.3836564822522311, 0.38383213096460944, 0.3837238568622806, 0.3837693940648452, 0.3836734628450078, 0.38366009747520935, 9617.19573885744, 2908.9062950639945, 1.5031256306015846, 1.5006088059962714, 1.4990179500562604, 1.4990179500562604, 1.4990188484008302, 1.4990179500562604, 1.4990179500562604, 1.496601290870478, 1.4965215627899098, 1.4965211136176249, 1.4965212259106961, 1.4965230225998358, 1.494521398605292, 1.4944122497400638, 1.494412923498491, 1.4945165700032297, 1.4931026879434655, 1.4928757436465243, 1.4928757436465243, 1.4928757436465243, 1.4928757436465243, 1.4928757436465243, 1.4928614824264792, 1.4928614824264792, 1.4928614824264792, 1.4928614824264792, 1.4928757436465243, 1.4928757436465243, 1.4928757436465243, 1.4928681077176813, 1.4928615947195503, 1.4928615947195503, 2.4021699672682297, 2.4021699672682297, 2.4021699672682297, 2.4021699672682297, 2.4021699672682297, 2.4021699672682297, 2.4021699672682297, 2.4021699672682297, 2.4021699672682297, 2.4021699672682297, 2.4021699672682297, 2.4021699672682297, 2.4021699672682297, 2.4021699672682297, 2.4021699672682297, 2.4021699672682297, 2.4021699672682297, 2.4021699672682297, 2.4021699672682297, 2.4021699672682297, 2.4021699672682297, 2.4021699672682297, 2.4021699672682297, 2.4021699672682297, 2.4021699672682297, 2.4021699672682297, 2.4021699672682297, 2.4021699672682297, 2.4021699672682297, 2.4021699672682297, 2.4021699672682297, 2.4021699672682297, 2.4021699672682297, 2.4021699672682297, 2.4021699672682297, 2.4021699672682297, 2.4021699672682297, 2.4021699672682297, 2.4021699672682297, 2.4021699672682297, 2.4021699672682297, 2.4021699672682297, 2.4021699672682297, 2.4021699672682297, 2.4021699672682297, 2.4021699672682297, 2.4021699672682297, 2.4021699672682297, 2.4021699672682297, 2.4021699672682297, 2.4021699672682297, 2.4021699672682297, 2.4021699672682297, 2.4021699672682297, 2.4021699672682297, 2.4021699672682297, 2.4021699672682297, 2.4021699672682297, 2.4021699672682297, 2.4021699672682297, 2.4021699672682297, 2.4021699672682297, 2.4021699672682297, 2.4021699672682297, 2.4021699672682297, 2.4021699672682297, 2.4021699672682297, 2.4021699672682297, 2.4021699672682297, 2.4021699672682297, 2.4021699672682297, 2.4021699672682297, 2.4021699672682297, 2.4021699672682297, 2.4021699672682297, 2.4021699672682297, 2.4021699672682297, 2.4021699672682297, 2.4021699672682297, 2.4021699672682297, 2.4021699672682297, 2.4021699672682297, 2.4021699672682297, 2.4021699672682297, 2.4021699672682297, 2.4021699672682297, 2.4021699672682297, 2.4021699672682297, 2.4021699672682297, 2.4021699672682297, 2.4021699672682297, 2.4021699672682297, 2.4021699672682297, 2.4021699672682297, 2.4021699672682297, 2.4021699672682297, 2.4021699672682297, 2.4021699672682297, 2.4021699672682297, 2.4021699672682297, 2.4021699672682297, 2.4021699672682297, 2.4021699672682297, 2.4021699672682297, 2.4021699672682297, 2.4021699672682297, 2.4021699672682297, 2.4021699672682297, 2.4021699672682297, 2.4021699672682297, 2.4021699672682297, 2.4021699672682297, 2.4021699672682297, 2.4021699672682297, 2.4021699672682297, 2.4021699672682297, 2.4021699672682297, 2.4021699672682297], \"Total\": [73958.0, 69428.0, 71504.0, 47732.0, 35475.0, 35248.0, 31007.0, 33575.0, 30978.0, 20740.0, 26539.0, 23042.0, 20262.0, 21084.0, 21299.0, 17031.0, 16909.0, 14473.0, 17961.0, 15450.0, 17253.0, 14695.0, 12822.0, 15660.0, 9625.0, 13341.0, 11651.0, 9992.0, 10901.0, 11372.0, 71504.64472258082, 21299.806543501414, 15660.474916202225, 7844.92407435607, 1166.4273810063612, 9.651787960114397, 9.649079969015716, 9.649461010431875, 9.652782319026636, 9.650696210946387, 9.651127975940216, 9.649871320036283, 9.651597248112047, 9.649122726650358, 9.649490829328553, 9.650722203631805, 9.649563097636042, 9.6494841468457, 9.649437013001421, 9.651088575800703, 9.649292362021642, 9.651563354012172, 9.649667436956793, 9.649554628333599, 9.649535193992667, 9.649909850387115, 9.649046007658443, 9.649407031817233, 9.64909616719086, 9.649896940436205, 9.650012517700251, 9.650300831380976, 9.650020175939893, 9.65054013512362, 9.656233298324915, 9.660707026434, 30978.716401313035, 26539.661351247774, 17253.726013580632, 11922.199916906675, 3764.849616763877, 3249.0902859020757, 3126.6732216508226, 2656.779071757085, 940.992808386738, 748.6884851572129, 535.166168448522, 9.651555354731727, 9.652782319026636, 9.650773098880396, 9.652326903882866, 9.649561838801793, 9.651787960114397, 9.649837541525393, 9.65050338744036, 9.649336265187802, 9.650300831380976, 9.65129576308767, 9.651563354012172, 9.650082874447675, 9.650722203631805, 9.649351956011092, 9.651088575800703, 9.650032037910595, 9.649294849522153, 9.649439785691559, 9.649890522839788, 9.651127975940216, 9.656233298324915, 9.651365870087647, 9.656314045749369, 9.651597248112047, 73958.02928116803, 8139.212206828974, 2587.3007525736507, 2230.592996191651, 1877.9681493570158, 1832.484588692681, 9.652782319026636, 9.649941498515016, 9.649628021877199, 9.649544491009502, 9.650773098880396, 9.649705568518113, 9.650900846782191, 9.649387285087695, 9.65050338744036, 9.650585846007527, 9.65075542682162, 9.650722203631805, 9.650300831380976, 9.649421565476846, 9.649886614709299, 9.651597248112047, 9.651787960114397, 9.649670719366894, 9.649046079789231, 9.649640688324585, 9.649599056602437, 9.6501182545052, 9.649578008862433, 9.64934300587576, 9.649939885121963, 9.651088575800703, 9.651365870087647, 9.65049786825179, 33575.79876567426, 17961.33854784978, 11069.565374498272, 10534.406021182504, 6706.265409971918, 3678.037413804339, 2170.1775892659816, 1114.9048436237758, 609.2198811642697, 9.651787960114397, 9.652326903882866, 9.649554362941977, 9.65075542682162, 9.65054013512362, 9.650032037910595, 9.650722203631805, 9.649193917996577, 9.651088575800703, 9.65032913842683, 9.650900846782191, 9.651597248112047, 9.650773098880396, 9.650585846007527, 9.648972138171963, 9.650300831380976, 9.650329303793573, 9.652782319026636, 9.65129576308767, 9.651127975940216, 9.649837541525393, 9.649909850387115, 9.650334976474756, 9.651563354012172, 9.656233298324915, 9.655107468278992, 9.656314045749369, 9.660707026434, 23042.316627031687, 21084.03509724104, 13341.10171416999, 12122.09987648204, 8557.848183332184, 4239.063041024401, 3855.9508889422846, 872.1101071897563, 9.652326903882866, 9.649518896527953, 9.649631660393542, 9.649640688324585, 9.649976270294337, 9.651555354731727, 9.651563354012172, 9.651127975940216, 9.652782319026636, 9.64950162525717, 9.651088575800703, 9.649145835598574, 9.65129576308767, 9.650233396165643, 9.649407031817233, 9.650900846782191, 9.64947617863755, 9.650329303793573, 9.649008154009593, 9.650722203631805, 9.650404651237281, 9.649813340091676, 9.651787960114397, 9.656314045749369, 9.655107468278992, 9.656233298324915, 69428.691202195, 5858.761250728536, 3141.456476534275, 739.8754728358653, 249.0555748077685, 72.42469467624753, 9.651088575800703, 9.650105621871713, 9.650900846782191, 9.650585846007527, 9.6494841468457, 9.651787960114397, 9.651563354012172, 9.652782319026636, 9.649702193254914, 9.649813340091676, 9.650020175939893, 9.656233298324915, 9.652326903882866, 9.650061307581186, 9.649939885121963, 9.65075542682162, 9.650082874447675, 9.649391734868118, 9.651127975940216, 9.650696210946387, 9.649430424018318, 9.649387285087695, 9.649494544621643, 9.649437095424238, 9.650113350249775, 9.651597248112047, 9.651555354731727, 9.650032037910595, 9.65013853627074, 9.660707026434, 9.651877592131056, 35248.99581295077, 8941.668257514415, 7157.139705690392, 6394.478583772542, 3887.0095086568836, 3318.1753951595583, 1577.888772644429, 1390.1468552483736, 1221.845791032081, 991.5334168070515, 607.178364166227, 108.23990944149735, 9.65054013512362, 9.650233396165643, 9.64987977994259, 9.64938051959452, 9.64950162525717, 9.652326903882866, 9.652782319026636, 9.649024783170184, 9.656233298324915, 9.649813340091676, 9.651787960114397, 9.651563354012172, 9.649456185672516, 9.649428969815801, 9.648819901160767, 9.650082874447675, 9.649439785691559, 9.648985011845877, 9.651088575800703, 9.655107468278992, 9.65129576308767, 9.656314045749369, 20262.024216561764, 15450.51827971959, 11372.298618004434, 8038.978223307315, 7049.401100145803, 3051.661959615947, 1642.3280296875937, 1432.0527784885412, 974.7056347653786, 846.4164174879511, 435.97872241880816, 9.651597248112047, 9.652782319026636, 9.651787960114397, 9.651555354731727, 9.648819413247379, 9.65129576308767, 9.649631660393542, 9.649813340091676, 9.655107468278992, 9.648942420531847, 9.649776968025423, 9.64997195416445, 9.64942097253465, 9.649886614709299, 9.656233298324915, 9.649563097636042, 9.648951615942241, 9.649391734868118, 9.64987977994259, 9.651563354012172, 9.652326903882866, 9.65049786825179, 9.656314045749369, 35475.440521260745, 17031.029127466063, 7587.945950198355, 6618.472834561872, 1535.1492076107372, 812.6806018018045, 740.6120258304683, 9.652782319026636, 9.651597248112047, 9.656233298324915, 9.650300831380976, 9.649378750274037, 9.651088575800703, 9.650900846782191, 9.64917796067946, 9.65075542682162, 9.651787960114397, 9.65032913842683, 9.649383415481896, 9.650012517700251, 9.651563354012172, 9.649939885121963, 9.649890522839788, 9.649428363360588, 9.649154138065377, 9.649359571922206, 9.650324536896303, 9.649400265268392, 9.649058968142949, 9.650082874447675, 9.65129576308767, 9.652326903882866, 9.655107468278992, 9.651127975940216, 31007.232650458325, 16909.574983715465, 10378.178773355756, 6697.368326385974, 2757.3480224622263, 607.8600284728013, 9.650696210946387, 9.652782319026636, 9.649421565476846, 9.651088575800703, 9.651597248112047, 9.649941498515016, 9.649325379809186, 9.649412979655004, 9.649199244811319, 9.64899430499102, 9.649625595258424, 9.64881914848163, 9.649392467857869, 9.649567597183205, 9.649057315282098, 9.649755109835626, 9.648784744098304, 9.649702193254914, 9.648863615039494, 9.650324536896303, 9.64999710091005, 9.649387285087695, 9.649122726650358, 9.648912231364303, 9.649391458992696, 9.651127975940216, 9.656233298324915, 9.657690283446762, 9.651877592131056, 9.650061307581186, 9.65075542682162, 9.651563354012172, 14695.053942194265, 11651.179438575284, 11011.929623637925, 7576.276743204184, 6385.032664310315, 6131.1601518416455, 2307.818901441694, 2265.6453506085318, 2007.8801459616882, 1809.6124353696066, 1420.8344326829992, 265.6701634119224, 9.652326903882866, 9.651127975940216, 9.652782319026636, 9.64956909094279, 9.650061307581186, 9.649127899291413, 9.650082874447675, 9.649360384783677, 9.648905533265266, 9.649386335749004, 9.649755109835626, 9.649567597183205, 9.651787960114397, 9.65075542682162, 9.649886614709299, 9.648801020143718, 9.656233298324915, 9.649268724822493, 9.649871320036283, 9.651563354012172, 9.656314045749369, 47732.2596868033, 9595.689656463228, 2567.356316343487, 1880.2134590914447, 244.05746151630066, 9.652326903882866, 9.651563354012172, 9.651787960114397, 9.650080362053961, 9.650334976474756, 9.65032913842683, 9.650329303793573, 9.649444711343008, 9.650722203631805, 9.649941498515016, 9.651555354731727, 9.649752936882614, 9.651088575800703, 9.649535193992667, 9.64931758910452, 9.651127975940216, 9.649412979655004, 9.649518896527953, 9.65075542682162, 9.648997118084335, 9.649650610689417, 9.65054013512362, 9.650324536896303, 9.649631660393542, 9.649670719366894, 9.652782319026636, 9.656233298324915, 9.656314045749369, 9.657675305917675, 10901.87939119189, 9704.269161526281, 9446.992043366183, 9265.650218090172, 4582.640854888749, 3505.7643965924585, 3330.8090306120284, 2868.469360187092, 2528.5187221858864, 9.649037076233663, 9.650080362053961, 9.651992008912554, 9.649182555058397, 9.64991630222213, 9.650020175939893, 9.649681132663497, 9.64997195416445, 9.65129576308767, 9.651563354012172, 9.655107468278992, 9.652782319026636, 9.649393158433995, 9.649886614709299, 9.648957152060934, 9.648846049834823, 9.651127975940216, 9.648835178703909, 9.648835190100442, 9.648836258775528, 9.64884963485071, 9.65075542682162, 9.655015065657604, 9.652326903882866, 9.65013853627074, 9.656233298324915, 9.650585846007527, 12822.237850551357, 8603.599194585817, 6794.708527727933, 4943.17980348525, 4872.648375770142, 1959.8391177351987, 1674.2719030171477, 1274.6129798936363, 919.626711711278, 408.83219876036, 9.655107468278992, 9.651555354731727, 9.650696210946387, 9.651787960114397, 9.65129576308767, 9.65049786825179, 9.649122276119238, 9.650391270872829, 9.649561838801793, 9.64896122857688, 9.649119308598731, 9.650061307581186, 9.649217788975058, 9.649963881305816, 9.651960282999294, 9.64941546926665, 9.64991630222213, 9.648938050017652, 9.652326903882866, 9.65054013512362, 9.656233298324915, 9.656314045749369, 9.660707026434, 20740.42401065995, 14473.085307162717, 3980.5410002987783, 2015.0628894596077, 709.3550664538, 9.650773098880396, 9.64936602057577, 9.64976298556718, 9.652326903882866, 9.649793553575384, 9.651365870087647, 9.649281952304879, 9.649010561712746, 9.649735628714065, 9.649269468851822, 9.650105621871713, 9.64951241973484, 9.64898481716388, 9.650585846007527, 9.648854007247493, 9.649191526160775, 9.648841465301789, 9.65050338744036, 9.648966629153515, 9.650722203631805, 9.649890522839788, 9.648902583800544, 9.649317416986229, 9.649608840093265, 9.649334747000314, 9.649893387906516, 9.651563354012172, 9.656233298324915, 9.65032913842683, 9.652782319026636, 9.655107468278992, 9.65075542682162, 9992.505129637826, 8601.084864536766, 7461.015009073958, 5661.776958327383, 3337.740274384106, 2022.3279920423834, 1950.0066123439165, 1450.754694640493, 445.7915401732124, 9.650989999741524, 9.65103463776719, 9.650821439532598, 9.650821439532598, 9.650821522482621, 9.65082901401869, 9.650837246219576, 9.650929439256776, 9.650944070706704, 9.651555354731727, 9.650329303793573, 9.650197875677943, 9.649058222372139, 9.649490829328553, 9.650324536896303, 9.649001127404864, 9.6494246067745, 9.650334976474756, 9.649451699346322, 9.648809817842888, 9.648819786068536, 9.64921909559816, 9.651088575800703, 9.650773098880396, 9.660707026434, 9.652782319026636, 8638.003895113461, 6756.064996762539, 5773.173483864632, 5366.307166966791, 4502.1009511945995, 4456.631859138759, 9.65013853627074, 9.6501182545052, 9.649391102093274, 9.649268654001018, 9.649319852231638, 9.649356220391704, 9.651597248112047, 9.650404651237281, 9.649694547842847, 9.65050338744036, 9.65129576308767, 9.649056953229493, 9.648993892031578, 9.649142490540626, 9.649121217276242, 9.649576525913453, 9.649034741437573, 9.649035066924116, 9.650391270872829, 9.64905185773403, 9.649056237102194, 9.649079506372034, 9.6494246067745, 9.649127679140914, 9.655514567312286, 9.652782319026636, 9.660707026434, 9.651555354731727, 9.650324536896303, 9625.353629930714, 2917.064186137269, 9.661296247760182, 9.660707026434, 9.656909023331101, 9.657354470035163, 9.657675305917675, 9.657690283446762, 9.657781584923724, 9.655012815876667, 9.655015065657604, 9.655152420675979, 9.655514567312286, 9.656314045749369, 9.65273775035874, 9.652608982618485, 9.655107468278992, 9.656233298324915, 9.651713208501203, 9.650773454285874, 9.650787127578996, 9.650804616124102, 9.650818360797938, 9.65082980596909, 9.650773065193126, 9.650798867666362, 9.650800096357711, 9.650851145467003, 9.650950729905924, 9.650957083677572, 9.651121245241583, 9.651146499431643, 9.65160798701714, 9.651992008912554, 9.648633360861206, 9.648633360861206, 9.648633360861206, 9.648633360861206, 9.648633360861206, 9.648633360861206, 9.648633360861206, 9.648633360861206, 9.648633360861206, 9.648633360861206, 9.648633360861206, 9.648633360861206, 9.648633360861206, 9.648633360861206, 9.648633360861206, 9.648633360861206, 9.648633360861206, 9.648633360861206, 9.648633360861206, 9.648633360861206, 9.648633360861206, 9.648633360861206, 9.648633360861206, 9.648633360861206, 9.648633360861206, 9.648633360861206, 9.648633360861206, 9.648633360861206, 9.648633360861206, 9.648633360861206, 9.64881494965596, 9.648743751296141, 9.648671516419789, 11372.298618004434, 9.649116924733114, 69428.691202195, 4502.1009511945995, 5773.173483864632, 4456.631859138759, 6385.032664310315, 8638.003895113461, 11922.199916906675, 9.648641040219731, 9.648633484747986, 71504.64472258082, 2567.356316343487, 9.648690543676082, 33575.79876567426, 1880.2134590914447, 9.648633666868765, 9.648873757525667, 9595.689656463228, 9.648719480242322, 47732.2596868033, 9992.505129637826, 9.648680532946686, 20262.024216561764, 3051.661959615947, 435.97872241880816, 9.648633360861206, 9.648633360861206, 9.648633360861206, 9.648633360861206, 9.648633360861206, 9.648633360861206, 9.648633360861206, 9.648633360861206, 9.648633360861206, 9.648633360861206, 9.648633360861206, 9.648633360861206, 9.648633360861206, 9.648633360861206, 9.648633360861206, 9.648633360861206, 9.648633360861206, 9.648633360861206, 9.648633360861206, 9.648633360861206, 9.648633360861206, 9.648633360861206, 9.648633360861206, 9.648633360861206, 9.648633360861206, 9.648633360861206, 9.648633360861206, 9.648633360861206, 9.648633360861206, 9.648633360861206, 9.64881494965596, 9.648743751296141, 9.648671516419789, 11372.298618004434, 9.649116924733114, 69428.691202195, 4502.1009511945995, 5773.173483864632, 4456.631859138759, 6385.032664310315, 8638.003895113461, 11922.199916906675, 9.648641040219731, 9.648633484747986, 71504.64472258082, 2567.356316343487, 9.648690543676082, 33575.79876567426, 1880.2134590914447, 9.648633666868765, 9.648873757525667, 9595.689656463228, 9.648719480242322, 47732.2596868033, 9992.505129637826, 9.648680532946686, 20262.024216561764, 3051.661959615947, 435.97872241880816], \"Category\": [\"Default\", \"Default\", \"Default\", \"Default\", \"Default\", \"Default\", \"Default\", \"Default\", \"Default\", \"Default\", \"Default\", \"Default\", \"Default\", \"Default\", \"Default\", \"Default\", \"Default\", \"Default\", \"Default\", \"Default\", \"Default\", \"Default\", \"Default\", \"Default\", \"Default\", \"Default\", \"Default\", \"Default\", \"Default\", \"Default\", \"Topic1\", \"Topic1\", \"Topic1\", \"Topic1\", \"Topic1\", \"Topic1\", \"Topic1\", \"Topic1\", \"Topic1\", \"Topic1\", \"Topic1\", \"Topic1\", \"Topic1\", \"Topic1\", \"Topic1\", \"Topic1\", \"Topic1\", \"Topic1\", \"Topic1\", \"Topic1\", \"Topic1\", \"Topic1\", \"Topic1\", \"Topic1\", \"Topic1\", \"Topic1\", \"Topic1\", \"Topic1\", \"Topic1\", \"Topic1\", \"Topic1\", \"Topic1\", \"Topic1\", \"Topic1\", \"Topic1\", \"Topic1\", \"Topic2\", \"Topic2\", \"Topic2\", \"Topic2\", \"Topic2\", \"Topic2\", \"Topic2\", \"Topic2\", \"Topic2\", \"Topic2\", \"Topic2\", \"Topic2\", \"Topic2\", \"Topic2\", \"Topic2\", \"Topic2\", \"Topic2\", \"Topic2\", \"Topic2\", \"Topic2\", \"Topic2\", \"Topic2\", \"Topic2\", \"Topic2\", \"Topic2\", \"Topic2\", \"Topic2\", \"Topic2\", \"Topic2\", \"Topic2\", \"Topic2\", \"Topic2\", \"Topic2\", \"Topic2\", \"Topic2\", \"Topic2\", \"Topic3\", \"Topic3\", \"Topic3\", \"Topic3\", \"Topic3\", \"Topic3\", \"Topic3\", \"Topic3\", \"Topic3\", \"Topic3\", \"Topic3\", \"Topic3\", \"Topic3\", \"Topic3\", \"Topic3\", \"Topic3\", \"Topic3\", \"Topic3\", \"Topic3\", \"Topic3\", \"Topic3\", \"Topic3\", \"Topic3\", \"Topic3\", \"Topic3\", \"Topic3\", \"Topic3\", \"Topic3\", \"Topic3\", \"Topic3\", \"Topic3\", \"Topic3\", \"Topic3\", \"Topic3\", \"Topic4\", \"Topic4\", \"Topic4\", \"Topic4\", \"Topic4\", \"Topic4\", \"Topic4\", \"Topic4\", \"Topic4\", \"Topic4\", \"Topic4\", \"Topic4\", \"Topic4\", \"Topic4\", \"Topic4\", \"Topic4\", \"Topic4\", \"Topic4\", \"Topic4\", \"Topic4\", \"Topic4\", \"Topic4\", \"Topic4\", \"Topic4\", \"Topic4\", \"Topic4\", \"Topic4\", \"Topic4\", \"Topic4\", \"Topic4\", \"Topic4\", \"Topic4\", \"Topic4\", \"Topic4\", \"Topic4\", \"Topic4\", \"Topic4\", \"Topic5\", \"Topic5\", \"Topic5\", \"Topic5\", \"Topic5\", \"Topic5\", \"Topic5\", \"Topic5\", \"Topic5\", \"Topic5\", \"Topic5\", \"Topic5\", \"Topic5\", \"Topic5\", \"Topic5\", \"Topic5\", \"Topic5\", \"Topic5\", \"Topic5\", \"Topic5\", \"Topic5\", \"Topic5\", \"Topic5\", \"Topic5\", \"Topic5\", \"Topic5\", \"Topic5\", \"Topic5\", \"Topic5\", \"Topic5\", \"Topic5\", \"Topic5\", \"Topic5\", \"Topic5\", \"Topic6\", \"Topic6\", \"Topic6\", \"Topic6\", \"Topic6\", \"Topic6\", \"Topic6\", \"Topic6\", \"Topic6\", \"Topic6\", \"Topic6\", \"Topic6\", \"Topic6\", \"Topic6\", \"Topic6\", \"Topic6\", \"Topic6\", \"Topic6\", \"Topic6\", \"Topic6\", \"Topic6\", \"Topic6\", \"Topic6\", \"Topic6\", \"Topic6\", \"Topic6\", \"Topic6\", \"Topic6\", \"Topic6\", \"Topic6\", \"Topic6\", \"Topic6\", \"Topic6\", \"Topic6\", \"Topic6\", \"Topic6\", \"Topic6\", \"Topic7\", \"Topic7\", \"Topic7\", \"Topic7\", \"Topic7\", \"Topic7\", \"Topic7\", \"Topic7\", \"Topic7\", \"Topic7\", \"Topic7\", \"Topic7\", \"Topic7\", \"Topic7\", \"Topic7\", \"Topic7\", \"Topic7\", \"Topic7\", \"Topic7\", \"Topic7\", \"Topic7\", \"Topic7\", \"Topic7\", \"Topic7\", \"Topic7\", \"Topic7\", \"Topic7\", \"Topic7\", \"Topic7\", \"Topic7\", \"Topic7\", \"Topic7\", \"Topic7\", \"Topic7\", \"Topic8\", \"Topic8\", \"Topic8\", \"Topic8\", \"Topic8\", \"Topic8\", \"Topic8\", \"Topic8\", \"Topic8\", \"Topic8\", \"Topic8\", \"Topic8\", \"Topic8\", \"Topic8\", \"Topic8\", \"Topic8\", \"Topic8\", \"Topic8\", \"Topic8\", \"Topic8\", \"Topic8\", \"Topic8\", \"Topic8\", \"Topic8\", \"Topic8\", \"Topic8\", \"Topic8\", \"Topic8\", \"Topic8\", \"Topic8\", \"Topic8\", \"Topic8\", \"Topic8\", \"Topic8\", \"Topic9\", \"Topic9\", \"Topic9\", \"Topic9\", \"Topic9\", \"Topic9\", \"Topic9\", \"Topic9\", \"Topic9\", \"Topic9\", \"Topic9\", \"Topic9\", \"Topic9\", \"Topic9\", \"Topic9\", \"Topic9\", \"Topic9\", \"Topic9\", \"Topic9\", \"Topic9\", \"Topic9\", \"Topic9\", \"Topic9\", \"Topic9\", \"Topic9\", \"Topic9\", \"Topic9\", \"Topic9\", \"Topic9\", \"Topic9\", \"Topic9\", \"Topic9\", \"Topic9\", \"Topic9\", \"Topic10\", \"Topic10\", \"Topic10\", \"Topic10\", \"Topic10\", \"Topic10\", \"Topic10\", \"Topic10\", \"Topic10\", \"Topic10\", \"Topic10\", \"Topic10\", \"Topic10\", \"Topic10\", \"Topic10\", \"Topic10\", \"Topic10\", \"Topic10\", \"Topic10\", \"Topic10\", \"Topic10\", \"Topic10\", \"Topic10\", \"Topic10\", \"Topic10\", \"Topic10\", \"Topic10\", \"Topic10\", \"Topic10\", \"Topic10\", \"Topic10\", \"Topic10\", \"Topic10\", \"Topic10\", \"Topic10\", \"Topic10\", \"Topic10\", \"Topic10\", \"Topic11\", \"Topic11\", \"Topic11\", \"Topic11\", \"Topic11\", \"Topic11\", \"Topic11\", \"Topic11\", \"Topic11\", \"Topic11\", \"Topic11\", \"Topic11\", \"Topic11\", \"Topic11\", \"Topic11\", \"Topic11\", \"Topic11\", \"Topic11\", \"Topic11\", \"Topic11\", \"Topic11\", \"Topic11\", \"Topic11\", \"Topic11\", \"Topic11\", \"Topic11\", \"Topic11\", \"Topic11\", \"Topic11\", \"Topic11\", \"Topic11\", \"Topic11\", \"Topic11\", \"Topic12\", \"Topic12\", \"Topic12\", \"Topic12\", \"Topic12\", \"Topic12\", \"Topic12\", \"Topic12\", \"Topic12\", \"Topic12\", \"Topic12\", \"Topic12\", \"Topic12\", \"Topic12\", \"Topic12\", \"Topic12\", \"Topic12\", \"Topic12\", \"Topic12\", \"Topic12\", \"Topic12\", \"Topic12\", \"Topic12\", \"Topic12\", \"Topic12\", \"Topic12\", \"Topic12\", \"Topic12\", \"Topic12\", \"Topic12\", \"Topic12\", \"Topic12\", \"Topic12\", \"Topic12\", \"Topic13\", \"Topic13\", \"Topic13\", \"Topic13\", \"Topic13\", \"Topic13\", \"Topic13\", \"Topic13\", \"Topic13\", \"Topic13\", \"Topic13\", \"Topic13\", \"Topic13\", \"Topic13\", \"Topic13\", \"Topic13\", \"Topic13\", \"Topic13\", \"Topic13\", \"Topic13\", \"Topic13\", \"Topic13\", \"Topic13\", \"Topic13\", \"Topic13\", \"Topic13\", \"Topic13\", \"Topic13\", \"Topic13\", \"Topic13\", \"Topic13\", \"Topic13\", \"Topic13\", \"Topic13\", \"Topic13\", \"Topic13\", \"Topic14\", \"Topic14\", \"Topic14\", \"Topic14\", \"Topic14\", \"Topic14\", \"Topic14\", \"Topic14\", \"Topic14\", \"Topic14\", \"Topic14\", \"Topic14\", \"Topic14\", \"Topic14\", \"Topic14\", \"Topic14\", \"Topic14\", \"Topic14\", \"Topic14\", \"Topic14\", \"Topic14\", \"Topic14\", \"Topic14\", \"Topic14\", \"Topic14\", \"Topic14\", \"Topic14\", \"Topic14\", \"Topic14\", \"Topic14\", \"Topic14\", \"Topic14\", \"Topic14\", \"Topic15\", \"Topic15\", \"Topic15\", \"Topic15\", \"Topic15\", \"Topic15\", \"Topic15\", \"Topic15\", \"Topic15\", \"Topic15\", \"Topic15\", \"Topic15\", \"Topic15\", \"Topic15\", \"Topic15\", \"Topic15\", \"Topic15\", \"Topic15\", \"Topic15\", \"Topic15\", \"Topic15\", \"Topic15\", \"Topic15\", \"Topic15\", \"Topic15\", \"Topic15\", \"Topic15\", \"Topic15\", \"Topic15\", \"Topic15\", \"Topic15\", \"Topic15\", \"Topic15\", \"Topic15\", \"Topic15\", \"Topic15\", \"Topic15\", \"Topic16\", \"Topic16\", \"Topic16\", \"Topic16\", \"Topic16\", \"Topic16\", \"Topic16\", \"Topic16\", \"Topic16\", \"Topic16\", \"Topic16\", \"Topic16\", \"Topic16\", \"Topic16\", \"Topic16\", \"Topic16\", \"Topic16\", \"Topic16\", \"Topic16\", \"Topic16\", \"Topic16\", \"Topic16\", \"Topic16\", \"Topic16\", \"Topic16\", \"Topic16\", \"Topic16\", \"Topic16\", \"Topic16\", \"Topic16\", \"Topic16\", \"Topic16\", \"Topic16\", \"Topic16\", \"Topic16\", \"Topic17\", \"Topic17\", \"Topic17\", \"Topic17\", \"Topic17\", \"Topic17\", \"Topic17\", \"Topic17\", \"Topic17\", \"Topic17\", \"Topic17\", \"Topic17\", \"Topic17\", \"Topic17\", \"Topic17\", \"Topic17\", \"Topic17\", \"Topic17\", \"Topic17\", \"Topic17\", \"Topic17\", \"Topic17\", \"Topic17\", \"Topic17\", \"Topic17\", \"Topic17\", \"Topic17\", \"Topic17\", \"Topic17\", \"Topic17\", \"Topic17\", \"Topic17\", \"Topic17\", \"Topic17\", \"Topic17\", \"Topic18\", \"Topic18\", \"Topic18\", \"Topic18\", \"Topic18\", \"Topic18\", \"Topic18\", \"Topic18\", \"Topic18\", \"Topic18\", \"Topic18\", \"Topic18\", \"Topic18\", \"Topic18\", \"Topic18\", \"Topic18\", \"Topic18\", \"Topic18\", \"Topic18\", \"Topic18\", \"Topic18\", \"Topic18\", \"Topic18\", \"Topic18\", \"Topic18\", \"Topic18\", \"Topic18\", \"Topic18\", \"Topic18\", \"Topic18\", \"Topic18\", \"Topic18\", \"Topic18\", \"Topic18\", \"Topic19\", \"Topic19\", \"Topic19\", \"Topic19\", \"Topic19\", \"Topic19\", \"Topic19\", \"Topic19\", \"Topic19\", \"Topic19\", \"Topic19\", \"Topic19\", \"Topic19\", \"Topic19\", \"Topic19\", \"Topic19\", \"Topic19\", \"Topic19\", \"Topic19\", \"Topic19\", \"Topic19\", \"Topic19\", \"Topic19\", \"Topic19\", \"Topic19\", \"Topic19\", \"Topic19\", \"Topic19\", \"Topic19\", \"Topic19\", \"Topic19\", \"Topic19\", \"Topic19\", \"Topic19\", \"Topic19\", \"Topic19\", \"Topic19\", \"Topic19\", \"Topic19\", \"Topic19\", \"Topic19\", \"Topic19\", \"Topic19\", \"Topic19\", \"Topic19\", \"Topic19\", \"Topic19\", \"Topic19\", \"Topic19\", \"Topic19\", \"Topic19\", \"Topic19\", \"Topic19\", \"Topic19\", \"Topic19\", \"Topic19\", \"Topic19\", \"Topic19\", \"Topic19\", \"Topic20\", \"Topic20\", \"Topic20\", \"Topic20\", \"Topic20\", \"Topic20\", \"Topic20\", \"Topic20\", \"Topic20\", \"Topic20\", \"Topic20\", \"Topic20\", \"Topic20\", \"Topic20\", \"Topic20\", \"Topic20\", \"Topic20\", \"Topic20\", \"Topic20\", \"Topic20\", \"Topic20\", \"Topic20\", \"Topic20\", \"Topic20\", \"Topic20\", \"Topic20\", \"Topic20\", \"Topic20\", \"Topic20\", \"Topic20\", \"Topic20\", \"Topic20\", \"Topic20\", \"Topic20\", \"Topic20\", \"Topic20\", \"Topic20\", \"Topic20\", \"Topic20\", \"Topic20\", \"Topic20\", \"Topic20\", \"Topic20\", \"Topic20\", \"Topic20\", \"Topic20\", \"Topic20\", \"Topic20\", \"Topic20\", \"Topic20\", \"Topic20\", \"Topic20\", \"Topic20\", \"Topic20\", \"Topic20\", \"Topic20\", \"Topic20\", \"Topic20\", \"Topic20\"], \"logprob\": [30.0, 29.0, 28.0, 27.0, 26.0, 25.0, 24.0, 23.0, 22.0, 21.0, 20.0, 19.0, 18.0, 17.0, 16.0, 15.0, 14.0, 13.0, 12.0, 11.0, 10.0, 9.0, 8.0, 7.0, 6.0, 5.0, 4.0, 3.0, 2.0, 1.0, -0.5124, -1.7238, -2.0315, -2.7234, -4.6362, -13.5485, -13.5489, -13.5489, -13.5486, -13.5489, -13.5488, -13.549, -13.5489, -13.5491, -13.5491, -13.549, -13.5491, -13.5491, -13.5492, -13.549, -13.5492, -13.549, -13.5492, -13.5492, -13.5492, -13.5492, -13.5493, -13.5493, -13.5493, -13.5492, -13.5492, -13.5492, -13.5492, -13.5492, -13.549, -13.549, -1.2057, -1.3604, -1.7912, -2.1611, -3.3155, -3.4632, -3.5017, -3.6651, -4.7096, -4.9409, -5.2818, -13.4701, -13.47, -13.4703, -13.4702, -13.4705, -13.4703, -13.4705, -13.4705, -13.4707, -13.4706, -13.4705, -13.4705, -13.4706, -13.4706, -13.4707, -13.4705, -13.4707, -13.4708, -13.4708, -13.4707, -13.4706, -13.4703, -13.4706, -13.4705, -13.4706, -0.2239, -2.4318, -3.5804, -3.7293, -3.9022, -3.9268, -13.28, -13.2808, -13.2809, -13.2809, -13.2808, -13.281, -13.2809, -13.2811, -13.281, -13.281, -13.2809, -13.281, -13.281, -13.2812, -13.2811, -13.281, -13.2809, -13.2812, -13.2813, -13.2812, -13.2812, -13.2812, -13.2812, -13.2813, -13.2812, -13.2811, -13.2812, -13.2812, -0.9766, -1.6025, -2.0868, -2.1364, -2.5885, -3.1904, -3.7197, -4.3899, -5.0014, -13.318, -13.318, -13.3185, -13.3184, -13.3184, -13.3185, -13.3184, -13.3186, -13.3184, -13.3185, -13.3185, -13.3185, -13.3186, -13.3186, -13.3188, -13.3186, -13.3186, -13.3184, -13.3186, -13.3186, -13.3188, -13.3188, -13.3187, -13.3187, -13.3184, -13.3185, -13.3185, -13.3186, -1.3489, -1.4378, -1.8957, -1.9916, -2.3401, -3.0438, -3.1387, -4.6337, -13.3612, -13.3616, -13.3618, -13.3622, -13.3621, -13.362, -13.362, -13.3621, -13.3619, -13.3623, -13.3621, -13.3624, -13.3623, -13.3625, -13.3626, -13.3625, -13.3626, -13.3626, -13.3627, -13.3625, -13.3626, -13.3627, -13.3625, -13.3621, -13.3623, -13.3622, -0.1585, -2.6323, -3.257, -4.7128, -5.8276, -7.1644, -13.1684, -13.169, -13.169, -13.1691, -13.1692, -13.169, -13.169, -13.169, -13.1693, -13.1695, -13.1695, -13.1688, -13.1692, -13.1695, -13.1695, -13.1695, -13.1695, -13.1696, -13.1694, -13.1695, -13.1697, -13.1697, -13.1697, -13.1697, -13.1696, -13.1695, -13.1695, -13.1696, -13.1696, -13.1692, -13.1696, -0.7266, -2.0991, -2.322, -2.4348, -2.9336, -3.0922, -3.8387, -3.9662, -4.0962, -4.3069, -4.8034, -6.6038, -12.9399, -12.9404, -12.9404, -12.9407, -12.9407, -12.9404, -12.9405, -12.9409, -12.9402, -12.9409, -12.9407, -12.9407, -12.9409, -12.9409, -12.941, -12.9409, -12.9411, -12.9412, -12.941, -12.9407, -12.941, -12.9409, -1.2742, -1.5454, -1.8521, -2.1993, -2.3309, -3.1699, -3.7921, -3.93, -4.3179, -4.4605, -5.1346, -13.0208, -13.0215, -13.0217, -13.0218, -13.0221, -13.0219, -13.0221, -13.0221, -13.0215, -13.0222, -13.0222, -13.0222, -13.0223, -13.0223, -13.0216, -13.0223, -13.0224, -13.0224, -13.0223, -13.0222, -13.0221, -13.0223, -13.0222, -0.7076, -1.4417, -2.2509, -2.3877, -3.8537, -4.4953, -4.5893, -12.8899, -12.8902, -12.8899, -12.8907, -12.8909, -12.8908, -12.8908, -12.891, -12.8908, -12.8908, -12.891, -12.8911, -12.8911, -12.8909, -12.8911, -12.8911, -12.8912, -12.8912, -12.8912, -12.8911, -12.8912, -12.8913, -12.8912, -12.891, -12.891, -12.8908, -12.8911, -0.8325, -1.4391, -1.9276, -2.3661, -3.2556, -4.7798, -12.5954, -12.5953, -12.5957, -12.5956, -12.5956, -12.5958, -12.5959, -12.5959, -12.5959, -12.5959, -12.5959, -12.596, -12.5959, -12.5959, -12.596, -12.5959, -12.596, -12.5959, -12.596, -12.5959, -12.5959, -12.596, -12.596, -12.596, -12.596, -12.5959, -12.5955, -12.5954, -12.5959, -12.596, -12.5959, -12.5959, -1.5546, -1.7869, -1.8433, -2.2177, -2.389, -2.4296, -3.4093, -3.4278, -3.5491, -3.6536, -3.8969, -5.6033, -12.9169, -12.9172, -12.9172, -12.9176, -12.9176, -12.9177, -12.9176, -12.9178, -12.9179, -12.9178, -12.9178, -12.9179, -12.9176, -12.9178, -12.9179, -12.918, -12.9173, -12.918, -12.9179, -12.9178, -12.9176, -0.2881, -1.8932, -3.2143, -3.5272, -5.6036, -13.046, -13.0473, -13.0478, -13.0483, -13.0483, -13.0484, -13.0484, -13.0485, -13.0484, -13.0485, -13.0484, -13.0487, -13.0486, -13.0487, -13.0488, -13.0487, -13.0488, -13.0488, -13.0487, -13.0489, -13.0489, -13.0488, -13.0488, -13.0489, -13.0489, -13.0487, -13.0486, -13.0487, -13.0488, -1.6879, -1.8044, -1.8313, -1.8507, -2.5557, -2.8242, -2.8756, -3.0255, -3.152, -12.4418, -12.4417, -12.4416, -12.4422, -12.4422, -12.4422, -12.4423, -12.4423, -12.4422, -12.4423, -12.4419, -12.4422, -12.4426, -12.4425, -12.4426, -12.4426, -12.4424, -12.4427, -12.4427, -12.4427, -12.4427, -12.4425, -12.4423, -12.4425, -12.4426, -12.4424, -12.4426, -1.3025, -1.7019, -1.9382, -2.2568, -2.2712, -3.1849, -3.3432, -3.6177, -3.947, -4.7707, -12.1848, -12.1853, -12.1854, -12.1858, -12.1858, -12.1859, -12.1862, -12.1861, -12.1862, -12.1863, -12.1863, -12.1862, -12.1863, -12.1863, -12.1861, -12.1865, -12.1864, -12.1865, -12.1862, -12.1864, -12.1859, -12.1864, -12.1864, -0.7734, -1.1334, -2.426, -3.1091, -4.1618, -12.1031, -12.1033, -12.1035, -12.1035, -12.1038, -12.1038, -12.104, -12.1042, -12.1041, -12.1042, -12.1042, -12.1042, -12.1043, -12.1042, -12.1045, -12.1044, -12.1045, -12.1043, -12.1045, -12.1043, -12.1044, -12.1045, -12.1045, -12.1045, -12.1045, -12.1045, -12.1043, -12.104, -12.1044, -12.1043, -12.1043, -12.1044, -1.491, -1.6411, -1.7835, -2.0598, -2.5894, -3.0923, -3.1289, -3.4263, -4.6211, -11.9476, -11.9477, -11.9477, -11.9477, -11.9477, -11.9477, -11.9477, -11.9477, -11.9477, -11.9539, -11.9541, -11.9542, -11.9544, -11.9545, -11.9544, -11.9546, -11.9546, -11.9546, -11.9547, -11.9548, -11.9548, -11.9547, -11.9546, -11.9547, -11.9546, -11.9547, -1.5376, -1.7836, -1.941, -2.0142, -2.1902, -2.2003, -11.5571, -11.5572, -11.5573, -11.5576, -11.5576, -11.5579, -11.5577, -11.5578, -11.558, -11.5581, -11.5581, -11.5584, -11.5584, -11.5584, -11.5584, -11.5584, -11.5584, -11.5584, -11.5583, -11.5584, -11.5584, -11.5584, -11.5584, -11.5584, -11.558, -11.5582, -11.5581, -11.5584, -11.5584, -1.1661, -2.3619, -9.9299, -9.9316, -9.9326, -9.9326, -9.9326, -9.9326, -9.9326, -9.9342, -9.9343, -9.9343, -9.9343, -9.9343, -9.9356, -9.9357, -9.9357, -9.9356, -9.9366, -9.9367, -9.9367, -9.9367, -9.9367, -9.9367, -9.9367, -9.9367, -9.9367, -9.9367, -9.9367, -9.9367, -9.9367, -9.9367, -9.9367, -9.9367, -9.4178, -9.4178, -9.4178, -9.4178, -9.4178, -9.4178, -9.4178, -9.4178, -9.4178, -9.4178, -9.4178, -9.4178, -9.4178, -9.4178, -9.4178, -9.4178, -9.4178, -9.4178, -9.4178, -9.4178, -9.4178, -9.4178, -9.4178, -9.4178, -9.4178, -9.4178, -9.4178, -9.4178, -9.4178, -9.4178, -9.4178, -9.4178, -9.4178, -9.4178, -9.4178, -9.4178, -9.4178, -9.4178, -9.4178, -9.4178, -9.4178, -9.4178, -9.4178, -9.4178, -9.4178, -9.4178, -9.4178, -9.4178, -9.4178, -9.4178, -9.4178, -9.4178, -9.4178, -9.4178, -9.4178, -9.4178, -9.4178, -9.4178, -9.4178, -9.4178, -9.4178, -9.4178, -9.4178, -9.4178, -9.4178, -9.4178, -9.4178, -9.4178, -9.4178, -9.4178, -9.4178, -9.4178, -9.4178, -9.4178, -9.4178, -9.4178, -9.4178, -9.4178, -9.4178, -9.4178, -9.4178, -9.4178, -9.4178, -9.4178, -9.4178, -9.4178, -9.4178, -9.4178, -9.4178, -9.4178, -9.4178, -9.4178, -9.4178, -9.4178, -9.4178, -9.4178, -9.4178, -9.4178, -9.4178, -9.4178, -9.4178, -9.4178, -9.4178, -9.4178, -9.4178, -9.4178, -9.4178, -9.4178, -9.4178, -9.4178, -9.4178, -9.4178, -9.4178, -9.4178, -9.4178, -9.4178, -9.4178, -9.4178], \"loglift\": [30.0, 29.0, 28.0, 27.0, 26.0, 25.0, 24.0, 23.0, 22.0, 21.0, 20.0, 19.0, 18.0, 17.0, 16.0, 15.0, 14.0, 13.0, 12.0, 11.0, 10.0, 9.0, 8.0, 7.0, 6.0, 5.0, 4.0, 3.0, 2.0, 1.0, 2.4045, 2.4042, 2.404, 2.4034, 2.3964, -1.7213, -1.7214, -1.7214, -1.7214, -1.7215, -1.7215, -1.7215, -1.7216, -1.7216, -1.7216, -1.7216, -1.7217, -1.7217, -1.7217, -1.7217, -1.7217, -1.7218, -1.7218, -1.7218, -1.7218, -1.7218, -1.7218, -1.7218, -1.7218, -1.7218, -1.7218, -1.7218, -1.7218, -1.7218, -1.7222, -1.7227, 2.5476, 2.5476, 2.5474, 2.5472, 2.5454, 2.545, 2.5449, 2.5444, 2.5378, 2.5352, 2.53, -1.6428, -1.6429, -1.6429, -1.643, -1.6431, -1.6431, -1.6431, -1.6431, -1.6432, -1.6432, -1.6432, -1.6432, -1.6432, -1.6432, -1.6432, -1.6432, -1.6433, -1.6433, -1.6433, -1.6433, -1.6433, -1.6435, -1.6434, -1.6437, -1.6434, 2.6592, 2.6581, 2.6556, 2.655, 2.6542, 2.6541, -1.4529, -1.4534, -1.4534, -1.4534, -1.4535, -1.4536, -1.4536, -1.4536, -1.4536, -1.4536, -1.4536, -1.4536, -1.4537, -1.4537, -1.4537, -1.4537, -1.4537, -1.4537, -1.4537, -1.4538, -1.4538, -1.4538, -1.4538, -1.4538, -1.4538, -1.4538, -1.4539, -1.4538, 2.6962, 2.6959, 2.6956, 2.6956, 2.6951, 2.6939, 2.6921, 2.6879, 2.6808, -1.4908, -1.4909, -1.491, -1.491, -1.491, -1.4911, -1.4911, -1.4911, -1.4911, -1.4912, -1.4912, -1.4912, -1.4912, -1.4912, -1.4912, -1.4913, -1.4913, -1.4913, -1.4913, -1.4913, -1.4913, -1.4914, -1.4914, -1.4914, -1.4916, -1.4916, -1.4918, -1.4923, 2.7003, 2.7003, 2.7, 2.7, 2.6996, 2.6985, 2.6983, 2.6898, -1.534, -1.5341, -1.5344, -1.5347, -1.5347, -1.5347, -1.5348, -1.5348, -1.5348, -1.5348, -1.5348, -1.5349, -1.535, -1.5351, -1.5351, -1.5351, -1.5352, -1.5352, -1.5352, -1.5352, -1.5352, -1.5352, -1.5353, -1.5354, -1.5354, -1.5355, 2.7878, 2.7863, 2.7849, 2.7751, 2.7491, 2.6475, -1.3411, -1.3416, -1.3416, -1.3417, -1.3418, -1.3418, -1.3418, -1.3418, -1.3419, -1.342, -1.342, -1.3421, -1.3421, -1.3421, -1.3421, -1.3421, -1.3421, -1.3421, -1.3422, -1.3422, -1.3422, -1.3422, -1.3422, -1.3422, -1.3422, -1.3423, -1.3423, -1.3422, -1.3422, -1.3429, -1.3424, 2.8976, 2.8968, 2.8965, 2.8964, 2.8954, 2.895, 2.8918, 2.891, 2.8901, 2.8882, 2.8821, 2.8062, -1.1125, -1.113, -1.113, -1.1132, -1.1132, -1.1133, -1.1133, -1.1134, -1.1134, -1.1135, -1.1135, -1.1135, -1.1135, -1.1135, -1.1135, -1.1135, -1.1136, -1.1137, -1.1137, -1.1138, -1.1137, -1.1141, 2.9037, 2.9035, 2.9033, 2.903, 2.9028, 2.901, 2.8984, 2.8975, 2.8944, 2.8929, 2.8821, -1.1936, -1.1944, -1.1945, -1.1946, -1.1946, -1.1946, -1.1947, -1.1947, -1.1947, -1.1947, -1.1948, -1.1948, -1.1948, -1.1948, -1.1948, -1.1949, -1.1949, -1.1949, -1.1949, -1.1949, -1.1949, -1.1949, -1.1955, 2.9102, 2.9099, 2.9092, 2.909, 2.9043, 2.8987, 2.8976, -1.0627, -1.063, -1.0631, -1.0633, -1.0634, -1.0635, -1.0635, -1.0635, -1.0635, -1.0636, -1.0636, -1.0637, -1.0637, -1.0637, -1.0637, -1.0637, -1.0637, -1.0637, -1.0638, -1.0638, -1.0638, -1.0638, -1.0638, -1.0638, -1.0638, -1.0639, -1.0638, 2.9199, 2.9196, 2.9193, 2.9188, 2.9168, 2.9046, -0.7681, -0.7682, -0.7683, -0.7683, -0.7683, -0.7684, -0.7684, -0.7684, -0.7684, -0.7684, -0.7684, -0.7684, -0.7684, -0.7684, -0.7685, -0.7685, -0.7685, -0.7685, -0.7685, -0.7685, -0.7685, -0.7685, -0.7685, -0.7685, -0.7685, -0.7686, -0.7687, -0.7688, -0.7686, -0.7685, -0.7686, -0.7687, 2.9445, 2.9443, 2.9443, 2.9439, 2.9437, 2.9436, 2.941, 2.941, 2.9404, 2.9399, 2.9385, 2.9088, -1.0897, -1.0899, -1.0901, -1.0901, -1.0902, -1.0902, -1.0902, -1.0903, -1.0903, -1.0904, -1.0904, -1.0904, -1.0904, -1.0904, -1.0904, -1.0905, -1.0905, -1.0905, -1.0905, -1.0906, -1.0909, 3.0329, 3.0321, 3.0294, 3.028, 2.9934, -1.2188, -1.2201, -1.2206, -1.2209, -1.221, -1.221, -1.221, -1.221, -1.2211, -1.2211, -1.2211, -1.2212, -1.2213, -1.2213, -1.2214, -1.2214, -1.2214, -1.2214, -1.2214, -1.2214, -1.2214, -1.2214, -1.2215, -1.2215, -1.2215, -1.2216, -1.2218, -1.222, -1.2222, 3.1098, 3.1097, 3.1097, 3.1096, 3.1086, 3.108, 3.1078, 3.1074, 3.1069, -0.6143, -0.6143, -0.6144, -0.6147, -0.6147, -0.6148, -0.6148, -0.6148, -0.6149, -0.615, -0.6151, -0.6151, -0.6151, -0.6151, -0.6151, -0.6151, -0.6151, -0.6151, -0.6151, -0.6151, -0.6151, -0.6152, -0.6154, -0.6154, -0.6152, -0.6156, -0.6153, 3.3329, 3.3326, 3.3323, 3.3318, 3.3317, 3.3289, 3.328, 3.3263, 3.3234, 3.3104, -0.3579, -0.358, -0.3581, -0.3586, -0.3586, -0.3586, -0.3587, -0.3587, -0.3588, -0.3588, -0.3588, -0.3588, -0.3589, -0.3589, -0.3589, -0.359, -0.359, -0.359, -0.359, -0.3591, -0.3592, -0.3596, -0.3601, 3.3811, 3.3809, 3.3792, 3.3769, 3.3682, -0.2758, -0.2758, -0.2761, -0.2763, -0.2764, -0.2765, -0.2765, -0.2767, -0.2767, -0.2767, -0.2767, -0.2768, -0.2768, -0.2768, -0.2769, -0.2769, -0.277, -0.277, -0.277, -0.277, -0.277, -0.277, -0.277, -0.277, -0.277, -0.277, -0.2771, -0.2772, -0.2771, -0.2772, -0.2774, -0.2771, 3.3938, 3.3936, 3.3934, 3.393, 3.3919, 3.3901, 3.3899, 3.3882, 3.3735, -0.1203, -0.1204, -0.1204, -0.1204, -0.1204, -0.1204, -0.1204, -0.1204, -0.1204, -0.1267, -0.1267, -0.1268, -0.1269, -0.127, -0.1271, -0.1271, -0.1271, -0.1272, -0.1272, -0.1272, -0.1272, -0.1272, -0.1273, -0.1274, -0.1283, -0.1276, 3.4929, 3.4926, 3.4924, 3.4922, 3.4919, 3.4919, 0.2703, 0.2702, 0.2701, 0.2699, 0.2699, 0.2696, 0.2695, 0.2695, 0.2695, 0.2693, 0.2692, 0.2692, 0.2691, 0.2691, 0.2691, 0.2691, 0.2691, 0.2691, 0.2691, 0.2691, 0.2691, 0.2691, 0.2691, 0.2691, 0.2689, 0.2689, 0.2682, 0.2689, 0.269, 3.7561, 3.7541, 1.8963, 1.8947, 1.8941, 1.894, 1.894, 1.894, 1.894, 1.8926, 1.8926, 1.8926, 1.8925, 1.8925, 1.8915, 1.8914, 1.8912, 1.8911, 1.8907, 1.8906, 1.8906, 1.8906, 1.8906, 1.8906, 1.8906, 1.8906, 1.8906, 1.8906, 1.8906, 1.8906, 1.8906, 1.8906, 1.8905, 1.8905, 2.4098, 2.4098, 2.4098, 2.4098, 2.4098, 2.4098, 2.4098, 2.4098, 2.4098, 2.4098, 2.4098, 2.4098, 2.4098, 2.4098, 2.4098, 2.4098, 2.4098, 2.4098, 2.4098, 2.4098, 2.4098, 2.4098, 2.4098, 2.4098, 2.4098, 2.4098, 2.4098, 2.4098, 2.4098, 2.4098, 2.4098, 2.4098, 2.4098, -4.6623, 2.4097, -6.4714, -3.7357, -3.9844, -3.7255, -4.0851, -4.3873, -4.7095, 2.4098, 2.4098, -6.5009, -3.174, 2.4098, -5.745, -2.8625, 2.4098, 2.4098, -4.4925, 2.4098, -6.0968, -4.533, 2.4098, -5.2399, -3.3468, -1.401, 2.4098, 2.4098, 2.4098, 2.4098, 2.4098, 2.4098, 2.4098, 2.4098, 2.4098, 2.4098, 2.4098, 2.4098, 2.4098, 2.4098, 2.4098, 2.4098, 2.4098, 2.4098, 2.4098, 2.4098, 2.4098, 2.4098, 2.4098, 2.4098, 2.4098, 2.4098, 2.4098, 2.4098, 2.4098, 2.4098, 2.4098, 2.4098, 2.4098, -4.6623, 2.4097, -6.4714, -3.7357, -3.9844, -3.7255, -4.0851, -4.3873, -4.7095, 2.4098, 2.4098, -6.5009, -3.174, 2.4098, -5.745, -2.8625, 2.4098, 2.4098, -4.4925, 2.4098, -6.0968, -4.533, 2.4098, -5.2399, -3.3468, -1.401]}, \"token.table\": {\"Topic\": [16, 18, 19, 20, 18, 19, 20, 18, 19, 20, 18, 19, 20, 18, 19, 20, 18, 19, 20, 18, 19, 20, 1, 18, 19, 20, 18, 19, 20, 18, 19, 20, 18, 19, 20, 18, 19, 20, 3, 18, 19, 20, 18, 19, 20, 18, 19, 20, 18, 19, 20, 8, 18, 19, 20, 1, 18, 19, 20, 18, 19, 20, 18, 19, 20, 18, 19, 20, 18, 19, 20, 18, 19, 20, 18, 19, 20, 18, 19, 20, 18, 19, 20, 17, 18, 19, 20, 18, 19, 20, 18, 19, 20, 9, 18, 19, 20, 18, 19, 20, 18, 19, 20, 12, 18, 19, 20, 18, 19, 20, 18, 19, 20, 18, 19, 20, 18, 19, 20, 4, 18, 19, 20, 18, 19, 20, 18, 19, 20, 18, 19, 20, 14, 18, 19, 20, 11, 18, 19, 20, 6, 18, 19, 20, 7, 18, 19, 20, 13, 18, 19, 20, 18, 19, 20, 18, 19, 20, 18, 19, 20, 2, 18, 19, 20, 18, 19, 20, 18, 19, 20, 5, 18, 19, 20, 18, 19, 20, 18, 19, 20, 18, 19, 20, 18, 19, 20, 10, 18, 19, 20, 18, 19, 20, 18, 19, 20, 18, 19, 20, 18, 19, 20, 18, 19, 20, 18, 19, 20, 11, 18, 19, 20, 18, 19, 20, 16, 18, 19, 20, 18, 19, 20, 18, 19, 20, 18, 19, 20, 18, 19, 20, 18, 19, 20, 18, 19, 20, 9, 18, 19, 20, 18, 19, 20, 7, 18, 19, 20, 18, 19, 20, 15, 18, 19, 20, 13, 18, 19, 20, 18, 19, 20, 18, 19, 20, 18, 19, 20, 18, 19, 20, 18, 19, 20, 3, 18, 19, 20, 11, 18, 19, 20, 18, 19, 20, 18, 19, 20, 4, 18, 19, 20, 18, 19, 20, 18, 19, 20, 18, 19, 20, 18, 19, 20, 18, 19, 20, 18, 19, 20, 18, 19, 20, 12, 18, 19, 20, 18, 19, 20, 13, 18, 19, 20, 5, 18, 19, 20, 18, 19, 20, 6, 18, 19, 20, 18, 19, 20, 18, 19, 20, 9, 18, 19, 20, 18, 19, 20, 18, 19, 20, 18, 19, 20, 1, 18, 19, 20, 8, 18, 19, 20, 4, 18, 19, 20, 18, 19, 20, 18, 19, 20, 18, 19, 20, 5, 18, 19, 20, 18, 19, 20, 18, 19, 20, 18, 19, 20, 7, 18, 19, 20, 8, 18, 19, 20, 18, 19, 20, 18, 19, 20, 18, 19, 20, 18, 19, 20, 18, 19, 20, 18, 19, 20, 11, 18, 19, 20, 18, 19, 20, 18, 19, 20, 18, 19, 20, 18, 19, 20, 18, 19, 20, 14, 18, 19, 20, 18, 19, 20, 14, 18, 19, 20, 18, 19, 20, 7, 18, 19, 20, 4, 18, 19, 20, 14, 18, 19, 20, 18, 19, 20, 18, 19, 20, 18, 19, 20, 18, 19, 20, 18, 19, 20, 8, 18, 19, 20, 18, 19, 20, 18, 19, 20, 18, 19, 20, 18, 19, 20, 18, 19, 20, 18, 19, 20, 1, 18, 19, 20, 18, 19, 20, 18, 19, 20, 17, 18, 19, 20, 5, 18, 19, 20, 18, 19, 20, 2, 18, 19, 20, 18, 19, 20, 18, 19, 20, 18, 19, 20, 18, 19, 20, 18, 19, 20, 3, 18, 19, 20, 2, 18, 19, 20, 7, 18, 19, 20, 18, 19, 20, 4, 18, 19, 20, 18, 19, 20, 18, 19, 20, 18, 19, 20, 18, 19, 20, 18, 19, 20, 11, 18, 19, 20, 2, 18, 19, 20, 18, 19, 20, 18, 19, 20, 18, 19, 20, 18, 19, 20, 18, 19, 20, 18, 19, 20, 18, 19, 20, 18, 19, 20, 18, 19, 20, 13, 18, 19, 20, 18, 19, 20, 7, 18, 19, 20, 18, 19, 20, 17, 18, 19, 20, 18, 19, 20, 18, 19, 20, 18, 19, 20, 18, 19, 20, 15, 18, 19, 20, 10, 18, 19, 20, 14, 18, 19, 20, 7, 18, 19, 20, 18, 19, 20, 18, 19, 20, 18, 19, 20, 13, 18, 19, 20, 18, 19, 20, 18, 19, 20, 16, 18, 19, 20, 18, 19, 20, 18, 19, 20, 18, 19, 20, 18, 19, 20, 9, 18, 19, 20, 18, 19, 20, 14, 18, 19, 20, 18, 19, 20, 18, 19, 20, 18, 19, 20, 5, 18, 19, 20, 8, 18, 19, 20, 14, 18, 19, 20, 18, 19, 20, 18, 19, 20, 18, 19, 20, 18, 19, 20, 18, 19, 20, 11, 18, 19, 20, 18, 19, 20, 18, 19, 20, 18, 19, 20, 6, 18, 19, 20, 11, 18, 19, 20, 18, 19, 20, 18, 19, 20, 18, 19, 20, 18, 19, 20, 18, 19, 20, 18, 19, 20, 6, 18, 19, 20, 18, 19, 20, 2, 18, 19, 20, 18, 19, 20, 18, 19, 20, 12, 18, 19, 20, 7, 18, 19, 20, 13, 18, 19, 20, 18, 19, 20, 18, 19, 20, 18, 19, 20, 16, 18, 19, 20, 18, 19, 20, 18, 19, 20, 18, 19, 20, 18, 19, 20, 18, 19, 20, 10, 18, 19, 20, 2, 18, 19, 20, 18, 19, 20, 18, 19, 20, 18, 19, 20, 18, 19, 20, 18, 19, 20, 18, 19, 20, 9, 18, 19, 20, 15, 18, 19, 20, 18, 19, 20, 18, 19, 20, 18, 19, 20, 8, 18, 19, 20, 18, 19, 20, 18, 19, 20, 17, 18, 19, 20, 4, 18, 19, 20, 11, 18, 19, 20, 18, 19, 20, 18, 19, 20, 16, 18, 19, 20, 18, 19, 20, 7, 18, 19, 20, 13, 18, 19, 20, 13, 18, 19, 20, 18, 19, 20, 18, 19, 20, 18, 19, 20, 18, 19, 20, 10, 18, 19, 20, 18, 19, 20, 18, 19, 20, 6, 18, 19, 20, 18, 19, 20, 18, 19, 20, 4, 18, 19, 20, 5, 18, 19, 20, 11, 18, 19, 20, 6, 18, 19, 20, 8, 18, 19, 20, 18, 19, 20, 18, 19, 20, 18, 19, 20, 18, 19, 20, 16, 18, 19, 20, 18, 19, 20, 18, 19, 20, 18, 19, 20, 18, 19, 20, 18, 19, 20, 18, 19, 20, 3, 18, 19, 20, 18, 19, 20, 18, 19, 20, 18, 19, 20, 18, 19, 20, 4, 18, 19, 20, 18, 19, 20, 8, 18, 19, 20, 18, 19, 20, 16, 18, 19, 20, 8, 18, 19, 20, 18, 19, 20, 2, 18, 19, 20, 18, 19, 20, 18, 19, 20, 14, 18, 19, 20, 11, 18, 19, 20, 18, 19, 20, 12, 18, 19, 20, 10, 18, 19, 20, 9, 18, 19, 20, 18, 19, 20, 18, 19, 20, 18, 19, 20, 18, 19, 20, 18, 19, 20, 18, 19, 20, 18, 19, 20, 18, 19, 20, 15, 18, 19, 20, 2, 18, 19, 20, 18, 19, 20, 15, 18, 19, 20, 18, 19, 20, 18, 19, 20, 7, 18, 19, 20, 18, 19, 20, 7, 18, 19, 20, 18, 19, 20, 5, 18, 19, 20, 18, 19, 20, 18, 19, 20, 18, 19, 20, 18, 19, 20, 18, 19, 20, 18, 19, 20, 18, 19, 20, 2, 18, 19, 20, 18, 19, 20, 3, 18, 19, 20, 18, 19, 20, 14, 18, 19, 20, 9, 18, 19, 20, 18, 19, 20, 18, 19, 20, 17, 18, 19, 20, 18, 19, 20, 18, 19, 20, 18, 19, 20, 18, 19, 20, 17, 18, 19, 20, 18, 19, 20, 18, 19, 20, 18, 19, 20, 18, 19, 20, 18, 19, 20, 18, 19, 20, 18, 19, 20, 18, 19, 20, 18, 19, 20, 18, 19, 20, 18, 19, 20, 18, 19, 20, 18, 19, 20, 18, 19, 20, 18, 19, 20, 7, 18, 19, 20, 18, 19, 20, 18, 19, 20, 18, 19, 20, 18, 19, 20, 18, 19, 20, 13, 18, 19, 20, 1, 18, 19, 20, 18, 19, 20, 18, 19, 20, 8, 18, 19, 20, 14, 18, 19, 20, 18, 19, 20, 16, 18, 19, 20, 18, 19, 20, 18, 19, 20, 18, 19, 20, 18, 19, 20, 18, 19, 20, 2, 18, 19, 20, 12, 18, 19, 20, 11, 18, 19, 20, 16, 18, 19, 20, 11, 18, 19, 20, 18, 19, 20, 18, 19, 20, 8, 18, 19, 20, 2, 18, 19, 20, 10, 18, 19, 20, 18, 19, 20, 18, 19, 20, 18, 19, 20, 18, 19, 20, 5, 18, 19, 20, 18, 19, 20, 4, 18, 19, 20, 18, 19, 20, 18, 19, 20, 3, 18, 19, 20, 18, 19, 20, 18, 19, 20, 18, 19, 20, 18, 19, 20], \"Freq\": [0.998943753645052, 0.00011626440335719878, 0.00023252880671439756, 0.00023252880671439756, 0.10364162079744972, 0.20728324159489944, 0.20728324159489944, 0.10364162079744972, 0.20728324159489944, 0.20728324159489944, 0.10364162079744972, 0.20728324159489944, 0.20728324159489944, 0.10364162079744972, 0.20728324159489944, 0.20728324159489944, 0.10364162079744972, 0.20728324159489944, 0.20728324159489944, 0.10364162079744972, 0.20728324159489944, 0.20728324159489944, 0.999865117537214, 1.3985105497408405e-05, 2.797021099481681e-05, 2.797021099481681e-05, 0.10363945299916774, 0.20727890599833548, 0.20727890599833548, 0.10364162079744972, 0.20728324159489944, 0.20728324159489944, 0.10364111409693468, 0.20728222819386935, 0.20728222819386935, 0.10364162079744972, 0.20728324159489944, 0.20728324159489944, 0.9948241918370253, 0.0005457071814794433, 0.0010914143629588867, 0.0010914143629588867, 0.10361836504026198, 0.20723673008052396, 0.20723673008052396, 0.10363804109121767, 0.20727608218243534, 0.20727608218243534, 0.1036372844356748, 0.2072745688713496, 0.2072745688713496, 0.9995546241350167, 4.935341056312728e-05, 9.870682112625456e-05, 9.870682112625456e-05, 0.9987349687183703, 0.00012747095963221063, 0.00025494191926442127, 0.00025494191926442127, 0.10363248281276134, 0.20726496562552268, 0.20726496562552268, 0.10362957283555707, 0.20725914567111414, 0.20725914567111414, 0.1036152546053112, 0.2072305092106224, 0.2072305092106224, 0.10354802685381383, 0.20709605370762765, 0.20709605370762765, 0.10360854890706893, 0.20721709781413786, 0.20721709781413786, 0.10356004967003768, 0.20712009934007536, 0.20712009934007536, 0.10362345806886364, 0.20724691613772728, 0.20724691613772728, 0.10363554266305898, 0.20727108532611796, 0.20727108532611796, 0.998658243109431, 0.00014801515386237305, 0.0002960303077247461, 0.0002960303077247461, 0.10363559987481585, 0.2072711997496317, 0.2072711997496317, 0.10363615222599656, 0.20727230445199313, 0.20727230445199313, 0.9997338857214447, 2.8188515358976053e-05, 5.637703071795211e-05, 5.637703071795211e-05, 0.10360555614598622, 0.20721111229197245, 0.20721111229197245, 0.9991321222833063, 0.00020778457362655845, 0.00020778457362655845, 0.9963556611585522, 0.00038950573149278817, 0.0007790114629855763, 0.0007790114629855763, 0.10361227762583192, 0.20722455525166383, 0.20722455525166383, 0.10361812180138168, 0.20723624360276335, 0.20723624360276335, 0.1036158336938012, 0.2072316673876024, 0.2072316673876024, 0.10359707356384658, 0.20719414712769316, 0.20719414712769316, 0.9991071142346716, 9.492704173251037e-05, 0.00018985408346502074, 0.00018985408346502074, 0.10362580879255104, 0.20725161758510208, 0.20725161758510208, 0.10363089858698471, 0.20726179717396942, 0.20726179717396942, 0.10363322039402242, 0.20726644078804485, 0.20726644078804485, 0.9759505274042195, 0.0024459912967524297, 0.004891982593504859, 0.004891982593504859, 0.9930784105052771, 0.0007038117721511532, 0.0014076235443023063, 0.0014076235443023063, 0.9998604150240025, 1.4403267333496629e-05, 2.8806534666993258e-05, 2.8806534666993258e-05, 0.9987229946506249, 0.0001397206204043963, 0.0002794412408087926, 0.0002794412408087926, 0.9990448367237144, 0.000103047430296412, 0.000206094860592824, 0.000206094860592824, 0.10363962233836055, 0.2072792446767211, 0.2072792446767211, 0.10364162079744972, 0.20728324159489944, 0.20728324159489944, 0.10363096372271419, 0.20726192744542837, 0.20726192744542837, 0.9828722946461746, 0.001868578506931891, 0.003737157013863782, 0.003737157013863782, 0.1036328312900662, 0.2072656625801324, 0.2072656625801324, 0.10362443673096375, 0.2072488734619275, 0.2072488734619275, 0.9895539483894846, 0.00114664420439106, 0.00229328840878212, 0.00229328840878212, 0.9972355129600533, 0.000685620840811312, 0.000685620840811312, 0.10363418794980825, 0.2072683758996165, 0.2072683758996165, 0.10361883145652775, 0.2072376629130555, 0.2072376629130555, 0.10363944139797264, 0.20727888279594528, 0.20727888279594528, 0.999433753732741, 5.913809193684858e-05, 0.00011827618387369716, 0.00011827618387369716, 0.10362605306197802, 0.20725210612395603, 0.20725210612395603, 0.10364100656699134, 0.20728201313398267, 0.20728201313398267, 0.1036248181522131, 0.2072496363044262, 0.2072496363044262, 0.10357311647880789, 0.20714623295761578, 0.20714623295761578, 0.10361863789848923, 0.20723727579697845, 0.20723727579697845, 0.10361849109098117, 0.20723698218196235, 0.20723698218196235, 0.9946881248262183, 0.0005526045137923435, 0.001105209027584687, 0.001105209027584687, 0.10363784573701187, 0.20727569147402375, 0.20727569147402375, 0.9987917181425056, 0.0001340300212214849, 0.0002680600424429698, 0.0002680600424429698, 0.10363172586885412, 0.20726345173770824, 0.20726345173770824, 0.10363427162239382, 0.20726854324478763, 0.20726854324478763, 0.10363798191974612, 0.20727596383949223, 0.20727596383949223, 0.10363036728903609, 0.20726073457807218, 0.20726073457807218, 0.10363767055222159, 0.20727534110444318, 0.20727534110444318, 0.10360774647479383, 0.20721549294958766, 0.20721549294958766, 0.9986892434047854, 0.00013178797089004823, 0.00026357594178009645, 0.00026357594178009645, 0.10361812269199246, 0.2072362453839849, 0.2072362453839849, 0.9997447923623553, 2.8369602507444814e-05, 5.673920501488963e-05, 5.673920501488963e-05, 0.10363631130736914, 0.20727262261473828, 0.20727262261473828, 0.995502428481506, 0.0004962624269598734, 0.0009925248539197468, 0.0009925248539197468, 0.9972147596107858, 0.00028524449645617444, 0.0005704889929123489, 0.0005704889929123489, 0.10363718850612802, 0.20727437701225604, 0.20727437701225604, 0.10356775840672368, 0.20713551681344736, 0.20713551681344736, 0.10361015757973534, 0.20722031515947067, 0.20722031515947067, 0.10362608004097036, 0.20725216008194072, 0.20725216008194072, 0.10364162079744972, 0.20728324159489944, 0.20728324159489944, 0.9988681697202533, 0.0001228620134957261, 0.0002457240269914522, 0.0002457240269914522, 0.9992121451202707, 8.58282206768829e-05, 0.0001716564413537658, 0.0001716564413537658, 0.10363353328441255, 0.2072670665688251, 0.2072670665688251, 0.10363381199617393, 0.20726762399234785, 0.20726762399234785, 0.9997081598641138, 2.9783356964312512e-05, 5.9566713928625025e-05, 5.9566713928625025e-05, 0.10362811864374583, 0.20725623728749165, 0.20725623728749165, 0.10361918817056773, 0.20723837634113546, 0.20723837634113546, 0.10361946725312327, 0.20723893450624653, 0.20723893450624653, 0.10363771361541614, 0.20727542723083228, 0.20727542723083228, 0.10363756922062019, 0.20727513844124038, 0.20727513844124038, 0.10360979372565618, 0.20721958745131236, 0.20721958745131236, 0.10363047912018382, 0.20726095824036764, 0.20726095824036764, 0.9950997802686208, 0.0005318545057555429, 0.0010637090115110858, 0.0010637090115110858, 0.10362274149632018, 0.20724548299264037, 0.20724548299264037, 0.9989584953173247, 0.00010792550727283112, 0.00021585101454566223, 0.00021585101454566223, 0.9995714721020255, 4.742925134529184e-05, 9.485850269058368e-05, 9.485850269058368e-05, 0.10364162079744972, 0.20728324159489944, 0.20728324159489944, 0.9636403448717903, 0.00401516810363246, 0.00803033620726492, 0.00803033620726492, 0.10363534349308332, 0.20727068698616663, 0.20727068698616663, 0.10363298813297615, 0.2072659762659523, 0.2072659762659523, 0.9940401834783364, 0.0006514024793436018, 0.0013028049586872037, 0.0013028049586872037, 0.10359893390488586, 0.20719786780977173, 0.20719786780977173, 0.2070115591853079, 0.2070115591853079, 0.2070115591853079, 0.10362545534879401, 0.20725091069758803, 0.20725091069758803, 0.9995395947150325, 4.694878321817907e-05, 9.389756643635814e-05, 9.389756643635814e-05, 0.9968338696278263, 0.0003276902924483321, 0.0006553805848966642, 0.0006553805848966642, 0.9911159739950702, 0.0008969375330272129, 0.0017938750660544257, 0.0017938750660544257, 0.10357164303885612, 0.20714328607771224, 0.20714328607771224, 0.10360967844375257, 0.20721935688750515, 0.20721935688750515, 0.10364153830902872, 0.20728307661805745, 0.20728307661805745, 0.9993177689245617, 7.495632830217235e-05, 0.0001499126566043447, 0.0001499126566043447, 0.10363479643048244, 0.20726959286096489, 0.20726959286096489, 0.10363630894284605, 0.2072726178856921, 0.2072726178856921, 0.1036416194667093, 0.2072832389334186, 0.2072832389334186, 0.9972348070650686, 0.00030137044637808057, 0.0006027408927561611, 0.0006027408927561611, 0.9987587697055349, 0.00012439391825950117, 0.00024878783651900233, 0.00024878783651900233, 0.10362697413719371, 0.20725394827438742, 0.20725394827438742, 0.10364162079744972, 0.20728324159489944, 0.20728324159489944, 0.10363759508115405, 0.2072751901623081, 0.2072751901623081, 0.10361780374881227, 0.20723560749762454, 0.20723560749762454, 0.10363962518225489, 0.20727925036450978, 0.20727925036450978, 0.10361835184809268, 0.20723670369618535, 0.20723670369618535, 0.9636008677537162, 0.003764065889662954, 0.007528131779325908, 0.007528131779325908, 0.10363636449954708, 0.20727272899909416, 0.20727272899909416, 0.10361666633988827, 0.20723333267977653, 0.20723333267977653, 0.10363356464782568, 0.20726712929565136, 0.20726712929565136, 0.10364162079744972, 0.20728324159489944, 0.20728324159489944, 0.10363682870885482, 0.20727365741770964, 0.20727365741770964, 0.998019890821977, 0.00020522720354143058, 0.00041045440708286116, 0.00041045440708286116, 0.1036280878764137, 0.2072561757528274, 0.2072561757528274, 0.9924581186248091, 0.0007845518724306792, 0.0015691037448613584, 0.0015691037448613584, 0.10362948825744898, 0.20725897651489797, 0.20725897651489797, 0.9146349115665934, 0.00923873648047064, 0.01847747296094128, 0.01847747296094128, 0.9991358852696866, 9.033778347827184e-05, 0.00018067556695654368, 0.00018067556695654368, 0.9949796298858609, 0.0005102459640440312, 0.0010204919280880625, 0.0010204919280880625, 0.10363929772395841, 0.20727859544791682, 0.20727859544791682, 0.10363704930206881, 0.20727409860413762, 0.20727409860413762, 0.10361803286402321, 0.20723606572804643, 0.20723606572804643, 0.10363093766234775, 0.2072618753246955, 0.2072618753246955, 0.10362784180519012, 0.20725568361038024, 0.20725568361038024, 0.9771119049951652, 0.0022936899178290266, 0.004587379835658053, 0.004587379835658053, 0.10363312225870311, 0.20726624451740622, 0.20726624451740622, 0.10363193458505146, 0.20726386917010292, 0.20726386917010292, 0.10363346000944691, 0.20726692001889382, 0.20726692001889382, 0.10363820234602221, 0.20727640469204442, 0.20727640469204442, 0.10363338368285478, 0.20726676736570956, 0.20726676736570956, 0.10362159690121275, 0.2072431938024255, 0.2072431938024255, 0.9993949789994924, 6.385502389620423e-05, 0.00012771004779240847, 0.00012771004779240847, 0.10363147477346399, 0.20726294954692798, 0.20726294954692798, 0.10364162079744972, 0.20728324159489944, 0.20728324159489944, 0.9979785101904068, 0.0002221185199622539, 0.0004442370399245078, 0.0004442370399245078, 0.998849222009878, 0.00011685180416587249, 0.00023370360833174499, 0.00023370360833174499, 0.10363424731627337, 0.20726849463254673, 0.20726849463254673, 0.9969062255742493, 0.0003198287537934711, 0.0006396575075869422, 0.0006396575075869422, 0.1036317287190367, 0.2072634574380734, 0.2072634574380734, 0.10362724417747655, 0.2072544883549531, 0.2072544883549531, 0.10363602712646651, 0.20727205425293302, 0.20727205425293302, 0.10364162079744972, 0.20728324159489944, 0.20728324159489944, 0.10362915998648344, 0.20725831997296687, 0.20725831997296687, 0.994692056220214, 0.0005324903941221703, 0.0010649807882443406, 0.0010649807882443406, 0.9996863523592403, 3.2280227077375454e-05, 6.456045415475091e-05, 6.456045415475091e-05, 0.9903851785068918, 0.0010085388783165905, 0.002017077756633181, 0.002017077756633181, 0.1036340710404849, 0.2072681420809698, 0.2072681420809698, 0.9975428706161553, 0.0002718841293584506, 0.0005437682587169012, 0.0005437682587169012, 0.10363347529839582, 0.20726695059679165, 0.20726695059679165, 0.1036327831080053, 0.2072655662160106, 0.2072655662160106, 0.10361795298037171, 0.20723590596074343, 0.20723590596074343, 0.10354344744770887, 0.20708689489541773, 0.20708689489541773, 0.10361680605271331, 0.20723361210542662, 0.20723361210542662, 0.9985059676121991, 0.0001631012688030381, 0.0003262025376060762, 0.0003262025376060762, 0.9870593907221927, 0.0013356689996240768, 0.0026713379992481536, 0.0026713379992481536, 0.10362816061234362, 0.20725632122468723, 0.20725632122468723, 0.10364162079744972, 0.20728324159489944, 0.20728324159489944, 0.10361696314267226, 0.2072339262853445, 0.2072339262853445, 0.10363961833382479, 0.20727923666764958, 0.20727923666764958, 0.10363961709759953, 0.20727923419519906, 0.20727923419519906, 0.10362659896583286, 0.20725319793166572, 0.20725319793166572, 0.10363611629857454, 0.20727223259714908, 0.20727223259714908, 0.10363347826126959, 0.20726695652253918, 0.20726695652253918, 0.10363636933847502, 0.20727273867695004, 0.20727273867695004, 0.9990937900854168, 9.172730353336547e-05, 0.00018345460706673095, 0.00018345460706673095, 0.10364162079744972, 0.20728324159489944, 0.20728324159489944, 0.9989187411972827, 0.00011183595400775669, 0.00022367190801551339, 0.00022367190801551339, 0.10361812269199246, 0.2072362453839849, 0.2072362453839849, 0.9984110153817012, 0.00017321495756101685, 0.0003464299151220337, 0.0003464299151220337, 0.10363298901818042, 0.20726597803636085, 0.20726597803636085, 0.1036383011128882, 0.2072766022257764, 0.2072766022257764, 0.10363784364597094, 0.20727568729194187, 0.20727568729194187, 0.10362334597065952, 0.20724669194131903, 0.20724669194131903, 0.9993722618937221, 6.909376810659029e-05, 0.00013818753621318058, 0.00013818753621318058, 0.9991155699322389, 9.635601986037602e-05, 0.00019271203972075204, 0.00019271203972075204, 0.9992795445959568, 7.798950632919354e-05, 0.00015597901265838708, 0.00015597901265838708, 0.9985176924672801, 0.00015638491659628506, 0.0003127698331925701, 0.0003127698331925701, 0.10362758855542459, 0.20725517711084918, 0.20725517711084918, 0.10363217917154399, 0.20726435834308798, 0.20726435834308798, 0.10362567313961625, 0.2072513462792325, 0.2072513462792325, 0.9962354551293741, 0.00039548846968216517, 0.0007909769393643303, 0.0007909769393643303, 0.10363967028258285, 0.2072793405651657, 0.2072793405651657, 0.10364162079744972, 0.20728324159489944, 0.20728324159489944, 0.9932761240225314, 0.0006892964080656012, 0.0013785928161312024, 0.0013785928161312024, 0.1036370786351972, 0.2072741572703944, 0.2072741572703944, 0.10364162079744972, 0.20728324159489944, 0.20728324159489944, 0.10363872899690076, 0.2072774579938015, 0.2072774579938015, 0.10363705731212372, 0.20727411462424744, 0.20727411462424744, 0.9870215099198666, 0.0013502346236933878, 0.0027004692473867756, 0.0027004692473867756, 0.10364162079744972, 0.20728324159489944, 0.20728324159489944, 0.9944621282836802, 0.0005972745515217298, 0.0011945491030434597, 0.0011945491030434597, 0.10362572580291161, 0.20725145160582323, 0.20725145160582323, 0.10363562556394612, 0.20727125112789224, 0.20727125112789224, 0.1036149038634286, 0.2072298077268572, 0.2072298077268572, 0.9995956731615797, 4.339841415193764e-05, 8.679682830387528e-05, 8.679682830387528e-05, 0.9943202396117126, 0.0006088917572637555, 0.001217783514527511, 0.001217783514527511, 0.9985711634740012, 0.00014717334760117927, 0.00029434669520235853, 0.00029434669520235853, 0.10354458690356434, 0.20708917380712868, 0.20708917380712868, 0.10363730951299423, 0.20727461902598845, 0.20727461902598845, 0.10362933809905703, 0.20725867619811406, 0.20725867619811406, 0.10363774826573673, 0.20727549653147345, 0.20727549653147345, 0.10363938547400756, 0.2072787709480151, 0.2072787709480151, 0.9987755538084713, 0.00013199095464628934, 0.00026398190929257867, 0.00026398190929257867, 0.10363390252099232, 0.20726780504198464, 0.20726780504198464, 0.10363315492171503, 0.20726630984343006, 0.20726630984343006, 0.1036347971911172, 0.2072695943822344, 0.2072695943822344, 0.9983339053580103, 0.00017068454528261417, 0.00034136909056522834, 0.00034136909056522834, 0.9993838782606801, 6.805010746702166e-05, 0.00013610021493404333, 0.00013610021493404333, 0.10362733086879511, 0.20725466173759022, 0.20725466173759022, 0.10362628465524772, 0.20725256931049543, 0.20725256931049543, 0.10363346742616186, 0.20726693485232373, 0.20726693485232373, 0.10361727012597177, 0.20723454025194354, 0.20723454025194354, 0.10362371261507068, 0.20724742523014136, 0.20724742523014136, 0.10363809909799891, 0.20727619819599782, 0.20727619819599782, 0.8698690451043288, 0.013807445160386171, 0.027614890320772342, 0.027614890320772342, 0.10364043504271396, 0.20728087008542792, 0.20728087008542792, 0.9893805688017213, 0.0010627073778751034, 0.0021254147557502067, 0.0021254147557502067, 0.10364161751044346, 0.2072832350208869, 0.2072832350208869, 0.10363241104500678, 0.20726482209001357, 0.20726482209001357, 0.9628879958841344, 0.0040973957271665295, 0.008194791454333059, 0.008194791454333059, 0.99194187097558, 0.0008184338869435478, 0.0016368677738870956, 0.0016368677738870956, 0.9966988107600094, 0.00034861798207765283, 0.0006972359641553057, 0.0006972359641553057, 0.10357314061309207, 0.20714628122618414, 0.20714628122618414, 0.10363295924006138, 0.20726591848012277, 0.20726591848012277, 0.10363999472696826, 0.20727998945393653, 0.20727998945393653, 0.9780356079224655, 0.002243200935601985, 0.00448640187120397, 0.00448640187120397, 0.10361024345260006, 0.20722048690520012, 0.20722048690520012, 0.10362791108974807, 0.20725582217949615, 0.20725582217949615, 0.10363862537265565, 0.2072772507453113, 0.2072772507453113, 0.1036058966965885, 0.207211793393177, 0.207211793393177, 0.10364162079744972, 0.20728324159489944, 0.20728324159489944, 0.9966097778060389, 0.00036266731361209566, 0.0007253346272241913, 0.0007253346272241913, 0.9972022058169578, 0.0003077784585854808, 0.0006155569171709616, 0.0006155569171709616, 0.10364162079744972, 0.20728324159489944, 0.20728324159489944, 0.10363124873212025, 0.2072624974642405, 0.2072624974642405, 0.10363981990221466, 0.20727963980442932, 0.20727963980442932, 0.10363308191364529, 0.20726616382729057, 0.20726616382729057, 0.10363331101099527, 0.20726662202199053, 0.20726662202199053, 0.10361864171441476, 0.20723728342882952, 0.20723728342882952, 0.9985687280436651, 0.00015109225723160315, 0.0003021845144632063, 0.0003021845144632063, 0.9976030895553991, 0.00025122213285202696, 0.0005024442657040539, 0.0005024442657040539, 0.10363051437090448, 0.20726102874180896, 0.20726102874180896, 0.1036390386204449, 0.2072780772408898, 0.2072780772408898, 0.10362114306539696, 0.20724228613079393, 0.20724228613079393, 0.9986663973276243, 0.0001418560223476739, 0.0002837120446953478, 0.0002837120446953478, 0.10364162079744972, 0.20728324159489944, 0.20728324159489944, 0.10363399864540741, 0.20726799729081483, 0.20726799729081483, 0.997838758182593, 0.00022438469938893479, 0.00044876939877786957, 0.00044876939877786957, 0.9994800750609482, 5.567513787104212e-05, 0.00011135027574208425, 0.00011135027574208425, 0.9957427800401589, 0.0004413753457624818, 0.0008827506915249636, 0.0008827506915249636, 0.10362680858348934, 0.20725361716697868, 0.20725361716697868, 0.10363572191675131, 0.20727144383350263, 0.20727144383350263, 0.9953874979335262, 0.0004944796313629042, 0.0009889592627258083, 0.0009889592627258083, 0.1036412109478733, 0.2072824218957466, 0.2072824218957466, 0.9934202237599283, 0.0007193484603620046, 0.0014386969207240091, 0.0014386969207240091, 0.997896222899845, 0.00021821478742616336, 0.0004364295748523267, 0.0004364295748523267, 0.9990481580459786, 0.00010585379932676188, 0.00021170759865352375, 0.00021170759865352375, 0.10362259782254724, 0.20724519564509447, 0.20724519564509447, 0.10363149069957114, 0.2072629813991423, 0.2072629813991423, 0.1036067843230084, 0.2072135686460168, 0.2072135686460168, 0.10363273129130388, 0.20726546258260775, 0.20726546258260775, 0.9997022420361596, 3.225054010052776e-05, 6.450108020105553e-05, 6.450108020105553e-05, 0.10363640121113006, 0.20727280242226012, 0.20727280242226012, 0.1036370670548519, 0.2072741341097038, 0.2072741341097038, 0.9969897795481452, 0.0003183236844023452, 0.0006366473688046904, 0.0006366473688046904, 0.10363814288328647, 0.20727628576657295, 0.20727628576657295, 0.10363451584749961, 0.20726903169499922, 0.20726903169499922, 0.9986183949776068, 0.0001491142892306416, 0.0002982285784612832, 0.0002982285784612832, 0.9978620178712391, 0.00023590118625797614, 0.0004718023725159523, 0.0004718023725159523, 0.9985853378071495, 0.000156616270045036, 0.000313232540090072, 0.000313232540090072, 0.9866525203247871, 0.0013515787949654617, 0.0027031575899309234, 0.0027031575899309234, 0.9900424965043781, 0.0010259507735796666, 0.002051901547159333, 0.002051901547159333, 0.10363638071097633, 0.20727276142195267, 0.20727276142195267, 0.1036180413669552, 0.2072360827339104, 0.2072360827339104, 0.10362868760191848, 0.20725737520383697, 0.20725737520383697, 0.1036325683889293, 0.2072651367778586, 0.2072651367778586, 0.9953812401009807, 0.0005128187738799489, 0.0010256375477598978, 0.0010256375477598978, 0.10363869731675071, 0.20727739463350142, 0.20727739463350142, 0.10363316128981429, 0.20726632257962857, 0.20726632257962857, 0.10363022322023097, 0.20726044644046193, 0.20726044644046193, 0.10363465436525406, 0.2072693087305081, 0.2072693087305081, 0.10363925075961096, 0.20727850151922192, 0.20727850151922192, 0.10364162079744972, 0.20728324159489944, 0.20728324159489944, 0.9964052294406056, 0.0003865031921802194, 0.0007730063843604388, 0.0007730063843604388, 0.10363741647178673, 0.20727483294357346, 0.20727483294357346, 0.1036340873458525, 0.207268174691705, 0.207268174691705, 0.10363834805615428, 0.20727669611230856, 0.20727669611230856, 0.10363014111450965, 0.2072602822290193, 0.2072602822290193, 0.9957710422818044, 0.0004607917826385027, 0.0009215835652770055, 0.0009215835652770055, 0.10363305978256585, 0.2072661195651317, 0.2072661195651317, 0.9991823448964212, 8.793297059723851e-05, 0.00017586594119447702, 0.00017586594119447702, 0.10364162079744972, 0.20728324159489944, 0.20728324159489944, 0.9970817758173519, 0.0002996038989835793, 0.0005992077979671586, 0.0005992077979671586, 0.9993839507809855, 6.472274792960206e-05, 0.00012944549585920413, 0.00012944549585920413, 0.20702418513753937, 0.20702418513753937, 0.20702418513753937, 0.9996359655415377, 3.767945591939456e-05, 7.535891183878912e-05, 7.535891183878912e-05, 0.10363478843948082, 0.20726957687896164, 0.20726957687896164, 0.103636649762102, 0.207273299524204, 0.207273299524204, 0.9981429355495469, 0.00020229893302585062, 0.00040459786605170125, 0.00040459786605170125, 0.9957453761057421, 0.0004333095631443612, 0.0008666191262887224, 0.0008666191262887224, 0.1036330754004285, 0.207266150800857, 0.207266150800857, 0.9989902073941396, 0.00010421345789632168, 0.00020842691579264335, 0.00020842691579264335, 0.9986011928970571, 0.0001493123793207322, 0.0002986247586414644, 0.0002986247586414644, 0.9994698425210546, 5.871635780290534e-05, 0.00011743271560581068, 0.00011743271560581068, 0.10363577126207171, 0.20727154252414343, 0.20727154252414343, 0.10362672634542984, 0.20725345269085968, 0.20725345269085968, 0.10355280324004286, 0.20710560648008572, 0.20710560648008572, 0.10361483160237336, 0.20722966320474673, 0.20722966320474673, 0.10362832485897232, 0.20725664971794464, 0.20725664971794464, 0.10362978204546533, 0.20725956409093066, 0.20725956409093066, 0.10363454256354276, 0.20726908512708553, 0.20726908512708553, 0.10363010486687503, 0.20726020973375006, 0.20726020973375006, 0.9868118705339377, 0.001409731243619911, 0.002819462487239822, 0.002819462487239822, 0.9963192002447468, 0.00037639561777285486, 0.0007527912355457097, 0.0007527912355457097, 0.10363375146798824, 0.20726750293597648, 0.20726750293597648, 0.9995456211186856, 4.82150220017696e-05, 9.64300440035392e-05, 9.64300440035392e-05, 0.10362804972659086, 0.2072560994531817, 0.2072560994531817, 0.10363080163284552, 0.20726160326569104, 0.20726160326569104, 0.9848835783553805, 0.0016469625056110043, 0.0032939250112220086, 0.0032939250112220086, 0.10364162079744972, 0.20728324159489944, 0.20728324159489944, 0.9976821490565386, 0.00025726718645088673, 0.0005145343729017735, 0.0005145343729017735, 0.10363385672162553, 0.20726771344325107, 0.20726771344325107, 0.9974193424063516, 0.00025933940260175546, 0.0005186788052035109, 0.0005186788052035109, 0.10363382072628002, 0.20726764145256005, 0.20726764145256005, 0.1036019614708374, 0.2072039229416748, 0.2072039229416748, 0.10363945287675602, 0.20727890575351204, 0.20727890575351204, 0.10363361475178913, 0.20726722950357826, 0.20726722950357826, 0.10354442632251269, 0.20708885264502538, 0.20708885264502538, 0.10362065225436057, 0.20724130450872114, 0.20724130450872114, 0.10363532945958147, 0.20727065891916294, 0.20727065891916294, 0.9973837954323543, 0.00026561485897000115, 0.0005312297179400023, 0.0005312297179400023, 0.10364162079744972, 0.20728324159489944, 0.20728324159489944, 0.9956993516037981, 0.0004483112794253931, 0.0008966225588507862, 0.0008966225588507862, 0.10361830332045557, 0.20723660664091115, 0.20723660664091115, 0.9895319355248346, 0.0010873977313459722, 0.0021747954626919444, 0.0021747954626919444, 0.9880880609425874, 0.0012304957172385896, 0.002460991434477179, 0.002460991434477179, 0.10359755189276072, 0.20719510378552145, 0.20719510378552145, 0.10363348209433305, 0.2072669641886661, 0.2072669641886661, 0.9989576416932905, 0.0001157674865793592, 0.0002315349731587184, 0.0002315349731587184, 0.103631570547395, 0.20726314109479, 0.20726314109479, 0.10363158658963215, 0.2072631731792643, 0.2072631731792643, 0.10362340865847579, 0.20724681731695158, 0.20724681731695158, 0.10362959617109674, 0.20725919234219348, 0.20725919234219348, 0.9982656291044831, 0.00018634788670981577, 0.00037269577341963154, 0.00037269577341963154, 0.10363642681505376, 0.20727285363010753, 0.20727285363010753, 0.10363914756151385, 0.2072782951230277, 0.2072782951230277, 0.10364162079744972, 0.20728324159489944, 0.20728324159489944, 0.10363718773139526, 0.2072743754627905, 0.2072743754627905, 0.10363114366305597, 0.20726228732611193, 0.20726228732611193, 0.10363290633962502, 0.20726581267925004, 0.20726581267925004, 0.10364069574700555, 0.2072813914940111, 0.2072813914940111, 0.10363352308860219, 0.20726704617720437, 0.20726704617720437, 0.10362757122972044, 0.20725514245944088, 0.20725514245944088, 0.10363163491256727, 0.20726326982513454, 0.20726326982513454, 0.10363069507327533, 0.20726139014655065, 0.20726139014655065, 0.10363427347095501, 0.20726854694191002, 0.20726854694191002, 0.10363972540434654, 0.2072794508086931, 0.2072794508086931, 0.10363707094352934, 0.20727414188705867, 0.20727414188705867, 0.10362340688279903, 0.20724681376559806, 0.20724681376559806, 0.9937329089249706, 0.0006337582327327619, 0.0012675164654655238, 0.0012675164654655238, 0.10361463273393375, 0.2072292654678675, 0.2072292654678675, 0.1035591836866772, 0.2071183673733544, 0.2071183673733544, 0.10363164843183928, 0.20726329686367856, 0.20726329686367856, 0.10362719782828012, 0.20725439565656023, 0.20725439565656023, 0.10361303026528296, 0.20722606053056591, 0.20722606053056591, 0.9970550606408599, 0.00030022735942211986, 0.0006004547188442397, 0.0006004547188442397, 0.9919177300191397, 0.0008573186949171475, 0.001714637389834295, 0.001714637389834295, 0.10362823400955874, 0.20725646801911748, 0.20725646801911748, 0.10363229510035436, 0.20726459020070873, 0.20726459020070873, 0.9888749588342134, 0.001181451563720685, 0.00236290312744137, 0.00236290312744137, 0.9988842815234981, 0.00011623042605579452, 0.00023246085211158903, 0.00023246085211158903, 0.10361815574750068, 0.20723631149500135, 0.20723631149500135, 0.9982731643441017, 0.00017662299439916875, 0.0003532459887983375, 0.0003532459887983375, 0.10363682373978791, 0.20727364747957583, 0.20727364747957583, 0.10363324713207094, 0.20726649426414187, 0.20726649426414187, 0.10363774383022924, 0.20727548766045847, 0.20727548766045847, 0.10363210961323839, 0.20726421922647678, 0.20726421922647678, 0.10364162079744972, 0.20728324159489944, 0.20728324159489944, 0.9992283373059675, 8.387713735465185e-05, 0.0001677542747093037, 0.0001677542747093037, 0.9998060077845873, 2.0950191894570486e-05, 4.190038378914097e-05, 4.190038378914097e-05, 0.9990982848622089, 9.081060578642145e-05, 0.0001816212115728429, 0.0001816212115728429, 0.9990487741047404, 0.00010007500491883606, 0.0002001500098376721, 0.0002001500098376721, 0.9950793148776537, 0.0004980376951339608, 0.0009960753902679216, 0.0009960753902679216, 0.10363359574942138, 0.20726719149884276, 0.20726719149884276, 0.10357212524929549, 0.20714425049859098, 0.20714425049859098, 0.9936784603022132, 0.0006982982855250971, 0.0013965965710501943, 0.0013965965710501943, 0.9994362948865088, 5.7958495412114865e-05, 0.00011591699082422973, 0.00011591699082422973, 0.9837791135936774, 0.001645115574571367, 0.003290231149142734, 0.003290231149142734, 0.10362153763931624, 0.20724307527863248, 0.20724307527863248, 0.10363183473911144, 0.2072636694782229, 0.2072636694782229, 0.10363237114397582, 0.20726474228795164, 0.20726474228795164, 0.10361631294061877, 0.20723262588123753, 0.20723262588123753, 0.9992493151702458, 8.249395815819746e-05, 0.00016498791631639492, 0.00016498791631639492, 0.10364162079744972, 0.20728324159489944, 0.20728324159489944, 0.9848660862041309, 0.0016414434770068848, 0.0032828869540137695, 0.0032828869540137695, 0.10362894749946529, 0.20725789499893058, 0.20725789499893058, 0.10361673455665314, 0.20723346911330628, 0.20723346911330628, 0.9998779134428569, 1.3521182347872951e-05, 2.7042364695745902e-05, 2.7042364695745902e-05, 0.10363712567245324, 0.20727425134490648, 0.20727425134490648, 0.10363730601704367, 0.20727461203408734, 0.20727461203408734, 0.103618642076109, 0.207237284152218, 0.207237284152218, 0.1036393362310013, 0.2072786724620026, 0.2072786724620026], \"Term\": [\"amp\", \"amp\", \"amp\", \"amp\", \"angel\", \"angel\", \"angel\", \"ddddd\", \"ddddd\", \"ddddd\", \"dtoropova\", \"dtoropova\", \"dtoropova\", \"ekaetrina\", \"ekaetrina\", \"ekaetrina\", \"fidelevna\", \"fidelevna\", \"fidelevna\", \"gruzdevvladimir\", \"gruzdevvladimir\", \"gruzdevvladimir\", \"http\", \"http\", \"http\", \"http\", \"levsharansky\", \"levsharansky\", \"levsharansky\", \"maksimofficial\", \"maksimofficial\", \"maksimofficial\", \"\\u0430\\u0432\\u0442\\u043e\\u0440\", \"\\u0430\\u0432\\u0442\\u043e\\u0440\", \"\\u0430\\u0432\\u0442\\u043e\\u0440\", \"\\u0430\\u043d\\u0433\\u043b\\u0438\\u0447\\u0430\\u043d\\u043a\\u0430\", \"\\u0430\\u043d\\u0433\\u043b\\u0438\\u0447\\u0430\\u043d\\u043a\\u0430\", \"\\u0430\\u043d\\u0433\\u043b\\u0438\\u0447\\u0430\\u043d\\u043a\\u0430\", \"\\u0430\\u0445\\u0430\\u0445\", \"\\u0430\\u0445\\u0430\\u0445\", \"\\u0430\\u0445\\u0430\\u0445\", \"\\u0430\\u0445\\u0430\\u0445\", \"\\u0431\\u0435\\u0434\\u043d\\u0435\\u043d\\u044c\\u043a\\u0438\\u0439\", \"\\u0431\\u0435\\u0434\\u043d\\u0435\\u043d\\u044c\\u043a\\u0438\\u0439\", \"\\u0431\\u0435\\u0434\\u043d\\u0435\\u043d\\u044c\\u043a\\u0438\\u0439\", \"\\u0431\\u0438\\u0430\\u0442\\u043b\\u043e\\u043d\", \"\\u0431\\u0438\\u0430\\u0442\\u043b\\u043e\\u043d\", \"\\u0431\\u0438\\u0430\\u0442\\u043b\\u043e\\u043d\", \"\\u0431\\u043b\\u0430\", \"\\u0431\\u043b\\u0430\", \"\\u0431\\u043b\\u0430\", \"\\u0431\\u043b\\u0438\\u043d\", \"\\u0431\\u043b\\u0438\\u043d\", \"\\u0431\\u043b\\u0438\\u043d\", \"\\u0431\\u043b\\u0438\\u043d\", \"\\u0431\\u043b\\u044f\", \"\\u0431\\u043b\\u044f\", \"\\u0431\\u043b\\u044f\", \"\\u0431\\u043b\\u044f\", \"\\u0431\\u043b\\u044f\\u0434\\u044c\", \"\\u0431\\u043b\\u044f\\u0434\\u044c\", \"\\u0431\\u043b\\u044f\\u0434\\u044c\", \"\\u0431\\u043e\\u0433\", \"\\u0431\\u043e\\u0433\", \"\\u0431\\u043e\\u0433\", \"\\u0431\\u043e\\u043b\\u0435\\u0442\\u044c\", \"\\u0431\\u043e\\u043b\\u0435\\u0442\\u044c\", \"\\u0431\\u043e\\u043b\\u0435\\u0442\\u044c\", \"\\u0431\\u043e\\u043b\\u044c\", \"\\u0431\\u043e\\u043b\\u044c\", \"\\u0431\\u043e\\u043b\\u044c\", \"\\u0431\\u043e\\u043b\\u044c\\u043d\\u0438\\u0446\\u0430\", \"\\u0431\\u043e\\u043b\\u044c\\u043d\\u0438\\u0446\\u0430\", \"\\u0431\\u043e\\u043b\\u044c\\u043d\\u0438\\u0446\\u0430\", \"\\u0431\\u043e\\u043b\\u044c\\u0448\\u043e\\u0439\", \"\\u0431\\u043e\\u043b\\u044c\\u0448\\u043e\\u0439\", \"\\u0431\\u043e\\u043b\\u044c\\u0448\\u043e\\u0439\", \"\\u0431\\u043e\\u044f\\u0442\\u044c\\u0441\\u044f\", \"\\u0431\\u043e\\u044f\\u0442\\u044c\\u0441\\u044f\", \"\\u0431\\u043e\\u044f\\u0442\\u044c\\u0441\\u044f\", \"\\u0431\\u044b\\u0432\\u0430\\u0442\\u044c\", \"\\u0431\\u044b\\u0432\\u0430\\u0442\\u044c\", \"\\u0431\\u044b\\u0432\\u0430\\u0442\\u044c\", \"\\u0432\\u0430\\u0448\", \"\\u0432\\u0430\\u0448\", \"\\u0432\\u0430\\u0448\", \"\\u0432\\u0430\\u0448\", \"\\u0432\\u0435\\u0440\\u043d\\u0443\\u0442\\u044c\", \"\\u0432\\u0435\\u0440\\u043d\\u0443\\u0442\\u044c\", \"\\u0432\\u0435\\u0440\\u043d\\u0443\\u0442\\u044c\", \"\\u0432\\u0435\\u0441\\u043d\\u0430\", \"\\u0432\\u0435\\u0441\\u043d\\u0430\", \"\\u0432\\u0435\\u0441\\u043d\\u0430\", \"\\u0432\\u0435\\u0441\\u044c\", \"\\u0432\\u0435\\u0441\\u044c\", \"\\u0432\\u0435\\u0441\\u044c\", \"\\u0432\\u0435\\u0441\\u044c\", \"\\u0432\\u0435\\u0447\\u0435\\u0440\", \"\\u0432\\u0435\\u0447\\u0435\\u0440\", \"\\u0432\\u0435\\u0447\\u0435\\u0440\", \"\\u0432\\u0435\\u0447\\u0435\\u0440\\u043e\\u043c\", \"\\u0432\\u0435\\u0447\\u0435\\u0440\\u043e\\u043c\", \"\\u0432\\u0435\\u0447\\u0435\\u0440\\u043e\\u043c\", \"\\u0432\\u0437\\u044f\\u0442\\u044c\", \"\\u0432\\u0437\\u044f\\u0442\\u044c\", \"\\u0432\\u0437\\u044f\\u0442\\u044c\", \"\\u0432\\u0437\\u044f\\u0442\\u044c\", \"\\u0432\\u0438\\u0434\\u0435\\u0442\\u044c\", \"\\u0432\\u0438\\u0434\\u0435\\u0442\\u044c\", \"\\u0432\\u0438\\u0434\\u0435\\u0442\\u044c\", \"\\u0432\\u043d\\u0438\\u0437\\u0443\", \"\\u0432\\u043d\\u0438\\u0437\\u0443\", \"\\u0432\\u043d\\u0438\\u0437\\u0443\", \"\\u0432\\u043e\\u043a\\u0440\\u0443\\u0433\", \"\\u0432\\u043e\\u043a\\u0440\\u0443\\u0433\", \"\\u0432\\u043e\\u043a\\u0440\\u0443\\u0433\", \"\\u0432\\u043e\\u043e\\u0431\\u0449\\u0435\", \"\\u0432\\u043e\\u043e\\u0431\\u0449\\u0435\", \"\\u0432\\u043e\\u043e\\u0431\\u0449\\u0435\", \"\\u0432\\u0440\\u0435\\u043c\\u044f\", \"\\u0432\\u0440\\u0435\\u043c\\u044f\", \"\\u0432\\u0440\\u0435\\u043c\\u044f\", \"\\u0432\\u0440\\u0435\\u043c\\u044f\", \"\\u0432\\u0440\\u043e\\u0434\\u0435\", \"\\u0432\\u0440\\u043e\\u0434\\u0435\", \"\\u0432\\u0440\\u043e\\u0434\\u0435\", \"\\u0432\\u0441\\u0442\\u0430\\u0432\\u0430\\u0442\\u044c\", \"\\u0432\\u0441\\u0442\\u0430\\u0432\\u0430\\u0442\\u044c\", \"\\u0432\\u0441\\u0442\\u0430\\u0432\\u0430\\u0442\\u044c\", \"\\u0432\\u0441\\u0442\\u0430\\u0442\\u044c\", \"\\u0432\\u0441\\u0442\\u0430\\u0442\\u044c\", \"\\u0432\\u0441\\u0442\\u0430\\u0442\\u044c\", \"\\u0432\\u0441\\u0442\\u0440\\u0435\\u0447\\u0430\\u0442\\u044c\", \"\\u0432\\u0441\\u0442\\u0440\\u0435\\u0447\\u0430\\u0442\\u044c\", \"\\u0432\\u0441\\u0442\\u0440\\u0435\\u0447\\u0430\\u0442\\u044c\", \"\\u0432\\u0441\\u0442\\u0440\\u0435\\u0447\\u0430\\u0442\\u044c\", \"\\u0432\\u0441\\u044f\\u043a\\u0438\\u0439\", \"\\u0432\\u0441\\u044f\\u043a\\u0438\\u0439\", \"\\u0432\\u0441\\u044f\\u043a\\u0438\\u0439\", \"\\u0432\\u0441\\u044f\\u043a\\u0438\\u0439\", \"\\u0432\\u0441\\u0451\", \"\\u0432\\u0441\\u0451\", \"\\u0432\\u0441\\u0451\", \"\\u0432\\u0441\\u0451\", \"\\u0432\\u0442\\u043e\\u0440\\u043e\\u0439\", \"\\u0432\\u0442\\u043e\\u0440\\u043e\\u0439\", \"\\u0432\\u0442\\u043e\\u0440\\u043e\\u0439\", \"\\u0432\\u0442\\u043e\\u0440\\u043e\\u0439\", \"\\u0432\\u0447\\u0435\\u0440\\u0430\", \"\\u0432\\u0447\\u0435\\u0440\\u0430\", \"\\u0432\\u0447\\u0435\\u0440\\u0430\", \"\\u0432\\u0447\\u0435\\u0440\\u0430\", \"\\u0432\\u044b\\u0431\\u043e\\u0440\", \"\\u0432\\u044b\\u0431\\u043e\\u0440\", \"\\u0432\\u044b\\u0431\\u043e\\u0440\", \"\\u0432\\u044b\\u0434\\u0430\\u0442\\u044c\\u0441\\u044f\", \"\\u0432\\u044b\\u0434\\u0430\\u0442\\u044c\\u0441\\u044f\", \"\\u0432\\u044b\\u0434\\u0430\\u0442\\u044c\\u0441\\u044f\", \"\\u0432\\u044b\\u0439\\u0442\\u0438\", \"\\u0432\\u044b\\u0439\\u0442\\u0438\", \"\\u0432\\u044b\\u0439\\u0442\\u0438\", \"\\u0432\\u044b\\u043f\\u0438\\u0442\\u044c\", \"\\u0432\\u044b\\u043f\\u0438\\u0442\\u044c\", \"\\u0432\\u044b\\u043f\\u0438\\u0442\\u044c\", \"\\u0432\\u044b\\u043f\\u0438\\u0442\\u044c\", \"\\u0432\\u044b\\u0445\\u043e\\u0434\\u0438\\u0442\\u044c\", \"\\u0432\\u044b\\u0445\\u043e\\u0434\\u0438\\u0442\\u044c\", \"\\u0432\\u044b\\u0445\\u043e\\u0434\\u0438\\u0442\\u044c\", \"\\u0432\\u044b\\u0445\\u043e\\u0434\\u043d\\u043e\\u0439\", \"\\u0432\\u044b\\u0445\\u043e\\u0434\\u043d\\u043e\\u0439\", \"\\u0432\\u044b\\u0445\\u043e\\u0434\\u043d\\u043e\\u0439\", \"\\u0433\\u043b\\u0430\\u0432\\u043d\\u043e\\u0435\", \"\\u0433\\u043b\\u0430\\u0432\\u043d\\u043e\\u0435\", \"\\u0433\\u043b\\u0430\\u0432\\u043d\\u043e\\u0435\", \"\\u0433\\u043b\\u0430\\u0432\\u043d\\u043e\\u0435\", \"\\u0433\\u043b\\u044f\\u043d\\u0443\\u0442\\u044c\", \"\\u0433\\u043b\\u044f\\u043d\\u0443\\u0442\\u044c\", \"\\u0433\\u043b\\u044f\\u043d\\u0443\\u0442\\u044c\", \"\\u0433\\u043e\\u0432\\u043d\\u043e\", \"\\u0433\\u043e\\u0432\\u043d\\u043e\", \"\\u0433\\u043e\\u0432\\u043d\\u043e\", \"\\u0433\\u043e\\u0432\\u043e\\u0440\\u0438\\u0442\\u044c\", \"\\u0433\\u043e\\u0432\\u043e\\u0440\\u0438\\u0442\\u044c\", \"\\u0433\\u043e\\u0432\\u043e\\u0440\\u0438\\u0442\\u044c\", \"\\u0433\\u043e\\u0432\\u043e\\u0440\\u0438\\u0442\\u044c\\u0441\\u044f\", \"\\u0433\\u043e\\u0432\\u043e\\u0440\\u0438\\u0442\\u044c\\u0441\\u044f\", \"\\u0433\\u043e\\u0432\\u043e\\u0440\\u0438\\u0442\\u044c\\u0441\\u044f\", \"\\u0433\\u043e\\u0434\", \"\\u0433\\u043e\\u0434\", \"\\u0433\\u043e\\u0434\", \"\\u0433\\u043e\\u0434\", \"\\u0433\\u043e\\u043b\\u043e\\u0432\\u0430\", \"\\u0433\\u043e\\u043b\\u043e\\u0432\\u0430\", \"\\u0433\\u043e\\u043b\\u043e\\u0432\\u0430\", \"\\u0433\\u043e\\u043b\\u043e\\u0434\", \"\\u0433\\u043e\\u043b\\u043e\\u0434\", \"\\u0433\\u043e\\u043b\\u043e\\u0434\", \"\\u0433\\u043e\\u0440\\u043e\\u0434\", \"\\u0433\\u043e\\u0440\\u043e\\u0434\", \"\\u0433\\u043e\\u0440\\u043e\\u0434\", \"\\u0433\\u043e\\u0441\\u0442\\u044c\", \"\\u0433\\u043e\\u0441\\u0442\\u044c\", \"\\u0433\\u043e\\u0441\\u0442\\u044c\", \"\\u0433\\u0440\\u0430\\u043d\\u0434\", \"\\u0433\\u0440\\u0430\\u043d\\u0434\", \"\\u0433\\u0440\\u0430\\u043d\\u0434\", \"\\u0433\\u0440\\u043e\\u0434\\u043d\\u043e\", \"\\u0433\\u0440\\u043e\\u0434\\u043d\\u043e\", \"\\u0433\\u0440\\u043e\\u0434\\u043d\\u043e\", \"\\u0433\\u0440\\u0443\\u043f\\u043f\\u0430\", \"\\u0433\\u0440\\u0443\\u043f\\u043f\\u0430\", \"\\u0433\\u0440\\u0443\\u043f\\u043f\\u0430\", \"\\u0433\\u0440\\u0443\\u043f\\u043f\\u0430\", \"\\u0433\\u0440\\u044f\\u0437\\u043d\\u044b\\u0439\", \"\\u0433\\u0440\\u044f\\u0437\\u043d\\u044b\\u0439\", \"\\u0433\\u0440\\u044f\\u0437\\u043d\\u044b\\u0439\", \"\\u0433\\u0443\\u043b\\u044f\\u0442\\u044c\", \"\\u0433\\u0443\\u043b\\u044f\\u0442\\u044c\", \"\\u0433\\u0443\\u043b\\u044f\\u0442\\u044c\", \"\\u0433\\u0443\\u043b\\u044f\\u0442\\u044c\", \"\\u0434\\u0430\\u0432\\u0430\\u0442\\u044c\", \"\\u0434\\u0430\\u0432\\u0430\\u0442\\u044c\", \"\\u0434\\u0430\\u0432\\u0430\\u0442\\u044c\", \"\\u0434\\u0430\\u0432\\u043d\\u043e\", \"\\u0434\\u0430\\u0432\\u043d\\u043e\", \"\\u0434\\u0430\\u0432\\u043d\\u043e\", \"\\u0434\\u0430\\u043b\\u0435\\u043a\\u043e\", \"\\u0434\\u0430\\u043b\\u0435\\u043a\\u043e\", \"\\u0434\\u0430\\u043b\\u0435\\u043a\\u043e\", \"\\u0434\\u0430\\u0442\\u044c\", \"\\u0434\\u0430\\u0442\\u044c\", \"\\u0434\\u0430\\u0442\\u044c\", \"\\u0434\\u0432\\u0435\\u0440\\u044c\", \"\\u0434\\u0432\\u0435\\u0440\\u044c\", \"\\u0434\\u0432\\u0435\\u0440\\u044c\", \"\\u0434\\u0435\\u043b\\u0430\\u0442\\u044c\", \"\\u0434\\u0435\\u043b\\u0430\\u0442\\u044c\", \"\\u0434\\u0435\\u043b\\u0430\\u0442\\u044c\", \"\\u0434\\u0435\\u043b\\u043e\", \"\\u0434\\u0435\\u043b\\u043e\", \"\\u0434\\u0435\\u043b\\u043e\", \"\\u0434\\u0435\\u043b\\u043e\", \"\\u0434\\u0435\\u043c\\u043e\\u0442\\u0438\\u0432\\u0430\\u0442\\u043e\\u0440\", \"\\u0434\\u0435\\u043c\\u043e\\u0442\\u0438\\u0432\\u0430\\u0442\\u043e\\u0440\", \"\\u0434\\u0435\\u043c\\u043e\\u0442\\u0438\\u0432\\u0430\\u0442\\u043e\\u0440\", \"\\u0434\\u0435\\u043d\\u044c\", \"\\u0434\\u0435\\u043d\\u044c\", \"\\u0434\\u0435\\u043d\\u044c\", \"\\u0434\\u0435\\u043d\\u044c\", \"\\u0434\\u0436\\u0438\\u043d\\u0441\\u044b\", \"\\u0434\\u0436\\u0438\\u043d\\u0441\\u044b\", \"\\u0434\\u0436\\u0438\\u043d\\u0441\\u044b\", \"\\u0434\\u043e\\u0431\\u0440\\u043e\", \"\\u0434\\u043e\\u0431\\u0440\\u043e\", \"\\u0434\\u043e\\u0431\\u0440\\u043e\", \"\\u0434\\u043e\\u0431\\u0440\\u043e\", \"\\u0434\\u043e\\u0431\\u0440\\u044b\\u0439\", \"\\u0434\\u043e\\u0431\\u0440\\u044b\\u0439\", \"\\u0434\\u043e\\u0431\\u0440\\u044b\\u0439\", \"\\u0434\\u043e\\u0431\\u0440\\u044b\\u0439\", \"\\u0434\\u043e\\u0436\\u0434\\u044c\", \"\\u0434\\u043e\\u0436\\u0434\\u044c\", \"\\u0434\\u043e\\u0436\\u0434\\u044c\", \"\\u0434\\u043e\\u043b\\u0436\\u043d\\u044b\\u0439\", \"\\u0434\\u043e\\u043b\\u0436\\u043d\\u044b\\u0439\", \"\\u0434\\u043e\\u043b\\u0436\\u043d\\u044b\\u0439\", \"\\u0434\\u043e\\u043c\", \"\\u0434\\u043e\\u043c\", \"\\u0434\\u043e\\u043c\", \"\\u0434\\u043e\\u043c\\u043e\\u0439\", \"\\u0434\\u043e\\u043c\\u043e\\u0439\", \"\\u0434\\u043e\\u043c\\u043e\\u0439\", \"\\u0434\\u043e\\u043d\\u0442\", \"\\u0434\\u043e\\u043d\\u0442\", \"\\u0434\\u043e\\u043d\\u0442\", \"\\u0434\\u0440\\u0443\\u0433\", \"\\u0434\\u0440\\u0443\\u0433\", \"\\u0434\\u0440\\u0443\\u0433\", \"\\u0434\\u0440\\u0443\\u0433\", \"\\u0434\\u0443\\u043c\\u0430\\u0442\\u044c\", \"\\u0434\\u0443\\u043c\\u0430\\u0442\\u044c\", \"\\u0434\\u0443\\u043c\\u0430\\u0442\\u044c\", \"\\u0434\\u0443\\u043c\\u0430\\u0442\\u044c\", \"\\u0434\\u0443\\u0448\\u0430\", \"\\u0434\\u0443\\u0448\\u0430\", \"\\u0434\\u0443\\u0448\\u0430\", \"\\u0435\\u0445\\u0430\\u0442\\u044c\", \"\\u0435\\u0445\\u0430\\u0442\\u044c\", \"\\u0435\\u0445\\u0430\\u0442\\u044c\", \"\\u0435\\u0449\\u0451\", \"\\u0435\\u0449\\u0451\", \"\\u0435\\u0449\\u0451\", \"\\u0435\\u0449\\u0451\", \"\\u0436\\u0430\\u043b\\u043a\\u043e\", \"\\u0436\\u0430\\u043b\\u043a\\u043e\", \"\\u0436\\u0430\\u043b\\u043a\\u043e\", \"\\u0436\\u0430\\u043b\\u044c\", \"\\u0436\\u0430\\u043b\\u044c\", \"\\u0436\\u0430\\u043b\\u044c\", \"\\u0436\\u0434\\u0430\\u0442\\u044c\", \"\\u0436\\u0434\\u0430\\u0442\\u044c\", \"\\u0436\\u0434\\u0430\\u0442\\u044c\", \"\\u0436\\u0435\\u043b\\u0430\\u043d\\u0438\\u0435\", \"\\u0436\\u0435\\u043b\\u0430\\u043d\\u0438\\u0435\", \"\\u0436\\u0435\\u043b\\u0430\\u043d\\u0438\\u0435\", \"\\u0436\\u0435\\u043b\\u0430\\u0442\\u044c\", \"\\u0436\\u0435\\u043b\\u0430\\u0442\\u044c\", \"\\u0436\\u0435\\u043b\\u0430\\u0442\\u044c\", \"\\u0436\\u0438\\u0437\\u043d\\u044c\", \"\\u0436\\u0438\\u0437\\u043d\\u044c\", \"\\u0436\\u0438\\u0437\\u043d\\u044c\", \"\\u0436\\u0438\\u0442\\u044c\", \"\\u0436\\u0438\\u0442\\u044c\", \"\\u0436\\u0438\\u0442\\u044c\", \"\\u0436\\u0440\\u0430\\u0442\\u044c\", \"\\u0436\\u0440\\u0430\\u0442\\u044c\", \"\\u0436\\u0440\\u0430\\u0442\\u044c\", \"\\u0436\\u0440\\u0430\\u0442\\u044c\", \"\\u0437\\u0430\\u0431\\u043e\\u043b\\u0435\\u0442\\u044c\", \"\\u0437\\u0430\\u0431\\u043e\\u043b\\u0435\\u0442\\u044c\", \"\\u0437\\u0430\\u0431\\u043e\\u043b\\u0435\\u0442\\u044c\", \"\\u0437\\u0430\\u0431\\u044b\\u0442\\u044c\", \"\\u0437\\u0430\\u0431\\u044b\\u0442\\u044c\", \"\\u0437\\u0430\\u0431\\u044b\\u0442\\u044c\", \"\\u0437\\u0430\\u0431\\u044b\\u0442\\u044c\", \"\\u0437\\u0430\\u0432\\u0442\\u0440\\u0430\", \"\\u0437\\u0430\\u0432\\u0442\\u0440\\u0430\", \"\\u0437\\u0430\\u0432\\u0442\\u0440\\u0430\", \"\\u0437\\u0430\\u0432\\u0442\\u0440\\u0430\", \"\\u0437\\u0430\\u0433\\u043e\\u0440\\u0430\\u0442\\u044c\", \"\\u0437\\u0430\\u0433\\u043e\\u0440\\u0430\\u0442\\u044c\", \"\\u0437\\u0430\\u0433\\u043e\\u0440\\u0430\\u0442\\u044c\", \"\\u0437\\u0430\\u0435\\u0431\\u0438\\u0441\\u044c\", \"\\u0437\\u0430\\u0435\\u0431\\u0438\\u0441\\u044c\", \"\\u0437\\u0430\\u0435\\u0431\\u0438\\u0441\\u044c\", \"\\u0437\\u0430\\u0435\\u0431\\u0438\\u0441\\u044c\", \"\\u0437\\u0430\\u043a\\u0430\\u043d\\u0447\\u0438\\u0432\\u0430\\u0442\\u044c\\u0441\\u044f\", \"\\u0437\\u0430\\u043a\\u0430\\u043d\\u0447\\u0438\\u0432\\u0430\\u0442\\u044c\\u0441\\u044f\", \"\\u0437\\u0430\\u043a\\u0430\\u043d\\u0447\\u0438\\u0432\\u0430\\u0442\\u044c\\u0441\\u044f\", \"\\u0437\\u0430\\u043a\\u043e\\u043d\\u0447\\u0438\\u0442\\u044c\\u0441\\u044f\", \"\\u0437\\u0430\\u043a\\u043e\\u043d\\u0447\\u0438\\u0442\\u044c\\u0441\\u044f\", \"\\u0437\\u0430\\u043a\\u043e\\u043d\\u0447\\u0438\\u0442\\u044c\\u0441\\u044f\", \"\\u0437\\u0430\\u043c\\u0435\\u0442\\u0438\\u0442\\u044c\", \"\\u0437\\u0430\\u043c\\u0435\\u0442\\u0438\\u0442\\u044c\", \"\\u0437\\u0430\\u043c\\u0435\\u0442\\u0438\\u0442\\u044c\", \"\\u0437\\u0430\\u043c\\u0435\\u0442\\u0438\\u0442\\u044c\", \"\\u0437\\u0430\\u0445\\u043e\\u0442\\u0435\\u0442\\u044c\", \"\\u0437\\u0430\\u0445\\u043e\\u0442\\u0435\\u0442\\u044c\", \"\\u0437\\u0430\\u0445\\u043e\\u0442\\u0435\\u0442\\u044c\", \"\\u0437\\u0430\\u0445\\u043e\\u0442\\u0435\\u0442\\u044c\\u0441\\u044f\", \"\\u0437\\u0430\\u0445\\u043e\\u0442\\u0435\\u0442\\u044c\\u0441\\u044f\", \"\\u0437\\u0430\\u0445\\u043e\\u0442\\u0435\\u0442\\u044c\\u0441\\u044f\", \"\\u0437\\u0438\\u043c\\u0430\", \"\\u0437\\u0438\\u043c\\u0430\", \"\\u0437\\u0438\\u043c\\u0430\", \"\\u0437\\u043d\\u0430\\u0442\\u044c\", \"\\u0437\\u043d\\u0430\\u0442\\u044c\", \"\\u0437\\u043d\\u0430\\u0442\\u044c\", \"\\u0437\\u043d\\u0430\\u0442\\u044c\", \"\\u0437\\u043d\\u0430\\u0447\\u0438\\u0442\", \"\\u0437\\u043d\\u0430\\u0447\\u0438\\u0442\", \"\\u0437\\u043d\\u0430\\u0447\\u0438\\u0442\", \"\\u0437\\u043d\\u0430\\u0447\\u0438\\u0442\", \"\\u0437\\u0440\\u044f\", \"\\u0437\\u0440\\u044f\", \"\\u0437\\u0440\\u044f\", \"\\u0437\\u0440\\u044f\", \"\\u0438\\u0431\\u043e\", \"\\u0438\\u0431\\u043e\", \"\\u0438\\u0431\\u043e\", \"\\u0438\\u0433\\u0440\\u0430\\u0442\\u044c\", \"\\u0438\\u0433\\u0440\\u0430\\u0442\\u044c\", \"\\u0438\\u0433\\u0440\\u0430\\u0442\\u044c\", \"\\u0438\\u0434\\u0438\\u043e\\u0442\\u043a\\u0430\", \"\\u0438\\u0434\\u0438\\u043e\\u0442\\u043a\\u0430\", \"\\u0438\\u0434\\u0438\\u043e\\u0442\\u043a\\u0430\", \"\\u0438\\u0434\\u0442\\u0438\", \"\\u0438\\u0434\\u0442\\u0438\", \"\\u0438\\u0434\\u0442\\u0438\", \"\\u0438\\u0434\\u0442\\u0438\", \"\\u0438\\u043d\\u0442\\u0435\\u0440\\u043d\\u0435\\u0442\", \"\\u0438\\u043d\\u0442\\u0435\\u0440\\u043d\\u0435\\u0442\", \"\\u0438\\u043d\\u0442\\u0435\\u0440\\u043d\\u0435\\u0442\", \"\\u0438\\u0441\\u043a\\u0430\\u0442\\u044c\", \"\\u0438\\u0441\\u043a\\u0430\\u0442\\u044c\", \"\\u0438\\u0441\\u043a\\u0430\\u0442\\u044c\", \"\\u0438\\u0441\\u043f\\u0443\\u0433\\u0430\\u0442\\u044c\\u0441\\u044f\", \"\\u0438\\u0441\\u043f\\u0443\\u0433\\u0430\\u0442\\u044c\\u0441\\u044f\", \"\\u0438\\u0441\\u043f\\u0443\\u0433\\u0430\\u0442\\u044c\\u0441\\u044f\", \"\\u0438\\u0441\\u0442\\u043e\\u0440\\u0438\\u044f\", \"\\u0438\\u0441\\u0442\\u043e\\u0440\\u0438\\u044f\", \"\\u0438\\u0441\\u0442\\u043e\\u0440\\u0438\\u044f\", \"\\u0438\\u0441\\u0442\\u043e\\u0440\\u0438\\u044f\", \"\\u043a\\u0430\\u0436\\u0434\\u044b\\u0439\", \"\\u043a\\u0430\\u0436\\u0434\\u044b\\u0439\", \"\\u043a\\u0430\\u0436\\u0434\\u044b\\u0439\", \"\\u043a\\u0430\\u0436\\u0434\\u044b\\u0439\", \"\\u043a\\u0430\\u0437\\u0430\\u0442\\u044c\\u0441\\u044f\", \"\\u043a\\u0430\\u0437\\u0430\\u0442\\u044c\\u0441\\u044f\", \"\\u043a\\u0430\\u0437\\u0430\\u0442\\u044c\\u0441\\u044f\", \"\\u043a\\u0430\\u043c\\u044b\\u0437\\u044f\\u043a\", \"\\u043a\\u0430\\u043c\\u044b\\u0437\\u044f\\u043a\", \"\\u043a\\u0430\\u043c\\u044b\\u0437\\u044f\\u043a\", \"\\u043a\\u0430\\u043d\\u0438\\u043a\\u0443\\u043b\\u044b\", \"\\u043a\\u0430\\u043d\\u0438\\u043a\\u0443\\u043b\\u044b\", \"\\u043a\\u0430\\u043d\\u0438\\u043a\\u0443\\u043b\\u044b\", \"\\u043a\\u0430\\u0440\\u0442\\u0430\", \"\\u043a\\u0430\\u0440\\u0442\\u0430\", \"\\u043a\\u0430\\u0440\\u0442\\u0430\", \"\\u043a\\u0430\\u0441\\u0441\\u0430\", \"\\u043a\\u0430\\u0441\\u0441\\u0430\", \"\\u043a\\u0430\\u0441\\u0441\\u0430\", \"\\u043a\\u0430\\u0444\\u0435\", \"\\u043a\\u0430\\u0444\\u0435\", \"\\u043a\\u0430\\u0444\\u0435\", \"\\u043a\\u0430\\u0447\\u0430\\u0442\\u044c\", \"\\u043a\\u0430\\u0447\\u0430\\u0442\\u044c\", \"\\u043a\\u0430\\u0447\\u0430\\u0442\\u044c\", \"\\u043a\\u0430\\u0447\\u0430\\u0442\\u044c\", \"\\u043a\\u0438\\u0435\\u0432\", \"\\u043a\\u0438\\u0435\\u0432\", \"\\u043a\\u0438\\u0435\\u0432\", \"\\u043a\\u0438\\u043d\\u043e\\u0442\\u0435\\u0430\\u0442\\u0440\", \"\\u043a\\u0438\\u043d\\u043e\\u0442\\u0435\\u0430\\u0442\\u0440\", \"\\u043a\\u0438\\u043d\\u043e\\u0442\\u0435\\u0430\\u0442\\u0440\", \"\\u043a\\u043b\\u0430\\u0441\\u0441\\u043d\\u044b\\u0439\", \"\\u043a\\u043b\\u0430\\u0441\\u0441\\u043d\\u044b\\u0439\", \"\\u043a\\u043b\\u0430\\u0441\\u0441\\u043d\\u044b\\u0439\", \"\\u043a\\u043b\\u043e\\u0443\\u043d\", \"\\u043a\\u043b\\u043e\\u0443\\u043d\", \"\\u043a\\u043b\\u043e\\u0443\\u043d\", \"\\u043a\\u043b\\u0451\\u0432\\u044b\\u0439\", \"\\u043a\\u043b\\u0451\\u0432\\u044b\\u0439\", \"\\u043a\\u043b\\u0451\\u0432\\u044b\\u0439\", \"\\u043a\\u043d\\u0438\\u0433\\u0430\", \"\\u043a\\u043d\\u0438\\u0433\\u0430\", \"\\u043a\\u043d\\u0438\\u0433\\u0430\", \"\\u043a\\u043d\\u0438\\u0433\\u0430\", \"\\u043a\\u043e\\u043d\\u0435\\u0446\", \"\\u043a\\u043e\\u043d\\u0435\\u0446\", \"\\u043a\\u043e\\u043d\\u0435\\u0446\", \"\\u043a\\u043e\\u043d\\u0442\\u0440\\u043e\\u043b\\u044c\\u043d\\u044b\\u0439\", \"\\u043a\\u043e\\u043d\\u0442\\u0440\\u043e\\u043b\\u044c\\u043d\\u044b\\u0439\", \"\\u043a\\u043e\\u043d\\u0442\\u0440\\u043e\\u043b\\u044c\\u043d\\u044b\\u0439\", \"\\u043a\\u043e\\u043d\\u0442\\u0440\\u043e\\u043b\\u044c\\u043d\\u044b\\u0439\", \"\\u043a\\u043e\\u043d\\u0446\\u0435\\u0440\\u0442\", \"\\u043a\\u043e\\u043d\\u0446\\u0435\\u0440\\u0442\", \"\\u043a\\u043e\\u043d\\u0446\\u0435\\u0440\\u0442\", \"\\u043a\\u043e\\u0441\\u0442\\u044e\\u043c\", \"\\u043a\\u043e\\u0441\\u0442\\u044e\\u043c\", \"\\u043a\\u043e\\u0441\\u0442\\u044e\\u043c\", \"\\u043a\\u043e\\u0441\\u0442\\u044e\\u043c\", \"\\u043a\\u043e\\u0442\\u043e\\u0440\\u044b\\u0439\", \"\\u043a\\u043e\\u0442\\u043e\\u0440\\u044b\\u0439\", \"\\u043a\\u043e\\u0442\\u043e\\u0440\\u044b\\u0439\", \"\\u043a\\u043e\\u0442\\u043e\\u0440\\u044b\\u0439\", \"\\u043a\\u043e\\u0444\\u0435\", \"\\u043a\\u043e\\u0444\\u0435\", \"\\u043a\\u043e\\u0444\\u0435\", \"\\u043a\\u043e\\u0444\\u0435\", \"\\u043a\\u0440\\u043e\\u0432\\u0430\\u0432\\u044b\\u0439\", \"\\u043a\\u0440\\u043e\\u0432\\u0430\\u0432\\u044b\\u0439\", \"\\u043a\\u0440\\u043e\\u0432\\u0430\\u0432\\u044b\\u0439\", \"\\u043a\\u0440\\u043e\\u0432\\u044c\", \"\\u043a\\u0440\\u043e\\u0432\\u044c\", \"\\u043a\\u0440\\u043e\\u0432\\u044c\", \"\\u043a\\u0440\\u0443\\u0442\\u0438\\u0442\\u044c\", \"\\u043a\\u0440\\u0443\\u0442\\u0438\\u0442\\u044c\", \"\\u043a\\u0440\\u0443\\u0442\\u0438\\u0442\\u044c\", \"\\u043a\\u0440\\u0443\\u0442\\u043e\", \"\\u043a\\u0440\\u0443\\u0442\\u043e\", \"\\u043a\\u0440\\u0443\\u0442\\u043e\", \"\\u043a\\u0443\\u043f\\u0438\\u0442\\u044c\", \"\\u043a\\u0443\\u043f\\u0438\\u0442\\u044c\", \"\\u043a\\u0443\\u043f\\u0438\\u0442\\u044c\", \"\\u043a\\u0443\\u0440\\u0438\\u0442\\u044c\", \"\\u043a\\u0443\\u0440\\u0438\\u0442\\u044c\", \"\\u043a\\u0443\\u0440\\u0438\\u0442\\u044c\", \"\\u043a\\u0443\\u0440\\u0438\\u0442\\u044c\", \"\\u043b\\u0430\\u0434\\u043d\\u044b\\u0439\", \"\\u043b\\u0430\\u0434\\u043d\\u044b\\u0439\", \"\\u043b\\u0430\\u0434\\u043d\\u044b\\u0439\", \"\\u043b\\u0435\\u0442\\u043e\", \"\\u043b\\u0435\\u0442\\u043e\", \"\\u043b\\u0435\\u0442\\u043e\", \"\\u043b\\u0435\\u0447\\u044c\", \"\\u043b\\u0435\\u0447\\u044c\", \"\\u043b\\u0435\\u0447\\u044c\", \"\\u043b\\u0438\\u0447\\u043d\\u044b\\u0439\", \"\\u043b\\u0438\\u0447\\u043d\\u044b\\u0439\", \"\\u043b\\u0438\\u0447\\u043d\\u044b\\u0439\", \"\\u043b\\u0438\\u0448\\u044c\", \"\\u043b\\u0438\\u0448\\u044c\", \"\\u043b\\u0438\\u0448\\u044c\", \"\\u043b\\u044e\\u0431\\u0438\\u043c\\u044b\\u0439\", \"\\u043b\\u044e\\u0431\\u0438\\u043c\\u044b\\u0439\", \"\\u043b\\u044e\\u0431\\u0438\\u043c\\u044b\\u0439\", \"\\u043b\\u044e\\u0431\\u0438\\u0442\\u044c\", \"\\u043b\\u044e\\u0431\\u0438\\u0442\\u044c\", \"\\u043b\\u044e\\u0431\\u0438\\u0442\\u044c\", \"\\u043b\\u044e\\u0431\\u0438\\u0442\\u044c\", \"\\u043c\\u0430\\u043b\\u043e\", \"\\u043c\\u0430\\u043b\\u043e\", \"\\u043c\\u0430\\u043b\\u043e\", \"\\u043c\\u0430\\u043b\\u044c\\u0434\\u0438\\u0432\\u044b\", \"\\u043c\\u0430\\u043b\\u044c\\u0434\\u0438\\u0432\\u044b\", \"\\u043c\\u0430\\u043b\\u044c\\u0434\\u0438\\u0432\\u044b\", \"\\u043c\\u0430\\u043b\\u044c\\u0447\\u0438\\u043a\", \"\\u043c\\u0430\\u043b\\u044c\\u0447\\u0438\\u043a\", \"\\u043c\\u0430\\u043b\\u044c\\u0447\\u0438\\u043a\", \"\\u043c\\u0430\\u043b\\u044c\\u0447\\u0438\\u043a\", \"\\u043c\\u0430\\u043c\\u0430\", \"\\u043c\\u0430\\u043c\\u0430\", \"\\u043c\\u0430\\u043c\\u0430\", \"\\u043c\\u0430\\u043c\\u0430\", \"\\u043c\\u0430\\u043d\\u044c\\u044f\\u043a\", \"\\u043c\\u0430\\u043d\\u044c\\u044f\\u043a\", \"\\u043c\\u0430\\u043d\\u044c\\u044f\\u043a\", \"\\u043c\\u0435\\u0441\\u0442\\u043e\", \"\\u043c\\u0435\\u0441\\u0442\\u043e\", \"\\u043c\\u0435\\u0441\\u0442\\u043e\", \"\\u043c\\u0435\\u0441\\u0442\\u043e\", \"\\u043c\\u0435\\u0441\\u044f\\u0446\", \"\\u043c\\u0435\\u0441\\u044f\\u0446\", \"\\u043c\\u0435\\u0441\\u044f\\u0446\", \"\\u043c\\u0438\\u043d\\u0443\\u0442\\u0430\", \"\\u043c\\u0438\\u043d\\u0443\\u0442\\u0430\", \"\\u043c\\u0438\\u043d\\u0443\\u0442\\u0430\", \"\\u043c\\u0438\\u0440\", \"\\u043c\\u0438\\u0440\", \"\\u043c\\u0438\\u0440\", \"\\u043c\\u043a\\u0430\\u0434\", \"\\u043c\\u043a\\u0430\\u0434\", \"\\u043c\\u043a\\u0430\\u0434\", \"\\u043c\\u043e\\u043c\\u0435\\u043d\\u0442\", \"\\u043c\\u043e\\u043c\\u0435\\u043d\\u0442\", \"\\u043c\\u043e\\u043c\\u0435\\u043d\\u0442\", \"\\u043c\\u043e\\u0441\\u043a\\u0432\\u0430\", \"\\u043c\\u043e\\u0441\\u043a\\u0432\\u0430\", \"\\u043c\\u043e\\u0441\\u043a\\u0432\\u0430\", \"\\u043c\\u043e\\u0441\\u043a\\u0432\\u0430\", \"\\u043c\\u043e\\u0447\\u044c\", \"\\u043c\\u043e\\u0447\\u044c\", \"\\u043c\\u043e\\u0447\\u044c\", \"\\u043c\\u043e\\u0447\\u044c\", \"\\u043c\\u0443\\u0436\\u0447\\u0438\\u043d\\u0430\", \"\\u043c\\u0443\\u0436\\u0447\\u0438\\u043d\\u0430\", \"\\u043c\\u0443\\u0436\\u0447\\u0438\\u043d\\u0430\", \"\\u043c\\u0443\\u0436\\u0447\\u0438\\u043d\\u0430\", \"\\u043c\\u0443\\u0437\\u044b\\u043a\\u0430\", \"\\u043c\\u0443\\u0437\\u044b\\u043a\\u0430\", \"\\u043c\\u0443\\u0437\\u044b\\u043a\\u0430\", \"\\u043d\\u0430\\u0432\\u0435\\u0440\\u043d\\u043e\\u0435\", \"\\u043d\\u0430\\u0432\\u0435\\u0440\\u043d\\u043e\\u0435\", \"\\u043d\\u0430\\u0432\\u0435\\u0440\\u043d\\u043e\\u0435\", \"\\u043d\\u0430\\u0432\\u0435\\u0440\\u043d\\u043e\\u0435\", \"\\u043d\\u0430\\u0434\\u0435\\u044f\\u0442\\u044c\\u0441\\u044f\", \"\\u043d\\u0430\\u0434\\u0435\\u044f\\u0442\\u044c\\u0441\\u044f\", \"\\u043d\\u0430\\u0434\\u0435\\u044f\\u0442\\u044c\\u0441\\u044f\", \"\\u043d\\u0430\\u0434\\u043e\\u0435\\u0441\\u0442\\u044c\", \"\\u043d\\u0430\\u0434\\u043e\\u0435\\u0441\\u0442\\u044c\", \"\\u043d\\u0430\\u0434\\u043e\\u0435\\u0441\\u0442\\u044c\", \"\\u043d\\u0430\\u0434\\u043f\\u0438\\u0441\\u044c\", \"\\u043d\\u0430\\u0434\\u043f\\u0438\\u0441\\u044c\", \"\\u043d\\u0430\\u0434\\u043f\\u0438\\u0441\\u044c\", \"\\u043d\\u0430\\u0437\\u0430\\u0434\", \"\\u043d\\u0430\\u0437\\u0430\\u0434\", \"\\u043d\\u0430\\u0437\\u0430\\u0434\", \"\\u043d\\u0430\\u0437\\u044b\\u0432\\u0430\\u0442\\u044c\\u0441\\u044f\", \"\\u043d\\u0430\\u0437\\u044b\\u0432\\u0430\\u0442\\u044c\\u0441\\u044f\", \"\\u043d\\u0430\\u0437\\u044b\\u0432\\u0430\\u0442\\u044c\\u0441\\u044f\", \"\\u043d\\u0430\\u0439\\u0442\\u0438\", \"\\u043d\\u0430\\u0439\\u0442\\u0438\", \"\\u043d\\u0430\\u0439\\u0442\\u0438\", \"\\u043d\\u0430\\u0439\\u0442\\u0438\", \"\\u043d\\u0430\\u043e\\u0431\\u043e\\u0440\\u043e\\u0442\", \"\\u043d\\u0430\\u043e\\u0431\\u043e\\u0440\\u043e\\u0442\", \"\\u043d\\u0430\\u043e\\u0431\\u043e\\u0440\\u043e\\u0442\", \"\\u043d\\u0430\\u043e\\u0431\\u043e\\u0440\\u043e\\u0442\", \"\\u043d\\u0430\\u043f\\u0438\\u0441\\u0430\\u0442\\u044c\", \"\\u043d\\u0430\\u043f\\u0438\\u0441\\u0430\\u0442\\u044c\", \"\\u043d\\u0430\\u043f\\u0438\\u0441\\u0430\\u0442\\u044c\", \"\\u043d\\u0430\\u043f\\u043e\\u043b\\u043d\\u0438\\u0442\\u044c\", \"\\u043d\\u0430\\u043f\\u043e\\u043b\\u043d\\u0438\\u0442\\u044c\", \"\\u043d\\u0430\\u043f\\u043e\\u043b\\u043d\\u0438\\u0442\\u044c\", \"\\u043d\\u0430\\u043f\\u043e\\u043c\\u043d\\u0438\\u0442\\u044c\", \"\\u043d\\u0430\\u043f\\u043e\\u043c\\u043d\\u0438\\u0442\\u044c\", \"\\u043d\\u0430\\u043f\\u043e\\u043c\\u043d\\u0438\\u0442\\u044c\", \"\\u043d\\u0430\\u0441\\u0438\\u043b\\u0438\\u0435\", \"\\u043d\\u0430\\u0441\\u0438\\u043b\\u0438\\u0435\", \"\\u043d\\u0430\\u0441\\u0438\\u043b\\u0438\\u0435\", \"\\u043d\\u0430\\u0441\\u0442\\u0430\\u0442\\u044c\", \"\\u043d\\u0430\\u0441\\u0442\\u0430\\u0442\\u044c\", \"\\u043d\\u0430\\u0441\\u0442\\u0430\\u0442\\u044c\", \"\\u043d\\u0430\\u0441\\u0442\\u0440\\u043e\\u0435\\u043d\\u0438\\u0435\", \"\\u043d\\u0430\\u0441\\u0442\\u0440\\u043e\\u0435\\u043d\\u0438\\u0435\", \"\\u043d\\u0430\\u0441\\u0442\\u0440\\u043e\\u0435\\u043d\\u0438\\u0435\", \"\\u043d\\u0430\\u0445\\u0443\\u0439\", \"\\u043d\\u0430\\u0445\\u0443\\u0439\", \"\\u043d\\u0430\\u0445\\u0443\\u0439\", \"\\u043d\\u0430\\u0447\\u0430\\u043b\\u043e\", \"\\u043d\\u0430\\u0447\\u0430\\u043b\\u043e\", \"\\u043d\\u0430\\u0447\\u0430\\u043b\\u043e\", \"\\u043d\\u0430\\u0447\\u0438\\u043d\\u0430\\u0442\\u044c\\u0441\\u044f\", \"\\u043d\\u0430\\u0447\\u0438\\u043d\\u0430\\u0442\\u044c\\u0441\\u044f\", \"\\u043d\\u0430\\u0447\\u0438\\u043d\\u0430\\u0442\\u044c\\u0441\\u044f\", \"\\u043d\\u0430\\u0448\", \"\\u043d\\u0430\\u0448\", \"\\u043d\\u0430\\u0448\", \"\\u043d\\u0430\\u0448\", \"\\u043d\\u0435\\u0432\\u043e\\u0437\\u043c\\u043e\\u0436\\u043d\\u043e\\u0441\\u0442\\u044c\", \"\\u043d\\u0435\\u0432\\u043e\\u0437\\u043c\\u043e\\u0436\\u043d\\u043e\\u0441\\u0442\\u044c\", \"\\u043d\\u0435\\u0432\\u043e\\u0437\\u043c\\u043e\\u0436\\u043d\\u043e\\u0441\\u0442\\u044c\", \"\\u043d\\u0435\\u0434\\u0435\\u043b\\u044f\", \"\\u043d\\u0435\\u0434\\u0435\\u043b\\u044f\", \"\\u043d\\u0435\\u0434\\u0435\\u043b\\u044f\", \"\\u043d\\u0435\\u0434\\u0435\\u043b\\u044f\", \"\\u043d\\u0435\\u043a\\u0440\\u043e\\u043b\\u043e\\u0433\", \"\\u043d\\u0435\\u043a\\u0440\\u043e\\u043b\\u043e\\u0433\", \"\\u043d\\u0435\\u043a\\u0440\\u043e\\u043b\\u043e\\u0433\", \"\\u043d\\u0435\\u043c\\u043d\\u043e\\u0433\\u043e\", \"\\u043d\\u0435\\u043c\\u043d\\u043e\\u0433\\u043e\", \"\\u043d\\u0435\\u043c\\u043d\\u043e\\u0433\\u043e\", \"\\u043d\\u0435\\u043c\\u043d\\u043e\\u0433\\u043e\", \"\\u043d\\u0435\\u043d\\u0430\\u0432\\u0438\\u0434\\u0435\\u0442\\u044c\", \"\\u043d\\u0435\\u043d\\u0430\\u0432\\u0438\\u0434\\u0435\\u0442\\u044c\", \"\\u043d\\u0435\\u043d\\u0430\\u0432\\u0438\\u0434\\u0435\\u0442\\u044c\", \"\\u043d\\u0435\\u043f\\u0440\\u0430\\u0432\\u0438\\u043b\\u044c\\u043d\\u044b\\u0439\", \"\\u043d\\u0435\\u043f\\u0440\\u0430\\u0432\\u0438\\u043b\\u044c\\u043d\\u044b\\u0439\", \"\\u043d\\u0435\\u043f\\u0440\\u0430\\u0432\\u0438\\u043b\\u044c\\u043d\\u044b\\u0439\", \"\\u043d\\u0435\\u0441\\u043a\\u043e\\u043b\\u044c\\u043a\\u043e\", \"\\u043d\\u0435\\u0441\\u043a\\u043e\\u043b\\u044c\\u043a\\u043e\", \"\\u043d\\u0435\\u0441\\u043a\\u043e\\u043b\\u044c\\u043a\\u043e\", \"\\u043d\\u0438\\u0431\\u044b\\u0442\\u044c\", \"\\u043d\\u0438\\u0431\\u044b\\u0442\\u044c\", \"\\u043d\\u0438\\u0431\\u044b\\u0442\\u044c\", \"\\u043d\\u0438\\u043a\\u0442\\u043e\", \"\\u043d\\u0438\\u043a\\u0442\\u043e\", \"\\u043d\\u0438\\u043a\\u0442\\u043e\", \"\\u043d\\u0438\\u043a\\u0442\\u043e\", \"\\u043d\\u043e\\u0432\\u044b\\u0439\", \"\\u043d\\u043e\\u0432\\u044b\\u0439\", \"\\u043d\\u043e\\u0432\\u044b\\u0439\", \"\\u043d\\u043e\\u0432\\u044b\\u0439\", \"\\u043d\\u043e\\u0447\\u044c\", \"\\u043d\\u043e\\u0447\\u044c\", \"\\u043d\\u043e\\u0447\\u044c\", \"\\u043d\\u043e\\u0447\\u044c\", \"\\u043d\\u0440\\u0430\\u0432\\u0438\\u0442\\u044c\\u0441\\u044f\", \"\\u043d\\u0440\\u0430\\u0432\\u0438\\u0442\\u044c\\u0441\\u044f\", \"\\u043d\\u0440\\u0430\\u0432\\u0438\\u0442\\u044c\\u0441\\u044f\", \"\\u043d\\u0440\\u0430\\u0432\\u0438\\u0442\\u044c\\u0441\\u044f\", \"\\u043d\\u0443\\u0436\\u043d\\u043e\", \"\\u043d\\u0443\\u0436\\u043d\\u043e\", \"\\u043d\\u0443\\u0436\\u043d\\u043e\", \"\\u043d\\u0443\\u0436\\u043d\\u044b\\u0439\", \"\\u043d\\u0443\\u0436\\u043d\\u044b\\u0439\", \"\\u043d\\u0443\\u0436\\u043d\\u044b\\u0439\", \"\\u043e\\u0431\\u0438\\u0434\\u043d\\u043e\", \"\\u043e\\u0431\\u0438\\u0434\\u043d\\u043e\", \"\\u043e\\u0431\\u0438\\u0434\\u043d\\u043e\", \"\\u043e\\u0431\\u0449\\u0430\\u0442\\u044c\\u0441\\u044f\", \"\\u043e\\u0431\\u0449\\u0430\\u0442\\u044c\\u0441\\u044f\", \"\\u043e\\u0431\\u0449\\u0430\\u0442\\u044c\\u0441\\u044f\", \"\\u043e\\u0431\\u0449\\u0430\\u0442\\u044c\\u0441\\u044f\", \"\\u043e\\u0431\\u0449\\u0435\\u0441\\u0442\\u0432\\u043e\", \"\\u043e\\u0431\\u0449\\u0435\\u0441\\u0442\\u0432\\u043e\", \"\\u043e\\u0431\\u0449\\u0435\\u0441\\u0442\\u0432\\u043e\", \"\\u043e\\u0431\\u044a\\u044f\\u0432\\u043b\\u044f\\u0442\\u044c\", \"\\u043e\\u0431\\u044a\\u044f\\u0432\\u043b\\u044f\\u0442\\u044c\", \"\\u043e\\u0431\\u044a\\u044f\\u0432\\u043b\\u044f\\u0442\\u044c\", \"\\u043e\\u0433\\u043e\\u043d\\u044c\", \"\\u043e\\u0433\\u043e\\u043d\\u044c\", \"\\u043e\\u0433\\u043e\\u043d\\u044c\", \"\\u043e\\u0433\\u043e\\u043d\\u044c\", \"\\u043e\\u0434\\u0435\\u0442\\u044c\", \"\\u043e\\u0434\\u0435\\u0442\\u044c\", \"\\u043e\\u0434\\u0435\\u0442\\u044c\", \"\\u043e\\u0434\\u043d\\u043e\\u0433\\u0440\\u0443\\u043f\\u043f\\u043d\\u0438\\u0446\\u0430\", \"\\u043e\\u0434\\u043d\\u043e\\u0433\\u0440\\u0443\\u043f\\u043f\\u043d\\u0438\\u0446\\u0430\", \"\\u043e\\u0434\\u043d\\u043e\\u0433\\u0440\\u0443\\u043f\\u043f\\u043d\\u0438\\u0446\\u0430\", \"\\u043e\\u043b\\u0438\\u043c\\u043f\\u0438\\u0430\\u0434\\u0430\", \"\\u043e\\u043b\\u0438\\u043c\\u043f\\u0438\\u0430\\u0434\\u0430\", \"\\u043e\\u043b\\u0438\\u043c\\u043f\\u0438\\u0430\\u0434\\u0430\", \"\\u043e\\u043b\\u0438\\u043c\\u043f\\u0438\\u0439\\u0441\\u043a\\u0438\\u0439\", \"\\u043e\\u043b\\u0438\\u043c\\u043f\\u0438\\u0439\\u0441\\u043a\\u0438\\u0439\", \"\\u043e\\u043b\\u0438\\u043c\\u043f\\u0438\\u0439\\u0441\\u043a\\u0438\\u0439\", \"\\u043e\\u043b\\u044f\", \"\\u043e\\u043b\\u044f\", \"\\u043e\\u043b\\u044f\", \"\\u043e\\u043b\\u044f\", \"\\u043e\\u043f\\u0430\", \"\\u043e\\u043f\\u0430\", \"\\u043e\\u043f\\u0430\", \"\\u043e\\u0441\\u0442\\u0430\\u043b\\u044c\\u043d\\u043e\\u0439\", \"\\u043e\\u0441\\u0442\\u0430\\u043b\\u044c\\u043d\\u043e\\u0439\", \"\\u043e\\u0441\\u0442\\u0430\\u043b\\u044c\\u043d\\u043e\\u0439\", \"\\u043e\\u0441\\u0442\\u0430\\u043b\\u044c\\u043d\\u043e\\u0439\", \"\\u043e\\u0441\\u0442\\u0430\\u0442\\u044c\\u0441\\u044f\", \"\\u043e\\u0441\\u0442\\u0430\\u0442\\u044c\\u0441\\u044f\", \"\\u043e\\u0441\\u0442\\u0430\\u0442\\u044c\\u0441\\u044f\", \"\\u043e\\u0442\\u0432\\u0435\\u0442\\u0438\\u0442\\u044c\", \"\\u043e\\u0442\\u0432\\u0435\\u0442\\u0438\\u0442\\u044c\", \"\\u043e\\u0442\\u0432\\u0435\\u0442\\u0438\\u0442\\u044c\", \"\\u043e\\u0442\\u0434\\u0430\\u0442\\u044c\", \"\\u043e\\u0442\\u0434\\u0430\\u0442\\u044c\", \"\\u043e\\u0442\\u0434\\u0430\\u0442\\u044c\", \"\\u043e\\u0447\\u0435\\u043d\\u044c\", \"\\u043e\\u0447\\u0435\\u043d\\u044c\", \"\\u043e\\u0447\\u0435\\u043d\\u044c\", \"\\u043e\\u0447\\u0435\\u043d\\u044c\", \"\\u043e\\u0449\\u0443\\u0449\\u0435\\u043d\\u0438\\u0435\", \"\\u043e\\u0449\\u0443\\u0449\\u0435\\u043d\\u0438\\u0435\", \"\\u043e\\u0449\\u0443\\u0449\\u0435\\u043d\\u0438\\u0435\", \"\\u043e\\u0449\\u0443\\u0449\\u0435\\u043d\\u0438\\u0435\", \"\\u043f\\u0430\\u043f\\u0430\", \"\\u043f\\u0430\\u043f\\u0430\", \"\\u043f\\u0430\\u043f\\u0430\", \"\\u043f\\u0430\\u043f\\u0430\", \"\\u043f\\u0430\\u0440\\u0430\", \"\\u043f\\u0430\\u0440\\u0430\", \"\\u043f\\u0430\\u0440\\u0430\", \"\\u043f\\u0430\\u0440\\u0430\\u043d\\u043e\\u0440\\u043c\\u0430\\u043b\\u044c\\u043d\\u044b\\u0439\", \"\\u043f\\u0430\\u0440\\u0430\\u043d\\u043e\\u0440\\u043c\\u0430\\u043b\\u044c\\u043d\\u044b\\u0439\", \"\\u043f\\u0430\\u0440\\u0430\\u043d\\u043e\\u0440\\u043c\\u0430\\u043b\\u044c\\u043d\\u044b\\u0439\", \"\\u043f\\u0430\\u0440\\u0435\\u043d\\u044c\", \"\\u043f\\u0430\\u0440\\u0435\\u043d\\u044c\", \"\\u043f\\u0430\\u0440\\u0435\\u043d\\u044c\", \"\\u043f\\u0430\\u0440\\u0442\\u0438\\u044f\", \"\\u043f\\u0430\\u0440\\u0442\\u0438\\u044f\", \"\\u043f\\u0430\\u0440\\u0442\\u0438\\u044f\", \"\\u043f\\u0430\\u0448\\u043a\\u0430\", \"\\u043f\\u0430\\u0448\\u043a\\u0430\", \"\\u043f\\u0430\\u0448\\u043a\\u0430\", \"\\u043f\\u0435\\u0440\\u0432\\u044b\\u0439\", \"\\u043f\\u0435\\u0440\\u0432\\u044b\\u0439\", \"\\u043f\\u0435\\u0440\\u0432\\u044b\\u0439\", \"\\u043f\\u0435\\u0440\\u0432\\u044b\\u0439\", \"\\u043f\\u0435\\u0441\\u043d\\u044f\", \"\\u043f\\u0435\\u0441\\u043d\\u044f\", \"\\u043f\\u0435\\u0441\\u043d\\u044f\", \"\\u043f\\u0435\\u0447\\u0430\\u043b\\u044c\\u043d\\u043e\", \"\\u043f\\u0435\\u0447\\u0430\\u043b\\u044c\\u043d\\u043e\", \"\\u043f\\u0435\\u0447\\u0430\\u043b\\u044c\\u043d\\u043e\", \"\\u043f\\u0438\\u0434\\u043e\\u0440\\u0430\\u0441\", \"\\u043f\\u0438\\u0434\\u043e\\u0440\\u0430\\u0441\", \"\\u043f\\u0438\\u0434\\u043e\\u0440\\u0430\\u0441\", \"\\u043f\\u0438\\u0437\\u0434\\u0435\\u0446\", \"\\u043f\\u0438\\u0437\\u0434\\u0435\\u0446\", \"\\u043f\\u0438\\u0437\\u0434\\u0435\\u0446\", \"\\u043f\\u0438\\u0437\\u0434\\u0435\\u0446\", \"\\u043f\\u0438\\u0441\\u0430\\u0442\\u044c\", \"\\u043f\\u0438\\u0441\\u0430\\u0442\\u044c\", \"\\u043f\\u0438\\u0441\\u0430\\u0442\\u044c\", \"\\u043f\\u0438\\u0441\\u0430\\u0442\\u044c\", \"\\u043f\\u0438\\u0442\\u044c\", \"\\u043f\\u0438\\u0442\\u044c\", \"\\u043f\\u0438\\u0442\\u044c\", \"\\u043f\\u043b\\u0430\\u043a\\u0430\\u0442\\u044c\", \"\\u043f\\u043b\\u0430\\u043a\\u0430\\u0442\\u044c\", \"\\u043f\\u043b\\u0430\\u043a\\u0430\\u0442\\u044c\", \"\\u043f\\u043b\\u0430\\u0447\", \"\\u043f\\u043b\\u0430\\u0447\", \"\\u043f\\u043b\\u0430\\u0447\", \"\\u043f\\u043b\\u043e\\u0445\\u043e\", \"\\u043f\\u043b\\u043e\\u0445\\u043e\", \"\\u043f\\u043b\\u043e\\u0445\\u043e\", \"\\u043f\\u043b\\u043e\\u0445\\u043e\\u0439\", \"\\u043f\\u043b\\u043e\\u0445\\u043e\\u0439\", \"\\u043f\\u043b\\u043e\\u0445\\u043e\\u0439\", \"\\u043f\\u043b\\u0451\\u043d\\u043a\\u0430\", \"\\u043f\\u043b\\u0451\\u043d\\u043a\\u0430\", \"\\u043f\\u043b\\u0451\\u043d\\u043a\\u0430\", \"\\u043f\\u043e\\u0431\\u0435\\u0434\\u0438\\u0442\\u044c\", \"\\u043f\\u043e\\u0431\\u0435\\u0434\\u0438\\u0442\\u044c\", \"\\u043f\\u043e\\u0431\\u0435\\u0434\\u0438\\u0442\\u044c\", \"\\u043f\\u043e\\u0431\\u0435\\u0434\\u0438\\u0442\\u044c\", \"\\u043f\\u043e\\u0432\\u0435\\u0440\\u044c\", \"\\u043f\\u043e\\u0432\\u0435\\u0440\\u044c\", \"\\u043f\\u043e\\u0432\\u0435\\u0440\\u044c\", \"\\u043f\\u043e\\u0432\\u043e\\u0434\", \"\\u043f\\u043e\\u0432\\u043e\\u0434\", \"\\u043f\\u043e\\u0432\\u043e\\u0434\", \"\\u043f\\u043e\\u0432\\u043e\\u0434\", \"\\u043f\\u043e\\u0433\\u0438\\u0431\\u0430\\u0442\\u044c\", \"\\u043f\\u043e\\u0433\\u0438\\u0431\\u0430\\u0442\\u044c\", \"\\u043f\\u043e\\u0433\\u0438\\u0431\\u0430\\u0442\\u044c\", \"\\u043f\\u043e\\u0433\\u043e\\u0434\\u0430\", \"\\u043f\\u043e\\u0433\\u043e\\u0434\\u0430\", \"\\u043f\\u043e\\u0433\\u043e\\u0434\\u0430\", \"\\u043f\\u043e\\u0434\\u0434\\u0435\\u0440\\u0436\\u043a\\u0430\", \"\\u043f\\u043e\\u0434\\u0434\\u0435\\u0440\\u0436\\u043a\\u0430\", \"\\u043f\\u043e\\u0434\\u0434\\u0435\\u0440\\u0436\\u043a\\u0430\", \"\\u043f\\u043e\\u0434\\u0434\\u0435\\u0440\\u0436\\u043a\\u0430\", \"\\u043f\\u043e\\u0434\\u0440\\u044f\\u0434\", \"\\u043f\\u043e\\u0434\\u0440\\u044f\\u0434\", \"\\u043f\\u043e\\u0434\\u0440\\u044f\\u0434\", \"\\u043f\\u043e\\u0434\\u0440\\u044f\\u0434\", \"\\u043f\\u043e\\u0434\\u0443\\u043c\\u0430\\u0442\\u044c\", \"\\u043f\\u043e\\u0434\\u0443\\u043c\\u0430\\u0442\\u044c\", \"\\u043f\\u043e\\u0434\\u0443\\u043c\\u0430\\u0442\\u044c\", \"\\u043f\\u043e\\u0434\\u0443\\u043c\\u0430\\u0442\\u044c\", \"\\u043f\\u043e\\u0435\\u0445\\u0430\\u0442\\u044c\", \"\\u043f\\u043e\\u0435\\u0445\\u0430\\u0442\\u044c\", \"\\u043f\\u043e\\u0435\\u0445\\u0430\\u0442\\u044c\", \"\\u043f\\u043e\\u0436\\u0430\\u043b\\u0443\\u0439\\u0441\\u0442\\u0430\", \"\\u043f\\u043e\\u0436\\u0430\\u043b\\u0443\\u0439\\u0441\\u0442\\u0430\", \"\\u043f\\u043e\\u0436\\u0430\\u043b\\u0443\\u0439\\u0441\\u0442\\u0430\", \"\\u043f\\u043e\\u0436\\u0440\\u0430\\u0442\\u044c\", \"\\u043f\\u043e\\u0436\\u0440\\u0430\\u0442\\u044c\", \"\\u043f\\u043e\\u0436\\u0440\\u0430\\u0442\\u044c\", \"\\u043f\\u043e\\u0437\\u0434\\u043d\\u0438\\u0439\", \"\\u043f\\u043e\\u0437\\u0434\\u043d\\u0438\\u0439\", \"\\u043f\\u043e\\u0437\\u0434\\u043d\\u0438\\u0439\", \"\\u043f\\u043e\\u0437\\u0434\\u043d\\u0438\\u0439\", \"\\u043f\\u043e\\u0439\\u0442\\u0438\", \"\\u043f\\u043e\\u0439\\u0442\\u0438\", \"\\u043f\\u043e\\u0439\\u0442\\u0438\", \"\\u043f\\u043e\\u043a\\u0430\", \"\\u043f\\u043e\\u043a\\u0430\", \"\\u043f\\u043e\\u043a\\u0430\", \"\\u043f\\u043e\\u043a\\u0443\\u043f\\u0430\\u0442\\u044c\", \"\\u043f\\u043e\\u043a\\u0443\\u043f\\u0430\\u0442\\u044c\", \"\\u043f\\u043e\\u043a\\u0443\\u043f\\u0430\\u0442\\u044c\", \"\\u043f\\u043e\\u043b\", \"\\u043f\\u043e\\u043b\", \"\\u043f\\u043e\\u043b\", \"\\u043f\\u043e\\u043b\\u0438\\u0442\\u044c\", \"\\u043f\\u043e\\u043b\\u0438\\u0442\\u044c\", \"\\u043f\\u043e\\u043b\\u0438\\u0442\\u044c\", \"\\u043f\\u043e\\u043b\\u043d\\u044b\\u0439\", \"\\u043f\\u043e\\u043b\\u043d\\u044b\\u0439\", \"\\u043f\\u043e\\u043b\\u043d\\u044b\\u0439\", \"\\u043f\\u043e\\u043b\\u043d\\u044b\\u0439\", \"\\u043f\\u043e\\u043b\\u0443\\u0447\\u0430\\u0442\\u044c\\u0441\\u044f\", \"\\u043f\\u043e\\u043b\\u0443\\u0447\\u0430\\u0442\\u044c\\u0441\\u044f\", \"\\u043f\\u043e\\u043b\\u0443\\u0447\\u0430\\u0442\\u044c\\u0441\\u044f\", \"\\u043f\\u043e\\u043b\\u0443\\u0447\\u0430\\u0442\\u044c\\u0441\\u044f\", \"\\u043f\\u043e\\u043b\\u0443\\u0447\\u0435\\u043d\\u0438\\u0435\", \"\\u043f\\u043e\\u043b\\u0443\\u0447\\u0435\\u043d\\u0438\\u0435\", \"\\u043f\\u043e\\u043b\\u0443\\u0447\\u0435\\u043d\\u0438\\u0435\", \"\\u043f\\u043e\\u043b\\u0443\\u0447\\u0438\\u0442\\u044c\\u0441\\u044f\", \"\\u043f\\u043e\\u043b\\u0443\\u0447\\u0438\\u0442\\u044c\\u0441\\u044f\", \"\\u043f\\u043e\\u043b\\u0443\\u0447\\u0438\\u0442\\u044c\\u0441\\u044f\", \"\\u043f\\u043e\\u043b\\u044e\\u0431\\u0438\\u0442\\u044c\", \"\\u043f\\u043e\\u043b\\u044e\\u0431\\u0438\\u0442\\u044c\", \"\\u043f\\u043e\\u043b\\u044e\\u0431\\u0438\\u0442\\u044c\", \"\\u043f\\u043e\\u043c\\u043d\\u0438\\u0442\\u044c\", \"\\u043f\\u043e\\u043c\\u043d\\u0438\\u0442\\u044c\", \"\\u043f\\u043e\\u043c\\u043d\\u0438\\u0442\\u044c\", \"\\u043f\\u043e\\u043d\\u0435\\u0434\\u0435\\u043b\\u044c\\u043d\\u0438\\u043a\", \"\\u043f\\u043e\\u043d\\u0435\\u0434\\u0435\\u043b\\u044c\\u043d\\u0438\\u043a\", \"\\u043f\\u043e\\u043d\\u0435\\u0434\\u0435\\u043b\\u044c\\u043d\\u0438\\u043a\", \"\\u043f\\u043e\\u043d\\u0438\\u043c\\u0430\\u0442\\u044c\", \"\\u043f\\u043e\\u043d\\u0438\\u043c\\u0430\\u0442\\u044c\", \"\\u043f\\u043e\\u043d\\u0438\\u043c\\u0430\\u0442\\u044c\", \"\\u043f\\u043e\\u043d\\u044f\\u0442\\u044c\", \"\\u043f\\u043e\\u043d\\u044f\\u0442\\u044c\", \"\\u043f\\u043e\\u043d\\u044f\\u0442\\u044c\", \"\\u043f\\u043e\\u043d\\u044f\\u0442\\u044c\", \"\\u043f\\u043e\\u043f\\u0430\\u0441\\u0442\\u044c\", \"\\u043f\\u043e\\u043f\\u0430\\u0441\\u0442\\u044c\", \"\\u043f\\u043e\\u043f\\u0430\\u0441\\u0442\\u044c\", \"\\u043f\\u043e\\u043f\\u0430\\u0441\\u0442\\u044c\", \"\\u043f\\u043e\\u0440\\u0430\", \"\\u043f\\u043e\\u0440\\u0430\", \"\\u043f\\u043e\\u0440\\u0430\", \"\\u043f\\u043e\\u0440\\u0446\\u0438\\u044f\", \"\\u043f\\u043e\\u0440\\u0446\\u0438\\u044f\", \"\\u043f\\u043e\\u0440\\u0446\\u0438\\u044f\", \"\\u043f\\u043e\\u0441\\u043b\\u0435\\u0434\\u043d\\u0438\\u0439\", \"\\u043f\\u043e\\u0441\\u043b\\u0435\\u0434\\u043d\\u0438\\u0439\", \"\\u043f\\u043e\\u0441\\u043b\\u0435\\u0434\\u043d\\u0438\\u0439\", \"\\u043f\\u043e\\u0441\\u043c\\u043e\\u0442\\u0440\\u0435\\u0442\\u044c\", \"\\u043f\\u043e\\u0441\\u043c\\u043e\\u0442\\u0440\\u0435\\u0442\\u044c\", \"\\u043f\\u043e\\u0441\\u043c\\u043e\\u0442\\u0440\\u0435\\u0442\\u044c\", \"\\u043f\\u043e\\u0441\\u043c\\u043e\\u0442\\u0440\\u0435\\u0442\\u044c\", \"\\u043f\\u043e\\u0442\\u0443\\u0445\\u043d\\u0443\\u0442\\u044c\", \"\\u043f\\u043e\\u0442\\u0443\\u0445\\u043d\\u0443\\u0442\\u044c\", \"\\u043f\\u043e\\u0442\\u0443\\u0445\\u043d\\u0443\\u0442\\u044c\", \"\\u043f\\u043e\\u0445\\u043e\\u0434\", \"\\u043f\\u043e\\u0445\\u043e\\u0434\", \"\\u043f\\u043e\\u0445\\u043e\\u0434\", \"\\u043f\\u043e\\u0445\\u043e\\u0436\\u0438\\u0439\", \"\\u043f\\u043e\\u0445\\u043e\\u0436\\u0438\\u0439\", \"\\u043f\\u043e\\u0445\\u043e\\u0436\\u0438\\u0439\", \"\\u043f\\u043e\\u0445\\u043e\\u0436\\u0438\\u0439\", \"\\u043f\\u043e\\u0447\\u0435\\u043c\\u0443\", \"\\u043f\\u043e\\u0447\\u0435\\u043c\\u0443\", \"\\u043f\\u043e\\u0447\\u0435\\u043c\\u0443\", \"\\u043f\\u043e\\u0447\\u0435\\u043c\\u0443\", \"\\u043f\\u043e\\u044d\\u0442\\u043e\\u043c\\u0443\", \"\\u043f\\u043e\\u044d\\u0442\\u043e\\u043c\\u0443\", \"\\u043f\\u043e\\u044d\\u0442\\u043e\\u043c\\u0443\", \"\\u043f\\u043e\\u044d\\u0442\\u043e\\u043c\\u0443\", \"\\u043f\\u0440\\u0430\\u0432\\u0434\\u0430\", \"\\u043f\\u0440\\u0430\\u0432\\u0434\\u0430\", \"\\u043f\\u0440\\u0430\\u0432\\u0434\\u0430\", \"\\u043f\\u0440\\u0430\\u0432\\u043e\", \"\\u043f\\u0440\\u0430\\u0432\\u043e\", \"\\u043f\\u0440\\u0430\\u0432\\u043e\", \"\\u043f\\u0440\\u0430\\u0437\\u0434\\u043d\\u0438\\u043a\", \"\\u043f\\u0440\\u0430\\u0437\\u0434\\u043d\\u0438\\u043a\", \"\\u043f\\u0440\\u0430\\u0437\\u0434\\u043d\\u0438\\u043a\", \"\\u043f\\u0440\\u0430\\u0437\\u0434\\u043d\\u0438\\u043a\", \"\\u043f\\u0440\\u0435\\u0434\\u043c\\u0435\\u0442\", \"\\u043f\\u0440\\u0435\\u0434\\u043c\\u0435\\u0442\", \"\\u043f\\u0440\\u0435\\u0434\\u043c\\u0435\\u0442\", \"\\u043f\\u0440\\u0435\\u043a\\u0440\\u0430\\u0441\\u043d\\u044b\\u0439\", \"\\u043f\\u0440\\u0435\\u043a\\u0440\\u0430\\u0441\\u043d\\u044b\\u0439\", \"\\u043f\\u0440\\u0435\\u043a\\u0440\\u0430\\u0441\\u043d\\u044b\\u0439\", \"\\u043f\\u0440\\u0435\\u043a\\u0440\\u0430\\u0441\\u043d\\u044b\\u0439\", \"\\u043f\\u0440\\u0438\\u0435\\u0445\\u0430\\u0442\\u044c\", \"\\u043f\\u0440\\u0438\\u0435\\u0445\\u0430\\u0442\\u044c\", \"\\u043f\\u0440\\u0438\\u0435\\u0445\\u0430\\u0442\\u044c\", \"\\u043f\\u0440\\u0438\\u0435\\u0445\\u0430\\u0442\\u044c\", \"\\u043f\\u0440\\u0438\\u0439\\u0442\\u0438\", \"\\u043f\\u0440\\u0438\\u0439\\u0442\\u0438\", \"\\u043f\\u0440\\u0438\\u0439\\u0442\\u0438\", \"\\u043f\\u0440\\u0438\\u0439\\u0442\\u0438\", \"\\u043f\\u0440\\u0438\\u0439\\u0442\\u0438\\u0441\\u044c\", \"\\u043f\\u0440\\u0438\\u0439\\u0442\\u0438\\u0441\\u044c\", \"\\u043f\\u0440\\u0438\\u0439\\u0442\\u0438\\u0441\\u044c\", \"\\u043f\\u0440\\u043e\\u0431\\u043b\\u0435\\u043c\\u0430\", \"\\u043f\\u0440\\u043e\\u0431\\u043b\\u0435\\u043c\\u0430\", \"\\u043f\\u0440\\u043e\\u0431\\u043b\\u0435\\u043c\\u0430\", \"\\u043f\\u0440\\u043e\\u0439\\u0442\\u0438\", \"\\u043f\\u0440\\u043e\\u0439\\u0442\\u0438\", \"\\u043f\\u0440\\u043e\\u0439\\u0442\\u0438\", \"\\u043f\\u0440\\u043e\\u0441\\u0442\\u0438\\u0442\\u044c\", \"\\u043f\\u0440\\u043e\\u0441\\u0442\\u0438\\u0442\\u044c\", \"\\u043f\\u0440\\u043e\\u0441\\u0442\\u0438\\u0442\\u044c\", \"\\u043f\\u0440\\u043e\\u0441\\u0442\\u043e\", \"\\u043f\\u0440\\u043e\\u0441\\u0442\\u043e\", \"\\u043f\\u0440\\u043e\\u0441\\u0442\\u043e\", \"\\u043f\\u0440\\u043e\\u0441\\u0442\\u043e\", \"\\u043f\\u0440\\u043e\\u0441\\u044b\\u043f\\u0430\\u0442\\u044c\\u0441\\u044f\", \"\\u043f\\u0440\\u043e\\u0441\\u044b\\u043f\\u0430\\u0442\\u044c\\u0441\\u044f\", \"\\u043f\\u0440\\u043e\\u0441\\u044b\\u043f\\u0430\\u0442\\u044c\\u0441\\u044f\", \"\\u043f\\u0440\\u043e\\u0448\\u043b\\u044b\\u0439\", \"\\u043f\\u0440\\u043e\\u0448\\u043b\\u044b\\u0439\", \"\\u043f\\u0440\\u043e\\u0448\\u043b\\u044b\\u0439\", \"\\u043f\\u0440\\u044f\\u043c\", \"\\u043f\\u0440\\u044f\\u043c\", \"\\u043f\\u0440\\u044f\\u043c\", \"\\u043f\\u0440\\u044f\\u043c\", \"\\u043f\\u0443\\u0442\\u0438\\u043d\", \"\\u043f\\u0443\\u0442\\u0438\\u043d\", \"\\u043f\\u0443\\u0442\\u0438\\u043d\", \"\\u043f\\u044b\\u0442\\u0430\\u0442\\u044c\\u0441\\u044f\", \"\\u043f\\u044b\\u0442\\u0430\\u0442\\u044c\\u0441\\u044f\", \"\\u043f\\u044b\\u0442\\u0430\\u0442\\u044c\\u0441\\u044f\", \"\\u0440\\u0430\\u0431\\u043e\\u0442\\u0430\", \"\\u0440\\u0430\\u0431\\u043e\\u0442\\u0430\", \"\\u0440\\u0430\\u0431\\u043e\\u0442\\u0430\", \"\\u0440\\u0430\\u0431\\u043e\\u0442\\u0430\", \"\\u0440\\u0430\\u0431\\u043e\\u0442\\u0430\\u0442\\u044c\", \"\\u0440\\u0430\\u0431\\u043e\\u0442\\u0430\\u0442\\u044c\", \"\\u0440\\u0430\\u0431\\u043e\\u0442\\u0430\\u0442\\u044c\", \"\\u0440\\u0430\\u0431\\u043e\\u0442\\u0430\\u0442\\u044c\", \"\\u0440\\u0430\\u0432\\u043d\\u043e\", \"\\u0440\\u0430\\u0432\\u043d\\u043e\", \"\\u0440\\u0430\\u0432\\u043d\\u043e\", \"\\u0440\\u0430\\u0432\\u043d\\u043e\", \"\\u0440\\u0430\\u0434\\u0430\", \"\\u0440\\u0430\\u0434\\u0430\", \"\\u0440\\u0430\\u0434\\u0430\", \"\\u0440\\u0430\\u0434\\u0430\", \"\\u0440\\u0430\\u0434\\u043e\\u0432\\u0430\\u0442\\u044c\", \"\\u0440\\u0430\\u0434\\u043e\\u0432\\u0430\\u0442\\u044c\", \"\\u0440\\u0430\\u0434\\u043e\\u0432\\u0430\\u0442\\u044c\", \"\\u0440\\u0430\\u0434\\u043e\\u0432\\u0430\\u0442\\u044c\", \"\\u0440\\u0430\\u0437\\u043e\\u0447\\u0430\\u0440\\u043e\\u0432\\u0430\\u0442\\u044c\", \"\\u0440\\u0430\\u0437\\u043e\\u0447\\u0430\\u0440\\u043e\\u0432\\u0430\\u0442\\u044c\", \"\\u0440\\u0430\\u0437\\u043e\\u0447\\u0430\\u0440\\u043e\\u0432\\u0430\\u0442\\u044c\", \"\\u0440\\u0430\\u043c\\u043a\\u0430\", \"\\u0440\\u0430\\u043c\\u043a\\u0430\", \"\\u0440\\u0430\\u043c\\u043a\\u0430\", \"\\u0440\\u0430\\u043d\\u043d\\u0438\\u0439\", \"\\u0440\\u0430\\u043d\\u043d\\u0438\\u0439\", \"\\u0440\\u0430\\u043d\\u043d\\u0438\\u0439\", \"\\u0440\\u0430\\u043d\\u043e\", \"\\u0440\\u0430\\u043d\\u043e\", \"\\u0440\\u0430\\u043d\\u043e\", \"\\u0440\\u0430\\u0441\\u0441\\u043a\\u0430\\u0437\\u0430\\u0442\\u044c\", \"\\u0440\\u0430\\u0441\\u0441\\u043a\\u0430\\u0437\\u0430\\u0442\\u044c\", \"\\u0440\\u0430\\u0441\\u0441\\u043a\\u0430\\u0437\\u0430\\u0442\\u044c\", \"\\u0440\\u0430\\u0441\\u0441\\u043a\\u0430\\u0437\\u0430\\u0442\\u044c\", \"\\u0440\\u0430\\u0441\\u0441\\u0442\\u0430\\u0442\\u044c\\u0441\\u044f\", \"\\u0440\\u0430\\u0441\\u0441\\u0442\\u0430\\u0442\\u044c\\u0441\\u044f\", \"\\u0440\\u0430\\u0441\\u0441\\u0442\\u0430\\u0442\\u044c\\u0441\\u044f\", \"\\u0440\\u0435\\u0431\\u044f\\u0442\\u0430\", \"\\u0440\\u0435\\u0431\\u044f\\u0442\\u0430\", \"\\u0440\\u0435\\u0431\\u044f\\u0442\\u0430\", \"\\u0440\\u0435\\u0431\\u0451\\u043d\\u043e\\u043a\", \"\\u0440\\u0435\\u0431\\u0451\\u043d\\u043e\\u043a\", \"\\u0440\\u0435\\u0431\\u0451\\u043d\\u043e\\u043a\", \"\\u0440\\u0435\\u0432\\u0435\\u0442\\u044c\", \"\\u0440\\u0435\\u0432\\u0435\\u0442\\u044c\", \"\\u0440\\u0435\\u0432\\u0435\\u0442\\u044c\", \"\\u0440\\u0435\\u043a\\u0430\", \"\\u0440\\u0435\\u043a\\u0430\", \"\\u0440\\u0435\\u043a\\u0430\", \"\\u0440\\u0438\\u0433\\u0430\", \"\\u0440\\u0438\\u0433\\u0430\", \"\\u0440\\u0438\\u0433\\u0430\", \"\\u0440\\u043e\\u0434\\u043d\\u044b\\u0439\", \"\\u0440\\u043e\\u0434\\u043d\\u044b\\u0439\", \"\\u0440\\u043e\\u0434\\u043d\\u044b\\u0439\", \"\\u0440\\u043e\\u0434\\u043d\\u044b\\u0439\", \"\\u0440\\u043e\\u0436\\u0434\\u0435\\u043d\\u0438\\u0435\", \"\\u0440\\u043e\\u0436\\u0434\\u0435\\u043d\\u0438\\u0435\", \"\\u0440\\u043e\\u0436\\u0434\\u0435\\u043d\\u0438\\u0435\", \"\\u0440\\u043e\\u0441\\u0441\\u0438\\u044f\", \"\\u0440\\u043e\\u0441\\u0441\\u0438\\u044f\", \"\\u0440\\u043e\\u0441\\u0441\\u0438\\u044f\", \"\\u0440\\u0443\\u0431\\u043b\\u044c\", \"\\u0440\\u0443\\u0431\\u043b\\u044c\", \"\\u0440\\u0443\\u0431\\u043b\\u044c\", \"\\u0440\\u0443\\u043a\\u0430\", \"\\u0440\\u0443\\u043a\\u0430\", \"\\u0440\\u0443\\u043a\\u0430\", \"\\u0440\\u0443\\u0441\\u0441\\u043a\\u0438\\u0439\", \"\\u0440\\u0443\\u0441\\u0441\\u043a\\u0438\\u0439\", \"\\u0440\\u0443\\u0441\\u0441\\u043a\\u0438\\u0439\", \"\\u0440\\u0443\\u0441\\u0441\\u043a\\u0438\\u0439\", \"\\u0440\\u044f\\u0434\\u043e\\u043c\", \"\\u0440\\u044f\\u0434\\u043e\\u043c\", \"\\u0440\\u044f\\u0434\\u043e\\u043c\", \"\\u0441\\u0430\\u043c\\u044b\\u0439\", \"\\u0441\\u0430\\u043c\\u044b\\u0439\", \"\\u0441\\u0430\\u043c\\u044b\\u0439\", \"\\u0441\\u0430\\u043c\\u044b\\u0439\", \"\\u0441\\u0430\\u043d\\u0438\", \"\\u0441\\u0430\\u043d\\u0438\", \"\\u0441\\u0430\\u043d\\u0438\", \"\\u0441\\u0432\\u0435\\u0442\", \"\\u0441\\u0432\\u0435\\u0442\", \"\\u0441\\u0432\\u0435\\u0442\", \"\\u0441\\u0432\\u0435\\u0442\", \"\\u0441\\u0432\\u043e\\u0439\", \"\\u0441\\u0432\\u043e\\u0439\", \"\\u0441\\u0432\\u043e\\u0439\", \"\\u0441\\u0432\\u043e\\u0439\", \"\\u0441\\u0434\\u0435\\u043b\\u0430\\u0442\\u044c\", \"\\u0441\\u0434\\u0435\\u043b\\u0430\\u0442\\u044c\", \"\\u0441\\u0434\\u0435\\u043b\\u0430\\u0442\\u044c\", \"\\u0441\\u0435\\u0433\\u043e\\u0434\\u043d\\u044f\", \"\\u0441\\u0435\\u0433\\u043e\\u0434\\u043d\\u044f\", \"\\u0441\\u0435\\u0433\\u043e\\u0434\\u043d\\u044f\", \"\\u0441\\u0435\\u0433\\u043e\\u0434\\u043d\\u044f\", \"\\u0441\\u0435\\u043c\\u044c\\u044f\", \"\\u0441\\u0435\\u043c\\u044c\\u044f\", \"\\u0441\\u0435\\u043c\\u044c\\u044f\", \"\\u0441\\u0435\\u0440\\u0434\\u0446\\u0435\", \"\\u0441\\u0435\\u0440\\u0434\\u0446\\u0435\", \"\\u0441\\u0435\\u0440\\u0434\\u0446\\u0435\", \"\\u0441\\u0435\\u0440\\u0438\\u0430\\u043b\", \"\\u0441\\u0435\\u0440\\u0438\\u0430\\u043b\", \"\\u0441\\u0435\\u0440\\u0438\\u0430\\u043b\", \"\\u0441\\u0435\\u0440\\u0438\\u0430\\u043b\", \"\\u0441\\u0435\\u0440\\u0438\\u044f\", \"\\u0441\\u0435\\u0440\\u0438\\u044f\", \"\\u0441\\u0435\\u0440\\u0438\\u044f\", \"\\u0441\\u0435\\u0440\\u0438\\u044f\", \"\\u0441\\u0435\\u0441\\u0441\\u0438\\u044f\", \"\\u0441\\u0435\\u0441\\u0441\\u0438\\u044f\", \"\\u0441\\u0435\\u0441\\u0441\\u0438\\u044f\", \"\\u0441\\u0438\\u0434\\u0435\\u0442\\u044c\", \"\\u0441\\u0438\\u0434\\u0435\\u0442\\u044c\", \"\\u0441\\u0438\\u0434\\u0435\\u0442\\u044c\", \"\\u0441\\u0438\\u0434\\u0435\\u0442\\u044c\", \"\\u0441\\u0438\\u043b\\u044c\\u043d\\u043e\", \"\\u0441\\u0438\\u043b\\u044c\\u043d\\u043e\", \"\\u0441\\u0438\\u043b\\u044c\\u043d\\u043e\", \"\\u0441\\u0438\\u043b\\u044c\\u043d\\u043e\", \"\\u0441\\u043a\\u0430\\u0437\\u0430\\u0442\\u044c\", \"\\u0441\\u043a\\u0430\\u0437\\u0430\\u0442\\u044c\", \"\\u0441\\u043a\\u0430\\u0437\\u0430\\u0442\\u044c\", \"\\u0441\\u043a\\u0430\\u0437\\u0430\\u0442\\u044c\", \"\\u0441\\u043a\\u043e\\u0440\\u0435\\u0435\", \"\\u0441\\u043a\\u043e\\u0440\\u0435\\u0435\", \"\\u0441\\u043a\\u043e\\u0440\\u0435\\u0435\", \"\\u0441\\u043a\\u043e\\u0440\\u043e\", \"\\u0441\\u043a\\u043e\\u0440\\u043e\", \"\\u0441\\u043a\\u043e\\u0440\\u043e\", \"\\u0441\\u043a\\u0440\\u0438\\u043d\\u0448\\u043e\\u0442\", \"\\u0441\\u043a\\u0440\\u0438\\u043d\\u0448\\u043e\\u0442\", \"\\u0441\\u043a\\u0440\\u0438\\u043d\\u0448\\u043e\\u0442\", \"\\u0441\\u043a\\u0443\\u0447\\u0430\\u0442\\u044c\", \"\\u0441\\u043a\\u0443\\u0447\\u0430\\u0442\\u044c\", \"\\u0441\\u043a\\u0443\\u0447\\u0430\\u0442\\u044c\", \"\\u0441\\u043a\\u0443\\u0447\\u043d\\u043e\", \"\\u0441\\u043a\\u0443\\u0447\\u043d\\u043e\", \"\\u0441\\u043a\\u0443\\u0447\\u043d\\u043e\", \"\\u0441\\u043b\\u0435\\u0437\\u0430\", \"\\u0441\\u043b\\u0435\\u0437\\u0430\", \"\\u0441\\u043b\\u0435\\u0437\\u0430\", \"\\u0441\\u043b\\u0438\\u0448\\u043a\\u043e\\u043c\", \"\\u0441\\u043b\\u0438\\u0448\\u043a\\u043e\\u043c\", \"\\u0441\\u043b\\u0438\\u0448\\u043a\\u043e\\u043c\", \"\\u0441\\u043b\\u043e\\u0432\\u043e\", \"\\u0441\\u043b\\u043e\\u0432\\u043e\", \"\\u0441\\u043b\\u043e\\u0432\\u043e\", \"\\u0441\\u043b\\u0443\\u0447\\u0430\\u0439\\u043d\\u043e\", \"\\u0441\\u043b\\u0443\\u0447\\u0430\\u0439\\u043d\\u043e\", \"\\u0441\\u043b\\u0443\\u0447\\u0430\\u0439\\u043d\\u043e\", \"\\u0441\\u043b\\u0443\\u0447\\u0430\\u0439\\u043d\\u043e\", \"\\u0441\\u043b\\u0443\\u0448\\u0430\\u0442\\u044c\", \"\\u0441\\u043b\\u0443\\u0448\\u0430\\u0442\\u044c\", \"\\u0441\\u043b\\u0443\\u0448\\u0430\\u0442\\u044c\", \"\\u0441\\u043b\\u0443\\u0448\\u0430\\u0442\\u044c\", \"\\u0441\\u043b\\u044b\\u0448\\u0430\\u0442\\u044c\", \"\\u0441\\u043b\\u044b\\u0448\\u0430\\u0442\\u044c\", \"\\u0441\\u043b\\u044b\\u0448\\u0430\\u0442\\u044c\", \"\\u0441\\u043c\\u043e\\u0442\\u0440\\u0435\\u0442\\u044c\", \"\\u0441\\u043c\\u043e\\u0442\\u0440\\u0435\\u0442\\u044c\", \"\\u0441\\u043c\\u043e\\u0442\\u0440\\u0435\\u0442\\u044c\", \"\\u0441\\u043c\\u043e\\u0442\\u0440\\u0435\\u0442\\u044c\", \"\\u0441\\u043c\\u043e\\u0447\\u044c\", \"\\u0441\\u043c\\u043e\\u0447\\u044c\", \"\\u0441\\u043c\\u043e\\u0447\\u044c\", \"\\u0441\\u043d\\u043e\\u0432\\u0430\", \"\\u0441\\u043d\\u043e\\u0432\\u0430\", \"\\u0441\\u043d\\u043e\\u0432\\u0430\", \"\\u0441\\u043e\\u0439\\u0442\\u0438\", \"\\u0441\\u043e\\u0439\\u0442\\u0438\", \"\\u0441\\u043e\\u0439\\u0442\\u0438\", \"\\u0441\\u043e\\u0439\\u0442\\u0438\", \"\\u0441\\u043e\\u043a\\u043e\\u043b\\u043e\\u0432\\u0441\\u043a\\u0438\\u0439\\u044f\\u0445\\u043e\\u0447\\u0443\\u0442\\u0435\\u0441\\u0442\\u0438\", \"\\u0441\\u043e\\u043a\\u043e\\u043b\\u043e\\u0432\\u0441\\u043a\\u0438\\u0439\\u044f\\u0445\\u043e\\u0447\\u0443\\u0442\\u0435\\u0441\\u0442\\u0438\", \"\\u0441\\u043e\\u043a\\u043e\\u043b\\u043e\\u0432\\u0441\\u043a\\u0438\\u0439\\u044f\\u0445\\u043e\\u0447\\u0443\\u0442\\u0435\\u0441\\u0442\\u0438\", \"\\u0441\\u043e\\u043d\", \"\\u0441\\u043e\\u043d\", \"\\u0441\\u043e\\u043d\", \"\\u0441\\u043e\\u043d\", \"\\u0441\\u043e\\u0447\\u0438\\u043d\\u0435\\u043d\\u0438\\u0435\", \"\\u0441\\u043e\\u0447\\u0438\\u043d\\u0435\\u043d\\u0438\\u0435\", \"\\u0441\\u043e\\u0447\\u0438\\u043d\\u0435\\u043d\\u0438\\u0435\", \"\\u0441\\u043f\\u0430\\u0441\\u0438\\u0431\\u043e\", \"\\u0441\\u043f\\u0430\\u0441\\u0438\\u0431\\u043e\", \"\\u0441\\u043f\\u0430\\u0441\\u0438\\u0431\\u043e\", \"\\u0441\\u043f\\u0430\\u0441\\u0438\\u0431\\u043e\", \"\\u0441\\u043f\\u0430\\u0441\\u0442\\u044c\", \"\\u0441\\u043f\\u0430\\u0441\\u0442\\u044c\", \"\\u0441\\u043f\\u0430\\u0441\\u0442\\u044c\", \"\\u0441\\u043f\\u0430\\u0442\\u044c\", \"\\u0441\\u043f\\u0430\\u0442\\u044c\", \"\\u0441\\u043f\\u0430\\u0442\\u044c\", \"\\u0441\\u0440\\u0430\\u0432\\u043d\\u0438\\u0442\\u044c\", \"\\u0441\\u0440\\u0430\\u0432\\u043d\\u0438\\u0442\\u044c\", \"\\u0441\\u0440\\u0430\\u0432\\u043d\\u0438\\u0442\\u044c\", \"\\u0441\\u0440\\u0430\\u0437\\u0443\", \"\\u0441\\u0440\\u0430\\u0437\\u0443\", \"\\u0441\\u0440\\u0430\\u0437\\u0443\", \"\\u0441\\u0442\\u0430\\u0440\\u044b\\u0439\", \"\\u0441\\u0442\\u0430\\u0440\\u044b\\u0439\", \"\\u0441\\u0442\\u0430\\u0440\\u044b\\u0439\", \"\\u0441\\u0442\\u0430\\u0442\\u044c\", \"\\u0441\\u0442\\u0430\\u0442\\u044c\", \"\\u0441\\u0442\\u0430\\u0442\\u044c\", \"\\u0441\\u0442\\u043e\\u0438\\u0442\\u044c\", \"\\u0441\\u0442\\u043e\\u0438\\u0442\\u044c\", \"\\u0441\\u0442\\u043e\\u0438\\u0442\\u044c\", \"\\u0441\\u0442\\u043e\\u043b\\u044c\\u043a\\u043e\", \"\\u0441\\u0442\\u043e\\u043b\\u044c\\u043a\\u043e\", \"\\u0441\\u0442\\u043e\\u043b\\u044c\\u043a\\u043e\", \"\\u0441\\u0442\\u043e\\u043b\\u044c\\u043a\\u043e\", \"\\u0441\\u0442\\u043e\\u044f\\u043a\", \"\\u0441\\u0442\\u043e\\u044f\\u043a\", \"\\u0441\\u0442\\u043e\\u044f\\u043a\", \"\\u0441\\u0442\\u0440\\u0430\\u0448\\u043d\\u043e\", \"\\u0441\\u0442\\u0440\\u0430\\u0448\\u043d\\u043e\", \"\\u0441\\u0442\\u0440\\u0430\\u0448\\u043d\\u043e\", \"\\u0441\\u0442\\u0440\\u0430\\u0448\\u043d\\u043e\", \"\\u0441\\u0442\\u0440\\u0438\\u043c\", \"\\u0441\\u0442\\u0440\\u0438\\u043c\", \"\\u0441\\u0442\\u0440\\u0438\\u043c\", \"\\u0441\\u0443\\u043f\\u0435\\u0440\", \"\\u0441\\u0443\\u043f\\u0435\\u0440\", \"\\u0441\\u0443\\u043f\\u0435\\u0440\", \"\\u0441\\u0443\\u043f\\u0435\\u0440\", \"\\u0441\\u0443\\u0447\\u043a\\u0430\", \"\\u0441\\u0443\\u0447\\u043a\\u0430\", \"\\u0441\\u0443\\u0447\\u043a\\u0430\", \"\\u0441\\u0443\\u0447\\u043a\\u0430\", \"\\u0441\\u044a\\u0435\\u0441\\u0442\\u044c\", \"\\u0441\\u044a\\u0435\\u0441\\u0442\\u044c\", \"\\u0441\\u044a\\u0435\\u0441\\u0442\\u044c\", \"\\u0441\\u044a\\u0435\\u0445\\u0430\\u0442\\u044c\", \"\\u0441\\u044a\\u0435\\u0445\\u0430\\u0442\\u044c\", \"\\u0441\\u044a\\u0435\\u0445\\u0430\\u0442\\u044c\", \"\\u0442\\u0430\\u043a\\u0438\", \"\\u0442\\u0430\\u043a\\u0438\", \"\\u0442\\u0430\\u043a\\u0438\", \"\\u0442\\u0430\\u043a\\u0438\", \"\\u0442\\u0432\\u0438\\u0442\", \"\\u0442\\u0432\\u0438\\u0442\", \"\\u0442\\u0432\\u0438\\u0442\", \"\\u0442\\u0432\\u0438\\u0442\\u0442\\u0435\\u0440\", \"\\u0442\\u0432\\u0438\\u0442\\u0442\\u0435\\u0440\", \"\\u0442\\u0432\\u0438\\u0442\\u0442\\u0435\\u0440\", \"\\u0442\\u0432\\u043e\\u0439\", \"\\u0442\\u0432\\u043e\\u0439\", \"\\u0442\\u0432\\u043e\\u0439\", \"\\u0442\\u0435\\u043b\\u0435\\u0444\\u043e\\u043d\", \"\\u0442\\u0435\\u043b\\u0435\\u0444\\u043e\\u043d\", \"\\u0442\\u0435\\u043b\\u0435\\u0444\\u043e\\u043d\", \"\\u0442\\u0435\\u043c\\u0430\", \"\\u0442\\u0435\\u043c\\u0430\", \"\\u0442\\u0435\\u043c\\u0430\", \"\\u0442\\u0435\\u043c\\u0430\", \"\\u0442\\u0438\\u043f\", \"\\u0442\\u0438\\u043f\", \"\\u0442\\u0438\\u043f\", \"\\u0442\\u043e\\u0432\\u0430\\u0440\\u0438\\u0449\", \"\\u0442\\u043e\\u0432\\u0430\\u0440\\u0438\\u0449\", \"\\u0442\\u043e\\u0432\\u0430\\u0440\\u0438\\u0449\", \"\\u0442\\u043e\\u043f\\u0438\\u043a\\u0430\", \"\\u0442\\u043e\\u043f\\u0438\\u043a\\u0430\", \"\\u0442\\u043e\\u043f\\u0438\\u043a\\u0430\", \"\\u0442\\u043e\\u0447\\u043d\\u043e\", \"\\u0442\\u043e\\u0447\\u043d\\u043e\", \"\\u0442\\u043e\\u0447\\u043d\\u043e\", \"\\u0442\\u0440\\u0435\\u0442\\u0438\\u0439\", \"\\u0442\\u0440\\u0435\\u0442\\u0438\\u0439\", \"\\u0442\\u0440\\u0435\\u0442\\u0438\\u0439\", \"\\u0443\\u0432\\u0438\\u0434\\u0435\\u0442\\u044c\", \"\\u0443\\u0432\\u0438\\u0434\\u0435\\u0442\\u044c\", \"\\u0443\\u0432\\u0438\\u0434\\u0435\\u0442\\u044c\", \"\\u0443\\u0433\\u043e\\u043b\", \"\\u0443\\u0433\\u043e\\u043b\", \"\\u0443\\u0433\\u043e\\u043b\", \"\\u0443\\u0436\\u0430\\u0441\", \"\\u0443\\u0436\\u0430\\u0441\", \"\\u0443\\u0436\\u0430\\u0441\", \"\\u0443\\u0436\\u0430\\u0441\\u043d\\u043e\", \"\\u0443\\u0436\\u0430\\u0441\\u043d\\u043e\", \"\\u0443\\u0436\\u0430\\u0441\\u043d\\u043e\", \"\\u0443\\u0436\\u0430\\u0441\\u043d\\u044b\\u0439\", \"\\u0443\\u0436\\u0430\\u0441\\u043d\\u044b\\u0439\", \"\\u0443\\u0436\\u0430\\u0441\\u043d\\u044b\\u0439\", \"\\u0443\\u0439\\u0442\\u0438\", \"\\u0443\\u0439\\u0442\\u0438\", \"\\u0443\\u0439\\u0442\\u0438\", \"\\u0443\\u043a\\u0440\\u0430\\u0438\\u043d\\u0430\", \"\\u0443\\u043a\\u0440\\u0430\\u0438\\u043d\\u0430\", \"\\u0443\\u043a\\u0440\\u0430\\u0438\\u043d\\u0430\", \"\\u0443\\u043a\\u0440\\u0430\\u0438\\u043d\\u0435\\u0446\", \"\\u0443\\u043a\\u0440\\u0430\\u0438\\u043d\\u0435\\u0446\", \"\\u0443\\u043a\\u0440\\u0430\\u0438\\u043d\\u0435\\u0446\", \"\\u0443\\u043a\\u0440\\u0430\\u0441\\u0442\\u044c\", \"\\u0443\\u043a\\u0440\\u0430\\u0441\\u0442\\u044c\", \"\\u0443\\u043a\\u0440\\u0430\\u0441\\u0442\\u044c\", \"\\u0443\\u043b\\u0438\\u0446\\u0430\", \"\\u0443\\u043b\\u0438\\u0446\\u0430\", \"\\u0443\\u043b\\u0438\\u0446\\u0430\", \"\\u0443\\u043c\", \"\\u0443\\u043c\", \"\\u0443\\u043c\", \"\\u0443\\u043c\", \"\\u0443\\u043f\\u0430\\u0441\\u0442\\u044c\", \"\\u0443\\u043f\\u0430\\u0441\\u0442\\u044c\", \"\\u0443\\u043f\\u0430\\u0441\\u0442\\u044c\", \"\\u0443\\u0440\\u043e\\u043a\", \"\\u0443\\u0440\\u043e\\u043a\", \"\\u0443\\u0440\\u043e\\u043a\", \"\\u0443\\u0441\\u043d\\u0443\\u0442\\u044c\", \"\\u0443\\u0441\\u043d\\u0443\\u0442\\u044c\", \"\\u0443\\u0441\\u043d\\u0443\\u0442\\u044c\", \"\\u0443\\u0441\\u0442\\u0430\\u0442\\u044c\", \"\\u0443\\u0441\\u0442\\u0430\\u0442\\u044c\", \"\\u0443\\u0441\\u0442\\u0430\\u0442\\u044c\", \"\\u0443\\u0442\\u0440\\u043e\", \"\\u0443\\u0442\\u0440\\u043e\", \"\\u0443\\u0442\\u0440\\u043e\", \"\\u0443\\u0442\\u0440\\u043e\\u043c\", \"\\u0443\\u0442\\u0440\\u043e\\u043c\", \"\\u0443\\u0442\\u0440\\u043e\\u043c\", \"\\u0443\\u0442\\u0440\\u043e\\u043c\", \"\\u0443\\u0445\\u043e\", \"\\u0443\\u0445\\u043e\", \"\\u0443\\u0445\\u043e\", \"\\u0443\\u0445\\u043e\", \"\\u0443\\u0447\\u0438\\u0442\\u044c\", \"\\u0443\\u0447\\u0438\\u0442\\u044c\", \"\\u0443\\u0447\\u0438\\u0442\\u044c\", \"\\u0443\\u0447\\u0451\\u0431\\u0430\", \"\\u0443\\u0447\\u0451\\u0431\\u0430\", \"\\u0443\\u0447\\u0451\\u0431\\u0430\", \"\\u0444\\u0430\\u043a\\u0442\", \"\\u0444\\u0430\\u043a\\u0442\", \"\\u0444\\u0430\\u043a\\u0442\", \"\\u0444\\u0430\\u043a\\u0442\", \"\\u0444\\u0438\\u043b\\u044c\\u043c\", \"\\u0444\\u0438\\u043b\\u044c\\u043c\", \"\\u0444\\u0438\\u043b\\u044c\\u043c\", \"\\u0444\\u0438\\u043b\\u044c\\u043c\", \"\\u0444\\u0438\\u043d\\u0430\\u043b\", \"\\u0444\\u0438\\u043d\\u0430\\u043b\", \"\\u0444\\u0438\\u043d\\u0430\\u043b\", \"\\u0444\\u043e\\u0442\\u043a\\u0430\", \"\\u0444\\u043e\\u0442\\u043a\\u0430\", \"\\u0444\\u043e\\u0442\\u043a\\u0430\", \"\\u0444\\u043e\\u0442\\u043a\\u0430\", \"\\u0444\\u043e\\u0442\\u043e\", \"\\u0444\\u043e\\u0442\\u043e\", \"\\u0444\\u043e\\u0442\\u043e\", \"\\u0445\\u043e\\u0434\\u0438\\u0442\\u044c\", \"\\u0445\\u043e\\u0434\\u0438\\u0442\\u044c\", \"\\u0445\\u043e\\u0434\\u0438\\u0442\\u044c\", \"\\u0445\\u043e\\u043a\\u043a\\u0435\\u0439\", \"\\u0445\\u043e\\u043a\\u043a\\u0435\\u0439\", \"\\u0445\\u043e\\u043a\\u043a\\u0435\\u0439\", \"\\u0445\\u043e\\u043b\\u043e\\u0434\\u043d\\u043e\", \"\\u0445\\u043e\\u043b\\u043e\\u0434\\u043d\\u043e\", \"\\u0445\\u043e\\u043b\\u043e\\u0434\\u043d\\u043e\", \"\\u0445\\u043e\\u043c\\u0430\", \"\\u0445\\u043e\\u043c\\u0430\", \"\\u0445\\u043e\\u043c\\u0430\", \"\\u0445\\u043e\\u0440\\u043e\\u0448\\u0438\\u0439\", \"\\u0445\\u043e\\u0440\\u043e\\u0448\\u0438\\u0439\", \"\\u0445\\u043e\\u0440\\u043e\\u0448\\u0438\\u0439\", \"\\u0445\\u043e\\u0440\\u043e\\u0448\\u0438\\u0439\", \"\\u0445\\u043e\\u0442\\u0435\\u0442\\u044c\", \"\\u0445\\u043e\\u0442\\u0435\\u0442\\u044c\", \"\\u0445\\u043e\\u0442\\u0435\\u0442\\u044c\", \"\\u0445\\u043e\\u0442\\u0435\\u0442\\u044c\", \"\\u0445\\u043e\\u0442\\u0435\\u0442\\u044c\\u0441\\u044f\", \"\\u0445\\u043e\\u0442\\u0435\\u0442\\u044c\\u0441\\u044f\", \"\\u0445\\u043e\\u0442\\u0435\\u0442\\u044c\\u0441\\u044f\", \"\\u0445\\u043e\\u0442\\u0435\\u0442\\u044c\\u0441\\u044f\", \"\\u0445\\u043e\\u0442\\u044f\", \"\\u0445\\u043e\\u0442\\u044f\", \"\\u0445\\u043e\\u0442\\u044f\", \"\\u0445\\u043e\\u0442\\u044f\", \"\\u0445\\u0443\\u0439\\u043d\\u044f\", \"\\u0445\\u0443\\u0439\\u043d\\u044f\", \"\\u0445\\u0443\\u0439\\u043d\\u044f\", \"\\u0445\\u0443\\u0439\\u043d\\u044f\", \"\\u0446\\u0435\\u043b\\u044b\\u0439\", \"\\u0446\\u0435\\u043b\\u044b\\u0439\", \"\\u0446\\u0435\\u043b\\u044b\\u0439\", \"\\u0447\\u0430\\u0441\", \"\\u0447\\u0430\\u0441\", \"\\u0447\\u0430\\u0441\", \"\\u0447\\u0430\\u0441\\u0442\\u044c\", \"\\u0447\\u0430\\u0441\\u0442\\u044c\", \"\\u0447\\u0430\\u0441\\u0442\\u044c\", \"\\u0447\\u0430\\u0441\\u0442\\u044c\", \"\\u0447\\u0435\\u043b\\u043e\\u0432\\u0435\\u043a\", \"\\u0447\\u0435\\u043b\\u043e\\u0432\\u0435\\u043a\", \"\\u0447\\u0435\\u043b\\u043e\\u0432\\u0435\\u043a\", \"\\u0447\\u0435\\u043b\\u043e\\u0432\\u0435\\u043a\", \"\\u0447\\u0438\\u0442\\u0430\\u0442\\u0435\\u043b\\u044c\", \"\\u0447\\u0438\\u0442\\u0430\\u0442\\u0435\\u043b\\u044c\", \"\\u0447\\u0438\\u0442\\u0430\\u0442\\u0435\\u043b\\u044c\", \"\\u0447\\u0438\\u0442\\u0430\\u0442\\u0435\\u043b\\u044c\", \"\\u0447\\u0438\\u0442\\u0430\\u0442\\u044c\", \"\\u0447\\u0438\\u0442\\u0430\\u0442\\u044c\", \"\\u0447\\u0438\\u0442\\u0430\\u0442\\u044c\", \"\\u0447\\u0443\\u0432\\u0441\\u0442\\u0432\\u043e\", \"\\u0447\\u0443\\u0432\\u0441\\u0442\\u0432\\u043e\", \"\\u0447\\u0443\\u0432\\u0441\\u0442\\u0432\\u043e\", \"\\u0447\\u0443\\u0432\\u0441\\u0442\\u0432\\u043e\\u0432\\u0430\\u0442\\u044c\", \"\\u0447\\u0443\\u0432\\u0441\\u0442\\u0432\\u043e\\u0432\\u0430\\u0442\\u044c\", \"\\u0447\\u0443\\u0432\\u0441\\u0442\\u0432\\u043e\\u0432\\u0430\\u0442\\u044c\", \"\\u0447\\u0451\\u0440\\u043d\\u044b\\u0439\", \"\\u0447\\u0451\\u0440\\u043d\\u044b\\u0439\", \"\\u0447\\u0451\\u0440\\u043d\\u044b\\u0439\", \"\\u0448\\u043a\\u043e\\u043b\\u0430\", \"\\u0448\\u043a\\u043e\\u043b\\u0430\", \"\\u0448\\u043a\\u043e\\u043b\\u0430\", \"\\u0448\\u043a\\u043e\\u043b\\u0430\", \"\\u0448\\u043a\\u043e\\u043b\\u043e\\u0442\\u044b\\u0439\", \"\\u0448\\u043a\\u043e\\u043b\\u043e\\u0442\\u044b\\u0439\", \"\\u0448\\u043a\\u043e\\u043b\\u043e\\u0442\\u044b\\u0439\", \"\\u0448\\u0443\\u0442\\u0438\\u0442\\u044c\", \"\\u0448\\u0443\\u0442\\u0438\\u0442\\u044c\", \"\\u0448\\u0443\\u0442\\u0438\\u0442\\u044c\", \"\\u0448\\u0443\\u0442\\u0438\\u0442\\u044c\", \"\\u044d\\u043a\\u0437\\u0430\\u043c\\u0435\\u043d\", \"\\u044d\\u043a\\u0437\\u0430\\u043c\\u0435\\u043d\", \"\\u044d\\u043a\\u0437\\u0430\\u043c\\u0435\\u043d\", \"\\u044d\\u043a\\u0440\\u0430\\u043d\", \"\\u044d\\u043a\\u0440\\u0430\\u043d\", \"\\u044d\\u043a\\u0440\\u0430\\u043d\", \"\\u044d\\u0442\\u043e\", \"\\u044d\\u0442\\u043e\", \"\\u044d\\u0442\\u043e\", \"\\u044d\\u0442\\u043e\", \"\\u044e\\u0431\\u043a\\u0430\", \"\\u044e\\u0431\\u043a\\u0430\", \"\\u044e\\u0431\\u043a\\u0430\", \"\\u044f\\u0432\\u043b\\u0435\\u043d\\u0438\\u0435\", \"\\u044f\\u0432\\u043b\\u0435\\u043d\\u0438\\u0435\", \"\\u044f\\u0432\\u043b\\u0435\\u043d\\u0438\\u0435\", \"\\u044f\\u043d\\u043a\\u0430\", \"\\u044f\\u043d\\u043a\\u0430\", \"\\u044f\\u043d\\u043a\\u0430\", \"\\u044f\\u043d\\u0443\\u043a\\u043e\\u0432\\u0438\\u0447\", \"\\u044f\\u043d\\u0443\\u043a\\u043e\\u0432\\u0438\\u0447\", \"\\u044f\\u043d\\u0443\\u043a\\u043e\\u0432\\u0438\\u0447\"]}, \"R\": 30, \"lambda.step\": 0.01, \"plot.opts\": {\"xlab\": \"PC1\", \"ylab\": \"PC2\"}, \"topic.order\": [10, 11, 17, 2, 20, 8, 16, 9, 19, 13, 15, 1, 12, 7, 5, 4, 14, 18, 6, 3]};\n",
              "\n",
              "function LDAvis_load_lib(url, callback){\n",
              "  var s = document.createElement('script');\n",
              "  s.src = url;\n",
              "  s.async = true;\n",
              "  s.onreadystatechange = s.onload = callback;\n",
              "  s.onerror = function(){console.warn(\"failed to load library \" + url);};\n",
              "  document.getElementsByTagName(\"head\")[0].appendChild(s);\n",
              "}\n",
              "\n",
              "if(typeof(LDAvis) !== \"undefined\"){\n",
              "   // already loaded: just create the visualization\n",
              "   !function(LDAvis){\n",
              "       new LDAvis(\"#\" + \"ldavis_el1185138640153736832462307523\", ldavis_el1185138640153736832462307523_data);\n",
              "   }(LDAvis);\n",
              "}else if(typeof define === \"function\" && define.amd){\n",
              "   // require.js is available: use it to load d3/LDAvis\n",
              "   require.config({paths: {d3: \"https://d3js.org/d3.v5\"}});\n",
              "   require([\"d3\"], function(d3){\n",
              "      window.d3 = d3;\n",
              "      LDAvis_load_lib(\"https://cdn.jsdelivr.net/gh/bmabey/pyLDAvis@3.4.0/pyLDAvis/js/ldavis.v3.0.0.js\", function(){\n",
              "        new LDAvis(\"#\" + \"ldavis_el1185138640153736832462307523\", ldavis_el1185138640153736832462307523_data);\n",
              "      });\n",
              "    });\n",
              "}else{\n",
              "    // require.js not available: dynamically load d3 & LDAvis\n",
              "    LDAvis_load_lib(\"https://d3js.org/d3.v5.js\", function(){\n",
              "         LDAvis_load_lib(\"https://cdn.jsdelivr.net/gh/bmabey/pyLDAvis@3.4.0/pyLDAvis/js/ldavis.v3.0.0.js\", function(){\n",
              "                 new LDAvis(\"#\" + \"ldavis_el1185138640153736832462307523\", ldavis_el1185138640153736832462307523_data);\n",
              "            })\n",
              "         });\n",
              "}\n",
              "</script>"
            ],
            "text/plain": [
              "<IPython.core.display.HTML object>"
            ]
          },
          "execution_count": 23,
          "metadata": {},
          "output_type": "execute_result"
        }
      ],
      "source": [
        "%time\n",
        "\n",
        "pyLDAvis.enable_notebook()\n",
        "vis_data = gensimvis.prepare(lda, corpus, dictionary)\n",
        "pyLDAvis.display(vis_data)"
      ]
    },
    {
      "cell_type": "code",
      "execution_count": null,
      "metadata": {
        "id": "f8P4VGYu8sAD"
      },
      "outputs": [],
      "source": [
        "def report_lda():\n",
        "    print('Perplexity: ', np.exp(lda.log_perplexity(corpus)))\n",
        "\n",
        "    coherence_model_lda = CoherenceModel(model=lda, texts=df['preprocessed_text'],\n",
        "                                     dictionary=dictionary, coherence='c_v')\n",
        "    coherence_lda = coherence_model_lda.get_coherence()\n",
        "    print('Average coherence: ', coherence_lda)"
      ]
    },
    {
      "cell_type": "code",
      "execution_count": null,
      "metadata": {
        "id": "COJqd7poLcK-"
      },
      "outputs": [],
      "source": [
        "report_lda()"
      ]
    },
    {
      "cell_type": "markdown",
      "metadata": {
        "id": "Cn2E4PFy4DBH"
      },
      "source": [
        "**Подберём оптимальное количество тем, опираясь на метрики**"
      ]
    },
    {
      "cell_type": "code",
      "execution_count": null,
      "metadata": {
        "colab": {
          "base_uri": "https://localhost:8080/",
          "height": 481,
          "referenced_widgets": [
            "fd56e8dd8a774b33ab6190302ea6da93",
            "5efe770105cc4ef0abd7bca0ae0284ef",
            "b8ff08c33769421c9b14ec68fc127fa7",
            "899134d7aefb4e9ab079f535e6e4c2cd",
            "db7fee832be34be7aeb8fe457c9c6694",
            "af600f234b874ac0a47f1fffa073abbf",
            "22f2286920984115899762b72da05b74",
            "f78702ba61ec4b749c3a985e87222ebd",
            "2de392acd23b4e52896102ccb7e31585",
            "2f285b873a5e490690018e60dc15eb45",
            "7ce1c01d2583478ba62140703385ca94"
          ]
        },
        "id": "6f_YImw64CI_",
        "outputId": "9046450a-71ac-4bad-876e-b8acc5a21470"
      },
      "outputs": [
        {
          "data": {
            "application/vnd.jupyter.widget-view+json": {
              "model_id": "fd56e8dd8a774b33ab6190302ea6da93",
              "version_major": 2,
              "version_minor": 0
            },
            "text/plain": [
              "  0%|          | 0/3 [00:00<?, ?it/s]"
            ]
          },
          "metadata": {},
          "output_type": "display_data"
        },
        {
          "data": {
            "image/png": "[encoded data removed]",
            "text/plain": [
              "<Figure size 640x480 with 1 Axes>"
            ]
          },
          "metadata": {},
          "output_type": "display_data"
        }
      ],
      "source": [
        "topics_list = [5, 10, 15]\n",
        "coherences = []\n",
        "\n",
        "for num in tqdm(topics_list):\n",
        "    lda = ldamodel.LdaModel(corpus, id2word=dictionary, num_topics=num,\n",
        "                            chunksize=50, update_every=1, passes=2)\n",
        "    coherences.append(CoherenceModel(model=lda, texts=df['preprocessed_text'],\n",
        "                                     dictionary=dictionary, coherence='c_v').get_coherence())\n",
        "\n",
        "plt.plot(topics_list, coherences)\n",
        "plt.xlabel(\"Count of themes\")\n",
        "plt.ylabel(\"Average coherence\")\n",
        "plt.show();"
      ]
    },
    {
      "cell_type": "markdown",
      "metadata": {
        "id": "GfH6Sz6_7ufg"
      },
      "source": [
        "**Попробуем взять 15 тем**"
      ]
    },
    {
      "cell_type": "code",
      "execution_count": null,
      "metadata": {
        "colab": {
          "background_save": true
        },
        "id": "GX4yhV8z7ZOe",
        "outputId": "67647ab0-9ef2-4eed-cb69-d9b5657707ce"
      },
      "outputs": [
        {
          "name": "stdout",
          "output_type": "stream",
          "text": [
            "CPU times: user 4min 47s, sys: 942 ms, total: 4min 48s\n",
            "Wall time: 4min 56s\n"
          ]
        },
        {
          "data": {
            "text/html": [
              "\n",
              "<link rel=\"stylesheet\" type=\"text/css\" href=\"https://cdn.jsdelivr.net/gh/bmabey/pyLDAvis@3.4.0/pyLDAvis/js/ldavis.v1.0.0.css\">\n",
              "\n",
              "\n",
              "<div id=\"ldavis_el11851386401419256488211010530\" style=\"background-color:white;\"></div>\n",
              "<script type=\"text/javascript\">\n",
              "\n",
              "var ldavis_el11851386401419256488211010530_data = {\"mdsDat\": {\"x\": [0.45676191143008765, -0.04826975751611248, -0.014612062047772642, -0.023283763431021943, 0.060318024987084135, -0.032605134458204794, -0.03642791229162946, -0.042971250129106575, -0.029718621921750135, -0.0398959782044562, -0.04592008999975331, -0.043063438708388, -0.0540875394884995, -0.05363266111433645, -0.05259172710613931], \"y\": [0.0945218953509043, 0.031981736711563666, 0.01872166074272589, 0.022875717801384865, -0.46309891467058517, 0.02673559278066739, 0.027170162716786662, 0.02967783074740913, 0.025481826063931984, 0.028948770030529234, 0.030745520144292136, 0.030476737540219245, 0.03230013933056351, 0.03171247450956313, 0.03174885020004357], \"topics\": [1, 2, 3, 4, 5, 6, 7, 8, 9, 10, 11, 12, 13, 14, 15], \"cluster\": [1, 1, 1, 1, 1, 1, 1, 1, 1, 1, 1, 1, 1, 1, 1], \"Freq\": [8.4891308751006, 7.696331881311893, 7.644649021965055, 7.620132125720618, 7.330911732039031, 7.040311025996232, 6.746126667542737, 6.428057056311023, 6.330272135441599, 6.319570540725307, 5.954256898551384, 5.78471244704424, 5.7509614428802855, 5.546783089488054, 5.317793059881941]}, \"tinfo\": {\"Term\": [\"http\", \"\\u044d\\u0442\\u043e\", \"\\u0432\\u0441\\u0451\", \"\\u0445\\u043e\\u0442\\u0435\\u0442\\u044c\", \"\\u0435\\u0449\\u0451\", \"\\u043e\\u0447\\u0435\\u043d\\u044c\", \"\\u0432\\u0435\\u0441\\u044c\", \"\\u0434\\u0435\\u043d\\u044c\", \"\\u043c\\u043e\\u0447\\u044c\", \"\\u0441\\u0435\\u0433\\u043e\\u0434\\u043d\\u044f\", \"\\u043f\\u043e\\u0447\\u0435\\u043c\\u0443\", \"\\u0437\\u043d\\u0430\\u0442\\u044c\", \"\\u0437\\u0430\\u0432\\u0442\\u0440\\u0430\", \"\\u0432\\u043e\\u043e\\u0431\\u0449\\u0435\", \"\\u0431\\u043b\\u0438\\u043d\", \"\\u043f\\u0440\\u043e\\u0441\\u0442\\u043e\", \"\\u0447\\u0435\\u043b\\u043e\\u0432\\u0435\\u043a\", \"\\u0431\\u043e\\u043b\\u044c\\u0448\\u043e\\u0439\", \"\\u0434\\u0435\\u043b\\u0430\\u0442\\u044c\", \"\\u043b\\u044e\\u0431\\u0438\\u0442\\u044c\", \"\\u043a\\u043e\\u0442\\u043e\\u0440\\u044b\\u0439\", \"\\u0441\\u043a\\u0430\\u0437\\u0430\\u0442\\u044c\", \"\\u0441\\u0432\\u043e\\u0439\", \"\\u0432\\u0440\\u0435\\u043c\\u044f\", \"\\u0436\\u0430\\u043b\\u044c\", \"\\u043f\\u0438\\u0441\\u0430\\u0442\\u044c\", \"\\u0431\\u043e\\u043b\\u0435\\u0442\\u044c\", \"\\u0441\\u043c\\u043e\\u0442\\u0440\\u0435\\u0442\\u044c\", \"\\u0445\\u043e\\u0440\\u043e\\u0448\\u0438\\u0439\", \"\\u0433\\u043e\\u0432\\u043e\\u0440\\u0438\\u0442\\u044c\", \"\\u0432\\u0441\\u0451\", \"\\u043c\\u043e\\u0447\\u044c\", \"\\u0441\\u0435\\u0433\\u043e\\u0434\\u043d\\u044f\", \"\\u043a\\u0430\\u0437\\u0430\\u0442\\u044c\\u0441\\u044f\", \"\\u043f\\u043e\\u0440\\u0430\", \"\\u0441\\u043b\\u043e\\u0432\\u043e\", \"\\u043f\\u043e\\u043b\\u0443\\u0447\\u0438\\u0442\\u044c\\u0441\\u044f\", \"\\u0441\\u0442\\u043e\\u043b\\u044c\\u043a\\u043e\", \"\\u043d\\u043e\\u0440\\u043c\\u0430\\u043b\\u044c\\u043d\\u043e\", \"\\u0432\\u044b\\u0439\\u0442\\u0438\", \"\\u043c\\u0430\\u043b\\u043e\", \"\\u0434\\u043e\\u043b\\u0436\\u043d\\u044b\\u0439\", \"\\u0431\\u0435\\u0441\\u0438\\u0442\\u044c\", \"\\u0441\\u0440\\u0430\\u0437\\u0443\", \"\\u043c\\u0435\\u0441\\u0442\\u043e\", \"\\u043d\\u0430\\u0434\\u043e\\u0435\\u0441\\u0442\\u044c\", \"\\u043d\\u0438\\u043a\\u0430\\u043a\", \"\\u0441\\u0435\\u0439\", \"\\u0441\\u0442\\u043e\\u0438\\u0442\\u044c\", \"\\u043d\\u0430\\u0447\\u0430\\u0442\\u044c\", \"\\u043a\\u0441\\u0442\\u0430\\u0442\\u0438\", \"\\u0437\\u0430\\u0439\\u0442\\u0438\", \"\\u043c\\u0438\\u0440\", \"\\u043d\\u043e\\u0440\\u043c\\u0430\", \"\\u043c\\u0430\\u0448\\u0438\\u043d\\u0430\", \"\\u0431\\u043e\\u043b\\u044c\\u0448\\u0438\\u0439\", \"\\u043f\\u0440\\u043e\\u043f\\u0443\\u0441\\u0442\\u0438\\u0442\\u044c\", \"\\u043f\\u044f\\u0442\\u043d\\u0438\\u0446\\u0430\", \"\\u0443\\u043c\\u0438\\u0440\\u0430\\u0442\\u044c\", \"\\u0441\\u0447\\u0438\\u0442\\u0430\\u0442\\u044c\", \"http\", \"\\u0433\\u043e\\u0432\\u043e\\u0440\\u0438\\u0442\\u044c\", \"\\u0441\\u0442\\u0430\\u0442\\u044c\", \"\\u0437\\u0438\\u043c\\u0430\", \"\\u043a\\u0438\\u0435\\u0432\", \"\\u0443\\u043a\\u0440\\u0430\\u0438\\u043d\\u0430\", \"\\u0440\\u0435\\u0431\\u044f\\u0442\\u0430\", \"\\u043d\\u0435\\u0447\\u0435\\u0433\\u043e\", \"\\u0444\\u043e\\u0442\\u043e\", \"\\u0431\\u0440\\u0430\\u0442\", \"\\u0447\\u0430\\u0441\\u0442\\u043e\", \"\\u043f\\u0440\\u043e\\u0441\\u0438\\u0442\\u044c\", \"\\u0454\\u0432\\u0440\\u043e\\u043c\\u0430\\u0439\\u0434\\u0430\\u043d\", \"\\u043a\\u0430\\u0440\\u0442\\u0438\\u043d\\u043a\\u0430\", \"\\u043a\\u043e\\u043d\\u0446\\u0435\\u0440\\u0442\", \"\\u043d\\u0430\\u0440\\u043e\\u0434\", \"\\u0451\\u043b\\u043a\\u0430\", \"\\u043f\\u0440\\u0435\\u0434\\u0441\\u0442\\u0430\\u0432\\u043b\\u044f\\u0442\\u044c\", \"\\u043a\\u0438\\u043d\\u0443\\u0442\\u044c\", \"\\u0430\\u0445\\u0430\\u0445\\u0438\", \"\\u0441\\u0438\\u0442\\u0443\\u0430\\u0446\\u0438\\u044f\", \"\\u0431\\u044b\\u0441\\u0442\\u0440\\u044b\\u0439\", \"\\u043c\\u0430\\u0439\\u0434\\u0430\\u043d\", \"\\u043c\\u0435\\u0442\\u0440\\u043e\", \"\\u043f\\u0440\\u044f\\u043c\\u043e\", \"\\u043a\\u043e\\u0442\\u0451\\u043d\\u043e\\u043a\", \"\\u0442\\u0440\\u0443\\u0434\\u043d\\u043e\", \"\\u043f\\u043e\\u043f\\u0440\\u043e\\u0441\\u0438\\u0442\\u044c\", \"\\u043b\\u044e\\u0431\\u043e\\u0439\", \"\\u0442\\u044b\\u0441\\u044f\\u0447\\u0430\", \"\\u0431\\u043b\\u0438\\u043d\", \"\\u0441\\u0432\\u043e\\u0439\", \"\\u0441\\u043a\\u0443\\u0447\\u0430\\u0442\\u044c\", \"\\u0433\\u043e\\u0434\", \"\\u0443\\u0442\\u0440\\u043e\", \"\\u043a\\u0430\\u0436\\u0434\\u044b\\u0439\", \"\\u043d\\u0430\\u0441\\u0442\\u0440\\u043e\\u0435\\u043d\\u0438\\u0435\", \"\\u043f\\u043e\\u0441\\u043c\\u043e\\u0442\\u0440\\u0435\\u0442\\u044c\", \"amp\", \"\\u0434\\u0430\\u0442\\u044c\", \"\\u0443\\u0447\\u0451\\u0431\\u0430\", \"\\u043a\\u043e\\u043d\\u0435\\u0446\", \"\\u043f\\u0430\\u0440\\u0430\", \"\\u0445\\u043e\\u0434\\u0438\\u0442\\u044c\", \"\\u0441\\u043d\\u0435\\u0433\", \"\\u043b\\u0435\\u043d\\u0442\\u0430\", \"\\u043f\\u043e\\u043b\", \"\\u0444\\u043e\\u0442\\u043a\\u0430\", \"\\u043c\\u043e\\u0440\\u043e\\u0437\", \"\\u043d\\u0430\\u0437\\u0430\\u0434\", \"\\u0437\\u043d\\u0430\\u0447\\u0438\\u0442\", \"\\u043d\\u0430\\u0447\\u0430\\u0442\\u044c\\u0441\\u044f\", \"\\u0442\\u0440\\u0435\\u0442\\u0438\\u0439\", \"\\u043a\\u0430\\u043d\\u0438\\u043a\\u0443\\u043b\\u044b\", \"\\u0441\\u0442\\u0440\\u0430\\u043d\\u0430\", \"\\u0441\\u0443\\u0431\\u0431\\u043e\\u0442\\u0430\", \"\\u043e\\u043a\\u043d\\u043e\", \"\\u0441\\u0435\\u043c\\u044c\\u044f\", \"\\u043d\\u0430\\u0437\\u044b\\u0432\\u0430\\u0442\\u044c\\u0441\\u044f\", \"\\u0432\\u043e\\u043a\\u0440\\u0443\\u0433\", \"\\u0447\\u0435\\u043b\\u043e\\u0432\\u0435\\u043a\", \"\\u0441\\u043a\\u0430\\u0437\\u0430\\u0442\\u044c\", \"\\u0445\\u043e\\u0440\\u043e\\u0448\\u0438\\u0439\", \"\\u0441\\u0430\\u043c\\u044b\\u0439\", \"\\u0442\\u0432\\u043e\\u0439\", \"\\u043b\\u044e\\u0431\\u0438\\u043c\\u044b\\u0439\", \"\\u0434\\u0435\\u043b\\u043e\", \"\\u043d\\u0430\\u043f\\u0438\\u0441\\u0430\\u0442\\u044c\", \"\\u0436\\u0430\\u043b\\u043a\\u043e\", \"\\u0442\\u0435\\u043b\\u0435\\u0444\\u043e\\u043d\", \"\\u0432\\u0440\\u043e\\u0434\\u0435\", \"\\u0442\\u0432\\u0438\\u0442\", \"\\u043e\\u0431\\u0438\\u0434\\u043d\\u043e\", \"\\u043f\\u0430\\u0440\\u0435\\u043d\\u044c\", \"\\u0434\\u0430\\u0432\\u0430\\u0442\\u044c\", \"\\u043f\\u044b\\u0442\\u0430\\u0442\\u044c\\u0441\\u044f\", \"\\u043c\\u043e\\u043c\\u0435\\u043d\\u0442\", \"\\u043f\\u043e\\u043b\\u0443\\u0447\\u0430\\u0442\\u044c\\u0441\\u044f\", \"\\u043f\\u043e\\u0436\\u0430\\u043b\\u0443\\u0439\\u0441\\u0442\\u0430\", \"\\u043c\\u0443\\u0437\\u044b\\u043a\\u0430\", \"\\u043c\\u044b\\u0441\\u043b\\u044c\", \"\\u0434\\u0435\\u0432\\u0443\\u0448\\u043a\\u0430\", \"\\u0441\\u043b\\u0443\\u0448\\u0430\\u0442\\u044c\", \"\\u043f\\u0440\\u0438\\u0445\\u043e\\u0434\\u0438\\u0442\\u044c\", \"\\u0441\\u043e\\u0431\\u0438\\u0440\\u0430\\u0442\\u044c\\u0441\\u044f\", \"\\u0443\\u0437\\u043d\\u0430\\u0442\\u044c\", \"\\u0434\\u043e\\u0431\\u0440\\u044b\\u0439\", \"\\u0434\\u0435\\u0432\\u043e\\u0447\\u043a\\u0430\", \"\\u043e\\u0434\\u043d\\u043e\\u043a\\u043b\\u0430\\u0441\\u0441\\u043d\\u0438\\u043a\", \"\\u0438\\u043d\\u0442\\u0435\\u0440\\u0435\\u0441\\u043d\\u044b\\u0439\", \"\\u0437\\u0430\\u0432\\u0442\\u0440\\u0430\", \"\\u0438\\u0434\\u0442\\u0438\", \"\\u0441\\u043f\\u0430\\u0442\\u044c\", \"\\u0448\\u043a\\u043e\\u043b\\u0430\", \"\\u0443\\u0440\\u043e\\u043a\", \"\\u043f\\u043e\\u043d\\u0438\\u043c\\u0430\\u0442\\u044c\", \"\\u043f\\u043e\\u0441\\u043b\\u0435\\u0434\\u043d\\u0438\\u0439\", \"\\u043f\\u0435\\u0440\\u0432\\u044b\\u0439\", \"\\u044d\\u043a\\u0437\\u0430\\u043c\\u0435\\u043d\", \"\\u043d\\u0440\\u0430\\u0432\\u0438\\u0442\\u044c\\u0441\\u044f\", \"\\u0434\\u043e\\u043c\\u043e\\u0439\", \"\\u043f\\u0440\\u0438\\u0439\\u0442\\u0438\\u0441\\u044c\", \"\\u043c\\u0435\\u0441\\u044f\\u0446\", \"\\u043d\\u0430\\u0434\\u0435\\u044f\\u0442\\u044c\\u0441\\u044f\", \"\\u0433\\u043b\\u0430\\u0437\", \"\\u0441\\u0435\\u0441\\u0441\\u0438\\u044f\", \"\\u0441\\u0445\\u043e\\u0434\\u0438\\u0442\\u044c\", \"\\u0432\\u0441\\u0442\\u0430\\u0442\\u044c\", \"\\u0443\\u0447\\u0438\\u0442\\u044c\\u0441\\u044f\", \"\\u0431\\u043e\\u043b\\u044c\\u043d\\u0438\\u0446\\u0430\", \"\\u0441\\u0442\\u0430\\u0440\\u044b\\u0439\", \"\\u0432\\u0435\\u0440\\u0438\\u0442\\u044c\", \"\\u0438\\u043c\\u0435\\u043d\\u043d\\u043e\", \"\\u0441\\u0434\\u0430\\u0442\\u044c\", \"\\u043b\\u0435\\u043d\\u044c\", \"\\u0430\\u0445\\u0438\", \"\\u043e\\u043d\\u043e\", \"\\u043b\\u0435\\u0447\\u044c\", \"\\u0443\\u0441\\u043f\\u0435\\u0442\\u044c\", \"\\u0434\\u043e\\u0440\\u043e\\u0433\\u0430\", \"\\u0434\\u0435\\u043d\\u044c\", \"\\u0441\\u043c\\u043e\\u0442\\u0440\\u0435\\u0442\\u044c\", \"\\u043f\\u043e\\u0439\\u0442\\u0438\", \"\\u0447\\u0430\\u0441\", \"\\u043d\\u0438\\u043a\\u0442\\u043e\", \"\\u043d\\u0443\\u0436\\u043d\\u043e\", \"\\u0432\\u0442\\u043e\\u0440\\u043e\\u0439\", \"\\u043f\\u0438\\u0437\\u0434\\u0435\\u0446\", \"\\u0432\\u0441\\u0442\\u0430\\u0432\\u0430\\u0442\\u044c\", \"\\u0431\\u043b\\u044f\\u0434\\u044c\", \"\\u043f\\u0440\\u043e\\u0439\\u0442\\u0438\", \"\\u043f\\u043e\\u043d\\u0435\\u0434\\u0435\\u043b\\u044c\\u043d\\u0438\\u043a\", \"\\u0441\\u043e\\u043d\", \"\\u043d\\u0430\\u0447\\u0430\\u043b\\u043e\", \"\\u043f\\u0440\\u044f\\u043c\", \"\\u0446\\u0435\\u043b\\u044b\\u0439\", \"\\u043f\\u043e\\u043c\\u043e\\u0447\\u044c\", \"\\u043f\\u043e\\u043f\\u0430\\u0441\\u0442\\u044c\", \"\\u0440\\u0435\\u0448\\u0438\\u0442\\u044c\", \"\\u043b\\u0430\\u0434\\u043d\\u044b\\u0439\", \"\\u0441\\u0438\\u043b\\u0430\", \"\\u043a\\u0440\\u0443\\u0442\\u043e\\u0439\", \"\\u0432\\u043c\\u0435\\u0441\\u0442\\u0435\", \"\\u043f\\u0443\\u0441\\u0442\\u044c\", \"\\u0441\\u043b\\u044b\\u0448\\u0430\\u0442\\u044c\", \"\\u0437\\u0434\\u043e\\u0440\\u043e\\u0432\\u044c\\u0435\", \"\\u0443\\u043c\", \"\\u0440\\u043e\\u0436\\u0434\\u0435\\u043d\\u0438\\u0435\", \"\\u0434\\u043e\\u0431\\u0440\\u043e\", \"\\u043f\\u043e\\u0434\\u0440\\u044f\\u0434\", \"\\u044d\\u0442\\u043e\", \"\\u043d\\u0435\\u0434\\u0435\\u043b\\u044f\", \"\\u0433\\u043e\\u043b\\u043e\\u0432\\u0430\", \"\\u043f\\u043b\\u043e\\u0445\\u043e\\u0439\", \"\\u043c\\u0430\\u043b\\u0435\\u043d\\u044c\\u043a\\u0438\\u0439\", \"\\u0443\\u0436\\u0430\\u0441\\u043d\\u044b\\u0439\", \"\\u0447\\u0443\\u0432\\u0441\\u0442\\u0432\\u043e\", \"\\u043d\\u0430\\u0432\\u0435\\u0440\\u043d\\u043e\\u0435\", \"\\u043f\\u0435\\u0441\\u043d\\u044f\", \"\\u043f\\u0435\\u0447\\u0430\\u043b\\u044c\\u043d\\u043e\", \"\\u0440\\u0435\\u0431\\u0451\\u043d\\u043e\\u043a\", \"\\u043d\\u0430\\u0447\\u0438\\u043d\\u0430\\u0442\\u044c\", \"\\u0435\\u0445\\u0430\\u0442\\u044c\", \"\\u0434\\u0443\\u0448\\u0430\", \"\\u0441\\u043b\\u0438\\u0448\\u043a\\u043e\\u043c\", \"\\u0442\\u043e\\u0447\\u043d\\u043e\", \"\\u0433\\u043e\\u0442\\u043e\\u0432\\u044b\\u0439\", \"\\u0442\\u0443\\u043f\\u043e\\u0439\", \"\\u0433\\u0440\\u0443\\u0441\\u0442\\u043d\\u044b\\u0439\", \"\\u0440\\u0435\\u0430\\u043b\\u044c\\u043d\\u043e\", \"\\u0441\\u043b\\u0435\\u0434\\u0443\\u044e\\u0449\\u0438\\u0439\", \"\\u0441\\u043c\\u0435\\u0448\\u043d\\u043e\", \"\\u0432\\u0435\\u0441\\u0451\\u043b\\u044b\\u0439\", \"\\u043f\\u0440\\u0435\\u043a\\u0440\\u0430\\u0441\\u043d\\u044b\\u0439\", \"\\u043f\\u043b\\u0430\\u043d\", \"\\u043e\\u0442\\u043b\\u0438\\u0447\\u043d\\u044b\\u0439\", \"\\u0441\\u043c\\u0430\\u0439\\u043b\\u0438\\u043a\", \"\\u0433\\u043e\\u043b\\u043e\\u0441\", \"\\u0445\\u0430\\u0445\", \"\\u043f\\u043e\\u0434\\u0430\\u0440\\u043e\\u043a\", \"\\u0432\\u0435\\u0441\\u044c\", \"\\u043b\\u044e\\u0431\\u0438\\u0442\\u044c\", \"\\u0436\\u0438\\u0437\\u043d\\u044c\", \"\\u043c\\u0430\\u043c\\u0430\", \"\\u0447\\u0438\\u0442\\u0430\\u0442\\u044c\", \"\\u043f\\u043e\\u043d\\u044f\\u0442\\u044c\", \"\\u0440\\u0443\\u043a\\u0430\", \"\\u0436\\u0438\\u0442\\u044c\", \"\\u0433\\u043e\\u0440\\u043e\\u0434\", \"\\u0442\\u0432\\u0438\\u0442\\u0442\\u0435\\u0440\", \"\\u043f\\u0430\\u043f\\u0430\", \"\\u0441\\u0443\\u043a\\u0430\", \"\\u0431\\u043e\\u043b\\u044c\", \"\\u0445\\u0432\\u0430\\u0442\\u0430\\u0442\\u044c\", \"\\u043f\\u043e\\u0435\\u0445\\u0430\\u0442\\u044c\", \"\\u0441\\u0435\\u0440\\u0434\\u0446\\u0435\", \"\\u043a\\u043b\\u0430\\u0441\\u0441\", \"\\u043f\\u0440\\u043e\\u0431\\u043b\\u0435\\u043c\\u0430\", \"\\u043b\\u0438\\u0448\\u044c\", \"\\u043b\\u044e\\u0431\\u043e\\u0432\\u044c\", \"\\u043f\\u043e\\u0434\\u0440\\u0443\\u0433\\u0430\", \"\\u043a\\u043b\\u0430\\u0441\\u0441\\u043d\\u044b\\u0439\", \"\\u043a\\u0440\\u043e\\u043c\\u0435\", \"\\u0431\\u0435\\u0434\\u043d\\u044b\\u0439\", \"\\u0436\\u043e\\u043f\\u0430\", \"\\u044f\\u043d\\u0432\\u0430\\u0440\\u044c\", \"\\u0436\\u0435\\u043d\\u0449\\u0438\\u043d\\u0430\", \"\\u043f\\u0440\\u043e\\u0432\\u043e\\u0434\\u0438\\u0442\\u044c\", \"\\u043e\\u0441\\u0442\\u0430\\u043b\\u044c\\u043d\\u043e\\u0439\", \"follow\", \"\\u0445\\u043e\\u0442\\u0435\\u0442\\u044c\", \"\\u043f\\u0440\\u043e\\u0441\\u0442\\u043e\", \"\\u0441\\u0438\\u0434\\u0435\\u0442\\u044c\", \"\\u0445\\u043e\\u0442\\u044f\", \"\\u0443\\u0436\\u0430\\u0441\\u043d\\u043e\", \"\\u0431\\u043e\\u0433\", \"\\u0441\\u0438\\u043b\\u044c\\u043d\\u043e\", \"\\u0443\\u0439\\u0442\\u0438\", \"\\u0443\\u0436\\u0430\\u0441\", \"\\u0434\\u0430\\u0432\\u043d\\u043e\", \"\\u043b\\u0435\\u0442\\u043e\", \"\\u0447\\u0443\\u0432\\u0441\\u0442\\u0432\\u043e\\u0432\\u0430\\u0442\\u044c\", \"\\u0438\\u0433\\u0440\\u0430\\u0442\\u044c\", \"\\u043f\\u043e\\u0433\\u043e\\u0434\\u0430\", \"\\u043a\\u0430\\u043f\\u0435\\u0446\", \"\\u0432\\u0437\\u044f\\u0442\\u044c\", \"\\u0432\\u0430\\u0448\", \"\\u0442\\u0443\\u0434\\u0430\", \"\\u0442\\u0435\\u043c\\u0430\", \"\\u0436\\u0440\\u0430\\u0442\\u044c\", \"\\u0432\\u0435\\u0440\\u043d\\u0443\\u0442\\u044c\\u0441\\u044f\", \"\\u043f\\u043e\\u043b\\u043d\\u044b\\u0439\", \"\\u043e\\u0431\\u0440\\u0430\\u0442\\u043d\\u043e\", \"\\u0448\\u043e\\u043a\", \"\\u0437\\u0430\\u0445\\u043e\\u0434\\u0438\\u0442\\u044c\", \"\\u0441\\u0442\\u0440\\u0430\\u0448\\u043d\\u044b\\u0439\", \"\\u0438\\u0442\\u043e\\u0433\", \"\\u043f\\u043e\\u043f\\u0440\\u043e\\u0431\\u043e\\u0432\\u0430\\u0442\\u044c\", \"\\u0442\\u0432\\u043e\\u0440\\u0438\\u0442\\u044c\\u0441\\u044f\", \"\\u0440\\u0435\\u0448\\u0430\\u0442\\u044c\", \"\\u0437\\u043d\\u0430\\u0442\\u044c\", \"\\u0432\\u043e\\u043e\\u0431\\u0449\\u0435\", \"\\u043f\\u0438\\u0441\\u0430\\u0442\\u044c\", \"\\u0445\\u043e\\u0442\\u0435\\u0442\\u044c\\u0441\\u044f\", \"\\u0434\\u0440\\u0443\\u0433\", \"\\u0431\\u043b\\u044f\", \"\\u0444\\u0438\\u043b\\u044c\\u043c\", \"\\u0440\\u0430\\u043d\\u043d\\u0438\\u0439\", \"\\u043a\\u0443\\u043f\\u0438\\u0442\\u044c\", \"\\u043f\\u043b\\u0430\\u043a\\u0430\\u0442\\u044c\", \"\\u0434\\u0435\\u043d\\u044c\\u0433\\u0430\", \"\\u043f\\u043e\\u043c\\u043d\\u0438\\u0442\\u044c\", \"\\u043d\\u0435\\u0442\\u0443\", \"\\u0433\\u0440\\u0443\\u0441\\u0442\\u043d\\u043e\", \"\\u0441\\u0435\\u0440\\u0438\\u0430\\u043b\", \"\\u043a\\u043d\\u0438\\u0433\\u0430\", \"\\u0443\\u0431\\u0438\\u0442\\u044c\", \"\\u0430\\u0433\\u0430\", \"\\u043f\\u0438\\u0442\\u044c\", \"\\u0441\\u0442\\u0440\\u0430\\u0448\\u043d\\u043e\", \"\\u043a\\u043e\\u0440\\u043e\\u0447\\u0435\", \"\\u0442\\u0432\\u0438\", \"\\u0438\\u0433\\u0440\\u0430\", \"\\u043b\\u0438\\u0431\\u043e\", \"\\u0445\\u0443\\u0439\\u043d\\u044f\", \"\\u0442\\u0438\\u043f\", \"\\u0430\\u0445\\u0430\\u0445\", \"\\u0434\\u0435\\u0442\\u0441\\u0442\\u0432\\u043e\", \"\\u0441\\u0442\\u043e\\u044f\\u0442\\u044c\", \"\\u0438\\u043c\\u0435\\u0442\\u044c\", \"\\u0434\\u0435\\u043b\\u0430\\u0442\\u044c\", \"\\u0431\\u043e\\u043b\\u0435\\u0442\\u044c\", \"\\u0434\\u0443\\u043c\\u0430\\u0442\\u044c\", \"\\u043d\\u0430\\u0448\", \"\\u0441\\u043a\\u043e\\u0440\\u043e\", \"\\u0432\\u0447\\u0435\\u0440\\u0430\", \"\\u043f\\u0440\\u0438\\u0439\\u0442\\u0438\", \"\\u0437\\u0430\\u0431\\u044b\\u0442\\u044c\", \"\\u0440\\u0430\\u0432\\u043d\\u043e\", \"\\u0432\\u0438\\u0434\\u0435\\u0442\\u044c\", \"\\u043d\\u0430\\u0439\\u0442\\u0438\", \"\\u0437\\u0430\\u043a\\u043e\\u043d\\u0447\\u0438\\u0442\\u044c\\u0441\\u044f\", \"\\u0431\\u043e\\u043b\\u044c\\u043d\\u043e\", \"\\u0442\\u0435\\u043c\\u043f\\u0435\\u0440\\u0430\\u0442\\u0443\\u0440\\u0430\", \"\\u0443\\u0432\\u0438\\u0434\\u0435\\u0442\\u044c\", \"\\u0442\\u0430\\u043a\\u0438\", \"\\u0441\\u0435\\u0437\\u043e\\u043d\", \"\\u043b\\u0438\\u0446\\u043e\", \"\\u043f\\u0435\\u0447\\u0430\\u043b\\u044c\", \"\\u043d\\u0435\\u043c\\u043d\\u043e\\u0433\\u043e\", \"\\u0443\\u0442\\u0440\\u043e\\u043c\", \"\\u0441\\u0435\\u0440\\u0438\\u044f\", \"\\u043f\\u043e\\u044d\\u0442\\u043e\\u043c\\u0443\", \"\\u0433\\u043e\\u0440\\u043b\\u043e\", \"\\u043c\\u0430\\u043b\\u044c\\u0447\\u0438\\u043a\", \"\\u043f\\u043e\\u0445\\u043e\\u0436\\u0438\\u0439\", \"\\u043e\\u0431\\u0449\\u0430\\u0442\\u044c\\u0441\\u044f\", \"\\u0433\\u0440\\u0443\\u043f\\u043f\\u0430\", \"\\u0436\\u0438\\u0432\\u043e\\u0442\", \"\\u0448\\u0435\\u0440\\u043b\\u043e\\u043a\", \"\\u0434\\u043e\\u043c\", \"\\u043d\\u043e\\u0447\\u044c\", \"\\u0436\\u0434\\u0430\\u0442\\u044c\", \"\\u0443\\u043b\\u0438\\u0446\\u0430\", \"\\u0445\\u043e\\u043b\\u043e\\u0434\\u043d\\u043e\", \"\\u043d\\u0438\\u0431\\u044b\\u0442\\u044c\", \"\\u0432\\u044b\\u0445\\u043e\\u0434\\u043d\\u043e\\u0439\", \"\\u0437\\u0430\\u0431\\u043e\\u043b\\u0435\\u0442\\u044c\", \"\\u043c\\u0438\\u043d\\u0443\\u0442\\u0430\", \"\\u0441\\u043a\\u0443\\u0447\\u043d\\u043e\", \"\\u0443\\u0441\\u0442\\u0430\\u0442\\u044c\", \"\\u0433\\u0443\\u043b\\u044f\\u0442\\u044c\", \"\\u0443\\u0435\\u0445\\u0430\\u0442\\u044c\", \"\\u0434\\u043e\\u043b\\u0433\\u043e\", \"\\u043f\\u0440\\u043e\\u0441\\u043d\\u0443\\u0442\\u044c\\u0441\\u044f\", \"\\u0443\\u0441\\u043d\\u0443\\u0442\\u044c\", \"\\u0432\\u044b\\u0445\\u043e\\u0434\\u0438\\u0442\\u044c\", \"\\u0432\\u043e\\u043f\\u0440\\u043e\\u0441\", \"\\u043f\\u0440\\u0438\\u0435\\u0445\\u0430\\u0442\\u044c\", \"\\u0440\\u044f\\u0434\\u043e\\u043c\", \"\\u0432\\u044b\\u0441\\u043f\\u0430\\u0442\\u044c\\u0441\\u044f\", \"\\u0440\\u043e\\u0441\\u0441\\u0438\\u044f\", \"\\u0431\\u044b\\u0432\\u0430\\u0442\\u044c\", \"\\u0440\\u043e\\u0434\\u043d\\u044b\\u0439\", \"\\u0437\\u0430\\u0442\\u043e\", \"\\u043d\\u043e\\u0447\\u044c\\u044e\", \"\\u043a\\u0440\\u0430\\u0441\\u0438\\u0432\\u044b\\u0439\", \"\\u0441\\u043e\\u0431\\u0430\\u043a\\u0430\", \"\\u043d\\u043e\\u0432\\u043e\\u0441\\u0442\\u044c\", \"\\u0441\\u043c\\u044b\\u0441\\u043b\", \"\\u043a\\u043e\\u0442\\u043e\\u0440\\u044b\\u0439\", \"\\u0432\\u0440\\u0435\\u043c\\u044f\", \"\\u0440\\u0430\\u0431\\u043e\\u0442\\u0430\", \"\\u043f\\u043e\\u043a\\u0430\", \"\\u043d\\u043e\\u0432\\u044b\\u0439\", \"\\u043e\\u0441\\u0442\\u0430\\u0442\\u044c\\u0441\\u044f\", \"\\u0441\\u043d\\u043e\\u0432\\u0430\", \"\\u043d\\u0435\\u043d\\u0430\\u0432\\u0438\\u0434\\u0435\\u0442\\u044c\", \"\\u0435\\u0434\\u0430\", \"\\u0440\\u043e\\u0434\\u0438\\u0442\\u0435\\u043b\\u044c\", \"\\u0443\\u043c\\u0435\\u0440\\u0435\\u0442\\u044c\", \"\\u0438\\u0441\\u0442\\u043e\\u0440\\u0438\\u044f\", \"\\u0431\\u044b\\u0441\\u0442\\u0440\\u043e\", \"\\u043f\\u043e\\u0445\\u043e\\u0436\\u0435\", \"\\u0438\\u0441\\u043a\\u0430\\u0442\\u044c\", \"\\u0440\\u0443\\u0441\\u0441\\u043a\\u0438\\u0439\", \"https\", \"\\u043d\\u0430\\u0441\\u0442\\u043e\\u044f\\u0449\\u0438\\u0439\", \"\\u043c\\u0443\\u0436\\u0438\\u043a\", \"\\u043a\\u0432\\u0430\\u0440\\u0442\\u0438\\u0440\\u0430\", \"\\u0434\\u0435\\u0439\\u0441\\u0442\\u0432\\u0438\\u0442\\u0435\\u043b\\u044c\\u043d\\u043e\", \"\\u043d\\u0435\\u0441\\u043a\\u043e\\u043b\\u044c\\u043a\\u043e\", \"\\u0431\\u043b\\u0438\\u0437\\u043a\\u0438\\u0439\", \"\\u0437\\u0440\\u044f\", \"\\u043c\\u0430\\u0442\\u0447\", \"\\u0438\\u043c\\u044f\", \"\\u0447\\u0443\\u0432\\u0430\\u043a\", \"\\u0432\\u043e\\u0437\\u0440\\u0430\\u0441\\u0442\", \"\\u043e\\u0442\\u043a\\u0440\\u044b\\u0442\\u044c\", \"\\u043f\\u0440\\u043e\\u0431\\u043a\\u0430\", \"\\u043e\\u0447\\u0435\\u043d\\u044c\", \"\\u0436\\u0430\\u043b\\u044c\", \"\\u043f\\u043b\\u043e\\u0445\\u043e\", \"\\u0441\\u0434\\u0435\\u043b\\u0430\\u0442\\u044c\", \"\\u043f\\u0440\\u043e\\u0441\\u0442\\u0438\\u0442\\u044c\", \"\\u0440\\u0430\\u0431\\u043e\\u0442\\u0430\\u0442\\u044c\", \"\\u0441\\u043f\\u0430\\u0441\\u0438\\u0431\\u043e\", \"\\u0441\\u043c\\u043e\\u0447\\u044c\", \"\\u0440\\u0430\\u043d\\u043e\", \"\\u043f\\u0440\\u0430\\u0432\\u0434\\u0430\", \"\\u043a\\u0440\\u0443\\u0442\\u043e\", \"\\u0438\\u043d\\u0442\\u0435\\u0440\\u043d\\u0435\\u0442\", \"\\u0441\\u043a\\u043e\\u043b\\u044c\\u043a\\u043e\", \"\\u0443\\u0445\\u043e\\u0434\\u0438\\u0442\\u044c\", \"\\u043f\\u043e\\u0441\\u0442\\u0430\\u0432\\u0438\\u0442\\u044c\", \"\\u043f\\u043e\\u043b\\u0443\\u0447\\u0438\\u0442\\u044c\", \"\\u0441\\u0442\\u044b\\u0434\\u043d\\u043e\", \"\\u043f\\u043e\\u043d\\u0440\\u0430\\u0432\\u0438\\u0442\\u044c\\u0441\\u044f\", \"\\u043e\\u043a\\u0430\\u0437\\u0430\\u0442\\u044c\\u0441\\u044f\", \"\\u043f\\u0440\\u043e\\u0447\\u0438\\u0442\\u0430\\u0442\\u044c\", \"\\u043e\\u0441\\u043e\\u0431\\u0435\\u043d\\u043d\\u043e\", \"\\u0438\\u043d\\u0442\\u0435\\u0440\\u0435\\u0441\\u043d\\u043e\", \"\\u0432\\u0438\\u0434\\u0435\\u043e\", \"\\u043c\\u043e\\u043b\\u043e\\u0434\\u0435\\u0446\", \"\\u0433\\u043b\\u0430\\u0432\\u043d\\u043e\\u0435\", \"\\u0434\\u043e\\u0440\\u043e\\u0433\\u043e\\u0439\", \"\\u043e\\u0433\\u0440\\u043e\\u043c\\u043d\\u044b\\u0439\", \"\\u043f\\u0438\\u0441\\u044c\\u043c\\u043e\", \"\\u0432\\u0435\\u0441\\u0435\\u043b\\u043e\", \"\\u0443\\u0434\\u043e\\u0431\\u043d\\u043e\", \"\\u0435\\u0449\\u0451\", \"\\u043f\\u043e\\u0447\\u0435\\u043c\\u0443\", \"\\u0431\\u043e\\u043b\\u044c\\u0448\\u043e\\u0439\", \"\\u0443\\u0447\\u0438\\u0442\\u044c\", \"\\u0431\\u043e\\u044f\\u0442\\u044c\\u0441\\u044f\", \"\\u0432\\u0435\\u0447\\u0435\\u0440\", \"\\u043d\\u0443\\u0436\\u043d\\u044b\\u0439\", \"\\u043d\\u043e\\u0433\\u0430\", \"\\u0438\\u0431\\u043e\", \"\\u043a\\u043e\\u0442\", \"\\u043f\\u0435\\u0440\\u0435\\u0441\\u0442\\u0430\\u0442\\u044c\", \"\\u0441\\u043a\\u043e\\u0440\\u0435\\u0435\", \"\\u043f\\u0440\\u0438\\u0432\\u0435\\u0442\", \"\\u043f\\u043e\\u0433\\u0443\\u043b\\u044f\\u0442\\u044c\", \"\\u0431\\u0430\\u0431\\u0443\\u0448\\u043a\\u0430\", \"\\u0434\\u0430\\u043b\\u0451\\u043a\\u0438\\u0439\", \"\\u0430\\u043d\\u0433\\u043b\\u0438\\u0439\\u0441\\u043a\\u0438\\u0439\", \"\\u043a\\u0438\\u043d\\u043e\", \"\\u0441\\u043d\\u0438\\u0442\\u044c\\u0441\\u044f\", \"\\u0441\\u0442\\u0438\\u0445\", \"\\u0432\\u044b\\u0437\\u0434\\u043e\\u0440\\u0430\\u0432\\u043b\\u0438\\u0432\\u0430\\u0442\\u044c\", \"\\u0441\\u0435\\u0433\\u043e\\u0434\\u043d\\u044f\\u0448\\u043d\\u0438\\u0439\", \"\\u0434\\u043e\\u0436\\u0434\\u0430\\u0442\\u044c\\u0441\\u044f\", \"\\u0436\\u0438\\u0432\\u043e\\u0439\", \"\\u0441\\u043e\\u0437\\u0434\\u0430\\u0442\\u044c\", \"\\u0434\\u043e\\u0436\\u0438\\u0442\\u044c\", \"\\u0434\\u0435\\u043a\\u0430\\u0431\\u0440\\u044c\", \"\\u0441\\u0435\\u0440\\u044b\\u0439\", \"\\u043f\\u0440\\u0438\\u0434\\u0443\\u0440\\u043e\\u043a\", \"\\u0430\\u043a\\u043a\"], \"Freq\": [49917.0, 40442.0, 35595.0, 26196.0, 20726.0, 16609.0, 17066.0, 17156.0, 16878.0, 14459.0, 11085.0, 11215.0, 10909.0, 9968.0, 10610.0, 9663.0, 10285.0, 8549.0, 8558.0, 8769.0, 7637.0, 8173.0, 8090.0, 7268.0, 6764.0, 7066.0, 6791.0, 7091.0, 7106.0, 7112.0, 35594.09387534877, 16877.124681464058, 14457.988497526861, 2567.9505791361394, 2546.1155263738233, 2247.217613370533, 2234.2244142941395, 2046.5112963017618, 1976.8524938677715, 1914.8038295530566, 1811.321749857894, 1755.6287295079617, 1734.5216511563033, 1702.8750873905828, 1698.7154873742406, 1473.5334731759756, 1459.8791726073719, 1362.9057086779396, 1292.247783046776, 1182.3052569849524, 1140.4640212909128, 1071.9515669636141, 1050.5440829236193, 965.256870470681, 874.8342880812162, 871.5523428750241, 821.4901267472694, 808.2943236257682, 776.2998639507206, 720.003263267336, 49916.37451943692, 7110.980816789594, 5649.3308221689895, 2261.6634715347536, 2174.301281266341, 2011.6116814924608, 1850.9993370559482, 1842.907059605233, 1767.7115152689375, 1669.8857480421034, 1305.1938660118772, 1259.5024901628644, 1144.420574073623, 1046.1023965383413, 1020.9314008731066, 951.4033116202063, 925.2531791815753, 875.4939712711845, 741.9441108855877, 708.8987658024548, 700.878625798812, 641.0774873868868, 636.7885064480421, 611.7972623334574, 603.4608164391055, 537.3499959937814, 519.4780500536395, 499.61633260064946, 499.00640882786394, 442.62102353191506, 10609.079246004603, 8088.6075296449, 6111.696887624236, 5873.44074509894, 4529.581148530009, 4206.124995150184, 3762.8420241294625, 3687.7489006948726, 2527.536149511625, 2433.8284827810194, 2327.3638487763146, 2315.609553385681, 2230.468069362188, 2222.7711324189136, 2216.7375995255566, 1977.1063587546735, 1781.0168220043101, 1662.8182170390417, 1622.3131334223528, 1602.2391831337923, 1593.5689318171535, 1412.5733895152187, 1383.010659126773, 1210.7947060476884, 1203.5110325158428, 1057.3431889363874, 975.3238572932709, 973.4870369256711, 907.4748876653899, 887.9215627082125, 10284.362775413103, 8171.45073850425, 7104.671507539642, 6180.121578750929, 4465.804999265608, 3934.014363712014, 3638.1366715868444, 3294.5383201486425, 3266.7610149065563, 3146.009892444113, 2801.4912458944314, 2484.6176567161483, 2456.7409310890066, 2293.0553967186265, 2202.31966367582, 2084.6053650127533, 2003.7332596812837, 1932.066356492196, 1818.8186593169894, 1789.1392357645889, 1622.904975409767, 1613.910244346692, 1578.8238525323086, 1430.9838640978833, 1420.2091329710436, 1415.5280273127848, 1309.7066577299886, 1195.44083953612, 1123.0856846625604, 1016.8821093541957, 10908.234478053988, 6900.455114166565, 6702.401049386386, 6269.506036676709, 4181.653529697583, 3841.211178029662, 3670.323361301912, 3205.239735603651, 2692.944255312778, 2640.67538633853, 2530.435468552174, 2404.9306653727313, 1873.5655379227303, 1734.813277220172, 1614.6693929337735, 1430.9167965430272, 1419.8728271934813, 1396.0182179395033, 1393.1944685986475, 1330.2515852917106, 1291.8127176427315, 1281.3734893963497, 1203.282301643102, 1197.8550615458166, 1185.9559547097465, 1168.3498856904753, 1101.9813091603778, 1058.5696144543303, 1056.9001247660672, 1025.7233838650507, 17154.45921692153, 7089.7277976803525, 6512.73919322292, 5617.232736078047, 4946.378291609733, 3508.3685274846903, 3479.4226317401235, 3205.400930759466, 2914.6026173100986, 2842.5767031281894, 2754.4847561379183, 2374.3088664493866, 1887.5611058623854, 1766.1431461138939, 1716.30707491565, 1704.1618820234, 1514.0462938972255, 1358.0322035756687, 1321.395496192618, 1306.4937741545539, 1261.9546410439257, 1139.4866698631852, 1069.0876364792489, 912.7100240021847, 848.4453728324012, 768.3386081033218, 763.4676711876907, 747.104581418881, 685.8517481363003, 590.1458534293417, 40441.04263668348, 4414.146407407188, 4166.864974454312, 3836.0449450699957, 2422.8539536245653, 2386.248938661657, 2339.373979953785, 2161.87654986606, 2103.5234871191697, 2012.0399289519414, 1884.6349005325028, 1818.6331451858514, 1745.8278281997748, 1743.5436994459023, 1632.1313919168726, 1260.4334458121396, 1193.3196017494558, 1146.7675664356436, 1117.4584280526035, 1008.592141893766, 847.1585107178738, 707.2257319173455, 706.502496442348, 682.2568782525435, 680.5253479012091, 616.6543140133605, 567.3727913383108, 538.8208497746164, 424.45394680481786, 378.1728134126107, 17064.57512602298, 8767.777447247865, 6484.673444484921, 5344.756064254224, 3397.036128622536, 3179.9264752813438, 2792.1661715636747, 2646.20035768637, 2588.7735689925703, 2509.9984381814106, 2464.6672130425977, 2294.918373502353, 2257.748860823823, 1870.524833106152, 1853.2695317134742, 1824.7122413128707, 1780.2128848468196, 1745.8306148546176, 1595.8263531177822, 1307.273311635217, 1271.0973099823548, 1102.1607964515492, 1026.4137498941404, 986.3834128414692, 985.1043573950295, 723.5701160770157, 694.7068682712791, 605.0377707791323, 604.7341869768319, 442.3348921276193, 26195.226729195867, 9661.716850306053, 5261.8703933263205, 2633.8698438448446, 2574.940189874017, 2502.287413836459, 2084.552885330809, 2010.60747450289, 1990.6909254189081, 1796.7581511101944, 1791.0301972838788, 1716.8186236805604, 1667.0184464057286, 1662.3060562839073, 1434.0965654931974, 1403.976071132203, 1322.7917496452574, 1059.6014109318949, 1050.3263082911626, 1026.8144579937018, 910.568956669163, 856.5095516559177, 724.1654099109096, 680.7259463859931, 679.6403357449988, 575.9161333814696, 572.6243948649917, 523.7039728293378, 505.8617168971932, 460.68790992449857, 11213.643370049727, 9967.250512210898, 7064.959032327184, 5293.077699564247, 4225.738876356379, 4126.930734402077, 2935.031094698578, 2421.1120171351326, 2328.663247831827, 2217.163118540601, 2038.6985369889167, 1959.998383503517, 1741.3081797010407, 1693.8631962475943, 1684.9303918633252, 1660.8371778647854, 1647.2733786893123, 1435.5320006171066, 1431.2235015327747, 1154.4871818846254, 1101.605742220617, 1069.2874097859801, 988.265925046316, 986.6800489074577, 961.3780593940143, 956.968517877645, 947.5669046112442, 756.8595428396602, 742.7731077127947, 703.1181146239932, 8556.952423343993, 6790.003779432952, 5699.340211299696, 3912.7488374698573, 3712.757674874336, 3482.5418314327903, 3390.1147327807807, 3324.9869392288106, 3121.2061852645807, 3090.8032672752, 2996.93238913136, 2627.934891024375, 2050.9349397730894, 1958.2948653239598, 1950.5705717543697, 1878.1428238844692, 1495.1841979563837, 1445.5299095652804, 1289.0441470682458, 1254.5766600120173, 1193.0679892451008, 1125.1723897901634, 1104.518940938786, 1024.126074148526, 977.907614506483, 967.9904617401899, 904.861459968965, 881.2649728915256, 795.5880930260648, 779.590869679989, 6001.778285136915, 4068.1225779255515, 3736.1757132592056, 3331.974469667352, 3314.221669273324, 3103.003986373112, 2917.484331476576, 2751.844406743894, 2400.6597642036227, 2385.794182682334, 2226.097585538932, 1993.9466757932119, 1751.7721680581824, 1743.843886394076, 1671.1388022783228, 1648.561676312376, 1545.2550626065645, 1511.7572003579294, 1500.820799755833, 1426.7257208969577, 1353.9589763238978, 1335.9994069136817, 1296.041864146911, 1245.6926118847382, 1226.066928501104, 1124.3934624965016, 1082.1569748601928, 1036.9476842060146, 1032.7277877588965, 1008.0179647055226, 7636.103688121159, 7266.626682904912, 4623.588039756416, 4383.832372773824, 4345.877472048848, 3826.2001650580087, 3545.7810408607115, 3198.751983277975, 2158.2051910504256, 2091.9028937329444, 2071.2880210225467, 1915.6343638233086, 1626.9103399395988, 1547.9926986829987, 1530.8702669116099, 1491.770189861868, 1232.0122324358163, 1083.7231533567785, 1036.1557934775274, 976.2882998318723, 961.4872249892979, 950.209736937067, 764.8313994420872, 763.1801030331287, 727.2951272734628, 690.7114226535075, 641.5697815613261, 595.1482350810722, 560.4170715413146, 554.9042912480413, 16608.27398485057, 6763.282421945761, 5747.458355063372, 5354.341443246999, 3050.6657331276, 3049.8112296958166, 2773.554830828835, 2601.9421948246836, 2307.4410962866846, 2268.0881955915106, 1977.2861219763338, 1950.9243224322217, 1565.6927923164055, 1294.837461401519, 1273.3933577819348, 1190.0522371204513, 1129.5101637592154, 1082.7329964304602, 1073.1816197840428, 1066.050926557035, 938.8633887119053, 797.9480170109854, 754.695096018814, 701.3403141064578, 622.008723449912, 611.3757677553708, 600.527957290949, 540.1391565570982, 458.85646338588987, 454.99129639681234, 20725.184352971482, 11084.190241803617, 8547.600682583536, 3149.7860592264274, 2910.556697781522, 2573.751920325587, 2092.2536283836816, 1986.4796624525598, 1852.346159884646, 1543.7207886974556, 1350.9188514383802, 1204.900802748995, 1201.3355043669021, 1099.3048726467566, 1086.6209325627276, 949.8711542167596, 873.3103150858382, 737.7721621915117, 700.3104783486948, 544.066562192154, 479.1435390146982, 368.21487947542965, 345.90797193154197, 336.3079462209568, 226.27440762944497, 147.80717786096827, 126.14524110710349, 123.74660103898952, 116.31542972307174, 89.42069595928987], \"Total\": [49917.0, 40442.0, 35595.0, 26196.0, 20726.0, 16609.0, 17066.0, 17156.0, 16878.0, 14459.0, 11085.0, 11215.0, 10909.0, 9968.0, 10610.0, 9663.0, 10285.0, 8549.0, 8558.0, 8769.0, 7637.0, 8173.0, 8090.0, 7268.0, 6764.0, 7066.0, 6791.0, 7091.0, 7106.0, 7112.0, 35595.71919544565, 16878.750001372107, 14459.613817399018, 2569.575899504802, 2547.7408458332006, 2248.8429336950458, 2235.8497340272233, 2048.1366161588626, 1978.477813810573, 1916.4291493438202, 1812.947069941799, 1757.2540492568758, 1736.1469716096078, 1704.5004073428315, 1700.3408075462567, 1475.158793663384, 1461.5044919925917, 1364.5310279927808, 1293.873102928568, 1183.930576681307, 1142.0893416841739, 1073.576886606796, 1052.1694031932398, 966.8821900082307, 876.4596078149883, 873.1776633916444, 823.1154460098392, 809.9196427971594, 777.9251837758704, 721.6285833058254, 49917.96093344488, 7112.567231172781, 5650.917236599252, 2263.249885855989, 2175.8876962740683, 2013.198096842838, 1852.585752095539, 1844.4934738631657, 1769.2979293619587, 1671.4721626903834, 1306.7802804618584, 1261.0889044829992, 1146.006988684964, 1047.6888110188656, 1022.517815375245, 952.989725852443, 926.839593073345, 877.0803855526667, 743.5305248239813, 710.4851804981207, 702.4650400478855, 642.6639017166548, 638.3749252803304, 613.3836762954184, 605.0472308831424, 538.93641022541, 521.0644644786101, 501.20274711682356, 500.5928226610521, 444.2074381237547, 10610.698838205559, 8090.2271219085, 6113.316479903549, 5875.060337354042, 4531.200740731872, 4207.744587744871, 3764.461616260707, 3689.368493185869, 2529.1557405787407, 2435.448075036222, 2328.983441158484, 2317.229145858412, 2232.087661444844, 2224.390724351955, 2218.357191697674, 1978.7259511450482, 1782.6364149710134, 1664.4378086709526, 1623.93272670125, 1603.858775619081, 1595.1885242367277, 1414.192981991707, 1384.6302524495877, 1212.4142984833902, 1205.130626272386, 1058.9627812626804, 976.943449762479, 975.1066301120887, 909.0944789584735, 889.5411541406486, 10285.97809073008, 8173.06605352357, 7106.286822390601, 6181.736893838627, 4467.420314169213, 3935.629678689268, 3639.75198664297, 3296.1536352082567, 3268.3763300482956, 3147.625207287487, 2803.106561100833, 2486.2329715942365, 2458.356245759038, 2294.670711599993, 2203.934978363636, 2086.2206799990504, 2005.3485746849108, 1933.6816714503236, 1820.4339749426276, 1790.7545507011926, 1624.520290791048, 1615.5255591252264, 1580.4391673335795, 1432.599179768699, 1421.8244480247904, 1417.1433424096756, 1311.3219727829162, 1197.0561545195724, 1124.7009994791024, 1018.497424172227, 10909.869547838336, 6902.090184272909, 6704.036119259605, 6271.141106421841, 4183.288599567178, 3842.8462484040506, 3671.958431490581, 3206.8748056729105, 2694.5793247967385, 2642.3104565442645, 2532.0705385135516, 2406.565735295439, 1875.2006083752883, 1736.4483475067245, 1616.304463118437, 1432.5518669217477, 1421.5078979423663, 1397.653287814272, 1394.8295383517934, 1331.8866554413887, 1293.4477879732553, 1283.0085598695746, 1204.9173721520622, 1199.490131113591, 1187.5910246593817, 1169.9849559114098, 1103.6163796150254, 1060.2046841109175, 1058.5351947145496, 1027.3584539968244, 17156.077245772805, 7091.345826785046, 6514.357222049292, 5618.850765179378, 4947.99632061999, 3509.986556479268, 3481.0406607495993, 3207.018959758268, 2916.220646789641, 2844.1947318023254, 2756.1027852073007, 2375.9268955002444, 1889.1791344506623, 1767.7611756334873, 1717.925103875014, 1705.7799107208866, 1515.6643231850223, 1359.6502329132613, 1323.0135255535417, 1308.1118031992123, 1263.5726704511571, 1141.1046988654105, 1070.7056654390267, 914.3280537572156, 850.0634013895876, 769.9566382220765, 765.0857002837041, 748.7226098821135, 687.4697777172339, 591.7638823943435, 40442.65894539261, 4415.762716080607, 4168.481283226108, 3837.6612537731203, 2424.470262396061, 2387.8652473459383, 2340.990288214784, 2163.492858948906, 2105.139795823489, 2013.6562380679125, 1886.2512093627797, 1820.2494540698474, 1747.4441367296142, 1745.1600085825319, 1633.7477003030644, 1262.0497539749613, 1194.9359111268022, 1148.3838749723786, 1119.0747366585038, 1010.2084504088249, 848.7748194418891, 708.8420406003636, 708.118804610415, 683.8731873760122, 682.14165670487, 618.270623746735, 568.9890994732338, 540.4371580112905, 426.0702562860093, 379.78912230324624, 17066.190178174576, 8769.392499388297, 6486.288496578026, 5346.371116387077, 3398.6511807344878, 3181.541527355241, 2793.781223701624, 2647.815409604891, 2590.3886212234333, 2511.6134901181913, 2466.282265312515, 2296.5334252078505, 2259.3639126347966, 1872.1398852062146, 1854.8845838538678, 1826.3272937395902, 1781.8279369673608, 1747.445666967603, 1597.441405183674, 1308.8883637479253, 1272.7123623048935, 1103.7758487589572, 1028.028802159666, 987.9984648405162, 986.7194092547724, 725.1851680494348, 696.3219208728092, 606.652822957499, 606.3492388331904, 443.94994445393314, 26196.85784690415, 9663.347968137528, 5263.501511199619, 2635.50096186976, 2576.5713075507692, 2503.918531595543, 2086.1840030199805, 2012.2385927431194, 1992.3220432066084, 1798.3892686715114, 1792.6613154340707, 1718.4497414188302, 1668.6495641785368, 1663.937174073823, 1435.72768319415, 1405.6071891674019, 1324.4228678616455, 1061.2325283435055, 1051.957425966215, 1028.4455756422208, 912.2000743937443, 858.1406688059045, 725.7965274462074, 682.3570646656246, 681.2714531667908, 577.5472514657866, 574.2555139388414, 525.3350903277483, 507.4928354314884, 462.3190279464976, 11215.265376487669, 9968.872518811542, 7066.581038817593, 5294.699706070567, 4227.3608827054195, 4128.552740733286, 2936.653101259448, 2422.734023715133, 2330.2852542597434, 2218.785125004351, 2040.3205433749688, 1961.6203900115138, 1742.9301861346082, 1695.4852026829506, 1686.5523985406808, 1662.4591844549277, 1648.8953851348776, 1437.1540071638103, 1432.8455085950861, 1156.1091884934756, 1103.2277490008885, 1070.9094161958528, 989.8879314936373, 988.3020551038142, 963.0000659179378, 958.5905244551246, 949.1889108847406, 758.4815492191871, 744.3951148575316, 704.7401210977802, 8558.572502755791, 6791.623858661144, 5700.960290526493, 3914.368916928403, 3714.3777545017765, 3484.1619108884333, 3391.7348124009436, 3326.6070185382423, 3122.8262649872113, 3092.423346469211, 2998.5524685302557, 2629.5549704826067, 2052.5550191149528, 1959.9149448009337, 1952.190651071321, 1879.7629035361324, 1496.8042776343361, 1447.1499892208162, 1290.6642260445458, 1256.196739489423, 1194.6880688863025, 1126.7924692265392, 1106.1390203274057, 1025.7461529919767, 979.5276938463865, 969.6105413264719, 906.4815399195296, 882.885052237636, 797.2081722109655, 781.2109488694833, 6003.407977506026, 4069.7522706926643, 3737.805405811769, 3333.6041622228336, 3315.8513615658803, 3104.633678750389, 2919.1140240838477, 2753.474099567912, 2402.2894568423935, 2387.4238748997636, 2227.727278357615, 1995.5763682758595, 1753.4018607444534, 1745.4735788111743, 1672.768494973818, 1650.1913688269735, 1546.884755104078, 1513.3868928245608, 1502.4504921152545, 1428.3554138583906, 1355.5886685252678, 1337.6290993916714, 1297.6715567098554, 1247.3223047127403, 1227.6966217259805, 1126.0231550834799, 1083.7866671673291, 1038.5773768777099, 1034.3574799512198, 1009.6476577676859, 7637.70026207113, 7268.223256601229, 4625.184613503452, 4385.428946589623, 4347.474045771254, 3827.7967389682003, 3547.377614752796, 3200.3485568669603, 2159.801764924082, 2093.4994679240385, 2072.8845947524915, 1917.2309379238834, 1628.5069137047449, 1549.5892725210642, 1532.4668410738152, 1493.3667637941876, 1233.6088058749583, 1085.3197271085398, 1037.7523670261996, 977.8848735804189, 963.0837986087508, 951.8063109564707, 766.4279730942945, 764.7766772062147, 728.891701378445, 692.3079968060339, 643.1663552267196, 596.7448098965216, 562.0136451063511, 556.5008648814984, 16609.87121522665, 6764.879652363626, 5749.055585473079, 5355.938673601868, 3052.262963520772, 3051.4084600194983, 2775.152061115452, 2603.5394252112037, 2309.0383270139537, 2269.6854258382014, 1978.8833525702535, 1952.521553070074, 1567.2900227806642, 1296.434691824463, 1274.9905883037995, 1191.649467221097, 1131.107394390918, 1084.3302266998646, 1074.778850144043, 1067.6481576802003, 940.4606191883547, 799.5452472568687, 756.2923261170829, 702.9375446973213, 623.6059540863786, 612.9729980285895, 602.1251878365299, 541.7363873356384, 460.45369349306947, 456.5885268837178, 20726.795171355127, 11085.801059957288, 8549.211500946674, 3151.396877605818, 2912.1675159737256, 2575.3627387006527, 2093.8644464052772, 1988.090480441299, 1853.956978390153, 1545.3316068816553, 1352.529669568314, 1206.5116209237958, 1202.9463226237847, 1100.915690961608, 1088.2317507017922, 951.4819722011673, 874.9211334156265, 739.3829807442344, 701.9212963332668, 545.6773803760352, 480.7543566801019, 369.82569789830643, 347.51879040053194, 337.9187642177659, 227.8852254456628, 149.41799861579142, 127.75606058858918, 125.35741877152158, 117.92624809127781, 91.03151377674371], \"Category\": [\"Default\", \"Default\", \"Default\", \"Default\", \"Default\", \"Default\", \"Default\", \"Default\", \"Default\", \"Default\", \"Default\", \"Default\", \"Default\", \"Default\", \"Default\", \"Default\", \"Default\", \"Default\", \"Default\", \"Default\", \"Default\", \"Default\", \"Default\", \"Default\", \"Default\", \"Default\", \"Default\", \"Default\", \"Default\", \"Default\", \"Topic1\", \"Topic1\", \"Topic1\", \"Topic1\", \"Topic1\", \"Topic1\", \"Topic1\", \"Topic1\", \"Topic1\", \"Topic1\", \"Topic1\", \"Topic1\", \"Topic1\", \"Topic1\", \"Topic1\", \"Topic1\", \"Topic1\", \"Topic1\", \"Topic1\", \"Topic1\", \"Topic1\", \"Topic1\", \"Topic1\", \"Topic1\", \"Topic1\", \"Topic1\", \"Topic1\", \"Topic1\", \"Topic1\", \"Topic1\", \"Topic2\", \"Topic2\", \"Topic2\", \"Topic2\", \"Topic2\", \"Topic2\", \"Topic2\", \"Topic2\", \"Topic2\", \"Topic2\", \"Topic2\", \"Topic2\", \"Topic2\", \"Topic2\", \"Topic2\", \"Topic2\", \"Topic2\", \"Topic2\", \"Topic2\", \"Topic2\", \"Topic2\", \"Topic2\", \"Topic2\", \"Topic2\", \"Topic2\", \"Topic2\", \"Topic2\", \"Topic2\", \"Topic2\", \"Topic2\", \"Topic3\", \"Topic3\", \"Topic3\", \"Topic3\", \"Topic3\", \"Topic3\", \"Topic3\", \"Topic3\", \"Topic3\", \"Topic3\", \"Topic3\", \"Topic3\", \"Topic3\", \"Topic3\", \"Topic3\", \"Topic3\", \"Topic3\", \"Topic3\", \"Topic3\", \"Topic3\", \"Topic3\", \"Topic3\", \"Topic3\", \"Topic3\", \"Topic3\", \"Topic3\", \"Topic3\", \"Topic3\", \"Topic3\", \"Topic3\", \"Topic4\", \"Topic4\", \"Topic4\", \"Topic4\", \"Topic4\", \"Topic4\", \"Topic4\", \"Topic4\", \"Topic4\", \"Topic4\", \"Topic4\", \"Topic4\", \"Topic4\", \"Topic4\", \"Topic4\", \"Topic4\", \"Topic4\", \"Topic4\", \"Topic4\", \"Topic4\", \"Topic4\", \"Topic4\", \"Topic4\", \"Topic4\", \"Topic4\", \"Topic4\", \"Topic4\", \"Topic4\", \"Topic4\", \"Topic4\", \"Topic5\", \"Topic5\", \"Topic5\", \"Topic5\", \"Topic5\", \"Topic5\", \"Topic5\", \"Topic5\", \"Topic5\", \"Topic5\", \"Topic5\", \"Topic5\", \"Topic5\", \"Topic5\", \"Topic5\", \"Topic5\", \"Topic5\", \"Topic5\", \"Topic5\", \"Topic5\", \"Topic5\", \"Topic5\", \"Topic5\", \"Topic5\", \"Topic5\", \"Topic5\", \"Topic5\", \"Topic5\", \"Topic5\", \"Topic5\", \"Topic6\", \"Topic6\", \"Topic6\", \"Topic6\", \"Topic6\", \"Topic6\", \"Topic6\", \"Topic6\", \"Topic6\", \"Topic6\", \"Topic6\", \"Topic6\", \"Topic6\", \"Topic6\", \"Topic6\", \"Topic6\", \"Topic6\", \"Topic6\", \"Topic6\", \"Topic6\", \"Topic6\", \"Topic6\", \"Topic6\", \"Topic6\", \"Topic6\", \"Topic6\", \"Topic6\", \"Topic6\", \"Topic6\", \"Topic6\", \"Topic7\", \"Topic7\", \"Topic7\", \"Topic7\", \"Topic7\", \"Topic7\", \"Topic7\", \"Topic7\", \"Topic7\", \"Topic7\", \"Topic7\", \"Topic7\", \"Topic7\", \"Topic7\", \"Topic7\", \"Topic7\", \"Topic7\", \"Topic7\", \"Topic7\", \"Topic7\", \"Topic7\", \"Topic7\", \"Topic7\", \"Topic7\", \"Topic7\", \"Topic7\", \"Topic7\", \"Topic7\", \"Topic7\", \"Topic7\", \"Topic8\", \"Topic8\", \"Topic8\", \"Topic8\", \"Topic8\", \"Topic8\", \"Topic8\", \"Topic8\", \"Topic8\", \"Topic8\", \"Topic8\", \"Topic8\", \"Topic8\", \"Topic8\", \"Topic8\", \"Topic8\", \"Topic8\", \"Topic8\", \"Topic8\", \"Topic8\", \"Topic8\", \"Topic8\", \"Topic8\", \"Topic8\", \"Topic8\", \"Topic8\", \"Topic8\", \"Topic8\", \"Topic8\", \"Topic8\", \"Topic9\", \"Topic9\", \"Topic9\", \"Topic9\", \"Topic9\", \"Topic9\", \"Topic9\", \"Topic9\", \"Topic9\", \"Topic9\", \"Topic9\", \"Topic9\", \"Topic9\", \"Topic9\", \"Topic9\", \"Topic9\", \"Topic9\", \"Topic9\", \"Topic9\", \"Topic9\", \"Topic9\", \"Topic9\", \"Topic9\", \"Topic9\", \"Topic9\", \"Topic9\", \"Topic9\", \"Topic9\", \"Topic9\", \"Topic9\", \"Topic10\", \"Topic10\", \"Topic10\", \"Topic10\", \"Topic10\", \"Topic10\", \"Topic10\", \"Topic10\", \"Topic10\", \"Topic10\", \"Topic10\", \"Topic10\", \"Topic10\", \"Topic10\", \"Topic10\", \"Topic10\", \"Topic10\", \"Topic10\", \"Topic10\", \"Topic10\", \"Topic10\", \"Topic10\", \"Topic10\", \"Topic10\", \"Topic10\", \"Topic10\", \"Topic10\", \"Topic10\", \"Topic10\", \"Topic10\", \"Topic11\", \"Topic11\", \"Topic11\", \"Topic11\", \"Topic11\", \"Topic11\", \"Topic11\", \"Topic11\", \"Topic11\", \"Topic11\", \"Topic11\", \"Topic11\", \"Topic11\", \"Topic11\", \"Topic11\", \"Topic11\", \"Topic11\", \"Topic11\", \"Topic11\", \"Topic11\", \"Topic11\", \"Topic11\", \"Topic11\", \"Topic11\", \"Topic11\", \"Topic11\", \"Topic11\", \"Topic11\", \"Topic11\", \"Topic11\", \"Topic12\", \"Topic12\", \"Topic12\", \"Topic12\", \"Topic12\", \"Topic12\", \"Topic12\", \"Topic12\", \"Topic12\", \"Topic12\", \"Topic12\", \"Topic12\", \"Topic12\", \"Topic12\", \"Topic12\", \"Topic12\", \"Topic12\", \"Topic12\", \"Topic12\", \"Topic12\", \"Topic12\", \"Topic12\", \"Topic12\", \"Topic12\", \"Topic12\", \"Topic12\", \"Topic12\", \"Topic12\", \"Topic12\", \"Topic12\", \"Topic13\", \"Topic13\", \"Topic13\", \"Topic13\", \"Topic13\", \"Topic13\", \"Topic13\", \"Topic13\", \"Topic13\", \"Topic13\", \"Topic13\", \"Topic13\", \"Topic13\", \"Topic13\", \"Topic13\", \"Topic13\", \"Topic13\", \"Topic13\", \"Topic13\", \"Topic13\", \"Topic13\", \"Topic13\", \"Topic13\", \"Topic13\", \"Topic13\", \"Topic13\", \"Topic13\", \"Topic13\", \"Topic13\", \"Topic13\", \"Topic14\", \"Topic14\", \"Topic14\", \"Topic14\", \"Topic14\", \"Topic14\", \"Topic14\", \"Topic14\", \"Topic14\", \"Topic14\", \"Topic14\", \"Topic14\", \"Topic14\", \"Topic14\", \"Topic14\", \"Topic14\", \"Topic14\", \"Topic14\", \"Topic14\", \"Topic14\", \"Topic14\", \"Topic14\", \"Topic14\", \"Topic14\", \"Topic14\", \"Topic14\", \"Topic14\", \"Topic14\", \"Topic14\", \"Topic14\", \"Topic15\", \"Topic15\", \"Topic15\", \"Topic15\", \"Topic15\", \"Topic15\", \"Topic15\", \"Topic15\", \"Topic15\", \"Topic15\", \"Topic15\", \"Topic15\", \"Topic15\", \"Topic15\", \"Topic15\", \"Topic15\", \"Topic15\", \"Topic15\", \"Topic15\", \"Topic15\", \"Topic15\", \"Topic15\", \"Topic15\", \"Topic15\", \"Topic15\", \"Topic15\", \"Topic15\", \"Topic15\", \"Topic15\", \"Topic15\"], \"logprob\": [30.0, 29.0, 28.0, 27.0, 26.0, 25.0, 24.0, 23.0, 22.0, 21.0, 20.0, 19.0, 18.0, 17.0, 16.0, 15.0, 14.0, 13.0, 12.0, 11.0, 10.0, 9.0, 8.0, 7.0, 6.0, 5.0, 4.0, 3.0, 2.0, 1.0, -1.1481, -1.8943, -2.049, -3.7771, -3.7857, -3.9105, -3.9163, -4.0041, -4.0387, -4.0706, -4.1262, -4.1574, -4.1695, -4.1879, -4.1904, -4.3326, -4.3419, -4.4106, -4.4638, -4.5528, -4.5888, -4.6507, -4.6709, -4.7556, -4.854, -4.8577, -4.9169, -4.9331, -4.9734, -5.0487, -0.7118, -2.6605, -2.8907, -3.8061, -3.8455, -3.9233, -4.0065, -4.0108, -4.0525, -4.1094, -4.3558, -4.3915, -4.4873, -4.5771, -4.6015, -4.672, -4.6999, -4.7552, -4.9207, -4.9662, -4.9776, -5.0668, -5.0735, -5.1135, -5.1273, -5.2433, -5.2771, -5.3161, -5.3173, -5.4372, -2.2537, -2.525, -2.8052, -2.845, -3.1048, -3.1789, -3.2903, -3.3104, -3.6882, -3.726, -3.7707, -3.7758, -3.8132, -3.8167, -3.8194, -3.9338, -4.0383, -4.1069, -4.1316, -4.144, -4.1495, -4.27, -4.2912, -4.4242, -4.4302, -4.5597, -4.6404, -4.6423, -4.7125, -4.7343, -2.2816, -2.5116, -2.6515, -2.7909, -3.1158, -3.2426, -3.3208, -3.42, -3.4284, -3.4661, -3.5821, -3.7021, -3.7134, -3.7824, -3.8227, -3.8777, -3.9172, -3.9536, -4.0141, -4.0305, -4.128, -4.1336, -4.1556, -4.2539, -4.2614, -4.2647, -4.3424, -4.4337, -4.4962, -4.5955, -2.184, -2.642, -2.6711, -2.7378, -3.1428, -3.2278, -3.2733, -3.4088, -3.5829, -3.6025, -3.6452, -3.696, -3.9457, -4.0226, -4.0944, -4.2152, -4.223, -4.2399, -4.2419, -4.2882, -4.3175, -4.3256, -4.3885, -4.393, -4.403, -4.418, -4.4764, -4.5166, -4.5182, -4.5481, -1.6908, -2.5744, -2.6593, -2.8073, -2.9344, -3.2779, -3.2862, -3.3683, -3.4634, -3.4884, -3.5199, -3.6684, -3.8978, -3.9643, -3.9929, -4.0, -4.1183, -4.2271, -4.2544, -4.2657, -4.3004, -4.4025, -4.4663, -4.6244, -4.6974, -4.7966, -4.803, -4.8246, -4.9102, -5.0605, -0.7906, -3.0056, -3.0632, -3.146, -3.6055, -3.6207, -3.6405, -3.7194, -3.7468, -3.7913, -3.8567, -3.8923, -3.9332, -3.9345, -4.0005, -4.259, -4.3137, -4.3535, -4.3794, -4.4819, -4.6563, -4.8368, -4.8378, -4.8728, -4.8753, -4.9739, -5.0572, -5.1088, -5.3474, -5.4628, -1.6051, -2.271, -2.5727, -2.766, -3.2192, -3.2853, -3.4153, -3.469, -3.4909, -3.5218, -3.5401, -3.6114, -3.6277, -3.8159, -3.8252, -3.8407, -3.8654, -3.8849, -3.9747, -4.1742, -4.2022, -4.3448, -4.416, -4.4558, -4.4571, -4.7657, -4.8064, -4.9446, -4.9451, -5.2578, -1.1612, -2.1586, -2.7663, -3.4583, -3.481, -3.5096, -3.6922, -3.7284, -3.7383, -3.8408, -3.844, -3.8863, -3.9158, -3.9186, -4.0663, -4.0875, -4.147, -4.3689, -4.3777, -4.4003, -4.5205, -4.5817, -4.7495, -4.8114, -4.813, -4.9786, -4.9843, -5.0736, -5.1083, -5.2018, -2.008, -2.1258, -2.4699, -2.7587, -2.9839, -3.0076, -3.3484, -3.5409, -3.5798, -3.6289, -3.7128, -3.7522, -3.8705, -3.8981, -3.9034, -3.9178, -3.926, -4.0636, -4.0666, -4.2814, -4.3283, -4.3581, -4.4369, -4.4385, -4.4645, -4.4691, -4.479, -4.7037, -4.7225, -4.7773, -2.2188, -2.4501, -2.6252, -3.0013, -3.0538, -3.1178, -3.1447, -3.1641, -3.2273, -3.2371, -3.268, -3.3994, -3.6473, -3.6935, -3.6974, -3.7353, -3.9633, -3.9971, -4.1116, -4.1388, -4.189, -4.2476, -4.2661, -4.3417, -4.3879, -4.3981, -4.4655, -4.4919, -4.5942, -4.6145, -2.5446, -2.9335, -3.0186, -3.1331, -3.1384, -3.2043, -3.2659, -3.3244, -3.4609, -3.4671, -3.5364, -3.6465, -3.776, -3.7806, -3.8232, -3.8368, -3.9015, -3.9234, -3.9307, -3.9813, -4.0336, -4.047, -4.0773, -4.117, -4.1329, -4.2194, -4.2577, -4.3004, -4.3045, -4.3287, -2.2979, -2.3475, -2.7996, -2.8529, -2.8616, -2.9889, -3.0651, -3.1681, -3.5615, -3.5927, -3.6026, -3.6808, -3.8441, -3.8939, -3.905, -3.9308, -4.1222, -4.2504, -4.2953, -4.3548, -4.3701, -4.3819, -4.5989, -4.6011, -4.6492, -4.7008, -4.7746, -4.8498, -4.9099, -4.9198, -1.4848, -2.3832, -2.5459, -2.6168, -3.1793, -3.1796, -3.2745, -3.3384, -3.4585, -3.4757, -3.6129, -3.6264, -3.8463, -4.0363, -4.053, -4.1207, -4.1729, -4.2152, -4.224, -4.2307, -4.3577, -4.5204, -4.5761, -4.6494, -4.7695, -4.7867, -4.8046, -4.9106, -5.0737, -5.0821, -1.2212, -1.847, -2.1069, -3.1052, -3.1842, -3.3071, -3.5143, -3.5661, -3.636, -3.8183, -3.9517, -4.0661, -4.0691, -4.1578, -4.1694, -4.3039, -4.388, -4.5566, -4.6087, -4.8612, -4.9883, -5.2516, -5.3141, -5.3422, -5.7385, -6.1643, -6.3228, -6.342, -6.404, -6.6669], \"loglift\": [30.0, 29.0, 28.0, 27.0, 26.0, 25.0, 24.0, 23.0, 22.0, 21.0, 20.0, 19.0, 18.0, 17.0, 16.0, 15.0, 14.0, 13.0, 12.0, 11.0, 10.0, 9.0, 8.0, 7.0, 6.0, 5.0, 4.0, 3.0, 2.0, 1.0, 2.4663, 2.4663, 2.4663, 2.4658, 2.4657, 2.4657, 2.4657, 2.4656, 2.4656, 2.4655, 2.4655, 2.4655, 2.4654, 2.4654, 2.4654, 2.4653, 2.4653, 2.4652, 2.4651, 2.465, 2.465, 2.4649, 2.4648, 2.4647, 2.4645, 2.4645, 2.4644, 2.4644, 2.4643, 2.4641, 2.5644, 2.5642, 2.5641, 2.5637, 2.5637, 2.5636, 2.5636, 2.5636, 2.5635, 2.5635, 2.5632, 2.5632, 2.563, 2.5629, 2.5629, 2.5628, 2.5627, 2.5626, 2.5623, 2.5622, 2.5622, 2.562, 2.5619, 2.5618, 2.5618, 2.5615, 2.5614, 2.5613, 2.5613, 2.5608, 2.571, 2.571, 2.5709, 2.5709, 2.5708, 2.5708, 2.5707, 2.5707, 2.5705, 2.5705, 2.5705, 2.5705, 2.5704, 2.5704, 2.5704, 2.5703, 2.5703, 2.5702, 2.5702, 2.5702, 2.5701, 2.57, 2.57, 2.5698, 2.5698, 2.5696, 2.5695, 2.5695, 2.5694, 2.5693, 2.5742, 2.5742, 2.5741, 2.5741, 2.574, 2.574, 2.5739, 2.5739, 2.5739, 2.5739, 2.5738, 2.5737, 2.5737, 2.5737, 2.5736, 2.5736, 2.5736, 2.5735, 2.5735, 2.5735, 2.5734, 2.5734, 2.5734, 2.5732, 2.5732, 2.5732, 2.5731, 2.573, 2.5729, 2.5728, 2.6129, 2.6128, 2.6128, 2.6128, 2.6127, 2.6126, 2.6126, 2.6126, 2.6125, 2.6125, 2.6124, 2.6124, 2.6122, 2.6121, 2.6121, 2.6119, 2.6119, 2.6119, 2.6119, 2.6118, 2.6118, 2.6118, 2.6117, 2.6117, 2.6117, 2.6117, 2.6116, 2.6115, 2.6115, 2.6115, 2.6534, 2.6533, 2.6533, 2.6532, 2.6532, 2.6531, 2.6531, 2.653, 2.653, 2.6529, 2.6529, 2.6528, 2.6527, 2.6526, 2.6526, 2.6526, 2.6524, 2.6523, 2.6523, 2.6523, 2.6522, 2.6521, 2.652, 2.6517, 2.6516, 2.6514, 2.6514, 2.6514, 2.6512, 2.6508, 2.6962, 2.6958, 2.6958, 2.6958, 2.6955, 2.6955, 2.6955, 2.6955, 2.6954, 2.6954, 2.6953, 2.6953, 2.6953, 2.6953, 2.6952, 2.6949, 2.6948, 2.6948, 2.6948, 2.6946, 2.6943, 2.6939, 2.6939, 2.6938, 2.6938, 2.6936, 2.6934, 2.6932, 2.6924, 2.6919, 2.7444, 2.7443, 2.7442, 2.7442, 2.744, 2.744, 2.7439, 2.7439, 2.7439, 2.7439, 2.7438, 2.7438, 2.7438, 2.7436, 2.7436, 2.7436, 2.7436, 2.7436, 2.7435, 2.7433, 2.7432, 2.743, 2.7429, 2.7429, 2.7429, 2.7423, 2.7422, 2.7418, 2.7418, 2.7409, 2.7598, 2.7597, 2.7595, 2.7592, 2.7592, 2.7592, 2.759, 2.759, 2.759, 2.7589, 2.7589, 2.7589, 2.7588, 2.7588, 2.7587, 2.7587, 2.7586, 2.7583, 2.7583, 2.7582, 2.758, 2.7579, 2.7576, 2.7574, 2.7574, 2.757, 2.757, 2.7567, 2.7566, 2.7563, 2.7614, 2.7614, 2.7613, 2.7612, 2.7611, 2.7611, 2.761, 2.7608, 2.7608, 2.7608, 2.7607, 2.7607, 2.7606, 2.7606, 2.7606, 2.7605, 2.7605, 2.7604, 2.7604, 2.7601, 2.76, 2.76, 2.7599, 2.7599, 2.7598, 2.7598, 2.7598, 2.7594, 2.7593, 2.7592, 2.8209, 2.8208, 2.8208, 2.8206, 2.8206, 2.8206, 2.8206, 2.8206, 2.8205, 2.8205, 2.8205, 2.8204, 2.8203, 2.8202, 2.8202, 2.8202, 2.82, 2.8199, 2.8198, 2.8198, 2.8197, 2.8196, 2.8196, 2.8195, 2.8194, 2.8194, 2.8193, 2.8192, 2.819, 2.819, 2.8497, 2.8496, 2.8495, 2.8495, 2.8495, 2.8494, 2.8494, 2.8494, 2.8493, 2.8493, 2.8492, 2.8491, 2.849, 2.849, 2.849, 2.849, 2.8489, 2.8489, 2.8489, 2.8488, 2.8487, 2.8487, 2.8487, 2.8486, 2.8486, 2.8485, 2.8484, 2.8484, 2.8484, 2.8483, 2.8556, 2.8556, 2.8555, 2.8554, 2.8554, 2.8554, 2.8554, 2.8553, 2.8551, 2.855, 2.855, 2.855, 2.8548, 2.8548, 2.8548, 2.8547, 2.8545, 2.8543, 2.8543, 2.8542, 2.8541, 2.8541, 2.8537, 2.8537, 2.8536, 2.8535, 2.8533, 2.8531, 2.853, 2.8529, 2.8919, 2.8917, 2.8917, 2.8917, 2.8914, 2.8914, 2.8914, 2.8913, 2.8913, 2.8912, 2.8911, 2.8911, 2.8909, 2.8907, 2.8907, 2.8906, 2.8905, 2.8905, 2.8905, 2.8905, 2.8903, 2.89, 2.8898, 2.8897, 2.8894, 2.8893, 2.8893, 2.889, 2.8885, 2.8884, 2.934, 2.934, 2.9339, 2.9336, 2.9336, 2.9335, 2.9333, 2.9333, 2.9332, 2.9331, 2.9329, 2.9328, 2.9328, 2.9326, 2.9326, 2.9324, 2.9323, 2.9319, 2.9318, 2.9312, 2.9308, 2.9297, 2.9295, 2.9293, 2.927, 2.9233, 2.9214, 2.9212, 2.9204, 2.9163]}, \"token.table\": {\"Topic\": [3, 8, 2, 13, 10, 15, 15, 10, 2, 5, 15, 8, 1, 13, 3, 10, 6, 9, 11, 8, 5, 11, 1, 15, 15, 2, 12, 13, 2, 9, 5, 9, 14, 8, 7, 15, 9, 14, 11, 6, 13, 3, 10, 12, 13, 4, 6, 5, 1, 6, 11, 15, 1, 12, 12, 12, 14, 5, 2, 3, 7, 7, 11, 8, 7, 11, 10, 7, 12, 4, 9, 15, 3, 4, 4, 13, 15, 11, 4, 6, 10, 10, 6, 4, 15, 15, 12, 1, 12, 5, 5, 14, 10, 11, 7, 13, 7, 15, 4, 14, 12, 8, 15, 11, 8, 8, 8, 9, 12, 11, 5, 1, 11, 12, 9, 6, 2, 10, 3, 13, 15, 10, 9, 5, 5, 10, 13, 14, 4, 14, 13, 13, 9, 3, 1, 3, 9, 2, 13, 2, 15, 2, 8, 8, 10, 3, 2, 10, 15, 13, 2, 12, 8, 14, 6, 1, 10, 6, 3, 5, 9, 5, 10, 11, 8, 4, 8, 8, 2, 2, 7, 1, 11, 8, 13, 1, 1, 5, 2, 12, 1, 14, 4, 3, 1, 13, 4, 4, 7, 5, 1, 3, 3, 11, 4, 2, 13, 3, 6, 1, 3, 7, 11, 7, 11, 13, 13, 10, 2, 12, 1, 6, 12, 13, 15, 1, 1, 12, 12, 5, 6, 15, 4, 9, 11, 14, 4, 14, 3, 5, 14, 8, 13, 13, 7, 14, 8, 3, 4, 5, 15, 7, 11, 7, 6, 10, 14, 10, 10, 7, 14, 7, 9, 15, 7, 8, 6, 8, 4, 6, 13, 3, 9, 4, 14, 1, 10, 6, 6, 5, 14, 8, 6, 9, 2, 1, 5, 3, 14, 13, 11, 15, 11, 14, 2, 7, 15, 15, 12, 11, 5, 4, 13, 8, 8, 6, 1, 2, 12, 14, 9, 14, 6, 2, 6, 4, 1, 13, 14, 11, 10, 14, 7, 2, 7, 9, 6, 13, 12, 6, 12, 8, 13, 12, 4, 3, 5, 14, 1, 15, 11, 1, 3, 8, 10, 11, 15, 5, 9, 6, 9, 2, 4, 14, 15, 11, 3, 12, 7, 7, 1, 4, 6, 7, 7, 6, 14, 12, 3, 15, 13, 12, 4, 15, 6, 14, 5, 1, 5, 2, 15, 1, 1, 10, 3, 10, 9, 14, 3, 8, 5, 1, 11, 10, 4, 8, 4, 9, 4, 9, 11, 10, 7, 3, 2, 9, 7, 2, 10, 11, 14, 12, 9, 9, 7, 4, 9, 2, 12, 6, 13, 1, 5, 12, 5, 12, 3, 11, 14, 15, 5, 3, 10, 3, 2, 7, 8, 3, 12, 4, 9, 10, 9, 10, 6, 6, 2, 4, 8, 13, 7, 9, 11, 5, 9, 5, 7, 8, 2, 2], \"Freq\": [0.9995430330524144, 0.9956077380382791, 0.999960716876086, 0.9986958540930508, 0.9991970191377835, 0.9776834011381375, 0.9978042210408994, 0.998747445454633, 0.9979096249451966, 0.9983034346712061, 0.9988681172911948, 0.9979772591642246, 0.999339357998854, 0.9981368463255205, 0.9998398938438021, 0.9996239019262207, 0.999579940223865, 0.9992337883316355, 0.9997609027391773, 0.999396328928169, 0.9985834714735816, 0.999242398327708, 0.9986512900627004, 0.999858290914134, 0.999599090379478, 0.9991192418735746, 0.9987118799813309, 0.9990746654545564, 0.9974109301732831, 0.9989256695152487, 0.9984344922299048, 0.9986844175664622, 0.9968429105605788, 0.9999302610505244, 0.9984200326228724, 0.9994708556273746, 0.9988565872600909, 0.9982912346556286, 0.9995397310426996, 0.9984069707538837, 0.997076120533291, 0.9982674729173858, 0.9998121634309187, 0.9990835834305579, 0.9998316979875215, 0.9992484905390091, 0.9995814285208547, 0.9988170973240026, 0.999951702185417, 0.9994137785368011, 0.9996665163909857, 0.9963508252068337, 0.9992542644509923, 0.9988280600434672, 0.9987815801417274, 0.9992757994150259, 0.9974247293890396, 0.9991929347791813, 0.9997796532360478, 0.999649307881837, 0.999644646784893, 0.9973407490769528, 0.9982976753196847, 0.9994639332445888, 0.9983799038017221, 0.997864895058696, 0.9991240249808135, 0.9981460249342249, 0.9992100686794455, 0.9991220347321349, 0.9992274927927379, 0.9984424589803431, 0.9994054174050907, 0.9982823240899692, 0.9990556886478154, 0.9978363267954865, 0.98625458095296, 0.9998162657668338, 0.9995186521913032, 0.9998789207029645, 0.9993527765138391, 0.9980466904953559, 0.9978620475184897, 0.9989918778070113, 0.9956296164625186, 0.9905098540408267, 0.9991557713453457, 0.999286358590321, 0.9997654702943225, 0.9991822745527591, 0.9986777214987237, 0.9967812643706413, 0.9996780774712216, 0.9996561473108749, 0.9993352995846644, 0.9991657730105868, 0.9991735720191222, 0.9999133888601549, 0.9995788948672641, 0.9997221454837014, 0.9995169877466168, 0.998101566483571, 0.9943218180789469, 0.9984844959534036, 0.9998013507140939, 0.9993143745601352, 0.998257448633679, 0.9985944072525976, 0.9994646401184077, 0.9995169196333421, 0.9998286370125565, 0.9985311842808203, 0.9994086564076197, 0.9986180448036134, 0.9981337054989158, 0.9974587682929851, 0.9994477473018778, 0.9998871737364038, 0.9992549318035645, 0.9976768679548322, 0.9989444316060385, 0.9980927825932895, 0.9990114376236038, 0.9996971664789789, 0.9984087106747929, 0.9975308329330398, 0.9981106721111581, 0.9980673423271913, 0.9985297712721816, 0.999220724059265, 0.9990428236132095, 0.9993579605359298, 0.9978136667243649, 0.9995853864918627, 0.9993867083260294, 0.9988334858099583, 0.9987966498003952, 0.9983880604611752, 0.998072499502403, 0.9991324477465906, 0.9981295475007521, 0.9979415440619017, 0.9989741226246167, 0.9983911146806176, 0.9991222735159022, 0.9994695622309909, 0.9985156098481394, 0.9988871300581404, 0.9991383034710962, 0.9997773855987026, 0.9964069782841355, 0.998351458620543, 0.9980265123356429, 0.9990482750952413, 0.9981555602500777, 0.9981705969857902, 0.9994484562534162, 0.9983856095526028, 0.9991277462429553, 0.9986602924522455, 0.9990732686538347, 0.9988637249684218, 0.9986825332426559, 0.999205342065866, 0.9990976788388002, 0.9995859166582434, 0.9998412091386725, 0.9985572766935462, 0.9968181272504368, 0.9978462103916023, 0.9993935737555271, 0.9989260194221437, 0.9984403770756215, 0.9997435426091402, 0.9974046880011564, 0.99833465478389, 0.9992114477637036, 0.999359744034891, 0.9977441911989324, 0.9994632383542621, 0.9988885789781657, 0.9972436460224136, 0.9993275110861349, 0.998809848050063, 0.9998963192551602, 0.9983113822893787, 0.9990202170920043, 0.9990641601710573, 0.9993099774086469, 0.9991659138558286, 0.9992144617458395, 0.9988410602932521, 0.9976960821928288, 0.9994822606752595, 0.9996500056320391, 0.9979121224516212, 0.9987840199753341, 0.999611732988751, 0.9990037253573826, 0.9983693497580588, 0.9991564220676397, 0.9993135808572535, 0.9996502841307362, 0.9996008127714409, 0.9990473311609539, 0.9995786218772744, 0.9981022284306399, 0.9988925625650624, 0.9991903067783494, 0.9994737933941866, 0.9989705868159594, 0.99959653959085, 0.998687610446551, 0.9996609420192657, 0.998948498339555, 0.9980533409057677, 0.999253055151664, 0.9995694404533458, 0.9982032739963239, 0.9995040489882562, 0.9994340273253751, 0.9991095668067347, 0.9994483119517859, 0.9975247505626286, 0.9983656149030226, 0.9981313058160334, 0.99848759849961, 0.998344915194596, 0.9980106834607966, 0.9985353791001279, 0.998446910845012, 0.9977748156560949, 0.9995306075294154, 0.9964170885815948, 0.9979448744644618, 0.9998873431827133, 0.9994800816879116, 0.99906470454503, 0.9992719166233538, 0.9994153792129353, 0.9988690306743495, 0.9994585652574, 0.9987105662255426, 0.9991774971136574, 0.9993704559331884, 0.9997762653808244, 0.9967947744027713, 0.9987119975014643, 0.9991954493545888, 0.9983263641889504, 0.9996424481477839, 0.9995671181838973, 0.998835788932415, 0.9982599112926306, 0.9952891691778952, 0.9986545567124119, 0.9970192800763599, 0.9989839886156409, 0.9992122895076858, 0.9997916567969748, 0.9996741603599042, 0.9990820253882001, 0.998670767104545, 0.9991303266327894, 0.9986158117244466, 0.9991726930486103, 0.9991739533195287, 0.9989019183472466, 0.9991889920923519, 0.9995195622502937, 0.9987732273184774, 0.9995154778455705, 0.9987862812999153, 0.9974585929013131, 0.9976002782831053, 0.9993167100036694, 0.9994666520530882, 0.9996290711571922, 0.9984387427467619, 0.9989743911181841, 0.9983389812117053, 0.9998375345229861, 0.9989702738024118, 0.9992574187510681, 0.9976280560061142, 0.9972609141422849, 0.9983820370143037, 0.9836656544030228, 0.999034582421939, 0.9994885176769714, 0.9993493901818365, 0.9988837214265631, 0.9973030322570694, 0.9991726970429291, 0.997275504382488, 0.9992370439816008, 0.997429952238056, 0.9991365363067359, 0.9989427736240061, 0.9995862206055421, 0.9998605071304507, 0.9984562726321924, 0.9988794017441903, 0.9966164114491455, 0.998547508466181, 0.999414884527436, 0.9976298354852468, 0.9997438775740987, 0.9995384229814027, 0.9994151884119564, 0.9992842698793349, 0.9991172398525798, 0.9988037613342713, 0.9991440330933425, 0.9993366687551641, 0.9971469313033547, 0.9984780763653196, 0.99928375051104, 0.9989398852984956, 0.9976992682478432, 0.9987820993185538, 0.9993624326462958, 0.9990847768764352, 0.9990510668106551, 0.9997190281843994, 0.9998483204624532, 0.9987576962286405, 0.9996380328976836, 0.9998883913900193, 0.9950633557681855, 0.9987945801189266, 0.9988779822800857, 0.9978395900027399, 0.9992732443170838, 0.9990795432492794, 0.9984092286064269, 0.9891716119809739, 0.9989167115288591, 0.9997147314964336, 0.9987553779153868, 0.9994324551342227, 0.9979144299511536, 0.9997472119385749, 0.9991769087010612, 0.9987471144930719, 0.9996290752872116, 0.9997846537296282, 0.9994035935910948, 0.9979089631298721, 0.9989302507953093, 0.9991804969269162, 0.9990893877073374, 0.9975726500091469, 0.9965041518808089, 0.9974013383873177, 0.999810215603932, 0.999408718302363, 0.9983680863764605, 0.999388199653891, 0.9972628037597614, 0.9996116526340284, 0.9984812139058411, 0.9987168260980989, 0.9917273028912867, 0.9993758482564412, 0.9995848655893151, 0.999696284563003, 0.9991197377622394, 0.99888067536493, 0.9996607211680903, 0.9969260584433988, 0.998552328721937, 0.9994450486603798, 0.9981258409281762, 0.9990618226375316, 0.9981756147996504, 0.9973209958806664, 0.9990209644138042, 0.9981465059042585, 0.9993322870065731, 0.9989392264759492, 0.9977431834831643, 0.9990621670781905, 0.9982170142805957, 0.9995040804267648, 0.9993575882099138, 0.9996820728587573, 0.9970584108242254, 0.9994836719175701, 0.9981392536257662, 0.9990229449466603, 0.9983407676014441, 0.9983758532747973, 0.9988226080957688, 0.9960379864309574, 0.9988385878583751, 0.9987949369522348, 0.9972818147105895, 0.9988505121962467, 0.999390094881016, 0.9965208786682405, 0.9992004908995259, 0.9993364309695231, 0.9993901556125521, 0.9992188640678064, 0.9991932062371817, 0.9993844702374827, 0.9994048788121165, 0.999518790430786, 0.9972738997958912, 0.9990908346961224, 0.9975252327395727, 0.9996919649370328, 0.9992780420201686, 0.9985496989403706, 0.9992246455055808, 0.9997350060611796, 0.9985870212231414, 0.9988933558832462, 0.9995567433553849, 0.9986883426960148, 0.9991483661397363, 0.9994370798312069, 0.9991361595708399, 0.9992664155988547, 0.9951410448031379, 0.9993911324601211, 0.9993747841434826, 0.9994416632822147, 0.9998189177522998, 0.9999290813075749, 0.9996789797033024, 0.999430483277572, 0.9979230884932169, 0.9989565413980434, 0.9996706149964246, 0.998637658917512, 0.9998076905557614, 0.9995141658714941, 0.9981865419152586, 0.9991498092816516, 0.9991563667043104, 0.998449907965018, 0.9998180384713921, 0.9980112103532046, 0.9994138881783123, 0.9999589803085189, 0.9983657028554203, 0.9980151980050345, 0.9982487116529133], \"Term\": [\"amp\", \"follow\", \"http\", \"https\", \"\\u0430\\u0433\\u0430\", \"\\u0430\\u043a\\u043a\", \"\\u0430\\u043d\\u0433\\u043b\\u0438\\u0439\\u0441\\u043a\\u0438\\u0439\", \"\\u0430\\u0445\\u0430\\u0445\", \"\\u0430\\u0445\\u0430\\u0445\\u0438\", \"\\u0430\\u0445\\u0438\", \"\\u0431\\u0430\\u0431\\u0443\\u0448\\u043a\\u0430\", \"\\u0431\\u0435\\u0434\\u043d\\u044b\\u0439\", \"\\u0431\\u0435\\u0441\\u0438\\u0442\\u044c\", \"\\u0431\\u043b\\u0438\\u0437\\u043a\\u0438\\u0439\", \"\\u0431\\u043b\\u0438\\u043d\", \"\\u0431\\u043b\\u044f\", \"\\u0431\\u043b\\u044f\\u0434\\u044c\", \"\\u0431\\u043e\\u0433\", \"\\u0431\\u043e\\u043b\\u0435\\u0442\\u044c\", \"\\u0431\\u043e\\u043b\\u044c\", \"\\u0431\\u043e\\u043b\\u044c\\u043d\\u0438\\u0446\\u0430\", \"\\u0431\\u043e\\u043b\\u044c\\u043d\\u043e\", \"\\u0431\\u043e\\u043b\\u044c\\u0448\\u0438\\u0439\", \"\\u0431\\u043e\\u043b\\u044c\\u0448\\u043e\\u0439\", \"\\u0431\\u043e\\u044f\\u0442\\u044c\\u0441\\u044f\", \"\\u0431\\u0440\\u0430\\u0442\", \"\\u0431\\u044b\\u0432\\u0430\\u0442\\u044c\", \"\\u0431\\u044b\\u0441\\u0442\\u0440\\u043e\", \"\\u0431\\u044b\\u0441\\u0442\\u0440\\u044b\\u0439\", \"\\u0432\\u0430\\u0448\", \"\\u0432\\u0435\\u0440\\u0438\\u0442\\u044c\", \"\\u0432\\u0435\\u0440\\u043d\\u0443\\u0442\\u044c\\u0441\\u044f\", \"\\u0432\\u0435\\u0441\\u0435\\u043b\\u043e\", \"\\u0432\\u0435\\u0441\\u044c\", \"\\u0432\\u0435\\u0441\\u0451\\u043b\\u044b\\u0439\", \"\\u0432\\u0435\\u0447\\u0435\\u0440\", \"\\u0432\\u0437\\u044f\\u0442\\u044c\", \"\\u0432\\u0438\\u0434\\u0435\\u043e\", \"\\u0432\\u0438\\u0434\\u0435\\u0442\\u044c\", \"\\u0432\\u043c\\u0435\\u0441\\u0442\\u0435\", \"\\u0432\\u043e\\u0437\\u0440\\u0430\\u0441\\u0442\", \"\\u0432\\u043e\\u043a\\u0440\\u0443\\u0433\", \"\\u0432\\u043e\\u043e\\u0431\\u0449\\u0435\", \"\\u0432\\u043e\\u043f\\u0440\\u043e\\u0441\", \"\\u0432\\u0440\\u0435\\u043c\\u044f\", \"\\u0432\\u0440\\u043e\\u0434\\u0435\", \"\\u0432\\u0441\\u0442\\u0430\\u0432\\u0430\\u0442\\u044c\", \"\\u0432\\u0441\\u0442\\u0430\\u0442\\u044c\", \"\\u0432\\u0441\\u0451\", \"\\u0432\\u0442\\u043e\\u0440\\u043e\\u0439\", \"\\u0432\\u0447\\u0435\\u0440\\u0430\", \"\\u0432\\u044b\\u0437\\u0434\\u043e\\u0440\\u0430\\u0432\\u043b\\u0438\\u0432\\u0430\\u0442\\u044c\", \"\\u0432\\u044b\\u0439\\u0442\\u0438\", \"\\u0432\\u044b\\u0441\\u043f\\u0430\\u0442\\u044c\\u0441\\u044f\", \"\\u0432\\u044b\\u0445\\u043e\\u0434\\u0438\\u0442\\u044c\", \"\\u0432\\u044b\\u0445\\u043e\\u0434\\u043d\\u043e\\u0439\", \"\\u0433\\u043b\\u0430\\u0432\\u043d\\u043e\\u0435\", \"\\u0433\\u043b\\u0430\\u0437\", \"\\u0433\\u043e\\u0432\\u043e\\u0440\\u0438\\u0442\\u044c\", \"\\u0433\\u043e\\u0434\", \"\\u0433\\u043e\\u043b\\u043e\\u0432\\u0430\", \"\\u0433\\u043e\\u043b\\u043e\\u0441\", \"\\u0433\\u043e\\u0440\\u043b\\u043e\", \"\\u0433\\u043e\\u0440\\u043e\\u0434\", \"\\u0433\\u043e\\u0442\\u043e\\u0432\\u044b\\u0439\", \"\\u0433\\u0440\\u0443\\u043f\\u043f\\u0430\", \"\\u0433\\u0440\\u0443\\u0441\\u0442\\u043d\\u043e\", \"\\u0433\\u0440\\u0443\\u0441\\u0442\\u043d\\u044b\\u0439\", \"\\u0433\\u0443\\u043b\\u044f\\u0442\\u044c\", \"\\u0434\\u0430\\u0432\\u0430\\u0442\\u044c\", \"\\u0434\\u0430\\u0432\\u043d\\u043e\", \"\\u0434\\u0430\\u043b\\u0451\\u043a\\u0438\\u0439\", \"\\u0434\\u0430\\u0442\\u044c\", \"\\u0434\\u0435\\u0432\\u043e\\u0447\\u043a\\u0430\", \"\\u0434\\u0435\\u0432\\u0443\\u0448\\u043a\\u0430\", \"\\u0434\\u0435\\u0439\\u0441\\u0442\\u0432\\u0438\\u0442\\u0435\\u043b\\u044c\\u043d\\u043e\", \"\\u0434\\u0435\\u043a\\u0430\\u0431\\u0440\\u044c\", \"\\u0434\\u0435\\u043b\\u0430\\u0442\\u044c\", \"\\u0434\\u0435\\u043b\\u043e\", \"\\u0434\\u0435\\u043d\\u044c\", \"\\u0434\\u0435\\u043d\\u044c\\u0433\\u0430\", \"\\u0434\\u0435\\u0442\\u0441\\u0442\\u0432\\u043e\", \"\\u0434\\u043e\\u0431\\u0440\\u043e\", \"\\u0434\\u043e\\u0431\\u0440\\u044b\\u0439\", \"\\u0434\\u043e\\u0436\\u0434\\u0430\\u0442\\u044c\\u0441\\u044f\", \"\\u0434\\u043e\\u0436\\u0438\\u0442\\u044c\", \"\\u0434\\u043e\\u043b\\u0433\\u043e\", \"\\u0434\\u043e\\u043b\\u0436\\u043d\\u044b\\u0439\", \"\\u0434\\u043e\\u043c\", \"\\u0434\\u043e\\u043c\\u043e\\u0439\", \"\\u0434\\u043e\\u0440\\u043e\\u0433\\u0430\", \"\\u0434\\u043e\\u0440\\u043e\\u0433\\u043e\\u0439\", \"\\u0434\\u0440\\u0443\\u0433\", \"\\u0434\\u0443\\u043c\\u0430\\u0442\\u044c\", \"\\u0434\\u0443\\u0448\\u0430\", \"\\u0435\\u0434\\u0430\", \"\\u0435\\u0445\\u0430\\u0442\\u044c\", \"\\u0435\\u0449\\u0451\", \"\\u0436\\u0430\\u043b\\u043a\\u043e\", \"\\u0436\\u0430\\u043b\\u044c\", \"\\u0436\\u0434\\u0430\\u0442\\u044c\", \"\\u0436\\u0435\\u043d\\u0449\\u0438\\u043d\\u0430\", \"\\u0436\\u0438\\u0432\\u043e\\u0439\", \"\\u0436\\u0438\\u0432\\u043e\\u0442\", \"\\u0436\\u0438\\u0437\\u043d\\u044c\", \"\\u0436\\u0438\\u0442\\u044c\", \"\\u0436\\u043e\\u043f\\u0430\", \"\\u0436\\u0440\\u0430\\u0442\\u044c\", \"\\u0437\\u0430\\u0431\\u043e\\u043b\\u0435\\u0442\\u044c\", \"\\u0437\\u0430\\u0431\\u044b\\u0442\\u044c\", \"\\u0437\\u0430\\u0432\\u0442\\u0440\\u0430\", \"\\u0437\\u0430\\u0439\\u0442\\u0438\", \"\\u0437\\u0430\\u043a\\u043e\\u043d\\u0447\\u0438\\u0442\\u044c\\u0441\\u044f\", \"\\u0437\\u0430\\u0442\\u043e\", \"\\u0437\\u0430\\u0445\\u043e\\u0434\\u0438\\u0442\\u044c\", \"\\u0437\\u0434\\u043e\\u0440\\u043e\\u0432\\u044c\\u0435\", \"\\u0437\\u0438\\u043c\\u0430\", \"\\u0437\\u043d\\u0430\\u0442\\u044c\", \"\\u0437\\u043d\\u0430\\u0447\\u0438\\u0442\", \"\\u0437\\u0440\\u044f\", \"\\u0438\\u0431\\u043e\", \"\\u0438\\u0433\\u0440\\u0430\", \"\\u0438\\u0433\\u0440\\u0430\\u0442\\u044c\", \"\\u0438\\u0434\\u0442\\u0438\", \"\\u0438\\u043c\\u0435\\u043d\\u043d\\u043e\", \"\\u0438\\u043c\\u0435\\u0442\\u044c\", \"\\u0438\\u043c\\u044f\", \"\\u0438\\u043d\\u0442\\u0435\\u0440\\u0435\\u0441\\u043d\\u043e\", \"\\u0438\\u043d\\u0442\\u0435\\u0440\\u0435\\u0441\\u043d\\u044b\\u0439\", \"\\u0438\\u043d\\u0442\\u0435\\u0440\\u043d\\u0435\\u0442\", \"\\u0438\\u0441\\u043a\\u0430\\u0442\\u044c\", \"\\u0438\\u0441\\u0442\\u043e\\u0440\\u0438\\u044f\", \"\\u0438\\u0442\\u043e\\u0433\", \"\\u043a\\u0430\\u0436\\u0434\\u044b\\u0439\", \"\\u043a\\u0430\\u0437\\u0430\\u0442\\u044c\\u0441\\u044f\", \"\\u043a\\u0430\\u043d\\u0438\\u043a\\u0443\\u043b\\u044b\", \"\\u043a\\u0430\\u043f\\u0435\\u0446\", \"\\u043a\\u0430\\u0440\\u0442\\u0438\\u043d\\u043a\\u0430\", \"\\u043a\\u0432\\u0430\\u0440\\u0442\\u0438\\u0440\\u0430\", \"\\u043a\\u0438\\u0435\\u0432\", \"\\u043a\\u0438\\u043d\\u043e\", \"\\u043a\\u0438\\u043d\\u0443\\u0442\\u044c\", \"\\u043a\\u043b\\u0430\\u0441\\u0441\", \"\\u043a\\u043b\\u0430\\u0441\\u0441\\u043d\\u044b\\u0439\", \"\\u043a\\u043d\\u0438\\u0433\\u0430\", \"\\u043a\\u043e\\u043d\\u0435\\u0446\", \"\\u043a\\u043e\\u043d\\u0446\\u0435\\u0440\\u0442\", \"\\u043a\\u043e\\u0440\\u043e\\u0447\\u0435\", \"\\u043a\\u043e\\u0442\", \"\\u043a\\u043e\\u0442\\u043e\\u0440\\u044b\\u0439\", \"\\u043a\\u043e\\u0442\\u0451\\u043d\\u043e\\u043a\", \"\\u043a\\u0440\\u0430\\u0441\\u0438\\u0432\\u044b\\u0439\", \"\\u043a\\u0440\\u043e\\u043c\\u0435\", \"\\u043a\\u0440\\u0443\\u0442\\u043e\", \"\\u043a\\u0440\\u0443\\u0442\\u043e\\u0439\", \"\\u043a\\u0441\\u0442\\u0430\\u0442\\u0438\", \"\\u043a\\u0443\\u043f\\u0438\\u0442\\u044c\", \"\\u043b\\u0430\\u0434\\u043d\\u044b\\u0439\", \"\\u043b\\u0435\\u043d\\u0442\\u0430\", \"\\u043b\\u0435\\u043d\\u044c\", \"\\u043b\\u0435\\u0442\\u043e\", \"\\u043b\\u0435\\u0447\\u044c\", \"\\u043b\\u0438\\u0431\\u043e\", \"\\u043b\\u0438\\u0446\\u043e\", \"\\u043b\\u0438\\u0448\\u044c\", \"\\u043b\\u044e\\u0431\\u0438\\u043c\\u044b\\u0439\", \"\\u043b\\u044e\\u0431\\u0438\\u0442\\u044c\", \"\\u043b\\u044e\\u0431\\u043e\\u0432\\u044c\", \"\\u043b\\u044e\\u0431\\u043e\\u0439\", \"\\u043c\\u0430\\u0439\\u0434\\u0430\\u043d\", \"\\u043c\\u0430\\u043b\\u0435\\u043d\\u044c\\u043a\\u0438\\u0439\", \"\\u043c\\u0430\\u043b\\u043e\", \"\\u043c\\u0430\\u043b\\u044c\\u0447\\u0438\\u043a\", \"\\u043c\\u0430\\u043c\\u0430\", \"\\u043c\\u0430\\u0442\\u0447\", \"\\u043c\\u0430\\u0448\\u0438\\u043d\\u0430\", \"\\u043c\\u0435\\u0441\\u0442\\u043e\", \"\\u043c\\u0435\\u0441\\u044f\\u0446\", \"\\u043c\\u0435\\u0442\\u0440\\u043e\", \"\\u043c\\u0438\\u043d\\u0443\\u0442\\u0430\", \"\\u043c\\u0438\\u0440\", \"\\u043c\\u043e\\u043b\\u043e\\u0434\\u0435\\u0446\", \"\\u043c\\u043e\\u043c\\u0435\\u043d\\u0442\", \"\\u043c\\u043e\\u0440\\u043e\\u0437\", \"\\u043c\\u043e\\u0447\\u044c\", \"\\u043c\\u0443\\u0436\\u0438\\u043a\", \"\\u043c\\u0443\\u0437\\u044b\\u043a\\u0430\", \"\\u043c\\u044b\\u0441\\u043b\\u044c\", \"\\u043d\\u0430\\u0432\\u0435\\u0440\\u043d\\u043e\\u0435\", \"\\u043d\\u0430\\u0434\\u0435\\u044f\\u0442\\u044c\\u0441\\u044f\", \"\\u043d\\u0430\\u0434\\u043e\\u0435\\u0441\\u0442\\u044c\", \"\\u043d\\u0430\\u0437\\u0430\\u0434\", \"\\u043d\\u0430\\u0437\\u044b\\u0432\\u0430\\u0442\\u044c\\u0441\\u044f\", \"\\u043d\\u0430\\u0439\\u0442\\u0438\", \"\\u043d\\u0430\\u043f\\u0438\\u0441\\u0430\\u0442\\u044c\", \"\\u043d\\u0430\\u0440\\u043e\\u0434\", \"\\u043d\\u0430\\u0441\\u0442\\u043e\\u044f\\u0449\\u0438\\u0439\", \"\\u043d\\u0430\\u0441\\u0442\\u0440\\u043e\\u0435\\u043d\\u0438\\u0435\", \"\\u043d\\u0430\\u0447\\u0430\\u043b\\u043e\", \"\\u043d\\u0430\\u0447\\u0430\\u0442\\u044c\", \"\\u043d\\u0430\\u0447\\u0430\\u0442\\u044c\\u0441\\u044f\", \"\\u043d\\u0430\\u0447\\u0438\\u043d\\u0430\\u0442\\u044c\", \"\\u043d\\u0430\\u0448\", \"\\u043d\\u0435\\u0434\\u0435\\u043b\\u044f\", \"\\u043d\\u0435\\u043c\\u043d\\u043e\\u0433\\u043e\", \"\\u043d\\u0435\\u043d\\u0430\\u0432\\u0438\\u0434\\u0435\\u0442\\u044c\", \"\\u043d\\u0435\\u0441\\u043a\\u043e\\u043b\\u044c\\u043a\\u043e\", \"\\u043d\\u0435\\u0442\\u0443\", \"\\u043d\\u0435\\u0447\\u0435\\u0433\\u043e\", \"\\u043d\\u0438\\u0431\\u044b\\u0442\\u044c\", \"\\u043d\\u0438\\u043a\\u0430\\u043a\", \"\\u043d\\u0438\\u043a\\u0442\\u043e\", \"\\u043d\\u043e\\u0432\\u043e\\u0441\\u0442\\u044c\", \"\\u043d\\u043e\\u0432\\u044b\\u0439\", \"\\u043d\\u043e\\u0433\\u0430\", \"\\u043d\\u043e\\u0440\\u043c\\u0430\", \"\\u043d\\u043e\\u0440\\u043c\\u0430\\u043b\\u044c\\u043d\\u043e\", \"\\u043d\\u043e\\u0447\\u044c\", \"\\u043d\\u043e\\u0447\\u044c\\u044e\", \"\\u043d\\u0440\\u0430\\u0432\\u0438\\u0442\\u044c\\u0441\\u044f\", \"\\u043d\\u0443\\u0436\\u043d\\u043e\", \"\\u043d\\u0443\\u0436\\u043d\\u044b\\u0439\", \"\\u043e\\u0431\\u0438\\u0434\\u043d\\u043e\", \"\\u043e\\u0431\\u0440\\u0430\\u0442\\u043d\\u043e\", \"\\u043e\\u0431\\u0449\\u0430\\u0442\\u044c\\u0441\\u044f\", \"\\u043e\\u0433\\u0440\\u043e\\u043c\\u043d\\u044b\\u0439\", \"\\u043e\\u0434\\u043d\\u043e\\u043a\\u043b\\u0430\\u0441\\u0441\\u043d\\u0438\\u043a\", \"\\u043e\\u043a\\u0430\\u0437\\u0430\\u0442\\u044c\\u0441\\u044f\", \"\\u043e\\u043a\\u043d\\u043e\", \"\\u043e\\u043d\\u043e\", \"\\u043e\\u0441\\u043e\\u0431\\u0435\\u043d\\u043d\\u043e\", \"\\u043e\\u0441\\u0442\\u0430\\u043b\\u044c\\u043d\\u043e\\u0439\", \"\\u043e\\u0441\\u0442\\u0430\\u0442\\u044c\\u0441\\u044f\", \"\\u043e\\u0442\\u043a\\u0440\\u044b\\u0442\\u044c\", \"\\u043e\\u0442\\u043b\\u0438\\u0447\\u043d\\u044b\\u0439\", \"\\u043e\\u0447\\u0435\\u043d\\u044c\", \"\\u043f\\u0430\\u043f\\u0430\", \"\\u043f\\u0430\\u0440\\u0430\", \"\\u043f\\u0430\\u0440\\u0435\\u043d\\u044c\", \"\\u043f\\u0435\\u0440\\u0432\\u044b\\u0439\", \"\\u043f\\u0435\\u0440\\u0435\\u0441\\u0442\\u0430\\u0442\\u044c\", \"\\u043f\\u0435\\u0441\\u043d\\u044f\", \"\\u043f\\u0435\\u0447\\u0430\\u043b\\u044c\", \"\\u043f\\u0435\\u0447\\u0430\\u043b\\u044c\\u043d\\u043e\", \"\\u043f\\u0438\\u0437\\u0434\\u0435\\u0446\", \"\\u043f\\u0438\\u0441\\u0430\\u0442\\u044c\", \"\\u043f\\u0438\\u0441\\u044c\\u043c\\u043e\", \"\\u043f\\u0438\\u0442\\u044c\", \"\\u043f\\u043b\\u0430\\u043a\\u0430\\u0442\\u044c\", \"\\u043f\\u043b\\u0430\\u043d\", \"\\u043f\\u043b\\u043e\\u0445\\u043e\", \"\\u043f\\u043b\\u043e\\u0445\\u043e\\u0439\", \"\\u043f\\u043e\\u0433\\u043e\\u0434\\u0430\", \"\\u043f\\u043e\\u0433\\u0443\\u043b\\u044f\\u0442\\u044c\", \"\\u043f\\u043e\\u0434\\u0430\\u0440\\u043e\\u043a\", \"\\u043f\\u043e\\u0434\\u0440\\u0443\\u0433\\u0430\", \"\\u043f\\u043e\\u0434\\u0440\\u044f\\u0434\", \"\\u043f\\u043e\\u0435\\u0445\\u0430\\u0442\\u044c\", \"\\u043f\\u043e\\u0436\\u0430\\u043b\\u0443\\u0439\\u0441\\u0442\\u0430\", \"\\u043f\\u043e\\u0439\\u0442\\u0438\", \"\\u043f\\u043e\\u043a\\u0430\", \"\\u043f\\u043e\\u043b\", \"\\u043f\\u043e\\u043b\\u043d\\u044b\\u0439\", \"\\u043f\\u043e\\u043b\\u0443\\u0447\\u0430\\u0442\\u044c\\u0441\\u044f\", \"\\u043f\\u043e\\u043b\\u0443\\u0447\\u0438\\u0442\\u044c\", \"\\u043f\\u043e\\u043b\\u0443\\u0447\\u0438\\u0442\\u044c\\u0441\\u044f\", \"\\u043f\\u043e\\u043c\\u043d\\u0438\\u0442\\u044c\", \"\\u043f\\u043e\\u043c\\u043e\\u0447\\u044c\", \"\\u043f\\u043e\\u043d\\u0435\\u0434\\u0435\\u043b\\u044c\\u043d\\u0438\\u043a\", \"\\u043f\\u043e\\u043d\\u0438\\u043c\\u0430\\u0442\\u044c\", \"\\u043f\\u043e\\u043d\\u0440\\u0430\\u0432\\u0438\\u0442\\u044c\\u0441\\u044f\", \"\\u043f\\u043e\\u043d\\u044f\\u0442\\u044c\", \"\\u043f\\u043e\\u043f\\u0430\\u0441\\u0442\\u044c\", \"\\u043f\\u043e\\u043f\\u0440\\u043e\\u0431\\u043e\\u0432\\u0430\\u0442\\u044c\", \"\\u043f\\u043e\\u043f\\u0440\\u043e\\u0441\\u0438\\u0442\\u044c\", \"\\u043f\\u043e\\u0440\\u0430\", \"\\u043f\\u043e\\u0441\\u043b\\u0435\\u0434\\u043d\\u0438\\u0439\", \"\\u043f\\u043e\\u0441\\u043c\\u043e\\u0442\\u0440\\u0435\\u0442\\u044c\", \"\\u043f\\u043e\\u0441\\u0442\\u0430\\u0432\\u0438\\u0442\\u044c\", \"\\u043f\\u043e\\u0445\\u043e\\u0436\\u0435\", \"\\u043f\\u043e\\u0445\\u043e\\u0436\\u0438\\u0439\", \"\\u043f\\u043e\\u0447\\u0435\\u043c\\u0443\", \"\\u043f\\u043e\\u044d\\u0442\\u043e\\u043c\\u0443\", \"\\u043f\\u0440\\u0430\\u0432\\u0434\\u0430\", \"\\u043f\\u0440\\u0435\\u0434\\u0441\\u0442\\u0430\\u0432\\u043b\\u044f\\u0442\\u044c\", \"\\u043f\\u0440\\u0435\\u043a\\u0440\\u0430\\u0441\\u043d\\u044b\\u0439\", \"\\u043f\\u0440\\u0438\\u0432\\u0435\\u0442\", \"\\u043f\\u0440\\u0438\\u0434\\u0443\\u0440\\u043e\\u043a\", \"\\u043f\\u0440\\u0438\\u0435\\u0445\\u0430\\u0442\\u044c\", \"\\u043f\\u0440\\u0438\\u0439\\u0442\\u0438\", \"\\u043f\\u0440\\u0438\\u0439\\u0442\\u0438\\u0441\\u044c\", \"\\u043f\\u0440\\u0438\\u0445\\u043e\\u0434\\u0438\\u0442\\u044c\", \"\\u043f\\u0440\\u043e\\u0431\\u043a\\u0430\", \"\\u043f\\u0440\\u043e\\u0431\\u043b\\u0435\\u043c\\u0430\", \"\\u043f\\u0440\\u043e\\u0432\\u043e\\u0434\\u0438\\u0442\\u044c\", \"\\u043f\\u0440\\u043e\\u0439\\u0442\\u0438\", \"\\u043f\\u0440\\u043e\\u043f\\u0443\\u0441\\u0442\\u0438\\u0442\\u044c\", \"\\u043f\\u0440\\u043e\\u0441\\u0438\\u0442\\u044c\", \"\\u043f\\u0440\\u043e\\u0441\\u043d\\u0443\\u0442\\u044c\\u0441\\u044f\", \"\\u043f\\u0440\\u043e\\u0441\\u0442\\u0438\\u0442\\u044c\", \"\\u043f\\u0440\\u043e\\u0441\\u0442\\u043e\", \"\\u043f\\u0440\\u043e\\u0447\\u0438\\u0442\\u0430\\u0442\\u044c\", \"\\u043f\\u0440\\u044f\\u043c\", \"\\u043f\\u0440\\u044f\\u043c\\u043e\", \"\\u043f\\u0443\\u0441\\u0442\\u044c\", \"\\u043f\\u044b\\u0442\\u0430\\u0442\\u044c\\u0441\\u044f\", \"\\u043f\\u044f\\u0442\\u043d\\u0438\\u0446\\u0430\", \"\\u0440\\u0430\\u0431\\u043e\\u0442\\u0430\", \"\\u0440\\u0430\\u0431\\u043e\\u0442\\u0430\\u0442\\u044c\", \"\\u0440\\u0430\\u0432\\u043d\\u043e\", \"\\u0440\\u0430\\u043d\\u043d\\u0438\\u0439\", \"\\u0440\\u0430\\u043d\\u043e\", \"\\u0440\\u0435\\u0430\\u043b\\u044c\\u043d\\u043e\", \"\\u0440\\u0435\\u0431\\u044f\\u0442\\u0430\", \"\\u0440\\u0435\\u0431\\u0451\\u043d\\u043e\\u043a\", \"\\u0440\\u0435\\u0448\\u0430\\u0442\\u044c\", \"\\u0440\\u0435\\u0448\\u0438\\u0442\\u044c\", \"\\u0440\\u043e\\u0434\\u0438\\u0442\\u0435\\u043b\\u044c\", \"\\u0440\\u043e\\u0434\\u043d\\u044b\\u0439\", \"\\u0440\\u043e\\u0436\\u0434\\u0435\\u043d\\u0438\\u0435\", \"\\u0440\\u043e\\u0441\\u0441\\u0438\\u044f\", \"\\u0440\\u0443\\u043a\\u0430\", \"\\u0440\\u0443\\u0441\\u0441\\u043a\\u0438\\u0439\", \"\\u0440\\u044f\\u0434\\u043e\\u043c\", \"\\u0441\\u0430\\u043c\\u044b\\u0439\", \"\\u0441\\u0432\\u043e\\u0439\", \"\\u0441\\u0434\\u0430\\u0442\\u044c\", \"\\u0441\\u0434\\u0435\\u043b\\u0430\\u0442\\u044c\", \"\\u0441\\u0435\\u0433\\u043e\\u0434\\u043d\\u044f\", \"\\u0441\\u0435\\u0433\\u043e\\u0434\\u043d\\u044f\\u0448\\u043d\\u0438\\u0439\", \"\\u0441\\u0435\\u0437\\u043e\\u043d\", \"\\u0441\\u0435\\u0439\", \"\\u0441\\u0435\\u043c\\u044c\\u044f\", \"\\u0441\\u0435\\u0440\\u0434\\u0446\\u0435\", \"\\u0441\\u0435\\u0440\\u0438\\u0430\\u043b\", \"\\u0441\\u0435\\u0440\\u0438\\u044f\", \"\\u0441\\u0435\\u0440\\u044b\\u0439\", \"\\u0441\\u0435\\u0441\\u0441\\u0438\\u044f\", \"\\u0441\\u0438\\u0434\\u0435\\u0442\\u044c\", \"\\u0441\\u0438\\u043b\\u0430\", \"\\u0441\\u0438\\u043b\\u044c\\u043d\\u043e\", \"\\u0441\\u0438\\u0442\\u0443\\u0430\\u0446\\u0438\\u044f\", \"\\u0441\\u043a\\u0430\\u0437\\u0430\\u0442\\u044c\", \"\\u0441\\u043a\\u043e\\u043b\\u044c\\u043a\\u043e\", \"\\u0441\\u043a\\u043e\\u0440\\u0435\\u0435\", \"\\u0441\\u043a\\u043e\\u0440\\u043e\", \"\\u0441\\u043a\\u0443\\u0447\\u0430\\u0442\\u044c\", \"\\u0441\\u043a\\u0443\\u0447\\u043d\\u043e\", \"\\u0441\\u043b\\u0435\\u0434\\u0443\\u044e\\u0449\\u0438\\u0439\", \"\\u0441\\u043b\\u0438\\u0448\\u043a\\u043e\\u043c\", \"\\u0441\\u043b\\u043e\\u0432\\u043e\", \"\\u0441\\u043b\\u0443\\u0448\\u0430\\u0442\\u044c\", \"\\u0441\\u043b\\u044b\\u0448\\u0430\\u0442\\u044c\", \"\\u0441\\u043c\\u0430\\u0439\\u043b\\u0438\\u043a\", \"\\u0441\\u043c\\u0435\\u0448\\u043d\\u043e\", \"\\u0441\\u043c\\u043e\\u0442\\u0440\\u0435\\u0442\\u044c\", \"\\u0441\\u043c\\u043e\\u0447\\u044c\", \"\\u0441\\u043c\\u044b\\u0441\\u043b\", \"\\u0441\\u043d\\u0435\\u0433\", \"\\u0441\\u043d\\u0438\\u0442\\u044c\\u0441\\u044f\", \"\\u0441\\u043d\\u043e\\u0432\\u0430\", \"\\u0441\\u043e\\u0431\\u0430\\u043a\\u0430\", \"\\u0441\\u043e\\u0431\\u0438\\u0440\\u0430\\u0442\\u044c\\u0441\\u044f\", \"\\u0441\\u043e\\u0437\\u0434\\u0430\\u0442\\u044c\", \"\\u0441\\u043e\\u043d\", \"\\u0441\\u043f\\u0430\\u0441\\u0438\\u0431\\u043e\", \"\\u0441\\u043f\\u0430\\u0442\\u044c\", \"\\u0441\\u0440\\u0430\\u0437\\u0443\", \"\\u0441\\u0442\\u0430\\u0440\\u044b\\u0439\", \"\\u0441\\u0442\\u0430\\u0442\\u044c\", \"\\u0441\\u0442\\u0438\\u0445\", \"\\u0441\\u0442\\u043e\\u0438\\u0442\\u044c\", \"\\u0441\\u0442\\u043e\\u043b\\u044c\\u043a\\u043e\", \"\\u0441\\u0442\\u043e\\u044f\\u0442\\u044c\", \"\\u0441\\u0442\\u0440\\u0430\\u043d\\u0430\", \"\\u0441\\u0442\\u0440\\u0430\\u0448\\u043d\\u043e\", \"\\u0441\\u0442\\u0440\\u0430\\u0448\\u043d\\u044b\\u0439\", \"\\u0441\\u0442\\u044b\\u0434\\u043d\\u043e\", \"\\u0441\\u0443\\u0431\\u0431\\u043e\\u0442\\u0430\", \"\\u0441\\u0443\\u043a\\u0430\", \"\\u0441\\u0445\\u043e\\u0434\\u0438\\u0442\\u044c\", \"\\u0441\\u0447\\u0438\\u0442\\u0430\\u0442\\u044c\", \"\\u0442\\u0430\\u043a\\u0438\", \"\\u0442\\u0432\\u0438\", \"\\u0442\\u0432\\u0438\\u0442\", \"\\u0442\\u0432\\u0438\\u0442\\u0442\\u0435\\u0440\", \"\\u0442\\u0432\\u043e\\u0439\", \"\\u0442\\u0432\\u043e\\u0440\\u0438\\u0442\\u044c\\u0441\\u044f\", \"\\u0442\\u0435\\u043b\\u0435\\u0444\\u043e\\u043d\", \"\\u0442\\u0435\\u043c\\u0430\", \"\\u0442\\u0435\\u043c\\u043f\\u0435\\u0440\\u0430\\u0442\\u0443\\u0440\\u0430\", \"\\u0442\\u0438\\u043f\", \"\\u0442\\u043e\\u0447\\u043d\\u043e\", \"\\u0442\\u0440\\u0435\\u0442\\u0438\\u0439\", \"\\u0442\\u0440\\u0443\\u0434\\u043d\\u043e\", \"\\u0442\\u0443\\u0434\\u0430\", \"\\u0442\\u0443\\u043f\\u043e\\u0439\", \"\\u0442\\u044b\\u0441\\u044f\\u0447\\u0430\", \"\\u0443\\u0431\\u0438\\u0442\\u044c\", \"\\u0443\\u0432\\u0438\\u0434\\u0435\\u0442\\u044c\", \"\\u0443\\u0434\\u043e\\u0431\\u043d\\u043e\", \"\\u0443\\u0435\\u0445\\u0430\\u0442\\u044c\", \"\\u0443\\u0436\\u0430\\u0441\", \"\\u0443\\u0436\\u0430\\u0441\\u043d\\u043e\", \"\\u0443\\u0436\\u0430\\u0441\\u043d\\u044b\\u0439\", \"\\u0443\\u0437\\u043d\\u0430\\u0442\\u044c\", \"\\u0443\\u0439\\u0442\\u0438\", \"\\u0443\\u043a\\u0440\\u0430\\u0438\\u043d\\u0430\", \"\\u0443\\u043b\\u0438\\u0446\\u0430\", \"\\u0443\\u043c\", \"\\u0443\\u043c\\u0435\\u0440\\u0435\\u0442\\u044c\", \"\\u0443\\u043c\\u0438\\u0440\\u0430\\u0442\\u044c\", \"\\u0443\\u0440\\u043e\\u043a\", \"\\u0443\\u0441\\u043d\\u0443\\u0442\\u044c\", \"\\u0443\\u0441\\u043f\\u0435\\u0442\\u044c\", \"\\u0443\\u0441\\u0442\\u0430\\u0442\\u044c\", \"\\u0443\\u0442\\u0440\\u043e\", \"\\u0443\\u0442\\u0440\\u043e\\u043c\", \"\\u0443\\u0445\\u043e\\u0434\\u0438\\u0442\\u044c\", \"\\u0443\\u0447\\u0438\\u0442\\u044c\", \"\\u0443\\u0447\\u0438\\u0442\\u044c\\u0441\\u044f\", \"\\u0443\\u0447\\u0451\\u0431\\u0430\", \"\\u0444\\u0438\\u043b\\u044c\\u043c\", \"\\u0444\\u043e\\u0442\\u043a\\u0430\", \"\\u0444\\u043e\\u0442\\u043e\", \"\\u0445\\u0430\\u0445\", \"\\u0445\\u0432\\u0430\\u0442\\u0430\\u0442\\u044c\", \"\\u0445\\u043e\\u0434\\u0438\\u0442\\u044c\", \"\\u0445\\u043e\\u043b\\u043e\\u0434\\u043d\\u043e\", \"\\u0445\\u043e\\u0440\\u043e\\u0448\\u0438\\u0439\", \"\\u0445\\u043e\\u0442\\u0435\\u0442\\u044c\", \"\\u0445\\u043e\\u0442\\u0435\\u0442\\u044c\\u0441\\u044f\", \"\\u0445\\u043e\\u0442\\u044f\", \"\\u0445\\u0443\\u0439\\u043d\\u044f\", \"\\u0446\\u0435\\u043b\\u044b\\u0439\", \"\\u0447\\u0430\\u0441\", \"\\u0447\\u0430\\u0441\\u0442\\u043e\", \"\\u0447\\u0435\\u043b\\u043e\\u0432\\u0435\\u043a\", \"\\u0447\\u0438\\u0442\\u0430\\u0442\\u044c\", \"\\u0447\\u0443\\u0432\\u0430\\u043a\", \"\\u0447\\u0443\\u0432\\u0441\\u0442\\u0432\\u043e\", \"\\u0447\\u0443\\u0432\\u0441\\u0442\\u0432\\u043e\\u0432\\u0430\\u0442\\u044c\", \"\\u0448\\u0435\\u0440\\u043b\\u043e\\u043a\", \"\\u0448\\u043a\\u043e\\u043b\\u0430\", \"\\u0448\\u043e\\u043a\", \"\\u044d\\u043a\\u0437\\u0430\\u043c\\u0435\\u043d\", \"\\u044d\\u0442\\u043e\", \"\\u044f\\u043d\\u0432\\u0430\\u0440\\u044c\", \"\\u0451\\u043b\\u043a\\u0430\", \"\\u0454\\u0432\\u0440\\u043e\\u043c\\u0430\\u0439\\u0434\\u0430\\u043d\"]}, \"R\": 30, \"lambda.step\": 0.01, \"plot.opts\": {\"xlab\": \"PC1\", \"ylab\": \"PC2\"}, \"topic.order\": [12, 11, 10, 9, 6, 15, 5, 14, 3, 4, 13, 2, 8, 7, 1]};\n",
              "\n",
              "function LDAvis_load_lib(url, callback){\n",
              "  var s = document.createElement('script');\n",
              "  s.src = url;\n",
              "  s.async = true;\n",
              "  s.onreadystatechange = s.onload = callback;\n",
              "  s.onerror = function(){console.warn(\"failed to load library \" + url);};\n",
              "  document.getElementsByTagName(\"head\")[0].appendChild(s);\n",
              "}\n",
              "\n",
              "if(typeof(LDAvis) !== \"undefined\"){\n",
              "   // already loaded: just create the visualization\n",
              "   !function(LDAvis){\n",
              "       new LDAvis(\"#\" + \"ldavis_el11851386401419256488211010530\", ldavis_el11851386401419256488211010530_data);\n",
              "   }(LDAvis);\n",
              "}else if(typeof define === \"function\" && define.amd){\n",
              "   // require.js is available: use it to load d3/LDAvis\n",
              "   require.config({paths: {d3: \"https://d3js.org/d3.v5\"}});\n",
              "   require([\"d3\"], function(d3){\n",
              "      window.d3 = d3;\n",
              "      LDAvis_load_lib(\"https://cdn.jsdelivr.net/gh/bmabey/pyLDAvis@3.4.0/pyLDAvis/js/ldavis.v3.0.0.js\", function(){\n",
              "        new LDAvis(\"#\" + \"ldavis_el11851386401419256488211010530\", ldavis_el11851386401419256488211010530_data);\n",
              "      });\n",
              "    });\n",
              "}else{\n",
              "    // require.js not available: dynamically load d3 & LDAvis\n",
              "    LDAvis_load_lib(\"https://d3js.org/d3.v5.js\", function(){\n",
              "         LDAvis_load_lib(\"https://cdn.jsdelivr.net/gh/bmabey/pyLDAvis@3.4.0/pyLDAvis/js/ldavis.v3.0.0.js\", function(){\n",
              "                 new LDAvis(\"#\" + \"ldavis_el11851386401419256488211010530\", ldavis_el11851386401419256488211010530_data);\n",
              "            })\n",
              "         });\n",
              "}\n",
              "</script>"
            ],
            "text/plain": [
              "<IPython.core.display.HTML object>"
            ]
          },
          "execution_count": 26,
          "metadata": {},
          "output_type": "execute_result"
        }
      ],
      "source": [
        "%%time\n",
        "\n",
        "lda = ldamodel.LdaModel(corpus, id2word=dictionary,\n",
        "                        num_topics=15,\n",
        "                        chunksize=50,\n",
        "                        update_every=1,\n",
        "                        passes=2)\n",
        "vis_data = gensimvis.prepare(lda, corpus, dictionary)\n",
        "pyLDAvis.display(vis_data)"
      ]
    },
    {
      "cell_type": "markdown",
      "metadata": {
        "id": "bAg87d2F9cT3"
      },
      "source": [
        "**Посмотрим на метрики**"
      ]
    },
    {
      "cell_type": "code",
      "execution_count": null,
      "metadata": {
        "colab": {
          "background_save": true
        },
        "id": "XLeWlUak8JM5",
        "outputId": "4081a249-cdb0-446e-9001-35d8d7411420"
      },
      "outputs": [
        {
          "name": "stdout",
          "output_type": "stream",
          "text": [
            "Perplexity:  2.546402054798288e-07\n",
            "Average coherence:  0.23973374244673104\n"
          ]
        }
      ],
      "source": [
        "report_lda()"
      ]
    },
    {
      "cell_type": "markdown",
      "metadata": {
        "id": "s6EAj7zP-Hsc"
      },
      "source": [
        "**Метрики стали получше**"
      ]
    },
    {
      "cell_type": "code",
      "execution_count": null,
      "metadata": {
        "colab": {
          "background_save": true
        },
        "id": "34BXcKQu9tXi",
        "outputId": "f5426641-9e8c-4b1c-f642-8bf33c8b0319"
      },
      "outputs": [
        {
          "data": {
            "text/plain": [
              "15      Default\n",
              "39      Default\n",
              "6       Default\n",
              "24      Default\n",
              "18      Default\n",
              "         ...   \n",
              "2068    Topic15\n",
              "1370    Topic15\n",
              "480     Topic15\n",
              "3670    Topic15\n",
              "9220    Topic15\n",
              "Name: Category, Length: 480, dtype: object"
            ]
          },
          "execution_count": 28,
          "metadata": {},
          "output_type": "execute_result"
        }
      ],
      "source": [
        "vis_data.topic_info.Category"
      ]
    },
    {
      "cell_type": "code",
      "execution_count": null,
      "metadata": {
        "colab": {
          "background_save": true
        },
        "id": "LgS_g1hl8qgr",
        "outputId": "0277b5c0-6224-426b-f881-7a88308897f6"
      },
      "outputs": [
        {
          "data": {
            "text/plain": [
              "array(['Default', 'Topic1', 'Topic2', 'Topic3', 'Topic4', 'Topic5',\n",
              "       'Topic6', 'Topic7', 'Topic8', 'Topic9', 'Topic10', 'Topic11',\n",
              "       'Topic12', 'Topic13', 'Topic14', 'Topic15'], dtype=object)"
            ]
          },
          "execution_count": 29,
          "metadata": {},
          "output_type": "execute_result"
        }
      ],
      "source": [
        "topic_names_list = vis_data.topic_info.Category.unique()\n",
        "\n",
        "topic_names_list"
      ]
    },
    {
      "cell_type": "markdown",
      "metadata": {
        "id": "Ni43lpRvFA7O"
      },
      "source": [
        "**Взглянем на топики**"
      ]
    },
    {
      "cell_type": "code",
      "execution_count": null,
      "metadata": {
        "colab": {
          "background_save": true
        },
        "id": "9jaEvQpr92Re",
        "outputId": "e45905a1-c755-4084-dfd3-000942fb0c63"
      },
      "outputs": [
        {
          "name": "stdout",
          "output_type": "stream",
          "text": [
            "['всё', 'мочь', 'сегодня', 'казаться', 'пора', 'слово', 'получиться', 'столько']\n",
            "['http', 'говорить', 'стать', 'зима', 'киев', 'украина', 'ребята', 'нечего']\n",
            "['блин', 'свой', 'скучать', 'год', 'утро', 'каждый', 'настроение', 'посмотреть']\n",
            "['человек', 'сказать', 'хороший', 'самый', 'твой', 'любимый', 'дело', 'написать']\n",
            "['завтра', 'идти', 'спать', 'школа', 'урок', 'понимать', 'последний', 'первый']\n",
            "['день', 'смотреть', 'пойти', 'час', 'никто', 'нужно', 'второй', 'пиздец']\n",
            "['это', 'неделя', 'голова', 'плохой', 'маленький', 'ужасный', 'чувство', 'наверное']\n",
            "['весь', 'любить', 'жизнь', 'мама', 'читать', 'понять', 'рука', 'жить']\n",
            "['хотеть', 'просто', 'сидеть', 'хотя', 'ужасно', 'бог', 'сильно', 'уйти']\n",
            "['знать', 'вообще', 'писать', 'хотеться', 'друг', 'бля', 'фильм', 'ранний']\n",
            "['делать', 'болеть', 'думать', 'наш', 'скоро', 'вчера', 'прийти', 'забыть']\n",
            "['дом', 'ночь', 'ждать', 'улица', 'холодно', 'нибыть', 'выходной', 'заболеть']\n",
            "['который', 'время', 'работа', 'пока', 'новый', 'остаться', 'снова', 'ненавидеть']\n",
            "['очень', 'жаль', 'плохо', 'сделать', 'простить', 'работать', 'спасибо', 'смочь']\n",
            "['ещё', 'почему', 'большой', 'учить', 'бояться', 'вечер', 'нужный', 'нога']\n"
          ]
        }
      ],
      "source": [
        "for topic_name in topic_names_list[1:]:\n",
        "    print(list(vis_data.topic_info.loc[vis_data.topic_info.Category == topic_name].Term[:8]))"
      ]
    },
    {
      "cell_type": "markdown",
      "metadata": {
        "id": "mChgQwGr-Y14"
      },
      "source": [
        "# Interpretation tweets"
      ]
    },
    {
      "cell_type": "markdown",
      "metadata": {
        "id": "PCU5EbyOyxpf"
      },
      "source": [
        "1. Talking about school;\n",
        "2. Talking about weekend;\n",
        "3. Talking about family;\n",
        "4. Talking about trouble;\n",
        "5. And other."
      ]
    },
    {
      "cell_type": "markdown",
      "metadata": {
        "id": "brBO9VpTFvvu"
      },
      "source": [
        "# BigARTM Library"
      ]
    },
    {
      "cell_type": "markdown",
      "metadata": {
        "id": "0g4tKx-EF6SM"
      },
      "source": [
        "**Установка библиотеки в Google Colab**"
      ]
    },
    {
      "cell_type": "code",
      "execution_count": 45,
      "metadata": {
        "colab": {
          "base_uri": "https://localhost:8080/"
        },
        "id": "3-w8EHlpx4TO",
        "outputId": "a46d54a3-8543-41ce-b3f0-403f5e32a91e"
      },
      "outputs": [
        {
          "output_type": "stream",
          "name": "stdout",
          "text": [
            "Hit:1 https://developer.download.nvidia.com/compute/cuda/repos/ubuntu2204/x86_64  InRelease\n",
            "Hit:2 https://cloud.r-project.org/bin/linux/ubuntu jammy-cran40/ InRelease\n",
            "Hit:3 http://archive.ubuntu.com/ubuntu jammy InRelease\n",
            "Get:4 http://archive.ubuntu.com/ubuntu jammy-updates InRelease [119 kB]\n",
            "Get:5 http://security.ubuntu.com/ubuntu jammy-security InRelease [110 kB]\n",
            "Get:6 http://archive.ubuntu.com/ubuntu jammy-backports InRelease [109 kB]\n",
            "Hit:7 https://ppa.launchpadcontent.net/c2d4u.team/c2d4u4.0+/ubuntu jammy InRelease\n",
            "Hit:8 https://ppa.launchpadcontent.net/deadsnakes/ppa/ubuntu jammy InRelease\n",
            "Hit:9 https://ppa.launchpadcontent.net/graphics-drivers/ppa/ubuntu jammy InRelease\n",
            "Get:10 http://security.ubuntu.com/ubuntu jammy-security/main amd64 Packages [834 kB]\n",
            "Hit:11 https://ppa.launchpadcontent.net/ubuntugis/ppa/ubuntu jammy InRelease\n",
            "Fetched 1,171 kB in 2s (526 kB/s)\n",
            "Reading package lists... Done\n",
            "Reading package lists... Done\n",
            "Building dependency tree... Done\n",
            "Reading state information... Done\n",
            "build-essential is already the newest version (12.9ubuntu3).\n",
            "make is already the newest version (4.3-4.1build1).\n",
            "libboost-all-dev is already the newest version (1.74.0.3ubuntu7).\n",
            "cmake is already the newest version (3.22.1-1ubuntu1.22.04.1).\n",
            "git is already the newest version (1:2.34.1-1ubuntu1.9).\n",
            "0 upgraded, 0 newly installed, 0 to remove and 25 not upgraded.\n",
            "Reading package lists... Done\n",
            "Building dependency tree... Done\n",
            "Reading state information... Done\n",
            "Package python-scipy is not available, but is referred to by another package.\n",
            "This may mean that the package is missing, has been obsoleted, or\n",
            "is only available from another source\n",
            "\n",
            "E: Unable to locate package python-numpy\n",
            "E: Unable to locate package python-pandas\n",
            "E: Package 'python-scipy' has no installation candidate\n",
            "--2023-08-16 13:53:43--  https://bootstrap.pypa.io/get-pip.py\n",
            "Resolving bootstrap.pypa.io (bootstrap.pypa.io)... 151.101.0.175, 151.101.64.175, 151.101.128.175, ...\n",
            "Connecting to bootstrap.pypa.io (bootstrap.pypa.io)|151.101.0.175|:443... connected.\n",
            "HTTP request sent, awaiting response... 200 OK\n",
            "Length: 2605506 (2.5M) [text/x-python]\n",
            "Saving to: ‘get-pip.py’\n",
            "\n",
            "get-pip.py          100%[===================>]   2.48M  --.-KB/s    in 0.08s   \n",
            "\n",
            "2023-08-16 13:53:43 (32.2 MB/s) - ‘get-pip.py’ saved [2605506/2605506]\n",
            "\n",
            "Collecting pip\n",
            "  Obtaining dependency information for pip from https://files.pythonhosted.org/packages/50/c2/e06851e8cc28dcad7c155f4753da8833ac06a5c704c109313b8d5a62968a/pip-23.2.1-py3-none-any.whl.metadata\n",
            "  Using cached pip-23.2.1-py3-none-any.whl.metadata (4.2 kB)\n",
            "Using cached pip-23.2.1-py3-none-any.whl (2.1 MB)\n",
            "Installing collected packages: pip\n",
            "  Attempting uninstall: pip\n",
            "    Found existing installation: pip 23.2.1\n",
            "    Uninstalling pip-23.2.1:\n",
            "      Successfully uninstalled pip-23.2.1\n",
            "Successfully installed pip-23.2.1\n",
            "\u001b[33mWARNING: Running pip as the 'root' user can result in broken permissions and conflicting behaviour with the system package manager. It is recommended to use a virtual environment instead: https://pip.pypa.io/warnings/venv\u001b[0m\u001b[33m\n",
            "\u001b[0mRequirement already satisfied: protobuf in /usr/local/lib/python3.10/dist-packages (3.20.3)\n",
            "Requirement already satisfied: tqdm in /usr/local/lib/python3.10/dist-packages (4.66.1)\n",
            "Requirement already satisfied: wheel in /usr/local/lib/python3.10/dist-packages (0.41.1)\n",
            "\u001b[33mWARNING: Running pip as the 'root' user can result in broken permissions and conflicting behaviour with the system package manager. It is recommended to use a virtual environment instead: https://pip.pypa.io/warnings/venv\u001b[0m\u001b[33m\n",
            "\u001b[0mCloning into 'bigartm'...\n",
            "remote: Enumerating objects: 16622, done.\u001b[K\n",
            "remote: Counting objects: 100% (31/31), done.\u001b[K\n",
            "remote: Compressing objects: 100% (28/28), done.\u001b[K\n",
            "remote: Total 16622 (delta 7), reused 20 (delta 2), pack-reused 16591\u001b[K\n",
            "Receiving objects: 100% (16622/16622), 17.21 MiB | 12.59 MiB/s, done.\n",
            "Resolving deltas: 100% (11614/11614), done.\n"
          ]
        }
      ],
      "source": [
        "!apt-get --yes update\n",
        "!apt-get --yes install git make cmake build-essential libboost-all-dev\n",
        "!apt-get --yes install python-numpy python-pandas python-scipy\n",
        "!wget https://bootstrap.pypa.io/get-pip.py\n",
        "!python get-pip.py\n",
        "!pip install protobuf tqdm wheel\n",
        "!git clone --branch=stable https://github.com/bigartm/bigartm.git"
      ]
    },
    {
      "cell_type": "code",
      "source": [
        "%cd bigartm"
      ],
      "metadata": {
        "colab": {
          "base_uri": "https://localhost:8080/"
        },
        "id": "4UESK8fNe9Ue",
        "outputId": "6a6b7df0-38a1-40f0-cc20-dee777e0428d"
      },
      "execution_count": 49,
      "outputs": [
        {
          "output_type": "stream",
          "name": "stdout",
          "text": [
            "/content/bigartm\n"
          ]
        }
      ]
    },
    {
      "cell_type": "code",
      "source": [
        "!mkdir build\n",
        "%cd build"
      ],
      "metadata": {
        "colab": {
          "base_uri": "https://localhost:8080/"
        },
        "id": "n9vUfbjifCsV",
        "outputId": "d9482012-efe5-41c7-e734-79e9995ceaf8"
      },
      "execution_count": 50,
      "outputs": [
        {
          "output_type": "stream",
          "name": "stdout",
          "text": [
            "mkdir: cannot create directory ‘build’: File exists\n",
            "/content/bigartm/build\n"
          ]
        }
      ]
    },
    {
      "cell_type": "code",
      "source": [
        "!cmake .."
      ],
      "metadata": {
        "colab": {
          "base_uri": "https://localhost:8080/"
        },
        "id": "WV3f-yM3fTGS",
        "outputId": "6bfe2dfc-ec1d-421b-d9dc-61ed9bdcf546"
      },
      "execution_count": 51,
      "outputs": [
        {
          "output_type": "stream",
          "name": "stdout",
          "text": [
            "\u001b[0mCMake Deprecation Warning at CMakeLists.txt:1 (cmake_minimum_required):\n",
            "  Compatibility with CMake < 3.5 will be removed from a future version of\n",
            "  CMake.\n",
            "\n",
            "  Update the VERSION argument <min> value or use a ...<max> suffix to tell\n",
            "  CMake that the project does not need compatibility with older versions.\n",
            "\n",
            "\u001b[0m\n",
            "\u001b[0m-- Build type: Release\u001b[0m\n",
            "-- Found Boost: /usr/lib/x86_64-linux-gnu/cmake/Boost-1.74.0/BoostConfig.cmake (found version \"1.74.0\")  \n",
            "-- Found Boost: /usr/lib/x86_64-linux-gnu/cmake/Boost-1.74.0/BoostConfig.cmake (found version \"1.74.0\") found components: thread program_options date_time filesystem iostreams system \n",
            "\u001b[0mCMake Deprecation Warning at 3rdparty/CMakeLists.txt:1 (cmake_minimum_required):\n",
            "  Compatibility with CMake < 3.5 will be removed from a future version of\n",
            "  CMake.\n",
            "\n",
            "  Update the VERSION argument <min> value or use a ...<max> suffix to tell\n",
            "  CMake that the project does not need compatibility with older versions.\n",
            "\n",
            "\u001b[0m\n",
            "\u001b[33mCMake Warning (dev) at 3rdparty/CMakeLists.txt:13 (set):\n",
            "  implicitly converting '' to 'STRING' type.\n",
            "This warning is for project developers.  Use -Wno-dev to suppress it.\n",
            "\u001b[0m\n",
            "\u001b[0mCMake Deprecation Warning at 3rdparty/gflags/CMakeLists.txt:73 (cmake_minimum_required):\n",
            "  Compatibility with CMake < 3.5 will be removed from a future version of\n",
            "  CMake.\n",
            "\n",
            "  Update the VERSION argument <min> value or use a ...<max> suffix to tell\n",
            "  CMake that the project does not need compatibility with older versions.\n",
            "\n",
            "\u001b[0m\n",
            "\u001b[33mCMake Warning (dev) at 3rdparty/CMakeLists.txt:19 (set):\n",
            "  implicitly converting '' to 'STRING' type.\n",
            "This warning is for project developers.  Use -Wno-dev to suppress it.\n",
            "\u001b[0m\n",
            "\u001b[0mCMake Deprecation Warning at 3rdparty/glog/CMakeLists.txt:1 (cmake_minimum_required):\n",
            "  Compatibility with CMake < 3.5 will be removed from a future version of\n",
            "  CMake.\n",
            "\n",
            "  Update the VERSION argument <min> value or use a ...<max> suffix to tell\n",
            "  CMake that the project does not need compatibility with older versions.\n",
            "\n",
            "\u001b[0m\n",
            "\u001b[0mCMake Deprecation Warning at 3rdparty/protobuf-3.0.0/cmake/CMakeLists.txt:2 (cmake_minimum_required):\n",
            "  Compatibility with CMake < 3.5 will be removed from a future version of\n",
            "  CMake.\n",
            "\n",
            "  Update the VERSION argument <min> value or use a ...<max> suffix to tell\n",
            "  CMake that the project does not need compatibility with older versions.\n",
            "\n",
            "\u001b[0m\n",
            "\u001b[33mCMake Warning (dev) at 3rdparty/protobuf-3.0.0/cmake/install.cmake:41 (message):\n",
            "  The file\n",
            "  \"/content/bigartm/3rdparty/protobuf-3.0.0/src/google/protobuf/repeated_field_reflection.h\"\n",
            "  is listed in\n",
            "  \"/content/bigartm/3rdparty/protobuf-3.0.0/cmake/cmake/extract_includes.bat.in\"\n",
            "  but there not exists.  The file will not be installed.\n",
            "Call Stack (most recent call first):\n",
            "  3rdparty/protobuf-3.0.0/cmake/CMakeLists.txt:159 (include)\n",
            "This warning is for project developers.  Use -Wno-dev to suppress it.\n",
            "\u001b[0m\n",
            "\u001b[33mCMake Warning (dev) at 3rdparty/CMakeLists.txt:37 (set):\n",
            "  implicitly converting '' to 'STRING' type.\n",
            "This warning is for project developers.  Use -Wno-dev to suppress it.\n",
            "\u001b[0m\n",
            "-- Configuring done (2.1s)\n",
            "-- Generating done (0.1s)\n",
            "-- Build files have been written to: /content/bigartm/build\n"
          ]
        }
      ]
    },
    {
      "cell_type": "code",
      "source": [
        "!make"
      ],
      "metadata": {
        "colab": {
          "base_uri": "https://localhost:8080/"
        },
        "id": "5Ov4gRJDfh2p",
        "outputId": "8a2a1da7-d411-4de8-f424-fb4392b7782d"
      },
      "execution_count": 52,
      "outputs": [
        {
          "output_type": "stream",
          "name": "stdout",
          "text": [
            "[ 28%] Built target libprotobuf\n",
            "[ 29%] \u001b[32mBuilding CXX object 3rdparty/protobuf-3.0.0/cmake/CMakeFiles/libprotoc.dir/__/src/google/protobuf/compiler/java/java_file.cc.o\u001b[0m\n",
            "In file included from \u001b[01m\u001b[K/usr/include/c++/11/set:60\u001b[m\u001b[K,\n",
            "                 from \u001b[01m\u001b[K/content/bigartm/3rdparty/protobuf-3.0.0/src/google/protobuf/compiler/java/java_file.cc:41\u001b[m\u001b[K:\n",
            "/usr/include/c++/11/bits/stl_tree.h: In instantiation of ‘\u001b[01m\u001b[Kstatic const _Key& std::_Rb_tree<_Key, _Val, _KeyOfValue, _Compare, _Alloc>::_S_key(std::_Rb_tree<_Key, _Val, _KeyOfValue, _Compare, _Alloc>::_Const_Link_type) [with _Key = const google::protobuf::FieldDescriptor*; _Val = const google::protobuf::FieldDescriptor*; _KeyOfValue = std::_Identity<const google::protobuf::FieldDescriptor*>; _Compare = google::protobuf::compiler::java::{anonymous}::FieldDescriptorCompare; _Alloc = std::allocator<const google::protobuf::FieldDescriptor*>; std::_Rb_tree<_Key, _Val, _KeyOfValue, _Compare, _Alloc>::_Const_Link_type = const std::_Rb_tree_node<const google::protobuf::FieldDescriptor*>*]\u001b[m\u001b[K’:\n",
            "\u001b[01m\u001b[K/usr/include/c++/11/bits/stl_tree.h:2071:47:\u001b[m\u001b[K   required from ‘\u001b[01m\u001b[Kstd::pair<std::_Rb_tree_node_base*, std::_Rb_tree_node_base*> std::_Rb_tree<_Key, _Val, _KeyOfValue, _Compare, _Alloc>::_M_get_insert_unique_pos(const key_type&) [with _Key = const google::protobuf::FieldDescriptor*; _Val = const google::protobuf::FieldDescriptor*; _KeyOfValue = std::_Identity<const google::protobuf::FieldDescriptor*>; _Compare = google::protobuf::compiler::java::{anonymous}::FieldDescriptorCompare; _Alloc = std::allocator<const google::protobuf::FieldDescriptor*>; std::_Rb_tree<_Key, _Val, _KeyOfValue, _Compare, _Alloc>::key_type = const google::protobuf::FieldDescriptor*]\u001b[m\u001b[K’\n",
            "\u001b[01m\u001b[K/usr/include/c++/11/bits/stl_tree.h:2124:4:\u001b[m\u001b[K   required from ‘\u001b[01m\u001b[Kstd::pair<std::_Rb_tree_iterator<_Val>, bool> std::_Rb_tree<_Key, _Val, _KeyOfValue, _Compare, _Alloc>::_M_insert_unique(_Arg&&) [with _Arg = const google::protobuf::FieldDescriptor* const&; _Key = const google::protobuf::FieldDescriptor*; _Val = const google::protobuf::FieldDescriptor*; _KeyOfValue = std::_Identity<const google::protobuf::FieldDescriptor*>; _Compare = google::protobuf::compiler::java::{anonymous}::FieldDescriptorCompare; _Alloc = std::allocator<const google::protobuf::FieldDescriptor*>]\u001b[m\u001b[K’\n",
            "\u001b[01m\u001b[K/usr/include/c++/11/bits/stl_set.h:512:25:\u001b[m\u001b[K   required from ‘\u001b[01m\u001b[Kstd::pair<typename std::_Rb_tree<_Key, _Key, std::_Identity<_Tp>, _Compare, typename __gnu_cxx::__alloc_traits<_Allocator>::rebind<_Key>::other>::const_iterator, bool> std::set<_Key, _Compare, _Alloc>::insert(const value_type&) [with _Key = const google::protobuf::FieldDescriptor*; _Compare = google::protobuf::compiler::java::{anonymous}::FieldDescriptorCompare; _Alloc = std::allocator<const google::protobuf::FieldDescriptor*>; typename std::_Rb_tree<_Key, _Key, std::_Identity<_Tp>, _Compare, typename __gnu_cxx::__alloc_traits<_Allocator>::rebind<_Key>::other>::const_iterator = std::_Rb_tree<const google::protobuf::FieldDescriptor*, const google::protobuf::FieldDescriptor*, std::_Identity<const google::protobuf::FieldDescriptor*>, google::protobuf::compiler::java::{anonymous}::FieldDescriptorCompare, std::allocator<const google::protobuf::FieldDescriptor*> >::const_iterator; typename __gnu_cxx::__alloc_traits<_Allocator>::rebind<_Key>::other = std::allocator<const google::protobuf::FieldDescriptor*>; typename __gnu_cxx::__alloc_traits<_Allocator>::rebind<_Key> = __gnu_cxx::__alloc_traits<std::allocator<const google::protobuf::FieldDescriptor*>, const google::protobuf::FieldDescriptor*>::rebind<const google::protobuf::FieldDescriptor*>; typename _Allocator::value_type = const google::protobuf::FieldDescriptor*; std::set<_Key, _Compare, _Alloc>::value_type = const google::protobuf::FieldDescriptor*]\u001b[m\u001b[K’\n",
            "\u001b[01m\u001b[K/content/bigartm/3rdparty/protobuf-3.0.0/src/google/protobuf/compiler/java/java_file.cc:97:54:\u001b[m\u001b[K   required from here\n",
            "\u001b[01m\u001b[K/usr/include/c++/11/bits/stl_tree.h:770:15:\u001b[m\u001b[K \u001b[01;31m\u001b[Kerror: \u001b[m\u001b[Kstatic assertion failed: comparison object must be invocable as const\n",
            "  770 |               \u001b[01;31m\u001b[Kis_invocable_v<const _Compare&, const _Key&, const _Key&>\u001b[m\u001b[K,\n",
            "      |               \u001b[01;31m\u001b[K^~~~~~~~~~~~~~~~~~~~~~~~~~~~~~~~~~~~~~~~~~~~~~~~~~~~~~~~~\u001b[m\u001b[K\n",
            "\u001b[01m\u001b[K/usr/include/c++/11/bits/stl_tree.h:770:15:\u001b[m\u001b[K \u001b[01;36m\u001b[Knote: \u001b[m\u001b[K‘\u001b[01m\u001b[Kstd::is_invocable_v<const google::protobuf::compiler::java::{anonymous}::FieldDescriptorCompare&, const google::protobuf::FieldDescriptor* const&, const google::protobuf::FieldDescriptor* const&>\u001b[m\u001b[K’ evaluates to false\n",
            "make[2]: *** [3rdparty/protobuf-3.0.0/cmake/CMakeFiles/libprotoc.dir/build.make:636: 3rdparty/protobuf-3.0.0/cmake/CMakeFiles/libprotoc.dir/__/src/google/protobuf/compiler/java/java_file.cc.o] Error 1\n",
            "make[1]: *** [CMakeFiles/Makefile2:400: 3rdparty/protobuf-3.0.0/cmake/CMakeFiles/libprotoc.dir/all] Error 2\n",
            "make: *** [Makefile:166: all] Error 2\n"
          ]
        }
      ]
    },
    {
      "cell_type": "code",
      "source": [
        "!make install"
      ],
      "metadata": {
        "id": "c3hzxVupfwe5"
      },
      "execution_count": null,
      "outputs": []
    },
    {
      "cell_type": "code",
      "source": [
        "!pip install python/bigartm*.whl"
      ],
      "metadata": {
        "id": "qjJ1SFRFghyy"
      },
      "execution_count": null,
      "outputs": []
    },
    {
      "cell_type": "code",
      "source": [
        "# import artm"
      ],
      "metadata": {
        "id": "E_zZyO6rgi3F"
      },
      "execution_count": null,
      "outputs": []
    }
  ],
  "metadata": {
    "colab": {
      "provenance": []
    },
    "kernelspec": {
      "display_name": "Python 3",
      "name": "python3"
    },
    "language_info": {
      "name": "python"
    },
    "widgets": {
      "application/vnd.jupyter.widget-state+json": {
        "10dd1d93de2f4187bd3b0e70880433c3": {
          "model_module": "@jupyter-widgets/controls",
          "model_module_version": "1.5.0",
          "model_name": "DescriptionStyleModel",
          "state": {
            "_model_module": "@jupyter-widgets/controls",
            "_model_module_version": "1.5.0",
            "_model_name": "DescriptionStyleModel",
            "_view_count": null,
            "_view_module": "@jupyter-widgets/base",
            "_view_module_version": "1.2.0",
            "_view_name": "StyleView",
            "description_width": ""
          }
        },
        "22f2286920984115899762b72da05b74": {
          "model_module": "@jupyter-widgets/controls",
          "model_module_version": "1.5.0",
          "model_name": "DescriptionStyleModel",
          "state": {
            "_model_module": "@jupyter-widgets/controls",
            "_model_module_version": "1.5.0",
            "_model_name": "DescriptionStyleModel",
            "_view_count": null,
            "_view_module": "@jupyter-widgets/base",
            "_view_module_version": "1.2.0",
            "_view_name": "StyleView",
            "description_width": ""
          }
        },
        "2de392acd23b4e52896102ccb7e31585": {
          "model_module": "@jupyter-widgets/controls",
          "model_module_version": "1.5.0",
          "model_name": "ProgressStyleModel",
          "state": {
            "_model_module": "@jupyter-widgets/controls",
            "_model_module_version": "1.5.0",
            "_model_name": "ProgressStyleModel",
            "_view_count": null,
            "_view_module": "@jupyter-widgets/base",
            "_view_module_version": "1.2.0",
            "_view_name": "StyleView",
            "bar_color": null,
            "description_width": ""
          }
        },
        "2f285b873a5e490690018e60dc15eb45": {
          "model_module": "@jupyter-widgets/base",
          "model_module_version": "1.2.0",
          "model_name": "LayoutModel",
          "state": {
            "_model_module": "@jupyter-widgets/base",
            "_model_module_version": "1.2.0",
            "_model_name": "LayoutModel",
            "_view_count": null,
            "_view_module": "@jupyter-widgets/base",
            "_view_module_version": "1.2.0",
            "_view_name": "LayoutView",
            "align_content": null,
            "align_items": null,
            "align_self": null,
            "border": null,
            "bottom": null,
            "display": null,
            "flex": null,
            "flex_flow": null,
            "grid_area": null,
            "grid_auto_columns": null,
            "grid_auto_flow": null,
            "grid_auto_rows": null,
            "grid_column": null,
            "grid_gap": null,
            "grid_row": null,
            "grid_template_areas": null,
            "grid_template_columns": null,
            "grid_template_rows": null,
            "height": null,
            "justify_content": null,
            "justify_items": null,
            "left": null,
            "margin": null,
            "max_height": null,
            "max_width": null,
            "min_height": null,
            "min_width": null,
            "object_fit": null,
            "object_position": null,
            "order": null,
            "overflow": null,
            "overflow_x": null,
            "overflow_y": null,
            "padding": null,
            "right": null,
            "top": null,
            "visibility": null,
            "width": null
          }
        },
        "3adbfd2f1aea4c58b8b0b22d8ab1f9db": {
          "model_module": "@jupyter-widgets/controls",
          "model_module_version": "1.5.0",
          "model_name": "ProgressStyleModel",
          "state": {
            "_model_module": "@jupyter-widgets/controls",
            "_model_module_version": "1.5.0",
            "_model_name": "ProgressStyleModel",
            "_view_count": null,
            "_view_module": "@jupyter-widgets/base",
            "_view_module_version": "1.2.0",
            "_view_name": "StyleView",
            "bar_color": null,
            "description_width": ""
          }
        },
        "3fe7f563427e48049ededc497ab7b1ce": {
          "model_module": "@jupyter-widgets/controls",
          "model_module_version": "1.5.0",
          "model_name": "HBoxModel",
          "state": {
            "_dom_classes": [],
            "_model_module": "@jupyter-widgets/controls",
            "_model_module_version": "1.5.0",
            "_model_name": "HBoxModel",
            "_view_count": null,
            "_view_module": "@jupyter-widgets/controls",
            "_view_module_version": "1.5.0",
            "_view_name": "HBoxView",
            "box_style": "",
            "children": [
              "IPY_MODEL_ad5169fe2d4142efb19f580ae3718821",
              "IPY_MODEL_b24b425dadfb47c2bd0dca8d0ed61f04",
              "IPY_MODEL_f290cb2551654ca6b68fc71ed0140d60"
            ],
            "layout": "IPY_MODEL_da73cf80b006479ca4db3bca72743df8"
          }
        },
        "5ae6069a0aab4554a00518a30e47df4b": {
          "model_module": "@jupyter-widgets/base",
          "model_module_version": "1.2.0",
          "model_name": "LayoutModel",
          "state": {
            "_model_module": "@jupyter-widgets/base",
            "_model_module_version": "1.2.0",
            "_model_name": "LayoutModel",
            "_view_count": null,
            "_view_module": "@jupyter-widgets/base",
            "_view_module_version": "1.2.0",
            "_view_name": "LayoutView",
            "align_content": null,
            "align_items": null,
            "align_self": null,
            "border": null,
            "bottom": null,
            "display": null,
            "flex": null,
            "flex_flow": null,
            "grid_area": null,
            "grid_auto_columns": null,
            "grid_auto_flow": null,
            "grid_auto_rows": null,
            "grid_column": null,
            "grid_gap": null,
            "grid_row": null,
            "grid_template_areas": null,
            "grid_template_columns": null,
            "grid_template_rows": null,
            "height": null,
            "justify_content": null,
            "justify_items": null,
            "left": null,
            "margin": null,
            "max_height": null,
            "max_width": null,
            "min_height": null,
            "min_width": null,
            "object_fit": null,
            "object_position": null,
            "order": null,
            "overflow": null,
            "overflow_x": null,
            "overflow_y": null,
            "padding": null,
            "right": null,
            "top": null,
            "visibility": null,
            "width": null
          }
        },
        "5efe770105cc4ef0abd7bca0ae0284ef": {
          "model_module": "@jupyter-widgets/controls",
          "model_module_version": "1.5.0",
          "model_name": "HTMLModel",
          "state": {
            "_dom_classes": [],
            "_model_module": "@jupyter-widgets/controls",
            "_model_module_version": "1.5.0",
            "_model_name": "HTMLModel",
            "_view_count": null,
            "_view_module": "@jupyter-widgets/controls",
            "_view_module_version": "1.5.0",
            "_view_name": "HTMLView",
            "description": "",
            "description_tooltip": null,
            "layout": "IPY_MODEL_af600f234b874ac0a47f1fffa073abbf",
            "placeholder": "​",
            "style": "IPY_MODEL_22f2286920984115899762b72da05b74",
            "value": "100%"
          }
        },
        "71d890884b0d4fff905218211f3a24e5": {
          "model_module": "@jupyter-widgets/base",
          "model_module_version": "1.2.0",
          "model_name": "LayoutModel",
          "state": {
            "_model_module": "@jupyter-widgets/base",
            "_model_module_version": "1.2.0",
            "_model_name": "LayoutModel",
            "_view_count": null,
            "_view_module": "@jupyter-widgets/base",
            "_view_module_version": "1.2.0",
            "_view_name": "LayoutView",
            "align_content": null,
            "align_items": null,
            "align_self": null,
            "border": null,
            "bottom": null,
            "display": null,
            "flex": null,
            "flex_flow": null,
            "grid_area": null,
            "grid_auto_columns": null,
            "grid_auto_flow": null,
            "grid_auto_rows": null,
            "grid_column": null,
            "grid_gap": null,
            "grid_row": null,
            "grid_template_areas": null,
            "grid_template_columns": null,
            "grid_template_rows": null,
            "height": null,
            "justify_content": null,
            "justify_items": null,
            "left": null,
            "margin": null,
            "max_height": null,
            "max_width": null,
            "min_height": null,
            "min_width": null,
            "object_fit": null,
            "object_position": null,
            "order": null,
            "overflow": null,
            "overflow_x": null,
            "overflow_y": null,
            "padding": null,
            "right": null,
            "top": null,
            "visibility": null,
            "width": null
          }
        },
        "7ce1c01d2583478ba62140703385ca94": {
          "model_module": "@jupyter-widgets/controls",
          "model_module_version": "1.5.0",
          "model_name": "DescriptionStyleModel",
          "state": {
            "_model_module": "@jupyter-widgets/controls",
            "_model_module_version": "1.5.0",
            "_model_name": "DescriptionStyleModel",
            "_view_count": null,
            "_view_module": "@jupyter-widgets/base",
            "_view_module_version": "1.2.0",
            "_view_name": "StyleView",
            "description_width": ""
          }
        },
        "899134d7aefb4e9ab079f535e6e4c2cd": {
          "model_module": "@jupyter-widgets/controls",
          "model_module_version": "1.5.0",
          "model_name": "HTMLModel",
          "state": {
            "_dom_classes": [],
            "_model_module": "@jupyter-widgets/controls",
            "_model_module_version": "1.5.0",
            "_model_name": "HTMLModel",
            "_view_count": null,
            "_view_module": "@jupyter-widgets/controls",
            "_view_module_version": "1.5.0",
            "_view_name": "HTMLView",
            "description": "",
            "description_tooltip": null,
            "layout": "IPY_MODEL_2f285b873a5e490690018e60dc15eb45",
            "placeholder": "​",
            "style": "IPY_MODEL_7ce1c01d2583478ba62140703385ca94",
            "value": " 3/3 [11:36&lt;00:00, 245.66s/it]"
          }
        },
        "ad5169fe2d4142efb19f580ae3718821": {
          "model_module": "@jupyter-widgets/controls",
          "model_module_version": "1.5.0",
          "model_name": "HTMLModel",
          "state": {
            "_dom_classes": [],
            "_model_module": "@jupyter-widgets/controls",
            "_model_module_version": "1.5.0",
            "_model_name": "HTMLModel",
            "_view_count": null,
            "_view_module": "@jupyter-widgets/controls",
            "_view_module_version": "1.5.0",
            "_view_name": "HTMLView",
            "description": "",
            "description_tooltip": null,
            "layout": "IPY_MODEL_71d890884b0d4fff905218211f3a24e5",
            "placeholder": "​",
            "style": "IPY_MODEL_c1f83078978c423c8bb2ad7bb0d129e1",
            "value": "Progress: 100%"
          }
        },
        "af600f234b874ac0a47f1fffa073abbf": {
          "model_module": "@jupyter-widgets/base",
          "model_module_version": "1.2.0",
          "model_name": "LayoutModel",
          "state": {
            "_model_module": "@jupyter-widgets/base",
            "_model_module_version": "1.2.0",
            "_model_name": "LayoutModel",
            "_view_count": null,
            "_view_module": "@jupyter-widgets/base",
            "_view_module_version": "1.2.0",
            "_view_name": "LayoutView",
            "align_content": null,
            "align_items": null,
            "align_self": null,
            "border": null,
            "bottom": null,
            "display": null,
            "flex": null,
            "flex_flow": null,
            "grid_area": null,
            "grid_auto_columns": null,
            "grid_auto_flow": null,
            "grid_auto_rows": null,
            "grid_column": null,
            "grid_gap": null,
            "grid_row": null,
            "grid_template_areas": null,
            "grid_template_columns": null,
            "grid_template_rows": null,
            "height": null,
            "justify_content": null,
            "justify_items": null,
            "left": null,
            "margin": null,
            "max_height": null,
            "max_width": null,
            "min_height": null,
            "min_width": null,
            "object_fit": null,
            "object_position": null,
            "order": null,
            "overflow": null,
            "overflow_x": null,
            "overflow_y": null,
            "padding": null,
            "right": null,
            "top": null,
            "visibility": null,
            "width": null
          }
        },
        "b24b425dadfb47c2bd0dca8d0ed61f04": {
          "model_module": "@jupyter-widgets/controls",
          "model_module_version": "1.5.0",
          "model_name": "FloatProgressModel",
          "state": {
            "_dom_classes": [],
            "_model_module": "@jupyter-widgets/controls",
            "_model_module_version": "1.5.0",
            "_model_name": "FloatProgressModel",
            "_view_count": null,
            "_view_module": "@jupyter-widgets/controls",
            "_view_module_version": "1.5.0",
            "_view_name": "ProgressView",
            "bar_style": "success",
            "description": "",
            "description_tooltip": null,
            "layout": "IPY_MODEL_c6d0ab4c7d654a67b2685acbc6c6b70d",
            "max": 226834,
            "min": 0,
            "orientation": "horizontal",
            "style": "IPY_MODEL_3adbfd2f1aea4c58b8b0b22d8ab1f9db",
            "value": 226834
          }
        },
        "b8ff08c33769421c9b14ec68fc127fa7": {
          "model_module": "@jupyter-widgets/controls",
          "model_module_version": "1.5.0",
          "model_name": "FloatProgressModel",
          "state": {
            "_dom_classes": [],
            "_model_module": "@jupyter-widgets/controls",
            "_model_module_version": "1.5.0",
            "_model_name": "FloatProgressModel",
            "_view_count": null,
            "_view_module": "@jupyter-widgets/controls",
            "_view_module_version": "1.5.0",
            "_view_name": "ProgressView",
            "bar_style": "success",
            "description": "",
            "description_tooltip": null,
            "layout": "IPY_MODEL_f78702ba61ec4b749c3a985e87222ebd",
            "max": 3,
            "min": 0,
            "orientation": "horizontal",
            "style": "IPY_MODEL_2de392acd23b4e52896102ccb7e31585",
            "value": 3
          }
        },
        "c1f83078978c423c8bb2ad7bb0d129e1": {
          "model_module": "@jupyter-widgets/controls",
          "model_module_version": "1.5.0",
          "model_name": "DescriptionStyleModel",
          "state": {
            "_model_module": "@jupyter-widgets/controls",
            "_model_module_version": "1.5.0",
            "_model_name": "DescriptionStyleModel",
            "_view_count": null,
            "_view_module": "@jupyter-widgets/base",
            "_view_module_version": "1.2.0",
            "_view_name": "StyleView",
            "description_width": ""
          }
        },
        "c6d0ab4c7d654a67b2685acbc6c6b70d": {
          "model_module": "@jupyter-widgets/base",
          "model_module_version": "1.2.0",
          "model_name": "LayoutModel",
          "state": {
            "_model_module": "@jupyter-widgets/base",
            "_model_module_version": "1.2.0",
            "_model_name": "LayoutModel",
            "_view_count": null,
            "_view_module": "@jupyter-widgets/base",
            "_view_module_version": "1.2.0",
            "_view_name": "LayoutView",
            "align_content": null,
            "align_items": null,
            "align_self": null,
            "border": null,
            "bottom": null,
            "display": null,
            "flex": null,
            "flex_flow": null,
            "grid_area": null,
            "grid_auto_columns": null,
            "grid_auto_flow": null,
            "grid_auto_rows": null,
            "grid_column": null,
            "grid_gap": null,
            "grid_row": null,
            "grid_template_areas": null,
            "grid_template_columns": null,
            "grid_template_rows": null,
            "height": null,
            "justify_content": null,
            "justify_items": null,
            "left": null,
            "margin": null,
            "max_height": null,
            "max_width": null,
            "min_height": null,
            "min_width": null,
            "object_fit": null,
            "object_position": null,
            "order": null,
            "overflow": null,
            "overflow_x": null,
            "overflow_y": null,
            "padding": null,
            "right": null,
            "top": null,
            "visibility": null,
            "width": null
          }
        },
        "da73cf80b006479ca4db3bca72743df8": {
          "model_module": "@jupyter-widgets/base",
          "model_module_version": "1.2.0",
          "model_name": "LayoutModel",
          "state": {
            "_model_module": "@jupyter-widgets/base",
            "_model_module_version": "1.2.0",
            "_model_name": "LayoutModel",
            "_view_count": null,
            "_view_module": "@jupyter-widgets/base",
            "_view_module_version": "1.2.0",
            "_view_name": "LayoutView",
            "align_content": null,
            "align_items": null,
            "align_self": null,
            "border": null,
            "bottom": null,
            "display": null,
            "flex": null,
            "flex_flow": null,
            "grid_area": null,
            "grid_auto_columns": null,
            "grid_auto_flow": null,
            "grid_auto_rows": null,
            "grid_column": null,
            "grid_gap": null,
            "grid_row": null,
            "grid_template_areas": null,
            "grid_template_columns": null,
            "grid_template_rows": null,
            "height": null,
            "justify_content": null,
            "justify_items": null,
            "left": null,
            "margin": null,
            "max_height": null,
            "max_width": null,
            "min_height": null,
            "min_width": null,
            "object_fit": null,
            "object_position": null,
            "order": null,
            "overflow": null,
            "overflow_x": null,
            "overflow_y": null,
            "padding": null,
            "right": null,
            "top": null,
            "visibility": null,
            "width": null
          }
        },
        "db7fee832be34be7aeb8fe457c9c6694": {
          "model_module": "@jupyter-widgets/base",
          "model_module_version": "1.2.0",
          "model_name": "LayoutModel",
          "state": {
            "_model_module": "@jupyter-widgets/base",
            "_model_module_version": "1.2.0",
            "_model_name": "LayoutModel",
            "_view_count": null,
            "_view_module": "@jupyter-widgets/base",
            "_view_module_version": "1.2.0",
            "_view_name": "LayoutView",
            "align_content": null,
            "align_items": null,
            "align_self": null,
            "border": null,
            "bottom": null,
            "display": null,
            "flex": null,
            "flex_flow": null,
            "grid_area": null,
            "grid_auto_columns": null,
            "grid_auto_flow": null,
            "grid_auto_rows": null,
            "grid_column": null,
            "grid_gap": null,
            "grid_row": null,
            "grid_template_areas": null,
            "grid_template_columns": null,
            "grid_template_rows": null,
            "height": null,
            "justify_content": null,
            "justify_items": null,
            "left": null,
            "margin": null,
            "max_height": null,
            "max_width": null,
            "min_height": null,
            "min_width": null,
            "object_fit": null,
            "object_position": null,
            "order": null,
            "overflow": null,
            "overflow_x": null,
            "overflow_y": null,
            "padding": null,
            "right": null,
            "top": null,
            "visibility": null,
            "width": null
          }
        },
        "f290cb2551654ca6b68fc71ed0140d60": {
          "model_module": "@jupyter-widgets/controls",
          "model_module_version": "1.5.0",
          "model_name": "HTMLModel",
          "state": {
            "_dom_classes": [],
            "_model_module": "@jupyter-widgets/controls",
            "_model_module_version": "1.5.0",
            "_model_name": "HTMLModel",
            "_view_count": null,
            "_view_module": "@jupyter-widgets/controls",
            "_view_module_version": "1.5.0",
            "_view_name": "HTMLView",
            "description": "",
            "description_tooltip": null,
            "layout": "IPY_MODEL_5ae6069a0aab4554a00518a30e47df4b",
            "placeholder": "​",
            "style": "IPY_MODEL_10dd1d93de2f4187bd3b0e70880433c3",
            "value": " 226834/226834 [08:07&lt;00:00, 652.96it/s]"
          }
        },
        "f78702ba61ec4b749c3a985e87222ebd": {
          "model_module": "@jupyter-widgets/base",
          "model_module_version": "1.2.0",
          "model_name": "LayoutModel",
          "state": {
            "_model_module": "@jupyter-widgets/base",
            "_model_module_version": "1.2.0",
            "_model_name": "LayoutModel",
            "_view_count": null,
            "_view_module": "@jupyter-widgets/base",
            "_view_module_version": "1.2.0",
            "_view_name": "LayoutView",
            "align_content": null,
            "align_items": null,
            "align_self": null,
            "border": null,
            "bottom": null,
            "display": null,
            "flex": null,
            "flex_flow": null,
            "grid_area": null,
            "grid_auto_columns": null,
            "grid_auto_flow": null,
            "grid_auto_rows": null,
            "grid_column": null,
            "grid_gap": null,
            "grid_row": null,
            "grid_template_areas": null,
            "grid_template_columns": null,
            "grid_template_rows": null,
            "height": null,
            "justify_content": null,
            "justify_items": null,
            "left": null,
            "margin": null,
            "max_height": null,
            "max_width": null,
            "min_height": null,
            "min_width": null,
            "object_fit": null,
            "object_position": null,
            "order": null,
            "overflow": null,
            "overflow_x": null,
            "overflow_y": null,
            "padding": null,
            "right": null,
            "top": null,
            "visibility": null,
            "width": null
          }
        },
        "fd56e8dd8a774b33ab6190302ea6da93": {
          "model_module": "@jupyter-widgets/controls",
          "model_module_version": "1.5.0",
          "model_name": "HBoxModel",
          "state": {
            "_dom_classes": [],
            "_model_module": "@jupyter-widgets/controls",
            "_model_module_version": "1.5.0",
            "_model_name": "HBoxModel",
            "_view_count": null,
            "_view_module": "@jupyter-widgets/controls",
            "_view_module_version": "1.5.0",
            "_view_name": "HBoxView",
            "box_style": "",
            "children": [
              "IPY_MODEL_5efe770105cc4ef0abd7bca0ae0284ef",
              "IPY_MODEL_b8ff08c33769421c9b14ec68fc127fa7",
              "IPY_MODEL_899134d7aefb4e9ab079f535e6e4c2cd"
            ],
            "layout": "IPY_MODEL_db7fee832be34be7aeb8fe457c9c6694"
          }
        }
      }
    }
  },
  "nbformat": 4,
  "nbformat_minor": 0
}