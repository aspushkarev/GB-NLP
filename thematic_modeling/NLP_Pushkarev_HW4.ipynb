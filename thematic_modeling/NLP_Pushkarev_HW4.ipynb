{
  "nbformat": 4,
  "nbformat_minor": 0,
  "metadata": {
    "colab": {
      "provenance": []
    },
    "kernelspec": {
      "name": "python3",
      "display_name": "Python 3"
    },
    "language_info": {
      "name": "python"
    },
    "widgets": {
      "application/vnd.jupyter.widget-state+json": {
        "ca81905880114e2da7b05bccec188e38": {
          "model_module": "@jupyter-widgets/controls",
          "model_name": "HBoxModel",
          "model_module_version": "1.5.0",
          "state": {
            "_dom_classes": [],
            "_model_module": "@jupyter-widgets/controls",
            "_model_module_version": "1.5.0",
            "_model_name": "HBoxModel",
            "_view_count": null,
            "_view_module": "@jupyter-widgets/controls",
            "_view_module_version": "1.5.0",
            "_view_name": "HBoxView",
            "box_style": "",
            "children": [
              "IPY_MODEL_e37338484fc94784afcb19add0443295",
              "IPY_MODEL_e16c8e4fc9f4443197fe7c1706335922",
              "IPY_MODEL_7453cfff16a14208aa539e64f35ee3e9"
            ],
            "layout": "IPY_MODEL_6f6c21ebd886412b9dc1e89416269d30"
          }
        },
        "e37338484fc94784afcb19add0443295": {
          "model_module": "@jupyter-widgets/controls",
          "model_name": "HTMLModel",
          "model_module_version": "1.5.0",
          "state": {
            "_dom_classes": [],
            "_model_module": "@jupyter-widgets/controls",
            "_model_module_version": "1.5.0",
            "_model_name": "HTMLModel",
            "_view_count": null,
            "_view_module": "@jupyter-widgets/controls",
            "_view_module_version": "1.5.0",
            "_view_name": "HTMLView",
            "description": "",
            "description_tooltip": null,
            "layout": "IPY_MODEL_9c5009fd075f43d38b2528a8b0d0d356",
            "placeholder": "​",
            "style": "IPY_MODEL_33a93adca06342d2a354e8d879d3ff8a",
            "value": "Progress: 100%"
          }
        },
        "e16c8e4fc9f4443197fe7c1706335922": {
          "model_module": "@jupyter-widgets/controls",
          "model_name": "FloatProgressModel",
          "model_module_version": "1.5.0",
          "state": {
            "_dom_classes": [],
            "_model_module": "@jupyter-widgets/controls",
            "_model_module_version": "1.5.0",
            "_model_name": "FloatProgressModel",
            "_view_count": null,
            "_view_module": "@jupyter-widgets/controls",
            "_view_module_version": "1.5.0",
            "_view_name": "ProgressView",
            "bar_style": "success",
            "description": "",
            "description_tooltip": null,
            "layout": "IPY_MODEL_0affe5a057794040bc54a60b0eb6ddf8",
            "max": 226834,
            "min": 0,
            "orientation": "horizontal",
            "style": "IPY_MODEL_e44df046add34f868c8c590a0e31c848",
            "value": 226834
          }
        },
        "7453cfff16a14208aa539e64f35ee3e9": {
          "model_module": "@jupyter-widgets/controls",
          "model_name": "HTMLModel",
          "model_module_version": "1.5.0",
          "state": {
            "_dom_classes": [],
            "_model_module": "@jupyter-widgets/controls",
            "_model_module_version": "1.5.0",
            "_model_name": "HTMLModel",
            "_view_count": null,
            "_view_module": "@jupyter-widgets/controls",
            "_view_module_version": "1.5.0",
            "_view_name": "HTMLView",
            "description": "",
            "description_tooltip": null,
            "layout": "IPY_MODEL_8929dc7e74d047da89f24bbbb8a44f0a",
            "placeholder": "​",
            "style": "IPY_MODEL_8e5a0f333c9740689f41b9bcd77adf22",
            "value": " 226834/226834 [07:50&lt;00:00, 651.95it/s]"
          }
        },
        "6f6c21ebd886412b9dc1e89416269d30": {
          "model_module": "@jupyter-widgets/base",
          "model_name": "LayoutModel",
          "model_module_version": "1.2.0",
          "state": {
            "_model_module": "@jupyter-widgets/base",
            "_model_module_version": "1.2.0",
            "_model_name": "LayoutModel",
            "_view_count": null,
            "_view_module": "@jupyter-widgets/base",
            "_view_module_version": "1.2.0",
            "_view_name": "LayoutView",
            "align_content": null,
            "align_items": null,
            "align_self": null,
            "border": null,
            "bottom": null,
            "display": null,
            "flex": null,
            "flex_flow": null,
            "grid_area": null,
            "grid_auto_columns": null,
            "grid_auto_flow": null,
            "grid_auto_rows": null,
            "grid_column": null,
            "grid_gap": null,
            "grid_row": null,
            "grid_template_areas": null,
            "grid_template_columns": null,
            "grid_template_rows": null,
            "height": null,
            "justify_content": null,
            "justify_items": null,
            "left": null,
            "margin": null,
            "max_height": null,
            "max_width": null,
            "min_height": null,
            "min_width": null,
            "object_fit": null,
            "object_position": null,
            "order": null,
            "overflow": null,
            "overflow_x": null,
            "overflow_y": null,
            "padding": null,
            "right": null,
            "top": null,
            "visibility": null,
            "width": null
          }
        },
        "9c5009fd075f43d38b2528a8b0d0d356": {
          "model_module": "@jupyter-widgets/base",
          "model_name": "LayoutModel",
          "model_module_version": "1.2.0",
          "state": {
            "_model_module": "@jupyter-widgets/base",
            "_model_module_version": "1.2.0",
            "_model_name": "LayoutModel",
            "_view_count": null,
            "_view_module": "@jupyter-widgets/base",
            "_view_module_version": "1.2.0",
            "_view_name": "LayoutView",
            "align_content": null,
            "align_items": null,
            "align_self": null,
            "border": null,
            "bottom": null,
            "display": null,
            "flex": null,
            "flex_flow": null,
            "grid_area": null,
            "grid_auto_columns": null,
            "grid_auto_flow": null,
            "grid_auto_rows": null,
            "grid_column": null,
            "grid_gap": null,
            "grid_row": null,
            "grid_template_areas": null,
            "grid_template_columns": null,
            "grid_template_rows": null,
            "height": null,
            "justify_content": null,
            "justify_items": null,
            "left": null,
            "margin": null,
            "max_height": null,
            "max_width": null,
            "min_height": null,
            "min_width": null,
            "object_fit": null,
            "object_position": null,
            "order": null,
            "overflow": null,
            "overflow_x": null,
            "overflow_y": null,
            "padding": null,
            "right": null,
            "top": null,
            "visibility": null,
            "width": null
          }
        },
        "33a93adca06342d2a354e8d879d3ff8a": {
          "model_module": "@jupyter-widgets/controls",
          "model_name": "DescriptionStyleModel",
          "model_module_version": "1.5.0",
          "state": {
            "_model_module": "@jupyter-widgets/controls",
            "_model_module_version": "1.5.0",
            "_model_name": "DescriptionStyleModel",
            "_view_count": null,
            "_view_module": "@jupyter-widgets/base",
            "_view_module_version": "1.2.0",
            "_view_name": "StyleView",
            "description_width": ""
          }
        },
        "0affe5a057794040bc54a60b0eb6ddf8": {
          "model_module": "@jupyter-widgets/base",
          "model_name": "LayoutModel",
          "model_module_version": "1.2.0",
          "state": {
            "_model_module": "@jupyter-widgets/base",
            "_model_module_version": "1.2.0",
            "_model_name": "LayoutModel",
            "_view_count": null,
            "_view_module": "@jupyter-widgets/base",
            "_view_module_version": "1.2.0",
            "_view_name": "LayoutView",
            "align_content": null,
            "align_items": null,
            "align_self": null,
            "border": null,
            "bottom": null,
            "display": null,
            "flex": null,
            "flex_flow": null,
            "grid_area": null,
            "grid_auto_columns": null,
            "grid_auto_flow": null,
            "grid_auto_rows": null,
            "grid_column": null,
            "grid_gap": null,
            "grid_row": null,
            "grid_template_areas": null,
            "grid_template_columns": null,
            "grid_template_rows": null,
            "height": null,
            "justify_content": null,
            "justify_items": null,
            "left": null,
            "margin": null,
            "max_height": null,
            "max_width": null,
            "min_height": null,
            "min_width": null,
            "object_fit": null,
            "object_position": null,
            "order": null,
            "overflow": null,
            "overflow_x": null,
            "overflow_y": null,
            "padding": null,
            "right": null,
            "top": null,
            "visibility": null,
            "width": null
          }
        },
        "e44df046add34f868c8c590a0e31c848": {
          "model_module": "@jupyter-widgets/controls",
          "model_name": "ProgressStyleModel",
          "model_module_version": "1.5.0",
          "state": {
            "_model_module": "@jupyter-widgets/controls",
            "_model_module_version": "1.5.0",
            "_model_name": "ProgressStyleModel",
            "_view_count": null,
            "_view_module": "@jupyter-widgets/base",
            "_view_module_version": "1.2.0",
            "_view_name": "StyleView",
            "bar_color": null,
            "description_width": ""
          }
        },
        "8929dc7e74d047da89f24bbbb8a44f0a": {
          "model_module": "@jupyter-widgets/base",
          "model_name": "LayoutModel",
          "model_module_version": "1.2.0",
          "state": {
            "_model_module": "@jupyter-widgets/base",
            "_model_module_version": "1.2.0",
            "_model_name": "LayoutModel",
            "_view_count": null,
            "_view_module": "@jupyter-widgets/base",
            "_view_module_version": "1.2.0",
            "_view_name": "LayoutView",
            "align_content": null,
            "align_items": null,
            "align_self": null,
            "border": null,
            "bottom": null,
            "display": null,
            "flex": null,
            "flex_flow": null,
            "grid_area": null,
            "grid_auto_columns": null,
            "grid_auto_flow": null,
            "grid_auto_rows": null,
            "grid_column": null,
            "grid_gap": null,
            "grid_row": null,
            "grid_template_areas": null,
            "grid_template_columns": null,
            "grid_template_rows": null,
            "height": null,
            "justify_content": null,
            "justify_items": null,
            "left": null,
            "margin": null,
            "max_height": null,
            "max_width": null,
            "min_height": null,
            "min_width": null,
            "object_fit": null,
            "object_position": null,
            "order": null,
            "overflow": null,
            "overflow_x": null,
            "overflow_y": null,
            "padding": null,
            "right": null,
            "top": null,
            "visibility": null,
            "width": null
          }
        },
        "8e5a0f333c9740689f41b9bcd77adf22": {
          "model_module": "@jupyter-widgets/controls",
          "model_name": "DescriptionStyleModel",
          "model_module_version": "1.5.0",
          "state": {
            "_model_module": "@jupyter-widgets/controls",
            "_model_module_version": "1.5.0",
            "_model_name": "DescriptionStyleModel",
            "_view_count": null,
            "_view_module": "@jupyter-widgets/base",
            "_view_module_version": "1.2.0",
            "_view_name": "StyleView",
            "description_width": ""
          }
        }
      }
    }
  },
  "cells": [
    {
      "cell_type": "markdown",
      "source": [
        "# Тематическе моделирование"
      ],
      "metadata": {
        "id": "50ewmbnO4Lg_"
      }
    },
    {
      "cell_type": "markdown",
      "source": [
        "Что надо сделать:\n",
        "1. объединить в одну выборку (это только для твитов), для роспотребнадзора сформировать датасет из вопросов\n",
        "2. провести исследование и выявить тематики о которых говорят в твитах (для твитов), а для роспотребнадзора так же выявить тематики о которых люди пишут проанализировать\n",
        "3. сделать визуализацию кластеров тематик\n",
        "4. проинтерпритировать получившиеся тематики"
      ],
      "metadata": {
        "id": "92VdpPSV4P83"
      }
    },
    {
      "cell_type": "code",
      "source": [
        "# Рабочий вариант зависимостей для визуализации результатов работы LDA модели\n",
        "#  на момент август 2023 года.\n",
        "# !pip install pandas==1.5.3\n",
        "# !pip install numpy==1.18\n",
        "!pip install -q pyLDAvis"
      ],
      "metadata": {
        "id": "Z9QUaQjBcqA_"
      },
      "execution_count": null,
      "outputs": []
    },
    {
      "cell_type": "code",
      "source": [
        "!pip install -q pymorphy2"
      ],
      "metadata": {
        "id": "TvXYFwCIgCub"
      },
      "execution_count": 2,
      "outputs": []
    },
    {
      "cell_type": "code",
      "source": [
        "import numpy as np\n",
        "import pandas as pd\n",
        "import matplotlib.pyplot as plt\n",
        "%matplotlib inline\n",
        "\n",
        "import re\n",
        "import nltk\n",
        "import json\n",
        "import string\n",
        "import pymorphy2\n",
        "from tqdm.notebook import tqdm\n",
        "from nltk.corpus import stopwords\n",
        "from nltk.tokenize import word_tokenize\n",
        "from gensim.models import ldamodel, CoherenceModel\n",
        "from gensim import corpora\n",
        "import pyLDAvis\n",
        "import pyLDAvis.gensim_models as gensimvis\n",
        "import warnings\n",
        "warnings.filterwarnings(\"ignore\", category=DeprecationWarning)"
      ],
      "metadata": {
        "id": "b8DqKzuVVsmE"
      },
      "execution_count": 3,
      "outputs": []
    },
    {
      "cell_type": "code",
      "source": [
        "from google.colab import drive\n",
        "drive.mount('/content/drive')"
      ],
      "metadata": {
        "colab": {
          "base_uri": "https://localhost:8080/"
        },
        "id": "Z8aLOxFWVeMs",
        "outputId": "fd67e2c8-7d77-4345-a8cf-bc6aaba449a1"
      },
      "execution_count": 4,
      "outputs": [
        {
          "output_type": "stream",
          "name": "stdout",
          "text": [
            "Mounted at /content/drive\n"
          ]
        }
      ]
    },
    {
      "cell_type": "code",
      "execution_count": 5,
      "metadata": {
        "id": "_dK83K_y39YK"
      },
      "outputs": [],
      "source": [
        "# считываем данные и заполняем общий датасет\n",
        "positive = pd.read_csv('drive/MyDrive/positive.csv',\n",
        "                       sep=';',\n",
        "                       usecols=[3],\n",
        "                       names=['text'])\n",
        "negative = pd.read_csv('drive/MyDrive/negative.csv',\n",
        "                       sep=';',\n",
        "                       usecols=[3],\n",
        "                       names=['text'])\n",
        "\n",
        "df = pd.concat([positive, negative])"
      ]
    },
    {
      "cell_type": "code",
      "source": [
        "df.shape"
      ],
      "metadata": {
        "colab": {
          "base_uri": "https://localhost:8080/"
        },
        "id": "LYvhpCRVXg9Y",
        "outputId": "616a3899-f91b-4a28-9c6c-f83ec05440cf"
      },
      "execution_count": 6,
      "outputs": [
        {
          "output_type": "execute_result",
          "data": {
            "text/plain": [
              "(226834, 1)"
            ]
          },
          "metadata": {},
          "execution_count": 6
        }
      ]
    },
    {
      "cell_type": "code",
      "source": [
        "df.head()"
      ],
      "metadata": {
        "colab": {
          "base_uri": "https://localhost:8080/",
          "height": 204
        },
        "id": "2cXHEYpaXjnt",
        "outputId": "062a73c3-abd4-48f3-dc9f-d0b98c164fcd"
      },
      "execution_count": 7,
      "outputs": [
        {
          "output_type": "execute_result",
          "data": {
            "text/plain": [
              "                                                text\n",
              "0  @first_timee хоть я и школота, но поверь, у на...\n",
              "1  Да, все-таки он немного похож на него. Но мой ...\n",
              "2  RT @KatiaCheh: Ну ты идиотка) я испугалась за ...\n",
              "3  RT @digger2912: \"Кто то в углу сидит и погибае...\n",
              "4  @irina_dyshkant Вот что значит страшилка :D\\nН..."
            ],
            "text/html": [
              "\n",
              "\n",
              "  <div id=\"df-1b9633a9-b801-4107-aa95-9a1129f79480\">\n",
              "    <div class=\"colab-df-container\">\n",
              "      <div>\n",
              "<style scoped>\n",
              "    .dataframe tbody tr th:only-of-type {\n",
              "        vertical-align: middle;\n",
              "    }\n",
              "\n",
              "    .dataframe tbody tr th {\n",
              "        vertical-align: top;\n",
              "    }\n",
              "\n",
              "    .dataframe thead th {\n",
              "        text-align: right;\n",
              "    }\n",
              "</style>\n",
              "<table border=\"1\" class=\"dataframe\">\n",
              "  <thead>\n",
              "    <tr style=\"text-align: right;\">\n",
              "      <th></th>\n",
              "      <th>text</th>\n",
              "    </tr>\n",
              "  </thead>\n",
              "  <tbody>\n",
              "    <tr>\n",
              "      <th>0</th>\n",
              "      <td>@first_timee хоть я и школота, но поверь, у на...</td>\n",
              "    </tr>\n",
              "    <tr>\n",
              "      <th>1</th>\n",
              "      <td>Да, все-таки он немного похож на него. Но мой ...</td>\n",
              "    </tr>\n",
              "    <tr>\n",
              "      <th>2</th>\n",
              "      <td>RT @KatiaCheh: Ну ты идиотка) я испугалась за ...</td>\n",
              "    </tr>\n",
              "    <tr>\n",
              "      <th>3</th>\n",
              "      <td>RT @digger2912: \"Кто то в углу сидит и погибае...</td>\n",
              "    </tr>\n",
              "    <tr>\n",
              "      <th>4</th>\n",
              "      <td>@irina_dyshkant Вот что значит страшилка :D\\nН...</td>\n",
              "    </tr>\n",
              "  </tbody>\n",
              "</table>\n",
              "</div>\n",
              "      <button class=\"colab-df-convert\" onclick=\"convertToInteractive('df-1b9633a9-b801-4107-aa95-9a1129f79480')\"\n",
              "              title=\"Convert this dataframe to an interactive table.\"\n",
              "              style=\"display:none;\">\n",
              "\n",
              "  <svg xmlns=\"http://www.w3.org/2000/svg\" height=\"24px\"viewBox=\"0 0 24 24\"\n",
              "       width=\"24px\">\n",
              "    <path d=\"M0 0h24v24H0V0z\" fill=\"none\"/>\n",
              "    <path d=\"M18.56 5.44l.94 2.06.94-2.06 2.06-.94-2.06-.94-.94-2.06-.94 2.06-2.06.94zm-11 1L8.5 8.5l.94-2.06 2.06-.94-2.06-.94L8.5 2.5l-.94 2.06-2.06.94zm10 10l.94 2.06.94-2.06 2.06-.94-2.06-.94-.94-2.06-.94 2.06-2.06.94z\"/><path d=\"M17.41 7.96l-1.37-1.37c-.4-.4-.92-.59-1.43-.59-.52 0-1.04.2-1.43.59L10.3 9.45l-7.72 7.72c-.78.78-.78 2.05 0 2.83L4 21.41c.39.39.9.59 1.41.59.51 0 1.02-.2 1.41-.59l7.78-7.78 2.81-2.81c.8-.78.8-2.07 0-2.86zM5.41 20L4 18.59l7.72-7.72 1.47 1.35L5.41 20z\"/>\n",
              "  </svg>\n",
              "      </button>\n",
              "\n",
              "\n",
              "\n",
              "    <div id=\"df-59bbde17-ce1e-4542-a67e-ac65c4fb63cc\">\n",
              "      <button class=\"colab-df-quickchart\" onclick=\"quickchart('df-59bbde17-ce1e-4542-a67e-ac65c4fb63cc')\"\n",
              "              title=\"Suggest charts.\"\n",
              "              style=\"display:none;\">\n",
              "\n",
              "<svg xmlns=\"http://www.w3.org/2000/svg\" height=\"24px\"viewBox=\"0 0 24 24\"\n",
              "     width=\"24px\">\n",
              "    <g>\n",
              "        <path d=\"M19 3H5c-1.1 0-2 .9-2 2v14c0 1.1.9 2 2 2h14c1.1 0 2-.9 2-2V5c0-1.1-.9-2-2-2zM9 17H7v-7h2v7zm4 0h-2V7h2v10zm4 0h-2v-4h2v4z\"/>\n",
              "    </g>\n",
              "</svg>\n",
              "      </button>\n",
              "    </div>\n",
              "\n",
              "<style>\n",
              "  .colab-df-quickchart {\n",
              "    background-color: #E8F0FE;\n",
              "    border: none;\n",
              "    border-radius: 50%;\n",
              "    cursor: pointer;\n",
              "    display: none;\n",
              "    fill: #1967D2;\n",
              "    height: 32px;\n",
              "    padding: 0 0 0 0;\n",
              "    width: 32px;\n",
              "  }\n",
              "\n",
              "  .colab-df-quickchart:hover {\n",
              "    background-color: #E2EBFA;\n",
              "    box-shadow: 0px 1px 2px rgba(60, 64, 67, 0.3), 0px 1px 3px 1px rgba(60, 64, 67, 0.15);\n",
              "    fill: #174EA6;\n",
              "  }\n",
              "\n",
              "  [theme=dark] .colab-df-quickchart {\n",
              "    background-color: #3B4455;\n",
              "    fill: #D2E3FC;\n",
              "  }\n",
              "\n",
              "  [theme=dark] .colab-df-quickchart:hover {\n",
              "    background-color: #434B5C;\n",
              "    box-shadow: 0px 1px 3px 1px rgba(0, 0, 0, 0.15);\n",
              "    filter: drop-shadow(0px 1px 2px rgba(0, 0, 0, 0.3));\n",
              "    fill: #FFFFFF;\n",
              "  }\n",
              "</style>\n",
              "\n",
              "    <script>\n",
              "      async function quickchart(key) {\n",
              "        const containerElement = document.querySelector('#' + key);\n",
              "        const charts = await google.colab.kernel.invokeFunction(\n",
              "            'suggestCharts', [key], {});\n",
              "      }\n",
              "    </script>\n",
              "\n",
              "      <script>\n",
              "\n",
              "function displayQuickchartButton(domScope) {\n",
              "  let quickchartButtonEl =\n",
              "    domScope.querySelector('#df-59bbde17-ce1e-4542-a67e-ac65c4fb63cc button.colab-df-quickchart');\n",
              "  quickchartButtonEl.style.display =\n",
              "    google.colab.kernel.accessAllowed ? 'block' : 'none';\n",
              "}\n",
              "\n",
              "        displayQuickchartButton(document);\n",
              "      </script>\n",
              "      <style>\n",
              "    .colab-df-container {\n",
              "      display:flex;\n",
              "      flex-wrap:wrap;\n",
              "      gap: 12px;\n",
              "    }\n",
              "\n",
              "    .colab-df-convert {\n",
              "      background-color: #E8F0FE;\n",
              "      border: none;\n",
              "      border-radius: 50%;\n",
              "      cursor: pointer;\n",
              "      display: none;\n",
              "      fill: #1967D2;\n",
              "      height: 32px;\n",
              "      padding: 0 0 0 0;\n",
              "      width: 32px;\n",
              "    }\n",
              "\n",
              "    .colab-df-convert:hover {\n",
              "      background-color: #E2EBFA;\n",
              "      box-shadow: 0px 1px 2px rgba(60, 64, 67, 0.3), 0px 1px 3px 1px rgba(60, 64, 67, 0.15);\n",
              "      fill: #174EA6;\n",
              "    }\n",
              "\n",
              "    [theme=dark] .colab-df-convert {\n",
              "      background-color: #3B4455;\n",
              "      fill: #D2E3FC;\n",
              "    }\n",
              "\n",
              "    [theme=dark] .colab-df-convert:hover {\n",
              "      background-color: #434B5C;\n",
              "      box-shadow: 0px 1px 3px 1px rgba(0, 0, 0, 0.15);\n",
              "      filter: drop-shadow(0px 1px 2px rgba(0, 0, 0, 0.3));\n",
              "      fill: #FFFFFF;\n",
              "    }\n",
              "  </style>\n",
              "\n",
              "      <script>\n",
              "        const buttonEl =\n",
              "          document.querySelector('#df-1b9633a9-b801-4107-aa95-9a1129f79480 button.colab-df-convert');\n",
              "        buttonEl.style.display =\n",
              "          google.colab.kernel.accessAllowed ? 'block' : 'none';\n",
              "\n",
              "        async function convertToInteractive(key) {\n",
              "          const element = document.querySelector('#df-1b9633a9-b801-4107-aa95-9a1129f79480');\n",
              "          const dataTable =\n",
              "            await google.colab.kernel.invokeFunction('convertToInteractive',\n",
              "                                                     [key], {});\n",
              "          if (!dataTable) return;\n",
              "\n",
              "          const docLinkHtml = 'Like what you see? Visit the ' +\n",
              "            '<a target=\"_blank\" href=https://colab.research.google.com/notebooks/data_table.ipynb>data table notebook</a>'\n",
              "            + ' to learn more about interactive tables.';\n",
              "          element.innerHTML = '';\n",
              "          dataTable['output_type'] = 'display_data';\n",
              "          await google.colab.output.renderOutput(dataTable, element);\n",
              "          const docLink = document.createElement('div');\n",
              "          docLink.innerHTML = docLinkHtml;\n",
              "          element.appendChild(docLink);\n",
              "        }\n",
              "      </script>\n",
              "    </div>\n",
              "  </div>\n"
            ]
          },
          "metadata": {},
          "execution_count": 7
        }
      ]
    },
    {
      "cell_type": "markdown",
      "source": [
        "# Preprocessing"
      ],
      "metadata": {
        "id": "yFDZFxa1uoBv"
      }
    },
    {
      "cell_type": "code",
      "source": [
        "morph = pymorphy2.MorphAnalyzer()"
      ],
      "metadata": {
        "id": "BDtkesIjZYA-"
      },
      "execution_count": 8,
      "outputs": []
    },
    {
      "cell_type": "code",
      "source": [
        "nltk.download('stopwords')\n",
        "words_regex = re.compile('\\w+')"
      ],
      "metadata": {
        "colab": {
          "base_uri": "https://localhost:8080/"
        },
        "id": "z1mUT0Vqg6Rl",
        "outputId": "b6f82b85-030b-4980-96f2-fdac80f9683e"
      },
      "execution_count": 9,
      "outputs": [
        {
          "output_type": "stream",
          "name": "stderr",
          "text": [
            "[nltk_data] Downloading package stopwords to /root/nltk_data...\n",
            "[nltk_data]   Unzipping corpora/stopwords.zip.\n"
          ]
        }
      ]
    },
    {
      "cell_type": "code",
      "source": [
        "# Загрузим дополнительные стоп-слова\n",
        "!wget https://github.com/stopwords-iso/stopwords-ru/blob/master/stopwords-ru.json"
      ],
      "metadata": {
        "colab": {
          "base_uri": "https://localhost:8080/"
        },
        "id": "jTwteZM-s55m",
        "outputId": "ef30caa4-c3fc-4c8b-e5a2-d9c51d82fcbd"
      },
      "execution_count": 10,
      "outputs": [
        {
          "output_type": "stream",
          "name": "stdout",
          "text": [
            "--2023-08-16 04:46:42--  https://github.com/stopwords-iso/stopwords-ru/blob/master/stopwords-ru.json\n",
            "Resolving github.com (github.com)... 140.82.114.4\n",
            "Connecting to github.com (github.com)|140.82.114.4|:443... connected.\n",
            "HTTP request sent, awaiting response... 200 OK\n",
            "Length: 13060 (13K) [text/plain]\n",
            "Saving to: ‘stopwords-ru.json’\n",
            "\n",
            "stopwords-ru.json   100%[===================>]  12.75K  --.-KB/s    in 0.008s  \n",
            "\n",
            "2023-08-16 04:46:42 (1.58 MB/s) - ‘stopwords-ru.json’ saved [13060/13060]\n",
            "\n"
          ]
        }
      ]
    },
    {
      "cell_type": "code",
      "source": [
        "f = open('stopwords-ru.json')\n",
        "data = json.load(f)\n",
        "f.close()"
      ],
      "metadata": {
        "id": "wNyylk-ztvzY"
      },
      "execution_count": 11,
      "outputs": []
    },
    {
      "cell_type": "code",
      "source": [
        "extended_words = list(data)\n",
        "stopwords_list = stopwords.words('russian') + extended_words"
      ],
      "metadata": {
        "id": "KhrdZEa9tL8L"
      },
      "execution_count": 12,
      "outputs": []
    },
    {
      "cell_type": "code",
      "source": [
        "def find_words(text, regex=words_regex):\n",
        "    tokens =  regex.findall(text.lower())\n",
        "    return [w for w in tokens if w.isalpha() and len(w) >= 3]\n",
        "\n",
        "def lemmatize(words, lemmer=morph, stopwords=stopwords_list):\n",
        "    lemmas = [lemmer.parse(w)[0].normal_form for w in words]\n",
        "    return [w for w in lemmas if not w in stopwords\n",
        "            and w.isalpha()]\n",
        "\n",
        "def preprocess(text):\n",
        "    return (lemmatize(find_words(text)))"
      ],
      "metadata": {
        "id": "Wb_NFRVCq-W_"
      },
      "execution_count": 13,
      "outputs": []
    },
    {
      "cell_type": "code",
      "source": [
        "df.text.iloc[1]"
      ],
      "metadata": {
        "colab": {
          "base_uri": "https://localhost:8080/",
          "height": 35
        },
        "id": "RQ4NJppawqCZ",
        "outputId": "22fae220-137e-4332-db21-9dd98233fcdc"
      },
      "execution_count": 14,
      "outputs": [
        {
          "output_type": "execute_result",
          "data": {
            "text/plain": [
              "'Да, все-таки он немного похож на него. Но мой мальчик все равно лучше:D'"
            ],
            "application/vnd.google.colaboratory.intrinsic+json": {
              "type": "string"
            }
          },
          "metadata": {},
          "execution_count": 14
        }
      ]
    },
    {
      "cell_type": "code",
      "source": [
        "print(preprocess(df.text.iloc[1]))"
      ],
      "metadata": {
        "colab": {
          "base_uri": "https://localhost:8080/"
        },
        "id": "WS4jFso0xVc3",
        "outputId": "7933df8c-e309-472e-b649-535c5a62784a"
      },
      "execution_count": 15,
      "outputs": [
        {
          "output_type": "stream",
          "name": "stdout",
          "text": [
            "['всё', 'таки', 'немного', 'похожий', 'мальчик', 'всё', 'равно', 'хороший']\n"
          ]
        }
      ]
    },
    {
      "cell_type": "code",
      "source": [
        "preprocessed_text = list(tqdm(map(preprocess, df['text']), total=len(df), desc='Progress'))"
      ],
      "metadata": {
        "colab": {
          "base_uri": "https://localhost:8080/",
          "height": 49,
          "referenced_widgets": [
            "ca81905880114e2da7b05bccec188e38",
            "e37338484fc94784afcb19add0443295",
            "e16c8e4fc9f4443197fe7c1706335922",
            "7453cfff16a14208aa539e64f35ee3e9",
            "6f6c21ebd886412b9dc1e89416269d30",
            "9c5009fd075f43d38b2528a8b0d0d356",
            "33a93adca06342d2a354e8d879d3ff8a",
            "0affe5a057794040bc54a60b0eb6ddf8",
            "e44df046add34f868c8c590a0e31c848",
            "8929dc7e74d047da89f24bbbb8a44f0a",
            "8e5a0f333c9740689f41b9bcd77adf22"
          ]
        },
        "id": "H0ILyBYQx4En",
        "outputId": "66a74b0a-0338-434d-836f-d563feb4d12c"
      },
      "execution_count": 16,
      "outputs": [
        {
          "output_type": "display_data",
          "data": {
            "text/plain": [
              "Progress:   0%|          | 0/226834 [00:00<?, ?it/s]"
            ],
            "application/vnd.jupyter.widget-view+json": {
              "version_major": 2,
              "version_minor": 0,
              "model_id": "ca81905880114e2da7b05bccec188e38"
            }
          },
          "metadata": {}
        }
      ]
    },
    {
      "cell_type": "code",
      "source": [
        "df['preprocessed_text'] = preprocessed_text\n",
        "df.head(3)"
      ],
      "metadata": {
        "colab": {
          "base_uri": "https://localhost:8080/",
          "height": 142
        },
        "id": "kXxgrbKXoR6c",
        "outputId": "b41a1d7b-c4d7-4c4f-ce89-0d080ec19ed6"
      },
      "execution_count": 17,
      "outputs": [
        {
          "output_type": "execute_result",
          "data": {
            "text/plain": [
              "                                                text  \\\n",
              "0  @first_timee хоть я и школота, но поверь, у на...   \n",
              "1  Да, все-таки он немного похож на него. Но мой ...   \n",
              "2  RT @KatiaCheh: Ну ты идиотка) я испугалась за ...   \n",
              "\n",
              "                                   preprocessed_text  \n",
              "0  [школотый, поверь, самый, общество, профилиров...  \n",
              "1  [всё, таки, немного, похожий, мальчик, всё, ра...  \n",
              "2                   [katiacheh, идиотка, испугаться]  "
            ],
            "text/html": [
              "\n",
              "\n",
              "  <div id=\"df-413215fd-b9ef-4870-b7b7-3f89251f5974\">\n",
              "    <div class=\"colab-df-container\">\n",
              "      <div>\n",
              "<style scoped>\n",
              "    .dataframe tbody tr th:only-of-type {\n",
              "        vertical-align: middle;\n",
              "    }\n",
              "\n",
              "    .dataframe tbody tr th {\n",
              "        vertical-align: top;\n",
              "    }\n",
              "\n",
              "    .dataframe thead th {\n",
              "        text-align: right;\n",
              "    }\n",
              "</style>\n",
              "<table border=\"1\" class=\"dataframe\">\n",
              "  <thead>\n",
              "    <tr style=\"text-align: right;\">\n",
              "      <th></th>\n",
              "      <th>text</th>\n",
              "      <th>preprocessed_text</th>\n",
              "    </tr>\n",
              "  </thead>\n",
              "  <tbody>\n",
              "    <tr>\n",
              "      <th>0</th>\n",
              "      <td>@first_timee хоть я и школота, но поверь, у на...</td>\n",
              "      <td>[школотый, поверь, самый, общество, профилиров...</td>\n",
              "    </tr>\n",
              "    <tr>\n",
              "      <th>1</th>\n",
              "      <td>Да, все-таки он немного похож на него. Но мой ...</td>\n",
              "      <td>[всё, таки, немного, похожий, мальчик, всё, ра...</td>\n",
              "    </tr>\n",
              "    <tr>\n",
              "      <th>2</th>\n",
              "      <td>RT @KatiaCheh: Ну ты идиотка) я испугалась за ...</td>\n",
              "      <td>[katiacheh, идиотка, испугаться]</td>\n",
              "    </tr>\n",
              "  </tbody>\n",
              "</table>\n",
              "</div>\n",
              "      <button class=\"colab-df-convert\" onclick=\"convertToInteractive('df-413215fd-b9ef-4870-b7b7-3f89251f5974')\"\n",
              "              title=\"Convert this dataframe to an interactive table.\"\n",
              "              style=\"display:none;\">\n",
              "\n",
              "  <svg xmlns=\"http://www.w3.org/2000/svg\" height=\"24px\"viewBox=\"0 0 24 24\"\n",
              "       width=\"24px\">\n",
              "    <path d=\"M0 0h24v24H0V0z\" fill=\"none\"/>\n",
              "    <path d=\"M18.56 5.44l.94 2.06.94-2.06 2.06-.94-2.06-.94-.94-2.06-.94 2.06-2.06.94zm-11 1L8.5 8.5l.94-2.06 2.06-.94-2.06-.94L8.5 2.5l-.94 2.06-2.06.94zm10 10l.94 2.06.94-2.06 2.06-.94-2.06-.94-.94-2.06-.94 2.06-2.06.94z\"/><path d=\"M17.41 7.96l-1.37-1.37c-.4-.4-.92-.59-1.43-.59-.52 0-1.04.2-1.43.59L10.3 9.45l-7.72 7.72c-.78.78-.78 2.05 0 2.83L4 21.41c.39.39.9.59 1.41.59.51 0 1.02-.2 1.41-.59l7.78-7.78 2.81-2.81c.8-.78.8-2.07 0-2.86zM5.41 20L4 18.59l7.72-7.72 1.47 1.35L5.41 20z\"/>\n",
              "  </svg>\n",
              "      </button>\n",
              "\n",
              "\n",
              "\n",
              "    <div id=\"df-d6e8a54b-6d42-4034-923f-6acc8acd6cdf\">\n",
              "      <button class=\"colab-df-quickchart\" onclick=\"quickchart('df-d6e8a54b-6d42-4034-923f-6acc8acd6cdf')\"\n",
              "              title=\"Suggest charts.\"\n",
              "              style=\"display:none;\">\n",
              "\n",
              "<svg xmlns=\"http://www.w3.org/2000/svg\" height=\"24px\"viewBox=\"0 0 24 24\"\n",
              "     width=\"24px\">\n",
              "    <g>\n",
              "        <path d=\"M19 3H5c-1.1 0-2 .9-2 2v14c0 1.1.9 2 2 2h14c1.1 0 2-.9 2-2V5c0-1.1-.9-2-2-2zM9 17H7v-7h2v7zm4 0h-2V7h2v10zm4 0h-2v-4h2v4z\"/>\n",
              "    </g>\n",
              "</svg>\n",
              "      </button>\n",
              "    </div>\n",
              "\n",
              "<style>\n",
              "  .colab-df-quickchart {\n",
              "    background-color: #E8F0FE;\n",
              "    border: none;\n",
              "    border-radius: 50%;\n",
              "    cursor: pointer;\n",
              "    display: none;\n",
              "    fill: #1967D2;\n",
              "    height: 32px;\n",
              "    padding: 0 0 0 0;\n",
              "    width: 32px;\n",
              "  }\n",
              "\n",
              "  .colab-df-quickchart:hover {\n",
              "    background-color: #E2EBFA;\n",
              "    box-shadow: 0px 1px 2px rgba(60, 64, 67, 0.3), 0px 1px 3px 1px rgba(60, 64, 67, 0.15);\n",
              "    fill: #174EA6;\n",
              "  }\n",
              "\n",
              "  [theme=dark] .colab-df-quickchart {\n",
              "    background-color: #3B4455;\n",
              "    fill: #D2E3FC;\n",
              "  }\n",
              "\n",
              "  [theme=dark] .colab-df-quickchart:hover {\n",
              "    background-color: #434B5C;\n",
              "    box-shadow: 0px 1px 3px 1px rgba(0, 0, 0, 0.15);\n",
              "    filter: drop-shadow(0px 1px 2px rgba(0, 0, 0, 0.3));\n",
              "    fill: #FFFFFF;\n",
              "  }\n",
              "</style>\n",
              "\n",
              "    <script>\n",
              "      async function quickchart(key) {\n",
              "        const containerElement = document.querySelector('#' + key);\n",
              "        const charts = await google.colab.kernel.invokeFunction(\n",
              "            'suggestCharts', [key], {});\n",
              "      }\n",
              "    </script>\n",
              "\n",
              "      <script>\n",
              "\n",
              "function displayQuickchartButton(domScope) {\n",
              "  let quickchartButtonEl =\n",
              "    domScope.querySelector('#df-d6e8a54b-6d42-4034-923f-6acc8acd6cdf button.colab-df-quickchart');\n",
              "  quickchartButtonEl.style.display =\n",
              "    google.colab.kernel.accessAllowed ? 'block' : 'none';\n",
              "}\n",
              "\n",
              "        displayQuickchartButton(document);\n",
              "      </script>\n",
              "      <style>\n",
              "    .colab-df-container {\n",
              "      display:flex;\n",
              "      flex-wrap:wrap;\n",
              "      gap: 12px;\n",
              "    }\n",
              "\n",
              "    .colab-df-convert {\n",
              "      background-color: #E8F0FE;\n",
              "      border: none;\n",
              "      border-radius: 50%;\n",
              "      cursor: pointer;\n",
              "      display: none;\n",
              "      fill: #1967D2;\n",
              "      height: 32px;\n",
              "      padding: 0 0 0 0;\n",
              "      width: 32px;\n",
              "    }\n",
              "\n",
              "    .colab-df-convert:hover {\n",
              "      background-color: #E2EBFA;\n",
              "      box-shadow: 0px 1px 2px rgba(60, 64, 67, 0.3), 0px 1px 3px 1px rgba(60, 64, 67, 0.15);\n",
              "      fill: #174EA6;\n",
              "    }\n",
              "\n",
              "    [theme=dark] .colab-df-convert {\n",
              "      background-color: #3B4455;\n",
              "      fill: #D2E3FC;\n",
              "    }\n",
              "\n",
              "    [theme=dark] .colab-df-convert:hover {\n",
              "      background-color: #434B5C;\n",
              "      box-shadow: 0px 1px 3px 1px rgba(0, 0, 0, 0.15);\n",
              "      filter: drop-shadow(0px 1px 2px rgba(0, 0, 0, 0.3));\n",
              "      fill: #FFFFFF;\n",
              "    }\n",
              "  </style>\n",
              "\n",
              "      <script>\n",
              "        const buttonEl =\n",
              "          document.querySelector('#df-413215fd-b9ef-4870-b7b7-3f89251f5974 button.colab-df-convert');\n",
              "        buttonEl.style.display =\n",
              "          google.colab.kernel.accessAllowed ? 'block' : 'none';\n",
              "\n",
              "        async function convertToInteractive(key) {\n",
              "          const element = document.querySelector('#df-413215fd-b9ef-4870-b7b7-3f89251f5974');\n",
              "          const dataTable =\n",
              "            await google.colab.kernel.invokeFunction('convertToInteractive',\n",
              "                                                     [key], {});\n",
              "          if (!dataTable) return;\n",
              "\n",
              "          const docLinkHtml = 'Like what you see? Visit the ' +\n",
              "            '<a target=\"_blank\" href=https://colab.research.google.com/notebooks/data_table.ipynb>data table notebook</a>'\n",
              "            + ' to learn more about interactive tables.';\n",
              "          element.innerHTML = '';\n",
              "          dataTable['output_type'] = 'display_data';\n",
              "          await google.colab.output.renderOutput(dataTable, element);\n",
              "          const docLink = document.createElement('div');\n",
              "          docLink.innerHTML = docLinkHtml;\n",
              "          element.appendChild(docLink);\n",
              "        }\n",
              "      </script>\n",
              "    </div>\n",
              "  </div>\n"
            ]
          },
          "metadata": {},
          "execution_count": 17
        }
      ]
    },
    {
      "cell_type": "markdown",
      "source": [
        "# LDA Modeling"
      ],
      "metadata": {
        "id": "kSoTXgmSvDic"
      }
    },
    {
      "cell_type": "code",
      "source": [
        "!pip install -U -q gensim"
      ],
      "metadata": {
        "id": "40q9w6V_vGFk"
      },
      "execution_count": 18,
      "outputs": []
    },
    {
      "cell_type": "markdown",
      "source": [
        "Модель использует векторное представление документов, поэтому создадим словарь"
      ],
      "metadata": {
        "id": "_p-jfwnQVceL"
      }
    },
    {
      "cell_type": "code",
      "source": [
        "dictionary = corpora.Dictionary(df['preprocessed_text'])\n",
        "\n",
        "# игнорируем слова, которые встречаются реже 10 раз или составляют более 0.9 словаря\n",
        "dictionary.filter_extremes(no_below=10, no_above=0.9, keep_n=None)\n",
        "dictionary.save('tweets.dict')"
      ],
      "metadata": {
        "id": "484b3xCAVRul"
      },
      "execution_count": 19,
      "outputs": []
    },
    {
      "cell_type": "markdown",
      "source": [
        "Векторизуем документы"
      ],
      "metadata": {
        "id": "J_T_nwPbYuxr"
      }
    },
    {
      "cell_type": "code",
      "source": [
        "corpus = [dictionary.doc2bow(text) for text in df['preprocessed_text']]\n",
        "corpora.MmCorpus.serialize('tweets.model', corpus)"
      ],
      "metadata": {
        "id": "lrGlydJ8YuOi"
      },
      "execution_count": 20,
      "outputs": []
    },
    {
      "cell_type": "markdown",
      "source": [
        "Обучение модели"
      ],
      "metadata": {
        "id": "SfE9p_jCZyVo"
      }
    },
    {
      "cell_type": "code",
      "source": [
        "%time\n",
        "\n",
        "lda = ldamodel.LdaModel(corpus, id2word=dictionary,\n",
        "                        num_topics=20,\n",
        "                        chunksize=50,\n",
        "                        update_every=1,\n",
        "                        passes=2)"
      ],
      "metadata": {
        "colab": {
          "base_uri": "https://localhost:8080/"
        },
        "id": "FzFLQHxaZLhJ",
        "outputId": "330d75c6-eba4-4813-c1d6-e4f7c6b56591"
      },
      "execution_count": 21,
      "outputs": [
        {
          "metadata": {
            "tags": null
          },
          "name": "stdout",
          "output_type": "stream",
          "text": [
            "CPU times: user 3 µs, sys: 1 µs, total: 4 µs\n",
            "Wall time: 7.15 µs\n"
          ]
        }
      ]
    },
    {
      "cell_type": "code",
      "source": [
        "lda.show_topics(num_topics=10, num_words=10, formatted=True)"
      ],
      "metadata": {
        "colab": {
          "base_uri": "https://localhost:8080/"
        },
        "id": "zSGIsEWhZ1bE",
        "outputId": "a2202679-d913-436a-ab21-bd2c7fb40a07"
      },
      "execution_count": 22,
      "outputs": [
        {
          "data": {
            "text/plain": [
              "[(10,\n",
              "  '0.277*\"пиздец\" + 0.269*\"нравиться\" + 0.148*\"прям\" + 0.086*\"свет\" + 0.041*\"мужчина\" + 0.039*\"контрольный\" + 0.035*\"рада\" + 0.011*\"заебись\" + 0.004*\"костюм\" + 0.000*\"сука\"'),\n",
              " (9,\n",
              "  '0.848*\"самый\" + 0.005*\"победить\" + 0.000*\"жизнь\" + 0.000*\"ужасный\" + 0.000*\"обидный\" + 0.000*\"маленький\" + 0.000*\"экзамен\" + 0.000*\"старший\" + 0.000*\"читать\" + 0.000*\"вообще\"'),\n",
              " (3,\n",
              "  '0.000*\"снегурочка\" + 0.000*\"фикбук\" + 0.000*\"обидеть\" + 0.000*\"побриться\" + 0.000*\"лавочка\" + 0.000*\"офигительный\" + 0.000*\"одинаково\" + 0.000*\"строй\" + 0.000*\"смелый\" + 0.000*\"mashushnik\"'),\n",
              " (5,\n",
              "  '0.264*\"год\" + 0.264*\"сидеть\" + 0.162*\"новый\" + 0.106*\"папа\" + 0.070*\"взять\" + 0.051*\"жрать\" + 0.026*\"остальной\" + 0.009*\"читатель\" + 0.000*\"дом\" + 0.000*\"делать\"'),\n",
              " (14,\n",
              "  '0.000*\"снегурочка\" + 0.000*\"фикбук\" + 0.000*\"обидеть\" + 0.000*\"побриться\" + 0.000*\"лавочка\" + 0.000*\"офигительный\" + 0.000*\"одинаково\" + 0.000*\"строй\" + 0.000*\"смелый\" + 0.000*\"mashushnik\"'),\n",
              " (15,\n",
              "  '0.397*\"день\" + 0.249*\"блин\" + 0.087*\"посмотреть\" + 0.081*\"второй\" + 0.044*\"сон\" + 0.037*\"значит\" + 0.020*\"ощущение\" + 0.018*\"ум\" + 0.018*\"часть\" + 0.014*\"подряд\"'),\n",
              " (6,\n",
              "  '0.269*\"сказать\" + 0.196*\"думать\" + 0.120*\"дело\" + 0.103*\"найти\" + 0.043*\"добрый\" + 0.040*\"страшно\" + 0.039*\"серия\" + 0.038*\"поэтому\" + 0.033*\"ахах\" + 0.030*\"группа\"'),\n",
              " (8,\n",
              "  '0.283*\"ночь\" + 0.190*\"фильм\" + 0.139*\"гулять\" + 0.109*\"сериал\" + 0.107*\"книга\" + 0.043*\"кофе\" + 0.037*\"праздник\" + 0.027*\"огонь\" + 0.000*\"пойти\" + 0.000*\"час\"'),\n",
              " (11,\n",
              "  '0.549*\"http\" + 0.163*\"знать\" + 0.120*\"любить\" + 0.061*\"неделя\" + 0.060*\"бля\" + 0.023*\"история\" + 0.009*\"прекрасный\" + 0.000*\"делать\" + 0.000*\"вообще\" + 0.000*\"ждать\"'),\n",
              " (2,\n",
              "  '0.393*\"ещё\" + 0.210*\"почему\" + 0.129*\"который\" + 0.123*\"время\" + 0.078*\"работа\" + 0.025*\"русский\" + 0.013*\"зря\" + 0.007*\"шутить\" + 0.000*\"спать\" + 0.000*\"делать\"')]"
            ]
          },
          "execution_count": 22,
          "metadata": {},
          "output_type": "execute_result"
        }
      ]
    },
    {
      "cell_type": "markdown",
      "source": [
        "Полученные темы спроецируем на плоскости"
      ],
      "metadata": {
        "id": "zyEDEP91cxID"
      }
    },
    {
      "cell_type": "code",
      "source": [
        "%time\n",
        "\n",
        "pyLDAvis.enable_notebook()\n",
        "vis_data = gensimvis.prepare(lda, corpus, dictionary)\n",
        "pyLDAvis.display(vis_data)"
      ],
      "metadata": {
        "colab": {
          "base_uri": "https://localhost:8080/",
          "height": 915
        },
        "id": "ne2SeEj0dcGQ",
        "outputId": "dfceef97-176e-4975-9797-7ad2ae9699ea"
      },
      "execution_count": 23,
      "outputs": [
        {
          "output_type": "stream",
          "name": "stdout",
          "text": [
            "CPU times: user 4 µs, sys: 0 ns, total: 4 µs\n",
            "Wall time: 8.58 µs\n"
          ]
        },
        {
          "output_type": "execute_result",
          "data": {
            "text/plain": [
              "<IPython.core.display.HTML object>"
            ],
            "text/html": [
              "\n",
              "<link rel=\"stylesheet\" type=\"text/css\" href=\"https://cdn.jsdelivr.net/gh/bmabey/pyLDAvis@3.4.0/pyLDAvis/js/ldavis.v1.0.0.css\">\n",
              "\n",
              "\n",
              "<div id=\"ldavis_el7821394569239629441986235792\" style=\"background-color:white;\"></div>\n",
              "<script type=\"text/javascript\">\n",
              "\n",
              "var ldavis_el7821394569239629441986235792_data = {\"mdsDat\": {\"x\": [-0.15156444436362126, -0.14577512737238055, -0.11649082990468788, -0.1220599859673696, -0.11828149507011523, -0.10801046255718282, -0.10655720805324163, -0.10076272412008683, -0.0626218438455818, -0.028842098453711402, -0.09813981056502254, -0.02082356171726251, -0.08701532964939948, 0.02519564021667634, 0.024888815617856764, 0.08217628149037656, 0.16853960770331014, 0.3220481922038144, 0.3220481922038145, 0.32204819220381453], \"y\": [-0.3674151690456993, 0.3118689793279562, 0.01162586670963239, 0.014524405038198747, 0.012857016780721441, 0.00806465494688115, 0.0076757799822108575, 0.0062371756848994524, 0.0010933480937362224, -0.0005924015367474781, 0.005691928272875587, -0.0008123337833967328, 0.0039091961225512705, -0.0020907433884881014, -0.0020857177553139324, -0.002851210487102599, -0.0032125902564928443, -0.0014960615688070383, -0.001496061568807023, -0.0014960615688071315], \"topics\": [1, 2, 3, 4, 5, 6, 7, 8, 9, 10, 11, 12, 13, 14, 15, 16, 17, 18, 19, 20], \"cluster\": [1, 1, 1, 1, 1, 1, 1, 1, 1, 1, 1, 1, 1, 1, 1, 1, 1, 1, 1, 1], \"Freq\": [9.566771497660929, 8.95074252045411, 6.995899709545836, 6.588706856314438, 6.444588085042454, 5.997058646726013, 5.872178500552483, 5.553344892549856, 5.278152146977511, 5.118473091323965, 4.99640011479245, 4.4247011160150995, 4.35936689466957, 3.6384685032980544, 3.4915513219440584, 3.2041650789675766, 2.7981560095134044, 2.24042500455073, 2.24042500455073, 2.24042500455073]}, \"tinfo\": {\"Term\": [\"\\u044d\\u0442\\u043e\", \"http\", \"\\u0432\\u0441\\u0451\", \"\\u0445\\u043e\\u0442\\u0435\\u0442\\u044c\", \"\\u0432\\u0435\\u0441\\u044c\", \"\\u0441\\u0430\\u043c\\u044b\\u0439\", \"\\u043c\\u043e\\u0447\\u044c\", \"\\u0435\\u0449\\u0451\", \"\\u0434\\u0435\\u043d\\u044c\", \"\\u0441\\u0435\\u0433\\u043e\\u0434\\u043d\\u044f\", \"\\u043e\\u0447\\u0435\\u043d\\u044c\", \"\\u0437\\u0430\\u0432\\u0442\\u0440\\u0430\", \"\\u0441\\u043a\\u0430\\u0437\\u0430\\u0442\\u044c\", \"\\u0431\\u043b\\u0438\\u043d\", \"\\u0433\\u043e\\u0434\", \"\\u0441\\u0438\\u0434\\u0435\\u0442\\u044c\", \"\\u043f\\u0440\\u043e\\u0441\\u0442\\u043e\", \"\\u043f\\u043e\\u0447\\u0435\\u043c\\u0443\", \"\\u0437\\u043d\\u0430\\u0442\\u044c\", \"\\u043d\\u043e\\u0447\\u044c\", \"\\u0434\\u0440\\u0443\\u0433\", \"\\u0438\\u0434\\u0442\\u0438\", \"\\u0441\\u0432\\u043e\\u0439\", \"\\u0447\\u0435\\u043b\\u043e\\u0432\\u0435\\u043a\", \"\\u043f\\u0438\\u0437\\u0434\\u0435\\u0446\", \"\\u0434\\u0443\\u043c\\u0430\\u0442\\u044c\", \"\\u043d\\u0440\\u0430\\u0432\\u0438\\u0442\\u044c\\u0441\\u044f\", \"\\u0448\\u043a\\u043e\\u043b\\u0430\", \"\\u0441\\u043c\\u043e\\u0442\\u0440\\u0435\\u0442\\u044c\", \"\\u043b\\u044e\\u0431\\u0438\\u0442\\u044c\", \"http\", \"\\u0437\\u043d\\u0430\\u0442\\u044c\", \"\\u043b\\u044e\\u0431\\u0438\\u0442\\u044c\", \"\\u043d\\u0435\\u0434\\u0435\\u043b\\u044f\", \"\\u0431\\u043b\\u044f\", \"\\u0438\\u0441\\u0442\\u043e\\u0440\\u0438\\u044f\", \"\\u043f\\u0440\\u0435\\u043a\\u0440\\u0430\\u0441\\u043d\\u044b\\u0439\", \"\\u0434\\u0435\\u043b\\u0430\\u0442\\u044c\", \"\\u0432\\u043e\\u043e\\u0431\\u0449\\u0435\", \"\\u0444\\u043e\\u0442\\u043e\", \"\\u0436\\u0434\\u0430\\u0442\\u044c\", \"\\u0441\\u043a\\u0443\\u0447\\u043d\\u043e\", \"\\u043f\\u0440\\u043e\\u0441\\u0442\\u0438\\u0442\\u044c\", \"\\u0441\\u043a\\u0443\\u0447\\u0430\\u0442\\u044c\", \"\\u0441\\u0434\\u0435\\u043b\\u0430\\u0442\\u044c\", \"\\u0431\\u043e\\u043b\\u044c\\u0448\\u043e\\u0439\", \"\\u043f\\u043e\\u0433\\u043e\\u0434\\u0430\", \"\\u0436\\u0438\\u0437\\u043d\\u044c\", \"\\u043f\\u043e\\u0441\\u043b\\u0435\\u0434\\u043d\\u0438\\u0439\", \"\\u0434\\u043e\\u043c\", \"\\u043f\\u043e\\u043a\\u0430\", \"\\u0436\\u0430\\u043b\\u044c\", \"\\u043a\\u0438\\u0435\\u0432\", \"\\u0431\\u043b\\u044f\\u0434\\u044c\", \"\\u0441\\u043c\\u043e\\u0447\\u044c\", \"\\u0431\\u043e\\u043b\\u0435\\u0442\\u044c\", \"\\u0441\\u043b\\u0438\\u0448\\u043a\\u043e\\u043c\", \"\\u043d\\u0435\\u043d\\u0430\\u0432\\u0438\\u0434\\u0435\\u0442\\u044c\", \"\\u0441\\u043a\\u043e\\u0440\\u043e\", \"\\u043f\\u043e\\u0440\\u0430\", \"\\u0443\\u0436\\u0430\\u0441\\u043d\\u044b\\u0439\", \"\\u0443\\u0440\\u043e\\u043a\", \"\\u0442\\u0432\\u043e\\u0439\", \"\\u0432\\u0441\\u0451\", \"\\u0447\\u0435\\u043b\\u043e\\u0432\\u0435\\u043a\", \"\\u0445\\u043e\\u0440\\u043e\\u0448\\u0438\\u0439\", \"\\u043f\\u043e\\u043d\\u044f\\u0442\\u044c\", \"\\u0442\\u0430\\u043a\\u0438\", \"\\u043f\\u043e\\u043b\\u0443\\u0447\\u0430\\u0442\\u044c\\u0441\\u044f\", \"\\u0441\\u043b\\u0443\\u0448\\u0430\\u0442\\u044c\", \"\\u043d\\u0435\\u043c\\u043d\\u043e\\u0433\\u043e\", \"\\u043c\\u0430\\u043b\\u044c\\u0447\\u0438\\u043a\", \"\\u043f\\u043e\\u0445\\u043e\\u0436\\u0438\\u0439\", \"\\u043d\\u0430\\u043e\\u0431\\u043e\\u0440\\u043e\\u0442\", \"\\u0441\\u0443\\u043f\\u0435\\u0440\", \"\\u0432\\u0441\\u0442\\u0440\\u0435\\u0447\\u0430\\u0442\\u044c\", \"\\u0432\\u0440\\u043e\\u0434\\u0435\", \"\\u0431\\u043e\\u043b\\u044c\\u0448\\u043e\\u0439\", \"\\u0441\\u0434\\u0435\\u043b\\u0430\\u0442\\u044c\", \"\\u0431\\u043e\\u043b\\u0435\\u0442\\u044c\", \"\\u043f\\u043b\\u043e\\u0445\\u043e\", \"\\u0432\\u043e\\u043e\\u0431\\u0449\\u0435\", \"\\u0434\\u0435\\u043b\\u0430\\u0442\\u044c\", \"\\u0437\\u0438\\u043c\\u0430\", \"\\u0441\\u0442\\u0430\\u0442\\u044c\", \"\\u0434\\u043e\\u043c\", \"\\u0441\\u043a\\u0443\\u0447\\u0430\\u0442\\u044c\", \"\\u043f\\u043e\\u043d\\u0438\\u043c\\u0430\\u0442\\u044c\", \"\\u0440\\u0443\\u043a\\u0430\", \"\\u0436\\u0430\\u043b\\u044c\", \"\\u043d\\u0430\\u0441\\u0442\\u0440\\u043e\\u0435\\u043d\\u0438\\u0435\", \"\\u043f\\u043b\\u043e\\u0445\\u043e\\u0439\", \"\\u043f\\u043e\\u0434\\u0440\\u0443\\u0433\\u0430\", \"\\u043f\\u043e\\u0439\\u0442\\u0438\", \"\\u0441\\u043f\\u0430\\u0442\\u044c\", \"\\u0436\\u0438\\u0437\\u043d\\u044c\", \"\\u043e\\u0447\\u0435\\u043d\\u044c\", \"\\u0441\\u0432\\u043e\\u0439\", \"\\u0441\\u043c\\u043e\\u0442\\u0440\\u0435\\u0442\\u044c\", \"\\u043d\\u0438\\u043a\\u0442\\u043e\", \"\\u043a\\u0430\\u0436\\u0434\\u044b\\u0439\", \"\\u0440\\u0430\\u0431\\u043e\\u0442\\u0430\\u0442\\u044c\", \"\\u0441\\u043f\\u0430\\u0441\\u0438\\u0431\\u043e\", \"\\u043f\\u043e\\u043f\\u0430\\u0441\\u0442\\u044c\", \"\\u0434\\u043e\\u0431\\u0440\\u043e\", \"\\u0433\\u043b\\u0430\\u0432\\u043d\\u043e\\u0435\", \"\\u0440\\u0430\\u0434\\u043e\\u0432\\u0430\\u0442\\u044c\", \"\\u0444\\u0430\\u043a\\u0442\", \"\\u0441\\u043b\\u0443\\u0447\\u0430\\u0439\\u043d\\u043e\", \"\\u0445\\u043e\\u043b\\u043e\\u0434\\u043d\\u043e\", \"\\u0441\\u043a\\u0443\\u0447\\u0430\\u0442\\u044c\", \"\\u0431\\u043e\\u043b\\u044c\\u0448\\u043e\\u0439\", \"\\u0432\\u0438\\u0434\\u0435\\u0442\\u044c\", \"\\u0436\\u0438\\u0437\\u043d\\u044c\", \"\\u043f\\u043e\\u043d\\u0438\\u043c\\u0430\\u0442\\u044c\", \"\\u0436\\u0430\\u043b\\u044c\", \"\\u043f\\u043b\\u043e\\u0445\\u043e\", \"\\u0436\\u0430\\u043b\\u043a\\u043e\", \"\\u0434\\u043e\\u043c\", \"\\u0447\\u0430\\u0441\", \"\\u043b\\u044e\\u0431\\u0438\\u043c\\u044b\\u0439\", \"\\u0443\\u0439\\u0442\\u0438\", \"\\u0433\\u043e\\u0432\\u043e\\u0440\\u0438\\u0442\\u044c\", \"\\u0442\\u0435\\u043b\\u0435\\u0444\\u043e\\u043d\", \"\\u043d\\u0430\\u0434\\u0435\\u044f\\u0442\\u044c\\u0441\\u044f\", \"\\u043b\\u0438\\u0447\\u043d\\u044b\\u0439\", \"\\u0432\\u043e\\u043e\\u0431\\u0449\\u0435\", \"\\u0443\\u043b\\u0438\\u0446\\u0430\", \"\\u0435\\u0449\\u0451\", \"\\u043f\\u043e\\u0447\\u0435\\u043c\\u0443\", \"\\u043a\\u043e\\u0442\\u043e\\u0440\\u044b\\u0439\", \"\\u0432\\u0440\\u0435\\u043c\\u044f\", \"\\u0440\\u0430\\u0431\\u043e\\u0442\\u0430\", \"\\u0440\\u0443\\u0441\\u0441\\u043a\\u0438\\u0439\", \"\\u0437\\u0440\\u044f\", \"\\u0448\\u0443\\u0442\\u0438\\u0442\\u044c\", \"\\u0441\\u043f\\u0430\\u0442\\u044c\", \"\\u0434\\u0435\\u043b\\u0430\\u0442\\u044c\", \"\\u043c\\u0435\\u0441\\u044f\\u0446\", \"\\u043d\\u0430\\u0441\\u0442\\u0440\\u043e\\u0435\\u043d\\u0438\\u0435\", \"\\u0433\\u043e\\u0432\\u043e\\u0440\\u0438\\u0442\\u044c\", \"\\u043f\\u043e\\u0441\\u043b\\u0435\\u0434\\u043d\\u0438\\u0439\", \"\\u0432\\u0435\\u0440\\u043d\\u0443\\u0442\\u044c\", \"\\u0431\\u043e\\u043b\\u0435\\u0442\\u044c\", \"\\u0436\\u0430\\u043b\\u044c\", \"\\u043f\\u043b\\u043e\\u0445\\u043e\", \"\\u043f\\u043e\\u043d\\u0438\\u043c\\u0430\\u0442\\u044c\", \"\\u0431\\u043e\\u043b\\u044c\\u0448\\u043e\\u0439\", \"\\u0447\\u0430\\u0441\", \"\\u0441\\u0442\\u0430\\u0442\\u044c\", \"\\u043f\\u043b\\u043e\\u0445\\u043e\\u0439\", \"\\u0443\\u0440\\u043e\\u043a\", \"\\u0443\\u043b\\u0438\\u0446\\u0430\", \"\\u0442\\u0432\\u043e\\u0439\", \"\\u0443\\u0442\\u0440\\u043e\", \"\\u0441\\u0434\\u0435\\u043b\\u0430\\u0442\\u044c\", \"\\u0434\\u0430\\u043b\\u0435\\u043a\\u043e\", \"\\u043d\\u0438\\u0431\\u044b\\u0442\\u044c\", \"\\u0432\\u043e\\u043e\\u0431\\u0449\\u0435\", \"\\u0441\\u043a\\u0443\\u0447\\u0430\\u0442\\u044c\", \"\\u0436\\u0438\\u0437\\u043d\\u044c\", \"\\u043f\\u0440\\u043e\\u0441\\u0442\\u043e\", \"\\u043f\\u0438\\u0441\\u0430\\u0442\\u044c\", \"\\u0445\\u043e\\u0442\\u0435\\u0442\\u044c\\u0441\\u044f\", \"\\u043d\\u0430\\u0448\", \"\\u0432\\u0447\\u0435\\u0440\\u0430\", \"\\u043f\\u0440\\u0438\\u0439\\u0442\\u0438\", \"\\u0437\\u0430\\u0431\\u044b\\u0442\\u044c\", \"\\u0440\\u0430\\u0432\\u043d\\u043e\", \"\\u0441\\u0438\\u043b\\u044c\\u043d\\u043e\", \"\\u0443\\u0442\\u0440\\u043e\\u043c\", \"\\u0445\\u0443\\u0439\\u043d\\u044f\", \"\\u043f\\u043e\\u043b\\u043d\\u044b\\u0439\", \"\\u043e\\u0431\\u0449\\u0430\\u0442\\u044c\\u0441\\u044f\", \"\\u0432\\u0441\\u044f\\u043a\\u0438\\u0439\", \"\\u0443\\u0445\\u043e\", \"\\u0441\\u043f\\u0430\\u0442\\u044c\", \"\\u0432\\u043e\\u043e\\u0431\\u0449\\u0435\", \"\\u0441\\u043a\\u0443\\u0447\\u0430\\u0442\\u044c\", \"\\u0431\\u043e\\u043b\\u044c\\u0448\\u043e\\u0439\", \"\\u0434\\u043e\\u043c\\u043e\\u0439\", \"\\u0433\\u043e\\u043b\\u043e\\u0432\\u0430\", \"\\u0434\\u0435\\u043b\\u0430\\u0442\\u044c\", \"\\u0434\\u043e\\u043c\", \"\\u043f\\u043b\\u0430\\u043a\\u0430\\u0442\\u044c\", \"\\u0443\\u043b\\u0438\\u0446\\u0430\", \"\\u0443\\u0431\\u0438\\u0442\\u044c\", \"\\u0431\\u043e\\u043b\\u0435\\u0442\\u044c\", \"\\u0433\\u043e\\u0432\\u043e\\u0440\\u0438\\u0442\\u044c\", \"\\u0431\\u043b\\u0430\", \"\\u043d\\u0430\\u0441\\u0442\\u0440\\u043e\\u0435\\u043d\\u0438\\u0435\", \"\\u043d\\u0430\\u043f\\u0438\\u0441\\u0430\\u0442\\u044c\", \"\\u0447\\u0430\\u0441\", \"\\u044d\\u0442\\u043e\", \"\\u0432\\u043e\\u043e\\u0431\\u0449\\u0435\", \"\\u0443\\u0436\\u0430\\u0441\\u043d\\u043e\", \"\\u043f\\u043e\\u043d\\u0438\\u043c\\u0430\\u0442\\u044c\", \"\\u043a\\u0440\\u0443\\u0442\\u043e\", \"\\u043f\\u043b\\u043e\\u0445\\u043e\", \"\\u0441\\u043b\\u043e\\u0432\\u043e\", \"\\u0447\\u0443\\u0432\\u0441\\u0442\\u0432\\u043e\", \"\\u0447\\u0438\\u0442\\u0430\\u0442\\u044c\", \"\\u043d\\u0430\\u043f\\u0438\\u0441\\u0430\\u0442\\u044c\", \"\\u043f\\u0435\\u0447\\u0430\\u043b\\u044c\\u043d\\u043e\", \"\\u0443\\u0436\\u0430\\u0441\", \"\\u043f\\u043b\\u043e\\u0445\\u043e\\u0439\", \"\\u043e\\u0431\\u0438\\u0434\\u043d\\u043e\", \"\\u0442\\u043e\\u0447\\u043d\\u043e\", \"\\u0432\\u0438\\u0434\\u0435\\u0442\\u044c\", \"\\u0441\\u0442\\u0430\\u0442\\u044c\", \"\\u0441\\u043d\\u043e\\u0432\\u0430\", \"\\u0436\\u0438\\u0442\\u044c\", \"\\u0431\\u043e\\u043b\\u0435\\u0442\\u044c\", \"\\u0433\\u043e\\u0432\\u043e\\u0440\\u0438\\u0442\\u044c\", \"\\u0441\\u043c\\u0430\\u0439\\u043b\\u0438\\u043a\", \"\\u0441\\u043c\\u044b\\u0441\\u043b\", \"\\u0441\\u0434\\u0435\\u043b\\u0430\\u0442\\u044c\", \"\\u043a\\u0430\\u0437\\u0430\\u0442\\u044c\\u0441\\u044f\", \"\\u0436\\u0438\\u0437\\u043d\\u044c\", \"\\u0441\\u043b\\u0438\\u0448\\u043a\\u043e\\u043c\", \"\\u0441\\u0435\\u043c\\u044c\\u044f\", \"\\u0440\\u0430\\u043d\\u043d\\u0438\\u0439\", \"\\u043f\\u043e\\u043b\\u0443\\u0447\\u0438\\u0442\\u044c\\u0441\\u044f\", \"\\u0434\\u0435\\u043b\\u0430\\u0442\\u044c\", \"\\u0442\\u0432\\u043e\\u0439\", \"\\u0447\\u0430\\u0441\", \"\\u0434\\u0435\\u043d\\u044c\", \"\\u0431\\u043b\\u0438\\u043d\", \"\\u043f\\u043e\\u0441\\u043c\\u043e\\u0442\\u0440\\u0435\\u0442\\u044c\", \"\\u0432\\u0442\\u043e\\u0440\\u043e\\u0439\", \"\\u0441\\u043e\\u043d\", \"\\u0437\\u043d\\u0430\\u0447\\u0438\\u0442\", \"\\u043e\\u0449\\u0443\\u0449\\u0435\\u043d\\u0438\\u0435\", \"\\u0443\\u043c\", \"\\u0447\\u0430\\u0441\\u0442\\u044c\", \"\\u043f\\u043e\\u0434\\u0440\\u044f\\u0434\", \"\\u0441\\u043e\\u0439\\u0442\\u0438\", \"\\u043a\\u0443\\u0440\\u0438\\u0442\\u044c\", \"\\u043f\\u043e\\u0441\\u043b\\u0435\\u0434\\u043d\\u0438\\u0439\", \"\\u0441\\u043f\\u0430\\u0442\\u044c\", \"\\u0446\\u0435\\u043b\\u044b\\u0439\", \"\\u0447\\u0430\\u0441\", \"\\u0432\\u043e\\u043e\\u0431\\u0449\\u0435\", \"\\u0440\\u043e\\u0436\\u0434\\u0435\\u043d\\u0438\\u0435\", \"\\u0434\\u0435\\u043b\\u0430\\u0442\\u044c\", \"\\u0432\\u044b\\u0445\\u043e\\u0434\\u043d\\u043e\\u0439\", \"\\u0437\\u0430\\u0431\\u043e\\u043b\\u0435\\u0442\\u044c\", \"\\u0443\\u0442\\u0440\\u043e\", \"\\u0434\\u043e\\u043c\", \"\\u0443\\u0440\\u043e\\u043a\", \"\\u0443\\u0447\\u0438\\u0442\\u044c\", \"\\u0431\\u043e\\u043b\\u044c\\u0448\\u043e\\u0439\", \"\\u043d\\u0435\\u0441\\u043a\\u043e\\u043b\\u044c\\u043a\\u043e\", \"\\u0432\\u0441\\u0442\\u0430\\u0432\\u0430\\u0442\\u044c\", \"\\u043f\\u043e\\u0436\\u0430\\u043b\\u0443\\u0439\\u0441\\u0442\\u0430\", \"\\u0433\\u043e\\u043b\\u043e\\u0432\\u0430\", \"\\u0431\\u043e\\u043b\\u0435\\u0442\\u044c\", \"\\u043f\\u043e\\u0439\\u0442\\u0438\", \"\\u043c\\u043e\\u0447\\u044c\", \"\\u0441\\u0435\\u0433\\u043e\\u0434\\u043d\\u044f\", \"\\u0441\\u0442\\u043e\\u043b\\u044c\\u043a\\u043e\", \"\\u043c\\u0435\\u0441\\u0442\\u043e\", \"\\u043f\\u043e\\u0432\\u043e\\u0434\", \"\\u0432\\u044b\\u043f\\u0438\\u0442\\u044c\", \"\\u043f\\u043e\\u0439\\u0442\\u0438\", \"\\u0443\\u0441\\u043d\\u0443\\u0442\\u044c\", \"\\u0441\\u043f\\u0430\\u0442\\u044c\", \"\\u0443\\u0442\\u0440\\u043e\", \"\\u0433\\u043e\\u043b\\u043e\\u0432\\u0430\", \"\\u0431\\u043e\\u043b\\u0435\\u0442\\u044c\", \"\\u0432\\u043e\\u043e\\u0431\\u0449\\u0435\", \"\\u0440\\u0430\\u043d\\u043d\\u0438\\u0439\", \"\\u0434\\u0435\\u043b\\u0430\\u0442\\u044c\", \"\\u0443\\u0440\\u043e\\u043a\", \"\\u0431\\u043e\\u043b\\u044c\\u0448\\u043e\\u0439\", \"\\u0432\\u0438\\u0434\\u0435\\u0442\\u044c\", \"\\u043f\\u043b\\u043e\\u0445\\u043e\\u0439\", \"\\u0447\\u0435\\u0440\\u0442\\u0430\", \"\\u0434\\u043e\\u043c\", \"\\u043c\\u044b\\u0441\\u043b\\u044c\", \"\\u043d\\u043e\\u0440\\u043c\\u0430\\u043b\\u044c\\u043d\\u043e\", \"\\u0441\\u043c\\u043e\\u0447\\u044c\", \"\\u0432\\u0441\\u043f\\u043e\\u043c\\u043d\\u0438\\u0442\\u044c\", \"\\u043d\\u0430\\u043f\\u0438\\u0441\\u0430\\u0442\\u044c\", \"\\u0447\\u0438\\u0442\\u0430\\u0442\\u044c\", \"\\u043f\\u043e\\u043d\\u0438\\u043c\\u0430\\u0442\\u044c\", \"\\u0437\\u0430\\u0441\\u043d\\u0443\\u0442\\u044c\", \"\\u0431\\u043e\\u043b\\u044c\\u043d\\u0438\\u0446\\u0430\", \"\\u043a\\u0443\\u043f\\u0438\\u0442\\u044c\", \"\\u0441\\u043b\\u043e\\u0432\\u043e\", \"\\u0441\\u043a\\u0430\\u0437\\u0430\\u0442\\u044c\", \"\\u0434\\u0443\\u043c\\u0430\\u0442\\u044c\", \"\\u0434\\u0435\\u043b\\u043e\", \"\\u043d\\u0430\\u0439\\u0442\\u0438\", \"\\u0434\\u043e\\u0431\\u0440\\u044b\\u0439\", \"\\u0441\\u0442\\u0440\\u0430\\u0448\\u043d\\u043e\", \"\\u0441\\u0435\\u0440\\u0438\\u044f\", \"\\u043f\\u043e\\u044d\\u0442\\u043e\\u043c\\u0443\", \"\\u0430\\u0445\\u0430\\u0445\", \"\\u0433\\u0440\\u0443\\u043f\\u043f\\u0430\", \"\\u0437\\u0430\\u043c\\u0435\\u0442\\u0438\\u0442\\u044c\", \"\\u0441\\u0443\\u0447\\u043a\\u0430\", \"\\u043e\\u043b\\u044f\", \"\\u043a\\u0430\\u0447\\u0430\\u0442\\u044c\", \"\\u0432\\u043e\\u043e\\u0431\\u0449\\u0435\", \"\\u0438\\u0441\\u043a\\u0430\\u0442\\u044c\", \"\\u0442\\u0432\\u043e\\u0439\", \"\\u043f\\u0440\\u0430\\u0432\\u0434\\u0430\", \"\\u0443\\u0442\\u0440\\u043e\", \"\\u0431\\u043e\\u043b\\u044c\\u0448\\u043e\\u0439\", \"\\u043d\\u043e\\u0440\\u043c\\u0430\\u043b\\u044c\\u043d\\u044b\\u0439\", \"\\u0437\\u0430\\u0431\\u043e\\u043b\\u0435\\u0442\\u044c\", \"\\u0441\\u043a\\u0443\\u0447\\u0430\\u0442\\u044c\", \"the\", \"\\u0441\\u0442\\u0440\\u0430\\u043d\\u0430\", \"\\u0431\\u0440\\u0430\\u0432\\u043e\", \"\\u043f\\u043e\\u0436\\u0430\\u043b\\u0443\\u0439\\u0441\\u0442\\u0430\", \"\\u0431\\u043e\\u044f\\u0442\\u044c\\u0441\\u044f\", \"\\u0440\\u0430\\u043d\\u043d\\u0438\\u0439\", \"\\u043a\\u0440\\u043e\\u0432\\u044c\", \"\\u043c\\u0430\\u043b\\u0435\\u043d\\u044c\\u043a\\u0438\\u0439\", \"\\u043d\\u0443\\u0436\\u043d\\u043e\", \"\\u0434\\u0435\\u043b\\u0430\\u0442\\u044c\", \"\\u0433\\u043e\\u0432\\u043e\\u0440\\u0438\\u0442\\u044c\", \"\\u0441\\u0442\\u0430\\u0442\\u044c\", \"\\u043f\\u043e\\u0439\\u0442\\u0438\", \"\\u0436\\u0438\\u0437\\u043d\\u044c\", \"\\u0434\\u043e\\u043c\", \"\\u0433\\u043e\\u0434\", \"\\u0441\\u0438\\u0434\\u0435\\u0442\\u044c\", \"\\u043d\\u043e\\u0432\\u044b\\u0439\", \"\\u043f\\u0430\\u043f\\u0430\", \"\\u0432\\u0437\\u044f\\u0442\\u044c\", \"\\u0436\\u0440\\u0430\\u0442\\u044c\", \"\\u043e\\u0441\\u0442\\u0430\\u043b\\u044c\\u043d\\u043e\\u0439\", \"\\u0447\\u0438\\u0442\\u0430\\u0442\\u0435\\u043b\\u044c\", \"\\u0434\\u043e\\u043c\", \"\\u0436\\u0434\\u0430\\u0442\\u044c\", \"\\u0434\\u0435\\u043b\\u0430\\u0442\\u044c\", \"\\u0436\\u0430\\u043b\\u044c\", \"\\u0445\\u043e\\u0434\\u0438\\u0442\\u044c\", \"\\u043a\\u0443\\u043f\\u0438\\u0442\\u044c\", \"\\u0441\\u0442\\u0430\\u0440\\u044b\\u0439\", \"\\u0433\\u043e\\u0432\\u043e\\u0440\\u0438\\u0442\\u044c\", \"\\u0441\\u043a\\u0443\\u0447\\u0430\\u0442\\u044c\", \"\\u0436\\u0435\\u043b\\u0430\\u043d\\u0438\\u0435\", \"\\u043f\\u0440\\u043e\\u0439\\u0442\\u0438\", \"\\u043f\\u043e\\u0439\\u0442\\u0438\", \"\\u043f\\u043b\\u0451\\u043d\\u043a\\u0430\", \"\\u0441\\u0435\\u0437\\u043e\\u043d\", \"\\u0437\\u0432\\u043e\\u043d\\u0438\\u0442\\u044c\", \"\\u0445\\u043e\\u043a\\u043a\\u0435\\u0439\", \"\\u0442\\u0432\\u0438\\u0442\\u0442\\u0435\\u0440\", \"\\u0436\\u0430\\u043b\\u043a\\u043e\", \"\\u043f\\u0430\\u0440\\u0430\", \"\\u043f\\u0443\\u0441\\u0442\\u044c\", \"\\u0442\\u0435\\u043b\\u0435\\u0444\\u043e\\u043d\", \"\\u0443\\u0441\\u0442\\u0430\\u0442\\u044c\", \"\\u0443\\u0440\\u043e\\u043a\", \"\\u0436\\u0438\\u0437\\u043d\\u044c\", \"\\u0437\\u0430\\u0432\\u0442\\u0440\\u0430\", \"\\u0438\\u0434\\u0442\\u0438\", \"\\u0448\\u043a\\u043e\\u043b\\u0430\", \"\\u043c\\u0430\\u043c\\u0430\", \"\\u043f\\u0435\\u0440\\u0432\\u044b\\u0439\", \"\\u0441\\u043f\\u0430\\u0442\\u044c\", \"\\u0443\\u0440\\u043e\\u043a\", \"\\u0432\\u0441\\u0442\\u0430\\u0432\\u0430\\u0442\\u044c\", \"\\u0441\\u043d\\u043e\\u0432\\u0430\", \"\\u043f\\u043e\\u0439\\u0442\\u0438\", \"\\u0443\\u0447\\u0451\\u0431\\u0430\", \"\\u0432\\u043e\\u043e\\u0431\\u0449\\u0435\", \"\\u043d\\u0430\\u0445\\u0443\\u0439\", \"\\u0431\\u043e\\u043b\\u044c\\u0448\\u043e\\u0439\", \"\\u0434\\u043e\\u043c\", \"\\u043f\\u043e\\u043d\\u0435\\u0434\\u0435\\u043b\\u044c\\u043d\\u0438\\u043a\", \"\\u0443\\u0441\\u0442\\u0430\\u0442\\u044c\", \"\\u0443\\u0442\\u0440\\u043e\", \"\\u0431\\u043e\\u043b\\u0435\\u0442\\u044c\", \"\\u043a\\u0430\\u043d\\u0438\\u043a\\u0443\\u043b\\u044b\", \"\\u044d\\u043a\\u0437\\u0430\\u043c\\u0435\\u043d\", \"\\u043f\\u0440\\u043e\\u0439\\u0442\\u0438\", \"\\u043a\\u043b\\u0430\\u0441\\u0441\", \"\\u043a\\u0430\\u0442\\u043e\\u043a\", \"\\u043f\\u043e\\u043b\", \"\\u0440\\u0430\\u043d\\u043e\", \"\\u0432\\u044b\\u0445\\u043e\\u0434\\u043d\\u043e\\u0439\", \"\\u0447\\u0430\\u0441\", \"\\u0431\\u044b\\u0441\\u0442\\u0440\\u043e\", \"\\u0434\\u043e\\u043c\\u043e\\u0439\", \"\\u0432\\u0435\\u0441\\u044c\", \"\\u0432\\u0430\\u0448\", \"\\u0442\\u0435\\u043c\\u0430\", \"\\u0432\\u0435\\u0447\\u0435\\u0440\\u043e\\u043c\", \"\\u0433\\u043b\\u044f\\u043d\\u0443\\u0442\\u044c\", \"\\u0436\\u0438\\u0437\\u043d\\u044c\", \"\\u0431\\u043e\\u043b\\u044c\\u0448\\u043e\\u0439\", \"\\u0443\\u0442\\u0440\\u043e\", \"\\u0447\\u0430\\u0441\", \"\\u043f\\u043b\\u043e\\u0445\\u043e\", \"\\u0441\\u043a\\u043e\\u0440\\u0435\\u0435\", \"\\u0432\\u043e\\u043e\\u0431\\u0449\\u0435\", \"\\u043d\\u0443\\u0436\\u043d\\u044b\\u0439\", \"\\u0434\\u043e\\u043b\\u0436\\u043d\\u044b\\u0439\", \"\\u043f\\u043e\\u043b\", \"\\u0434\\u043e\\u043c\", \"\\u0432\\u0435\\u0447\\u0435\\u0440\", \"\\u0441\\u043f\\u0430\\u0441\\u0442\\u044c\", \"\\u0433\\u043e\\u0432\\u043e\\u0440\\u0438\\u0442\\u044c\", \"\\u043e\\u0440\\u0430\\u0442\\u044c\", \"\\u0441\\u0434\\u0435\\u043b\\u0430\\u0442\\u044c\", \"\\u0443\\u0436\\u0430\\u0441\", \"\\u0441\\u044a\\u0435\\u0445\\u0430\\u0442\\u044c\", \"\\u0438\\u0431\\u043e\", \"\\u043b\\u0438\\u0448\\u044c\", \"\\u0433\\u043e\\u0440\\u043e\\u0434\", \"\\u043f\\u0430\\u0440\\u0430\", \"\\u043f\\u043e\\u0435\\u0445\\u0430\\u0442\\u044c\", \"\\u0436\\u0430\\u043b\\u043a\\u043e\", \"\\u0433\\u043e\\u043b\\u043e\\u0432\\u0430\", \"\\u0441\\u043f\\u0430\\u0442\\u044c\", \"\\u0431\\u043e\\u043b\\u0435\\u0442\\u044c\", \"\\u0445\\u043e\\u0442\\u0435\\u0442\\u044c\", \"\\u0445\\u043e\\u0442\\u044f\", \"\\u0440\\u0430\\u0441\\u0441\\u043a\\u0430\\u0437\\u0430\\u0442\\u044c\", \"\\u0441\\u043f\\u0430\\u0442\\u044c\", \"\\u0442\\u0432\\u043e\\u0439\", \"\\u0443\\u043b\\u0438\\u0446\\u0430\", \"\\u0443\\u0432\\u0438\\u0434\\u0435\\u0442\\u044c\", \"\\u043d\\u0438\\u0431\\u044b\\u0442\\u044c\", \"\\u0434\\u043e\\u043c\\u043e\\u0439\", \"\\u0443\\u0436\\u0430\\u0441\\u043d\\u043e\", \"\\u0431\\u043e\\u044f\\u0442\\u044c\\u0441\\u044f\", \"\\u0434\\u043e\\u043c\", \"\\u043f\\u043e\\u0439\\u0442\\u0438\", \"\\u043b\\u0435\\u0442\\u043e\", \"\\u0434\\u0435\\u043b\\u0430\\u0442\\u044c\", \"\\u0431\\u043e\\u043b\\u044c\\u0448\\u043e\\u0439\", \"\\u0442\\u0435\\u043b\\u0435\\u0444\\u043e\\u043d\", \"\\u0432\\u043e\\u043e\\u0431\\u0449\\u0435\", \"\\u0432\\u0441\\u0442\\u0430\\u0432\\u0430\\u0442\\u044c\", \"\\u0443\\u0441\\u0442\\u0430\\u0442\\u044c\", \"\\u0434\\u0430\\u0432\\u043d\\u043e\", \"\\u043e\\u0431\\u0440\\u0430\\u0442\\u043d\\u043e\", \"\\u043b\\u0438\\u0448\\u044c\", \"\\u0445\\u043e\\u0434\\u0438\\u0442\\u044c\", \"\\u043f\\u043e\\u043b\\u0443\\u0447\\u0438\\u0442\\u044c\\u0441\\u044f\", \"\\u0431\\u043e\\u043b\\u0435\\u0442\\u044c\", \"\\u043a\\u043e\\u0442\", \"\\u0442\\u043e\\u0441\\u043a\\u0430\", \"\\u0438\\u043c\\u0435\\u043d\\u043d\\u043e\", \"\\u0440\\u0430\\u043d\\u043e\", \"\\u0436\\u0438\\u0442\\u044c\", \"\\u043f\\u043e\\u0441\\u043b\\u0435\\u0434\\u043d\\u0438\\u0439\", \"\\u043f\\u0430\\u0440\\u0430\", \"\\u0434\\u0440\\u0443\\u0433\", \"amp\", \"\\u043d\\u0430\\u0432\\u0435\\u0440\\u043d\\u043e\\u0435\", \"\\u0444\\u043e\\u0442\\u043a\\u0430\", \"\\u043f\\u0440\\u0438\\u0435\\u0445\\u0430\\u0442\\u044c\", \"\\u0440\\u043e\\u0434\\u043d\\u044b\\u0439\", \"\\u043c\\u043e\\u0441\\u043a\\u0432\\u0430\", \"\\u043f\\u043e\\u0437\\u0434\\u043d\\u0438\\u0439\", \"\\u0447\\u0451\\u0440\\u043d\\u044b\\u0439\", \"\\u0432\\u043e\\u043a\\u0440\\u0443\\u0433\", \"\\u0434\\u0435\\u043c\\u043e\\u0442\\u0438\\u0432\\u0430\\u0442\\u043e\\u0440\", \"\\u043d\\u0435\\u043a\\u0440\\u043e\\u043b\\u043e\\u0433\", \"\\u0432\\u043d\\u0438\\u0437\\u0443\", \"\\u0440\\u0430\\u043c\\u043a\\u0430\", \"\\u043d\\u0430\\u0434\\u043f\\u0438\\u0441\\u044c\", \"\\u043d\\u0430\\u043f\\u043e\\u043c\\u043d\\u0438\\u0442\\u044c\", \"\\u043d\\u0430\\u0437\\u044b\\u0432\\u0430\\u0442\\u044c\\u0441\\u044f\", \"\\u043a\\u0443\\u043f\\u0438\\u0442\\u044c\", \"\\u0433\\u043e\\u0441\\u0442\\u044c\", \"\\u0436\\u0430\\u043b\\u044c\", \"\\u043f\\u043e\\u0440\\u0443\\u0433\\u0430\\u0442\\u044c\\u0441\\u044f\", \"\\u0440\\u043e\\u0434\\u0438\\u0442\\u0435\\u043b\\u044c\", \"\\u0441\\u043a\\u043e\\u0440\\u043e\", \"\\u0434\\u0435\\u043b\\u0430\\u0442\\u044c\", \"\\u0442\\u0432\\u0438\\u0442\\u0442\\u0435\\u0440\", \"\\u0445\\u0432\\u0430\\u0442\\u0438\\u0442\\u044c\", \"\\u0438\\u0433\\u0440\\u0430\", \"\\u0433\\u043e\\u0440\\u043e\\u0434\", \"\\u0436\\u0443\\u0440\\u0444\\u0430\\u043a\", \"\\u0441\\u0440\\u0430\\u043d\\u044b\\u0439\", \"\\u0443\\u0435\\u0445\\u0430\\u0442\\u044c\", \"\\u043f\\u044b\\u0442\\u0430\\u0442\\u044c\\u0441\\u044f\", \"\\u0432\\u043e\\u043e\\u0431\\u0449\\u0435\", \"\\u043d\\u043e\\u0447\\u044c\", \"\\u0444\\u0438\\u043b\\u044c\\u043c\", \"\\u0433\\u0443\\u043b\\u044f\\u0442\\u044c\", \"\\u0441\\u0435\\u0440\\u0438\\u0430\\u043b\", \"\\u043a\\u043d\\u0438\\u0433\\u0430\", \"\\u043a\\u043e\\u0444\\u0435\", \"\\u043f\\u0440\\u0430\\u0437\\u0434\\u043d\\u0438\\u043a\", \"\\u043e\\u0433\\u043e\\u043d\\u044c\", \"\\u043f\\u043e\\u0439\\u0442\\u0438\", \"\\u0447\\u0430\\u0441\", \"\\u0436\\u0434\\u0430\\u0442\\u044c\", \"\\u043e\\u043b\\u0438\\u043c\\u043f\\u0438\\u0439\\u0441\\u043a\\u0438\\u0439\", \"\\u0443\\u0442\\u0440\\u043e\", \"\\u043b\\u044e\\u0431\\u0438\\u043c\\u044b\\u0439\", \"\\u0433\\u043e\\u0440\\u043e\\u0434\", \"\\u043d\\u0430\\u0447\\u0438\\u043d\\u0430\\u0442\\u044c\\u0441\\u044f\", \"\\u0441\\u043f\\u0430\\u0442\\u044c\", \"\\u043f\\u0438\\u0442\\u044c\", \"\\u0443\\u0441\\u043d\\u0443\\u0442\\u044c\", \"\\u0432\\u0441\\u0442\\u0430\\u0442\\u044c\", \"\\u043f\\u043b\\u0430\\u043a\\u0430\\u0442\\u044c\", \"\\u043f\\u0440\\u043e\\u0441\\u044b\\u043f\\u0430\\u0442\\u044c\\u0441\\u044f\", \"\\u043f\\u043e\\u043b\", \"\\u0437\\u0430\\u043a\\u0430\\u043d\\u0447\\u0438\\u0432\\u0430\\u0442\\u044c\\u0441\\u044f\", \"\\u043d\\u0438\\u0431\\u044b\\u0442\\u044c\", \"\\u043f\\u043e\\u0441\\u043b\\u0435\\u0434\\u043d\\u0438\\u0439\", \"\\u0434\\u043e\\u043c\", \"\\u0441\\u0442\\u0430\\u0442\\u044c\", \"\\u0437\\u0430\\u0431\\u043e\\u043b\\u0435\\u0442\\u044c\", \"\\u0434\\u0435\\u043b\\u0430\\u0442\\u044c\", \"\\u0431\\u043e\\u043b\\u0435\\u0442\\u044c\", \"\\u0432\\u043e\\u043e\\u0431\\u0449\\u0435\", \"\\u043f\\u0438\\u0437\\u0434\\u0435\\u0446\", \"\\u043d\\u0440\\u0430\\u0432\\u0438\\u0442\\u044c\\u0441\\u044f\", \"\\u043f\\u0440\\u044f\\u043c\", \"\\u0441\\u0432\\u0435\\u0442\", \"\\u043c\\u0443\\u0436\\u0447\\u0438\\u043d\\u0430\", \"\\u043a\\u043e\\u043d\\u0442\\u0440\\u043e\\u043b\\u044c\\u043d\\u044b\\u0439\", \"\\u0440\\u0430\\u0434\\u0430\", \"\\u0437\\u0430\\u0435\\u0431\\u0438\\u0441\\u044c\", \"\\u043a\\u043e\\u0441\\u0442\\u044e\\u043c\", \"\\u0441\\u0443\\u043a\\u0430\", \"\\u0447\\u0430\\u0441\", \"\\u0431\\u043b\\u044f\\u0434\\u044c\", \"\\u0444\\u0438\\u0437\\u0438\\u043a\\u0430\", \"\\u0437\\u0430\\u043c\\u0451\\u0440\\u0437\\u043d\\u0443\\u0442\\u044c\", \"\\u0432\\u043e\\u043e\\u0431\\u0449\\u0435\", \"\\u0442\\u0432\\u043e\\u0439\", \"\\u0436\\u0434\\u0430\\u0442\\u044c\", \"\\u0434\\u0432\\u0435\\u0440\\u044c\", \"\\u0442\\u0432\\u043e\\u0440\\u0438\\u0442\\u044c\\u0441\\u044f\", \"\\u0436\\u0438\\u0437\\u043d\\u044c\", \"\\u043e\\u0441\\u043e\\u0431\\u0435\\u043d\\u043d\\u043e\", \"\\u0432\\u0435\\u0441\\u0442\\u0438\", \"\\u0433\\u043b\\u0430\\u0437\", \"\\u0431\\u0440\\u0430\\u0442\\u044c\", \"\\u0431\\u043e\\u043b\\u044c\\u0448\\u043e\\u0439\", \"\\u0433\\u043e\\u0432\\u043e\\u0440\\u0438\\u0442\\u044c\", \"\\u0441\\u043b\\u043e\\u043c\\u0430\\u0442\\u044c\", \"\\u043f\\u043e\\u0445\\u043e\\u0434\", \"\\u0440\\u0443\\u043a\\u0430\", \"\\u0443\\u0441\", \"\\u0441\\u043a\\u0443\\u0447\\u0430\\u0442\\u044c\", \"\\u0431\\u043e\\u043b\\u0435\\u0442\\u044c\", \"\\u0434\\u0435\\u043b\\u0430\\u0442\\u044c\", \"\\u0441\\u0430\\u043c\\u044b\\u0439\", \"\\u043f\\u043e\\u0431\\u0435\\u0434\\u0438\\u0442\\u044c\", \"\\u0436\\u0438\\u0437\\u043d\\u044c\", \"\\u0443\\u0436\\u0430\\u0441\\u043d\\u044b\\u0439\", \"\\u043e\\u0431\\u0438\\u0434\\u043d\\u044b\\u0439\", \"\\u043c\\u0430\\u043b\\u0435\\u043d\\u044c\\u043a\\u0438\\u0439\", \"\\u044d\\u043a\\u0437\\u0430\\u043c\\u0435\\u043d\", \"\\u0441\\u0442\\u0430\\u0440\\u0448\\u0438\\u0439\", \"\\u0447\\u0438\\u0442\\u0430\\u0442\\u044c\", \"\\u043c\\u043d\\u043e\\u0433\\u0438\\u0435\", \"\\u0432\\u0435\\u0440\\u0438\\u0442\\u044c\", \"\\u0431\\u043e\\u043b\\u044c\\u0448\\u0438\\u0439\", \"\\u043f\\u0440\\u043e\\u0442\\u0438\\u0432\\u043d\\u044b\\u0439\", \"\\u0438\\u0433\\u043d\\u043e\\u0440\\u0438\\u0442\\u044c\", \"\\u043e\\u0442\\u043a\\u0430\\u0437\\u044b\\u0432\\u0430\\u0442\\u044c\\u0441\\u044f\", \"\\u0440\\u0430\\u0437\\u0433\\u043e\\u0432\\u0430\\u0440\\u0438\\u0432\\u0430\\u0442\\u044c\", \"\\u0442\\u0443\\u043f\\u043e\", \"\\u0444\\u0438\\u0433\\u043d\\u044f\", \"\\u043d\\u0435\\u043f\\u0440\\u0438\\u044f\\u0442\\u043d\\u044b\\u0439\", \"\\u0433\\u0440\\u0443\\u0441\\u0442\\u043d\\u044b\\u0439\", \"\\u0438\\u043d\\u0442\\u0435\\u0440\\u0435\\u0441\\u043d\\u044b\\u0439\", \"\\u0441\\u0443\\u0431\\u0431\\u043e\\u0442\\u0430\", \"\\u0432\\u043e\\u043e\\u0431\\u0449\\u0435\", \"\\u043f\\u043e\\u0441\\u043b\\u0435\\u0434\\u043d\\u0438\\u0439\", \"\\u043b\\u044e\\u0431\\u0438\\u043c\\u044b\\u0439\", \"\\u0448\\u0443\\u0442\", \"\\u043a\\u0430\\u043f\\u0443\\u0441\\u0442\\u0430\", \"\\u0443\\u0436\\u0438\\u043d\", \"\\u0432\\u0430\\u0440\\u0451\\u043d\\u044b\\u0439\", \"\\u0440\\u044b\\u0431\\u0430\", \"\\u043f\\u0430\\u0440\\u0430\", \"\\u0448\\u043a\\u043e\\u043b\\u043e\\u0442\\u044b\\u0439\", \"\\u043a\\u043b\\u043e\\u0443\\u043d\", \"gruzdevvladimir\", \"\\u043e\\u0434\\u043d\\u043e\\u0433\\u0440\\u0443\\u043f\\u043f\\u043d\\u0438\\u0446\\u0430\", \"\\u0440\\u0438\\u0433\\u0430\", \"\\u043c\\u0430\\u043b\\u044c\\u0434\\u0438\\u0432\\u044b\", \"\\u0441\\u0442\\u043e\\u044f\\u043a\", \"\\u043e\\u043f\\u0430\", \"\\u043f\\u043e\\u0442\\u0443\\u0445\\u043d\\u0443\\u0442\\u044c\", \"fidelevna\", \"\\u043f\\u043e\\u043b\\u0438\\u0442\\u044c\", \"\\u043d\\u0430\\u043f\\u043e\\u043b\\u043d\\u0438\\u0442\\u044c\", \"\\u0434\\u043e\\u043d\\u0442\", \"ddddd\", \"dtoropova\", \"\\u0432\\u044b\\u0434\\u0430\\u0442\\u044c\\u0441\\u044f\", \"\\u0437\\u0430\\u0433\\u043e\\u0440\\u0430\\u0442\\u044c\", \"angel\", \"\\u0441\\u0430\\u043d\\u0438\", \"\\u0445\\u043e\\u043c\\u0430\", \"\\u043c\\u043a\\u0430\\u0434\", \"\\u0430\\u043d\\u0433\\u043b\\u0438\\u0447\\u0430\\u043d\\u043a\\u0430\", \"maksimofficial\", \"\\u043e\\u0431\\u044a\\u044f\\u0432\\u043b\\u044f\\u0442\\u044c\", \"\\u043d\\u0435\\u0432\\u043e\\u0437\\u043c\\u043e\\u0436\\u043d\\u043e\\u0441\\u0442\\u044c\", \"ekaetrina\", \"\\u043a\\u0430\\u043c\\u044b\\u0437\\u044f\\u043a\", \"\\u0441\\u043e\\u043a\\u043e\\u043b\\u043e\\u0432\\u0441\\u043a\\u0438\\u0439\\u044f\\u0445\\u043e\\u0447\\u0443\\u0442\\u0435\\u0441\\u0442\\u0438\", \"\\u0442\\u043e\\u043f\\u0438\\u043a\\u0430\", \"\\u043f\\u043e\\u043a\\u0430\\u0437\\u044b\\u0432\\u0430\\u0442\\u044c\\u0441\\u044f\", \"\\u043e\\u0431\\u0449\\u0435\\u0441\\u0442\\u0432\\u043e\", \"\\u043f\\u043e\\u0432\\u0435\\u0440\\u044c\", \"\\u043f\\u0440\\u0435\\u0434\\u043c\\u0435\\u0442\", \"\\u0441\\u0430\\u043c\\u044b\\u0439\", \"\\u0442\\u0438\\u043f\", \"\\u0432\\u0441\\u0451\", \"\\u043c\\u0430\\u043b\\u044c\\u0447\\u0438\\u043a\", \"\\u043d\\u0435\\u043c\\u043d\\u043e\\u0433\\u043e\", \"\\u043f\\u043e\\u0445\\u043e\\u0436\\u0438\\u0439\", \"\\u0440\\u0430\\u0432\\u043d\\u043e\", \"\\u0442\\u0430\\u043a\\u0438\", \"\\u0445\\u043e\\u0440\\u043e\\u0448\\u0438\\u0439\", \"\\u0438\\u0434\\u0438\\u043e\\u0442\\u043a\\u0430\", \"\\u0438\\u0441\\u043f\\u0443\\u0433\\u0430\\u0442\\u044c\\u0441\\u044f\", \"http\", \"\\u0432\\u0437\\u044f\\u0442\\u044c\", \"\\u0433\\u043e\\u043b\\u043e\\u0434\", \"\\u0435\\u0449\\u0451\", \"\\u0436\\u0440\\u0430\\u0442\\u044c\", \"\\u043f\\u043e\\u0433\\u0438\\u0431\\u0430\\u0442\\u044c\", \"\\u043f\\u043e\\u0440\\u0446\\u0438\\u044f\", \"\\u0441\\u0438\\u0434\\u0435\\u0442\\u044c\", \"\\u0443\\u0433\\u043e\\u043b\", \"\\u0445\\u043e\\u0442\\u0435\\u0442\\u044c\", \"\\u0445\\u043e\\u0442\\u044f\", \"\\u0430\\u0432\\u0442\\u043e\\u0440\", \"\\u0431\\u043b\\u0438\\u043d\", \"\\u0437\\u043d\\u0430\\u0447\\u0438\\u0442\", \"\\u043a\\u0443\\u0440\\u0438\\u0442\\u044c\", \"\\u0448\\u043a\\u043e\\u043b\\u043e\\u0442\\u044b\\u0439\", \"\\u043a\\u043b\\u043e\\u0443\\u043d\", \"gruzdevvladimir\", \"\\u043e\\u0434\\u043d\\u043e\\u0433\\u0440\\u0443\\u043f\\u043f\\u043d\\u0438\\u0446\\u0430\", \"\\u0440\\u0438\\u0433\\u0430\", \"\\u043c\\u0430\\u043b\\u044c\\u0434\\u0438\\u0432\\u044b\", \"\\u0441\\u0442\\u043e\\u044f\\u043a\", \"\\u043e\\u043f\\u0430\", \"\\u043f\\u043e\\u0442\\u0443\\u0445\\u043d\\u0443\\u0442\\u044c\", \"fidelevna\", \"\\u043f\\u043e\\u043b\\u0438\\u0442\\u044c\", \"\\u043d\\u0430\\u043f\\u043e\\u043b\\u043d\\u0438\\u0442\\u044c\", \"\\u0434\\u043e\\u043d\\u0442\", \"ddddd\", \"dtoropova\", \"\\u0432\\u044b\\u0434\\u0430\\u0442\\u044c\\u0441\\u044f\", \"\\u0437\\u0430\\u0433\\u043e\\u0440\\u0430\\u0442\\u044c\", \"angel\", \"\\u0441\\u0430\\u043d\\u0438\", \"\\u0445\\u043e\\u043c\\u0430\", \"\\u043c\\u043a\\u0430\\u0434\", \"\\u0430\\u043d\\u0433\\u043b\\u0438\\u0447\\u0430\\u043d\\u043a\\u0430\", \"maksimofficial\", \"\\u043e\\u0431\\u044a\\u044f\\u0432\\u043b\\u044f\\u0442\\u044c\", \"\\u043d\\u0435\\u0432\\u043e\\u0437\\u043c\\u043e\\u0436\\u043d\\u043e\\u0441\\u0442\\u044c\", \"ekaetrina\", \"\\u043a\\u0430\\u043c\\u044b\\u0437\\u044f\\u043a\", \"\\u0441\\u043e\\u043a\\u043e\\u043b\\u043e\\u0432\\u0441\\u043a\\u0438\\u0439\\u044f\\u0445\\u043e\\u0447\\u0443\\u0442\\u0435\\u0441\\u0442\\u0438\", \"\\u0442\\u043e\\u043f\\u0438\\u043a\\u0430\", \"\\u043f\\u043e\\u043a\\u0430\\u0437\\u044b\\u0432\\u0430\\u0442\\u044c\\u0441\\u044f\", \"\\u043e\\u0431\\u0449\\u0435\\u0441\\u0442\\u0432\\u043e\", \"\\u043f\\u043e\\u0432\\u0435\\u0440\\u044c\", \"\\u043f\\u0440\\u0435\\u0434\\u043c\\u0435\\u0442\", \"\\u0441\\u0430\\u043c\\u044b\\u0439\", \"\\u0442\\u0438\\u043f\", \"\\u0432\\u0441\\u0451\", \"\\u043c\\u0430\\u043b\\u044c\\u0447\\u0438\\u043a\", \"\\u043d\\u0435\\u043c\\u043d\\u043e\\u0433\\u043e\", \"\\u043f\\u043e\\u0445\\u043e\\u0436\\u0438\\u0439\", \"\\u0440\\u0430\\u0432\\u043d\\u043e\", \"\\u0442\\u0430\\u043a\\u0438\", \"\\u0445\\u043e\\u0440\\u043e\\u0448\\u0438\\u0439\", \"\\u0438\\u0434\\u0438\\u043e\\u0442\\u043a\\u0430\", \"\\u0438\\u0441\\u043f\\u0443\\u0433\\u0430\\u0442\\u044c\\u0441\\u044f\", \"http\", \"\\u0432\\u0437\\u044f\\u0442\\u044c\", \"\\u0433\\u043e\\u043b\\u043e\\u0434\", \"\\u0435\\u0449\\u0451\", \"\\u0436\\u0440\\u0430\\u0442\\u044c\", \"\\u043f\\u043e\\u0433\\u0438\\u0431\\u0430\\u0442\\u044c\", \"\\u043f\\u043e\\u0440\\u0446\\u0438\\u044f\", \"\\u0441\\u0438\\u0434\\u0435\\u0442\\u044c\", \"\\u0443\\u0433\\u043e\\u043b\", \"\\u0445\\u043e\\u0442\\u0435\\u0442\\u044c\", \"\\u0445\\u043e\\u0442\\u044f\", \"\\u0430\\u0432\\u0442\\u043e\\u0440\", \"\\u0431\\u043b\\u0438\\u043d\", \"\\u0437\\u043d\\u0430\\u0447\\u0438\\u0442\", \"\\u043a\\u0443\\u0440\\u0438\\u0442\\u044c\", \"\\u0448\\u043a\\u043e\\u043b\\u043e\\u0442\\u044b\\u0439\", \"\\u043a\\u043b\\u043e\\u0443\\u043d\", \"gruzdevvladimir\", \"\\u043e\\u0434\\u043d\\u043e\\u0433\\u0440\\u0443\\u043f\\u043f\\u043d\\u0438\\u0446\\u0430\", \"\\u0440\\u0438\\u0433\\u0430\", \"\\u043c\\u0430\\u043b\\u044c\\u0434\\u0438\\u0432\\u044b\", \"\\u0441\\u0442\\u043e\\u044f\\u043a\", \"\\u043e\\u043f\\u0430\", \"\\u043f\\u043e\\u0442\\u0443\\u0445\\u043d\\u0443\\u0442\\u044c\", \"fidelevna\", \"\\u043f\\u043e\\u043b\\u0438\\u0442\\u044c\", \"\\u043d\\u0430\\u043f\\u043e\\u043b\\u043d\\u0438\\u0442\\u044c\", \"\\u0434\\u043e\\u043d\\u0442\", \"ddddd\", \"dtoropova\", \"\\u0432\\u044b\\u0434\\u0430\\u0442\\u044c\\u0441\\u044f\", \"\\u0437\\u0430\\u0433\\u043e\\u0440\\u0430\\u0442\\u044c\", \"angel\", \"\\u0441\\u0430\\u043d\\u0438\", \"\\u0445\\u043e\\u043c\\u0430\", \"\\u043c\\u043a\\u0430\\u0434\", \"\\u0430\\u043d\\u0433\\u043b\\u0438\\u0447\\u0430\\u043d\\u043a\\u0430\", \"maksimofficial\", \"\\u043e\\u0431\\u044a\\u044f\\u0432\\u043b\\u044f\\u0442\\u044c\", \"\\u043d\\u0435\\u0432\\u043e\\u0437\\u043c\\u043e\\u0436\\u043d\\u043e\\u0441\\u0442\\u044c\", \"ekaetrina\", \"\\u043a\\u0430\\u043c\\u044b\\u0437\\u044f\\u043a\", \"\\u0441\\u043e\\u043a\\u043e\\u043b\\u043e\\u0432\\u0441\\u043a\\u0438\\u0439\\u044f\\u0445\\u043e\\u0447\\u0443\\u0442\\u0435\\u0441\\u0442\\u0438\", \"\\u0442\\u043e\\u043f\\u0438\\u043a\\u0430\", \"\\u043f\\u043e\\u043a\\u0430\\u0437\\u044b\\u0432\\u0430\\u0442\\u044c\\u0441\\u044f\", \"\\u043e\\u0431\\u0449\\u0435\\u0441\\u0442\\u0432\\u043e\", \"\\u043f\\u043e\\u0432\\u0435\\u0440\\u044c\", \"\\u043f\\u0440\\u0435\\u0434\\u043c\\u0435\\u0442\", \"\\u0441\\u0430\\u043c\\u044b\\u0439\", \"\\u0442\\u0438\\u043f\", \"\\u0432\\u0441\\u0451\", \"\\u043c\\u0430\\u043b\\u044c\\u0447\\u0438\\u043a\", \"\\u043d\\u0435\\u043c\\u043d\\u043e\\u0433\\u043e\", \"\\u043f\\u043e\\u0445\\u043e\\u0436\\u0438\\u0439\", \"\\u0440\\u0430\\u0432\\u043d\\u043e\", \"\\u0442\\u0430\\u043a\\u0438\", \"\\u0445\\u043e\\u0440\\u043e\\u0448\\u0438\\u0439\", \"\\u0438\\u0434\\u0438\\u043e\\u0442\\u043a\\u0430\", \"\\u0438\\u0441\\u043f\\u0443\\u0433\\u0430\\u0442\\u044c\\u0441\\u044f\", \"http\", \"\\u0432\\u0437\\u044f\\u0442\\u044c\", \"\\u0433\\u043e\\u043b\\u043e\\u0434\", \"\\u0435\\u0449\\u0451\", \"\\u0436\\u0440\\u0430\\u0442\\u044c\", \"\\u043f\\u043e\\u0433\\u0438\\u0431\\u0430\\u0442\\u044c\", \"\\u043f\\u043e\\u0440\\u0446\\u0438\\u044f\", \"\\u0441\\u0438\\u0434\\u0435\\u0442\\u044c\", \"\\u0443\\u0433\\u043e\\u043b\", \"\\u0445\\u043e\\u0442\\u0435\\u0442\\u044c\", \"\\u0445\\u043e\\u0442\\u044f\", \"\\u0430\\u0432\\u0442\\u043e\\u0440\", \"\\u0431\\u043b\\u0438\\u043d\", \"\\u0437\\u043d\\u0430\\u0447\\u0438\\u0442\", \"\\u043a\\u0443\\u0440\\u0438\\u0442\\u044c\"], \"Freq\": [77241.0, 69367.0, 65551.0, 49876.0, 46158.0, 31378.0, 33622.0, 34209.0, 30847.0, 28804.0, 26891.0, 22108.0, 18802.0, 19348.0, 17873.0, 17854.0, 18574.0, 18300.0, 20664.0, 13062.0, 13171.0, 13989.0, 15721.0, 17314.0, 11738.0, 13678.0, 11383.0, 12711.0, 13591.0, 15193.0, 69357.25196849497, 20653.677502726594, 15182.975198967619, 7727.387434228421, 7601.124045012442, 2862.3902987466545, 1194.4038400800982, 0.1512354738045343, 0.15120321818512594, 0.1511406187098481, 0.15116741214771673, 0.15114590840144448, 0.15114171114615604, 0.15115141370547006, 0.1511394544027304, 0.15116202183698674, 0.15111792190813428, 0.15116646345302825, 0.1511315054911739, 0.15114195550690915, 0.151115032701583, 0.15112761009328635, 0.15110466893081942, 0.15110587636042294, 0.15109896238852658, 0.15112466339008726, 0.15109331334288154, 0.15110001170234869, 0.15110269967063272, 0.15109746747568414, 0.15110778812396186, 0.15110836309043973, 0.15110295840554777, 65540.74810282029, 17303.956085938586, 11953.963384600505, 5338.292131463295, 3295.4645577647984, 3250.8020137568687, 2656.436552512797, 2201.296238751886, 1715.8291240230112, 1698.4587288305756, 741.7623557387141, 555.0090690466133, 243.26986837108916, 0.14657183886530536, 0.14658870337554214, 0.14656039412988947, 0.14656851706783447, 0.1465580002839388, 0.1465844401779783, 0.14656368903021486, 0.14652232122041553, 0.1465322462671099, 0.14654795420008962, 0.1465397774678536, 0.14652275157474373, 0.14651337791953237, 0.1465216218946322, 0.1465068957074637, 0.14651031164494388, 0.14649628478355872, 0.1465241636748832, 0.1465295834497041, 0.14653542013028045, 26880.623917529058, 15711.470577104694, 13581.217276240714, 9475.380410150756, 8170.106305309262, 4936.142101801053, 4489.026184841611, 2601.5217038885394, 1313.9130321479652, 1006.7310323263634, 982.1149331576536, 851.5783089658362, 458.5270508515549, 0.16304798223999953, 0.1630733777908514, 0.16303311911545296, 0.16298041493831253, 0.16302818926721227, 0.16298324250585358, 0.16297717742603507, 0.1629666134655193, 0.16293563635940983, 0.1629462844111536, 0.1629450650883478, 0.1629308431594146, 0.16291088200417136, 0.16293110594450208, 0.1629112814375043, 0.16290431237698494, 0.1628959978568178, 0.16295846712780812, 0.16291331013837948, 34199.38352753698, 18290.4217899983, 11268.666185043903, 10723.413564281804, 6823.072013870539, 2201.429039776374, 1126.2531648646238, 611.0365704672679, 0.14934759866549832, 0.14934615332499326, 0.1492899533383681, 0.14929191345768317, 0.14930932684089152, 0.14930434734586376, 0.14927616320601494, 0.14930557489533383, 0.1492965365673809, 0.14928293452728525, 0.14927910338498757, 0.14930532740552133, 0.1492943289582533, 0.14927349031603981, 0.14926635270984698, 0.14927697497259998, 0.14926381841416686, 0.14926250176836428, 0.14926886720634208, 0.14926219488099676, 0.14924230659966334, 0.14925135482720875, 0.14928853769664052, 0.14926612501921946, 0.14926796634342454, 18564.036217767243, 12443.306607015957, 9322.544837027339, 6772.040831391724, 6027.456517473181, 5867.509744299864, 5754.767474511895, 5402.094256958713, 4005.2855494858595, 2064.946836575793, 1693.2640432652695, 1645.684656697939, 1566.1437422035708, 1195.8563297762976, 1073.2517607890502, 0.14465722587222973, 0.14465568626684655, 0.14462916438543444, 0.14459834322861267, 0.14455186457553557, 0.14455324925207513, 0.14457107575214076, 0.14456265149627054, 0.14453996410373726, 0.14454486372841582, 0.14452844127099523, 0.14455415945903125, 0.14454930824961632, 0.14451661826361875, 0.14452948704068946, 0.14452581716370694, 0.14454256884492014, 77231.31484668105, 0.16504411860995905, 0.16495172355213297, 0.16495001153136185, 0.16492809766549166, 0.1649360090035813, 0.16491000430913172, 0.16490640005487675, 0.16490977003260515, 0.16488754980512327, 0.16488205331738445, 0.16487938616923578, 0.16489129822954846, 0.16487358331988528, 0.16486439247153512, 0.16487758404210828, 0.16488389148705448, 0.1648727182988641, 0.164871204512077, 0.1648841077423098, 0.16487954836067725, 0.1648442086477073, 0.1648427669460053, 0.16486381579085432, 0.16485067828409497, 0.16489946186543594, 0.16483840579835682, 0.16483786516021856, 0.1648467136044145, 0.16484586660466458, 0.16487026740597072, 0.16485267864520647, 0.16485606664420616, 30836.919713396313, 19337.767997066716, 6721.927031750336, 6254.67499043878, 3393.093414429321, 2904.7593164598065, 1559.0879104358467, 1372.4556212593302, 1358.3193390141412, 1060.8953056027299, 523.0227111689925, 407.2201477420848, 0.15300903131385882, 0.15302484213357195, 0.15295962250225525, 0.15298955012528367, 0.15299521449261394, 0.15292205415943239, 0.15296121064262821, 0.15292870670299474, 0.15292607744837725, 0.1529232893797225, 0.15292796557082067, 0.15291947784282736, 0.15290366702311423, 0.15293184769173238, 0.15288176833197134, 0.15289066191806, 0.15288164480994235, 0.1528871856552436, 0.15288912671569946, 0.15288824441549226, 33611.988566827094, 28794.121329505222, 4075.8312020351586, 3383.1932573354024, 1011.0011620102424, 570.531801146762, 0.15859145310377126, 0.15853159359462796, 0.15856829029398847, 0.15850893142194422, 0.1584962486154349, 0.15851110084937345, 0.15853731754546047, 0.15848261459843738, 0.15850375817192067, 0.1584893898871779, 0.1585029237767556, 0.15846580987981254, 0.1584691140846663, 0.15845045700877497, 0.15848428338876755, 0.15845007318699902, 0.1584500398111924, 0.15844858796360517, 0.158444098917617, 0.15844611815391652, 0.15846123739430787, 0.1584564479660603, 0.15843485381918784, 0.15843794108129866, 0.1584451168797184, 0.15843981012646846, 18792.394440162174, 13668.452856035534, 8366.907093688029, 7187.438496095689, 3012.0727496613163, 2817.62069803627, 2698.476169205033, 2648.9590185364973, 2312.602359968269, 2113.527947073856, 1684.410924940943, 886.7807469824617, 807.2205868544082, 300.79533584685123, 0.20038248817077953, 0.2002941109905234, 0.2003023269595422, 0.2002810098507367, 0.2002991706316759, 0.20031883820230004, 0.20023613924001443, 0.20024782875578054, 0.2002721753048999, 0.20022197541697626, 0.20023139681774296, 0.20021258573809764, 0.2002229746564515, 0.20023027069071528, 0.2002298107233378, 0.2002198183285852, 0.20024589372060622, 0.20023019138599504, 0.2002619291350425, 0.20024364146655088, 0.200235393775644, 0.20023991414469872, 0.20024703570857794, 0.20023188850700857, 17863.019637110734, 17843.601214306396, 10959.51026200596, 7203.237428444918, 4761.162101459668, 3482.1196615633135, 1767.4008043858698, 632.5536864283247, 0.25538501582398304, 0.2552603058201068, 0.2552819777978401, 0.2552188383595184, 0.2551872763309104, 0.2551705263069561, 0.25515586811335794, 0.2551585444257253, 0.25515505291476326, 0.25509720457675406, 0.25510586413918407, 0.2551400409557372, 0.25507024149870827, 0.25507211799358653, 0.25506225870492294, 0.25505682917466044, 0.25505790585204957, 0.2550649965417125, 0.2550626432325619, 0.25503837184798905, 0.25505758284883284, 0.2550523225107315, 0.2550693186323747, 0.25506847267156896, 22097.961532939426, 13979.014683923027, 12700.819734397379, 8963.482164755387, 6493.256045029371, 0.14673583631728065, 0.14663572113808157, 0.1466006928367811, 0.1465282039217881, 0.14654428420926896, 0.14650846015144517, 0.1465504250473452, 0.146477801003886, 0.14650966129336718, 0.1464789420887119, 0.14645070023927076, 0.14644630105698142, 0.1464595886894936, 0.14644715687060086, 0.14641037189923947, 0.14642654227236446, 0.14641353991105874, 0.1464075642299968, 0.14639264004161587, 0.14640214407707372, 0.14639417149756642, 0.14639932139355702, 0.14642391477441005, 0.14638202494988015, 0.14639152898533803, 46148.53571746403, 4150.928784529894, 3295.890029170578, 1521.452212928719, 460.0886591287678, 0.2364326626644329, 0.23641258523928724, 0.23622938870706398, 0.23618843607829001, 0.23613974499823473, 0.23610416407791035, 0.23618590977976175, 0.236066455748299, 0.23606696100800464, 0.23607488560759857, 0.2361028078544899, 0.23604683039762678, 0.23603914513157764, 0.23607225293860595, 0.23602550311952503, 0.23605749403667767, 0.23603159282860894, 0.23601720622330588, 0.23601938681782503, 0.23601805718702068, 0.23602856127037503, 0.23602560948998938, 0.23600744673320195, 0.2360249712672033, 0.2360244926001137, 0.2360373900189159, 0.2360214344492637, 49865.579015785566, 5013.9305280179115, 974.6613726077894, 0.1436153023364209, 0.14328315240666706, 0.14327335362348995, 0.1432559699533348, 0.1432621531427193, 0.14326113134447357, 0.14324817546671664, 0.1432431581753305, 0.14326174704341652, 0.14325201376012694, 0.14321739051956928, 0.14324668206928057, 0.14323742038518134, 0.14318200748031606, 0.14322324620951604, 0.14317655788967212, 0.14317693778901988, 0.14317123929880327, 0.14316159771535625, 0.1431674403053255, 0.14316643160705725, 0.14317112139900567, 0.14319092856500007, 0.14316128331589603, 0.14315845372075398, 0.1431631959126124, 0.14316548840867657, 0.1431724182967791, 0.14317430469354048, 0.14316681150640503, 13161.01805427969, 7701.782259366415, 6399.713772516475, 5066.926128739221, 5027.7954072771445, 4173.1957846863925, 3024.8635260072983, 391.2131676112026, 0.25695281748573434, 0.2568776157405088, 0.25687262998944416, 0.25687262998944416, 0.25687262998944416, 0.25687262998944416, 0.25687262998944416, 0.25687262998944416, 0.25687262998944416, 0.25566424137613747, 0.25563985930404487, 0.25563362711521403, 0.25558764012184115, 0.2555663850778286, 0.2555771656711395, 0.2556199819017739, 0.25555755067681923, 0.2555438617287206, 0.25553909465094826, 0.2555608526435331, 0.2555301509132928, 0.2555301509132928, 0.25555289293569305, 0.25553983814014214, 0.25560111039664746, 13052.367353589838, 8754.856726790667, 6397.510925942014, 5026.008710621642, 4954.158075933822, 1986.8956728664225, 1728.2036486314603, 1237.5159177578923, 0.24530694405774178, 0.2452770833254442, 0.24508117341909838, 0.2449540082485269, 0.24499343784514468, 0.24498563166635712, 0.24494832148924886, 0.24490622687998045, 0.24496286364489342, 0.24489986862145188, 0.24488935546131058, 0.24487886328552086, 0.24488880986816952, 0.24487233715217963, 0.2448753379144555, 0.24485370304797707, 0.24487202238690595, 0.24487970265958403, 0.2448720643556091, 0.24483953861066093, 0.2448223314423658, 0.24486845504713745, 0.24484637950927585, 0.24486465687950157, 11728.574000734206, 11372.793273100824, 6280.048539756834, 3632.7791894104325, 1749.2793806467446, 1638.541509113404, 1464.6219855893855, 480.3992266269733, 176.7145401258791, 0.311544421135897, 0.3114932163748113, 0.31143361549645104, 0.3113891892520642, 0.3113616130136759, 0.3114670266512023, 0.31134867220906903, 0.31135820449817675, 0.31127834509831886, 0.31126848543766605, 0.31137264736046116, 0.3112617839495661, 0.3112337070252852, 0.31122943193804903, 0.3112231541072427, 0.3113141248824848, 0.31127183618171606, 0.3112117346174632, 0.3112202847919356, 0.31121481576141724, 0.31118722026587914, 0.3112495171451992, 0.3112415061709188, 0.3112281224518686, 31368.204691076353, 179.27694034248427, 0.44320917310558255, 0.44308634158927335, 0.44273802746471197, 0.4427122637896044, 0.4424913890449158, 0.4423941193994705, 0.4423428274875396, 0.4422273281920835, 0.4422245702007534, 0.4422163298608039, 0.44220075730000125, 0.44217869336936083, 0.44217869336936083, 0.44217872700340144, 0.44217869336936083, 0.44217869336936083, 0.442143882137329, 0.4421568985110453, 0.44214573200956264, 0.44213994695457765, 0.4422897193374158, 0.4421733791909444, 0.44216258266390845, 0.4420898658681087, 0.4420766813241894, 0.4420766813241894, 0.4420766813241894, 0.4420766813241894, 0.4421019741227285, 2.4063325790985495, 2.4063325790985495, 2.4063325790985495, 2.4063325790985495, 2.4063325790985495, 2.4063325790985495, 2.4063325790985495, 2.4063325790985495, 2.4063325790985495, 2.4063325790985495, 2.4063325790985495, 2.4063325790985495, 2.4063325790985495, 2.4063325790985495, 2.4063325790985495, 2.4063325790985495, 2.4063325790985495, 2.4063325790985495, 2.4063325790985495, 2.4063325790985495, 2.4063325790985495, 2.4063325790985495, 2.4063325790985495, 2.4063325790985495, 2.4063325790985495, 2.4063325790985495, 2.4063325790985495, 2.4063325790985495, 2.4063325790985495, 2.4063325790985495, 2.4063325790985495, 2.4063325790985495, 2.4063325790985495, 2.4063325790985495, 2.4063325790985495, 2.4063325790985495, 2.4063325790985495, 2.4063325790985495, 2.4063325790985495, 2.4063325790985495, 2.4063325790985495, 2.4063325790985495, 2.4063325790985495, 2.4063325790985495, 2.4063325790985495, 2.4063325790985495, 2.4063325790985495, 2.4063325790985495, 2.4063325790985495, 2.4063325790985495, 2.4063325790985495, 2.4063325790985495, 2.4063325790985495, 2.4063325790985495, 2.4063325790985495, 2.4063325790985495, 2.4063325790985495, 2.4063325790985495, 2.4063325790985495, 2.4063325790985495, 2.4063325790985495, 2.4063325790985495, 2.4063325790985495, 2.4063325790985495, 2.4063325790985495, 2.4063325790985495, 2.4063325790985495, 2.4063325790985495, 2.4063325790985495, 2.4063325790985495, 2.4063325790985495, 2.4063325790985495, 2.4063325790985495, 2.4063325790985495, 2.4063325790985495, 2.4063325790985495, 2.4063325790985495, 2.4063325790985495, 2.4063325790985495, 2.4063325790985495, 2.4063325790985495, 2.4063325790985495, 2.4063325790985495, 2.4063325790985495, 2.4063325790985495, 2.4063325790985495, 2.4063325790985495, 2.4063325790985495, 2.4063325790985495, 2.4063325790985495, 2.4063325790985495, 2.4063325790985495, 2.4063325790985495, 2.4063325790985495, 2.4063325790985495, 2.4063325790985495, 2.4063325790985495, 2.4063325790985495, 2.4063325790985495, 2.4063325790985495, 2.4063325790985495, 2.4063325790985495, 2.4063325790985495, 2.4063325790985495, 2.4063325790985495, 2.4063325790985495, 2.4063325790985495, 2.4063325790985495, 2.4063325790985495, 2.4063325790985495, 2.4063325790985495, 2.4063325790985495, 2.4063325790985495, 2.4063325790985495, 2.4063325790985495, 2.4063325790985495, 2.4063325790985495, 2.4063325790985495, 2.4063325790985495, 2.4063325790985495, 2.4063325790985495, 2.4063325790985495, 2.4063325790985495, 2.4063325790985495, 2.4063325790985495, 2.4063325790985495, 2.4063325790985495, 2.4063325790985495, 2.4063325790985495, 2.4063325790985495, 2.4063325790985495, 2.4063325790985495, 2.4063325790985495, 2.4063325790985495, 2.4063325790985495, 2.4063325790985495, 2.4063325790985495, 2.4063325790985495, 2.4063325790985495, 2.4063325790985495, 2.4063325790985495, 2.4063325790985495, 2.4063325790985495, 2.4063325790985495, 2.4063325790985495, 2.4063325790985495, 2.4063325790985495, 2.4063325790985495, 2.4063325790985495, 2.4063325790985495, 2.4063325790985495, 2.4063325790985495, 2.4063325790985495, 2.4063325790985495, 2.4063325790985495, 2.4063325790985495, 2.4063325790985495, 2.4063325790985495, 2.4063325790985495, 2.4063325790985495, 2.4063325790985495, 2.4063325790985495, 2.4063325790985495, 2.4063325790985495, 2.4063325790985495, 2.4063325790985495, 2.4063325790985495, 2.4063325790985495, 2.4063325790985495, 2.4063325790985495, 2.4063325790985495, 2.4063325790985495, 2.4063325790985495, 2.4063325790985495, 2.4063325790985495, 2.4063325790985495, 2.4063325790985495], \"Total\": [77241.0, 69367.0, 65551.0, 49876.0, 46158.0, 31378.0, 33622.0, 34209.0, 30847.0, 28804.0, 26891.0, 22108.0, 18802.0, 19348.0, 17873.0, 17854.0, 18574.0, 18300.0, 20664.0, 13062.0, 13171.0, 13989.0, 15721.0, 17314.0, 11738.0, 13678.0, 11383.0, 12711.0, 13591.0, 15193.0, 69367.7821844838, 20664.207718715457, 15193.505414956482, 7737.917650217285, 7611.654261001307, 2872.9205147355187, 1204.9340560689625, 10.684649767361801, 10.685813980897628, 10.681616495148981, 10.683673764776131, 10.682336570552195, 10.682094633402937, 10.683889877936041, 10.683182588852201, 10.684978890494971, 10.682230120891514, 10.6856700292367, 10.683436724777087, 10.684204323383861, 10.682381055195183, 10.683285000330383, 10.681846573652777, 10.682356927352597, 10.681983242716708, 10.683832864292365, 10.681736897321493, 10.682252139389925, 10.682495080214764, 10.682130826996115, 10.683412293221833, 10.683719035527144, 10.683100955403068, 65551.28293490908, 17314.490918027393, 11964.498216689315, 5348.826963552105, 3305.9993898536086, 3261.336845845679, 2666.971384601607, 2211.831070840696, 1726.3639561118212, 1708.9935609193856, 752.2971878275239, 565.5439011354231, 253.80470050174733, 10.68229663022998, 10.684978890494971, 10.683182588852201, 10.683832864292365, 10.68325983504425, 10.685813980897628, 10.684649767361801, 10.681885811977292, 10.683033398624534, 10.684204323383861, 10.683889877936041, 10.68301036219759, 10.682422037972799, 10.683285000330383, 10.682450750855487, 10.6828775744728, 10.681908729446263, 10.684214294156538, 10.684682976463948, 10.6856700292367, 26891.142369493824, 15721.98902906946, 13591.73572820548, 9485.898862115522, 8180.6247572740285, 4946.66055376582, 4499.544636806378, 2612.040155853306, 1324.4314841127316, 1017.24948429113, 992.6333851224201, 862.0967609306027, 469.04550281632135, 10.682214946776579, 10.683889877936041, 10.684978890494971, 10.682525686523661, 10.6856700292367, 10.68301036219759, 10.683285000330383, 10.68325983504425, 10.682755005376457, 10.684204323383861, 10.684360468866737, 10.6834957279857, 10.682385138979363, 10.683712699410963, 10.682528778341792, 10.682129094694599, 10.681621523111328, 10.685813980897628, 10.683029213671016, 34209.91561484075, 18300.95387730206, 11279.198272347665, 10733.945651585565, 6833.604101174298, 2211.961127080134, 1136.7852521683837, 621.5686577807107, 10.684682976463948, 10.684649767361801, 10.681992805406717, 10.682450750855487, 10.683712699410963, 10.683436724777087, 10.68159724321804, 10.683832864292365, 10.683285000330383, 10.68325983504425, 10.68301036219759, 10.684978890494971, 10.684360468866737, 10.683033398624534, 10.6828775744728, 10.683719035527144, 10.683029213671016, 10.683100955403068, 10.683590953513571, 10.683182588852201, 10.681788738109457, 10.682623987962128, 10.685813980897628, 10.683889877936041, 10.6856700292367, 18574.573039716393, 12453.843428965109, 9333.08165897649, 6782.577653340874, 6037.993339422331, 5878.046566249014, 5765.304296461045, 5412.631078907863, 4015.82237143501, 2075.4836585249436, 1703.8008652144201, 1656.2214786470897, 1576.6805641527214, 1206.3931517254482, 1083.7885827382008, 10.684682976463948, 10.685813980897628, 10.683889877936041, 10.684978890494971, 10.682566390085688, 10.682808709493326, 10.684649767361801, 10.684204323383861, 10.682544641629121, 10.683029213671016, 10.681927511257506, 10.683832864292365, 10.683712699410963, 10.681338822656954, 10.682450750855487, 10.682283402821025, 10.684360468866737, 77241.83133510992, 10.685813980897628, 10.68240469146261, 10.68301036219759, 10.682066031587308, 10.68325983504425, 10.682286605758485, 10.68245597830829, 10.683330072765159, 10.682283402821025, 10.682100527092377, 10.682064475516137, 10.6828775744728, 10.682147145523047, 10.681554203004245, 10.682525686523661, 10.683033398624534, 10.682476701447717, 10.682739980385508, 10.683832864292365, 10.683712699410963, 10.68142776322909, 10.681707216895136, 10.683182588852201, 10.682493588389546, 10.6856700292367, 10.681736897321493, 10.681755932934092, 10.682361745251075, 10.682344316570349, 10.684649767361801, 10.683100955403068, 10.684360468866737, 30847.448193223237, 19348.29647689364, 6732.45551157726, 6265.203470265704, 3403.6218942562446, 2915.28779628673, 1569.6163902627707, 1382.9841010862542, 1368.8478188410652, 1071.423785429654, 533.5511909959165, 417.7486275690088, 10.683436724777087, 10.684682976463948, 10.682100653796686, 10.684360468866737, 10.685813980897628, 10.681698864322954, 10.684649767361801, 10.682525441505172, 10.682569773990702, 10.683590953513571, 10.684204323383861, 10.683719035527144, 10.682871250408432, 10.684978890494971, 10.68158192099649, 10.68233904927489, 10.681951389724626, 10.682808709493326, 10.683832864292365, 10.684214294156538, 33622.511454361, 28804.64421703912, 4086.354089569057, 3393.716144869301, 1021.5240495441411, 581.0546886806607, 10.684214294156538, 10.682178324459223, 10.684682976463948, 10.683590953513571, 10.682808709493326, 10.683832864292365, 10.685813980897628, 10.682361745251075, 10.684649767361801, 10.683719035527144, 10.684978890494971, 10.682525686523661, 10.6828775744728, 10.681707745614503, 10.684204323383861, 10.681974055419442, 10.682061450559509, 10.681983242716708, 10.68175301293141, 10.682283402821025, 10.683330072765159, 10.68301036219759, 10.681603323531524, 10.681926528754328, 10.682488558337573, 10.682286605758485, 18802.875568263014, 13678.933984136378, 8377.388221788873, 7197.919624196529, 3022.5538777621564, 2828.10182613711, 2708.957297305873, 2659.4401466373374, 2323.083488069109, 2124.009075174696, 1694.8920530417836, 897.2618750833024, 817.7017149552489, 311.2764639476918, 10.685813980897628, 10.681788586772871, 10.683100955403068, 10.682279285589615, 10.683590953513571, 10.684978890494971, 10.681810977697243, 10.682569773990702, 10.683889877936041, 10.681392493180894, 10.681933188771117, 10.681366343180716, 10.681951389724626, 10.682365029003872, 10.682361745251075, 10.681832695210328, 10.683387673748268, 10.682462082011122, 10.684649767361801, 10.683712699410963, 10.683033398624534, 10.684214294156538, 10.6856700292367, 10.684204323383861, 17873.445998189767, 17854.02757538543, 10969.936623084994, 7213.663789523947, 4771.588462538697, 3492.5460226423425, 1777.827165464899, 642.980047507354, 10.684204323383861, 10.683673764776131, 10.684649767361801, 10.683285000330383, 10.68199084241765, 10.682488558337573, 10.68218661116978, 10.683712699410963, 10.683889877936041, 10.681750068996559, 10.682432591795395, 10.684214294156538, 10.681476272019411, 10.682091379169748, 10.681713437196407, 10.681674339955464, 10.682277953386786, 10.682755005376457, 10.682679946270103, 10.681714808327584, 10.682528778341792, 10.68237421182387, 10.683719035527144, 10.6856700292367, 22108.496512680755, 13989.54966366436, 12711.354714138712, 8974.01714449672, 6503.7910247707, 10.684682976463948, 10.683719035527144, 10.68233904927489, 10.682476701447717, 10.684214294156538, 10.682257019954077, 10.685813980897628, 10.681673659169348, 10.684978890494971, 10.684204323383861, 10.682321105669244, 10.68237421182387, 10.683590953513571, 10.683832864292365, 10.681644864481953, 10.683147870590071, 10.682432591795395, 10.682259271358703, 10.681856417623454, 10.68262326351935, 10.682071840490934, 10.682525441505172, 10.684360468866737, 10.681851646116286, 10.682566390085688, 46158.981108628774, 4161.374175694635, 3306.3354203353188, 1531.89760409346, 470.5340502935087, 10.6856700292367, 10.684978890494971, 10.683590953513571, 10.684360468866737, 10.68325983504425, 10.681885873143008, 10.685813980897628, 10.681849659770137, 10.682148506803063, 10.68262326351935, 10.684204323383861, 10.682407947128862, 10.682211899923919, 10.683712699410963, 10.681692358447117, 10.683182588852201, 10.682064475516137, 10.681425885500813, 10.682080684073517, 10.682050010548199, 10.682632697327316, 10.682679946270103, 10.681900664879587, 10.682755005376457, 10.682808709493326, 10.684682976463948, 10.683832864292365, 49876.11717452645, 5024.468686758795, 985.1995313486733, 10.684682976463948, 10.683100955403068, 10.683029213671016, 10.681990798861282, 10.682623987962128, 10.682566390085688, 10.68240469146261, 10.682365029003872, 10.684204323383861, 10.684214294156538, 10.682243591626076, 10.684649767361801, 10.684978890494971, 10.682528778341792, 10.685813980897628, 10.68233904927489, 10.68237421182387, 10.682108307827843, 10.681527572731486, 10.682050010548199, 10.68199084241765, 10.682344316570349, 10.683832864292365, 10.681695444108176, 10.68151340614322, 10.681890969167615, 10.682071840490934, 10.682739980385508, 10.683436724777087, 10.682679946270103, 13171.443923125236, 7712.208128211957, 6410.139641362017, 5077.351997584763, 5038.2212761226865, 4183.6216535319345, 3035.2893948528404, 401.63903645674515, 10.683089404949033, 10.682900463809561, 10.682741475531984, 10.682741475531984, 10.682741597607972, 10.682748226473255, 10.682762871089288, 10.68280540145102, 10.682864840319299, 10.682488558337573, 10.682010985185824, 10.683285000330383, 10.681487274005399, 10.682043612978934, 10.682495080214764, 10.684649767361801, 10.682277953386786, 10.681793450850352, 10.681708883288929, 10.682632697327316, 10.68144815731396, 10.681466057243055, 10.682426655036167, 10.681940257638683, 10.685813980897628, 13062.804014715934, 8765.293387916763, 6407.947587068107, 5036.445371747735, 4964.594737059915, 1997.3323339925155, 1738.6403097575533, 1247.9525788839853, 10.684214294156538, 10.684360468866737, 10.683673764776131, 10.68180372475949, 10.683590953513571, 10.6834957279857, 10.682632697327316, 10.6817976197545, 10.684682976463948, 10.6821389841059, 10.682178324459223, 10.682037184902068, 10.682544641629121, 10.681850989609032, 10.68262326351935, 10.68169227477659, 10.682623987962128, 10.683436724777087, 10.684204323383861, 10.683033398624534, 10.682569773990702, 10.684649767361801, 10.683832864292365, 10.685813980897628, 11738.944310934787, 11383.163583301404, 6290.418849957411, 3643.1494996110105, 1759.6496908473225, 1648.9118193139818, 1474.9922957899635, 490.7695368275514, 187.0848503599641, 10.682432690179649, 10.684360468866737, 10.682356927352597, 10.682063875937326, 10.681866248614494, 10.685813980897628, 10.683100955403068, 10.683673764776131, 10.681692560439576, 10.681793743673822, 10.6856700292367, 10.681869314218057, 10.681645943664849, 10.68197937250943, 10.681830737480421, 10.684978890494971, 10.683712699410963, 10.68169209456731, 10.68214398090936, 10.682422037972799, 10.681512606910413, 10.683889877936041, 10.683832864292365, 10.684649767361801, 31378.444287506343, 189.51653677247157, 10.6856700292367, 10.683412293221833, 10.682462379337576, 10.683387673748268, 10.683147870590071, 10.682094598976958, 10.683330072765159, 10.682054977270546, 10.68221753028293, 10.682054002370837, 10.681899206388946, 10.681785185238908, 10.681879919332072, 10.682059439585725, 10.68206976411228, 10.68227993691924, 10.681785440699704, 10.682143087570193, 10.682212891710517, 10.682080215039399, 10.685813980897628, 10.683436724777087, 10.6834957279857, 10.681906997513181, 10.681673728066272, 10.681689620068562, 10.681714629043253, 10.681728794852042, 10.682679946270103, 10.681232673549701, 10.681232673549701, 10.681232673549701, 10.681232673549701, 10.681232673549701, 10.681232673549701, 10.681232673549701, 10.681232673549701, 10.681232673549701, 10.681232673549701, 10.681232673549701, 10.681232673549701, 10.681232673549701, 10.681232673549701, 10.681232673549701, 10.681232673549701, 10.681232673549701, 10.681232673549701, 10.681232673549701, 10.681232673549701, 10.681232673549701, 10.681232673549701, 10.681232673549701, 10.681232673549701, 10.681232673549701, 10.681232673549701, 10.681232673549701, 10.681232673549701, 10.681232673549701, 10.681232673549701, 10.681348756406887, 10.68128193322732, 10.68130493024824, 31378.444287506343, 10.68167342012044, 65551.28293490908, 1726.3639561118212, 2211.831070840696, 1708.9935609193856, 5412.631078907863, 3305.9993898536086, 11964.498216689315, 10.681244438490774, 10.681232816157479, 69367.7821844838, 4771.588462538697, 10.681307982794381, 34209.91561484075, 3492.5460226423425, 10.68123300200732, 10.681255388622962, 17854.02757538543, 10.681366768721979, 49876.11717452645, 5024.468686758795, 10.681264767594918, 19348.29647689364, 2915.28779628673, 417.7486275690088, 10.681232673549701, 10.681232673549701, 10.681232673549701, 10.681232673549701, 10.681232673549701, 10.681232673549701, 10.681232673549701, 10.681232673549701, 10.681232673549701, 10.681232673549701, 10.681232673549701, 10.681232673549701, 10.681232673549701, 10.681232673549701, 10.681232673549701, 10.681232673549701, 10.681232673549701, 10.681232673549701, 10.681232673549701, 10.681232673549701, 10.681232673549701, 10.681232673549701, 10.681232673549701, 10.681232673549701, 10.681232673549701, 10.681232673549701, 10.681232673549701, 10.681232673549701, 10.681232673549701, 10.681232673549701, 10.681348756406887, 10.68128193322732, 10.68130493024824, 31378.444287506343, 10.68167342012044, 65551.28293490908, 1726.3639561118212, 2211.831070840696, 1708.9935609193856, 5412.631078907863, 3305.9993898536086, 11964.498216689315, 10.681244438490774, 10.681232816157479, 69367.7821844838, 4771.588462538697, 10.681307982794381, 34209.91561484075, 3492.5460226423425, 10.68123300200732, 10.681255388622962, 17854.02757538543, 10.681366768721979, 49876.11717452645, 5024.468686758795, 10.681264767594918, 19348.29647689364, 2915.28779628673, 417.7486275690088, 10.681232673549701, 10.681232673549701, 10.681232673549701, 10.681232673549701, 10.681232673549701, 10.681232673549701, 10.681232673549701, 10.681232673549701, 10.681232673549701, 10.681232673549701, 10.681232673549701, 10.681232673549701, 10.681232673549701, 10.681232673549701, 10.681232673549701, 10.681232673549701, 10.681232673549701, 10.681232673549701, 10.681232673549701, 10.681232673549701, 10.681232673549701, 10.681232673549701, 10.681232673549701, 10.681232673549701, 10.681232673549701, 10.681232673549701, 10.681232673549701, 10.681232673549701, 10.681232673549701, 10.681232673549701, 10.681348756406887, 10.68128193322732, 10.68130493024824, 31378.444287506343, 10.68167342012044, 65551.28293490908, 1726.3639561118212, 2211.831070840696, 1708.9935609193856, 5412.631078907863, 3305.9993898536086, 11964.498216689315, 10.681244438490774, 10.681232816157479, 69367.7821844838, 4771.588462538697, 10.681307982794381, 34209.91561484075, 3492.5460226423425, 10.68123300200732, 10.681255388622962, 17854.02757538543, 10.681366768721979, 49876.11717452645, 5024.468686758795, 10.681264767594918, 19348.29647689364, 2915.28779628673, 417.7486275690088], \"Category\": [\"Default\", \"Default\", \"Default\", \"Default\", \"Default\", \"Default\", \"Default\", \"Default\", \"Default\", \"Default\", \"Default\", \"Default\", \"Default\", \"Default\", \"Default\", \"Default\", \"Default\", \"Default\", \"Default\", \"Default\", \"Default\", \"Default\", \"Default\", \"Default\", \"Default\", \"Default\", \"Default\", \"Default\", \"Default\", \"Default\", \"Topic1\", \"Topic1\", \"Topic1\", \"Topic1\", \"Topic1\", \"Topic1\", \"Topic1\", \"Topic1\", \"Topic1\", \"Topic1\", \"Topic1\", \"Topic1\", \"Topic1\", \"Topic1\", \"Topic1\", \"Topic1\", \"Topic1\", \"Topic1\", \"Topic1\", \"Topic1\", \"Topic1\", \"Topic1\", \"Topic1\", \"Topic1\", \"Topic1\", \"Topic1\", \"Topic1\", \"Topic1\", \"Topic1\", \"Topic1\", \"Topic1\", \"Topic1\", \"Topic1\", \"Topic2\", \"Topic2\", \"Topic2\", \"Topic2\", \"Topic2\", \"Topic2\", \"Topic2\", \"Topic2\", \"Topic2\", \"Topic2\", \"Topic2\", \"Topic2\", \"Topic2\", \"Topic2\", \"Topic2\", \"Topic2\", \"Topic2\", \"Topic2\", \"Topic2\", \"Topic2\", \"Topic2\", \"Topic2\", \"Topic2\", \"Topic2\", \"Topic2\", \"Topic2\", \"Topic2\", \"Topic2\", \"Topic2\", \"Topic2\", \"Topic2\", \"Topic2\", \"Topic2\", \"Topic3\", \"Topic3\", \"Topic3\", \"Topic3\", \"Topic3\", \"Topic3\", \"Topic3\", \"Topic3\", \"Topic3\", \"Topic3\", \"Topic3\", \"Topic3\", \"Topic3\", \"Topic3\", \"Topic3\", \"Topic3\", \"Topic3\", \"Topic3\", \"Topic3\", \"Topic3\", \"Topic3\", \"Topic3\", \"Topic3\", \"Topic3\", \"Topic3\", \"Topic3\", \"Topic3\", \"Topic3\", \"Topic3\", \"Topic3\", \"Topic3\", \"Topic3\", \"Topic4\", \"Topic4\", \"Topic4\", \"Topic4\", \"Topic4\", \"Topic4\", \"Topic4\", \"Topic4\", \"Topic4\", \"Topic4\", \"Topic4\", \"Topic4\", \"Topic4\", \"Topic4\", \"Topic4\", \"Topic4\", \"Topic4\", \"Topic4\", \"Topic4\", \"Topic4\", \"Topic4\", \"Topic4\", \"Topic4\", \"Topic4\", \"Topic4\", \"Topic4\", \"Topic4\", \"Topic4\", \"Topic4\", \"Topic4\", \"Topic4\", \"Topic4\", \"Topic4\", \"Topic5\", \"Topic5\", \"Topic5\", \"Topic5\", \"Topic5\", \"Topic5\", \"Topic5\", \"Topic5\", \"Topic5\", \"Topic5\", \"Topic5\", \"Topic5\", \"Topic5\", \"Topic5\", \"Topic5\", \"Topic5\", \"Topic5\", \"Topic5\", \"Topic5\", \"Topic5\", \"Topic5\", \"Topic5\", \"Topic5\", \"Topic5\", \"Topic5\", \"Topic5\", \"Topic5\", \"Topic5\", \"Topic5\", \"Topic5\", \"Topic5\", \"Topic5\", \"Topic6\", \"Topic6\", \"Topic6\", \"Topic6\", \"Topic6\", \"Topic6\", \"Topic6\", \"Topic6\", \"Topic6\", \"Topic6\", \"Topic6\", \"Topic6\", \"Topic6\", \"Topic6\", \"Topic6\", \"Topic6\", \"Topic6\", \"Topic6\", \"Topic6\", \"Topic6\", \"Topic6\", \"Topic6\", \"Topic6\", \"Topic6\", \"Topic6\", \"Topic6\", \"Topic6\", \"Topic6\", \"Topic6\", \"Topic6\", \"Topic6\", \"Topic6\", \"Topic6\", \"Topic7\", \"Topic7\", \"Topic7\", \"Topic7\", \"Topic7\", \"Topic7\", \"Topic7\", \"Topic7\", \"Topic7\", \"Topic7\", \"Topic7\", \"Topic7\", \"Topic7\", \"Topic7\", \"Topic7\", \"Topic7\", \"Topic7\", \"Topic7\", \"Topic7\", \"Topic7\", \"Topic7\", \"Topic7\", \"Topic7\", \"Topic7\", \"Topic7\", \"Topic7\", \"Topic7\", \"Topic7\", \"Topic7\", \"Topic7\", \"Topic7\", \"Topic7\", \"Topic8\", \"Topic8\", \"Topic8\", \"Topic8\", \"Topic8\", \"Topic8\", \"Topic8\", \"Topic8\", \"Topic8\", \"Topic8\", \"Topic8\", \"Topic8\", \"Topic8\", \"Topic8\", \"Topic8\", \"Topic8\", \"Topic8\", \"Topic8\", \"Topic8\", \"Topic8\", \"Topic8\", \"Topic8\", \"Topic8\", \"Topic8\", \"Topic8\", \"Topic8\", \"Topic8\", \"Topic8\", \"Topic8\", \"Topic8\", \"Topic8\", \"Topic8\", \"Topic9\", \"Topic9\", \"Topic9\", \"Topic9\", \"Topic9\", \"Topic9\", \"Topic9\", \"Topic9\", \"Topic9\", \"Topic9\", \"Topic9\", \"Topic9\", \"Topic9\", \"Topic9\", \"Topic9\", \"Topic9\", \"Topic9\", \"Topic9\", \"Topic9\", \"Topic9\", \"Topic9\", \"Topic9\", \"Topic9\", \"Topic9\", \"Topic9\", \"Topic9\", \"Topic9\", \"Topic9\", \"Topic9\", \"Topic9\", \"Topic9\", \"Topic9\", \"Topic9\", \"Topic9\", \"Topic9\", \"Topic9\", \"Topic9\", \"Topic9\", \"Topic10\", \"Topic10\", \"Topic10\", \"Topic10\", \"Topic10\", \"Topic10\", \"Topic10\", \"Topic10\", \"Topic10\", \"Topic10\", \"Topic10\", \"Topic10\", \"Topic10\", \"Topic10\", \"Topic10\", \"Topic10\", \"Topic10\", \"Topic10\", \"Topic10\", \"Topic10\", \"Topic10\", \"Topic10\", \"Topic10\", \"Topic10\", \"Topic10\", \"Topic10\", \"Topic10\", \"Topic10\", \"Topic10\", \"Topic10\", \"Topic10\", \"Topic10\", \"Topic11\", \"Topic11\", \"Topic11\", \"Topic11\", \"Topic11\", \"Topic11\", \"Topic11\", \"Topic11\", \"Topic11\", \"Topic11\", \"Topic11\", \"Topic11\", \"Topic11\", \"Topic11\", \"Topic11\", \"Topic11\", \"Topic11\", \"Topic11\", \"Topic11\", \"Topic11\", \"Topic11\", \"Topic11\", \"Topic11\", \"Topic11\", \"Topic11\", \"Topic11\", \"Topic11\", \"Topic11\", \"Topic11\", \"Topic11\", \"Topic12\", \"Topic12\", \"Topic12\", \"Topic12\", \"Topic12\", \"Topic12\", \"Topic12\", \"Topic12\", \"Topic12\", \"Topic12\", \"Topic12\", \"Topic12\", \"Topic12\", \"Topic12\", \"Topic12\", \"Topic12\", \"Topic12\", \"Topic12\", \"Topic12\", \"Topic12\", \"Topic12\", \"Topic12\", \"Topic12\", \"Topic12\", \"Topic12\", \"Topic12\", \"Topic12\", \"Topic12\", \"Topic12\", \"Topic12\", \"Topic12\", \"Topic12\", \"Topic13\", \"Topic13\", \"Topic13\", \"Topic13\", \"Topic13\", \"Topic13\", \"Topic13\", \"Topic13\", \"Topic13\", \"Topic13\", \"Topic13\", \"Topic13\", \"Topic13\", \"Topic13\", \"Topic13\", \"Topic13\", \"Topic13\", \"Topic13\", \"Topic13\", \"Topic13\", \"Topic13\", \"Topic13\", \"Topic13\", \"Topic13\", \"Topic13\", \"Topic13\", \"Topic13\", \"Topic13\", \"Topic13\", \"Topic13\", \"Topic13\", \"Topic13\", \"Topic13\", \"Topic14\", \"Topic14\", \"Topic14\", \"Topic14\", \"Topic14\", \"Topic14\", \"Topic14\", \"Topic14\", \"Topic14\", \"Topic14\", \"Topic14\", \"Topic14\", \"Topic14\", \"Topic14\", \"Topic14\", \"Topic14\", \"Topic14\", \"Topic14\", \"Topic14\", \"Topic14\", \"Topic14\", \"Topic14\", \"Topic14\", \"Topic14\", \"Topic14\", \"Topic14\", \"Topic14\", \"Topic14\", \"Topic14\", \"Topic14\", \"Topic14\", \"Topic14\", \"Topic14\", \"Topic15\", \"Topic15\", \"Topic15\", \"Topic15\", \"Topic15\", \"Topic15\", \"Topic15\", \"Topic15\", \"Topic15\", \"Topic15\", \"Topic15\", \"Topic15\", \"Topic15\", \"Topic15\", \"Topic15\", \"Topic15\", \"Topic15\", \"Topic15\", \"Topic15\", \"Topic15\", \"Topic15\", \"Topic15\", \"Topic15\", \"Topic15\", \"Topic15\", \"Topic15\", \"Topic15\", \"Topic15\", \"Topic15\", \"Topic15\", \"Topic15\", \"Topic15\", \"Topic16\", \"Topic16\", \"Topic16\", \"Topic16\", \"Topic16\", \"Topic16\", \"Topic16\", \"Topic16\", \"Topic16\", \"Topic16\", \"Topic16\", \"Topic16\", \"Topic16\", \"Topic16\", \"Topic16\", \"Topic16\", \"Topic16\", \"Topic16\", \"Topic16\", \"Topic16\", \"Topic16\", \"Topic16\", \"Topic16\", \"Topic16\", \"Topic16\", \"Topic16\", \"Topic16\", \"Topic16\", \"Topic16\", \"Topic16\", \"Topic16\", \"Topic16\", \"Topic16\", \"Topic17\", \"Topic17\", \"Topic17\", \"Topic17\", \"Topic17\", \"Topic17\", \"Topic17\", \"Topic17\", \"Topic17\", \"Topic17\", \"Topic17\", \"Topic17\", \"Topic17\", \"Topic17\", \"Topic17\", \"Topic17\", \"Topic17\", \"Topic17\", \"Topic17\", \"Topic17\", \"Topic17\", \"Topic17\", \"Topic17\", \"Topic17\", \"Topic17\", \"Topic17\", \"Topic17\", \"Topic17\", \"Topic17\", \"Topic17\", \"Topic17\", \"Topic18\", \"Topic18\", \"Topic18\", \"Topic18\", \"Topic18\", \"Topic18\", \"Topic18\", \"Topic18\", \"Topic18\", \"Topic18\", \"Topic18\", \"Topic18\", \"Topic18\", \"Topic18\", \"Topic18\", \"Topic18\", \"Topic18\", \"Topic18\", \"Topic18\", \"Topic18\", \"Topic18\", \"Topic18\", \"Topic18\", \"Topic18\", \"Topic18\", \"Topic18\", \"Topic18\", \"Topic18\", \"Topic18\", \"Topic18\", \"Topic18\", \"Topic18\", \"Topic18\", \"Topic18\", \"Topic18\", \"Topic18\", \"Topic18\", \"Topic18\", \"Topic18\", \"Topic18\", \"Topic18\", \"Topic18\", \"Topic18\", \"Topic18\", \"Topic18\", \"Topic18\", \"Topic18\", \"Topic18\", \"Topic18\", \"Topic18\", \"Topic18\", \"Topic18\", \"Topic18\", \"Topic18\", \"Topic18\", \"Topic18\", \"Topic18\", \"Topic18\", \"Topic18\", \"Topic19\", \"Topic19\", \"Topic19\", \"Topic19\", \"Topic19\", \"Topic19\", \"Topic19\", \"Topic19\", \"Topic19\", \"Topic19\", \"Topic19\", \"Topic19\", \"Topic19\", \"Topic19\", \"Topic19\", \"Topic19\", \"Topic19\", \"Topic19\", \"Topic19\", \"Topic19\", \"Topic19\", \"Topic19\", \"Topic19\", \"Topic19\", \"Topic19\", \"Topic19\", \"Topic19\", \"Topic19\", \"Topic19\", \"Topic19\", \"Topic19\", \"Topic19\", \"Topic19\", \"Topic19\", \"Topic19\", \"Topic19\", \"Topic19\", \"Topic19\", \"Topic19\", \"Topic19\", \"Topic19\", \"Topic19\", \"Topic19\", \"Topic19\", \"Topic19\", \"Topic19\", \"Topic19\", \"Topic19\", \"Topic19\", \"Topic19\", \"Topic19\", \"Topic19\", \"Topic19\", \"Topic19\", \"Topic19\", \"Topic19\", \"Topic19\", \"Topic19\", \"Topic19\", \"Topic20\", \"Topic20\", \"Topic20\", \"Topic20\", \"Topic20\", \"Topic20\", \"Topic20\", \"Topic20\", \"Topic20\", \"Topic20\", \"Topic20\", \"Topic20\", \"Topic20\", \"Topic20\", \"Topic20\", \"Topic20\", \"Topic20\", \"Topic20\", \"Topic20\", \"Topic20\", \"Topic20\", \"Topic20\", \"Topic20\", \"Topic20\", \"Topic20\", \"Topic20\", \"Topic20\", \"Topic20\", \"Topic20\", \"Topic20\", \"Topic20\", \"Topic20\", \"Topic20\", \"Topic20\", \"Topic20\", \"Topic20\", \"Topic20\", \"Topic20\", \"Topic20\", \"Topic20\", \"Topic20\", \"Topic20\", \"Topic20\", \"Topic20\", \"Topic20\", \"Topic20\", \"Topic20\", \"Topic20\", \"Topic20\", \"Topic20\", \"Topic20\", \"Topic20\", \"Topic20\", \"Topic20\", \"Topic20\", \"Topic20\", \"Topic20\", \"Topic20\", \"Topic20\"], \"logprob\": [30.0, 29.0, 28.0, 27.0, 26.0, 25.0, 24.0, 23.0, 22.0, 21.0, 20.0, 19.0, 18.0, 17.0, 16.0, 15.0, 14.0, 13.0, 12.0, 11.0, 10.0, 9.0, 8.0, 7.0, 6.0, 5.0, 4.0, 3.0, 2.0, 1.0, -0.6005, -1.8118, -2.1196, -2.795, -2.8114, -3.7881, -4.6621, -13.6364, -13.6366, -13.637, -13.6369, -13.637, -13.637, -13.637, -13.637, -13.6369, -13.6372, -13.6369, -13.6371, -13.637, -13.6372, -13.6371, -13.6373, -13.6373, -13.6373, -13.6371, -13.6374, -13.6373, -13.6373, -13.6373, -13.6373, -13.6373, -13.6373, -0.5905, -1.9222, -2.2921, -3.0983, -3.5806, -3.5943, -3.7962, -3.9841, -4.2333, -4.2435, -5.0719, -5.362, -6.1868, -13.6012, -13.6011, -13.6013, -13.6012, -13.6013, -13.6011, -13.6012, -13.6015, -13.6014, -13.6013, -13.6014, -13.6015, -13.6016, -13.6015, -13.6016, -13.6016, -13.6017, -13.6015, -13.6015, -13.6014, -1.2354, -1.7724, -1.9181, -2.2781, -2.4263, -2.9302, -3.0251, -3.5707, -4.2538, -4.5201, -4.5448, -4.6874, -5.3065, -13.2482, -13.2481, -13.2483, -13.2486, -13.2484, -13.2486, -13.2487, -13.2487, -13.2489, -13.2489, -13.2489, -13.249, -13.2491, -13.249, -13.2491, -13.2491, -13.2492, -13.2488, -13.2491, -0.9346, -1.5604, -2.0448, -2.0944, -2.5465, -3.6777, -4.3479, -4.9594, -13.276, -13.276, -13.2764, -13.2764, -13.2763, -13.2763, -13.2765, -13.2763, -13.2764, -13.2765, -13.2765, -13.2763, -13.2764, -13.2765, -13.2766, -13.2765, -13.2766, -13.2766, -13.2766, -13.2766, -13.2767, -13.2767, -13.2764, -13.2766, -13.2766, -1.5235, -1.9235, -2.2122, -2.5319, -2.6484, -2.6753, -2.6947, -2.7579, -3.0571, -3.7196, -3.918, -3.9465, -3.9961, -4.2658, -4.374, -13.2858, -13.2858, -13.286, -13.2862, -13.2866, -13.2865, -13.2864, -13.2865, -13.2866, -13.2866, -13.2867, -13.2865, -13.2866, -13.2868, -13.2867, -13.2867, -13.2866, -0.0259, -13.082, -13.0826, -13.0826, -13.0827, -13.0827, -13.0828, -13.0828, -13.0828, -13.083, -13.083, -13.083, -13.0829, -13.083, -13.0831, -13.083, -13.083, -13.0831, -13.0831, -13.083, -13.083, -13.0832, -13.0832, -13.0831, -13.0832, -13.0829, -13.0833, -13.0833, -13.0832, -13.0832, -13.0831, -13.0832, -13.0832, -0.923, -1.3896, -2.4463, -2.5183, -3.1299, -3.2853, -3.9076, -4.0351, -4.0454, -4.2926, -4.9998, -5.2501, -13.1367, -13.1366, -13.137, -13.1368, -13.1368, -13.1373, -13.137, -13.1372, -13.1372, -13.1372, -13.1372, -13.1373, -13.1374, -13.1372, -13.1375, -13.1375, -13.1375, -13.1375, -13.1375, -13.1375, -0.781, -0.9357, -2.8908, -3.077, -4.2849, -4.857, -13.045, -13.0454, -13.0452, -13.0455, -13.0456, -13.0455, -13.0454, -13.0457, -13.0456, -13.0457, -13.0456, -13.0458, -13.0458, -13.0459, -13.0457, -13.0459, -13.0459, -13.0459, -13.046, -13.0459, -13.0458, -13.0459, -13.046, -13.046, -13.0459, -13.046, -1.3116, -1.6299, -2.1207, -2.2727, -3.1424, -3.2091, -3.2523, -3.2709, -3.4066, -3.4967, -3.7236, -4.3652, -4.4592, -5.4463, -12.7603, -12.7607, -12.7607, -12.7608, -12.7607, -12.7606, -12.761, -12.761, -12.7609, -12.7611, -12.7611, -12.7612, -12.7611, -12.7611, -12.7611, -12.7611, -12.761, -12.7611, -12.7609, -12.761, -12.761, -12.761, -12.761, -12.7611, -1.3316, -1.3327, -1.8201, -2.2398, -2.6538, -2.9667, -3.6448, -4.6723, -12.487, -12.4875, -12.4874, -12.4877, -12.4878, -12.4879, -12.4879, -12.4879, -12.4879, -12.4882, -12.4881, -12.488, -12.4883, -12.4883, -12.4883, -12.4883, -12.4883, -12.4883, -12.4883, -12.4884, -12.4883, -12.4883, -12.4883, -12.4883, -1.0947, -1.5526, -1.6485, -1.997, -2.3194, -13.017, -13.0177, -13.018, -13.0185, -13.0183, -13.0186, -13.0183, -13.0188, -13.0186, -13.0188, -13.019, -13.019, -13.0189, -13.019, -13.0193, -13.0191, -13.0192, -13.0193, -13.0194, -13.0193, -13.0194, -13.0193, -13.0192, -13.0195, -13.0194, -0.2368, -2.6453, -2.876, -3.649, -4.845, -12.4185, -12.4186, -12.4194, -12.4195, -12.4197, -12.4199, -12.4195, -12.42, -12.42, -12.42, -12.4199, -12.4201, -12.4202, -12.42, -12.4202, -12.4201, -12.4202, -12.4203, -12.4202, -12.4202, -12.4202, -12.4202, -12.4203, -12.4202, -12.4202, -12.4202, -12.4202, -0.1444, -2.4416, -4.0794, -12.9021, -12.9045, -12.9045, -12.9046, -12.9046, -12.9046, -12.9047, -12.9047, -12.9046, -12.9047, -12.9049, -12.9047, -12.9048, -12.9052, -12.9049, -12.9052, -12.9052, -12.9052, -12.9053, -12.9053, -12.9053, -12.9052, -12.9051, -12.9053, -12.9053, -12.9053, -12.9053, -12.9052, -12.9052, -12.9053, -1.2957, -1.8316, -2.0168, -2.2503, -2.258, -2.4443, -2.7661, -4.8115, -12.1396, -12.1399, -12.1399, -12.1399, -12.1399, -12.1399, -12.1399, -12.1399, -12.1399, -12.1447, -12.1447, -12.1448, -12.145, -12.145, -12.145, -12.1448, -12.1451, -12.1451, -12.1451, -12.1451, -12.1452, -12.1452, -12.1451, -12.1451, -12.1449, -1.2628, -1.6622, -1.9759, -2.2172, -2.2316, -3.1452, -3.2847, -3.6187, -12.1448, -12.1449, -12.1457, -12.1462, -12.1461, -12.1461, -12.1463, -12.1464, -12.1462, -12.1465, -12.1465, -12.1465, -12.1465, -12.1466, -12.1466, -12.1466, -12.1466, -12.1465, -12.1466, -12.1467, -12.1468, -12.1466, -12.1467, -12.1466, -1.2839, -1.3147, -1.9085, -2.4559, -3.1867, -3.2521, -3.3643, -4.479, -5.4791, -11.8199, -11.82, -11.8202, -11.8204, -11.8205, -11.8201, -11.8205, -11.8205, -11.8207, -11.8208, -11.8204, -11.8208, -11.8209, -11.8209, -11.8209, -11.8206, -11.8207, -11.8209, -11.8209, -11.8209, -11.821, -11.8208, -11.8208, -11.8209, -0.1646, -5.3292, -11.3319, -11.3322, -11.3329, -11.333, -11.3335, -11.3337, -11.3338, -11.3341, -11.3341, -11.3341, -11.3342, -11.3342, -11.3342, -11.3342, -11.3342, -11.3342, -11.3343, -11.3343, -11.3343, -11.3343, -11.334, -11.3342, -11.3342, -11.3344, -11.3344, -11.3344, -11.3344, -11.3344, -11.3344, -9.4178, -9.4178, -9.4178, -9.4178, -9.4178, -9.4178, -9.4178, -9.4178, -9.4178, -9.4178, -9.4178, -9.4178, -9.4178, -9.4178, -9.4178, -9.4178, -9.4178, -9.4178, -9.4178, -9.4178, -9.4178, -9.4178, -9.4178, -9.4178, -9.4178, -9.4178, -9.4178, -9.4178, -9.4178, -9.4178, -9.4178, -9.4178, -9.4178, -9.4178, -9.4178, -9.4178, -9.4178, -9.4178, -9.4178, -9.4178, -9.4178, -9.4178, -9.4178, -9.4178, -9.4178, -9.4178, -9.4178, -9.4178, -9.4178, -9.4178, -9.4178, -9.4178, -9.4178, -9.4178, -9.4178, -9.4178, -9.4178, -9.4178, -9.4178, -9.4178, -9.4178, -9.4178, -9.4178, -9.4178, -9.4178, -9.4178, -9.4178, -9.4178, -9.4178, -9.4178, -9.4178, -9.4178, -9.4178, -9.4178, -9.4178, -9.4178, -9.4178, -9.4178, -9.4178, -9.4178, -9.4178, -9.4178, -9.4178, -9.4178, -9.4178, -9.4178, -9.4178, -9.4178, -9.4178, -9.4178, -9.4178, -9.4178, -9.4178, -9.4178, -9.4178, -9.4178, -9.4178, -9.4178, -9.4178, -9.4178, -9.4178, -9.4178, -9.4178, -9.4178, -9.4178, -9.4178, -9.4178, -9.4178, -9.4178, -9.4178, -9.4178, -9.4178, -9.4178, -9.4178, -9.4178, -9.4178, -9.4178, -9.4178, -9.4178, -9.4178, -9.4178, -9.4178, -9.4178, -9.4178, -9.4178, -9.4178, -9.4178, -9.4178, -9.4178, -9.4178, -9.4178, -9.4178, -9.4178, -9.4178, -9.4178, -9.4178, -9.4178, -9.4178, -9.4178, -9.4178, -9.4178, -9.4178, -9.4178, -9.4178, -9.4178, -9.4178, -9.4178, -9.4178, -9.4178, -9.4178, -9.4178, -9.4178, -9.4178, -9.4178, -9.4178, -9.4178, -9.4178, -9.4178, -9.4178, -9.4178, -9.4178, -9.4178, -9.4178, -9.4178, -9.4178, -9.4178, -9.4178, -9.4178, -9.4178, -9.4178, -9.4178, -9.4178, -9.4178, -9.4178, -9.4178, -9.4178, -9.4178], \"loglift\": [30.0, 29.0, 28.0, 27.0, 26.0, 25.0, 24.0, 23.0, 22.0, 21.0, 20.0, 19.0, 18.0, 17.0, 16.0, 15.0, 14.0, 13.0, 12.0, 11.0, 10.0, 9.0, 8.0, 7.0, 6.0, 5.0, 4.0, 3.0, 2.0, 1.0, 2.3467, 2.3464, 2.3462, 2.3455, 2.3455, 2.3432, 2.3381, -1.9109, -1.9112, -1.9112, -1.9112, -1.9112, -1.9112, -1.9113, -1.9113, -1.9114, -1.9114, -1.9114, -1.9114, -1.9114, -1.9114, -1.9114, -1.9115, -1.9115, -1.9115, -1.9115, -1.9115, -1.9115, -1.9115, -1.9115, -1.9116, -1.9116, -1.9116, 2.4133, 2.4128, 2.4126, 2.4115, 2.4102, 2.4102, 2.4095, 2.4087, 2.4073, 2.4073, 2.3993, 2.3946, 2.371, -1.8754, -1.8755, -1.8756, -1.8756, -1.8756, -1.8756, -1.8757, -1.8757, -1.8757, -1.8757, -1.8758, -1.8758, -1.8758, -1.8758, -1.8759, -1.8759, -1.8759, -1.8759, -1.8759, -1.876, 2.6595, 2.6592, 2.6591, 2.6587, 2.6586, 2.6577, 2.6575, 2.6558, 2.6519, 2.6495, 2.6492, 2.6476, 2.6372, -1.5224, -1.5224, -1.5228, -1.5229, -1.5229, -1.5229, -1.523, -1.523, -1.5232, -1.5233, -1.5233, -1.5233, -1.5233, -1.5233, -1.5233, -1.5233, -1.5233, -1.5233, -1.5233, 2.7195, 2.7192, 2.7189, 2.7188, 2.7183, 2.715, 2.7105, 2.7027, -1.5505, -1.5505, -1.5506, -1.5506, -1.5506, -1.5506, -1.5507, -1.5507, -1.5507, -1.5508, -1.5508, -1.5508, -1.5508, -1.5508, -1.5509, -1.5509, -1.5509, -1.5509, -1.5509, -1.5509, -1.5509, -1.5509, -1.551, -1.5509, -1.5511, 2.7414, 2.7411, 2.7408, 2.7404, 2.7402, 2.7401, 2.7401, 2.74, 2.7393, 2.7368, 2.7357, 2.7355, 2.7352, 2.7332, 2.7322, -1.5603, -1.5604, -1.5604, -1.5607, -1.5608, -1.5608, -1.5609, -1.5609, -1.5609, -1.5609, -1.5609, -1.5609, -1.5609, -1.5609, -1.5609, -1.561, -1.561, 2.8138, -1.3566, -1.3568, -1.3569, -1.3569, -1.357, -1.357, -1.3571, -1.3571, -1.3572, -1.3572, -1.3572, -1.3572, -1.3572, -1.3572, -1.3573, -1.3573, -1.3573, -1.3573, -1.3573, -1.3574, -1.3574, -1.3574, -1.3574, -1.3574, -1.3574, -1.3574, -1.3574, -1.3574, -1.3574, -1.3575, -1.3575, -1.3576, 2.8346, 2.8344, 2.8334, 2.8333, 2.8318, 2.8313, 2.8282, 2.8273, 2.8272, 2.8251, 2.815, 2.8094, -1.411, -1.411, -1.4112, -1.4112, -1.4113, -1.4114, -1.4114, -1.4114, -1.4115, -1.4116, -1.4116, -1.4116, -1.4116, -1.4117, -1.4117, -1.4117, -1.4117, -1.4117, -1.4118, -1.4119, 2.8905, 2.8904, 2.8882, 2.8877, 2.8804, 2.8725, -1.3194, -1.3196, -1.3196, -1.3199, -1.3199, -1.3199, -1.3199, -1.3199, -1.32, -1.32, -1.3201, -1.3201, -1.3201, -1.3201, -1.3201, -1.3201, -1.3201, -1.3201, -1.3201, -1.3202, -1.3202, -1.3202, -1.3202, -1.3202, -1.3202, -1.3202, 2.941, 2.9408, 2.9403, 2.9401, 2.9381, 2.9379, 2.9377, 2.9376, 2.9371, 2.9366, 2.9354, 2.9298, 2.9287, 2.9073, -1.0349, -1.0349, -1.035, -1.035, -1.0351, -1.0351, -1.0352, -1.0352, -1.0352, -1.0352, -1.0352, -1.0353, -1.0353, -1.0353, -1.0353, -1.0353, -1.0353, -1.0353, -1.0353, -1.0353, -1.0353, -1.0354, -1.0355, -1.0355, 2.9717, 2.9717, 2.9714, 2.9709, 2.9701, 2.9693, 2.9664, 2.956, -0.7614, -0.7619, -0.7619, -0.762, -0.762, -0.7621, -0.7621, -0.7623, -0.7623, -0.7623, -0.7624, -0.7624, -0.7624, -0.7625, -0.7625, -0.7625, -0.7625, -0.7626, -0.7626, -0.7626, -0.7626, -0.7626, -0.7626, -0.7628, 2.996, 2.9957, 2.9956, 2.9953, 2.9948, -1.2915, -1.2921, -1.2922, -1.2927, -1.2927, -1.2928, -1.2929, -1.293, -1.2931, -1.2932, -1.2932, -1.2932, -1.2933, -1.2934, -1.2934, -1.2934, -1.2935, -1.2935, -1.2936, -1.2936, -1.2936, -1.2936, -1.2936, -1.2936, -1.2936, 3.1177, 3.1155, 3.1148, 3.1111, 3.0955, -0.693, -0.693, -0.6937, -0.6939, -0.694, -0.6941, -0.6941, -0.6942, -0.6942, -0.6943, -0.6943, -0.6944, -0.6944, -0.6944, -0.6944, -0.6944, -0.6944, -0.6944, -0.6944, -0.6944, -0.6945, -0.6945, -0.6945, -0.6945, -0.6945, -0.6946, -0.6946, 3.1326, 3.1307, 3.1221, -1.1766, -1.1788, -1.1788, -1.1788, -1.1789, -1.1789, -1.1789, -1.179, -1.179, -1.1791, -1.1791, -1.1792, -1.1792, -1.1794, -1.1794, -1.1794, -1.1794, -1.1794, -1.1795, -1.1795, -1.1795, -1.1795, -1.1795, -1.1795, -1.1795, -1.1795, -1.1795, -1.1795, -1.1795, -1.1795, 3.3128, 3.3123, 3.312, 3.3116, 3.3115, 3.3111, 3.3102, 3.2873, -0.4139, -0.4142, -0.4142, -0.4142, -0.4142, -0.4142, -0.4142, -0.4142, -0.4142, -0.4189, -0.4189, -0.4191, -0.4191, -0.4192, -0.4192, -0.4193, -0.4193, -0.4193, -0.4193, -0.4193, -0.4193, -0.4193, -0.4193, -0.4193, -0.4194, 3.354, 3.3536, 3.3532, 3.3527, 3.3527, 3.3496, 3.3488, 3.3464, -0.4192, -0.4193, -0.4201, -0.4204, -0.4204, -0.4204, -0.4205, -0.4206, -0.4206, -0.4207, -0.4207, -0.4207, -0.4207, -0.4207, -0.4208, -0.4208, -0.4208, -0.4209, -0.421, -0.421, -0.421, -0.421, -0.421, -0.4211, 3.4398, 3.4398, 3.4391, 3.4379, 3.4348, 3.4344, 3.4337, 3.4194, 3.3837, -0.0941, -0.0944, -0.0944, -0.0946, -0.0946, -0.0947, -0.0948, -0.0948, -0.0949, -0.0949, -0.0949, -0.095, -0.095, -0.0951, -0.0951, -0.0951, -0.0951, -0.0951, -0.0951, -0.0952, -0.0952, -0.0952, -0.0952, -0.0953, 3.5759, 3.5207, 0.3936, 0.3935, 0.3928, 0.3927, 0.3922, 0.3921, 0.3919, 0.3917, 0.3917, 0.3917, 0.3917, 0.3916, 0.3916, 0.3916, 0.3916, 0.3916, 0.3915, 0.3915, 0.3915, 0.3915, 0.3915, 0.3915, 0.3914, 0.3914, 0.3914, 0.3914, 0.3914, 0.3914, 0.3914, 2.3081, 2.3081, 2.3081, 2.3081, 2.3081, 2.3081, 2.3081, 2.3081, 2.3081, 2.3081, 2.3081, 2.3081, 2.3081, 2.3081, 2.3081, 2.3081, 2.3081, 2.3081, 2.3081, 2.3081, 2.3081, 2.3081, 2.3081, 2.3081, 2.3081, 2.3081, 2.3081, 2.3081, 2.3081, 2.3081, 2.3081, 2.3081, 2.3081, -5.6773, 2.3081, -6.414, -2.7772, -3.025, -2.7671, -3.9199, -3.4269, -4.7131, 2.3081, 2.3081, -6.4706, -3.7938, 2.3081, -5.7637, -3.4818, 2.3081, 2.3081, -5.1134, 2.3081, -6.1407, -3.8455, 2.3081, -5.1938, -3.3011, -1.3583, 2.3081, 2.3081, 2.3081, 2.3081, 2.3081, 2.3081, 2.3081, 2.3081, 2.3081, 2.3081, 2.3081, 2.3081, 2.3081, 2.3081, 2.3081, 2.3081, 2.3081, 2.3081, 2.3081, 2.3081, 2.3081, 2.3081, 2.3081, 2.3081, 2.3081, 2.3081, 2.3081, 2.3081, 2.3081, 2.3081, 2.3081, 2.3081, 2.3081, -5.6773, 2.3081, -6.414, -2.7772, -3.025, -2.7671, -3.9199, -3.4269, -4.7131, 2.3081, 2.3081, -6.4706, -3.7938, 2.3081, -5.7637, -3.4818, 2.3081, 2.3081, -5.1134, 2.3081, -6.1407, -3.8455, 2.3081, -5.1938, -3.3011, -1.3583, 2.3081, 2.3081, 2.3081, 2.3081, 2.3081, 2.3081, 2.3081, 2.3081, 2.3081, 2.3081, 2.3081, 2.3081, 2.3081, 2.3081, 2.3081, 2.3081, 2.3081, 2.3081, 2.3081, 2.3081, 2.3081, 2.3081, 2.3081, 2.3081, 2.3081, 2.3081, 2.3081, 2.3081, 2.3081, 2.3081, 2.3081, 2.3081, 2.3081, -5.6773, 2.3081, -6.414, -2.7772, -3.025, -2.7671, -3.9199, -3.4269, -4.7131, 2.3081, 2.3081, -6.4706, -3.7938, 2.3081, -5.7637, -3.4818, 2.3081, 2.3081, -5.1134, 2.3081, -6.1407, -3.8455, 2.3081, -5.1938, -3.3011, -1.3583]}, \"token.table\": {\"Topic\": [14, 18, 19, 20, 18, 19, 20, 18, 19, 20, 18, 19, 20, 18, 19, 20, 18, 19, 20, 18, 19, 20, 1, 18, 19, 20, 18, 19, 20, 18, 19, 20, 18, 19, 20, 18, 19, 20, 9, 18, 19, 20, 18, 19, 20, 7, 18, 19, 20, 1, 18, 19, 20, 18, 19, 20, 18, 19, 20, 18, 19, 20, 18, 19, 20, 18, 19, 20, 18, 19, 20, 18, 19, 20, 18, 19, 20, 18, 19, 20, 18, 19, 20, 12, 18, 19, 20, 18, 19, 20, 18, 19, 20, 18, 19, 20, 12, 18, 19, 20, 18, 19, 20, 12, 18, 19, 20, 10, 18, 19, 20, 18, 19, 20, 18, 19, 20, 18, 19, 20, 18, 19, 20, 4, 18, 19, 20, 18, 19, 20, 18, 19, 20, 18, 19, 20, 18, 19, 20, 2, 18, 19, 20, 5, 18, 19, 20, 2, 18, 19, 20, 7, 18, 19, 20, 5, 18, 19, 20, 18, 19, 20, 8, 18, 19, 20, 18, 19, 20, 3, 18, 19, 20, 18, 19, 20, 12, 18, 19, 20, 18, 19, 20, 10, 18, 19, 20, 18, 19, 20, 18, 19, 20, 18, 19, 20, 18, 19, 20, 9, 18, 19, 20, 18, 19, 20, 15, 18, 19, 20, 18, 19, 20, 18, 19, 20, 18, 19, 20, 18, 19, 20, 9, 18, 19, 20, 18, 19, 20, 7, 18, 19, 20, 3, 18, 19, 20, 9, 18, 19, 20, 18, 19, 20, 18, 19, 20, 18, 19, 20, 18, 19, 20, 14, 18, 19, 20, 9, 18, 19, 20, 4, 18, 19, 20, 18, 19, 20, 18, 19, 20, 18, 19, 20, 18, 19, 20, 18, 19, 20, 18, 19, 20, 10, 18, 19, 20, 18, 19, 20, 18, 19, 20, 5, 18, 19, 20, 11, 18, 19, 20, 18, 19, 20, 16, 18, 19, 20, 18, 19, 20, 9, 18, 19, 20, 18, 19, 20, 18, 19, 20, 18, 19, 20, 18, 19, 20, 1, 18, 19, 20, 7, 18, 19, 20, 4, 18, 19, 20, 18, 19, 20, 18, 19, 20, 18, 19, 20, 18, 19, 20, 11, 18, 19, 20, 18, 19, 20, 18, 19, 20, 18, 19, 20, 18, 19, 20, 1, 18, 19, 20, 3, 18, 19, 20, 18, 19, 20, 18, 19, 20, 18, 19, 20, 18, 19, 20, 18, 19, 20, 9, 18, 19, 20, 18, 19, 20, 18, 19, 20, 18, 19, 20, 15, 18, 19, 20, 16, 18, 19, 20, 16, 18, 19, 20, 18, 19, 20, 4, 18, 19, 20, 15, 18, 19, 20, 18, 19, 20, 18, 19, 20, 18, 19, 20, 7, 18, 19, 20, 18, 19, 20, 18, 19, 20, 18, 19, 20, 18, 19, 20, 1, 18, 19, 20, 18, 19, 20, 18, 19, 20, 2, 18, 19, 20, 11, 18, 19, 20, 8, 18, 19, 20, 18, 19, 20, 18, 19, 20, 18, 19, 20, 14, 18, 19, 20, 8, 18, 19, 20, 16, 18, 19, 20, 18, 19, 20, 14, 18, 19, 20, 18, 19, 20, 18, 19, 20, 18, 19, 20, 9, 18, 19, 20, 2, 18, 19, 20, 18, 19, 20, 18, 19, 20, 18, 19, 20, 18, 19, 20, 18, 19, 20, 18, 19, 20, 5, 18, 19, 20, 18, 19, 20, 1, 18, 19, 20, 18, 19, 20, 2, 18, 19, 20, 18, 19, 20, 18, 19, 20, 18, 19, 20, 18, 19, 20, 3, 18, 19, 20, 10, 18, 19, 20, 18, 19, 20, 18, 19, 20, 15, 18, 19, 20, 16, 18, 19, 20, 18, 19, 20, 18, 19, 20, 18, 19, 20, 18, 19, 20, 18, 19, 20, 5, 18, 19, 20, 18, 19, 20, 18, 19, 20, 15, 18, 19, 20, 18, 19, 20, 18, 19, 20, 9, 18, 19, 20, 18, 19, 20, 18, 19, 20, 18, 19, 20, 10, 18, 19, 20, 18, 19, 20, 3, 18, 19, 20, 7, 18, 19, 20, 10, 18, 19, 20, 18, 19, 20, 11, 18, 19, 20, 18, 19, 20, 16, 18, 19, 20, 5, 18, 19, 20, 18, 19, 20, 18, 19, 20, 18, 19, 20, 18, 19, 20, 18, 19, 20, 17, 18, 19, 20, 18, 19, 20, 8, 18, 19, 20, 18, 19, 20, 18, 19, 20, 18, 19, 20, 7, 18, 19, 20, 18, 19, 20, 18, 19, 20, 14, 18, 19, 20, 18, 19, 20, 18, 19, 20, 18, 19, 20, 18, 19, 20, 18, 19, 20, 5, 18, 19, 20, 2, 18, 19, 20, 18, 19, 20, 18, 19, 20, 18, 19, 20, 2, 18, 19, 20, 3, 18, 19, 20, 18, 19, 20, 18, 19, 20, 18, 19, 20, 18, 19, 20, 7, 18, 19, 20, 18, 19, 20, 18, 19, 20, 2, 18, 19, 20, 4, 18, 19, 20, 9, 18, 19, 20, 18, 19, 20, 15, 18, 19, 20, 18, 19, 20, 1, 18, 19, 20, 14, 18, 19, 20, 5, 18, 19, 20, 18, 19, 20, 18, 19, 20, 5, 18, 19, 20, 18, 19, 20, 18, 19, 20, 16, 18, 19, 20, 18, 19, 20, 18, 19, 20, 4, 18, 19, 20, 3, 18, 19, 20, 5, 18, 19, 20, 16, 18, 19, 20, 3, 18, 19, 20, 18, 19, 20, 18, 19, 20, 18, 19, 20, 18, 19, 20, 13, 18, 19, 20, 18, 19, 20, 18, 19, 20, 14, 18, 19, 20, 18, 19, 20, 18, 19, 20, 4, 18, 19, 20, 18, 19, 20, 17, 18, 19, 20, 18, 19, 20, 16, 18, 19, 20, 3, 18, 19, 20, 18, 19, 20, 8, 18, 19, 20, 18, 19, 20, 18, 19, 20, 15, 18, 19, 20, 9, 18, 19, 20, 10, 18, 19, 20, 5, 18, 19, 20, 9, 18, 19, 20, 18, 19, 20, 18, 19, 20, 18, 19, 20, 18, 19, 20, 18, 19, 20, 18, 19, 20, 18, 19, 20, 3, 18, 19, 20, 2, 18, 19, 20, 18, 19, 20, 3, 18, 19, 20, 18, 19, 20, 18, 19, 20, 18, 19, 20, 7, 18, 19, 20, 18, 19, 20, 7, 18, 19, 20, 3, 18, 19, 20, 18, 19, 20, 18, 19, 20, 18, 19, 20, 18, 19, 20, 18, 19, 20, 18, 19, 20, 8, 18, 19, 20, 18, 19, 20, 18, 19, 20, 9, 18, 19, 20, 18, 19, 20, 18, 19, 20, 2, 18, 19, 20, 9, 18, 19, 20, 18, 19, 20, 2, 18, 19, 20, 18, 19, 20, 18, 19, 20, 18, 19, 20, 18, 19, 20, 12, 18, 19, 20, 18, 19, 20, 18, 19, 20, 18, 19, 20, 18, 19, 20, 18, 19, 20, 18, 19, 20, 18, 19, 20, 18, 19, 20, 18, 19, 20, 18, 19, 20, 18, 19, 20, 18, 19, 20, 18, 19, 20, 18, 19, 20, 18, 19, 20, 7, 18, 19, 20, 18, 19, 20, 18, 19, 20, 18, 19, 20, 18, 19, 20, 18, 19, 20, 5, 18, 19, 20, 5, 18, 19, 20, 18, 19, 20, 18, 19, 20, 3, 18, 19, 20, 18, 19, 20, 18, 19, 20, 15, 18, 19, 20, 14, 18, 19, 20, 18, 19, 20, 18, 19, 20, 18, 19, 20, 18, 19, 20, 18, 19, 20, 18, 19, 20, 2, 18, 19, 20, 13, 18, 19, 20, 5, 18, 19, 20, 13, 18, 19, 20, 5, 18, 19, 20, 18, 19, 20, 18, 19, 20, 7, 18, 19, 20, 2, 18, 19, 20, 18, 19, 20, 10, 18, 19, 20, 18, 19, 20, 18, 19, 20, 18, 19, 20, 11, 18, 19, 20, 18, 19, 20, 18, 19, 20, 4, 18, 19, 20, 18, 19, 20, 6, 18, 19, 20], \"Freq\": [0.9986763676443566, 0.00025932910092037306, 0.00025932910092037306, 0.00025932910092037306, 0.18724430607645762, 0.18724430607645762, 0.18724430607645762, 0.18724430607645762, 0.18724430607645762, 0.18724430607645762, 0.18724430607645762, 0.18724430607645762, 0.18724430607645762, 0.18724430607645762, 0.18724430607645762, 0.18724430607645762, 0.18724430607645762, 0.18724430607645762, 0.18724430607645762, 0.18724430607645762, 0.18724430607645762, 0.18724430607645762, 0.9998445649530047, 2.88318285091052e-05, 2.88318285091052e-05, 2.88318285091052e-05, 0.18724430607645762, 0.18724430607645762, 0.18724430607645762, 0.1872415044458688, 0.1872415044458688, 0.1872415044458688, 0.1872437434626327, 0.1872437434626327, 0.1872437434626327, 0.18724430607645762, 0.18724430607645762, 0.18724430607645762, 0.9956594379320004, 0.0008609247193532212, 0.0008609247193532212, 0.0008609247193532212, 0.18724244527826947, 0.18724244527826947, 0.18724244527826947, 0.9994678354807135, 0.00010336827339752957, 0.00010336827339752957, 0.00010336827339752957, 0.9986002699760164, 0.00026275497170793745, 0.00026275497170793745, 0.00026275497170793745, 0.18722459973968114, 0.18722459973968114, 0.18722459973968114, 0.187198735267043, 0.187198735267043, 0.187198735267043, 0.18723214343557462, 0.18723214343557462, 0.18723214343557462, 0.18722990911262088, 0.18722990911262088, 0.18722990911262088, 0.18717865711266296, 0.18717865711266296, 0.18717865711266296, 0.1872244577459922, 0.1872244577459922, 0.1872244577459922, 0.18724196284840058, 0.18724196284840058, 0.18724196284840058, 0.1872338224741193, 0.1872338224741193, 0.1872338224741193, 0.18723345598299534, 0.18723345598299534, 0.18723345598299534, 0.1872358576742035, 0.1872358576742035, 0.1872358576742035, 0.9975070312698081, 0.0004806104703781297, 0.0004806104703781297, 0.0004806104703781297, 0.1872270429178414, 0.1872270429178414, 0.1872270429178414, 0.1872379153098887, 0.1872379153098887, 0.1872379153098887, 0.18723706164274945, 0.18723706164274945, 0.18723706164274945, 0.9997837667039209, 4.3328512717671924e-05, 4.3328512717671924e-05, 4.3328512717671924e-05, 0.18722370554454862, 0.18722370554454862, 0.18722370554454862, 0.9928862059289473, 0.0013055702905048617, 0.0013055702905048617, 0.0013055702905048617, 0.9977809355056861, 0.000419147630962271, 0.000419147630962271, 0.000419147630962271, 0.1872216420245132, 0.1872216420245132, 0.1872216420245132, 0.18721785804945712, 0.18721785804945712, 0.18721785804945712, 0.18721507391886646, 0.18721507391886646, 0.18721507391886646, 0.1871640292050074, 0.1871640292050074, 0.1871640292050074, 0.9989802769698253, 0.0001863247742180034, 0.0001863247742180034, 0.0001863247742180034, 0.18722565654469586, 0.18722565654469586, 0.18722565654469586, 0.18723518485952495, 0.18723518485952495, 0.18723518485952495, 0.1872249130807881, 0.1872249130807881, 0.1872249130807881, 0.1872302038815956, 0.1872302038815956, 0.1872302038815956, 0.9574290764497762, 0.00788007470329034, 0.00788007470329034, 0.00788007470329034, 0.9913849380605457, 0.0016578343445828524, 0.0016578343445828524, 0.0016578343445828524, 0.9998431314468813, 3.0510463113070636e-05, 3.0510463113070636e-05, 3.0510463113070636e-05, 0.9983714064013837, 0.00031922347127142563, 0.00031922347127142563, 0.00031922347127142563, 0.9981793058050338, 0.00033123587383608225, 0.00033123587383608225, 0.00033123587383608225, 0.18724430607645762, 0.18724430607645762, 0.18724430607645762, 0.9826957963225617, 0.0034420167997287624, 0.0034420167997287624, 0.0034420167997287624, 0.1872216463187004, 0.1872216463187004, 0.1872216463187004, 0.9899243160607033, 0.0019660860299120226, 0.0019660860299120226, 0.0019660860299120226, 0.1872312171981059, 0.1872312171981059, 0.1872312171981059, 0.9776125653670806, 0.004250489414639481, 0.004250489414639481, 0.004250489414639481, 0.18720084078171328, 0.18720084078171328, 0.18720084078171328, 0.9994155576831225, 0.00011189783996899989, 0.00011189783996899989, 0.00011189783996899989, 0.18721668190339222, 0.18721668190339222, 0.18721668190339222, 0.18724298589850902, 0.18724298589850902, 0.18724298589850902, 0.18721976657499226, 0.18721976657499226, 0.18721976657499226, 0.1872306631002035, 0.1872306631002035, 0.1872306631002035, 0.9952876495248153, 0.0009416155624643475, 0.0009416155624643475, 0.0009416155624643475, 0.18722834768307983, 0.18722834768307983, 0.18722834768307983, 0.9984476172857308, 0.00031211241553164454, 0.00031211241553164454, 0.00031211241553164454, 0.18722895727750682, 0.18722895727750682, 0.18722895727750682, 0.1872345586525778, 0.1872345586525778, 0.1872345586525778, 0.1872362445074618, 0.1872362445074618, 0.1872362445074618, 0.18718442284457112, 0.18718442284457112, 0.18718442284457112, 0.9987599689170601, 0.00023873789145860167, 0.00023873789145860167, 0.00023873789145860167, 0.18721786018887096, 0.18721786018887096, 0.18721786018887096, 0.9996612947314867, 6.483518466332566e-05, 6.483518466332566e-05, 6.483518466332566e-05, 0.9921238023726687, 0.0015100818909781868, 0.0015100818909781868, 0.0015100818909781868, 0.9965082912699077, 0.0006616920924766984, 0.0006616920924766984, 0.0006616920924766984, 0.18722825269900287, 0.18722825269900287, 0.18722825269900287, 0.18719222690478907, 0.18719222690478907, 0.18719222690478907, 0.18722092865775838, 0.18722092865775838, 0.18722092865775838, 0.18724430607645762, 0.18724430607645762, 0.18724430607645762, 0.999207078344167, 0.00015184364080908245, 0.00015184364080908245, 0.00015184364080908245, 0.999200669865864, 0.00014621022386096926, 0.00014621022386096926, 0.00014621022386096926, 0.9996809224856429, 5.846258209220404e-05, 5.846258209220404e-05, 5.846258209220404e-05, 0.18721762307508058, 0.18721762307508058, 0.18721762307508058, 0.18720833525812983, 0.18720833525812983, 0.18720833525812983, 0.18720152299988435, 0.18720152299988435, 0.18720152299988435, 0.18723523646232246, 0.18723523646232246, 0.18723523646232246, 0.1871665505792213, 0.1871665505792213, 0.1871665505792213, 0.18721788639171072, 0.18721788639171072, 0.18721788639171072, 0.9969804198501688, 0.0005726481446583394, 0.0005726481446583394, 0.0005726481446583394, 0.1872405286759296, 0.1872405286759296, 0.1872405286759296, 0.18722086935200585, 0.18722086935200585, 0.18722086935200585, 0.9982127055344902, 0.0003469027647383111, 0.0003469027647383111, 0.0003469027647383111, 0.9995252272050823, 9.046295838583421e-05, 9.046295838583421e-05, 9.046295838583421e-05, 0.18724430607645762, 0.18724430607645762, 0.18724430607645762, 0.9780558163875285, 0.004075232568281369, 0.004075232568281369, 0.004075232568281369, 0.1872362495147643, 0.1872362495147643, 0.1872362495147643, 0.9935736007362617, 0.0011800161528934224, 0.0011800161528934224, 0.0011800161528934224, 0.1872332000280768, 0.1872332000280768, 0.1872332000280768, 0.18723780872802204, 0.18723780872802204, 0.18723780872802204, 0.18723587856565202, 0.18723587856565202, 0.18723587856565202, 0.187232857119429, 0.187232857119429, 0.187232857119429, 0.9995060193521859, 9.678570924297335e-05, 9.678570924297335e-05, 9.678570924297335e-05, 0.9964710872457142, 0.0006860386142827636, 0.0006860386142827636, 0.0006860386142827636, 0.9905124981628578, 0.0017593472436285217, 0.0017593472436285217, 0.0017593472436285217, 0.18722944144972678, 0.18722944144972678, 0.18722944144972678, 0.18723462092869902, 0.18723462092869902, 0.18723462092869902, 0.18723595838947768, 0.18723595838947768, 0.18723595838947768, 0.1872440998347374, 0.1872440998347374, 0.1872440998347374, 0.999245889687803, 0.00014296385860044396, 0.00014296385860044396, 0.00014296385860044396, 0.18723276672387246, 0.18723276672387246, 0.18723276672387246, 0.18722712421805562, 0.18722712421805562, 0.18722712421805562, 0.18723456130526453, 0.18723456130526453, 0.18723456130526453, 0.18724430357651264, 0.18724430357651264, 0.18724430357651264, 0.9961988106947247, 0.0006961557027915617, 0.0006961557027915617, 0.0006961557027915617, 0.9987012291127788, 0.0002444801050459679, 0.0002444801050459679, 0.0002444801050459679, 0.1872222045771911, 0.1872222045771911, 0.1872222045771911, 0.18724430607645762, 0.18724430607645762, 0.18724430607645762, 0.1872370805595958, 0.1872370805595958, 0.1872370805595958, 0.1872365746151717, 0.1872365746151717, 0.1872365746151717, 0.1872333723471794, 0.1872333723471794, 0.1872333723471794, 0.9669860553626094, 0.0064251565140372715, 0.0064251565140372715, 0.0064251565140372715, 0.18723354489410884, 0.18723354489410884, 0.18723354489410884, 0.187226311325583, 0.187226311325583, 0.187226311325583, 0.18724430607645762, 0.18724430607645762, 0.18724430607645762, 0.997865941205467, 0.0004028526205916298, 0.0004028526205916298, 0.0004028526205916298, 0.9939888724200512, 0.0012129211377913986, 0.0012129211377913986, 0.0012129211377913986, 0.9460947781685147, 0.010690336476480392, 0.010690336476480392, 0.010690336476480392, 0.18723619396049743, 0.18723619396049743, 0.18723619396049743, 0.9990958335777581, 0.00017731756741108497, 0.00017731756741108497, 0.00017731756741108497, 0.994826932996242, 0.0010013356144904298, 0.0010013356144904298, 0.0010013356144904298, 0.18723378815854216, 0.18723378815854216, 0.18723378815854216, 0.18722969827053287, 0.18722969827053287, 0.18722969827053287, 0.18722229273431054, 0.18722229273431054, 0.18722229273431054, 0.9742701068066747, 0.004787568092416092, 0.004787568092416092, 0.004787568092416092, 0.18722658614224275, 0.18722658614224275, 0.18722658614224275, 0.18723748970815834, 0.18723748970815834, 0.18723748970815834, 0.1872299790793959, 0.1872299790793959, 0.1872299790793959, 0.18720464264902983, 0.18720464264902983, 0.18720464264902983, 0.9993085588434292, 0.00013163519183869186, 0.00013163519183869186, 0.00013163519183869186, 0.18720653607979573, 0.18720653607979573, 0.18720653607979573, 0.18724430607645762, 0.18724430607645762, 0.18724430607645762, 0.9939966563393948, 0.0011585042614678262, 0.0011585042614678262, 0.0011585042614678262, 0.9987723285659783, 0.0002228656317228558, 0.0002228656317228558, 0.0002228656317228558, 0.996842356752346, 0.0005893244793096932, 0.0005893244793096932, 0.0005893244793096932, 0.18723098174974384, 0.18723098174974384, 0.18723098174974384, 0.18724430607645762, 0.18724430607645762, 0.18724430607645762, 0.18722989202504886, 0.18722989202504886, 0.18722989202504886, 0.9966100778165374, 0.0006589157539282892, 0.0006589157539282892, 0.0006589157539282892, 0.9996873685543903, 5.948395623910451e-05, 5.948395623910451e-05, 5.948395623910451e-05, 0.9939478346725965, 0.0011365898624043412, 0.0011365898624043412, 0.0011365898624043412, 0.1872313103948526, 0.1872313103948526, 0.1872313103948526, 0.9984181871333052, 0.0003120056834791579, 0.0003120056834791579, 0.0003120056834791579, 0.18722859293970925, 0.18722859293970925, 0.18722859293970925, 0.1872174852268406, 0.1872174852268406, 0.1872174852268406, 0.18721569821342252, 0.18721569821342252, 0.18721569821342252, 0.9984829471893766, 0.00027785806238747086, 0.00027785806238747086, 0.00027785806238747086, 0.9863123403966723, 0.002658523828562459, 0.002658523828562459, 0.002658523828562459, 0.1872258883781188, 0.1872258883781188, 0.1872258883781188, 0.18724430607645762, 0.18724430607645762, 0.18724430607645762, 0.1872167398769938, 0.1872167398769938, 0.1872167398769938, 0.18722295535411976, 0.18722295535411976, 0.18722295535411976, 0.1872365758228499, 0.1872365758228499, 0.1872365758228499, 0.1872344029717693, 0.1872344029717693, 0.1872344029717693, 0.9984404670493283, 0.00029487314443276086, 0.00029487314443276086, 0.00029487314443276086, 0.18724430607645762, 0.18724430607645762, 0.18724430607645762, 0.9985890712836705, 0.0002584674702429586, 0.0002584674702429586, 0.0002584674702429586, 0.18721786018887096, 0.18721786018887096, 0.18721786018887096, 0.9951031202231103, 0.0009042281873903774, 0.0009042281873903774, 0.0009042281873903774, 0.18722643632658367, 0.18722643632658367, 0.18722643632658367, 0.1872346164508797, 0.1872346164508797, 0.1872346164508797, 0.18723818389377844, 0.18723818389377844, 0.18723818389377844, 0.18721991921214576, 0.18721991921214576, 0.18721991921214576, 0.9988510459289156, 0.00021083927090847823, 0.00021083927090847823, 0.00021083927090847823, 0.9990941950326236, 0.00018231645894755907, 0.00018231645894755907, 0.00018231645894755907, 0.18722977856444023, 0.18722977856444023, 0.18722977856444023, 0.18723416882922178, 0.18723416882922178, 0.18723416882922178, 0.9991729176443463, 0.00015310648446894672, 0.00015310648446894672, 0.00015310648446894672, 0.9991071389577223, 0.00017569808123761932, 0.00017569808123761932, 0.00017569808123761932, 0.18722275676203215, 0.18722275676203215, 0.18722275676203215, 0.18723349080004165, 0.18723349080004165, 0.18723349080004165, 0.18722827655844568, 0.18722827655844568, 0.18722827655844568, 0.18722275155103527, 0.18722275155103527, 0.18722275155103527, 0.18723913657309962, 0.18723913657309962, 0.18723913657309962, 0.9932259175412231, 0.0012684877618661854, 0.0012684877618661854, 0.0012684877618661854, 0.1872422711411197, 0.1872422711411197, 0.1872422711411197, 0.18724430607645762, 0.18724430607645762, 0.18724430607645762, 0.9920248741399408, 0.0016026249986105666, 0.0016026249986105666, 0.0016026249986105666, 0.18724430607645762, 0.18724430607645762, 0.18724430607645762, 0.1872342959611001, 0.1872342959611001, 0.1872342959611001, 0.9869124464832086, 0.002445879669103367, 0.002445879669103367, 0.002445879669103367, 0.18724430607645762, 0.18724430607645762, 0.18724430607645762, 0.1872362480481282, 0.1872362480481282, 0.1872362480481282, 0.1872331462937773, 0.1872331462937773, 0.1872331462937773, 0.9939098886127844, 0.0011249687477224498, 0.0011249687477224498, 0.0011249687477224498, 0.18723296040619206, 0.18723296040619206, 0.18723296040619206, 0.9996228360493405, 7.437393222345453e-05, 7.437393222345453e-05, 7.437393222345453e-05, 0.9932363153642952, 0.0012741966842389932, 0.0012741966842389932, 0.0012741966842389932, 0.9985217235187155, 0.00027725162391190213, 0.00027725162391190213, 0.00027725162391190213, 0.18721893851161453, 0.18721893851161453, 0.18721893851161453, 0.998340810039929, 0.0003075129555028273, 0.0003075129555028273, 0.0003075129555028273, 0.18722909365321164, 0.18722909365321164, 0.18722909365321164, 0.999152878600376, 0.00017037307163447456, 0.00017037307163447456, 0.00017037307163447456, 0.9991293106399677, 0.00016059299375391267, 0.00016059299375391267, 0.00016059299375391267, 0.187228419605458, 0.187228419605458, 0.187228419605458, 0.1872213098184623, 0.1872213098184623, 0.1872213098184623, 0.1872087762425668, 0.1872087762425668, 0.1872087762425668, 0.18721547504944613, 0.18721547504944613, 0.18721547504944613, 0.1872400358402786, 0.1872400358402786, 0.1872400358402786, 0.944508606206236, 0.010553168784427218, 0.010553168784427218, 0.010553168784427218, 0.18724344254769668, 0.18724344254769668, 0.18724344254769668, 0.9896976977205407, 0.0019578589470238194, 0.0019578589470238194, 0.0019578589470238194, 0.1872443003185251, 0.1872443003185251, 0.1872443003185251, 0.1872268222427214, 0.1872268222427214, 0.1872268222427214, 0.18723245542125855, 0.18723245542125855, 0.18723245542125855, 0.9902710901406078, 0.001866675004977583, 0.001866675004977583, 0.001866675004977583, 0.18723259677705917, 0.18723259677705917, 0.18723259677705917, 0.18723170767504857, 0.18723170767504857, 0.18723170767504857, 0.9735109501541419, 0.004979595652962363, 0.004979595652962363, 0.004979595652962363, 0.1871920522123793, 0.1871920522123793, 0.1871920522123793, 0.18722417686339096, 0.18722417686339096, 0.18722417686339096, 0.18724430607645762, 0.18724430607645762, 0.18724430607645762, 0.18721993190847652, 0.18721993190847652, 0.18721993190847652, 0.18724430607645762, 0.18724430607645762, 0.18724430607645762, 0.9938284349171469, 0.00120756796466239, 0.00120756796466239, 0.00120756796466239, 0.9968304881297846, 0.0006132454556319806, 0.0006132454556319806, 0.0006132454556319806, 0.18722482076313712, 0.18722482076313712, 0.18722482076313712, 0.1872252275714287, 0.1872252275714287, 0.1872252275714287, 0.18721314799778796, 0.18721314799778796, 0.18721314799778796, 0.9979758246759745, 0.0003739137597137409, 0.0003739137597137409, 0.0003739137597137409, 0.9961562015687979, 0.0007656850127354327, 0.0007656850127354327, 0.0007656850127354327, 0.1872285625771926, 0.1872285625771926, 0.1872285625771926, 0.18723984298209342, 0.18723984298209342, 0.18723984298209342, 0.18724390787718465, 0.18724390787718465, 0.18724390787718465, 0.18720567655552156, 0.18720567655552156, 0.18720567655552156, 0.9984469987868051, 0.000297068431653319, 0.000297068431653319, 0.000297068431653319, 0.18724430607645762, 0.18724430607645762, 0.18724430607645762, 0.18722833202532269, 0.18722833202532269, 0.18722833202532269, 0.9935672309300736, 0.0011702794239459053, 0.0011702794239459053, 0.0011702794239459053, 0.9994014586684661, 0.00010928392112285031, 0.00010928392112285031, 0.00010928392112285031, 0.9960743065977483, 0.000752037981576254, 0.000752037981576254, 0.000752037981576254, 0.1872259605399007, 0.1872259605399007, 0.1872259605399007, 0.9938800971668275, 0.00115032418653568, 0.00115032418653568, 0.00115032418653568, 0.1872430394095601, 0.1872430394095601, 0.1872430394095601, 0.990925597949622, 0.0016598418726124322, 0.0016598418726124322, 0.0016598418726124322, 0.9979712530350487, 0.0003969654944451268, 0.0003969654944451268, 0.0003969654944451268, 0.9982908324839241, 0.00034024909082615003, 0.00034024909082615003, 0.00034024909082615003, 0.18722327361429764, 0.18722327361429764, 0.18722327361429764, 0.187229196954125, 0.187229196954125, 0.187229196954125, 0.9994307788559238, 0.00010767407658434862, 0.00010767407658434862, 0.00010767407658434862, 0.18723346749037567, 0.18723346749037567, 0.18723346749037567, 0.18723262234151963, 0.18723262234151963, 0.18723262234151963, 0.9983436953554402, 0.00031794385202402555, 0.00031794385202402555, 0.00031794385202402555, 0.18723585453159428, 0.18723585453159428, 0.18723585453159428, 0.1872319027968533, 0.1872319027968533, 0.1872319027968533, 0.9984482418036954, 0.0002926713298559857, 0.0002926713298559857, 0.0002926713298559857, 0.9978448988666295, 0.0004043131680983102, 0.0004043131680983102, 0.0004043131680983102, 0.9980358759440874, 0.00036950606291895127, 0.00036950606291895127, 0.00036950606291895127, 0.9932255267919132, 0.0013559392857227484, 0.0013559392857227484, 0.0013559392857227484, 0.9892877015000773, 0.002014842569246593, 0.002014842569246593, 0.002014842569246593, 0.18722981381177978, 0.18722981381177978, 0.18722981381177978, 0.1872177418769205, 0.1872177418769205, 0.1872177418769205, 0.1872245152986993, 0.1872245152986993, 0.1872245152986993, 0.18722959645514634, 0.18722959645514634, 0.18722959645514634, 0.9896472429958317, 0.0020300456266581163, 0.0020300456266581163, 0.0020300456266581163, 0.18724430607645762, 0.18724430607645762, 0.18724430607645762, 0.1872300912130665, 0.1872300912130665, 0.1872300912130665, 0.9974611342966524, 0.0004780547013163922, 0.0004780547013163922, 0.0004780547013163922, 0.18723613400861094, 0.18723613400861094, 0.18723613400861094, 0.18722345858369957, 0.18722345858369957, 0.18722345858369957, 0.9950446113424232, 0.0009041750216650824, 0.0009041750216650824, 0.0009041750216650824, 0.18723560936726658, 0.18723560936726658, 0.18723560936726658, 0.999667150881967, 6.37380228820433e-05, 6.37380228820433e-05, 6.37380228820433e-05, 0.18724430607645762, 0.18724430607645762, 0.18724430607645762, 0.997214086434802, 0.0005489755499228197, 0.0005489755499228197, 0.0005489755499228197, 0.9993010407875783, 0.00012721036735886682, 0.00012721036735886682, 0.00012721036735886682, 0.1872101298808635, 0.1872101298808635, 0.1872101298808635, 0.9996304687202898, 6.943324780998054e-05, 6.943324780998054e-05, 6.943324780998054e-05, 0.1872292539923439, 0.1872292539923439, 0.1872292539923439, 0.18723513367625083, 0.18723513367625083, 0.18723513367625083, 0.9979260428781122, 0.0003971054687139324, 0.0003971054687139324, 0.0003971054687139324, 0.995955160564262, 0.0007382914459334782, 0.0007382914459334782, 0.0007382914459334782, 0.9994383577966882, 0.00011201954245647705, 0.00011201954245647705, 0.00011201954245647705, 0.9973050671981931, 0.0004980299961039665, 0.0004980299961039665, 0.0004980299961039665, 0.9994216007959245, 0.00010636670932268246, 0.00010636670932268246, 0.00010636670932268246, 0.18723285604731196, 0.18723285604731196, 0.18723285604731196, 0.18722217843135122, 0.18722217843135122, 0.18722217843135122, 0.1871977362973689, 0.1871977362973689, 0.1871977362973689, 0.18722495652433982, 0.18722495652433982, 0.18722495652433982, 0.187235467342536, 0.187235467342536, 0.187235467342536, 0.18722583224099817, 0.18722583224099817, 0.18722583224099817, 0.18723625267359995, 0.18723625267359995, 0.18723625267359995, 0.9785830953372232, 0.004263978628920363, 0.004263978628920363, 0.004263978628920363, 0.99588620085504, 0.0007499143078727711, 0.0007499143078727711, 0.0007499143078727711, 0.18724088617488177, 0.18724088617488177, 0.18724088617488177, 0.9992101282411486, 0.000147148240665805, 0.000147148240665805, 0.000147148240665805, 0.18723114936204932, 0.18723114936204932, 0.18723114936204932, 0.18723598759911922, 0.18723598759911922, 0.18723598759911922, 0.18722250053950082, 0.18722250053950082, 0.18722250053950082, 0.9802245948018187, 0.003748468813773685, 0.003748468813773685, 0.003748468813773685, 0.18724430607645762, 0.18724430607645762, 0.18724430607645762, 0.9968792378865087, 0.0005876093356242314, 0.0005876093356242314, 0.0005876093356242314, 0.9976565102343641, 0.00044448942313850037, 0.00044448942313850037, 0.00044448942313850037, 0.18722714160109896, 0.18722714160109896, 0.18722714160109896, 0.18718384105598346, 0.18718384105598346, 0.18718384105598346, 0.18724021489950893, 0.18724021489950893, 0.18724021489950893, 0.1872291975575224, 0.1872291975575224, 0.1872291975575224, 0.18722758483817434, 0.18722758483817434, 0.18722758483817434, 0.18721274429952683, 0.18721274429952683, 0.18721274429952683, 0.9974661790578826, 0.0004894338464464586, 0.0004894338464464586, 0.0004894338464464586, 0.18724430607645762, 0.18724430607645762, 0.18724430607645762, 0.1872320266992876, 0.1872320266992876, 0.1872320266992876, 0.9964280543070445, 0.0007071881151930763, 0.0007071881151930763, 0.0007071881151930763, 0.1872294496706907, 0.1872294496706907, 0.1872294496706907, 0.18722327188998797, 0.18722327188998797, 0.18722327188998797, 0.9813561756845853, 0.0035364186511156227, 0.0035364186511156227, 0.0035364186511156227, 0.9885631214606665, 0.0022290036560556176, 0.0022290036560556176, 0.0022290036560556176, 0.1872409190906657, 0.1872409190906657, 0.1872409190906657, 0.9966729002166889, 0.000604960789205881, 0.000604960789205881, 0.000604960789205881, 0.18722598388912973, 0.18722598388912973, 0.18722598388912973, 0.18721156042136652, 0.18721156042136652, 0.18721156042136652, 0.18723447091313467, 0.18723447091313467, 0.18723447091313467, 0.18722158783741205, 0.18722158783741205, 0.18722158783741205, 0.9968740557077931, 0.0006048993056479327, 0.0006048993056479327, 0.0006048993056479327, 0.18723658001308274, 0.18723658001308274, 0.18723658001308274, 0.18724430607645762, 0.18724430607645762, 0.18724430607645762, 0.18723938490305572, 0.18723938490305572, 0.18723938490305572, 0.18723866976563103, 0.18723866976563103, 0.18723866976563103, 0.1872296328487991, 0.1872296328487991, 0.1872296328487991, 0.18723212621432164, 0.18723212621432164, 0.18723212621432164, 0.18723101691991753, 0.18723101691991753, 0.18723101691991753, 0.1872419553887577, 0.1872419553887577, 0.1872419553887577, 0.18722337766364272, 0.18722337766364272, 0.18722337766364272, 0.1872297255445431, 0.1872297255445431, 0.1872297255445431, 0.18722376260453813, 0.18722376260453813, 0.18722376260453813, 0.18720610467021986, 0.18720610467021986, 0.18720610467021986, 0.1872362960483739, 0.1872362960483739, 0.1872362960483739, 0.18722410528919461, 0.18722410528919461, 0.18722410528919461, 0.18721281763796083, 0.18721281763796083, 0.18721281763796083, 0.9920576808673167, 0.001446148222838654, 0.001446148222838654, 0.001446148222838654, 0.18720072975986105, 0.18720072975986105, 0.18720072975986105, 0.1872393989130433, 0.1872393989130433, 0.1872393989130433, 0.1872277300801612, 0.1872277300801612, 0.1872277300801612, 0.18722429680344696, 0.18722429680344696, 0.18722429680344696, 0.18720297404705943, 0.18720297404705943, 0.18720297404705943, 0.9949488118194125, 0.0009636308104788499, 0.0009636308104788499, 0.0009636308104788499, 0.9900454914269872, 0.0018453783623988578, 0.0018453783623988578, 0.0018453783623988578, 0.18721558587758277, 0.18721558587758277, 0.18721558587758277, 0.1872263507856131, 0.1872263507856131, 0.1872263507856131, 0.9882881349424122, 0.002319925199395334, 0.002319925199395334, 0.002319925199395334, 0.18722594912419027, 0.18722594912419027, 0.18722594912419027, 0.18722973605365234, 0.18722973605365234, 0.18722973605365234, 0.9988256653301585, 0.00022817262486125837, 0.00022817262486125837, 0.00022817262486125837, 0.9979611424243016, 0.0003939061150283409, 0.0003939061150283409, 0.0003939061150283409, 0.18723757784304398, 0.18723757784304398, 0.18723757784304398, 0.18723447604585397, 0.18723447604585397, 0.18723447604585397, 0.18723101615647342, 0.18723101615647342, 0.18723101615647342, 0.187236563889509, 0.187236563889509, 0.187236563889509, 0.18722708819892372, 0.18722708819892372, 0.18722708819892372, 0.18724430607645762, 0.18724430607645762, 0.18724430607645762, 0.9991225526972229, 0.0001671612100882086, 0.0001671612100882086, 0.0001671612100882086, 0.9997971539265768, 4.0099352421552834e-05, 4.0099352421552834e-05, 4.0099352421552834e-05, 0.998919793124622, 0.00021429149267931396, 0.00021429149267931396, 0.00021429149267931396, 0.9979164589508969, 0.0003980520378743107, 0.0003980520378743107, 0.0003980520378743107, 0.9936607232482765, 0.00117384609952543, 0.00117384609952543, 0.00117384609952543, 0.18722909143241875, 0.18722909143241875, 0.18722909143241875, 0.18718949120331718, 0.18718949120331718, 0.18718949120331718, 0.992075219252459, 0.001461082797131751, 0.001461082797131751, 0.001461082797131751, 0.9993940960737996, 0.00011551018216294494, 0.00011551018216294494, 0.00011551018216294494, 0.18723597833137898, 0.18723597833137898, 0.18723597833137898, 0.9844784491431052, 0.0031105164269924334, 0.0031105164269924334, 0.0031105164269924334, 0.18720754543553492, 0.18720754543553492, 0.18720754543553492, 0.18722286373668975, 0.18722286373668975, 0.18722286373668975, 0.18721176283271418, 0.18721176283271418, 0.18721176283271418, 0.9991853964922248, 0.00015733964199546882, 0.00015733964199546882, 0.00015733964199546882, 0.18724430607645762, 0.18724430607645762, 0.18724430607645762, 0.18723248577857993, 0.18723248577857993, 0.18723248577857993, 0.9829967974600815, 0.003217665458134473, 0.003217665458134473, 0.003217665458134473, 0.18721073827929074, 0.18721073827929074, 0.18721073827929074, 0.9998597737142854, 2.589270561599061e-05, 2.589270561599061e-05, 2.589270561599061e-05], \"Term\": [\"amp\", \"amp\", \"amp\", \"amp\", \"angel\", \"angel\", \"angel\", \"ddddd\", \"ddddd\", \"ddddd\", \"dtoropova\", \"dtoropova\", \"dtoropova\", \"ekaetrina\", \"ekaetrina\", \"ekaetrina\", \"fidelevna\", \"fidelevna\", \"fidelevna\", \"gruzdevvladimir\", \"gruzdevvladimir\", \"gruzdevvladimir\", \"http\", \"http\", \"http\", \"http\", \"maksimofficial\", \"maksimofficial\", \"maksimofficial\", \"the\", \"the\", \"the\", \"\\u0430\\u0432\\u0442\\u043e\\u0440\", \"\\u0430\\u0432\\u0442\\u043e\\u0440\", \"\\u0430\\u0432\\u0442\\u043e\\u0440\", \"\\u0430\\u043d\\u0433\\u043b\\u0438\\u0447\\u0430\\u043d\\u043a\\u0430\", \"\\u0430\\u043d\\u0433\\u043b\\u0438\\u0447\\u0430\\u043d\\u043a\\u0430\", \"\\u0430\\u043d\\u0433\\u043b\\u0438\\u0447\\u0430\\u043d\\u043a\\u0430\", \"\\u0430\\u0445\\u0430\\u0445\", \"\\u0430\\u0445\\u0430\\u0445\", \"\\u0430\\u0445\\u0430\\u0445\", \"\\u0430\\u0445\\u0430\\u0445\", \"\\u0431\\u043b\\u0430\", \"\\u0431\\u043b\\u0430\", \"\\u0431\\u043b\\u0430\", \"\\u0431\\u043b\\u0438\\u043d\", \"\\u0431\\u043b\\u0438\\u043d\", \"\\u0431\\u043b\\u0438\\u043d\", \"\\u0431\\u043b\\u0438\\u043d\", \"\\u0431\\u043b\\u044f\", \"\\u0431\\u043b\\u044f\", \"\\u0431\\u043b\\u044f\", \"\\u0431\\u043b\\u044f\", \"\\u0431\\u043b\\u044f\\u0434\\u044c\", \"\\u0431\\u043b\\u044f\\u0434\\u044c\", \"\\u0431\\u043b\\u044f\\u0434\\u044c\", \"\\u0431\\u043e\\u043b\\u0435\\u0442\\u044c\", \"\\u0431\\u043e\\u043b\\u0435\\u0442\\u044c\", \"\\u0431\\u043e\\u043b\\u0435\\u0442\\u044c\", \"\\u0431\\u043e\\u043b\\u044c\\u043d\\u0438\\u0446\\u0430\", \"\\u0431\\u043e\\u043b\\u044c\\u043d\\u0438\\u0446\\u0430\", \"\\u0431\\u043e\\u043b\\u044c\\u043d\\u0438\\u0446\\u0430\", \"\\u0431\\u043e\\u043b\\u044c\\u0448\\u0438\\u0439\", \"\\u0431\\u043e\\u043b\\u044c\\u0448\\u0438\\u0439\", \"\\u0431\\u043e\\u043b\\u044c\\u0448\\u0438\\u0439\", \"\\u0431\\u043e\\u043b\\u044c\\u0448\\u043e\\u0439\", \"\\u0431\\u043e\\u043b\\u044c\\u0448\\u043e\\u0439\", \"\\u0431\\u043e\\u043b\\u044c\\u0448\\u043e\\u0439\", \"\\u0431\\u043e\\u044f\\u0442\\u044c\\u0441\\u044f\", \"\\u0431\\u043e\\u044f\\u0442\\u044c\\u0441\\u044f\", \"\\u0431\\u043e\\u044f\\u0442\\u044c\\u0441\\u044f\", \"\\u0431\\u0440\\u0430\\u0432\\u043e\", \"\\u0431\\u0440\\u0430\\u0432\\u043e\", \"\\u0431\\u0440\\u0430\\u0432\\u043e\", \"\\u0431\\u0440\\u0430\\u0442\\u044c\", \"\\u0431\\u0440\\u0430\\u0442\\u044c\", \"\\u0431\\u0440\\u0430\\u0442\\u044c\", \"\\u0431\\u044b\\u0441\\u0442\\u0440\\u043e\", \"\\u0431\\u044b\\u0441\\u0442\\u0440\\u043e\", \"\\u0431\\u044b\\u0441\\u0442\\u0440\\u043e\", \"\\u0432\\u0430\\u0440\\u0451\\u043d\\u044b\\u0439\", \"\\u0432\\u0430\\u0440\\u0451\\u043d\\u044b\\u0439\", \"\\u0432\\u0430\\u0440\\u0451\\u043d\\u044b\\u0439\", \"\\u0432\\u0430\\u0448\", \"\\u0432\\u0430\\u0448\", \"\\u0432\\u0430\\u0448\", \"\\u0432\\u0430\\u0448\", \"\\u0432\\u0435\\u0440\\u0438\\u0442\\u044c\", \"\\u0432\\u0435\\u0440\\u0438\\u0442\\u044c\", \"\\u0432\\u0435\\u0440\\u0438\\u0442\\u044c\", \"\\u0432\\u0435\\u0440\\u043d\\u0443\\u0442\\u044c\", \"\\u0432\\u0435\\u0440\\u043d\\u0443\\u0442\\u044c\", \"\\u0432\\u0435\\u0440\\u043d\\u0443\\u0442\\u044c\", \"\\u0432\\u0435\\u0441\\u0442\\u0438\", \"\\u0432\\u0435\\u0441\\u0442\\u0438\", \"\\u0432\\u0435\\u0441\\u0442\\u0438\", \"\\u0432\\u0435\\u0441\\u044c\", \"\\u0432\\u0435\\u0441\\u044c\", \"\\u0432\\u0435\\u0441\\u044c\", \"\\u0432\\u0435\\u0441\\u044c\", \"\\u0432\\u0435\\u0447\\u0435\\u0440\", \"\\u0432\\u0435\\u0447\\u0435\\u0440\", \"\\u0432\\u0435\\u0447\\u0435\\u0440\", \"\\u0432\\u0435\\u0447\\u0435\\u0440\\u043e\\u043c\", \"\\u0432\\u0435\\u0447\\u0435\\u0440\\u043e\\u043c\", \"\\u0432\\u0435\\u0447\\u0435\\u0440\\u043e\\u043c\", \"\\u0432\\u0435\\u0447\\u0435\\u0440\\u043e\\u043c\", \"\\u0432\\u0437\\u044f\\u0442\\u044c\", \"\\u0432\\u0437\\u044f\\u0442\\u044c\", \"\\u0432\\u0437\\u044f\\u0442\\u044c\", \"\\u0432\\u0437\\u044f\\u0442\\u044c\", \"\\u0432\\u0438\\u0434\\u0435\\u0442\\u044c\", \"\\u0432\\u0438\\u0434\\u0435\\u0442\\u044c\", \"\\u0432\\u0438\\u0434\\u0435\\u0442\\u044c\", \"\\u0432\\u043d\\u0438\\u0437\\u0443\", \"\\u0432\\u043d\\u0438\\u0437\\u0443\", \"\\u0432\\u043d\\u0438\\u0437\\u0443\", \"\\u0432\\u043e\\u043a\\u0440\\u0443\\u0433\", \"\\u0432\\u043e\\u043a\\u0440\\u0443\\u0433\", \"\\u0432\\u043e\\u043a\\u0440\\u0443\\u0433\", \"\\u0432\\u043e\\u043e\\u0431\\u0449\\u0435\", \"\\u0432\\u043e\\u043e\\u0431\\u0449\\u0435\", \"\\u0432\\u043e\\u043e\\u0431\\u0449\\u0435\", \"\\u0432\\u0440\\u0435\\u043c\\u044f\", \"\\u0432\\u0440\\u0435\\u043c\\u044f\", \"\\u0432\\u0440\\u0435\\u043c\\u044f\", \"\\u0432\\u0440\\u0435\\u043c\\u044f\", \"\\u0432\\u0440\\u043e\\u0434\\u0435\", \"\\u0432\\u0440\\u043e\\u0434\\u0435\", \"\\u0432\\u0440\\u043e\\u0434\\u0435\", \"\\u0432\\u0441\\u043f\\u043e\\u043c\\u043d\\u0438\\u0442\\u044c\", \"\\u0432\\u0441\\u043f\\u043e\\u043c\\u043d\\u0438\\u0442\\u044c\", \"\\u0432\\u0441\\u043f\\u043e\\u043c\\u043d\\u0438\\u0442\\u044c\", \"\\u0432\\u0441\\u0442\\u0430\\u0432\\u0430\\u0442\\u044c\", \"\\u0432\\u0441\\u0442\\u0430\\u0432\\u0430\\u0442\\u044c\", \"\\u0432\\u0441\\u0442\\u0430\\u0432\\u0430\\u0442\\u044c\", \"\\u0432\\u0441\\u0442\\u0430\\u0442\\u044c\", \"\\u0432\\u0441\\u0442\\u0430\\u0442\\u044c\", \"\\u0432\\u0441\\u0442\\u0430\\u0442\\u044c\", \"\\u0432\\u0441\\u0442\\u0440\\u0435\\u0447\\u0430\\u0442\\u044c\", \"\\u0432\\u0441\\u0442\\u0440\\u0435\\u0447\\u0430\\u0442\\u044c\", \"\\u0432\\u0441\\u0442\\u0440\\u0435\\u0447\\u0430\\u0442\\u044c\", \"\\u0432\\u0441\\u0442\\u0440\\u0435\\u0447\\u0430\\u0442\\u044c\", \"\\u0432\\u0441\\u044f\\u043a\\u0438\\u0439\", \"\\u0432\\u0441\\u044f\\u043a\\u0438\\u0439\", \"\\u0432\\u0441\\u044f\\u043a\\u0438\\u0439\", \"\\u0432\\u0441\\u044f\\u043a\\u0438\\u0439\", \"\\u0432\\u0441\\u0451\", \"\\u0432\\u0441\\u0451\", \"\\u0432\\u0441\\u0451\", \"\\u0432\\u0441\\u0451\", \"\\u0432\\u0442\\u043e\\u0440\\u043e\\u0439\", \"\\u0432\\u0442\\u043e\\u0440\\u043e\\u0439\", \"\\u0432\\u0442\\u043e\\u0440\\u043e\\u0439\", \"\\u0432\\u0442\\u043e\\u0440\\u043e\\u0439\", \"\\u0432\\u0447\\u0435\\u0440\\u0430\", \"\\u0432\\u0447\\u0435\\u0440\\u0430\", \"\\u0432\\u0447\\u0435\\u0440\\u0430\", \"\\u0432\\u0447\\u0435\\u0440\\u0430\", \"\\u0432\\u044b\\u0434\\u0430\\u0442\\u044c\\u0441\\u044f\", \"\\u0432\\u044b\\u0434\\u0430\\u0442\\u044c\\u0441\\u044f\", \"\\u0432\\u044b\\u0434\\u0430\\u0442\\u044c\\u0441\\u044f\", \"\\u0432\\u044b\\u043f\\u0438\\u0442\\u044c\", \"\\u0432\\u044b\\u043f\\u0438\\u0442\\u044c\", \"\\u0432\\u044b\\u043f\\u0438\\u0442\\u044c\", \"\\u0432\\u044b\\u043f\\u0438\\u0442\\u044c\", \"\\u0432\\u044b\\u0445\\u043e\\u0434\\u043d\\u043e\\u0439\", \"\\u0432\\u044b\\u0445\\u043e\\u0434\\u043d\\u043e\\u0439\", \"\\u0432\\u044b\\u0445\\u043e\\u0434\\u043d\\u043e\\u0439\", \"\\u0433\\u043b\\u0430\\u0432\\u043d\\u043e\\u0435\", \"\\u0433\\u043b\\u0430\\u0432\\u043d\\u043e\\u0435\", \"\\u0433\\u043b\\u0430\\u0432\\u043d\\u043e\\u0435\", \"\\u0433\\u043b\\u0430\\u0432\\u043d\\u043e\\u0435\", \"\\u0433\\u043b\\u0430\\u0437\", \"\\u0433\\u043b\\u0430\\u0437\", \"\\u0433\\u043b\\u0430\\u0437\", \"\\u0433\\u043b\\u044f\\u043d\\u0443\\u0442\\u044c\", \"\\u0433\\u043b\\u044f\\u043d\\u0443\\u0442\\u044c\", \"\\u0433\\u043b\\u044f\\u043d\\u0443\\u0442\\u044c\", \"\\u0433\\u043b\\u044f\\u043d\\u0443\\u0442\\u044c\", \"\\u0433\\u043e\\u0432\\u043e\\u0440\\u0438\\u0442\\u044c\", \"\\u0433\\u043e\\u0432\\u043e\\u0440\\u0438\\u0442\\u044c\", \"\\u0433\\u043e\\u0432\\u043e\\u0440\\u0438\\u0442\\u044c\", \"\\u0433\\u043e\\u0434\", \"\\u0433\\u043e\\u0434\", \"\\u0433\\u043e\\u0434\", \"\\u0433\\u043e\\u0434\", \"\\u0433\\u043e\\u043b\\u043e\\u0432\\u0430\", \"\\u0433\\u043e\\u043b\\u043e\\u0432\\u0430\", \"\\u0433\\u043e\\u043b\\u043e\\u0432\\u0430\", \"\\u0433\\u043e\\u043b\\u043e\\u0434\", \"\\u0433\\u043e\\u043b\\u043e\\u0434\", \"\\u0433\\u043e\\u043b\\u043e\\u0434\", \"\\u0433\\u043e\\u0440\\u043e\\u0434\", \"\\u0433\\u043e\\u0440\\u043e\\u0434\", \"\\u0433\\u043e\\u0440\\u043e\\u0434\", \"\\u0433\\u043e\\u0441\\u0442\\u044c\", \"\\u0433\\u043e\\u0441\\u0442\\u044c\", \"\\u0433\\u043e\\u0441\\u0442\\u044c\", \"\\u0433\\u0440\\u0443\\u043f\\u043f\\u0430\", \"\\u0433\\u0440\\u0443\\u043f\\u043f\\u0430\", \"\\u0433\\u0440\\u0443\\u043f\\u043f\\u0430\", \"\\u0433\\u0440\\u0443\\u043f\\u043f\\u0430\", \"\\u0433\\u0440\\u0443\\u0441\\u0442\\u043d\\u044b\\u0439\", \"\\u0433\\u0440\\u0443\\u0441\\u0442\\u043d\\u044b\\u0439\", \"\\u0433\\u0440\\u0443\\u0441\\u0442\\u043d\\u044b\\u0439\", \"\\u0433\\u0443\\u043b\\u044f\\u0442\\u044c\", \"\\u0433\\u0443\\u043b\\u044f\\u0442\\u044c\", \"\\u0433\\u0443\\u043b\\u044f\\u0442\\u044c\", \"\\u0433\\u0443\\u043b\\u044f\\u0442\\u044c\", \"\\u0434\\u0430\\u0432\\u043d\\u043e\", \"\\u0434\\u0430\\u0432\\u043d\\u043e\", \"\\u0434\\u0430\\u0432\\u043d\\u043e\", \"\\u0434\\u0430\\u043b\\u0435\\u043a\\u043e\", \"\\u0434\\u0430\\u043b\\u0435\\u043a\\u043e\", \"\\u0434\\u0430\\u043b\\u0435\\u043a\\u043e\", \"\\u0434\\u0432\\u0435\\u0440\\u044c\", \"\\u0434\\u0432\\u0435\\u0440\\u044c\", \"\\u0434\\u0432\\u0435\\u0440\\u044c\", \"\\u0434\\u0435\\u043b\\u0430\\u0442\\u044c\", \"\\u0434\\u0435\\u043b\\u0430\\u0442\\u044c\", \"\\u0434\\u0435\\u043b\\u0430\\u0442\\u044c\", \"\\u0434\\u0435\\u043b\\u043e\", \"\\u0434\\u0435\\u043b\\u043e\", \"\\u0434\\u0435\\u043b\\u043e\", \"\\u0434\\u0435\\u043b\\u043e\", \"\\u0434\\u0435\\u043c\\u043e\\u0442\\u0438\\u0432\\u0430\\u0442\\u043e\\u0440\", \"\\u0434\\u0435\\u043c\\u043e\\u0442\\u0438\\u0432\\u0430\\u0442\\u043e\\u0440\", \"\\u0434\\u0435\\u043c\\u043e\\u0442\\u0438\\u0432\\u0430\\u0442\\u043e\\u0440\", \"\\u0434\\u0435\\u043d\\u044c\", \"\\u0434\\u0435\\u043d\\u044c\", \"\\u0434\\u0435\\u043d\\u044c\", \"\\u0434\\u0435\\u043d\\u044c\", \"\\u0434\\u043e\\u0431\\u0440\\u043e\", \"\\u0434\\u043e\\u0431\\u0440\\u043e\", \"\\u0434\\u043e\\u0431\\u0440\\u043e\", \"\\u0434\\u043e\\u0431\\u0440\\u043e\", \"\\u0434\\u043e\\u0431\\u0440\\u044b\\u0439\", \"\\u0434\\u043e\\u0431\\u0440\\u044b\\u0439\", \"\\u0434\\u043e\\u0431\\u0440\\u044b\\u0439\", \"\\u0434\\u043e\\u0431\\u0440\\u044b\\u0439\", \"\\u0434\\u043e\\u043b\\u0436\\u043d\\u044b\\u0439\", \"\\u0434\\u043e\\u043b\\u0436\\u043d\\u044b\\u0439\", \"\\u0434\\u043e\\u043b\\u0436\\u043d\\u044b\\u0439\", \"\\u0434\\u043e\\u043c\", \"\\u0434\\u043e\\u043c\", \"\\u0434\\u043e\\u043c\", \"\\u0434\\u043e\\u043c\\u043e\\u0439\", \"\\u0434\\u043e\\u043c\\u043e\\u0439\", \"\\u0434\\u043e\\u043c\\u043e\\u0439\", \"\\u0434\\u043e\\u043d\\u0442\", \"\\u0434\\u043e\\u043d\\u0442\", \"\\u0434\\u043e\\u043d\\u0442\", \"\\u0434\\u0440\\u0443\\u0433\", \"\\u0434\\u0440\\u0443\\u0433\", \"\\u0434\\u0440\\u0443\\u0433\", \"\\u0434\\u0440\\u0443\\u0433\", \"\\u0434\\u0443\\u043c\\u0430\\u0442\\u044c\", \"\\u0434\\u0443\\u043c\\u0430\\u0442\\u044c\", \"\\u0434\\u0443\\u043c\\u0430\\u0442\\u044c\", \"\\u0434\\u0443\\u043c\\u0430\\u0442\\u044c\", \"\\u0435\\u0449\\u0451\", \"\\u0435\\u0449\\u0451\", \"\\u0435\\u0449\\u0451\", \"\\u0435\\u0449\\u0451\", \"\\u0436\\u0430\\u043b\\u043a\\u043e\", \"\\u0436\\u0430\\u043b\\u043a\\u043e\", \"\\u0436\\u0430\\u043b\\u043a\\u043e\", \"\\u0436\\u0430\\u043b\\u044c\", \"\\u0436\\u0430\\u043b\\u044c\", \"\\u0436\\u0430\\u043b\\u044c\", \"\\u0436\\u0434\\u0430\\u0442\\u044c\", \"\\u0436\\u0434\\u0430\\u0442\\u044c\", \"\\u0436\\u0434\\u0430\\u0442\\u044c\", \"\\u0436\\u0435\\u043b\\u0430\\u043d\\u0438\\u0435\", \"\\u0436\\u0435\\u043b\\u0430\\u043d\\u0438\\u0435\", \"\\u0436\\u0435\\u043b\\u0430\\u043d\\u0438\\u0435\", \"\\u0436\\u0438\\u0437\\u043d\\u044c\", \"\\u0436\\u0438\\u0437\\u043d\\u044c\", \"\\u0436\\u0438\\u0437\\u043d\\u044c\", \"\\u0436\\u0438\\u0442\\u044c\", \"\\u0436\\u0438\\u0442\\u044c\", \"\\u0436\\u0438\\u0442\\u044c\", \"\\u0436\\u0440\\u0430\\u0442\\u044c\", \"\\u0436\\u0440\\u0430\\u0442\\u044c\", \"\\u0436\\u0440\\u0430\\u0442\\u044c\", \"\\u0436\\u0440\\u0430\\u0442\\u044c\", \"\\u0436\\u0443\\u0440\\u0444\\u0430\\u043a\", \"\\u0436\\u0443\\u0440\\u0444\\u0430\\u043a\", \"\\u0436\\u0443\\u0440\\u0444\\u0430\\u043a\", \"\\u0437\\u0430\\u0431\\u043e\\u043b\\u0435\\u0442\\u044c\", \"\\u0437\\u0430\\u0431\\u043e\\u043b\\u0435\\u0442\\u044c\", \"\\u0437\\u0430\\u0431\\u043e\\u043b\\u0435\\u0442\\u044c\", \"\\u0437\\u0430\\u0431\\u044b\\u0442\\u044c\", \"\\u0437\\u0430\\u0431\\u044b\\u0442\\u044c\", \"\\u0437\\u0430\\u0431\\u044b\\u0442\\u044c\", \"\\u0437\\u0430\\u0431\\u044b\\u0442\\u044c\", \"\\u0437\\u0430\\u0432\\u0442\\u0440\\u0430\", \"\\u0437\\u0430\\u0432\\u0442\\u0440\\u0430\", \"\\u0437\\u0430\\u0432\\u0442\\u0440\\u0430\", \"\\u0437\\u0430\\u0432\\u0442\\u0440\\u0430\", \"\\u0437\\u0430\\u0433\\u043e\\u0440\\u0430\\u0442\\u044c\", \"\\u0437\\u0430\\u0433\\u043e\\u0440\\u0430\\u0442\\u044c\", \"\\u0437\\u0430\\u0433\\u043e\\u0440\\u0430\\u0442\\u044c\", \"\\u0437\\u0430\\u0435\\u0431\\u0438\\u0441\\u044c\", \"\\u0437\\u0430\\u0435\\u0431\\u0438\\u0441\\u044c\", \"\\u0437\\u0430\\u0435\\u0431\\u0438\\u0441\\u044c\", \"\\u0437\\u0430\\u0435\\u0431\\u0438\\u0441\\u044c\", \"\\u0437\\u0430\\u043a\\u0430\\u043d\\u0447\\u0438\\u0432\\u0430\\u0442\\u044c\\u0441\\u044f\", \"\\u0437\\u0430\\u043a\\u0430\\u043d\\u0447\\u0438\\u0432\\u0430\\u0442\\u044c\\u0441\\u044f\", \"\\u0437\\u0430\\u043a\\u0430\\u043d\\u0447\\u0438\\u0432\\u0430\\u0442\\u044c\\u0441\\u044f\", \"\\u0437\\u0430\\u043c\\u0435\\u0442\\u0438\\u0442\\u044c\", \"\\u0437\\u0430\\u043c\\u0435\\u0442\\u0438\\u0442\\u044c\", \"\\u0437\\u0430\\u043c\\u0435\\u0442\\u0438\\u0442\\u044c\", \"\\u0437\\u0430\\u043c\\u0435\\u0442\\u0438\\u0442\\u044c\", \"\\u0437\\u0430\\u043c\\u0451\\u0440\\u0437\\u043d\\u0443\\u0442\\u044c\", \"\\u0437\\u0430\\u043c\\u0451\\u0440\\u0437\\u043d\\u0443\\u0442\\u044c\", \"\\u0437\\u0430\\u043c\\u0451\\u0440\\u0437\\u043d\\u0443\\u0442\\u044c\", \"\\u0437\\u0430\\u0441\\u043d\\u0443\\u0442\\u044c\", \"\\u0437\\u0430\\u0441\\u043d\\u0443\\u0442\\u044c\", \"\\u0437\\u0430\\u0441\\u043d\\u0443\\u0442\\u044c\", \"\\u0437\\u0432\\u043e\\u043d\\u0438\\u0442\\u044c\", \"\\u0437\\u0432\\u043e\\u043d\\u0438\\u0442\\u044c\", \"\\u0437\\u0432\\u043e\\u043d\\u0438\\u0442\\u044c\", \"\\u0437\\u0438\\u043c\\u0430\", \"\\u0437\\u0438\\u043c\\u0430\", \"\\u0437\\u0438\\u043c\\u0430\", \"\\u0437\\u043d\\u0430\\u0442\\u044c\", \"\\u0437\\u043d\\u0430\\u0442\\u044c\", \"\\u0437\\u043d\\u0430\\u0442\\u044c\", \"\\u0437\\u043d\\u0430\\u0442\\u044c\", \"\\u0437\\u043d\\u0430\\u0447\\u0438\\u0442\", \"\\u0437\\u043d\\u0430\\u0447\\u0438\\u0442\", \"\\u0437\\u043d\\u0430\\u0447\\u0438\\u0442\", \"\\u0437\\u043d\\u0430\\u0447\\u0438\\u0442\", \"\\u0437\\u0440\\u044f\", \"\\u0437\\u0440\\u044f\", \"\\u0437\\u0440\\u044f\", \"\\u0437\\u0440\\u044f\", \"\\u0438\\u0431\\u043e\", \"\\u0438\\u0431\\u043e\", \"\\u0438\\u0431\\u043e\", \"\\u0438\\u0433\\u043d\\u043e\\u0440\\u0438\\u0442\\u044c\", \"\\u0438\\u0433\\u043d\\u043e\\u0440\\u0438\\u0442\\u044c\", \"\\u0438\\u0433\\u043d\\u043e\\u0440\\u0438\\u0442\\u044c\", \"\\u0438\\u0433\\u0440\\u0430\", \"\\u0438\\u0433\\u0440\\u0430\", \"\\u0438\\u0433\\u0440\\u0430\", \"\\u0438\\u0434\\u0438\\u043e\\u0442\\u043a\\u0430\", \"\\u0438\\u0434\\u0438\\u043e\\u0442\\u043a\\u0430\", \"\\u0438\\u0434\\u0438\\u043e\\u0442\\u043a\\u0430\", \"\\u0438\\u0434\\u0442\\u0438\", \"\\u0438\\u0434\\u0442\\u0438\", \"\\u0438\\u0434\\u0442\\u0438\", \"\\u0438\\u0434\\u0442\\u0438\", \"\\u0438\\u043c\\u0435\\u043d\\u043d\\u043e\", \"\\u0438\\u043c\\u0435\\u043d\\u043d\\u043e\", \"\\u0438\\u043c\\u0435\\u043d\\u043d\\u043e\", \"\\u0438\\u043d\\u0442\\u0435\\u0440\\u0435\\u0441\\u043d\\u044b\\u0439\", \"\\u0438\\u043d\\u0442\\u0435\\u0440\\u0435\\u0441\\u043d\\u044b\\u0439\", \"\\u0438\\u043d\\u0442\\u0435\\u0440\\u0435\\u0441\\u043d\\u044b\\u0439\", \"\\u0438\\u0441\\u043a\\u0430\\u0442\\u044c\", \"\\u0438\\u0441\\u043a\\u0430\\u0442\\u044c\", \"\\u0438\\u0441\\u043a\\u0430\\u0442\\u044c\", \"\\u0438\\u0441\\u043f\\u0443\\u0433\\u0430\\u0442\\u044c\\u0441\\u044f\", \"\\u0438\\u0441\\u043f\\u0443\\u0433\\u0430\\u0442\\u044c\\u0441\\u044f\", \"\\u0438\\u0441\\u043f\\u0443\\u0433\\u0430\\u0442\\u044c\\u0441\\u044f\", \"\\u0438\\u0441\\u0442\\u043e\\u0440\\u0438\\u044f\", \"\\u0438\\u0441\\u0442\\u043e\\u0440\\u0438\\u044f\", \"\\u0438\\u0441\\u0442\\u043e\\u0440\\u0438\\u044f\", \"\\u0438\\u0441\\u0442\\u043e\\u0440\\u0438\\u044f\", \"\\u043a\\u0430\\u0436\\u0434\\u044b\\u0439\", \"\\u043a\\u0430\\u0436\\u0434\\u044b\\u0439\", \"\\u043a\\u0430\\u0436\\u0434\\u044b\\u0439\", \"\\u043a\\u0430\\u0436\\u0434\\u044b\\u0439\", \"\\u043a\\u0430\\u0437\\u0430\\u0442\\u044c\\u0441\\u044f\", \"\\u043a\\u0430\\u0437\\u0430\\u0442\\u044c\\u0441\\u044f\", \"\\u043a\\u0430\\u0437\\u0430\\u0442\\u044c\\u0441\\u044f\", \"\\u043a\\u0430\\u043c\\u044b\\u0437\\u044f\\u043a\", \"\\u043a\\u0430\\u043c\\u044b\\u0437\\u044f\\u043a\", \"\\u043a\\u0430\\u043c\\u044b\\u0437\\u044f\\u043a\", \"\\u043a\\u0430\\u043d\\u0438\\u043a\\u0443\\u043b\\u044b\", \"\\u043a\\u0430\\u043d\\u0438\\u043a\\u0443\\u043b\\u044b\", \"\\u043a\\u0430\\u043d\\u0438\\u043a\\u0443\\u043b\\u044b\", \"\\u043a\\u0430\\u043f\\u0443\\u0441\\u0442\\u0430\", \"\\u043a\\u0430\\u043f\\u0443\\u0441\\u0442\\u0430\", \"\\u043a\\u0430\\u043f\\u0443\\u0441\\u0442\\u0430\", \"\\u043a\\u0430\\u0442\\u043e\\u043a\", \"\\u043a\\u0430\\u0442\\u043e\\u043a\", \"\\u043a\\u0430\\u0442\\u043e\\u043a\", \"\\u043a\\u0430\\u0447\\u0430\\u0442\\u044c\", \"\\u043a\\u0430\\u0447\\u0430\\u0442\\u044c\", \"\\u043a\\u0430\\u0447\\u0430\\u0442\\u044c\", \"\\u043a\\u0430\\u0447\\u0430\\u0442\\u044c\", \"\\u043a\\u0438\\u0435\\u0432\", \"\\u043a\\u0438\\u0435\\u0432\", \"\\u043a\\u0438\\u0435\\u0432\", \"\\u043a\\u043b\\u0430\\u0441\\u0441\", \"\\u043a\\u043b\\u0430\\u0441\\u0441\", \"\\u043a\\u043b\\u0430\\u0441\\u0441\", \"\\u043a\\u043b\\u043e\\u0443\\u043d\", \"\\u043a\\u043b\\u043e\\u0443\\u043d\", \"\\u043a\\u043b\\u043e\\u0443\\u043d\", \"\\u043a\\u043d\\u0438\\u0433\\u0430\", \"\\u043a\\u043d\\u0438\\u0433\\u0430\", \"\\u043a\\u043d\\u0438\\u0433\\u0430\", \"\\u043a\\u043d\\u0438\\u0433\\u0430\", \"\\u043a\\u043e\\u043d\\u0442\\u0440\\u043e\\u043b\\u044c\\u043d\\u044b\\u0439\", \"\\u043a\\u043e\\u043d\\u0442\\u0440\\u043e\\u043b\\u044c\\u043d\\u044b\\u0439\", \"\\u043a\\u043e\\u043d\\u0442\\u0440\\u043e\\u043b\\u044c\\u043d\\u044b\\u0439\", \"\\u043a\\u043e\\u043d\\u0442\\u0440\\u043e\\u043b\\u044c\\u043d\\u044b\\u0439\", \"\\u043a\\u043e\\u0441\\u0442\\u044e\\u043c\", \"\\u043a\\u043e\\u0441\\u0442\\u044e\\u043c\", \"\\u043a\\u043e\\u0441\\u0442\\u044e\\u043c\", \"\\u043a\\u043e\\u0441\\u0442\\u044e\\u043c\", \"\\u043a\\u043e\\u0442\", \"\\u043a\\u043e\\u0442\", \"\\u043a\\u043e\\u0442\", \"\\u043a\\u043e\\u0442\\u043e\\u0440\\u044b\\u0439\", \"\\u043a\\u043e\\u0442\\u043e\\u0440\\u044b\\u0439\", \"\\u043a\\u043e\\u0442\\u043e\\u0440\\u044b\\u0439\", \"\\u043a\\u043e\\u0442\\u043e\\u0440\\u044b\\u0439\", \"\\u043a\\u043e\\u0444\\u0435\", \"\\u043a\\u043e\\u0444\\u0435\", \"\\u043a\\u043e\\u0444\\u0435\", \"\\u043a\\u043e\\u0444\\u0435\", \"\\u043a\\u0440\\u043e\\u0432\\u044c\", \"\\u043a\\u0440\\u043e\\u0432\\u044c\", \"\\u043a\\u0440\\u043e\\u0432\\u044c\", \"\\u043a\\u0440\\u0443\\u0442\\u043e\", \"\\u043a\\u0440\\u0443\\u0442\\u043e\", \"\\u043a\\u0440\\u0443\\u0442\\u043e\", \"\\u043a\\u0443\\u043f\\u0438\\u0442\\u044c\", \"\\u043a\\u0443\\u043f\\u0438\\u0442\\u044c\", \"\\u043a\\u0443\\u043f\\u0438\\u0442\\u044c\", \"\\u043a\\u0443\\u0440\\u0438\\u0442\\u044c\", \"\\u043a\\u0443\\u0440\\u0438\\u0442\\u044c\", \"\\u043a\\u0443\\u0440\\u0438\\u0442\\u044c\", \"\\u043a\\u0443\\u0440\\u0438\\u0442\\u044c\", \"\\u043b\\u0435\\u0442\\u043e\", \"\\u043b\\u0435\\u0442\\u043e\", \"\\u043b\\u0435\\u0442\\u043e\", \"\\u043b\\u0438\\u0447\\u043d\\u044b\\u0439\", \"\\u043b\\u0438\\u0447\\u043d\\u044b\\u0439\", \"\\u043b\\u0438\\u0447\\u043d\\u044b\\u0439\", \"\\u043b\\u0438\\u0448\\u044c\", \"\\u043b\\u0438\\u0448\\u044c\", \"\\u043b\\u0438\\u0448\\u044c\", \"\\u043b\\u044e\\u0431\\u0438\\u043c\\u044b\\u0439\", \"\\u043b\\u044e\\u0431\\u0438\\u043c\\u044b\\u0439\", \"\\u043b\\u044e\\u0431\\u0438\\u043c\\u044b\\u0439\", \"\\u043b\\u044e\\u0431\\u0438\\u0442\\u044c\", \"\\u043b\\u044e\\u0431\\u0438\\u0442\\u044c\", \"\\u043b\\u044e\\u0431\\u0438\\u0442\\u044c\", \"\\u043b\\u044e\\u0431\\u0438\\u0442\\u044c\", \"\\u043c\\u0430\\u043b\\u0435\\u043d\\u044c\\u043a\\u0438\\u0439\", \"\\u043c\\u0430\\u043b\\u0435\\u043d\\u044c\\u043a\\u0438\\u0439\", \"\\u043c\\u0430\\u043b\\u0435\\u043d\\u044c\\u043a\\u0438\\u0439\", \"\\u043c\\u0430\\u043b\\u044c\\u0434\\u0438\\u0432\\u044b\", \"\\u043c\\u0430\\u043b\\u044c\\u0434\\u0438\\u0432\\u044b\", \"\\u043c\\u0430\\u043b\\u044c\\u0434\\u0438\\u0432\\u044b\", \"\\u043c\\u0430\\u043b\\u044c\\u0447\\u0438\\u043a\", \"\\u043c\\u0430\\u043b\\u044c\\u0447\\u0438\\u043a\", \"\\u043c\\u0430\\u043b\\u044c\\u0447\\u0438\\u043a\", \"\\u043c\\u0430\\u043b\\u044c\\u0447\\u0438\\u043a\", \"\\u043c\\u0430\\u043c\\u0430\", \"\\u043c\\u0430\\u043c\\u0430\", \"\\u043c\\u0430\\u043c\\u0430\", \"\\u043c\\u0430\\u043c\\u0430\", \"\\u043c\\u0435\\u0441\\u0442\\u043e\", \"\\u043c\\u0435\\u0441\\u0442\\u043e\", \"\\u043c\\u0435\\u0441\\u0442\\u043e\", \"\\u043c\\u0435\\u0441\\u0442\\u043e\", \"\\u043c\\u0435\\u0441\\u044f\\u0446\", \"\\u043c\\u0435\\u0441\\u044f\\u0446\", \"\\u043c\\u0435\\u0441\\u044f\\u0446\", \"\\u043c\\u043a\\u0430\\u0434\", \"\\u043c\\u043a\\u0430\\u0434\", \"\\u043c\\u043a\\u0430\\u0434\", \"\\u043c\\u043d\\u043e\\u0433\\u0438\\u0435\", \"\\u043c\\u043d\\u043e\\u0433\\u0438\\u0435\", \"\\u043c\\u043d\\u043e\\u0433\\u0438\\u0435\", \"\\u043c\\u043e\\u0441\\u043a\\u0432\\u0430\", \"\\u043c\\u043e\\u0441\\u043a\\u0432\\u0430\", \"\\u043c\\u043e\\u0441\\u043a\\u0432\\u0430\", \"\\u043c\\u043e\\u0441\\u043a\\u0432\\u0430\", \"\\u043c\\u043e\\u0447\\u044c\", \"\\u043c\\u043e\\u0447\\u044c\", \"\\u043c\\u043e\\u0447\\u044c\", \"\\u043c\\u043e\\u0447\\u044c\", \"\\u043c\\u0443\\u0436\\u0447\\u0438\\u043d\\u0430\", \"\\u043c\\u0443\\u0436\\u0447\\u0438\\u043d\\u0430\", \"\\u043c\\u0443\\u0436\\u0447\\u0438\\u043d\\u0430\", \"\\u043c\\u0443\\u0436\\u0447\\u0438\\u043d\\u0430\", \"\\u043c\\u044b\\u0441\\u043b\\u044c\", \"\\u043c\\u044b\\u0441\\u043b\\u044c\", \"\\u043c\\u044b\\u0441\\u043b\\u044c\", \"\\u043d\\u0430\\u0432\\u0435\\u0440\\u043d\\u043e\\u0435\", \"\\u043d\\u0430\\u0432\\u0435\\u0440\\u043d\\u043e\\u0435\", \"\\u043d\\u0430\\u0432\\u0435\\u0440\\u043d\\u043e\\u0435\", \"\\u043d\\u0430\\u0432\\u0435\\u0440\\u043d\\u043e\\u0435\", \"\\u043d\\u0430\\u0434\\u0435\\u044f\\u0442\\u044c\\u0441\\u044f\", \"\\u043d\\u0430\\u0434\\u0435\\u044f\\u0442\\u044c\\u0441\\u044f\", \"\\u043d\\u0430\\u0434\\u0435\\u044f\\u0442\\u044c\\u0441\\u044f\", \"\\u043d\\u0430\\u0434\\u043f\\u0438\\u0441\\u044c\", \"\\u043d\\u0430\\u0434\\u043f\\u0438\\u0441\\u044c\", \"\\u043d\\u0430\\u0434\\u043f\\u0438\\u0441\\u044c\", \"\\u043d\\u0430\\u0437\\u044b\\u0432\\u0430\\u0442\\u044c\\u0441\\u044f\", \"\\u043d\\u0430\\u0437\\u044b\\u0432\\u0430\\u0442\\u044c\\u0441\\u044f\", \"\\u043d\\u0430\\u0437\\u044b\\u0432\\u0430\\u0442\\u044c\\u0441\\u044f\", \"\\u043d\\u0430\\u0439\\u0442\\u0438\", \"\\u043d\\u0430\\u0439\\u0442\\u0438\", \"\\u043d\\u0430\\u0439\\u0442\\u0438\", \"\\u043d\\u0430\\u0439\\u0442\\u0438\", \"\\u043d\\u0430\\u043e\\u0431\\u043e\\u0440\\u043e\\u0442\", \"\\u043d\\u0430\\u043e\\u0431\\u043e\\u0440\\u043e\\u0442\", \"\\u043d\\u0430\\u043e\\u0431\\u043e\\u0440\\u043e\\u0442\", \"\\u043d\\u0430\\u043e\\u0431\\u043e\\u0440\\u043e\\u0442\", \"\\u043d\\u0430\\u043f\\u0438\\u0441\\u0430\\u0442\\u044c\", \"\\u043d\\u0430\\u043f\\u0438\\u0441\\u0430\\u0442\\u044c\", \"\\u043d\\u0430\\u043f\\u0438\\u0441\\u0430\\u0442\\u044c\", \"\\u043d\\u0430\\u043f\\u043e\\u043b\\u043d\\u0438\\u0442\\u044c\", \"\\u043d\\u0430\\u043f\\u043e\\u043b\\u043d\\u0438\\u0442\\u044c\", \"\\u043d\\u0430\\u043f\\u043e\\u043b\\u043d\\u0438\\u0442\\u044c\", \"\\u043d\\u0430\\u043f\\u043e\\u043c\\u043d\\u0438\\u0442\\u044c\", \"\\u043d\\u0430\\u043f\\u043e\\u043c\\u043d\\u0438\\u0442\\u044c\", \"\\u043d\\u0430\\u043f\\u043e\\u043c\\u043d\\u0438\\u0442\\u044c\", \"\\u043d\\u0430\\u0441\\u0442\\u0440\\u043e\\u0435\\u043d\\u0438\\u0435\", \"\\u043d\\u0430\\u0441\\u0442\\u0440\\u043e\\u0435\\u043d\\u0438\\u0435\", \"\\u043d\\u0430\\u0441\\u0442\\u0440\\u043e\\u0435\\u043d\\u0438\\u0435\", \"\\u043d\\u0430\\u0445\\u0443\\u0439\", \"\\u043d\\u0430\\u0445\\u0443\\u0439\", \"\\u043d\\u0430\\u0445\\u0443\\u0439\", \"\\u043d\\u0430\\u0447\\u0438\\u043d\\u0430\\u0442\\u044c\\u0441\\u044f\", \"\\u043d\\u0430\\u0447\\u0438\\u043d\\u0430\\u0442\\u044c\\u0441\\u044f\", \"\\u043d\\u0430\\u0447\\u0438\\u043d\\u0430\\u0442\\u044c\\u0441\\u044f\", \"\\u043d\\u0430\\u0448\", \"\\u043d\\u0430\\u0448\", \"\\u043d\\u0430\\u0448\", \"\\u043d\\u0430\\u0448\", \"\\u043d\\u0435\\u0432\\u043e\\u0437\\u043c\\u043e\\u0436\\u043d\\u043e\\u0441\\u0442\\u044c\", \"\\u043d\\u0435\\u0432\\u043e\\u0437\\u043c\\u043e\\u0436\\u043d\\u043e\\u0441\\u0442\\u044c\", \"\\u043d\\u0435\\u0432\\u043e\\u0437\\u043c\\u043e\\u0436\\u043d\\u043e\\u0441\\u0442\\u044c\", \"\\u043d\\u0435\\u0434\\u0435\\u043b\\u044f\", \"\\u043d\\u0435\\u0434\\u0435\\u043b\\u044f\", \"\\u043d\\u0435\\u0434\\u0435\\u043b\\u044f\", \"\\u043d\\u0435\\u0434\\u0435\\u043b\\u044f\", \"\\u043d\\u0435\\u043a\\u0440\\u043e\\u043b\\u043e\\u0433\", \"\\u043d\\u0435\\u043a\\u0440\\u043e\\u043b\\u043e\\u0433\", \"\\u043d\\u0435\\u043a\\u0440\\u043e\\u043b\\u043e\\u0433\", \"\\u043d\\u0435\\u043c\\u043d\\u043e\\u0433\\u043e\", \"\\u043d\\u0435\\u043c\\u043d\\u043e\\u0433\\u043e\", \"\\u043d\\u0435\\u043c\\u043d\\u043e\\u0433\\u043e\", \"\\u043d\\u0435\\u043c\\u043d\\u043e\\u0433\\u043e\", \"\\u043d\\u0435\\u043d\\u0430\\u0432\\u0438\\u0434\\u0435\\u0442\\u044c\", \"\\u043d\\u0435\\u043d\\u0430\\u0432\\u0438\\u0434\\u0435\\u0442\\u044c\", \"\\u043d\\u0435\\u043d\\u0430\\u0432\\u0438\\u0434\\u0435\\u0442\\u044c\", \"\\u043d\\u0435\\u043f\\u0440\\u0438\\u044f\\u0442\\u043d\\u044b\\u0439\", \"\\u043d\\u0435\\u043f\\u0440\\u0438\\u044f\\u0442\\u043d\\u044b\\u0439\", \"\\u043d\\u0435\\u043f\\u0440\\u0438\\u044f\\u0442\\u043d\\u044b\\u0439\", \"\\u043d\\u0435\\u0441\\u043a\\u043e\\u043b\\u044c\\u043a\\u043e\", \"\\u043d\\u0435\\u0441\\u043a\\u043e\\u043b\\u044c\\u043a\\u043e\", \"\\u043d\\u0435\\u0441\\u043a\\u043e\\u043b\\u044c\\u043a\\u043e\", \"\\u043d\\u0438\\u0431\\u044b\\u0442\\u044c\", \"\\u043d\\u0438\\u0431\\u044b\\u0442\\u044c\", \"\\u043d\\u0438\\u0431\\u044b\\u0442\\u044c\", \"\\u043d\\u0438\\u043a\\u0442\\u043e\", \"\\u043d\\u0438\\u043a\\u0442\\u043e\", \"\\u043d\\u0438\\u043a\\u0442\\u043e\", \"\\u043d\\u0438\\u043a\\u0442\\u043e\", \"\\u043d\\u043e\\u0432\\u044b\\u0439\", \"\\u043d\\u043e\\u0432\\u044b\\u0439\", \"\\u043d\\u043e\\u0432\\u044b\\u0439\", \"\\u043d\\u043e\\u0432\\u044b\\u0439\", \"\\u043d\\u043e\\u0440\\u043c\\u0430\\u043b\\u044c\\u043d\\u043e\", \"\\u043d\\u043e\\u0440\\u043c\\u0430\\u043b\\u044c\\u043d\\u043e\", \"\\u043d\\u043e\\u0440\\u043c\\u0430\\u043b\\u044c\\u043d\\u043e\", \"\\u043d\\u043e\\u0440\\u043c\\u0430\\u043b\\u044c\\u043d\\u044b\\u0439\", \"\\u043d\\u043e\\u0440\\u043c\\u0430\\u043b\\u044c\\u043d\\u044b\\u0439\", \"\\u043d\\u043e\\u0440\\u043c\\u0430\\u043b\\u044c\\u043d\\u044b\\u0439\", \"\\u043d\\u043e\\u0447\\u044c\", \"\\u043d\\u043e\\u0447\\u044c\", \"\\u043d\\u043e\\u0447\\u044c\", \"\\u043d\\u043e\\u0447\\u044c\", \"\\u043d\\u0440\\u0430\\u0432\\u0438\\u0442\\u044c\\u0441\\u044f\", \"\\u043d\\u0440\\u0430\\u0432\\u0438\\u0442\\u044c\\u0441\\u044f\", \"\\u043d\\u0440\\u0430\\u0432\\u0438\\u0442\\u044c\\u0441\\u044f\", \"\\u043d\\u0440\\u0430\\u0432\\u0438\\u0442\\u044c\\u0441\\u044f\", \"\\u043d\\u0443\\u0436\\u043d\\u043e\", \"\\u043d\\u0443\\u0436\\u043d\\u043e\", \"\\u043d\\u0443\\u0436\\u043d\\u043e\", \"\\u043d\\u0443\\u0436\\u043d\\u044b\\u0439\", \"\\u043d\\u0443\\u0436\\u043d\\u044b\\u0439\", \"\\u043d\\u0443\\u0436\\u043d\\u044b\\u0439\", \"\\u043e\\u0431\\u0438\\u0434\\u043d\\u043e\", \"\\u043e\\u0431\\u0438\\u0434\\u043d\\u043e\", \"\\u043e\\u0431\\u0438\\u0434\\u043d\\u043e\", \"\\u043e\\u0431\\u0438\\u0434\\u043d\\u044b\\u0439\", \"\\u043e\\u0431\\u0438\\u0434\\u043d\\u044b\\u0439\", \"\\u043e\\u0431\\u0438\\u0434\\u043d\\u044b\\u0439\", \"\\u043e\\u0431\\u0440\\u0430\\u0442\\u043d\\u043e\", \"\\u043e\\u0431\\u0440\\u0430\\u0442\\u043d\\u043e\", \"\\u043e\\u0431\\u0440\\u0430\\u0442\\u043d\\u043e\", \"\\u043e\\u0431\\u0449\\u0430\\u0442\\u044c\\u0441\\u044f\", \"\\u043e\\u0431\\u0449\\u0430\\u0442\\u044c\\u0441\\u044f\", \"\\u043e\\u0431\\u0449\\u0430\\u0442\\u044c\\u0441\\u044f\", \"\\u043e\\u0431\\u0449\\u0430\\u0442\\u044c\\u0441\\u044f\", \"\\u043e\\u0431\\u0449\\u0435\\u0441\\u0442\\u0432\\u043e\", \"\\u043e\\u0431\\u0449\\u0435\\u0441\\u0442\\u0432\\u043e\", \"\\u043e\\u0431\\u0449\\u0435\\u0441\\u0442\\u0432\\u043e\", \"\\u043e\\u0431\\u044a\\u044f\\u0432\\u043b\\u044f\\u0442\\u044c\", \"\\u043e\\u0431\\u044a\\u044f\\u0432\\u043b\\u044f\\u0442\\u044c\", \"\\u043e\\u0431\\u044a\\u044f\\u0432\\u043b\\u044f\\u0442\\u044c\", \"\\u043e\\u0433\\u043e\\u043d\\u044c\", \"\\u043e\\u0433\\u043e\\u043d\\u044c\", \"\\u043e\\u0433\\u043e\\u043d\\u044c\", \"\\u043e\\u0433\\u043e\\u043d\\u044c\", \"\\u043e\\u0434\\u043d\\u043e\\u0433\\u0440\\u0443\\u043f\\u043f\\u043d\\u0438\\u0446\\u0430\", \"\\u043e\\u0434\\u043d\\u043e\\u0433\\u0440\\u0443\\u043f\\u043f\\u043d\\u0438\\u0446\\u0430\", \"\\u043e\\u0434\\u043d\\u043e\\u0433\\u0440\\u0443\\u043f\\u043f\\u043d\\u0438\\u0446\\u0430\", \"\\u043e\\u043b\\u0438\\u043c\\u043f\\u0438\\u0439\\u0441\\u043a\\u0438\\u0439\", \"\\u043e\\u043b\\u0438\\u043c\\u043f\\u0438\\u0439\\u0441\\u043a\\u0438\\u0439\", \"\\u043e\\u043b\\u0438\\u043c\\u043f\\u0438\\u0439\\u0441\\u043a\\u0438\\u0439\", \"\\u043e\\u043b\\u044f\", \"\\u043e\\u043b\\u044f\", \"\\u043e\\u043b\\u044f\", \"\\u043e\\u043b\\u044f\", \"\\u043e\\u043f\\u0430\", \"\\u043e\\u043f\\u0430\", \"\\u043e\\u043f\\u0430\", \"\\u043e\\u0440\\u0430\\u0442\\u044c\", \"\\u043e\\u0440\\u0430\\u0442\\u044c\", \"\\u043e\\u0440\\u0430\\u0442\\u044c\", \"\\u043e\\u0441\\u043e\\u0431\\u0435\\u043d\\u043d\\u043e\", \"\\u043e\\u0441\\u043e\\u0431\\u0435\\u043d\\u043d\\u043e\", \"\\u043e\\u0441\\u043e\\u0431\\u0435\\u043d\\u043d\\u043e\", \"\\u043e\\u0441\\u0442\\u0430\\u043b\\u044c\\u043d\\u043e\\u0439\", \"\\u043e\\u0441\\u0442\\u0430\\u043b\\u044c\\u043d\\u043e\\u0439\", \"\\u043e\\u0441\\u0442\\u0430\\u043b\\u044c\\u043d\\u043e\\u0439\", \"\\u043e\\u0441\\u0442\\u0430\\u043b\\u044c\\u043d\\u043e\\u0439\", \"\\u043e\\u0442\\u043a\\u0430\\u0437\\u044b\\u0432\\u0430\\u0442\\u044c\\u0441\\u044f\", \"\\u043e\\u0442\\u043a\\u0430\\u0437\\u044b\\u0432\\u0430\\u0442\\u044c\\u0441\\u044f\", \"\\u043e\\u0442\\u043a\\u0430\\u0437\\u044b\\u0432\\u0430\\u0442\\u044c\\u0441\\u044f\", \"\\u043e\\u0447\\u0435\\u043d\\u044c\", \"\\u043e\\u0447\\u0435\\u043d\\u044c\", \"\\u043e\\u0447\\u0435\\u043d\\u044c\", \"\\u043e\\u0447\\u0435\\u043d\\u044c\", \"\\u043e\\u0449\\u0443\\u0449\\u0435\\u043d\\u0438\\u0435\", \"\\u043e\\u0449\\u0443\\u0449\\u0435\\u043d\\u0438\\u0435\", \"\\u043e\\u0449\\u0443\\u0449\\u0435\\u043d\\u0438\\u0435\", \"\\u043e\\u0449\\u0443\\u0449\\u0435\\u043d\\u0438\\u0435\", \"\\u043f\\u0430\\u043f\\u0430\", \"\\u043f\\u0430\\u043f\\u0430\", \"\\u043f\\u0430\\u043f\\u0430\", \"\\u043f\\u0430\\u043f\\u0430\", \"\\u043f\\u0430\\u0440\\u0430\", \"\\u043f\\u0430\\u0440\\u0430\", \"\\u043f\\u0430\\u0440\\u0430\", \"\\u043f\\u0435\\u0440\\u0432\\u044b\\u0439\", \"\\u043f\\u0435\\u0440\\u0432\\u044b\\u0439\", \"\\u043f\\u0435\\u0440\\u0432\\u044b\\u0439\", \"\\u043f\\u0435\\u0440\\u0432\\u044b\\u0439\", \"\\u043f\\u0435\\u0447\\u0430\\u043b\\u044c\\u043d\\u043e\", \"\\u043f\\u0435\\u0447\\u0430\\u043b\\u044c\\u043d\\u043e\", \"\\u043f\\u0435\\u0447\\u0430\\u043b\\u044c\\u043d\\u043e\", \"\\u043f\\u0438\\u0437\\u0434\\u0435\\u0446\", \"\\u043f\\u0438\\u0437\\u0434\\u0435\\u0446\", \"\\u043f\\u0438\\u0437\\u0434\\u0435\\u0446\", \"\\u043f\\u0438\\u0437\\u0434\\u0435\\u0446\", \"\\u043f\\u0438\\u0441\\u0430\\u0442\\u044c\", \"\\u043f\\u0438\\u0441\\u0430\\u0442\\u044c\", \"\\u043f\\u0438\\u0441\\u0430\\u0442\\u044c\", \"\\u043f\\u0438\\u0441\\u0430\\u0442\\u044c\", \"\\u043f\\u0438\\u0442\\u044c\", \"\\u043f\\u0438\\u0442\\u044c\", \"\\u043f\\u0438\\u0442\\u044c\", \"\\u043f\\u043b\\u0430\\u043a\\u0430\\u0442\\u044c\", \"\\u043f\\u043b\\u0430\\u043a\\u0430\\u0442\\u044c\", \"\\u043f\\u043b\\u0430\\u043a\\u0430\\u0442\\u044c\", \"\\u043f\\u043b\\u043e\\u0445\\u043e\", \"\\u043f\\u043b\\u043e\\u0445\\u043e\", \"\\u043f\\u043b\\u043e\\u0445\\u043e\", \"\\u043f\\u043b\\u043e\\u0445\\u043e\\u0439\", \"\\u043f\\u043b\\u043e\\u0445\\u043e\\u0439\", \"\\u043f\\u043b\\u043e\\u0445\\u043e\\u0439\", \"\\u043f\\u043b\\u0451\\u043d\\u043a\\u0430\", \"\\u043f\\u043b\\u0451\\u043d\\u043a\\u0430\", \"\\u043f\\u043b\\u0451\\u043d\\u043a\\u0430\", \"\\u043f\\u043e\\u0431\\u0435\\u0434\\u0438\\u0442\\u044c\", \"\\u043f\\u043e\\u0431\\u0435\\u0434\\u0438\\u0442\\u044c\", \"\\u043f\\u043e\\u0431\\u0435\\u0434\\u0438\\u0442\\u044c\", \"\\u043f\\u043e\\u0431\\u0435\\u0434\\u0438\\u0442\\u044c\", \"\\u043f\\u043e\\u0432\\u0435\\u0440\\u044c\", \"\\u043f\\u043e\\u0432\\u0435\\u0440\\u044c\", \"\\u043f\\u043e\\u0432\\u0435\\u0440\\u044c\", \"\\u043f\\u043e\\u0432\\u043e\\u0434\", \"\\u043f\\u043e\\u0432\\u043e\\u0434\", \"\\u043f\\u043e\\u0432\\u043e\\u0434\", \"\\u043f\\u043e\\u0432\\u043e\\u0434\", \"\\u043f\\u043e\\u0433\\u0438\\u0431\\u0430\\u0442\\u044c\", \"\\u043f\\u043e\\u0433\\u0438\\u0431\\u0430\\u0442\\u044c\", \"\\u043f\\u043e\\u0433\\u0438\\u0431\\u0430\\u0442\\u044c\", \"\\u043f\\u043e\\u0433\\u043e\\u0434\\u0430\", \"\\u043f\\u043e\\u0433\\u043e\\u0434\\u0430\", \"\\u043f\\u043e\\u0433\\u043e\\u0434\\u0430\", \"\\u043f\\u043e\\u0434\\u0440\\u0443\\u0433\\u0430\", \"\\u043f\\u043e\\u0434\\u0440\\u0443\\u0433\\u0430\", \"\\u043f\\u043e\\u0434\\u0440\\u0443\\u0433\\u0430\", \"\\u043f\\u043e\\u0434\\u0440\\u044f\\u0434\", \"\\u043f\\u043e\\u0434\\u0440\\u044f\\u0434\", \"\\u043f\\u043e\\u0434\\u0440\\u044f\\u0434\", \"\\u043f\\u043e\\u0434\\u0440\\u044f\\u0434\", \"\\u043f\\u043e\\u0435\\u0445\\u0430\\u0442\\u044c\", \"\\u043f\\u043e\\u0435\\u0445\\u0430\\u0442\\u044c\", \"\\u043f\\u043e\\u0435\\u0445\\u0430\\u0442\\u044c\", \"\\u043f\\u043e\\u0436\\u0430\\u043b\\u0443\\u0439\\u0441\\u0442\\u0430\", \"\\u043f\\u043e\\u0436\\u0430\\u043b\\u0443\\u0439\\u0441\\u0442\\u0430\", \"\\u043f\\u043e\\u0436\\u0430\\u043b\\u0443\\u0439\\u0441\\u0442\\u0430\", \"\\u043f\\u043e\\u0437\\u0434\\u043d\\u0438\\u0439\", \"\\u043f\\u043e\\u0437\\u0434\\u043d\\u0438\\u0439\", \"\\u043f\\u043e\\u0437\\u0434\\u043d\\u0438\\u0439\", \"\\u043f\\u043e\\u0437\\u0434\\u043d\\u0438\\u0439\", \"\\u043f\\u043e\\u0439\\u0442\\u0438\", \"\\u043f\\u043e\\u0439\\u0442\\u0438\", \"\\u043f\\u043e\\u0439\\u0442\\u0438\", \"\\u043f\\u043e\\u043a\\u0430\", \"\\u043f\\u043e\\u043a\\u0430\", \"\\u043f\\u043e\\u043a\\u0430\", \"\\u043f\\u043e\\u043a\\u0430\\u0437\\u044b\\u0432\\u0430\\u0442\\u044c\\u0441\\u044f\", \"\\u043f\\u043e\\u043a\\u0430\\u0437\\u044b\\u0432\\u0430\\u0442\\u044c\\u0441\\u044f\", \"\\u043f\\u043e\\u043a\\u0430\\u0437\\u044b\\u0432\\u0430\\u0442\\u044c\\u0441\\u044f\", \"\\u043f\\u043e\\u043b\", \"\\u043f\\u043e\\u043b\", \"\\u043f\\u043e\\u043b\", \"\\u043f\\u043e\\u043b\\u0438\\u0442\\u044c\", \"\\u043f\\u043e\\u043b\\u0438\\u0442\\u044c\", \"\\u043f\\u043e\\u043b\\u0438\\u0442\\u044c\", \"\\u043f\\u043e\\u043b\\u043d\\u044b\\u0439\", \"\\u043f\\u043e\\u043b\\u043d\\u044b\\u0439\", \"\\u043f\\u043e\\u043b\\u043d\\u044b\\u0439\", \"\\u043f\\u043e\\u043b\\u043d\\u044b\\u0439\", \"\\u043f\\u043e\\u043b\\u0443\\u0447\\u0430\\u0442\\u044c\\u0441\\u044f\", \"\\u043f\\u043e\\u043b\\u0443\\u0447\\u0430\\u0442\\u044c\\u0441\\u044f\", \"\\u043f\\u043e\\u043b\\u0443\\u0447\\u0430\\u0442\\u044c\\u0441\\u044f\", \"\\u043f\\u043e\\u043b\\u0443\\u0447\\u0430\\u0442\\u044c\\u0441\\u044f\", \"\\u043f\\u043e\\u043b\\u0443\\u0447\\u0438\\u0442\\u044c\\u0441\\u044f\", \"\\u043f\\u043e\\u043b\\u0443\\u0447\\u0438\\u0442\\u044c\\u0441\\u044f\", \"\\u043f\\u043e\\u043b\\u0443\\u0447\\u0438\\u0442\\u044c\\u0441\\u044f\", \"\\u043f\\u043e\\u043d\\u0435\\u0434\\u0435\\u043b\\u044c\\u043d\\u0438\\u043a\", \"\\u043f\\u043e\\u043d\\u0435\\u0434\\u0435\\u043b\\u044c\\u043d\\u0438\\u043a\", \"\\u043f\\u043e\\u043d\\u0435\\u0434\\u0435\\u043b\\u044c\\u043d\\u0438\\u043a\", \"\\u043f\\u043e\\u043d\\u0438\\u043c\\u0430\\u0442\\u044c\", \"\\u043f\\u043e\\u043d\\u0438\\u043c\\u0430\\u0442\\u044c\", \"\\u043f\\u043e\\u043d\\u0438\\u043c\\u0430\\u0442\\u044c\", \"\\u043f\\u043e\\u043d\\u044f\\u0442\\u044c\", \"\\u043f\\u043e\\u043d\\u044f\\u0442\\u044c\", \"\\u043f\\u043e\\u043d\\u044f\\u0442\\u044c\", \"\\u043f\\u043e\\u043d\\u044f\\u0442\\u044c\", \"\\u043f\\u043e\\u043f\\u0430\\u0441\\u0442\\u044c\", \"\\u043f\\u043e\\u043f\\u0430\\u0441\\u0442\\u044c\", \"\\u043f\\u043e\\u043f\\u0430\\u0441\\u0442\\u044c\", \"\\u043f\\u043e\\u043f\\u0430\\u0441\\u0442\\u044c\", \"\\u043f\\u043e\\u0440\\u0430\", \"\\u043f\\u043e\\u0440\\u0430\", \"\\u043f\\u043e\\u0440\\u0430\", \"\\u043f\\u043e\\u0440\\u0443\\u0433\\u0430\\u0442\\u044c\\u0441\\u044f\", \"\\u043f\\u043e\\u0440\\u0443\\u0433\\u0430\\u0442\\u044c\\u0441\\u044f\", \"\\u043f\\u043e\\u0440\\u0443\\u0433\\u0430\\u0442\\u044c\\u0441\\u044f\", \"\\u043f\\u043e\\u0440\\u0446\\u0438\\u044f\", \"\\u043f\\u043e\\u0440\\u0446\\u0438\\u044f\", \"\\u043f\\u043e\\u0440\\u0446\\u0438\\u044f\", \"\\u043f\\u043e\\u0441\\u043b\\u0435\\u0434\\u043d\\u0438\\u0439\", \"\\u043f\\u043e\\u0441\\u043b\\u0435\\u0434\\u043d\\u0438\\u0439\", \"\\u043f\\u043e\\u0441\\u043b\\u0435\\u0434\\u043d\\u0438\\u0439\", \"\\u043f\\u043e\\u0441\\u043c\\u043e\\u0442\\u0440\\u0435\\u0442\\u044c\", \"\\u043f\\u043e\\u0441\\u043c\\u043e\\u0442\\u0440\\u0435\\u0442\\u044c\", \"\\u043f\\u043e\\u0441\\u043c\\u043e\\u0442\\u0440\\u0435\\u0442\\u044c\", \"\\u043f\\u043e\\u0441\\u043c\\u043e\\u0442\\u0440\\u0435\\u0442\\u044c\", \"\\u043f\\u043e\\u0442\\u0443\\u0445\\u043d\\u0443\\u0442\\u044c\", \"\\u043f\\u043e\\u0442\\u0443\\u0445\\u043d\\u0443\\u0442\\u044c\", \"\\u043f\\u043e\\u0442\\u0443\\u0445\\u043d\\u0443\\u0442\\u044c\", \"\\u043f\\u043e\\u0445\\u043e\\u0434\", \"\\u043f\\u043e\\u0445\\u043e\\u0434\", \"\\u043f\\u043e\\u0445\\u043e\\u0434\", \"\\u043f\\u043e\\u0445\\u043e\\u0436\\u0438\\u0439\", \"\\u043f\\u043e\\u0445\\u043e\\u0436\\u0438\\u0439\", \"\\u043f\\u043e\\u0445\\u043e\\u0436\\u0438\\u0439\", \"\\u043f\\u043e\\u0445\\u043e\\u0436\\u0438\\u0439\", \"\\u043f\\u043e\\u0447\\u0435\\u043c\\u0443\", \"\\u043f\\u043e\\u0447\\u0435\\u043c\\u0443\", \"\\u043f\\u043e\\u0447\\u0435\\u043c\\u0443\", \"\\u043f\\u043e\\u0447\\u0435\\u043c\\u0443\", \"\\u043f\\u043e\\u044d\\u0442\\u043e\\u043c\\u0443\", \"\\u043f\\u043e\\u044d\\u0442\\u043e\\u043c\\u0443\", \"\\u043f\\u043e\\u044d\\u0442\\u043e\\u043c\\u0443\", \"\\u043f\\u043e\\u044d\\u0442\\u043e\\u043c\\u0443\", \"\\u043f\\u0440\\u0430\\u0432\\u0434\\u0430\", \"\\u043f\\u0440\\u0430\\u0432\\u0434\\u0430\", \"\\u043f\\u0440\\u0430\\u0432\\u0434\\u0430\", \"\\u043f\\u0440\\u0430\\u0437\\u0434\\u043d\\u0438\\u043a\", \"\\u043f\\u0440\\u0430\\u0437\\u0434\\u043d\\u0438\\u043a\", \"\\u043f\\u0440\\u0430\\u0437\\u0434\\u043d\\u0438\\u043a\", \"\\u043f\\u0440\\u0430\\u0437\\u0434\\u043d\\u0438\\u043a\", \"\\u043f\\u0440\\u0435\\u0434\\u043c\\u0435\\u0442\", \"\\u043f\\u0440\\u0435\\u0434\\u043c\\u0435\\u0442\", \"\\u043f\\u0440\\u0435\\u0434\\u043c\\u0435\\u0442\", \"\\u043f\\u0440\\u0435\\u043a\\u0440\\u0430\\u0441\\u043d\\u044b\\u0439\", \"\\u043f\\u0440\\u0435\\u043a\\u0440\\u0430\\u0441\\u043d\\u044b\\u0439\", \"\\u043f\\u0440\\u0435\\u043a\\u0440\\u0430\\u0441\\u043d\\u044b\\u0439\", \"\\u043f\\u0440\\u0435\\u043a\\u0440\\u0430\\u0441\\u043d\\u044b\\u0439\", \"\\u043f\\u0440\\u0438\\u0435\\u0445\\u0430\\u0442\\u044c\", \"\\u043f\\u0440\\u0438\\u0435\\u0445\\u0430\\u0442\\u044c\", \"\\u043f\\u0440\\u0438\\u0435\\u0445\\u0430\\u0442\\u044c\", \"\\u043f\\u0440\\u0438\\u0435\\u0445\\u0430\\u0442\\u044c\", \"\\u043f\\u0440\\u0438\\u0439\\u0442\\u0438\", \"\\u043f\\u0440\\u0438\\u0439\\u0442\\u0438\", \"\\u043f\\u0440\\u0438\\u0439\\u0442\\u0438\", \"\\u043f\\u0440\\u0438\\u0439\\u0442\\u0438\", \"\\u043f\\u0440\\u043e\\u0439\\u0442\\u0438\", \"\\u043f\\u0440\\u043e\\u0439\\u0442\\u0438\", \"\\u043f\\u0440\\u043e\\u0439\\u0442\\u0438\", \"\\u043f\\u0440\\u043e\\u0441\\u0442\\u0438\\u0442\\u044c\", \"\\u043f\\u0440\\u043e\\u0441\\u0442\\u0438\\u0442\\u044c\", \"\\u043f\\u0440\\u043e\\u0441\\u0442\\u0438\\u0442\\u044c\", \"\\u043f\\u0440\\u043e\\u0441\\u0442\\u043e\", \"\\u043f\\u0440\\u043e\\u0441\\u0442\\u043e\", \"\\u043f\\u0440\\u043e\\u0441\\u0442\\u043e\", \"\\u043f\\u0440\\u043e\\u0441\\u0442\\u043e\", \"\\u043f\\u0440\\u043e\\u0441\\u044b\\u043f\\u0430\\u0442\\u044c\\u0441\\u044f\", \"\\u043f\\u0440\\u043e\\u0441\\u044b\\u043f\\u0430\\u0442\\u044c\\u0441\\u044f\", \"\\u043f\\u0440\\u043e\\u0441\\u044b\\u043f\\u0430\\u0442\\u044c\\u0441\\u044f\", \"\\u043f\\u0440\\u043e\\u0442\\u0438\\u0432\\u043d\\u044b\\u0439\", \"\\u043f\\u0440\\u043e\\u0442\\u0438\\u0432\\u043d\\u044b\\u0439\", \"\\u043f\\u0440\\u043e\\u0442\\u0438\\u0432\\u043d\\u044b\\u0439\", \"\\u043f\\u0440\\u044f\\u043c\", \"\\u043f\\u0440\\u044f\\u043c\", \"\\u043f\\u0440\\u044f\\u043c\", \"\\u043f\\u0440\\u044f\\u043c\", \"\\u043f\\u0443\\u0441\\u0442\\u044c\", \"\\u043f\\u0443\\u0441\\u0442\\u044c\", \"\\u043f\\u0443\\u0441\\u0442\\u044c\", \"\\u043f\\u044b\\u0442\\u0430\\u0442\\u044c\\u0441\\u044f\", \"\\u043f\\u044b\\u0442\\u0430\\u0442\\u044c\\u0441\\u044f\", \"\\u043f\\u044b\\u0442\\u0430\\u0442\\u044c\\u0441\\u044f\", \"\\u0440\\u0430\\u0431\\u043e\\u0442\\u0430\", \"\\u0440\\u0430\\u0431\\u043e\\u0442\\u0430\", \"\\u0440\\u0430\\u0431\\u043e\\u0442\\u0430\", \"\\u0440\\u0430\\u0431\\u043e\\u0442\\u0430\", \"\\u0440\\u0430\\u0431\\u043e\\u0442\\u0430\\u0442\\u044c\", \"\\u0440\\u0430\\u0431\\u043e\\u0442\\u0430\\u0442\\u044c\", \"\\u0440\\u0430\\u0431\\u043e\\u0442\\u0430\\u0442\\u044c\", \"\\u0440\\u0430\\u0431\\u043e\\u0442\\u0430\\u0442\\u044c\", \"\\u0440\\u0430\\u0432\\u043d\\u043e\", \"\\u0440\\u0430\\u0432\\u043d\\u043e\", \"\\u0440\\u0430\\u0432\\u043d\\u043e\", \"\\u0440\\u0430\\u0432\\u043d\\u043e\", \"\\u0440\\u0430\\u0434\\u0430\", \"\\u0440\\u0430\\u0434\\u0430\", \"\\u0440\\u0430\\u0434\\u0430\", \"\\u0440\\u0430\\u0434\\u0430\", \"\\u0440\\u0430\\u0434\\u043e\\u0432\\u0430\\u0442\\u044c\", \"\\u0440\\u0430\\u0434\\u043e\\u0432\\u0430\\u0442\\u044c\", \"\\u0440\\u0430\\u0434\\u043e\\u0432\\u0430\\u0442\\u044c\", \"\\u0440\\u0430\\u0434\\u043e\\u0432\\u0430\\u0442\\u044c\", \"\\u0440\\u0430\\u0437\\u0433\\u043e\\u0432\\u0430\\u0440\\u0438\\u0432\\u0430\\u0442\\u044c\", \"\\u0440\\u0430\\u0437\\u0433\\u043e\\u0432\\u0430\\u0440\\u0438\\u0432\\u0430\\u0442\\u044c\", \"\\u0440\\u0430\\u0437\\u0433\\u043e\\u0432\\u0430\\u0440\\u0438\\u0432\\u0430\\u0442\\u044c\", \"\\u0440\\u0430\\u043c\\u043a\\u0430\", \"\\u0440\\u0430\\u043c\\u043a\\u0430\", \"\\u0440\\u0430\\u043c\\u043a\\u0430\", \"\\u0440\\u0430\\u043d\\u043d\\u0438\\u0439\", \"\\u0440\\u0430\\u043d\\u043d\\u0438\\u0439\", \"\\u0440\\u0430\\u043d\\u043d\\u0438\\u0439\", \"\\u0440\\u0430\\u043d\\u043e\", \"\\u0440\\u0430\\u043d\\u043e\", \"\\u0440\\u0430\\u043d\\u043e\", \"\\u0440\\u0430\\u0441\\u0441\\u043a\\u0430\\u0437\\u0430\\u0442\\u044c\", \"\\u0440\\u0430\\u0441\\u0441\\u043a\\u0430\\u0437\\u0430\\u0442\\u044c\", \"\\u0440\\u0430\\u0441\\u0441\\u043a\\u0430\\u0437\\u0430\\u0442\\u044c\", \"\\u0440\\u0430\\u0441\\u0441\\u043a\\u0430\\u0437\\u0430\\u0442\\u044c\", \"\\u0440\\u0438\\u0433\\u0430\", \"\\u0440\\u0438\\u0433\\u0430\", \"\\u0440\\u0438\\u0433\\u0430\", \"\\u0440\\u043e\\u0434\\u0438\\u0442\\u0435\\u043b\\u044c\", \"\\u0440\\u043e\\u0434\\u0438\\u0442\\u0435\\u043b\\u044c\", \"\\u0440\\u043e\\u0434\\u0438\\u0442\\u0435\\u043b\\u044c\", \"\\u0440\\u043e\\u0434\\u043d\\u044b\\u0439\", \"\\u0440\\u043e\\u0434\\u043d\\u044b\\u0439\", \"\\u0440\\u043e\\u0434\\u043d\\u044b\\u0439\", \"\\u0440\\u043e\\u0434\\u043d\\u044b\\u0439\", \"\\u0440\\u043e\\u0436\\u0434\\u0435\\u043d\\u0438\\u0435\", \"\\u0440\\u043e\\u0436\\u0434\\u0435\\u043d\\u0438\\u0435\", \"\\u0440\\u043e\\u0436\\u0434\\u0435\\u043d\\u0438\\u0435\", \"\\u0440\\u0443\\u043a\\u0430\", \"\\u0440\\u0443\\u043a\\u0430\", \"\\u0440\\u0443\\u043a\\u0430\", \"\\u0440\\u0443\\u0441\\u0441\\u043a\\u0438\\u0439\", \"\\u0440\\u0443\\u0441\\u0441\\u043a\\u0438\\u0439\", \"\\u0440\\u0443\\u0441\\u0441\\u043a\\u0438\\u0439\", \"\\u0440\\u0443\\u0441\\u0441\\u043a\\u0438\\u0439\", \"\\u0440\\u044b\\u0431\\u0430\", \"\\u0440\\u044b\\u0431\\u0430\", \"\\u0440\\u044b\\u0431\\u0430\", \"\\u0441\\u0430\\u043c\\u044b\\u0439\", \"\\u0441\\u0430\\u043c\\u044b\\u0439\", \"\\u0441\\u0430\\u043c\\u044b\\u0439\", \"\\u0441\\u0430\\u043c\\u044b\\u0439\", \"\\u0441\\u0430\\u043d\\u0438\", \"\\u0441\\u0430\\u043d\\u0438\", \"\\u0441\\u0430\\u043d\\u0438\", \"\\u0441\\u0432\\u0435\\u0442\", \"\\u0441\\u0432\\u0435\\u0442\", \"\\u0441\\u0432\\u0435\\u0442\", \"\\u0441\\u0432\\u0435\\u0442\", \"\\u0441\\u0432\\u043e\\u0439\", \"\\u0441\\u0432\\u043e\\u0439\", \"\\u0441\\u0432\\u043e\\u0439\", \"\\u0441\\u0432\\u043e\\u0439\", \"\\u0441\\u0434\\u0435\\u043b\\u0430\\u0442\\u044c\", \"\\u0441\\u0434\\u0435\\u043b\\u0430\\u0442\\u044c\", \"\\u0441\\u0434\\u0435\\u043b\\u0430\\u0442\\u044c\", \"\\u0441\\u0435\\u0433\\u043e\\u0434\\u043d\\u044f\", \"\\u0441\\u0435\\u0433\\u043e\\u0434\\u043d\\u044f\", \"\\u0441\\u0435\\u0433\\u043e\\u0434\\u043d\\u044f\", \"\\u0441\\u0435\\u0433\\u043e\\u0434\\u043d\\u044f\", \"\\u0441\\u0435\\u0437\\u043e\\u043d\", \"\\u0441\\u0435\\u0437\\u043e\\u043d\", \"\\u0441\\u0435\\u0437\\u043e\\u043d\", \"\\u0441\\u0435\\u043c\\u044c\\u044f\", \"\\u0441\\u0435\\u043c\\u044c\\u044f\", \"\\u0441\\u0435\\u043c\\u044c\\u044f\", \"\\u0441\\u0435\\u0440\\u0438\\u0430\\u043b\", \"\\u0441\\u0435\\u0440\\u0438\\u0430\\u043b\", \"\\u0441\\u0435\\u0440\\u0438\\u0430\\u043b\", \"\\u0441\\u0435\\u0440\\u0438\\u0430\\u043b\", \"\\u0441\\u0435\\u0440\\u0438\\u044f\", \"\\u0441\\u0435\\u0440\\u0438\\u044f\", \"\\u0441\\u0435\\u0440\\u0438\\u044f\", \"\\u0441\\u0435\\u0440\\u0438\\u044f\", \"\\u0441\\u0438\\u0434\\u0435\\u0442\\u044c\", \"\\u0441\\u0438\\u0434\\u0435\\u0442\\u044c\", \"\\u0441\\u0438\\u0434\\u0435\\u0442\\u044c\", \"\\u0441\\u0438\\u0434\\u0435\\u0442\\u044c\", \"\\u0441\\u0438\\u043b\\u044c\\u043d\\u043e\", \"\\u0441\\u0438\\u043b\\u044c\\u043d\\u043e\", \"\\u0441\\u0438\\u043b\\u044c\\u043d\\u043e\", \"\\u0441\\u0438\\u043b\\u044c\\u043d\\u043e\", \"\\u0441\\u043a\\u0430\\u0437\\u0430\\u0442\\u044c\", \"\\u0441\\u043a\\u0430\\u0437\\u0430\\u0442\\u044c\", \"\\u0441\\u043a\\u0430\\u0437\\u0430\\u0442\\u044c\", \"\\u0441\\u043a\\u0430\\u0437\\u0430\\u0442\\u044c\", \"\\u0441\\u043a\\u043e\\u0440\\u0435\\u0435\", \"\\u0441\\u043a\\u043e\\u0440\\u0435\\u0435\", \"\\u0441\\u043a\\u043e\\u0440\\u0435\\u0435\", \"\\u0441\\u043a\\u043e\\u0440\\u043e\", \"\\u0441\\u043a\\u043e\\u0440\\u043e\", \"\\u0441\\u043a\\u043e\\u0440\\u043e\", \"\\u0441\\u043a\\u0443\\u0447\\u0430\\u0442\\u044c\", \"\\u0441\\u043a\\u0443\\u0447\\u0430\\u0442\\u044c\", \"\\u0441\\u043a\\u0443\\u0447\\u0430\\u0442\\u044c\", \"\\u0441\\u043a\\u0443\\u0447\\u043d\\u043e\", \"\\u0441\\u043a\\u0443\\u0447\\u043d\\u043e\", \"\\u0441\\u043a\\u0443\\u0447\\u043d\\u043e\", \"\\u0441\\u043b\\u0438\\u0448\\u043a\\u043e\\u043c\", \"\\u0441\\u043b\\u0438\\u0448\\u043a\\u043e\\u043c\", \"\\u0441\\u043b\\u0438\\u0448\\u043a\\u043e\\u043c\", \"\\u0441\\u043b\\u043e\\u0432\\u043e\", \"\\u0441\\u043b\\u043e\\u0432\\u043e\", \"\\u0441\\u043b\\u043e\\u0432\\u043e\", \"\\u0441\\u043b\\u043e\\u043c\\u0430\\u0442\\u044c\", \"\\u0441\\u043b\\u043e\\u043c\\u0430\\u0442\\u044c\", \"\\u0441\\u043b\\u043e\\u043c\\u0430\\u0442\\u044c\", \"\\u0441\\u043b\\u0443\\u0447\\u0430\\u0439\\u043d\\u043e\", \"\\u0441\\u043b\\u0443\\u0447\\u0430\\u0439\\u043d\\u043e\", \"\\u0441\\u043b\\u0443\\u0447\\u0430\\u0439\\u043d\\u043e\", \"\\u0441\\u043b\\u0443\\u0447\\u0430\\u0439\\u043d\\u043e\", \"\\u0441\\u043b\\u0443\\u0448\\u0430\\u0442\\u044c\", \"\\u0441\\u043b\\u0443\\u0448\\u0430\\u0442\\u044c\", \"\\u0441\\u043b\\u0443\\u0448\\u0430\\u0442\\u044c\", \"\\u0441\\u043b\\u0443\\u0448\\u0430\\u0442\\u044c\", \"\\u0441\\u043c\\u0430\\u0439\\u043b\\u0438\\u043a\", \"\\u0441\\u043c\\u0430\\u0439\\u043b\\u0438\\u043a\", \"\\u0441\\u043c\\u0430\\u0439\\u043b\\u0438\\u043a\", \"\\u0441\\u043c\\u043e\\u0442\\u0440\\u0435\\u0442\\u044c\", \"\\u0441\\u043c\\u043e\\u0442\\u0440\\u0435\\u0442\\u044c\", \"\\u0441\\u043c\\u043e\\u0442\\u0440\\u0435\\u0442\\u044c\", \"\\u0441\\u043c\\u043e\\u0442\\u0440\\u0435\\u0442\\u044c\", \"\\u0441\\u043c\\u043e\\u0447\\u044c\", \"\\u0441\\u043c\\u043e\\u0447\\u044c\", \"\\u0441\\u043c\\u043e\\u0447\\u044c\", \"\\u0441\\u043c\\u044b\\u0441\\u043b\", \"\\u0441\\u043c\\u044b\\u0441\\u043b\", \"\\u0441\\u043c\\u044b\\u0441\\u043b\", \"\\u0441\\u043d\\u043e\\u0432\\u0430\", \"\\u0441\\u043d\\u043e\\u0432\\u0430\", \"\\u0441\\u043d\\u043e\\u0432\\u0430\", \"\\u0441\\u043e\\u0439\\u0442\\u0438\", \"\\u0441\\u043e\\u0439\\u0442\\u0438\", \"\\u0441\\u043e\\u0439\\u0442\\u0438\", \"\\u0441\\u043e\\u0439\\u0442\\u0438\", \"\\u0441\\u043e\\u043a\\u043e\\u043b\\u043e\\u0432\\u0441\\u043a\\u0438\\u0439\\u044f\\u0445\\u043e\\u0447\\u0443\\u0442\\u0435\\u0441\\u0442\\u0438\", \"\\u0441\\u043e\\u043a\\u043e\\u043b\\u043e\\u0432\\u0441\\u043a\\u0438\\u0439\\u044f\\u0445\\u043e\\u0447\\u0443\\u0442\\u0435\\u0441\\u0442\\u0438\", \"\\u0441\\u043e\\u043a\\u043e\\u043b\\u043e\\u0432\\u0441\\u043a\\u0438\\u0439\\u044f\\u0445\\u043e\\u0447\\u0443\\u0442\\u0435\\u0441\\u0442\\u0438\", \"\\u0441\\u043e\\u043d\", \"\\u0441\\u043e\\u043d\", \"\\u0441\\u043e\\u043d\", \"\\u0441\\u043e\\u043d\", \"\\u0441\\u043f\\u0430\\u0441\\u0438\\u0431\\u043e\", \"\\u0441\\u043f\\u0430\\u0441\\u0438\\u0431\\u043e\", \"\\u0441\\u043f\\u0430\\u0441\\u0438\\u0431\\u043e\", \"\\u0441\\u043f\\u0430\\u0441\\u0438\\u0431\\u043e\", \"\\u0441\\u043f\\u0430\\u0441\\u0442\\u044c\", \"\\u0441\\u043f\\u0430\\u0441\\u0442\\u044c\", \"\\u0441\\u043f\\u0430\\u0441\\u0442\\u044c\", \"\\u0441\\u043f\\u0430\\u0442\\u044c\", \"\\u0441\\u043f\\u0430\\u0442\\u044c\", \"\\u0441\\u043f\\u0430\\u0442\\u044c\", \"\\u0441\\u0440\\u0430\\u043d\\u044b\\u0439\", \"\\u0441\\u0440\\u0430\\u043d\\u044b\\u0439\", \"\\u0441\\u0440\\u0430\\u043d\\u044b\\u0439\", \"\\u0441\\u0442\\u0430\\u0440\\u0448\\u0438\\u0439\", \"\\u0441\\u0442\\u0430\\u0440\\u0448\\u0438\\u0439\", \"\\u0441\\u0442\\u0430\\u0440\\u0448\\u0438\\u0439\", \"\\u0441\\u0442\\u0430\\u0440\\u044b\\u0439\", \"\\u0441\\u0442\\u0430\\u0440\\u044b\\u0439\", \"\\u0441\\u0442\\u0430\\u0440\\u044b\\u0439\", \"\\u0441\\u0442\\u0430\\u0442\\u044c\", \"\\u0441\\u0442\\u0430\\u0442\\u044c\", \"\\u0441\\u0442\\u0430\\u0442\\u044c\", \"\\u0441\\u0442\\u043e\\u043b\\u044c\\u043a\\u043e\", \"\\u0441\\u0442\\u043e\\u043b\\u044c\\u043a\\u043e\", \"\\u0441\\u0442\\u043e\\u043b\\u044c\\u043a\\u043e\", \"\\u0441\\u0442\\u043e\\u043b\\u044c\\u043a\\u043e\", \"\\u0441\\u0442\\u043e\\u044f\\u043a\", \"\\u0441\\u0442\\u043e\\u044f\\u043a\", \"\\u0441\\u0442\\u043e\\u044f\\u043a\", \"\\u0441\\u0442\\u0440\\u0430\\u043d\\u0430\", \"\\u0441\\u0442\\u0440\\u0430\\u043d\\u0430\", \"\\u0441\\u0442\\u0440\\u0430\\u043d\\u0430\", \"\\u0441\\u0442\\u0440\\u0430\\u0448\\u043d\\u043e\", \"\\u0441\\u0442\\u0440\\u0430\\u0448\\u043d\\u043e\", \"\\u0441\\u0442\\u0440\\u0430\\u0448\\u043d\\u043e\", \"\\u0441\\u0442\\u0440\\u0430\\u0448\\u043d\\u043e\", \"\\u0441\\u0443\\u0431\\u0431\\u043e\\u0442\\u0430\", \"\\u0441\\u0443\\u0431\\u0431\\u043e\\u0442\\u0430\", \"\\u0441\\u0443\\u0431\\u0431\\u043e\\u0442\\u0430\", \"\\u0441\\u0443\\u043a\\u0430\", \"\\u0441\\u0443\\u043a\\u0430\", \"\\u0441\\u0443\\u043a\\u0430\", \"\\u0441\\u0443\\u043f\\u0435\\u0440\", \"\\u0441\\u0443\\u043f\\u0435\\u0440\", \"\\u0441\\u0443\\u043f\\u0435\\u0440\", \"\\u0441\\u0443\\u043f\\u0435\\u0440\", \"\\u0441\\u0443\\u0447\\u043a\\u0430\", \"\\u0441\\u0443\\u0447\\u043a\\u0430\", \"\\u0441\\u0443\\u0447\\u043a\\u0430\", \"\\u0441\\u0443\\u0447\\u043a\\u0430\", \"\\u0441\\u044a\\u0435\\u0445\\u0430\\u0442\\u044c\", \"\\u0441\\u044a\\u0435\\u0445\\u0430\\u0442\\u044c\", \"\\u0441\\u044a\\u0435\\u0445\\u0430\\u0442\\u044c\", \"\\u0442\\u0430\\u043a\\u0438\", \"\\u0442\\u0430\\u043a\\u0438\", \"\\u0442\\u0430\\u043a\\u0438\", \"\\u0442\\u0430\\u043a\\u0438\", \"\\u0442\\u0432\\u0438\\u0442\\u0442\\u0435\\u0440\", \"\\u0442\\u0432\\u0438\\u0442\\u0442\\u0435\\u0440\", \"\\u0442\\u0432\\u0438\\u0442\\u0442\\u0435\\u0440\", \"\\u0442\\u0432\\u043e\\u0439\", \"\\u0442\\u0432\\u043e\\u0439\", \"\\u0442\\u0432\\u043e\\u0439\", \"\\u0442\\u0432\\u043e\\u0440\\u0438\\u0442\\u044c\\u0441\\u044f\", \"\\u0442\\u0432\\u043e\\u0440\\u0438\\u0442\\u044c\\u0441\\u044f\", \"\\u0442\\u0432\\u043e\\u0440\\u0438\\u0442\\u044c\\u0441\\u044f\", \"\\u0442\\u0435\\u043b\\u0435\\u0444\\u043e\\u043d\", \"\\u0442\\u0435\\u043b\\u0435\\u0444\\u043e\\u043d\", \"\\u0442\\u0435\\u043b\\u0435\\u0444\\u043e\\u043d\", \"\\u0442\\u0435\\u043c\\u0430\", \"\\u0442\\u0435\\u043c\\u0430\", \"\\u0442\\u0435\\u043c\\u0430\", \"\\u0442\\u0435\\u043c\\u0430\", \"\\u0442\\u0438\\u043f\", \"\\u0442\\u0438\\u043f\", \"\\u0442\\u0438\\u043f\", \"\\u0442\\u043e\\u043f\\u0438\\u043a\\u0430\", \"\\u0442\\u043e\\u043f\\u0438\\u043a\\u0430\", \"\\u0442\\u043e\\u043f\\u0438\\u043a\\u0430\", \"\\u0442\\u043e\\u0441\\u043a\\u0430\", \"\\u0442\\u043e\\u0441\\u043a\\u0430\", \"\\u0442\\u043e\\u0441\\u043a\\u0430\", \"\\u0442\\u043e\\u0447\\u043d\\u043e\", \"\\u0442\\u043e\\u0447\\u043d\\u043e\", \"\\u0442\\u043e\\u0447\\u043d\\u043e\", \"\\u0442\\u0443\\u043f\\u043e\", \"\\u0442\\u0443\\u043f\\u043e\", \"\\u0442\\u0443\\u043f\\u043e\", \"\\u0443\\u0431\\u0438\\u0442\\u044c\", \"\\u0443\\u0431\\u0438\\u0442\\u044c\", \"\\u0443\\u0431\\u0438\\u0442\\u044c\", \"\\u0443\\u0432\\u0438\\u0434\\u0435\\u0442\\u044c\", \"\\u0443\\u0432\\u0438\\u0434\\u0435\\u0442\\u044c\", \"\\u0443\\u0432\\u0438\\u0434\\u0435\\u0442\\u044c\", \"\\u0443\\u0433\\u043e\\u043b\", \"\\u0443\\u0433\\u043e\\u043b\", \"\\u0443\\u0433\\u043e\\u043b\", \"\\u0443\\u0435\\u0445\\u0430\\u0442\\u044c\", \"\\u0443\\u0435\\u0445\\u0430\\u0442\\u044c\", \"\\u0443\\u0435\\u0445\\u0430\\u0442\\u044c\", \"\\u0443\\u0436\\u0430\\u0441\", \"\\u0443\\u0436\\u0430\\u0441\", \"\\u0443\\u0436\\u0430\\u0441\", \"\\u0443\\u0436\\u0430\\u0441\\u043d\\u043e\", \"\\u0443\\u0436\\u0430\\u0441\\u043d\\u043e\", \"\\u0443\\u0436\\u0430\\u0441\\u043d\\u043e\", \"\\u0443\\u0436\\u0430\\u0441\\u043d\\u044b\\u0439\", \"\\u0443\\u0436\\u0430\\u0441\\u043d\\u044b\\u0439\", \"\\u0443\\u0436\\u0430\\u0441\\u043d\\u044b\\u0439\", \"\\u0443\\u0436\\u0438\\u043d\", \"\\u0443\\u0436\\u0438\\u043d\", \"\\u0443\\u0436\\u0438\\u043d\", \"\\u0443\\u0439\\u0442\\u0438\", \"\\u0443\\u0439\\u0442\\u0438\", \"\\u0443\\u0439\\u0442\\u0438\", \"\\u0443\\u043b\\u0438\\u0446\\u0430\", \"\\u0443\\u043b\\u0438\\u0446\\u0430\", \"\\u0443\\u043b\\u0438\\u0446\\u0430\", \"\\u0443\\u043c\", \"\\u0443\\u043c\", \"\\u0443\\u043c\", \"\\u0443\\u043c\", \"\\u0443\\u0440\\u043e\\u043a\", \"\\u0443\\u0440\\u043e\\u043a\", \"\\u0443\\u0440\\u043e\\u043a\", \"\\u0443\\u0441\", \"\\u0443\\u0441\", \"\\u0443\\u0441\", \"\\u0443\\u0441\\u043d\\u0443\\u0442\\u044c\", \"\\u0443\\u0441\\u043d\\u0443\\u0442\\u044c\", \"\\u0443\\u0441\\u043d\\u0443\\u0442\\u044c\", \"\\u0443\\u0441\\u0442\\u0430\\u0442\\u044c\", \"\\u0443\\u0441\\u0442\\u0430\\u0442\\u044c\", \"\\u0443\\u0441\\u0442\\u0430\\u0442\\u044c\", \"\\u0443\\u0442\\u0440\\u043e\", \"\\u0443\\u0442\\u0440\\u043e\", \"\\u0443\\u0442\\u0440\\u043e\", \"\\u0443\\u0442\\u0440\\u043e\\u043c\", \"\\u0443\\u0442\\u0440\\u043e\\u043c\", \"\\u0443\\u0442\\u0440\\u043e\\u043c\", \"\\u0443\\u0442\\u0440\\u043e\\u043c\", \"\\u0443\\u0445\\u043e\", \"\\u0443\\u0445\\u043e\", \"\\u0443\\u0445\\u043e\", \"\\u0443\\u0445\\u043e\", \"\\u0443\\u0447\\u0438\\u0442\\u044c\", \"\\u0443\\u0447\\u0438\\u0442\\u044c\", \"\\u0443\\u0447\\u0438\\u0442\\u044c\", \"\\u0443\\u0447\\u0451\\u0431\\u0430\", \"\\u0443\\u0447\\u0451\\u0431\\u0430\", \"\\u0443\\u0447\\u0451\\u0431\\u0430\", \"\\u0444\\u0430\\u043a\\u0442\", \"\\u0444\\u0430\\u043a\\u0442\", \"\\u0444\\u0430\\u043a\\u0442\", \"\\u0444\\u0430\\u043a\\u0442\", \"\\u0444\\u0438\\u0433\\u043d\\u044f\", \"\\u0444\\u0438\\u0433\\u043d\\u044f\", \"\\u0444\\u0438\\u0433\\u043d\\u044f\", \"\\u0444\\u0438\\u0437\\u0438\\u043a\\u0430\", \"\\u0444\\u0438\\u0437\\u0438\\u043a\\u0430\", \"\\u0444\\u0438\\u0437\\u0438\\u043a\\u0430\", \"\\u0444\\u0438\\u043b\\u044c\\u043c\", \"\\u0444\\u0438\\u043b\\u044c\\u043c\", \"\\u0444\\u0438\\u043b\\u044c\\u043c\", \"\\u0444\\u0438\\u043b\\u044c\\u043c\", \"\\u0444\\u043e\\u0442\\u043a\\u0430\", \"\\u0444\\u043e\\u0442\\u043a\\u0430\", \"\\u0444\\u043e\\u0442\\u043a\\u0430\", \"\\u0444\\u043e\\u0442\\u043a\\u0430\", \"\\u0444\\u043e\\u0442\\u043e\", \"\\u0444\\u043e\\u0442\\u043e\", \"\\u0444\\u043e\\u0442\\u043e\", \"\\u0445\\u0432\\u0430\\u0442\\u0438\\u0442\\u044c\", \"\\u0445\\u0432\\u0430\\u0442\\u0438\\u0442\\u044c\", \"\\u0445\\u0432\\u0430\\u0442\\u0438\\u0442\\u044c\", \"\\u0445\\u043e\\u0434\\u0438\\u0442\\u044c\", \"\\u0445\\u043e\\u0434\\u0438\\u0442\\u044c\", \"\\u0445\\u043e\\u0434\\u0438\\u0442\\u044c\", \"\\u0445\\u043e\\u043a\\u043a\\u0435\\u0439\", \"\\u0445\\u043e\\u043a\\u043a\\u0435\\u0439\", \"\\u0445\\u043e\\u043a\\u043a\\u0435\\u0439\", \"\\u0445\\u043e\\u043b\\u043e\\u0434\\u043d\\u043e\", \"\\u0445\\u043e\\u043b\\u043e\\u0434\\u043d\\u043e\", \"\\u0445\\u043e\\u043b\\u043e\\u0434\\u043d\\u043e\", \"\\u0445\\u043e\\u043c\\u0430\", \"\\u0445\\u043e\\u043c\\u0430\", \"\\u0445\\u043e\\u043c\\u0430\", \"\\u0445\\u043e\\u0440\\u043e\\u0448\\u0438\\u0439\", \"\\u0445\\u043e\\u0440\\u043e\\u0448\\u0438\\u0439\", \"\\u0445\\u043e\\u0440\\u043e\\u0448\\u0438\\u0439\", \"\\u0445\\u043e\\u0440\\u043e\\u0448\\u0438\\u0439\", \"\\u0445\\u043e\\u0442\\u0435\\u0442\\u044c\", \"\\u0445\\u043e\\u0442\\u0435\\u0442\\u044c\", \"\\u0445\\u043e\\u0442\\u0435\\u0442\\u044c\", \"\\u0445\\u043e\\u0442\\u0435\\u0442\\u044c\", \"\\u0445\\u043e\\u0442\\u0435\\u0442\\u044c\\u0441\\u044f\", \"\\u0445\\u043e\\u0442\\u0435\\u0442\\u044c\\u0441\\u044f\", \"\\u0445\\u043e\\u0442\\u0435\\u0442\\u044c\\u0441\\u044f\", \"\\u0445\\u043e\\u0442\\u0435\\u0442\\u044c\\u0441\\u044f\", \"\\u0445\\u043e\\u0442\\u044f\", \"\\u0445\\u043e\\u0442\\u044f\", \"\\u0445\\u043e\\u0442\\u044f\", \"\\u0445\\u043e\\u0442\\u044f\", \"\\u0445\\u0443\\u0439\\u043d\\u044f\", \"\\u0445\\u0443\\u0439\\u043d\\u044f\", \"\\u0445\\u0443\\u0439\\u043d\\u044f\", \"\\u0445\\u0443\\u0439\\u043d\\u044f\", \"\\u0446\\u0435\\u043b\\u044b\\u0439\", \"\\u0446\\u0435\\u043b\\u044b\\u0439\", \"\\u0446\\u0435\\u043b\\u044b\\u0439\", \"\\u0447\\u0430\\u0441\", \"\\u0447\\u0430\\u0441\", \"\\u0447\\u0430\\u0441\", \"\\u0447\\u0430\\u0441\\u0442\\u044c\", \"\\u0447\\u0430\\u0441\\u0442\\u044c\", \"\\u0447\\u0430\\u0441\\u0442\\u044c\", \"\\u0447\\u0430\\u0441\\u0442\\u044c\", \"\\u0447\\u0435\\u043b\\u043e\\u0432\\u0435\\u043a\", \"\\u0447\\u0435\\u043b\\u043e\\u0432\\u0435\\u043a\", \"\\u0447\\u0435\\u043b\\u043e\\u0432\\u0435\\u043a\", \"\\u0447\\u0435\\u043b\\u043e\\u0432\\u0435\\u043a\", \"\\u0447\\u0435\\u0440\\u0442\\u0430\", \"\\u0447\\u0435\\u0440\\u0442\\u0430\", \"\\u0447\\u0435\\u0440\\u0442\\u0430\", \"\\u0447\\u0438\\u0442\\u0430\\u0442\\u0435\\u043b\\u044c\", \"\\u0447\\u0438\\u0442\\u0430\\u0442\\u0435\\u043b\\u044c\", \"\\u0447\\u0438\\u0442\\u0430\\u0442\\u0435\\u043b\\u044c\", \"\\u0447\\u0438\\u0442\\u0430\\u0442\\u0435\\u043b\\u044c\", \"\\u0447\\u0438\\u0442\\u0430\\u0442\\u044c\", \"\\u0447\\u0438\\u0442\\u0430\\u0442\\u044c\", \"\\u0447\\u0438\\u0442\\u0430\\u0442\\u044c\", \"\\u0447\\u0443\\u0432\\u0441\\u0442\\u0432\\u043e\", \"\\u0447\\u0443\\u0432\\u0441\\u0442\\u0432\\u043e\", \"\\u0447\\u0443\\u0432\\u0441\\u0442\\u0432\\u043e\", \"\\u0447\\u0451\\u0440\\u043d\\u044b\\u0439\", \"\\u0447\\u0451\\u0440\\u043d\\u044b\\u0439\", \"\\u0447\\u0451\\u0440\\u043d\\u044b\\u0439\", \"\\u0448\\u043a\\u043e\\u043b\\u0430\", \"\\u0448\\u043a\\u043e\\u043b\\u0430\", \"\\u0448\\u043a\\u043e\\u043b\\u0430\", \"\\u0448\\u043a\\u043e\\u043b\\u0430\", \"\\u0448\\u043a\\u043e\\u043b\\u043e\\u0442\\u044b\\u0439\", \"\\u0448\\u043a\\u043e\\u043b\\u043e\\u0442\\u044b\\u0439\", \"\\u0448\\u043a\\u043e\\u043b\\u043e\\u0442\\u044b\\u0439\", \"\\u0448\\u0443\\u0442\", \"\\u0448\\u0443\\u0442\", \"\\u0448\\u0443\\u0442\", \"\\u0448\\u0443\\u0442\\u0438\\u0442\\u044c\", \"\\u0448\\u0443\\u0442\\u0438\\u0442\\u044c\", \"\\u0448\\u0443\\u0442\\u0438\\u0442\\u044c\", \"\\u0448\\u0443\\u0442\\u0438\\u0442\\u044c\", \"\\u044d\\u043a\\u0437\\u0430\\u043c\\u0435\\u043d\", \"\\u044d\\u043a\\u0437\\u0430\\u043c\\u0435\\u043d\", \"\\u044d\\u043a\\u0437\\u0430\\u043c\\u0435\\u043d\", \"\\u044d\\u0442\\u043e\", \"\\u044d\\u0442\\u043e\", \"\\u044d\\u0442\\u043e\", \"\\u044d\\u0442\\u043e\"]}, \"R\": 30, \"lambda.step\": 0.01, \"plot.opts\": {\"xlab\": \"PC1\", \"ylab\": \"PC2\"}, \"topic.order\": [12, 19, 20, 3, 17, 14, 16, 8, 7, 6, 1, 13, 2, 5, 9, 11, 10, 15, 18, 4]};\n",
              "\n",
              "function LDAvis_load_lib(url, callback){\n",
              "  var s = document.createElement('script');\n",
              "  s.src = url;\n",
              "  s.async = true;\n",
              "  s.onreadystatechange = s.onload = callback;\n",
              "  s.onerror = function(){console.warn(\"failed to load library \" + url);};\n",
              "  document.getElementsByTagName(\"head\")[0].appendChild(s);\n",
              "}\n",
              "\n",
              "if(typeof(LDAvis) !== \"undefined\"){\n",
              "   // already loaded: just create the visualization\n",
              "   !function(LDAvis){\n",
              "       new LDAvis(\"#\" + \"ldavis_el7821394569239629441986235792\", ldavis_el7821394569239629441986235792_data);\n",
              "   }(LDAvis);\n",
              "}else if(typeof define === \"function\" && define.amd){\n",
              "   // require.js is available: use it to load d3/LDAvis\n",
              "   require.config({paths: {d3: \"https://d3js.org/d3.v5\"}});\n",
              "   require([\"d3\"], function(d3){\n",
              "      window.d3 = d3;\n",
              "      LDAvis_load_lib(\"https://cdn.jsdelivr.net/gh/bmabey/pyLDAvis@3.4.0/pyLDAvis/js/ldavis.v3.0.0.js\", function(){\n",
              "        new LDAvis(\"#\" + \"ldavis_el7821394569239629441986235792\", ldavis_el7821394569239629441986235792_data);\n",
              "      });\n",
              "    });\n",
              "}else{\n",
              "    // require.js not available: dynamically load d3 & LDAvis\n",
              "    LDAvis_load_lib(\"https://d3js.org/d3.v5.js\", function(){\n",
              "         LDAvis_load_lib(\"https://cdn.jsdelivr.net/gh/bmabey/pyLDAvis@3.4.0/pyLDAvis/js/ldavis.v3.0.0.js\", function(){\n",
              "                 new LDAvis(\"#\" + \"ldavis_el7821394569239629441986235792\", ldavis_el7821394569239629441986235792_data);\n",
              "            })\n",
              "         });\n",
              "}\n",
              "</script>"
            ]
          },
          "metadata": {},
          "execution_count": 23
        }
      ]
    },
    {
      "cell_type": "code",
      "source": [
        "print('Perplexity: ', np.exp(lda.log_perplexity(corpus)))"
      ],
      "metadata": {
        "colab": {
          "base_uri": "https://localhost:8080/"
        },
        "id": "SznaXzBqieVF",
        "outputId": "1c290691-0922-4c14-e3b0-5ce00aebc3c6"
      },
      "execution_count": 27,
      "outputs": [
        {
          "output_type": "stream",
          "name": "stdout",
          "text": [
            "Perplexity:  3.721755974075798e-12\n"
          ]
        }
      ]
    },
    {
      "cell_type": "code",
      "source": [
        "coherence_model_lda = CoherenceModel(model=lda, texts=df['preprocessed_text'],\n",
        "                                     dictionary=dictionary, coherence='c_v')\n",
        "coherence_lda = coherence_model_lda.get_coherence()\n",
        "print('Average coherence: ', coherence_lda)"
      ],
      "metadata": {
        "colab": {
          "base_uri": "https://localhost:8080/"
        },
        "id": "Q5R4ihsYihp7",
        "outputId": "fff5022e-747a-48ae-f115-b5ede6983f55"
      },
      "execution_count": 28,
      "outputs": [
        {
          "output_type": "stream",
          "name": "stdout",
          "text": [
            "Average coherence:  0.321211486570233\n"
          ]
        }
      ]
    }
  ]
}