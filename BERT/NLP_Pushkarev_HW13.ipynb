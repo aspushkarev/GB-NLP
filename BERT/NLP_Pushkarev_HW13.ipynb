{
  "nbformat": 4,
  "nbformat_minor": 0,
  "metadata": {
    "colab": {
      "provenance": [],
      "gpuType": "T4"
    },
    "kernelspec": {
      "name": "python3",
      "display_name": "Python 3"
    },
    "language_info": {
      "name": "python"
    },
    "accelerator": "GPU"
  },
  "cells": [
    {
      "cell_type": "markdown",
      "source": [
        "Взять датасет https://huggingface.co/datasets/merionum/ru_paraphraser решить задачу парафраза\n",
        "\n",
        "(дополнительно необязательная задача)на выбор взять https://huggingface.co/datasets/sberquad https://huggingface.co/datasets/blinoff/medical_qa_ru_data натренировать любую модель для вопросно ответной системы как альтернатива можно взять любой NER датасет из https://github.com/natasha/corus#reference и обучить NER"
      ],
      "metadata": {
        "id": "Hla0MnFc5dhz"
      }
    },
    {
      "cell_type": "code",
      "source": [
        "!pip install -q -U transformers\n",
        "!pip install -q datasets"
      ],
      "metadata": {
        "id": "WGtJtDkcVf-o"
      },
      "execution_count": 1,
      "outputs": []
    },
    {
      "cell_type": "code",
      "execution_count": 2,
      "metadata": {
        "id": "e772Pds904ax"
      },
      "outputs": [],
      "source": [
        "import numpy as np\n",
        "import pandas as pd\n",
        "import torch\n",
        "from datasets import load_dataset, load_metric\n",
        "from transformers import AutoTokenizer, AutoModelForSequenceClassification\n",
        "from transformers import  TrainingArguments, Trainer, DataCollatorWithPadding"
      ]
    },
    {
      "cell_type": "code",
      "source": [
        "corpus = load_dataset('merionum/ru_paraphraser')"
      ],
      "metadata": {
        "id": "dGOj-l5pVDCz"
      },
      "execution_count": 3,
      "outputs": []
    },
    {
      "cell_type": "code",
      "source": [
        "corpus"
      ],
      "metadata": {
        "colab": {
          "base_uri": "https://localhost:8080/"
        },
        "id": "z2KlApvXmByR",
        "outputId": "93785a6a-8f75-400d-e4e6-af0026525a63"
      },
      "execution_count": 4,
      "outputs": [
        {
          "output_type": "execute_result",
          "data": {
            "text/plain": [
              "DatasetDict({\n",
              "    train: Dataset({\n",
              "        features: ['id', 'id_1', 'id_2', 'text_1', 'text_2', 'class'],\n",
              "        num_rows: 7227\n",
              "    })\n",
              "    test: Dataset({\n",
              "        features: ['id', 'id_1', 'id_2', 'text_1', 'text_2', 'class'],\n",
              "        num_rows: 1924\n",
              "    })\n",
              "})"
            ]
          },
          "metadata": {},
          "execution_count": 4
        }
      ]
    },
    {
      "cell_type": "code",
      "source": [
        "model_name = \"IlyaGusev/xlm_roberta_large_headline_cause_simple\""
      ],
      "metadata": {
        "id": "6LtHEppQl5pK"
      },
      "execution_count": 5,
      "outputs": []
    },
    {
      "cell_type": "code",
      "source": [
        "tokenizer = AutoTokenizer.from_pretrained(model_name)"
      ],
      "metadata": {
        "id": "MoC5nmBolmM9"
      },
      "execution_count": 6,
      "outputs": []
    },
    {
      "cell_type": "code",
      "source": [
        "label_list = sorted(set(corpus['train']['class']))\n",
        "label_list"
      ],
      "metadata": {
        "colab": {
          "base_uri": "https://localhost:8080/"
        },
        "id": "K5qdHLTTlj7c",
        "outputId": "0f4cea9f-b1f4-48c2-f961-8eae577bd97c"
      },
      "execution_count": 7,
      "outputs": [
        {
          "output_type": "execute_result",
          "data": {
            "text/plain": [
              "['-1', '0', '1']"
            ]
          },
          "metadata": {},
          "execution_count": 7
        }
      ]
    },
    {
      "cell_type": "code",
      "source": [
        "labels2id = { key:id for id, key in enumerate(label_list)}\n",
        "labels2id"
      ],
      "metadata": {
        "colab": {
          "base_uri": "https://localhost:8080/"
        },
        "id": "QETqD5folh2Y",
        "outputId": "917b59f8-c2b8-4df6-d8e9-900c663a9c8e"
      },
      "execution_count": 8,
      "outputs": [
        {
          "output_type": "execute_result",
          "data": {
            "text/plain": [
              "{'-1': 0, '0': 1, '1': 2}"
            ]
          },
          "metadata": {},
          "execution_count": 8
        }
      ]
    },
    {
      "cell_type": "code",
      "source": [
        "id2labels = { id:key for id, key in enumerate(label_list)}\n",
        "id2labels"
      ],
      "metadata": {
        "colab": {
          "base_uri": "https://localhost:8080/"
        },
        "id": "_iiP6ZYplgLR",
        "outputId": "e495e609-1ce7-4059-e9fa-7bd8b6799111"
      },
      "execution_count": 9,
      "outputs": [
        {
          "output_type": "execute_result",
          "data": {
            "text/plain": [
              "{0: '-1', 1: '0', 2: '1'}"
            ]
          },
          "metadata": {},
          "execution_count": 9
        }
      ]
    },
    {
      "cell_type": "code",
      "source": [
        "def tokenize_and_align_labels(tokenizer, labels2id):\n",
        "    def tokenize_and_align_labels_(examples):\n",
        "        tokenized_inputs = tokenizer(examples['text_1'],examples['text_2'], truncation=True)\n",
        "        tokenized_inputs[\"labels\"] = [labels2id[label] for label in examples['class']]\n",
        "        return tokenized_inputs\n",
        "    return tokenize_and_align_labels_"
      ],
      "metadata": {
        "id": "VIdHPFq-lXPc"
      },
      "execution_count": 10,
      "outputs": []
    },
    {
      "cell_type": "code",
      "source": [
        "tokenized_input = tokenize_and_align_labels(tokenizer, labels2id)(corpus['train'][20:24])\n",
        "tokenized_input"
      ],
      "metadata": {
        "colab": {
          "base_uri": "https://localhost:8080/"
        },
        "id": "Ri3CPTbslUMs",
        "outputId": "43245cad-d22d-4ce2-ee92-f818beac50ff"
      },
      "execution_count": 11,
      "outputs": [
        {
          "output_type": "execute_result",
          "data": {
            "text/plain": [
              "{'input_ids': [[0, 18449, 1068, 1951, 169066, 59, 42136, 59392, 529, 68056, 49869, 159288, 6, 32345, 14539, 25455, 5, 2, 2, 6, 144048, 145158, 184643, 18449, 28196, 529, 68056, 49869, 159288, 6, 32345, 14539, 25455, 5, 2], [0, 417, 33372, 526, 70847, 132653, 326, 175857, 529, 861, 29034, 7329, 155333, 24863, 5, 2, 2, 417, 33372, 526, 70847, 132653, 326, 175857, 529, 861, 29034, 534, 11591, 149673, 5, 2], [0, 417, 14100, 695, 1200, 49, 30037, 1269, 326, 3699, 108854, 1857, 56869, 90229, 546, 209, 9561, 5, 2, 2, 417, 68642, 69, 53177, 29, 108854, 1857, 47745, 49, 14100, 695, 1200, 90229, 546, 209, 9561, 5, 2], [0, 72085, 138109, 87830, 29, 23262, 2294, 90569, 11974, 24744, 59, 161679, 8568, 5, 2, 2, 69242, 64393, 41976, 4560, 1560, 182076, 29, 29230, 23262, 49, 72085, 138109, 5, 2]], 'attention_mask': [[1, 1, 1, 1, 1, 1, 1, 1, 1, 1, 1, 1, 1, 1, 1, 1, 1, 1, 1, 1, 1, 1, 1, 1, 1, 1, 1, 1, 1, 1, 1, 1, 1, 1, 1], [1, 1, 1, 1, 1, 1, 1, 1, 1, 1, 1, 1, 1, 1, 1, 1, 1, 1, 1, 1, 1, 1, 1, 1, 1, 1, 1, 1, 1, 1, 1, 1], [1, 1, 1, 1, 1, 1, 1, 1, 1, 1, 1, 1, 1, 1, 1, 1, 1, 1, 1, 1, 1, 1, 1, 1, 1, 1, 1, 1, 1, 1, 1, 1, 1, 1, 1, 1, 1, 1], [1, 1, 1, 1, 1, 1, 1, 1, 1, 1, 1, 1, 1, 1, 1, 1, 1, 1, 1, 1, 1, 1, 1, 1, 1, 1, 1, 1, 1, 1]], 'labels': [1, 2, 2, 2]}"
            ]
          },
          "metadata": {},
          "execution_count": 11
        }
      ]
    },
    {
      "cell_type": "code",
      "source": [
        "tokens = tokenizer.convert_ids_to_tokens(tokenized_input[\"input_ids\"][1])\n",
        "print(tokens)"
      ],
      "metadata": {
        "colab": {
          "base_uri": "https://localhost:8080/"
        },
        "id": "0ZDGIKkNlRsR",
        "outputId": "3a0518be-6561-4f11-8bc4-021d7ad9425a"
      },
      "execution_count": 12,
      "outputs": [
        {
          "output_type": "stream",
          "name": "stdout",
          "text": [
            "['<s>', '▁В', '▁нового', 'д', 'нюю', '▁ночь', '▁во', '▁Франции', '▁со', 'ж', 'гли', '▁больше', '▁тысячи', '▁машин', '.', '</s>', '</s>', '▁В', '▁нового', 'д', 'нюю', '▁ночь', '▁во', '▁Франции', '▁со', 'ж', 'гли', '▁11', '93', '▁автомобиля', '.', '</s>']\n"
          ]
        }
      ]
    },
    {
      "cell_type": "code",
      "source": [
        "corpus['train'][20]"
      ],
      "metadata": {
        "colab": {
          "base_uri": "https://localhost:8080/"
        },
        "id": "VyO1P62BlOjI",
        "outputId": "09aa0187-92f2-462f-9ea7-9c114f578e04"
      },
      "execution_count": 13,
      "outputs": [
        {
          "output_type": "execute_result",
          "data": {
            "text/plain": [
              "{'id': '21',\n",
              " 'id_1': '3',\n",
              " 'id_2': '4116',\n",
              " 'text_1': 'Чечня попросила националистов составить кодекс поведения кавказцев.',\n",
              " 'text_2': 'Националисты помогут Чечне составить кодекс поведения кавказцев.',\n",
              " 'class': '0'}"
            ]
          },
          "metadata": {},
          "execution_count": 13
        }
      ]
    },
    {
      "cell_type": "code",
      "source": [
        "tokenized_datasets = corpus.map(tokenize_and_align_labels(tokenizer, labels2id), batched=True)\n",
        "tokenized_datasets"
      ],
      "metadata": {
        "colab": {
          "base_uri": "https://localhost:8080/"
        },
        "id": "S2mLPl3nlE8A",
        "outputId": "c454e2ea-5f36-46d8-fdf7-9b3fe4f7a3ce"
      },
      "execution_count": 14,
      "outputs": [
        {
          "output_type": "execute_result",
          "data": {
            "text/plain": [
              "DatasetDict({\n",
              "    train: Dataset({\n",
              "        features: ['id', 'id_1', 'id_2', 'text_1', 'text_2', 'class', 'input_ids', 'attention_mask', 'labels'],\n",
              "        num_rows: 7227\n",
              "    })\n",
              "    test: Dataset({\n",
              "        features: ['id', 'id_1', 'id_2', 'text_1', 'text_2', 'class', 'input_ids', 'attention_mask', 'labels'],\n",
              "        num_rows: 1924\n",
              "    })\n",
              "})"
            ]
          },
          "metadata": {},
          "execution_count": 14
        }
      ]
    },
    {
      "cell_type": "code",
      "source": [
        "data_collator = DataCollatorWithPadding(tokenizer=tokenizer)"
      ],
      "metadata": {
        "id": "UtCP-4dYk27A"
      },
      "execution_count": 15,
      "outputs": []
    },
    {
      "cell_type": "code",
      "source": [
        "model = AutoModelForSequenceClassification.from_pretrained(model_name, num_labels=len(label_list), is_decoder=True)\n",
        "\n",
        "model.config.id2label = id2labels\n",
        "model.config.label2id = labels2id"
      ],
      "metadata": {
        "id": "FxIi5_l7kqwD"
      },
      "execution_count": 16,
      "outputs": []
    },
    {
      "cell_type": "code",
      "source": [
        "metric = load_metric(\"accuracy\")"
      ],
      "metadata": {
        "colab": {
          "base_uri": "https://localhost:8080/"
        },
        "id": "iLDgWE48kfnK",
        "outputId": "8e7c2079-8bf2-4fc6-ab1e-dd42994261a5"
      },
      "execution_count": 17,
      "outputs": [
        {
          "output_type": "stream",
          "name": "stderr",
          "text": [
            "<ipython-input-17-21f3ecd7ee32>:1: FutureWarning: load_metric is deprecated and will be removed in the next major version of datasets. Use 'evaluate.load' instead, from the new library 🤗 Evaluate: https://huggingface.co/docs/evaluate\n",
            "  metric = load_metric(\"accuracy\")\n"
          ]
        }
      ]
    },
    {
      "cell_type": "code",
      "source": [
        "def compute_metrics(eval_pred):\n",
        "    logits, labels = eval_pred\n",
        "    predictions = np.argmax(logits, axis=-1)\n",
        "    return metric.compute(predictions=predictions, references=labels)"
      ],
      "metadata": {
        "id": "PAVezsKOkXMn"
      },
      "execution_count": 18,
      "outputs": []
    },
    {
      "cell_type": "code",
      "source": [
        "!pip install transformers[torch]"
      ],
      "metadata": {
        "id": "qRxI232msx7V"
      },
      "execution_count": null,
      "outputs": []
    },
    {
      "cell_type": "code",
      "source": [
        "!pip install accelerate"
      ],
      "metadata": {
        "id": "zaFMu67KByht"
      },
      "execution_count": null,
      "outputs": []
    },
    {
      "cell_type": "code",
      "source": [
        "batch_size = 16\n",
        "epochs = 4\n",
        "\n",
        "args = TrainingArguments(\"paraphras\",\n",
        "                         evaluation_strategy=\"epoch\",\n",
        "                         learning_rate=2e-6,\n",
        "                         per_device_train_batch_size=batch_size,\n",
        "                         per_device_eval_batch_size=batch_size,\n",
        "                         num_train_epochs=epochs,\n",
        "                         weight_decay=0.05,\n",
        "                         save_strategy='no',\n",
        "                         report_to='none')"
      ],
      "metadata": {
        "id": "BkQbkpqpkUEP"
      },
      "execution_count": 21,
      "outputs": []
    },
    {
      "cell_type": "code",
      "source": [
        "trainer = Trainer(model,\n",
        "                  args,\n",
        "                  train_dataset=tokenized_datasets[\"train\"],\n",
        "                  eval_dataset=tokenized_datasets[\"test\"],\n",
        "                  data_collator=data_collator,\n",
        "                  tokenizer=tokenizer,\n",
        "                  compute_metrics=compute_metrics)"
      ],
      "metadata": {
        "id": "R17vl_2KkRkk"
      },
      "execution_count": 22,
      "outputs": []
    },
    {
      "cell_type": "code",
      "source": [
        "%%time\n",
        "\n",
        "trainer.train()"
      ],
      "metadata": {
        "colab": {
          "base_uri": "https://localhost:8080/",
          "height": 304
        },
        "id": "NP8w2p_ukN9X",
        "outputId": "7e04451d-4022-4b0d-977b-fcb659b8b92c"
      },
      "execution_count": 23,
      "outputs": [
        {
          "output_type": "stream",
          "name": "stderr",
          "text": [
            "You're using a XLMRobertaTokenizerFast tokenizer. Please note that with a fast tokenizer, using the `__call__` method is faster than using a method to encode the text followed by a call to the `pad` method to get a padded encoding.\n"
          ]
        },
        {
          "output_type": "display_data",
          "data": {
            "text/plain": [
              "<IPython.core.display.HTML object>"
            ],
            "text/html": [
              "\n",
              "    <div>\n",
              "      \n",
              "      <progress value='1808' max='1808' style='width:300px; height:20px; vertical-align: middle;'></progress>\n",
              "      [1808/1808 19:45, Epoch 4/4]\n",
              "    </div>\n",
              "    <table border=\"1\" class=\"dataframe\">\n",
              "  <thead>\n",
              " <tr style=\"text-align: left;\">\n",
              "      <th>Epoch</th>\n",
              "      <th>Training Loss</th>\n",
              "      <th>Validation Loss</th>\n",
              "      <th>Accuracy</th>\n",
              "    </tr>\n",
              "  </thead>\n",
              "  <tbody>\n",
              "    <tr>\n",
              "      <td>1</td>\n",
              "      <td>No log</td>\n",
              "      <td>1.062728</td>\n",
              "      <td>0.404366</td>\n",
              "    </tr>\n",
              "    <tr>\n",
              "      <td>2</td>\n",
              "      <td>1.105200</td>\n",
              "      <td>1.056083</td>\n",
              "      <td>0.404366</td>\n",
              "    </tr>\n",
              "    <tr>\n",
              "      <td>3</td>\n",
              "      <td>1.083200</td>\n",
              "      <td>1.058093</td>\n",
              "      <td>0.404366</td>\n",
              "    </tr>\n",
              "    <tr>\n",
              "      <td>4</td>\n",
              "      <td>1.081700</td>\n",
              "      <td>1.058970</td>\n",
              "      <td>0.404366</td>\n",
              "    </tr>\n",
              "  </tbody>\n",
              "</table><p>"
            ]
          },
          "metadata": {}
        },
        {
          "output_type": "stream",
          "name": "stdout",
          "text": [
            "CPU times: user 17min 19s, sys: 2min 1s, total: 19min 20s\n",
            "Wall time: 19min 46s\n"
          ]
        },
        {
          "output_type": "execute_result",
          "data": {
            "text/plain": [
              "TrainOutput(global_step=1808, training_loss=1.0894410293714134, metrics={'train_runtime': 1186.6266, 'train_samples_per_second': 24.361, 'train_steps_per_second': 1.524, 'total_flos': 2425865579130252.0, 'train_loss': 1.0894410293714134, 'epoch': 4.0})"
            ]
          },
          "metadata": {},
          "execution_count": 23
        }
      ]
    },
    {
      "cell_type": "code",
      "source": [
        "example = tokenized_datasets[\"test\"][40:80]"
      ],
      "metadata": {
        "id": "BJsSiDDUkKy_"
      },
      "execution_count": null,
      "outputs": []
    },
    {
      "cell_type": "code",
      "source": [
        "tokens = tokenizer(example['text_1'], example['text_1'], padding=True, truncation=True, return_tensors='pt')\n",
        "tokens = tokens.to('cuda:0')\n",
        "\n",
        "with torch.no_grad():\n",
        "    outputs = model(**tokens)\n",
        "\n",
        "predicted = outputs.logits.argmax(dim=-1).cpu().numpy()\n",
        "classes = [id2labels[id_label] for id_label in predicted]"
      ],
      "metadata": {
        "id": "ZLe_Ac2TkAJH"
      },
      "execution_count": 25,
      "outputs": []
    },
    {
      "cell_type": "code",
      "source": [
        "df_example =pd.DataFrame({'text_1':example['text_1'], 'text_2':example['text_2'],\n",
        "                          'class':example['class'], 'predict':classes})\n",
        "df_example"
      ],
      "metadata": {
        "colab": {
          "base_uri": "https://localhost:8080/",
          "height": 1000
        },
        "id": "VkDlNwuGcFNv",
        "outputId": "c766c767-7806-451d-eff0-ca4781d91449"
      },
      "execution_count": 26,
      "outputs": [
        {
          "output_type": "execute_result",
          "data": {
            "text/plain": [
              "                                               text_1  \\\n",
              "0   Владимир Путин освободил от должности почти 20...   \n",
              "1   Источник: Якунин озвучил свою месячную зарплат...   \n",
              "2            Apple получила патент на социальную сеть   \n",
              "3   Подвесной потолок обрушился в аэропорту Стамбу...   \n",
              "4        Россия представляет принципиально новый танк   \n",
              "5   Генсек ООН и премьер Украины обсудили минские ...   \n",
              "6   Результаты выборов в Великобритании укрепили фунт   \n",
              "7   Николич: Сербия не говорила о нежелании строит...   \n",
              "8   СМИ сообщают об обысках в Минкульте по делу о ...   \n",
              "9    Любляна отпразднует День Победы вместе с Москвой   \n",
              "10  Премьер Словакии прибыл в Москву для участия в...   \n",
              "11  Кремль: Порошенко не был приглашен в Москву на...   \n",
              "12                «Прогресс» сгорел над Тихим океаном   \n",
              "13  Дворнику на Римского-Корсакова подкинули трехм...   \n",
              "14  СМИ: украинский боксер разгневал своих фанатов...   \n",
              "15  Самолеты коалиции начали бомбардировку йеменск...   \n",
              "16  Греция подтвердила США интерес к газопроводу о...   \n",
              "17  Хаджииоанну: США могут предложить Греции лишь ...   \n",
              "18     Разговор о роли России во Второй мировой войне   \n",
              "19  Путеводитель по Дню Победы: как провести 9 мая...   \n",
              "20  Коморовский: отсутствие Меркель в Москве 9 мая...   \n",
              "21  Аваков уволил 15 руководителей МВД Украины в р...   \n",
              "22  Бывший ядерщик обвинен в США за попытку кражи ...   \n",
              "23  Бывший ядерщик обвинен в США за попытку кражи ...   \n",
              "24  Бывший ядерщик обвинен в США за попытку кражи ...   \n",
              "25  Четыре человека погибли при крушении легкомото...   \n",
              "26  Легкомоторный самолет упал в штате Вашингтон, ...   \n",
              "27  КНДР заявила о проведении подводного запуска б...   \n",
              "28  КНДР провела испытательный подводный пуск балл...   \n",
              "29  КНДР заявила о проведении подводного запуска б...   \n",
              "30  Путеводитель по Дню Победы: как провести 9 мая...   \n",
              "31  Облака над Москвой в День Победы разгонят девя...   \n",
              "32                        День Победы в режиме онлайн   \n",
              "33              Около 40 китов погибли у берегов Чили   \n",
              "34  Принц Чарльз надеется, что внучка будет заботи...   \n",
              "35  Апакан призвал стороны украинского конфликта с...   \n",
              "36  Пентагон: США считают вероятным приобретение К...   \n",
              "37  Вице-президент Гватемалы ушла в отставку из-за...   \n",
              "38            СМИ: скончался бас-гитарист группы ABBA   \n",
              "39            СМИ: скончался бас-гитарист группы ABBA   \n",
              "\n",
              "                                               text_2 class predict  \n",
              "0   Путин снял с должностей более 20 руководителей...     0       0  \n",
              "1                 Якунин назвал размер своей зарплаты     0       0  \n",
              "2        Apple получила патент на собственную соцсеть     1       0  \n",
              "3   Четверо пострадали при обрушении подвесного по...     1       0  \n",
              "4         Вашингтон пригрозил России новыми санкциями    -1       0  \n",
              "5   Генсек ООН и премьер-министр Украины обсудили ...     1       0  \n",
              "6   Стали известны окончательные результаты выборо...    -1       0  \n",
              "7   Президент Сербии опроверг свои слова об отказе...     0       0  \n",
              "8   Минкультуры отчиталось перед следствием по дел...    -1       0  \n",
              "9   Путеводитель по Дню Победы: как провести 9 мая...    -1       0  \n",
              "10  Путеводитель по Дню Победы: как провести 9 мая...    -1       0  \n",
              "11  Путеводитель по Дню Победы: как провести 9 мая...    -1       0  \n",
              "12  Путин: кооперация с Китаем поспособствует прит...    -1       0  \n",
              "13   Светлана Медведева награждена высшим орденом РПЦ    -1       0  \n",
              "14  Украинский боксер удалил фотографию с георгиев...    -1       0  \n",
              "15  Самолеты Арабской коалиции начали бомбить йеме...     1       0  \n",
              "16  США предложили Греции отказаться от участия в ...    -1       0  \n",
              "17  США предложили Греции отказаться от участия в ...    -1       0  \n",
              "18  Консервативная партия получила большинство в б...    -1       0  \n",
              "19  Лукашенко назвал надуманной проблему своего от...    -1       0  \n",
              "20  Лукашенко назвал надуманной проблему своего от...    -1       0  \n",
              "21  Аваков уволил 15 региональных руководителей МВ...     0       0  \n",
              "22  Бывший ядерщик обвинен в США за попытку кражи ...     0       0  \n",
              "23  Бывший американский чиновник обвинен в попытке...     0       0  \n",
              "24  Бывший американский чиновник обвинен в попытке...     0       0  \n",
              "25  В США 4 человека погибли при крушении легкомот...     1       0  \n",
              "26  В США 4 человека погибли при крушении легкомот...    -1       0  \n",
              "27  КНДР провела испытательный подводный пуск балл...     1       0  \n",
              "28  КНДР сообщила о пробном запуске баллистической...     0       0  \n",
              "29  КНДР сообщила о пробном запуске баллистической...     1       0  \n",
              "30  В Москве ограничат движение в связи с Днем Победы    -1       0  \n",
              "31  В Москве ограничат движение в связи с Днем Победы    -1       0  \n",
              "32  В Москве ограничат движение в связи с Днем Победы    -1       0  \n",
              "33    Около 40 китов выбросились на берег на юге Чили     1       0  \n",
              "34      Принц Чарльз: Внучка будет заботиться обо мне     0       0  \n",
              "35            В ОБСЕ призвали к миру на Украине 9 Мая     0       0  \n",
              "36  В Пентагоне сочли вероятным приобретение Китае...     1       0  \n",
              "37  Вице-президент Гватемалы оставит свой пост из-...     0       0  \n",
              "38        В Швеции скончался бас-гитарист группы ABBA     1       0  \n",
              "39        В Швеции скончался бас-гитарист группы ABBA     1       0  "
            ],
            "text/html": [
              "\n",
              "  <div id=\"df-a11dca37-ee08-45b3-9963-06bb56e9d536\" class=\"colab-df-container\">\n",
              "    <div>\n",
              "<style scoped>\n",
              "    .dataframe tbody tr th:only-of-type {\n",
              "        vertical-align: middle;\n",
              "    }\n",
              "\n",
              "    .dataframe tbody tr th {\n",
              "        vertical-align: top;\n",
              "    }\n",
              "\n",
              "    .dataframe thead th {\n",
              "        text-align: right;\n",
              "    }\n",
              "</style>\n",
              "<table border=\"1\" class=\"dataframe\">\n",
              "  <thead>\n",
              "    <tr style=\"text-align: right;\">\n",
              "      <th></th>\n",
              "      <th>text_1</th>\n",
              "      <th>text_2</th>\n",
              "      <th>class</th>\n",
              "      <th>predict</th>\n",
              "    </tr>\n",
              "  </thead>\n",
              "  <tbody>\n",
              "    <tr>\n",
              "      <th>0</th>\n",
              "      <td>Владимир Путин освободил от должности почти 20...</td>\n",
              "      <td>Путин снял с должностей более 20 руководителей...</td>\n",
              "      <td>0</td>\n",
              "      <td>0</td>\n",
              "    </tr>\n",
              "    <tr>\n",
              "      <th>1</th>\n",
              "      <td>Источник: Якунин озвучил свою месячную зарплат...</td>\n",
              "      <td>Якунин назвал размер своей зарплаты</td>\n",
              "      <td>0</td>\n",
              "      <td>0</td>\n",
              "    </tr>\n",
              "    <tr>\n",
              "      <th>2</th>\n",
              "      <td>Apple получила патент на социальную сеть</td>\n",
              "      <td>Apple получила патент на собственную соцсеть</td>\n",
              "      <td>1</td>\n",
              "      <td>0</td>\n",
              "    </tr>\n",
              "    <tr>\n",
              "      <th>3</th>\n",
              "      <td>Подвесной потолок обрушился в аэропорту Стамбу...</td>\n",
              "      <td>Четверо пострадали при обрушении подвесного по...</td>\n",
              "      <td>1</td>\n",
              "      <td>0</td>\n",
              "    </tr>\n",
              "    <tr>\n",
              "      <th>4</th>\n",
              "      <td>Россия представляет принципиально новый танк</td>\n",
              "      <td>Вашингтон пригрозил России новыми санкциями</td>\n",
              "      <td>-1</td>\n",
              "      <td>0</td>\n",
              "    </tr>\n",
              "    <tr>\n",
              "      <th>5</th>\n",
              "      <td>Генсек ООН и премьер Украины обсудили минские ...</td>\n",
              "      <td>Генсек ООН и премьер-министр Украины обсудили ...</td>\n",
              "      <td>1</td>\n",
              "      <td>0</td>\n",
              "    </tr>\n",
              "    <tr>\n",
              "      <th>6</th>\n",
              "      <td>Результаты выборов в Великобритании укрепили фунт</td>\n",
              "      <td>Стали известны окончательные результаты выборо...</td>\n",
              "      <td>-1</td>\n",
              "      <td>0</td>\n",
              "    </tr>\n",
              "    <tr>\n",
              "      <th>7</th>\n",
              "      <td>Николич: Сербия не говорила о нежелании строит...</td>\n",
              "      <td>Президент Сербии опроверг свои слова об отказе...</td>\n",
              "      <td>0</td>\n",
              "      <td>0</td>\n",
              "    </tr>\n",
              "    <tr>\n",
              "      <th>8</th>\n",
              "      <td>СМИ сообщают об обысках в Минкульте по делу о ...</td>\n",
              "      <td>Минкультуры отчиталось перед следствием по дел...</td>\n",
              "      <td>-1</td>\n",
              "      <td>0</td>\n",
              "    </tr>\n",
              "    <tr>\n",
              "      <th>9</th>\n",
              "      <td>Любляна отпразднует День Победы вместе с Москвой</td>\n",
              "      <td>Путеводитель по Дню Победы: как провести 9 мая...</td>\n",
              "      <td>-1</td>\n",
              "      <td>0</td>\n",
              "    </tr>\n",
              "    <tr>\n",
              "      <th>10</th>\n",
              "      <td>Премьер Словакии прибыл в Москву для участия в...</td>\n",
              "      <td>Путеводитель по Дню Победы: как провести 9 мая...</td>\n",
              "      <td>-1</td>\n",
              "      <td>0</td>\n",
              "    </tr>\n",
              "    <tr>\n",
              "      <th>11</th>\n",
              "      <td>Кремль: Порошенко не был приглашен в Москву на...</td>\n",
              "      <td>Путеводитель по Дню Победы: как провести 9 мая...</td>\n",
              "      <td>-1</td>\n",
              "      <td>0</td>\n",
              "    </tr>\n",
              "    <tr>\n",
              "      <th>12</th>\n",
              "      <td>«Прогресс» сгорел над Тихим океаном</td>\n",
              "      <td>Путин: кооперация с Китаем поспособствует прит...</td>\n",
              "      <td>-1</td>\n",
              "      <td>0</td>\n",
              "    </tr>\n",
              "    <tr>\n",
              "      <th>13</th>\n",
              "      <td>Дворнику на Римского-Корсакова подкинули трехм...</td>\n",
              "      <td>Светлана Медведева награждена высшим орденом РПЦ</td>\n",
              "      <td>-1</td>\n",
              "      <td>0</td>\n",
              "    </tr>\n",
              "    <tr>\n",
              "      <th>14</th>\n",
              "      <td>СМИ: украинский боксер разгневал своих фанатов...</td>\n",
              "      <td>Украинский боксер удалил фотографию с георгиев...</td>\n",
              "      <td>-1</td>\n",
              "      <td>0</td>\n",
              "    </tr>\n",
              "    <tr>\n",
              "      <th>15</th>\n",
              "      <td>Самолеты коалиции начали бомбардировку йеменск...</td>\n",
              "      <td>Самолеты Арабской коалиции начали бомбить йеме...</td>\n",
              "      <td>1</td>\n",
              "      <td>0</td>\n",
              "    </tr>\n",
              "    <tr>\n",
              "      <th>16</th>\n",
              "      <td>Греция подтвердила США интерес к газопроводу о...</td>\n",
              "      <td>США предложили Греции отказаться от участия в ...</td>\n",
              "      <td>-1</td>\n",
              "      <td>0</td>\n",
              "    </tr>\n",
              "    <tr>\n",
              "      <th>17</th>\n",
              "      <td>Хаджииоанну: США могут предложить Греции лишь ...</td>\n",
              "      <td>США предложили Греции отказаться от участия в ...</td>\n",
              "      <td>-1</td>\n",
              "      <td>0</td>\n",
              "    </tr>\n",
              "    <tr>\n",
              "      <th>18</th>\n",
              "      <td>Разговор о роли России во Второй мировой войне</td>\n",
              "      <td>Консервативная партия получила большинство в б...</td>\n",
              "      <td>-1</td>\n",
              "      <td>0</td>\n",
              "    </tr>\n",
              "    <tr>\n",
              "      <th>19</th>\n",
              "      <td>Путеводитель по Дню Победы: как провести 9 мая...</td>\n",
              "      <td>Лукашенко назвал надуманной проблему своего от...</td>\n",
              "      <td>-1</td>\n",
              "      <td>0</td>\n",
              "    </tr>\n",
              "    <tr>\n",
              "      <th>20</th>\n",
              "      <td>Коморовский: отсутствие Меркель в Москве 9 мая...</td>\n",
              "      <td>Лукашенко назвал надуманной проблему своего от...</td>\n",
              "      <td>-1</td>\n",
              "      <td>0</td>\n",
              "    </tr>\n",
              "    <tr>\n",
              "      <th>21</th>\n",
              "      <td>Аваков уволил 15 руководителей МВД Украины в р...</td>\n",
              "      <td>Аваков уволил 15 региональных руководителей МВ...</td>\n",
              "      <td>0</td>\n",
              "      <td>0</td>\n",
              "    </tr>\n",
              "    <tr>\n",
              "      <th>22</th>\n",
              "      <td>Бывший ядерщик обвинен в США за попытку кражи ...</td>\n",
              "      <td>Бывший ядерщик обвинен в США за попытку кражи ...</td>\n",
              "      <td>0</td>\n",
              "      <td>0</td>\n",
              "    </tr>\n",
              "    <tr>\n",
              "      <th>23</th>\n",
              "      <td>Бывший ядерщик обвинен в США за попытку кражи ...</td>\n",
              "      <td>Бывший американский чиновник обвинен в попытке...</td>\n",
              "      <td>0</td>\n",
              "      <td>0</td>\n",
              "    </tr>\n",
              "    <tr>\n",
              "      <th>24</th>\n",
              "      <td>Бывший ядерщик обвинен в США за попытку кражи ...</td>\n",
              "      <td>Бывший американский чиновник обвинен в попытке...</td>\n",
              "      <td>0</td>\n",
              "      <td>0</td>\n",
              "    </tr>\n",
              "    <tr>\n",
              "      <th>25</th>\n",
              "      <td>Четыре человека погибли при крушении легкомото...</td>\n",
              "      <td>В США 4 человека погибли при крушении легкомот...</td>\n",
              "      <td>1</td>\n",
              "      <td>0</td>\n",
              "    </tr>\n",
              "    <tr>\n",
              "      <th>26</th>\n",
              "      <td>Легкомоторный самолет упал в штате Вашингтон, ...</td>\n",
              "      <td>В США 4 человека погибли при крушении легкомот...</td>\n",
              "      <td>-1</td>\n",
              "      <td>0</td>\n",
              "    </tr>\n",
              "    <tr>\n",
              "      <th>27</th>\n",
              "      <td>КНДР заявила о проведении подводного запуска б...</td>\n",
              "      <td>КНДР провела испытательный подводный пуск балл...</td>\n",
              "      <td>1</td>\n",
              "      <td>0</td>\n",
              "    </tr>\n",
              "    <tr>\n",
              "      <th>28</th>\n",
              "      <td>КНДР провела испытательный подводный пуск балл...</td>\n",
              "      <td>КНДР сообщила о пробном запуске баллистической...</td>\n",
              "      <td>0</td>\n",
              "      <td>0</td>\n",
              "    </tr>\n",
              "    <tr>\n",
              "      <th>29</th>\n",
              "      <td>КНДР заявила о проведении подводного запуска б...</td>\n",
              "      <td>КНДР сообщила о пробном запуске баллистической...</td>\n",
              "      <td>1</td>\n",
              "      <td>0</td>\n",
              "    </tr>\n",
              "    <tr>\n",
              "      <th>30</th>\n",
              "      <td>Путеводитель по Дню Победы: как провести 9 мая...</td>\n",
              "      <td>В Москве ограничат движение в связи с Днем Победы</td>\n",
              "      <td>-1</td>\n",
              "      <td>0</td>\n",
              "    </tr>\n",
              "    <tr>\n",
              "      <th>31</th>\n",
              "      <td>Облака над Москвой в День Победы разгонят девя...</td>\n",
              "      <td>В Москве ограничат движение в связи с Днем Победы</td>\n",
              "      <td>-1</td>\n",
              "      <td>0</td>\n",
              "    </tr>\n",
              "    <tr>\n",
              "      <th>32</th>\n",
              "      <td>День Победы в режиме онлайн</td>\n",
              "      <td>В Москве ограничат движение в связи с Днем Победы</td>\n",
              "      <td>-1</td>\n",
              "      <td>0</td>\n",
              "    </tr>\n",
              "    <tr>\n",
              "      <th>33</th>\n",
              "      <td>Около 40 китов погибли у берегов Чили</td>\n",
              "      <td>Около 40 китов выбросились на берег на юге Чили</td>\n",
              "      <td>1</td>\n",
              "      <td>0</td>\n",
              "    </tr>\n",
              "    <tr>\n",
              "      <th>34</th>\n",
              "      <td>Принц Чарльз надеется, что внучка будет заботи...</td>\n",
              "      <td>Принц Чарльз: Внучка будет заботиться обо мне</td>\n",
              "      <td>0</td>\n",
              "      <td>0</td>\n",
              "    </tr>\n",
              "    <tr>\n",
              "      <th>35</th>\n",
              "      <td>Апакан призвал стороны украинского конфликта с...</td>\n",
              "      <td>В ОБСЕ призвали к миру на Украине 9 Мая</td>\n",
              "      <td>0</td>\n",
              "      <td>0</td>\n",
              "    </tr>\n",
              "    <tr>\n",
              "      <th>36</th>\n",
              "      <td>Пентагон: США считают вероятным приобретение К...</td>\n",
              "      <td>В Пентагоне сочли вероятным приобретение Китае...</td>\n",
              "      <td>1</td>\n",
              "      <td>0</td>\n",
              "    </tr>\n",
              "    <tr>\n",
              "      <th>37</th>\n",
              "      <td>Вице-президент Гватемалы ушла в отставку из-за...</td>\n",
              "      <td>Вице-президент Гватемалы оставит свой пост из-...</td>\n",
              "      <td>0</td>\n",
              "      <td>0</td>\n",
              "    </tr>\n",
              "    <tr>\n",
              "      <th>38</th>\n",
              "      <td>СМИ: скончался бас-гитарист группы ABBA</td>\n",
              "      <td>В Швеции скончался бас-гитарист группы ABBA</td>\n",
              "      <td>1</td>\n",
              "      <td>0</td>\n",
              "    </tr>\n",
              "    <tr>\n",
              "      <th>39</th>\n",
              "      <td>СМИ: скончался бас-гитарист группы ABBA</td>\n",
              "      <td>В Швеции скончался бас-гитарист группы ABBA</td>\n",
              "      <td>1</td>\n",
              "      <td>0</td>\n",
              "    </tr>\n",
              "  </tbody>\n",
              "</table>\n",
              "</div>\n",
              "    <div class=\"colab-df-buttons\">\n",
              "\n",
              "  <div class=\"colab-df-container\">\n",
              "    <button class=\"colab-df-convert\" onclick=\"convertToInteractive('df-a11dca37-ee08-45b3-9963-06bb56e9d536')\"\n",
              "            title=\"Convert this dataframe to an interactive table.\"\n",
              "            style=\"display:none;\">\n",
              "\n",
              "  <svg xmlns=\"http://www.w3.org/2000/svg\" height=\"24px\" viewBox=\"0 -960 960 960\">\n",
              "    <path d=\"M120-120v-720h720v720H120Zm60-500h600v-160H180v160Zm220 220h160v-160H400v160Zm0 220h160v-160H400v160ZM180-400h160v-160H180v160Zm440 0h160v-160H620v160ZM180-180h160v-160H180v160Zm440 0h160v-160H620v160Z\"/>\n",
              "  </svg>\n",
              "    </button>\n",
              "\n",
              "  <style>\n",
              "    .colab-df-container {\n",
              "      display:flex;\n",
              "      gap: 12px;\n",
              "    }\n",
              "\n",
              "    .colab-df-convert {\n",
              "      background-color: #E8F0FE;\n",
              "      border: none;\n",
              "      border-radius: 50%;\n",
              "      cursor: pointer;\n",
              "      display: none;\n",
              "      fill: #1967D2;\n",
              "      height: 32px;\n",
              "      padding: 0 0 0 0;\n",
              "      width: 32px;\n",
              "    }\n",
              "\n",
              "    .colab-df-convert:hover {\n",
              "      background-color: #E2EBFA;\n",
              "      box-shadow: 0px 1px 2px rgba(60, 64, 67, 0.3), 0px 1px 3px 1px rgba(60, 64, 67, 0.15);\n",
              "      fill: #174EA6;\n",
              "    }\n",
              "\n",
              "    .colab-df-buttons div {\n",
              "      margin-bottom: 4px;\n",
              "    }\n",
              "\n",
              "    [theme=dark] .colab-df-convert {\n",
              "      background-color: #3B4455;\n",
              "      fill: #D2E3FC;\n",
              "    }\n",
              "\n",
              "    [theme=dark] .colab-df-convert:hover {\n",
              "      background-color: #434B5C;\n",
              "      box-shadow: 0px 1px 3px 1px rgba(0, 0, 0, 0.15);\n",
              "      filter: drop-shadow(0px 1px 2px rgba(0, 0, 0, 0.3));\n",
              "      fill: #FFFFFF;\n",
              "    }\n",
              "  </style>\n",
              "\n",
              "    <script>\n",
              "      const buttonEl =\n",
              "        document.querySelector('#df-a11dca37-ee08-45b3-9963-06bb56e9d536 button.colab-df-convert');\n",
              "      buttonEl.style.display =\n",
              "        google.colab.kernel.accessAllowed ? 'block' : 'none';\n",
              "\n",
              "      async function convertToInteractive(key) {\n",
              "        const element = document.querySelector('#df-a11dca37-ee08-45b3-9963-06bb56e9d536');\n",
              "        const dataTable =\n",
              "          await google.colab.kernel.invokeFunction('convertToInteractive',\n",
              "                                                    [key], {});\n",
              "        if (!dataTable) return;\n",
              "\n",
              "        const docLinkHtml = 'Like what you see? Visit the ' +\n",
              "          '<a target=\"_blank\" href=https://colab.research.google.com/notebooks/data_table.ipynb>data table notebook</a>'\n",
              "          + ' to learn more about interactive tables.';\n",
              "        element.innerHTML = '';\n",
              "        dataTable['output_type'] = 'display_data';\n",
              "        await google.colab.output.renderOutput(dataTable, element);\n",
              "        const docLink = document.createElement('div');\n",
              "        docLink.innerHTML = docLinkHtml;\n",
              "        element.appendChild(docLink);\n",
              "      }\n",
              "    </script>\n",
              "  </div>\n",
              "\n",
              "\n",
              "<div id=\"df-d9de2e49-9faf-4639-9aff-79acbca1be78\">\n",
              "  <button class=\"colab-df-quickchart\" onclick=\"quickchart('df-d9de2e49-9faf-4639-9aff-79acbca1be78')\"\n",
              "            title=\"Suggest charts.\"\n",
              "            style=\"display:none;\">\n",
              "\n",
              "<svg xmlns=\"http://www.w3.org/2000/svg\" height=\"24px\"viewBox=\"0 0 24 24\"\n",
              "     width=\"24px\">\n",
              "    <g>\n",
              "        <path d=\"M19 3H5c-1.1 0-2 .9-2 2v14c0 1.1.9 2 2 2h14c1.1 0 2-.9 2-2V5c0-1.1-.9-2-2-2zM9 17H7v-7h2v7zm4 0h-2V7h2v10zm4 0h-2v-4h2v4z\"/>\n",
              "    </g>\n",
              "</svg>\n",
              "  </button>\n",
              "\n",
              "<style>\n",
              "  .colab-df-quickchart {\n",
              "      --bg-color: #E8F0FE;\n",
              "      --fill-color: #1967D2;\n",
              "      --hover-bg-color: #E2EBFA;\n",
              "      --hover-fill-color: #174EA6;\n",
              "      --disabled-fill-color: #AAA;\n",
              "      --disabled-bg-color: #DDD;\n",
              "  }\n",
              "\n",
              "  [theme=dark] .colab-df-quickchart {\n",
              "      --bg-color: #3B4455;\n",
              "      --fill-color: #D2E3FC;\n",
              "      --hover-bg-color: #434B5C;\n",
              "      --hover-fill-color: #FFFFFF;\n",
              "      --disabled-bg-color: #3B4455;\n",
              "      --disabled-fill-color: #666;\n",
              "  }\n",
              "\n",
              "  .colab-df-quickchart {\n",
              "    background-color: var(--bg-color);\n",
              "    border: none;\n",
              "    border-radius: 50%;\n",
              "    cursor: pointer;\n",
              "    display: none;\n",
              "    fill: var(--fill-color);\n",
              "    height: 32px;\n",
              "    padding: 0;\n",
              "    width: 32px;\n",
              "  }\n",
              "\n",
              "  .colab-df-quickchart:hover {\n",
              "    background-color: var(--hover-bg-color);\n",
              "    box-shadow: 0 1px 2px rgba(60, 64, 67, 0.3), 0 1px 3px 1px rgba(60, 64, 67, 0.15);\n",
              "    fill: var(--button-hover-fill-color);\n",
              "  }\n",
              "\n",
              "  .colab-df-quickchart-complete:disabled,\n",
              "  .colab-df-quickchart-complete:disabled:hover {\n",
              "    background-color: var(--disabled-bg-color);\n",
              "    fill: var(--disabled-fill-color);\n",
              "    box-shadow: none;\n",
              "  }\n",
              "\n",
              "  .colab-df-spinner {\n",
              "    border: 2px solid var(--fill-color);\n",
              "    border-color: transparent;\n",
              "    border-bottom-color: var(--fill-color);\n",
              "    animation:\n",
              "      spin 1s steps(1) infinite;\n",
              "  }\n",
              "\n",
              "  @keyframes spin {\n",
              "    0% {\n",
              "      border-color: transparent;\n",
              "      border-bottom-color: var(--fill-color);\n",
              "      border-left-color: var(--fill-color);\n",
              "    }\n",
              "    20% {\n",
              "      border-color: transparent;\n",
              "      border-left-color: var(--fill-color);\n",
              "      border-top-color: var(--fill-color);\n",
              "    }\n",
              "    30% {\n",
              "      border-color: transparent;\n",
              "      border-left-color: var(--fill-color);\n",
              "      border-top-color: var(--fill-color);\n",
              "      border-right-color: var(--fill-color);\n",
              "    }\n",
              "    40% {\n",
              "      border-color: transparent;\n",
              "      border-right-color: var(--fill-color);\n",
              "      border-top-color: var(--fill-color);\n",
              "    }\n",
              "    60% {\n",
              "      border-color: transparent;\n",
              "      border-right-color: var(--fill-color);\n",
              "    }\n",
              "    80% {\n",
              "      border-color: transparent;\n",
              "      border-right-color: var(--fill-color);\n",
              "      border-bottom-color: var(--fill-color);\n",
              "    }\n",
              "    90% {\n",
              "      border-color: transparent;\n",
              "      border-bottom-color: var(--fill-color);\n",
              "    }\n",
              "  }\n",
              "</style>\n",
              "\n",
              "  <script>\n",
              "    async function quickchart(key) {\n",
              "      const quickchartButtonEl =\n",
              "        document.querySelector('#' + key + ' button');\n",
              "      quickchartButtonEl.disabled = true;  // To prevent multiple clicks.\n",
              "      quickchartButtonEl.classList.add('colab-df-spinner');\n",
              "      try {\n",
              "        const charts = await google.colab.kernel.invokeFunction(\n",
              "            'suggestCharts', [key], {});\n",
              "      } catch (error) {\n",
              "        console.error('Error during call to suggestCharts:', error);\n",
              "      }\n",
              "      quickchartButtonEl.classList.remove('colab-df-spinner');\n",
              "      quickchartButtonEl.classList.add('colab-df-quickchart-complete');\n",
              "    }\n",
              "    (() => {\n",
              "      let quickchartButtonEl =\n",
              "        document.querySelector('#df-d9de2e49-9faf-4639-9aff-79acbca1be78 button');\n",
              "      quickchartButtonEl.style.display =\n",
              "        google.colab.kernel.accessAllowed ? 'block' : 'none';\n",
              "    })();\n",
              "  </script>\n",
              "</div>\n",
              "    </div>\n",
              "  </div>\n"
            ]
          },
          "metadata": {},
          "execution_count": 26
        }
      ]
    }
  ]
}