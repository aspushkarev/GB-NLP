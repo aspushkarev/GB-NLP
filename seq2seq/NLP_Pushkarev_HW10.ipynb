{
  "nbformat": 4,
  "nbformat_minor": 0,
  "metadata": {
    "colab": {
      "provenance": [],
      "gpuType": "T4"
    },
    "kernelspec": {
      "name": "python3",
      "display_name": "Python 3"
    },
    "language_info": {
      "name": "python"
    },
    "accelerator": "GPU"
  },
  "cells": [
    {
      "cell_type": "markdown",
      "source": [
        "# Neural machine translation with attention"
      ],
      "metadata": {
        "id": "BXukianlxzif"
      }
    },
    {
      "cell_type": "markdown",
      "source": [
        "Модель seq2seq и механизм внимания\n",
        "\n",
        "Разобраться с моделью перевода (без механизма внимания) как она устроена, запустить для перевода с русского на английский (при желании можно взять другие пары языков)"
      ],
      "metadata": {
        "id": "9zA3xhiCmDJt"
      }
    },
    {
      "cell_type": "code",
      "execution_count": 31,
      "metadata": {
        "id": "wUbCoH4DfcvP"
      },
      "outputs": [],
      "source": [
        "import numpy as np\n",
        "import matplotlib.pyplot as plt\n",
        "import matplotlib.ticker as ticker\n",
        "import tensorflow as tf\n",
        "import unicodedata\n",
        "import time\n",
        "import re\n",
        "import os\n",
        "import io\n",
        "from sklearn.model_selection import train_test_split"
      ]
    },
    {
      "cell_type": "code",
      "source": [
        "!wget http://www.manythings.org/anki/rus-eng.zip"
      ],
      "metadata": {
        "colab": {
          "base_uri": "https://localhost:8080/"
        },
        "id": "FJkKUm5Txt_a",
        "outputId": "3d4d05d4-b6ae-4f38-fac8-0dc6ed02f0d3"
      },
      "execution_count": 2,
      "outputs": [
        {
          "output_type": "stream",
          "name": "stdout",
          "text": [
            "--2023-09-11 10:11:21--  http://www.manythings.org/anki/rus-eng.zip\n",
            "Resolving www.manythings.org (www.manythings.org)... 173.254.30.110\n",
            "Connecting to www.manythings.org (www.manythings.org)|173.254.30.110|:80... connected.\n",
            "HTTP request sent, awaiting response... 200 OK\n",
            "Length: 15824155 (15M) [application/zip]\n",
            "Saving to: ‘rus-eng.zip’\n",
            "\n",
            "rus-eng.zip         100%[===================>]  15.09M  5.81MB/s    in 2.6s    \n",
            "\n",
            "2023-09-11 10:11:25 (5.81 MB/s) - ‘rus-eng.zip’ saved [15824155/15824155]\n",
            "\n"
          ]
        }
      ]
    },
    {
      "cell_type": "code",
      "source": [
        "!unzip rus-eng.zip -d rus-eng/"
      ],
      "metadata": {
        "colab": {
          "base_uri": "https://localhost:8080/"
        },
        "id": "qGXXgpKy5z8L",
        "outputId": "67782065-7c62-4fdd-fd08-8f72e739d7ac"
      },
      "execution_count": 3,
      "outputs": [
        {
          "output_type": "stream",
          "name": "stdout",
          "text": [
            "Archive:  rus-eng.zip\n",
            "  inflating: rus-eng/rus.txt         \n",
            "  inflating: rus-eng/_about.txt      \n"
          ]
        }
      ]
    },
    {
      "cell_type": "code",
      "source": [
        "path_to_file = 'rus-eng/rus.txt'"
      ],
      "metadata": {
        "id": "S9GGg0396AKi"
      },
      "execution_count": 4,
      "outputs": []
    },
    {
      "cell_type": "code",
      "source": [
        "def preprocess_sentence(w):\n",
        "    w = w.lower().strip()\n",
        "\n",
        "    # creating a space between a word and the punctuation following it\n",
        "    # eg: \"he is a boy.\" => \"he is a boy .\"\n",
        "    # Reference:- https://stackoverflow.com/questions/3645931/python-padding-punctuation-with-white-spaces-keeping-punctuation\n",
        "    w = re.sub(r\"([?.!,])\", r\" \\1 \", w)\n",
        "    w = re.sub(r'[\" \"]+', \" \", w)\n",
        "\n",
        "    # replacing everything with space except (a-z, A-Z, \".\", \"?\", \"!\", \",\")\n",
        "    w = re.sub(r\"[^a-zA-Zа-яА-Я?.!,']+\", \" \", w)\n",
        "\n",
        "    w = w.strip()\n",
        "\n",
        "    # adding a start and an end token to the sentence\n",
        "    # so that the model know when to start and stop predicting.\n",
        "    w = '<start> ' + w + ' <end>'\n",
        "    return w"
      ],
      "metadata": {
        "id": "h1iYORJC6RQ8"
      },
      "execution_count": 5,
      "outputs": []
    },
    {
      "cell_type": "code",
      "source": [
        "preprocess_sentence(\"I live in Sochi\")"
      ],
      "metadata": {
        "colab": {
          "base_uri": "https://localhost:8080/",
          "height": 35
        },
        "id": "UEAfEuAu6lPf",
        "outputId": "2fad464a-e84a-4b67-b657-35dfc49fa199"
      },
      "execution_count": 6,
      "outputs": [
        {
          "output_type": "execute_result",
          "data": {
            "text/plain": [
              "'<start> i live in sochi <end>'"
            ],
            "application/vnd.google.colaboratory.intrinsic+json": {
              "type": "string"
            }
          },
          "metadata": {},
          "execution_count": 6
        }
      ]
    },
    {
      "cell_type": "code",
      "source": [
        "# 1. Remove the accents\n",
        "# 2. Clean the sentences\n",
        "# 3. Return word pairs in the format: [ENG, RUS]\n",
        "def create_dataset(path, num_examples):\n",
        "    lines = io.open(path, encoding='UTF-8').read().strip().split('\\n')\n",
        "\n",
        "    word_pairs = [[preprocess_sentence(w) for w in l.split('\\t')[:2]]  for l in lines[:num_examples]]\n",
        "\n",
        "    return zip(*word_pairs)"
      ],
      "metadata": {
        "id": "uGcgxK6s6vNB"
      },
      "execution_count": 7,
      "outputs": []
    },
    {
      "cell_type": "code",
      "source": [
        "en, ru = create_dataset(path_to_file, None)\n",
        "print(en[-1])\n",
        "print(ru[-1])"
      ],
      "metadata": {
        "colab": {
          "base_uri": "https://localhost:8080/"
        },
        "id": "rQwTTRpf7BRe",
        "outputId": "3716c9c1-8015-40d4-da6e-ad214a202d5c"
      },
      "execution_count": 8,
      "outputs": [
        {
          "output_type": "stream",
          "name": "stdout",
          "text": [
            "<start> doubtless there exists in this world precisely the right woman for any given man to marry and vice versa but when you consider that a human being has the opportunity of being acquainted with only a few hundred people , and out of the few hundred that there are but a dozen or less whom he knows intimately , and out of the dozen , one or two friends at most , it will easily be seen , when we remember the number of millions who inhabit this world , that probably , since the earth was created , the right man has never yet met the right woman . <end>\n",
            "<start> несомненно , для каждого мужчины в этом мире где то есть подходящая женщина , которая может стать ему женой , обратное верно и для женщин . но если учесть , что у человека может быть максимум несколько сотен знакомых , из которых лишь дюжина , а то и меньше , тех , кого он знает близко , а из этой дюжины у него один или от силы два друга , то можно легко увидеть , что с уч том миллионов живущих на земле людей , ни один подходящий мужчина , возможно , ещ не встретил подходящую женщину . <end>\n"
          ]
        }
      ]
    },
    {
      "cell_type": "code",
      "source": [
        "def tokenize(lang):\n",
        "    lang_tokenizer = tf.keras.preprocessing.text.Tokenizer(filters='')\n",
        "    lang_tokenizer.fit_on_texts(lang)\n",
        "\n",
        "    tensor = lang_tokenizer.texts_to_sequences(lang)\n",
        "\n",
        "    tensor = tf.keras.preprocessing.sequence.pad_sequences(tensor,\n",
        "                                                          padding='post')\n",
        "\n",
        "    return tensor, lang_tokenizer"
      ],
      "metadata": {
        "id": "HjGXBfyy7M88"
      },
      "execution_count": 9,
      "outputs": []
    },
    {
      "cell_type": "code",
      "source": [
        "def load_dataset(path, num_examples=None):\n",
        "    # creating cleaned input, output pairs\n",
        "    targ_lang, inp_lang = create_dataset(path, num_examples)\n",
        "\n",
        "    input_tensor, inp_lang_tokenizer = tokenize(inp_lang)\n",
        "    target_tensor, targ_lang_tokenizer = tokenize(targ_lang)\n",
        "\n",
        "    return input_tensor, target_tensor, inp_lang_tokenizer, targ_lang_tokenizer"
      ],
      "metadata": {
        "id": "L81yuRd97YXJ"
      },
      "execution_count": 10,
      "outputs": []
    },
    {
      "cell_type": "code",
      "source": [
        "len(en), len(ru)"
      ],
      "metadata": {
        "colab": {
          "base_uri": "https://localhost:8080/"
        },
        "id": "GTR8PSvy7eVb",
        "outputId": "b5508ea6-fa33-4e13-fa7e-cfb4814f3096"
      },
      "execution_count": 11,
      "outputs": [
        {
          "output_type": "execute_result",
          "data": {
            "text/plain": [
              "(479223, 479223)"
            ]
          },
          "metadata": {},
          "execution_count": 11
        }
      ]
    },
    {
      "cell_type": "code",
      "source": [
        "# Try experimenting with the size of that dataset\n",
        "num_examples = 100_000\n",
        "input_tensor, target_tensor, inp_lang, targ_lang = load_dataset(path_to_file, num_examples)\n",
        "\n",
        "# Calculate max_length of the target tensors\n",
        "max_length_targ, max_length_inp = target_tensor.shape[1], input_tensor.shape[1]"
      ],
      "metadata": {
        "id": "IenosevNugpQ"
      },
      "execution_count": 12,
      "outputs": []
    },
    {
      "cell_type": "code",
      "source": [
        "# Creating training and validation sets using an 80-20 split\n",
        "input_tensor_train, input_tensor_val, target_tensor_train, target_tensor_val = \\\n",
        "train_test_split(input_tensor, target_tensor, test_size=0.2)\n",
        "\n",
        "# Show length\n",
        "print(len(input_tensor_train), len(target_tensor_train), len(input_tensor_val), len(target_tensor_val))"
      ],
      "metadata": {
        "colab": {
          "base_uri": "https://localhost:8080/"
        },
        "id": "1lNHxqAhuojG",
        "outputId": "b8398976-36a7-45dc-e00c-fcd61328b24a"
      },
      "execution_count": 14,
      "outputs": [
        {
          "output_type": "stream",
          "name": "stdout",
          "text": [
            "80000 80000 20000 20000\n"
          ]
        }
      ]
    },
    {
      "cell_type": "code",
      "source": [
        "def convert(lang, tensor):\n",
        "    for t in tensor:\n",
        "      if t != 0:\n",
        "        print (f\"{t} ----> {lang.index_word[t]}\")"
      ],
      "metadata": {
        "id": "UmNNu-M_vIyd"
      },
      "execution_count": 16,
      "outputs": []
    },
    {
      "cell_type": "code",
      "source": [
        "print (\"Input Language; index to word mapping\")\n",
        "convert(inp_lang, input_tensor_train[0])\n",
        "\n",
        "print (\"\\nTarget Language; index to word mapping\")\n",
        "convert(targ_lang, target_tensor_train[0])"
      ],
      "metadata": {
        "colab": {
          "base_uri": "https://localhost:8080/"
        },
        "id": "B5zvs1yCvdHm",
        "outputId": "e7da9e3d-6bf1-4501-c40d-89063d7f041c"
      },
      "execution_count": 17,
      "outputs": [
        {
          "output_type": "stream",
          "name": "stdout",
          "text": [
            "Input Language; index to word mapping\n",
            "1 ----> <start>\n",
            "13 ----> мы\n",
            "2233 ----> усыновили\n",
            "18 ----> тома\n",
            "3 ----> .\n",
            "2 ----> <end>\n",
            "\n",
            "Target Language; index to word mapping\n",
            "1 ----> <start>\n",
            "19 ----> we\n",
            "1021 ----> adopted\n",
            "5 ----> tom\n",
            "3 ----> .\n",
            "2 ----> <end>\n"
          ]
        }
      ]
    },
    {
      "cell_type": "markdown",
      "source": [
        "# Create a tf.data dataset"
      ],
      "metadata": {
        "id": "CIOWON1Mvymn"
      }
    },
    {
      "cell_type": "code",
      "source": [
        "BUFFER_SIZE = len(input_tensor_train)\n",
        "BATCH_SIZE = 64\n",
        "\n",
        "steps_per_epoch = len(input_tensor_train) // BATCH_SIZE\n",
        "embedding_dim = 256\n",
        "units = 1024\n",
        "vocab_inp_size = len(inp_lang.word_index) + 1\n",
        "vocab_tar_size = len(targ_lang.word_index) + 1\n",
        "\n",
        "dataset = tf.data.Dataset.from_tensor_slices((input_tensor_train, target_tensor_train)).shuffle(BUFFER_SIZE)\n",
        "dataset = dataset.batch(BATCH_SIZE, drop_remainder=True)"
      ],
      "metadata": {
        "id": "91YNw3xwvtdO"
      },
      "execution_count": 18,
      "outputs": []
    },
    {
      "cell_type": "code",
      "source": [
        "example_input_batch, example_target_batch = next(iter(dataset))\n",
        "example_input_batch.shape, example_target_batch.shape"
      ],
      "metadata": {
        "colab": {
          "base_uri": "https://localhost:8080/"
        },
        "id": "7ThdXj9PwGda",
        "outputId": "5ab1ce0b-3c21-4da4-e447-998c87f15f46"
      },
      "execution_count": 19,
      "outputs": [
        {
          "output_type": "execute_result",
          "data": {
            "text/plain": [
              "(TensorShape([64, 15]), TensorShape([64, 11]))"
            ]
          },
          "metadata": {},
          "execution_count": 19
        }
      ]
    },
    {
      "cell_type": "code",
      "source": [
        "class Encoder(tf.keras.Model):\n",
        "    def __init__(self, vocab_size, embedding_dim, enc_units, batch_sz):\n",
        "        super(Encoder, self).__init__()\n",
        "        self.batch_sz = batch_sz\n",
        "        self.enc_units = enc_units\n",
        "        self.embedding = tf.keras.layers.Embedding(vocab_size, embedding_dim)\n",
        "        self.gru = tf.keras.layers.GRU(self.enc_units,\n",
        "                                    return_sequences=True,\n",
        "                                    return_state=True,\n",
        "                                    recurrent_initializer='glorot_uniform')\n",
        "\n",
        "    def call(self, x, hidden):\n",
        "        x = self.embedding(x)\n",
        "        output, state = self.gru(x, initial_state = hidden)\n",
        "        return output, state\n",
        "\n",
        "    def initialize_hidden_state(self):\n",
        "        return tf.zeros((self.batch_sz, self.enc_units))"
      ],
      "metadata": {
        "id": "Ub0PYmCmwL50"
      },
      "execution_count": 20,
      "outputs": []
    },
    {
      "cell_type": "code",
      "source": [
        "encoder = Encoder(vocab_inp_size, embedding_dim, units, BATCH_SIZE)\n",
        "\n",
        "# sample input\n",
        "sample_hidden = encoder.initialize_hidden_state()\n",
        "sample_output, sample_hidden = encoder(example_input_batch, sample_hidden)\n",
        "print ('Encoder output shape: (batch size, sequence length, units) {}'.format(sample_output.shape))\n",
        "print ('Encoder hidden state shape: (batch size, units) {}'.format(sample_hidden.shape))"
      ],
      "metadata": {
        "colab": {
          "base_uri": "https://localhost:8080/"
        },
        "id": "1zm9G-zfw4xr",
        "outputId": "63dbe9c6-dfa5-4086-a134-423555bb4be9"
      },
      "execution_count": 22,
      "outputs": [
        {
          "output_type": "stream",
          "name": "stdout",
          "text": [
            "Encoder output shape: (batch size, sequence length, units) (64, 15, 1024)\n",
            "Encoder hidden state shape: (batch size, units) (64, 1024)\n"
          ]
        }
      ]
    },
    {
      "cell_type": "code",
      "source": [
        "class BahdanauAttention(tf.keras.layers.Layer):\n",
        "  def __init__(self, units):\n",
        "    super(BahdanauAttention, self).__init__()\n",
        "    self.W1 = tf.keras.layers.Dense(units)\n",
        "    self.W2 = tf.keras.layers.Dense(units)\n",
        "    self.V = tf.keras.layers.Dense(1)\n",
        "\n",
        "  def call(self, query, values):\n",
        "    # query hidden state shape == (batch_size, hidden size)\n",
        "    # query_with_time_axis shape == (batch_size, 1, hidden size)\n",
        "    # values shape == (batch_size, max_len, hidden size)\n",
        "    # we are doing this to broadcast addition along the time axis to calculate the score\n",
        "    query_with_time_axis = tf.expand_dims(query, 1)\n",
        "\n",
        "    # score shape == (batch_size, max_length, 1)\n",
        "    # we get 1 at the last axis because we are applying score to self.V\n",
        "    # the shape of the tensor before applying self.V is (batch_size, max_length, units)\n",
        "    score = self.V(tf.nn.tanh(\n",
        "        self.W1(query_with_time_axis) + self.W2(values)))\n",
        "\n",
        "    # attention_weights shape == (batch_size, max_length, 1)\n",
        "    attention_weights = tf.nn.softmax(score, axis=1)\n",
        "\n",
        "    # context_vector shape after sum == (batch_size, hidden_size)\n",
        "    context_vector = attention_weights * values\n",
        "    context_vector = tf.reduce_sum(context_vector, axis=1)\n",
        "\n",
        "    return context_vector, attention_weights"
      ],
      "metadata": {
        "id": "jO1wsfu1xpUo"
      },
      "execution_count": 23,
      "outputs": []
    },
    {
      "cell_type": "code",
      "source": [
        "attention_layer = BahdanauAttention(10)\n",
        "attention_result, attention_weights = attention_layer(sample_hidden, sample_output)\n",
        "\n",
        "print(\"Attention result shape: (batch size, units) {}\".format(attention_result.shape))\n",
        "print(\"Attention weights shape: (batch_size, sequence_length, 1) {}\".format(attention_weights.shape))"
      ],
      "metadata": {
        "colab": {
          "base_uri": "https://localhost:8080/"
        },
        "id": "Nz9Yj1mFxxkD",
        "outputId": "5c2012a8-70e1-41e1-f4cb-f3c93aaba9d5"
      },
      "execution_count": 24,
      "outputs": [
        {
          "output_type": "stream",
          "name": "stdout",
          "text": [
            "Attention result shape: (batch size, units) (64, 1024)\n",
            "Attention weights shape: (batch_size, sequence_length, 1) (64, 15, 1)\n"
          ]
        }
      ]
    },
    {
      "cell_type": "code",
      "source": [
        "class Decoder(tf.keras.Model):\n",
        "  def __init__(self, vocab_size, embedding_dim, dec_units, batch_sz):\n",
        "    super(Decoder, self).__init__()\n",
        "    self.batch_sz = batch_sz\n",
        "    self.dec_units = dec_units\n",
        "    self.embedding = tf.keras.layers.Embedding(vocab_size, embedding_dim)\n",
        "    self.gru = tf.keras.layers.GRU(self.dec_units,\n",
        "                                   return_sequences=True,\n",
        "                                   return_state=True,\n",
        "                                   recurrent_initializer='glorot_uniform')\n",
        "    self.fc = tf.keras.layers.Dense(vocab_size)\n",
        "\n",
        "    # used for attention\n",
        "    self.attention = BahdanauAttention(self.dec_units)\n",
        "\n",
        "  def call(self, x, hidden, enc_output):\n",
        "    # enc_output shape == (batch_size, max_length, hidden_size)\n",
        "    context_vector, attention_weights = self.attention(hidden, enc_output)\n",
        "\n",
        "    # x shape after passing through embedding == (batch_size, 1, embedding_dim)\n",
        "    x = self.embedding(x)\n",
        "\n",
        "    # x shape after concatenation == (batch_size, 1, embedding_dim + hidden_size)\n",
        "    x = tf.concat([tf.expand_dims(context_vector, 1), x], axis=-1)\n",
        "\n",
        "    # passing the concatenated vector to the GRU\n",
        "    output, state = self.gru(x)\n",
        "\n",
        "    # output shape == (batch_size * 1, hidden_size)\n",
        "    output = tf.reshape(output, (-1, output.shape[2]))\n",
        "\n",
        "    # output shape == (batch_size, vocab)\n",
        "    x = self.fc(output)\n",
        "\n",
        "    return x, state, attention_weights"
      ],
      "metadata": {
        "id": "YCNAPG8bx53f"
      },
      "execution_count": 25,
      "outputs": []
    },
    {
      "cell_type": "code",
      "source": [
        "decoder = Decoder(vocab_tar_size, embedding_dim, units, BATCH_SIZE)\n",
        "\n",
        "sample_decoder_output, _, _ = decoder(tf.random.uniform((BATCH_SIZE, 1)),\n",
        "                                      sample_hidden, sample_output)\n",
        "\n",
        "print ('Decoder output shape: (batch_size, vocab size) {}'.format(sample_decoder_output.shape))"
      ],
      "metadata": {
        "colab": {
          "base_uri": "https://localhost:8080/"
        },
        "id": "FZQaBPPRyCrj",
        "outputId": "9c8bcb4b-ca44-4802-8020-5203a0290c5e"
      },
      "execution_count": 26,
      "outputs": [
        {
          "output_type": "stream",
          "name": "stdout",
          "text": [
            "Decoder output shape: (batch_size, vocab size) (64, 7386)\n"
          ]
        }
      ]
    },
    {
      "cell_type": "markdown",
      "source": [
        "# Define the optimizer and the loss function"
      ],
      "metadata": {
        "id": "aKkOypvkyKFt"
      }
    },
    {
      "cell_type": "code",
      "source": [
        "optimizer = tf.keras.optimizers.Adam()\n",
        "loss_object = tf.keras.losses.SparseCategoricalCrossentropy(\n",
        "    from_logits=True, reduction='none')\n",
        "\n",
        "def loss_function(real, pred):\n",
        "    mask = tf.math.logical_not(tf.math.equal(real, 0))\n",
        "    loss_ = loss_object(real, pred)\n",
        "\n",
        "    mask = tf.cast(mask, dtype=loss_.dtype)\n",
        "    loss_ *= mask\n",
        "\n",
        "    return tf.reduce_mean(loss_)"
      ],
      "metadata": {
        "id": "PPUDwbeJyGNi"
      },
      "execution_count": 27,
      "outputs": []
    },
    {
      "cell_type": "markdown",
      "source": [
        "# Checkpoints (Object-based saving)"
      ],
      "metadata": {
        "id": "oJ_RYhk6yXPR"
      }
    },
    {
      "cell_type": "code",
      "source": [
        "checkpoint_dir = './training_attention_checkpoints'\n",
        "checkpoint_prefix = os.path.join(checkpoint_dir, \"ckpt\")\n",
        "checkpoint = tf.train.Checkpoint(optimizer=optimizer,\n",
        "                                 encoder=encoder,\n",
        "                                 decoder=decoder)"
      ],
      "metadata": {
        "id": "zgmaJv7PyTVz"
      },
      "execution_count": 28,
      "outputs": []
    },
    {
      "cell_type": "code",
      "source": [
        "@tf.function\n",
        "def train_step(inp, targ, enc_hidden):\n",
        "  loss = 0\n",
        "\n",
        "  with tf.GradientTape() as tape:\n",
        "    enc_output, enc_hidden = encoder(inp, enc_hidden)\n",
        "\n",
        "    dec_hidden = enc_hidden\n",
        "\n",
        "    dec_input = tf.expand_dims([targ_lang.word_index['<start>']] * BATCH_SIZE, 1)\n",
        "\n",
        "    # Teacher forcing - feeding the target as the next input\n",
        "    for t in range(1, targ.shape[1]):\n",
        "      # passing enc_output to the decoder\n",
        "      predictions, dec_hidden, _ = decoder(dec_input, dec_hidden, enc_output)\n",
        "\n",
        "      loss += loss_function(targ[:, t], predictions)\n",
        "\n",
        "      # using teacher forcing\n",
        "      dec_input = tf.expand_dims(targ[:, t], 1)\n",
        "\n",
        "  batch_loss = (loss / int(targ.shape[1]))\n",
        "\n",
        "  variables = encoder.trainable_variables + decoder.trainable_variables\n",
        "\n",
        "  gradients = tape.gradient(loss, variables)\n",
        "\n",
        "  optimizer.apply_gradients(zip(gradients, variables))\n",
        "\n",
        "  return batch_loss"
      ],
      "metadata": {
        "id": "SNHP3tajycSF"
      },
      "execution_count": 29,
      "outputs": []
    },
    {
      "cell_type": "code",
      "source": [
        "EPOCHS = 50\n",
        "\n",
        "for epoch in range(EPOCHS):\n",
        "  start = time.time()\n",
        "\n",
        "  enc_hidden = encoder.initialize_hidden_state()\n",
        "  total_loss = 0\n",
        "\n",
        "  for (batch, (inp, targ)) in enumerate(dataset.take(steps_per_epoch)):\n",
        "    batch_loss = train_step(inp, targ, enc_hidden)\n",
        "    total_loss += batch_loss\n",
        "\n",
        "    if batch % 100 == 0:\n",
        "      print('Epoch {} Batch {} Loss {:.4f}'.format(epoch + 1,\n",
        "                                                   batch,\n",
        "                                                   batch_loss.numpy()))\n",
        "  # saving (checkpoint) the model every 2 epochs\n",
        "  if (epoch + 1) % 2 == 0:\n",
        "    checkpoint.save(file_prefix = checkpoint_prefix)\n",
        "\n",
        "  print('Epoch {} Loss {:.4f}'.format(epoch + 1,\n",
        "                                      total_loss / steps_per_epoch))\n",
        "  print('Time taken for 1 epoch {} sec\\n'.format(time.time() - start))"
      ],
      "metadata": {
        "colab": {
          "base_uri": "https://localhost:8080/"
        },
        "id": "jOqiujTTyxgM",
        "outputId": "a6b9dffc-b673-4a56-99d5-f0f3782552f1"
      },
      "execution_count": 32,
      "outputs": [
        {
          "output_type": "stream",
          "name": "stdout",
          "text": [
            "Epoch 1 Batch 0 Loss 4.5548\n",
            "Epoch 1 Batch 100 Loss 2.1677\n",
            "Epoch 1 Batch 200 Loss 1.8025\n",
            "Epoch 1 Batch 300 Loss 1.6930\n",
            "Epoch 1 Batch 400 Loss 1.5990\n",
            "Epoch 1 Batch 500 Loss 1.5376\n",
            "Epoch 1 Batch 600 Loss 1.3860\n",
            "Epoch 1 Batch 700 Loss 1.3284\n",
            "Epoch 1 Batch 800 Loss 1.2921\n",
            "Epoch 1 Batch 900 Loss 1.1322\n",
            "Epoch 1 Batch 1000 Loss 1.0462\n",
            "Epoch 1 Batch 1100 Loss 0.8824\n",
            "Epoch 1 Batch 1200 Loss 0.8807\n",
            "Epoch 1 Loss 1.4562\n",
            "Time taken for 1 epoch 119.7859399318695 sec\n",
            "\n",
            "Epoch 2 Batch 0 Loss 0.7707\n",
            "Epoch 2 Batch 100 Loss 0.7620\n",
            "Epoch 2 Batch 200 Loss 0.7189\n",
            "Epoch 2 Batch 300 Loss 0.6740\n",
            "Epoch 2 Batch 400 Loss 0.7694\n",
            "Epoch 2 Batch 500 Loss 0.5892\n",
            "Epoch 2 Batch 600 Loss 0.6022\n",
            "Epoch 2 Batch 700 Loss 0.6650\n",
            "Epoch 2 Batch 800 Loss 0.5349\n",
            "Epoch 2 Batch 900 Loss 0.5873\n",
            "Epoch 2 Batch 1000 Loss 0.4493\n",
            "Epoch 2 Batch 1100 Loss 0.4377\n",
            "Epoch 2 Batch 1200 Loss 0.4971\n",
            "Epoch 2 Loss 0.6519\n",
            "Time taken for 1 epoch 93.15455651283264 sec\n",
            "\n",
            "Epoch 3 Batch 0 Loss 0.3928\n",
            "Epoch 3 Batch 100 Loss 0.3492\n",
            "Epoch 3 Batch 200 Loss 0.4204\n",
            "Epoch 3 Batch 300 Loss 0.4240\n",
            "Epoch 3 Batch 400 Loss 0.3253\n",
            "Epoch 3 Batch 500 Loss 0.3634\n",
            "Epoch 3 Batch 600 Loss 0.2964\n",
            "Epoch 3 Batch 700 Loss 0.3833\n",
            "Epoch 3 Batch 800 Loss 0.3691\n",
            "Epoch 3 Batch 900 Loss 0.2908\n",
            "Epoch 3 Batch 1000 Loss 0.3631\n",
            "Epoch 3 Batch 1100 Loss 0.3851\n",
            "Epoch 3 Batch 1200 Loss 0.2824\n",
            "Epoch 3 Loss 0.3460\n",
            "Time taken for 1 epoch 93.62633013725281 sec\n",
            "\n",
            "Epoch 4 Batch 0 Loss 0.1751\n",
            "Epoch 4 Batch 100 Loss 0.2134\n",
            "Epoch 4 Batch 200 Loss 0.2362\n",
            "Epoch 4 Batch 300 Loss 0.1618\n",
            "Epoch 4 Batch 400 Loss 0.2063\n",
            "Epoch 4 Batch 500 Loss 0.2669\n",
            "Epoch 4 Batch 600 Loss 0.1791\n",
            "Epoch 4 Batch 700 Loss 0.1681\n",
            "Epoch 4 Batch 800 Loss 0.2729\n",
            "Epoch 4 Batch 900 Loss 0.2239\n",
            "Epoch 4 Batch 1000 Loss 0.1968\n",
            "Epoch 4 Batch 1100 Loss 0.2077\n",
            "Epoch 4 Batch 1200 Loss 0.2737\n",
            "Epoch 4 Loss 0.2138\n",
            "Time taken for 1 epoch 97.45392441749573 sec\n",
            "\n",
            "Epoch 5 Batch 0 Loss 0.1575\n",
            "Epoch 5 Batch 100 Loss 0.1709\n",
            "Epoch 5 Batch 200 Loss 0.1257\n",
            "Epoch 5 Batch 300 Loss 0.1151\n",
            "Epoch 5 Batch 400 Loss 0.1583\n",
            "Epoch 5 Batch 500 Loss 0.1066\n",
            "Epoch 5 Batch 600 Loss 0.1452\n",
            "Epoch 5 Batch 700 Loss 0.1267\n",
            "Epoch 5 Batch 800 Loss 0.1624\n",
            "Epoch 5 Batch 900 Loss 0.1541\n",
            "Epoch 5 Batch 1000 Loss 0.1589\n",
            "Epoch 5 Batch 1100 Loss 0.1769\n",
            "Epoch 5 Batch 1200 Loss 0.1413\n",
            "Epoch 5 Loss 0.1511\n",
            "Time taken for 1 epoch 93.50429010391235 sec\n",
            "\n",
            "Epoch 6 Batch 0 Loss 0.1119\n",
            "Epoch 6 Batch 100 Loss 0.1240\n",
            "Epoch 6 Batch 200 Loss 0.1202\n",
            "Epoch 6 Batch 300 Loss 0.1174\n",
            "Epoch 6 Batch 400 Loss 0.0664\n",
            "Epoch 6 Batch 500 Loss 0.1381\n",
            "Epoch 6 Batch 600 Loss 0.1076\n",
            "Epoch 6 Batch 700 Loss 0.1217\n",
            "Epoch 6 Batch 800 Loss 0.1323\n",
            "Epoch 6 Batch 900 Loss 0.1773\n",
            "Epoch 6 Batch 1000 Loss 0.1417\n",
            "Epoch 6 Batch 1100 Loss 0.1336\n",
            "Epoch 6 Batch 1200 Loss 0.1600\n",
            "Epoch 6 Loss 0.1185\n",
            "Time taken for 1 epoch 95.2964551448822 sec\n",
            "\n",
            "Epoch 7 Batch 0 Loss 0.0907\n",
            "Epoch 7 Batch 100 Loss 0.1001\n",
            "Epoch 7 Batch 200 Loss 0.0755\n",
            "Epoch 7 Batch 300 Loss 0.0850\n",
            "Epoch 7 Batch 400 Loss 0.0935\n",
            "Epoch 7 Batch 500 Loss 0.0967\n",
            "Epoch 7 Batch 600 Loss 0.0996\n",
            "Epoch 7 Batch 700 Loss 0.0596\n",
            "Epoch 7 Batch 800 Loss 0.0752\n",
            "Epoch 7 Batch 900 Loss 0.0909\n",
            "Epoch 7 Batch 1000 Loss 0.0787\n",
            "Epoch 7 Batch 1100 Loss 0.1089\n",
            "Epoch 7 Batch 1200 Loss 0.1517\n",
            "Epoch 7 Loss 0.1006\n",
            "Time taken for 1 epoch 93.89092183113098 sec\n",
            "\n",
            "Epoch 8 Batch 0 Loss 0.1013\n",
            "Epoch 8 Batch 100 Loss 0.1247\n",
            "Epoch 8 Batch 200 Loss 0.0843\n",
            "Epoch 8 Batch 300 Loss 0.0895\n",
            "Epoch 8 Batch 400 Loss 0.0858\n",
            "Epoch 8 Batch 500 Loss 0.0701\n",
            "Epoch 8 Batch 600 Loss 0.0902\n",
            "Epoch 8 Batch 700 Loss 0.1133\n",
            "Epoch 8 Batch 800 Loss 0.1059\n",
            "Epoch 8 Batch 900 Loss 0.1026\n",
            "Epoch 8 Batch 1000 Loss 0.0627\n",
            "Epoch 8 Batch 1100 Loss 0.1486\n",
            "Epoch 8 Batch 1200 Loss 0.1304\n",
            "Epoch 8 Loss 0.0901\n",
            "Time taken for 1 epoch 94.65735173225403 sec\n",
            "\n",
            "Epoch 9 Batch 0 Loss 0.0653\n",
            "Epoch 9 Batch 100 Loss 0.0888\n",
            "Epoch 9 Batch 200 Loss 0.0598\n",
            "Epoch 9 Batch 300 Loss 0.0926\n",
            "Epoch 9 Batch 400 Loss 0.0551\n",
            "Epoch 9 Batch 500 Loss 0.0655\n",
            "Epoch 9 Batch 600 Loss 0.0754\n",
            "Epoch 9 Batch 700 Loss 0.0777\n",
            "Epoch 9 Batch 800 Loss 0.0820\n",
            "Epoch 9 Batch 900 Loss 0.1004\n",
            "Epoch 9 Batch 1000 Loss 0.0876\n",
            "Epoch 9 Batch 1100 Loss 0.0735\n",
            "Epoch 9 Batch 1200 Loss 0.0577\n",
            "Epoch 9 Loss 0.0826\n",
            "Time taken for 1 epoch 93.49689888954163 sec\n",
            "\n",
            "Epoch 10 Batch 0 Loss 0.0417\n",
            "Epoch 10 Batch 100 Loss 0.0438\n",
            "Epoch 10 Batch 200 Loss 0.0818\n",
            "Epoch 10 Batch 300 Loss 0.0608\n",
            "Epoch 10 Batch 400 Loss 0.0666\n",
            "Epoch 10 Batch 500 Loss 0.0650\n",
            "Epoch 10 Batch 600 Loss 0.0674\n",
            "Epoch 10 Batch 700 Loss 0.0707\n",
            "Epoch 10 Batch 800 Loss 0.0718\n",
            "Epoch 10 Batch 900 Loss 0.0629\n",
            "Epoch 10 Batch 1000 Loss 0.0847\n",
            "Epoch 10 Batch 1100 Loss 0.1004\n",
            "Epoch 10 Batch 1200 Loss 0.1121\n",
            "Epoch 10 Loss 0.0768\n",
            "Time taken for 1 epoch 99.19902873039246 sec\n",
            "\n",
            "Epoch 11 Batch 0 Loss 0.0481\n",
            "Epoch 11 Batch 100 Loss 0.0491\n",
            "Epoch 11 Batch 200 Loss 0.0440\n",
            "Epoch 11 Batch 300 Loss 0.0894\n",
            "Epoch 11 Batch 400 Loss 0.0496\n",
            "Epoch 11 Batch 500 Loss 0.0538\n",
            "Epoch 11 Batch 600 Loss 0.0437\n",
            "Epoch 11 Batch 700 Loss 0.0633\n",
            "Epoch 11 Batch 800 Loss 0.1185\n",
            "Epoch 11 Batch 900 Loss 0.0471\n",
            "Epoch 11 Batch 1000 Loss 0.0516\n",
            "Epoch 11 Batch 1100 Loss 0.1213\n",
            "Epoch 11 Batch 1200 Loss 0.1168\n",
            "Epoch 11 Loss 0.0735\n",
            "Time taken for 1 epoch 93.51466345787048 sec\n",
            "\n",
            "Epoch 12 Batch 0 Loss 0.0466\n",
            "Epoch 12 Batch 100 Loss 0.0399\n",
            "Epoch 12 Batch 200 Loss 0.1054\n",
            "Epoch 12 Batch 300 Loss 0.0805\n",
            "Epoch 12 Batch 400 Loss 0.0429\n",
            "Epoch 12 Batch 500 Loss 0.0409\n",
            "Epoch 12 Batch 600 Loss 0.0535\n",
            "Epoch 12 Batch 700 Loss 0.0466\n",
            "Epoch 12 Batch 800 Loss 0.0783\n",
            "Epoch 12 Batch 900 Loss 0.0601\n",
            "Epoch 12 Batch 1000 Loss 0.0759\n",
            "Epoch 12 Batch 1100 Loss 0.0948\n",
            "Epoch 12 Batch 1200 Loss 0.0939\n",
            "Epoch 12 Loss 0.0704\n",
            "Time taken for 1 epoch 99.2279965877533 sec\n",
            "\n",
            "Epoch 13 Batch 0 Loss 0.0445\n",
            "Epoch 13 Batch 100 Loss 0.0347\n",
            "Epoch 13 Batch 200 Loss 0.0295\n",
            "Epoch 13 Batch 300 Loss 0.0453\n",
            "Epoch 13 Batch 400 Loss 0.0497\n",
            "Epoch 13 Batch 500 Loss 0.0865\n",
            "Epoch 13 Batch 600 Loss 0.0585\n",
            "Epoch 13 Batch 700 Loss 0.1012\n",
            "Epoch 13 Batch 800 Loss 0.0702\n",
            "Epoch 13 Batch 900 Loss 0.0500\n",
            "Epoch 13 Batch 1000 Loss 0.0566\n",
            "Epoch 13 Batch 1100 Loss 0.0933\n",
            "Epoch 13 Batch 1200 Loss 0.0802\n",
            "Epoch 13 Loss 0.0666\n",
            "Time taken for 1 epoch 93.38204956054688 sec\n",
            "\n",
            "Epoch 14 Batch 0 Loss 0.0452\n",
            "Epoch 14 Batch 100 Loss 0.0677\n",
            "Epoch 14 Batch 200 Loss 0.0480\n",
            "Epoch 14 Batch 300 Loss 0.0414\n",
            "Epoch 14 Batch 400 Loss 0.0487\n",
            "Epoch 14 Batch 500 Loss 0.0712\n",
            "Epoch 14 Batch 600 Loss 0.0553\n",
            "Epoch 14 Batch 700 Loss 0.0899\n",
            "Epoch 14 Batch 800 Loss 0.0695\n",
            "Epoch 14 Batch 900 Loss 0.0861\n",
            "Epoch 14 Batch 1000 Loss 0.0827\n",
            "Epoch 14 Batch 1100 Loss 0.0682\n",
            "Epoch 14 Batch 1200 Loss 0.1007\n",
            "Epoch 14 Loss 0.0648\n",
            "Time taken for 1 epoch 99.34905529022217 sec\n",
            "\n",
            "Epoch 15 Batch 0 Loss 0.0620\n",
            "Epoch 15 Batch 100 Loss 0.0397\n",
            "Epoch 15 Batch 200 Loss 0.0769\n",
            "Epoch 15 Batch 300 Loss 0.0649\n",
            "Epoch 15 Batch 400 Loss 0.0806\n",
            "Epoch 15 Batch 500 Loss 0.0282\n",
            "Epoch 15 Batch 600 Loss 0.0874\n",
            "Epoch 15 Batch 700 Loss 0.0475\n",
            "Epoch 15 Batch 800 Loss 0.0916\n",
            "Epoch 15 Batch 900 Loss 0.0980\n",
            "Epoch 15 Batch 1000 Loss 0.1023\n",
            "Epoch 15 Batch 1100 Loss 0.0814\n",
            "Epoch 15 Batch 1200 Loss 0.0720\n",
            "Epoch 15 Loss 0.0628\n",
            "Time taken for 1 epoch 93.33757162094116 sec\n",
            "\n",
            "Epoch 16 Batch 0 Loss 0.0644\n",
            "Epoch 16 Batch 100 Loss 0.0535\n",
            "Epoch 16 Batch 200 Loss 0.0620\n",
            "Epoch 16 Batch 300 Loss 0.0592\n",
            "Epoch 16 Batch 400 Loss 0.0384\n",
            "Epoch 16 Batch 500 Loss 0.0686\n",
            "Epoch 16 Batch 600 Loss 0.0724\n",
            "Epoch 16 Batch 700 Loss 0.0558\n",
            "Epoch 16 Batch 800 Loss 0.0468\n",
            "Epoch 16 Batch 900 Loss 0.0718\n",
            "Epoch 16 Batch 1000 Loss 0.1197\n",
            "Epoch 16 Batch 1100 Loss 0.0524\n",
            "Epoch 16 Batch 1200 Loss 0.1073\n",
            "Epoch 16 Loss 0.0610\n",
            "Time taken for 1 epoch 99.32638621330261 sec\n",
            "\n",
            "Epoch 17 Batch 0 Loss 0.0712\n",
            "Epoch 17 Batch 100 Loss 0.0596\n",
            "Epoch 17 Batch 200 Loss 0.0254\n",
            "Epoch 17 Batch 300 Loss 0.0697\n",
            "Epoch 17 Batch 400 Loss 0.0591\n",
            "Epoch 17 Batch 500 Loss 0.0365\n",
            "Epoch 17 Batch 600 Loss 0.0815\n",
            "Epoch 17 Batch 700 Loss 0.0695\n",
            "Epoch 17 Batch 800 Loss 0.0777\n",
            "Epoch 17 Batch 900 Loss 0.0907\n",
            "Epoch 17 Batch 1000 Loss 0.0761\n",
            "Epoch 17 Batch 1100 Loss 0.0540\n",
            "Epoch 17 Batch 1200 Loss 0.0762\n",
            "Epoch 17 Loss 0.0596\n",
            "Time taken for 1 epoch 93.42233109474182 sec\n",
            "\n",
            "Epoch 18 Batch 0 Loss 0.0448\n",
            "Epoch 18 Batch 100 Loss 0.0707\n",
            "Epoch 18 Batch 200 Loss 0.0643\n",
            "Epoch 18 Batch 300 Loss 0.0561\n",
            "Epoch 18 Batch 400 Loss 0.0394\n",
            "Epoch 18 Batch 500 Loss 0.0616\n",
            "Epoch 18 Batch 600 Loss 0.0536\n",
            "Epoch 18 Batch 700 Loss 0.0750\n",
            "Epoch 18 Batch 800 Loss 0.0637\n",
            "Epoch 18 Batch 900 Loss 0.0541\n",
            "Epoch 18 Batch 1000 Loss 0.0533\n",
            "Epoch 18 Batch 1100 Loss 0.0736\n",
            "Epoch 18 Batch 1200 Loss 0.0622\n",
            "Epoch 18 Loss 0.0574\n",
            "Time taken for 1 epoch 99.55969023704529 sec\n",
            "\n",
            "Epoch 19 Batch 0 Loss 0.0374\n",
            "Epoch 19 Batch 100 Loss 0.0307\n",
            "Epoch 19 Batch 200 Loss 0.0677\n",
            "Epoch 19 Batch 300 Loss 0.0693\n",
            "Epoch 19 Batch 400 Loss 0.0618\n",
            "Epoch 19 Batch 500 Loss 0.0606\n",
            "Epoch 19 Batch 600 Loss 0.0736\n",
            "Epoch 19 Batch 700 Loss 0.0698\n",
            "Epoch 19 Batch 800 Loss 0.0466\n",
            "Epoch 19 Batch 900 Loss 0.0819\n",
            "Epoch 19 Batch 1000 Loss 0.0734\n",
            "Epoch 19 Batch 1100 Loss 0.0656\n",
            "Epoch 19 Batch 1200 Loss 0.0311\n",
            "Epoch 19 Loss 0.0560\n",
            "Time taken for 1 epoch 93.43122935295105 sec\n",
            "\n",
            "Epoch 20 Batch 0 Loss 0.0681\n",
            "Epoch 20 Batch 100 Loss 0.0538\n",
            "Epoch 20 Batch 200 Loss 0.0670\n",
            "Epoch 20 Batch 300 Loss 0.0454\n",
            "Epoch 20 Batch 400 Loss 0.0458\n",
            "Epoch 20 Batch 500 Loss 0.0492\n",
            "Epoch 20 Batch 600 Loss 0.0461\n",
            "Epoch 20 Batch 700 Loss 0.0460\n",
            "Epoch 20 Batch 800 Loss 0.0778\n",
            "Epoch 20 Batch 900 Loss 0.0715\n",
            "Epoch 20 Batch 1000 Loss 0.0459\n",
            "Epoch 20 Batch 1100 Loss 0.0626\n",
            "Epoch 20 Batch 1200 Loss 0.0768\n",
            "Epoch 20 Loss 0.0547\n",
            "Time taken for 1 epoch 98.11210322380066 sec\n",
            "\n",
            "Epoch 21 Batch 0 Loss 0.0610\n",
            "Epoch 21 Batch 100 Loss 0.0327\n",
            "Epoch 21 Batch 200 Loss 0.0547\n",
            "Epoch 21 Batch 300 Loss 0.0449\n",
            "Epoch 21 Batch 400 Loss 0.0601\n",
            "Epoch 21 Batch 500 Loss 0.0390\n",
            "Epoch 21 Batch 600 Loss 0.0515\n",
            "Epoch 21 Batch 700 Loss 0.0543\n",
            "Epoch 21 Batch 800 Loss 0.0596\n",
            "Epoch 21 Batch 900 Loss 0.0685\n",
            "Epoch 21 Batch 1000 Loss 0.0378\n",
            "Epoch 21 Batch 1100 Loss 0.0948\n",
            "Epoch 21 Batch 1200 Loss 0.0665\n",
            "Epoch 21 Loss 0.0547\n",
            "Time taken for 1 epoch 93.41354823112488 sec\n",
            "\n",
            "Epoch 22 Batch 0 Loss 0.0198\n",
            "Epoch 22 Batch 100 Loss 0.0258\n",
            "Epoch 22 Batch 200 Loss 0.0562\n",
            "Epoch 22 Batch 300 Loss 0.0462\n",
            "Epoch 22 Batch 400 Loss 0.0336\n",
            "Epoch 22 Batch 500 Loss 0.0570\n",
            "Epoch 22 Batch 600 Loss 0.0517\n",
            "Epoch 22 Batch 700 Loss 0.0413\n",
            "Epoch 22 Batch 800 Loss 0.0430\n",
            "Epoch 22 Batch 900 Loss 0.0354\n",
            "Epoch 22 Batch 1000 Loss 0.0619\n",
            "Epoch 22 Batch 1100 Loss 0.0973\n",
            "Epoch 22 Batch 1200 Loss 0.0613\n",
            "Epoch 22 Loss 0.0540\n",
            "Time taken for 1 epoch 99.07753539085388 sec\n",
            "\n",
            "Epoch 23 Batch 0 Loss 0.0276\n",
            "Epoch 23 Batch 100 Loss 0.0259\n",
            "Epoch 23 Batch 200 Loss 0.0683\n",
            "Epoch 23 Batch 300 Loss 0.0347\n",
            "Epoch 23 Batch 400 Loss 0.0547\n",
            "Epoch 23 Batch 500 Loss 0.0556\n",
            "Epoch 23 Batch 600 Loss 0.0451\n",
            "Epoch 23 Batch 700 Loss 0.0348\n",
            "Epoch 23 Batch 800 Loss 0.0546\n",
            "Epoch 23 Batch 900 Loss 0.0601\n",
            "Epoch 23 Batch 1000 Loss 0.0261\n",
            "Epoch 23 Batch 1100 Loss 0.0322\n",
            "Epoch 23 Batch 1200 Loss 0.0651\n",
            "Epoch 23 Loss 0.0516\n",
            "Time taken for 1 epoch 141.91230535507202 sec\n",
            "\n",
            "Epoch 24 Batch 0 Loss 0.0610\n",
            "Epoch 24 Batch 100 Loss 0.0683\n",
            "Epoch 24 Batch 200 Loss 0.0525\n",
            "Epoch 24 Batch 300 Loss 0.0512\n",
            "Epoch 24 Batch 400 Loss 0.0489\n",
            "Epoch 24 Batch 500 Loss 0.0270\n",
            "Epoch 24 Batch 600 Loss 0.0594\n",
            "Epoch 24 Batch 700 Loss 0.0218\n",
            "Epoch 24 Batch 800 Loss 0.0384\n",
            "Epoch 24 Batch 900 Loss 0.0513\n",
            "Epoch 24 Batch 1000 Loss 0.0646\n",
            "Epoch 24 Batch 1100 Loss 0.0526\n",
            "Epoch 24 Batch 1200 Loss 0.0649\n",
            "Epoch 24 Loss 0.0503\n",
            "Time taken for 1 epoch 92.72234034538269 sec\n",
            "\n",
            "Epoch 25 Batch 0 Loss 0.0438\n",
            "Epoch 25 Batch 100 Loss 0.0351\n",
            "Epoch 25 Batch 200 Loss 0.0346\n",
            "Epoch 25 Batch 300 Loss 0.0473\n",
            "Epoch 25 Batch 400 Loss 0.0404\n",
            "Epoch 25 Batch 500 Loss 0.0412\n",
            "Epoch 25 Batch 600 Loss 0.0803\n",
            "Epoch 25 Batch 700 Loss 0.0506\n",
            "Epoch 25 Batch 800 Loss 0.0631\n",
            "Epoch 25 Batch 900 Loss 0.0403\n",
            "Epoch 25 Batch 1000 Loss 0.0637\n",
            "Epoch 25 Batch 1100 Loss 0.0624\n",
            "Epoch 25 Batch 1200 Loss 0.0734\n",
            "Epoch 25 Loss 0.0498\n",
            "Time taken for 1 epoch 92.69613790512085 sec\n",
            "\n",
            "Epoch 26 Batch 0 Loss 0.0476\n",
            "Epoch 26 Batch 100 Loss 0.0372\n",
            "Epoch 26 Batch 200 Loss 0.0508\n",
            "Epoch 26 Batch 300 Loss 0.0353\n",
            "Epoch 26 Batch 400 Loss 0.0374\n",
            "Epoch 26 Batch 500 Loss 0.0396\n",
            "Epoch 26 Batch 600 Loss 0.0550\n",
            "Epoch 26 Batch 700 Loss 0.0597\n",
            "Epoch 26 Batch 800 Loss 0.0444\n",
            "Epoch 26 Batch 900 Loss 0.0466\n",
            "Epoch 26 Batch 1000 Loss 0.0499\n",
            "Epoch 26 Batch 1100 Loss 0.0491\n",
            "Epoch 26 Batch 1200 Loss 0.0812\n",
            "Epoch 26 Loss 0.0494\n",
            "Time taken for 1 epoch 94.24502158164978 sec\n",
            "\n",
            "Epoch 27 Batch 0 Loss 0.0295\n",
            "Epoch 27 Batch 100 Loss 0.0466\n",
            "Epoch 27 Batch 200 Loss 0.0576\n",
            "Epoch 27 Batch 300 Loss 0.0551\n",
            "Epoch 27 Batch 400 Loss 0.0577\n",
            "Epoch 27 Batch 500 Loss 0.0716\n",
            "Epoch 27 Batch 600 Loss 0.0277\n",
            "Epoch 27 Batch 700 Loss 0.0386\n",
            "Epoch 27 Batch 800 Loss 0.0271\n",
            "Epoch 27 Batch 900 Loss 0.0472\n",
            "Epoch 27 Batch 1000 Loss 0.0320\n",
            "Epoch 27 Batch 1100 Loss 0.0530\n",
            "Epoch 27 Batch 1200 Loss 0.0640\n",
            "Epoch 27 Loss 0.0487\n",
            "Time taken for 1 epoch 93.47853302955627 sec\n",
            "\n",
            "Epoch 28 Batch 0 Loss 0.0500\n",
            "Epoch 28 Batch 100 Loss 0.0354\n",
            "Epoch 28 Batch 200 Loss 0.0360\n",
            "Epoch 28 Batch 300 Loss 0.0331\n",
            "Epoch 28 Batch 400 Loss 0.0599\n",
            "Epoch 28 Batch 500 Loss 0.0424\n",
            "Epoch 28 Batch 600 Loss 0.0511\n",
            "Epoch 28 Batch 700 Loss 0.0484\n",
            "Epoch 28 Batch 800 Loss 0.0638\n",
            "Epoch 28 Batch 900 Loss 0.0662\n",
            "Epoch 28 Batch 1000 Loss 0.0368\n",
            "Epoch 28 Batch 1100 Loss 0.0487\n",
            "Epoch 28 Batch 1200 Loss 0.0548\n",
            "Epoch 28 Loss 0.0475\n",
            "Time taken for 1 epoch 94.65406918525696 sec\n",
            "\n",
            "Epoch 29 Batch 0 Loss 0.0251\n",
            "Epoch 29 Batch 100 Loss 0.0178\n",
            "Epoch 29 Batch 200 Loss 0.0198\n",
            "Epoch 29 Batch 300 Loss 0.0377\n",
            "Epoch 29 Batch 400 Loss 0.0416\n",
            "Epoch 29 Batch 500 Loss 0.0290\n",
            "Epoch 29 Batch 600 Loss 0.0394\n",
            "Epoch 29 Batch 700 Loss 0.0419\n",
            "Epoch 29 Batch 800 Loss 0.0573\n",
            "Epoch 29 Batch 900 Loss 0.0582\n",
            "Epoch 29 Batch 1000 Loss 0.0634\n",
            "Epoch 29 Batch 1100 Loss 0.0506\n",
            "Epoch 29 Batch 1200 Loss 0.0397\n",
            "Epoch 29 Loss 0.0477\n",
            "Time taken for 1 epoch 93.36244583129883 sec\n",
            "\n",
            "Epoch 30 Batch 0 Loss 0.0267\n",
            "Epoch 30 Batch 100 Loss 0.0431\n",
            "Epoch 30 Batch 200 Loss 0.0514\n",
            "Epoch 30 Batch 300 Loss 0.0512\n",
            "Epoch 30 Batch 400 Loss 0.0546\n",
            "Epoch 30 Batch 500 Loss 0.0505\n",
            "Epoch 30 Batch 600 Loss 0.0265\n",
            "Epoch 30 Batch 700 Loss 0.0533\n",
            "Epoch 30 Batch 800 Loss 0.0426\n",
            "Epoch 30 Batch 900 Loss 0.0337\n",
            "Epoch 30 Batch 1000 Loss 0.0663\n",
            "Epoch 30 Batch 1100 Loss 0.0673\n",
            "Epoch 30 Batch 1200 Loss 0.0298\n",
            "Epoch 30 Loss 0.0474\n",
            "Time taken for 1 epoch 99.3057324886322 sec\n",
            "\n",
            "Epoch 31 Batch 0 Loss 0.0221\n",
            "Epoch 31 Batch 100 Loss 0.0388\n",
            "Epoch 31 Batch 200 Loss 0.0284\n",
            "Epoch 31 Batch 300 Loss 0.0269\n",
            "Epoch 31 Batch 400 Loss 0.0297\n",
            "Epoch 31 Batch 500 Loss 0.0568\n",
            "Epoch 31 Batch 600 Loss 0.0470\n",
            "Epoch 31 Batch 700 Loss 0.0289\n",
            "Epoch 31 Batch 800 Loss 0.0541\n",
            "Epoch 31 Batch 900 Loss 0.0530\n",
            "Epoch 31 Batch 1000 Loss 0.0609\n",
            "Epoch 31 Batch 1100 Loss 0.0511\n",
            "Epoch 31 Batch 1200 Loss 0.0398\n",
            "Epoch 31 Loss 0.0466\n",
            "Time taken for 1 epoch 93.28580522537231 sec\n",
            "\n",
            "Epoch 32 Batch 0 Loss 0.0587\n",
            "Epoch 32 Batch 100 Loss 0.0377\n",
            "Epoch 32 Batch 200 Loss 0.0461\n",
            "Epoch 32 Batch 300 Loss 0.0393\n",
            "Epoch 32 Batch 400 Loss 0.0469\n",
            "Epoch 32 Batch 500 Loss 0.0607\n",
            "Epoch 32 Batch 600 Loss 0.0124\n",
            "Epoch 32 Batch 700 Loss 0.0542\n",
            "Epoch 32 Batch 800 Loss 0.0511\n",
            "Epoch 32 Batch 900 Loss 0.0672\n",
            "Epoch 32 Batch 1000 Loss 0.0323\n",
            "Epoch 32 Batch 1100 Loss 0.0536\n",
            "Epoch 32 Batch 1200 Loss 0.0375\n",
            "Epoch 32 Loss 0.0458\n",
            "Time taken for 1 epoch 94.39101910591125 sec\n",
            "\n",
            "Epoch 33 Batch 0 Loss 0.0452\n",
            "Epoch 33 Batch 100 Loss 0.0462\n",
            "Epoch 33 Batch 200 Loss 0.0633\n",
            "Epoch 33 Batch 300 Loss 0.0222\n",
            "Epoch 33 Batch 400 Loss 0.0410\n",
            "Epoch 33 Batch 500 Loss 0.0256\n",
            "Epoch 33 Batch 600 Loss 0.0428\n",
            "Epoch 33 Batch 700 Loss 0.0573\n",
            "Epoch 33 Batch 800 Loss 0.0386\n",
            "Epoch 33 Batch 900 Loss 0.0399\n",
            "Epoch 33 Batch 1000 Loss 0.0446\n",
            "Epoch 33 Batch 1100 Loss 0.0593\n",
            "Epoch 33 Batch 1200 Loss 0.0688\n",
            "Epoch 33 Loss 0.0458\n",
            "Time taken for 1 epoch 93.20842266082764 sec\n",
            "\n",
            "Epoch 34 Batch 0 Loss 0.0175\n",
            "Epoch 34 Batch 100 Loss 0.0295\n",
            "Epoch 34 Batch 200 Loss 0.0307\n",
            "Epoch 34 Batch 300 Loss 0.0454\n",
            "Epoch 34 Batch 400 Loss 0.0494\n",
            "Epoch 34 Batch 500 Loss 0.0690\n",
            "Epoch 34 Batch 600 Loss 0.0478\n",
            "Epoch 34 Batch 700 Loss 0.0773\n",
            "Epoch 34 Batch 800 Loss 0.0605\n",
            "Epoch 34 Batch 900 Loss 0.0744\n",
            "Epoch 34 Batch 1000 Loss 0.0529\n",
            "Epoch 34 Batch 1100 Loss 0.0398\n",
            "Epoch 34 Batch 1200 Loss 0.0751\n",
            "Epoch 34 Loss 0.0446\n",
            "Time taken for 1 epoch 94.4693546295166 sec\n",
            "\n",
            "Epoch 35 Batch 0 Loss 0.0328\n",
            "Epoch 35 Batch 100 Loss 0.0171\n",
            "Epoch 35 Batch 200 Loss 0.0517\n",
            "Epoch 35 Batch 300 Loss 0.0189\n",
            "Epoch 35 Batch 400 Loss 0.0432\n",
            "Epoch 35 Batch 500 Loss 0.0403\n",
            "Epoch 35 Batch 600 Loss 0.0416\n",
            "Epoch 35 Batch 700 Loss 0.0613\n",
            "Epoch 35 Batch 800 Loss 0.0344\n",
            "Epoch 35 Batch 900 Loss 0.0202\n",
            "Epoch 35 Batch 1000 Loss 0.0663\n",
            "Epoch 35 Batch 1100 Loss 0.0363\n",
            "Epoch 35 Batch 1200 Loss 0.0455\n",
            "Epoch 35 Loss 0.0439\n",
            "Time taken for 1 epoch 93.17538404464722 sec\n",
            "\n",
            "Epoch 36 Batch 0 Loss 0.0394\n",
            "Epoch 36 Batch 100 Loss 0.0166\n",
            "Epoch 36 Batch 200 Loss 0.0415\n",
            "Epoch 36 Batch 300 Loss 0.0200\n",
            "Epoch 36 Batch 400 Loss 0.0419\n",
            "Epoch 36 Batch 500 Loss 0.0309\n",
            "Epoch 36 Batch 600 Loss 0.0302\n",
            "Epoch 36 Batch 700 Loss 0.0322\n",
            "Epoch 36 Batch 800 Loss 0.0501\n",
            "Epoch 36 Batch 900 Loss 0.0710\n",
            "Epoch 36 Batch 1000 Loss 0.0590\n",
            "Epoch 36 Batch 1100 Loss 0.0525\n",
            "Epoch 36 Batch 1200 Loss 0.0809\n",
            "Epoch 36 Loss 0.0438\n",
            "Time taken for 1 epoch 99.20539903640747 sec\n",
            "\n",
            "Epoch 37 Batch 0 Loss 0.0201\n",
            "Epoch 37 Batch 100 Loss 0.0224\n",
            "Epoch 37 Batch 200 Loss 0.0568\n",
            "Epoch 37 Batch 300 Loss 0.0439\n",
            "Epoch 37 Batch 400 Loss 0.0311\n",
            "Epoch 37 Batch 500 Loss 0.0366\n",
            "Epoch 37 Batch 600 Loss 0.0489\n",
            "Epoch 37 Batch 700 Loss 0.0309\n",
            "Epoch 37 Batch 800 Loss 0.0464\n",
            "Epoch 37 Batch 900 Loss 0.0710\n",
            "Epoch 37 Batch 1000 Loss 0.0464\n",
            "Epoch 37 Batch 1100 Loss 0.0606\n",
            "Epoch 37 Batch 1200 Loss 0.0856\n",
            "Epoch 37 Loss 0.0439\n",
            "Time taken for 1 epoch 93.25874018669128 sec\n",
            "\n",
            "Epoch 38 Batch 0 Loss 0.0197\n",
            "Epoch 38 Batch 100 Loss 0.0179\n",
            "Epoch 38 Batch 200 Loss 0.0486\n",
            "Epoch 38 Batch 300 Loss 0.0437\n",
            "Epoch 38 Batch 400 Loss 0.0532\n",
            "Epoch 38 Batch 500 Loss 0.0574\n",
            "Epoch 38 Batch 600 Loss 0.0708\n",
            "Epoch 38 Batch 700 Loss 0.0523\n",
            "Epoch 38 Batch 800 Loss 0.0307\n",
            "Epoch 38 Batch 900 Loss 0.0456\n",
            "Epoch 38 Batch 1000 Loss 0.0440\n",
            "Epoch 38 Batch 1100 Loss 0.0588\n",
            "Epoch 38 Batch 1200 Loss 0.0447\n",
            "Epoch 38 Loss 0.0429\n",
            "Time taken for 1 epoch 96.60497689247131 sec\n",
            "\n",
            "Epoch 39 Batch 0 Loss 0.0431\n",
            "Epoch 39 Batch 100 Loss 0.0371\n",
            "Epoch 39 Batch 200 Loss 0.0558\n",
            "Epoch 39 Batch 300 Loss 0.0691\n",
            "Epoch 39 Batch 400 Loss 0.0334\n",
            "Epoch 39 Batch 500 Loss 0.0681\n",
            "Epoch 39 Batch 600 Loss 0.0463\n",
            "Epoch 39 Batch 700 Loss 0.0339\n",
            "Epoch 39 Batch 800 Loss 0.0506\n",
            "Epoch 39 Batch 900 Loss 0.0290\n",
            "Epoch 39 Batch 1000 Loss 0.0396\n",
            "Epoch 39 Batch 1100 Loss 0.0564\n",
            "Epoch 39 Batch 1200 Loss 0.0388\n",
            "Epoch 39 Loss 0.0427\n",
            "Time taken for 1 epoch 93.23462772369385 sec\n",
            "\n",
            "Epoch 40 Batch 0 Loss 0.0501\n",
            "Epoch 40 Batch 100 Loss 0.0238\n",
            "Epoch 40 Batch 200 Loss 0.0265\n",
            "Epoch 40 Batch 300 Loss 0.0492\n",
            "Epoch 40 Batch 400 Loss 0.0532\n",
            "Epoch 40 Batch 500 Loss 0.0274\n",
            "Epoch 40 Batch 600 Loss 0.0623\n",
            "Epoch 40 Batch 700 Loss 0.0306\n",
            "Epoch 40 Batch 800 Loss 0.0440\n",
            "Epoch 40 Batch 900 Loss 0.0674\n",
            "Epoch 40 Batch 1000 Loss 0.0524\n",
            "Epoch 40 Batch 1100 Loss 0.0408\n",
            "Epoch 40 Batch 1200 Loss 0.0602\n",
            "Epoch 40 Loss 0.0428\n",
            "Time taken for 1 epoch 99.381667137146 sec\n",
            "\n",
            "Epoch 41 Batch 0 Loss 0.0262\n",
            "Epoch 41 Batch 100 Loss 0.0330\n",
            "Epoch 41 Batch 200 Loss 0.0338\n",
            "Epoch 41 Batch 300 Loss 0.0197\n",
            "Epoch 41 Batch 400 Loss 0.0272\n",
            "Epoch 41 Batch 500 Loss 0.0353\n",
            "Epoch 41 Batch 600 Loss 0.0420\n",
            "Epoch 41 Batch 700 Loss 0.0259\n",
            "Epoch 41 Batch 800 Loss 0.0656\n",
            "Epoch 41 Batch 900 Loss 0.0485\n",
            "Epoch 41 Batch 1000 Loss 0.0518\n",
            "Epoch 41 Batch 1100 Loss 0.0336\n",
            "Epoch 41 Batch 1200 Loss 0.0633\n",
            "Epoch 41 Loss 0.0420\n",
            "Time taken for 1 epoch 93.532785654068 sec\n",
            "\n",
            "Epoch 42 Batch 0 Loss 0.0277\n",
            "Epoch 42 Batch 100 Loss 0.0229\n",
            "Epoch 42 Batch 200 Loss 0.0150\n",
            "Epoch 42 Batch 300 Loss 0.0198\n",
            "Epoch 42 Batch 400 Loss 0.0365\n",
            "Epoch 42 Batch 500 Loss 0.0514\n",
            "Epoch 42 Batch 600 Loss 0.0402\n",
            "Epoch 42 Batch 700 Loss 0.0327\n",
            "Epoch 42 Batch 800 Loss 0.0337\n",
            "Epoch 42 Batch 900 Loss 0.0542\n",
            "Epoch 42 Batch 1000 Loss 0.0495\n",
            "Epoch 42 Batch 1100 Loss 0.0369\n",
            "Epoch 42 Batch 1200 Loss 0.0306\n",
            "Epoch 42 Loss 0.0410\n",
            "Time taken for 1 epoch 94.81136393547058 sec\n",
            "\n",
            "Epoch 43 Batch 0 Loss 0.0180\n",
            "Epoch 43 Batch 100 Loss 0.0299\n",
            "Epoch 43 Batch 200 Loss 0.0337\n",
            "Epoch 43 Batch 300 Loss 0.0380\n",
            "Epoch 43 Batch 400 Loss 0.0569\n",
            "Epoch 43 Batch 500 Loss 0.0329\n",
            "Epoch 43 Batch 600 Loss 0.0648\n",
            "Epoch 43 Batch 700 Loss 0.0176\n",
            "Epoch 43 Batch 800 Loss 0.0441\n",
            "Epoch 43 Batch 900 Loss 0.0716\n",
            "Epoch 43 Batch 1000 Loss 0.0499\n",
            "Epoch 43 Batch 1100 Loss 0.0501\n",
            "Epoch 43 Batch 1200 Loss 0.0485\n",
            "Epoch 43 Loss 0.0415\n",
            "Time taken for 1 epoch 93.28628301620483 sec\n",
            "\n",
            "Epoch 44 Batch 0 Loss 0.0182\n",
            "Epoch 44 Batch 100 Loss 0.0193\n",
            "Epoch 44 Batch 200 Loss 0.0378\n",
            "Epoch 44 Batch 300 Loss 0.0407\n",
            "Epoch 44 Batch 400 Loss 0.0361\n",
            "Epoch 44 Batch 500 Loss 0.0391\n",
            "Epoch 44 Batch 600 Loss 0.0401\n",
            "Epoch 44 Batch 700 Loss 0.0470\n",
            "Epoch 44 Batch 800 Loss 0.0493\n",
            "Epoch 44 Batch 900 Loss 0.0336\n",
            "Epoch 44 Batch 1000 Loss 0.0244\n",
            "Epoch 44 Batch 1100 Loss 0.0767\n",
            "Epoch 44 Batch 1200 Loss 0.0538\n",
            "Epoch 44 Loss 0.0418\n",
            "Time taken for 1 epoch 94.38897919654846 sec\n",
            "\n",
            "Epoch 45 Batch 0 Loss 0.0411\n",
            "Epoch 45 Batch 100 Loss 0.0225\n",
            "Epoch 45 Batch 200 Loss 0.0267\n",
            "Epoch 45 Batch 300 Loss 0.0342\n",
            "Epoch 45 Batch 400 Loss 0.0252\n",
            "Epoch 45 Batch 500 Loss 0.0470\n",
            "Epoch 45 Batch 600 Loss 0.0496\n",
            "Epoch 45 Batch 700 Loss 0.0571\n",
            "Epoch 45 Batch 800 Loss 0.0252\n",
            "Epoch 45 Batch 900 Loss 0.0476\n",
            "Epoch 45 Batch 1000 Loss 0.0550\n",
            "Epoch 45 Batch 1100 Loss 0.0354\n",
            "Epoch 45 Batch 1200 Loss 0.0334\n",
            "Epoch 45 Loss 0.0408\n",
            "Time taken for 1 epoch 93.3940315246582 sec\n",
            "\n",
            "Epoch 46 Batch 0 Loss 0.0279\n",
            "Epoch 46 Batch 100 Loss 0.0351\n",
            "Epoch 46 Batch 200 Loss 0.0189\n",
            "Epoch 46 Batch 300 Loss 0.0442\n",
            "Epoch 46 Batch 400 Loss 0.0349\n",
            "Epoch 46 Batch 500 Loss 0.0402\n",
            "Epoch 46 Batch 600 Loss 0.0367\n",
            "Epoch 46 Batch 700 Loss 0.0332\n",
            "Epoch 46 Batch 800 Loss 0.0362\n",
            "Epoch 46 Batch 900 Loss 0.0372\n",
            "Epoch 46 Batch 1000 Loss 0.0657\n",
            "Epoch 46 Batch 1100 Loss 0.0378\n",
            "Epoch 46 Batch 1200 Loss 0.0605\n",
            "Epoch 46 Loss 0.0399\n",
            "Time taken for 1 epoch 99.58578276634216 sec\n",
            "\n",
            "Epoch 47 Batch 0 Loss 0.0203\n",
            "Epoch 47 Batch 100 Loss 0.0247\n",
            "Epoch 47 Batch 200 Loss 0.0364\n",
            "Epoch 47 Batch 300 Loss 0.0316\n",
            "Epoch 47 Batch 400 Loss 0.0532\n",
            "Epoch 47 Batch 500 Loss 0.0448\n",
            "Epoch 47 Batch 600 Loss 0.0193\n",
            "Epoch 47 Batch 700 Loss 0.0416\n",
            "Epoch 47 Batch 800 Loss 0.0421\n",
            "Epoch 47 Batch 900 Loss 0.0590\n",
            "Epoch 47 Batch 1000 Loss 0.0495\n",
            "Epoch 47 Batch 1100 Loss 0.0566\n",
            "Epoch 47 Batch 1200 Loss 0.0509\n",
            "Epoch 47 Loss 0.0403\n",
            "Time taken for 1 epoch 93.2965440750122 sec\n",
            "\n",
            "Epoch 48 Batch 0 Loss 0.0334\n",
            "Epoch 48 Batch 100 Loss 0.0331\n",
            "Epoch 48 Batch 200 Loss 0.0447\n",
            "Epoch 48 Batch 300 Loss 0.0308\n",
            "Epoch 48 Batch 400 Loss 0.0153\n",
            "Epoch 48 Batch 500 Loss 0.0303\n",
            "Epoch 48 Batch 600 Loss 0.0389\n",
            "Epoch 48 Batch 700 Loss 0.0395\n",
            "Epoch 48 Batch 800 Loss 0.0647\n",
            "Epoch 48 Batch 900 Loss 0.0479\n",
            "Epoch 48 Batch 1000 Loss 0.0416\n",
            "Epoch 48 Batch 1100 Loss 0.0439\n",
            "Epoch 48 Batch 1200 Loss 0.0300\n",
            "Epoch 48 Loss 0.0404\n",
            "Time taken for 1 epoch 94.78182649612427 sec\n",
            "\n",
            "Epoch 49 Batch 0 Loss 0.0368\n",
            "Epoch 49 Batch 100 Loss 0.0363\n",
            "Epoch 49 Batch 200 Loss 0.0254\n",
            "Epoch 49 Batch 300 Loss 0.0452\n",
            "Epoch 49 Batch 400 Loss 0.0456\n",
            "Epoch 49 Batch 500 Loss 0.0375\n",
            "Epoch 49 Batch 600 Loss 0.0334\n",
            "Epoch 49 Batch 700 Loss 0.0696\n",
            "Epoch 49 Batch 800 Loss 0.0462\n",
            "Epoch 49 Batch 900 Loss 0.0468\n",
            "Epoch 49 Batch 1000 Loss 0.0469\n",
            "Epoch 49 Batch 1100 Loss 0.0259\n",
            "Epoch 49 Batch 1200 Loss 0.0396\n",
            "Epoch 49 Loss 0.0405\n",
            "Time taken for 1 epoch 93.30376076698303 sec\n",
            "\n",
            "Epoch 50 Batch 0 Loss 0.0300\n",
            "Epoch 50 Batch 100 Loss 0.0311\n",
            "Epoch 50 Batch 200 Loss 0.0453\n",
            "Epoch 50 Batch 300 Loss 0.0349\n",
            "Epoch 50 Batch 400 Loss 0.0372\n",
            "Epoch 50 Batch 500 Loss 0.0260\n",
            "Epoch 50 Batch 600 Loss 0.0706\n",
            "Epoch 50 Batch 700 Loss 0.0345\n",
            "Epoch 50 Batch 800 Loss 0.0577\n",
            "Epoch 50 Batch 900 Loss 0.0641\n",
            "Epoch 50 Batch 1000 Loss 0.0286\n",
            "Epoch 50 Batch 1100 Loss 0.0281\n",
            "Epoch 50 Batch 1200 Loss 0.0401\n",
            "Epoch 50 Loss 0.0399\n",
            "Time taken for 1 epoch 97.2317578792572 sec\n",
            "\n"
          ]
        }
      ]
    },
    {
      "cell_type": "markdown",
      "source": [
        "## Translate\n",
        "\n",
        "* The evaluate function is similar to the training loop, except we don't use *teacher forcing* here. The input to the decoder at each time step is its previous predictions along with the hidden state and the encoder output.\n",
        "* Stop predicting when the model predicts the *end token*.\n",
        "* And store the *attention weights for every time step*.\n",
        "\n",
        "Note: The encoder output is calculated only once for one input."
      ],
      "metadata": {
        "id": "sHGElNIMzND2"
      }
    },
    {
      "cell_type": "code",
      "source": [
        "def evaluate(sentence):\n",
        "  attention_plot = np.zeros((max_length_targ, max_length_inp))\n",
        "\n",
        "  sentence = preprocess_sentence(sentence)\n",
        "\n",
        "  inputs = [inp_lang.word_index[i] for i in sentence.split(' ')]\n",
        "  inputs = tf.keras.preprocessing.sequence.pad_sequences([inputs],\n",
        "                                                         maxlen=max_length_inp,\n",
        "                                                         padding='post')\n",
        "  inputs = tf.convert_to_tensor(inputs)\n",
        "\n",
        "  result = ''\n",
        "\n",
        "  hidden = [tf.zeros((1, units))]\n",
        "  enc_out, enc_hidden = encoder(inputs, hidden)\n",
        "\n",
        "  dec_hidden = enc_hidden\n",
        "  dec_input = tf.expand_dims([targ_lang.word_index['<start>']], 0)\n",
        "\n",
        "  for t in range(max_length_targ):\n",
        "    predictions, dec_hidden, attention_weights = decoder(dec_input,\n",
        "                                                         dec_hidden,\n",
        "                                                         enc_out)\n",
        "\n",
        "    # storing the attention weights to plot later on\n",
        "    attention_weights = tf.reshape(attention_weights, (-1, ))\n",
        "    attention_plot[t] = attention_weights.numpy()\n",
        "\n",
        "    predicted_id = tf.argmax(predictions[0]).numpy()\n",
        "\n",
        "    result += targ_lang.index_word[predicted_id] + ' '\n",
        "\n",
        "    if targ_lang.index_word[predicted_id] == '<end>':\n",
        "      return result, sentence, attention_plot\n",
        "\n",
        "    # the predicted ID is fed back into the model\n",
        "    dec_input = tf.expand_dims([predicted_id], 0)\n",
        "\n",
        "  return result, sentence, attention_plot"
      ],
      "metadata": {
        "id": "cP6V6rfuzO7F"
      },
      "execution_count": 33,
      "outputs": []
    },
    {
      "cell_type": "code",
      "source": [
        "# function for plotting the attention weights\n",
        "def plot_attention(attention, sentence, predicted_sentence):\n",
        "  fig = plt.figure(figsize=(10,10))\n",
        "  ax = fig.add_subplot(1, 1, 1)\n",
        "  ax.matshow(attention, cmap='viridis')\n",
        "\n",
        "  fontdict = {'fontsize': 14}\n",
        "\n",
        "  ax.set_xticklabels([''] + sentence, fontdict=fontdict, rotation=90)\n",
        "  ax.set_yticklabels([''] + predicted_sentence, fontdict=fontdict)\n",
        "\n",
        "  ax.xaxis.set_major_locator(ticker.MultipleLocator(1))\n",
        "  ax.yaxis.set_major_locator(ticker.MultipleLocator(1))\n",
        "\n",
        "  plt.show()"
      ],
      "metadata": {
        "id": "IOLSrahezcPs"
      },
      "execution_count": 34,
      "outputs": []
    },
    {
      "cell_type": "code",
      "source": [
        "def translate(sentence):\n",
        "  result, sentence, attention_plot = evaluate(sentence)\n",
        "\n",
        "  print('Input: %s' % (sentence))\n",
        "  print('Predicted translation: {}'.format(result))\n",
        "\n",
        "  attention_plot = attention_plot[:len(result.split(' ')), :len(sentence.split(' '))]\n",
        "  plot_attention(attention_plot, sentence.split(' '), result.split(' '))"
      ],
      "metadata": {
        "id": "ZGGCZHNzze7x"
      },
      "execution_count": 35,
      "outputs": []
    },
    {
      "cell_type": "markdown",
      "source": [
        "# Restore the latest checkpoint and test"
      ],
      "metadata": {
        "id": "AU2UfHXVzm6W"
      }
    },
    {
      "cell_type": "code",
      "source": [
        "# restoring the latest checkpoint in checkpoint_dir\n",
        "checkpoint.restore(tf.train.latest_checkpoint(checkpoint_dir))"
      ],
      "metadata": {
        "colab": {
          "base_uri": "https://localhost:8080/"
        },
        "id": "dgQaEMVezo5n",
        "outputId": "02d924d6-b0a5-4bd5-e09f-2c787a52ece4"
      },
      "execution_count": 36,
      "outputs": [
        {
          "output_type": "execute_result",
          "data": {
            "text/plain": [
              "<tensorflow.python.checkpoint.checkpoint.CheckpointLoadStatus at 0x7f5b57129ae0>"
            ]
          },
          "metadata": {},
          "execution_count": 36
        }
      ]
    },
    {
      "cell_type": "code",
      "source": [
        "translate('Вы видите далеко?')"
      ],
      "metadata": {
        "colab": {
          "base_uri": "https://localhost:8080/",
          "height": 1000
        },
        "id": "GWUlWdru0uFi",
        "outputId": "379ca8d4-c653-4497-ddcf-d3d24b629050"
      },
      "execution_count": 42,
      "outputs": [
        {
          "output_type": "stream",
          "name": "stdout",
          "text": [
            "Input: <start> вы видите далеко ? <end>\n",
            "Predicted translation: do you see hot ? <end> \n"
          ]
        },
        {
          "output_type": "stream",
          "name": "stderr",
          "text": [
            "<ipython-input-34-ef64c003f9d5>:9: UserWarning: FixedFormatter should only be used together with FixedLocator\n",
            "  ax.set_xticklabels([''] + sentence, fontdict=fontdict, rotation=90)\n",
            "<ipython-input-34-ef64c003f9d5>:10: UserWarning: FixedFormatter should only be used together with FixedLocator\n",
            "  ax.set_yticklabels([''] + predicted_sentence, fontdict=fontdict)\n"
          ]
        },
        {
          "output_type": "display_data",
          "data": {
            "text/plain": [
              "<Figure size 1000x1000 with 1 Axes>"
            ],
            "image/png": "[encoded data removed]"
          },
          "metadata": {}
        }
      ]
    },
    {
      "cell_type": "code",
      "source": [
        "translate('В город вернулось лето.')"
      ],
      "metadata": {
        "colab": {
          "base_uri": "https://localhost:8080/",
          "height": 924
        },
        "id": "i6JCEczz04Qm",
        "outputId": "5ecf631b-b137-4551-a22b-130c687a571e"
      },
      "execution_count": 57,
      "outputs": [
        {
          "output_type": "stream",
          "name": "stdout",
          "text": [
            "Input: <start> в город вернулось лето . <end>\n",
            "Predicted translation: the city rule . <end> \n"
          ]
        },
        {
          "output_type": "stream",
          "name": "stderr",
          "text": [
            "<ipython-input-34-ef64c003f9d5>:9: UserWarning: FixedFormatter should only be used together with FixedLocator\n",
            "  ax.set_xticklabels([''] + sentence, fontdict=fontdict, rotation=90)\n",
            "<ipython-input-34-ef64c003f9d5>:10: UserWarning: FixedFormatter should only be used together with FixedLocator\n",
            "  ax.set_yticklabels([''] + predicted_sentence, fontdict=fontdict)\n"
          ]
        },
        {
          "output_type": "display_data",
          "data": {
            "text/plain": [
              "<Figure size 1000x1000 with 1 Axes>"
            ],
            "image/png": "[encoded data removed]"
          },
          "metadata": {}
        }
      ]
    },
    {
      "cell_type": "code",
      "source": [
        "translate('Ты спасён?')"
      ],
      "metadata": {
        "colab": {
          "base_uri": "https://localhost:8080/",
          "height": 1000
        },
        "id": "ngaWsp5Z09Q2",
        "outputId": "48241157-4b65-4d5b-a2f0-898df8e55500"
      },
      "execution_count": 45,
      "outputs": [
        {
          "output_type": "stream",
          "name": "stdout",
          "text": [
            "Input: <start> ты спас н ? <end>\n",
            "Predicted translation: have you saved ? <end> \n"
          ]
        },
        {
          "output_type": "stream",
          "name": "stderr",
          "text": [
            "<ipython-input-34-ef64c003f9d5>:9: UserWarning: FixedFormatter should only be used together with FixedLocator\n",
            "  ax.set_xticklabels([''] + sentence, fontdict=fontdict, rotation=90)\n",
            "<ipython-input-34-ef64c003f9d5>:10: UserWarning: FixedFormatter should only be used together with FixedLocator\n",
            "  ax.set_yticklabels([''] + predicted_sentence, fontdict=fontdict)\n"
          ]
        },
        {
          "output_type": "display_data",
          "data": {
            "text/plain": [
              "<Figure size 1000x1000 with 1 Axes>"
            ],
            "image/png": "[encoded data removed]"
          },
          "metadata": {}
        }
      ]
    },
    {
      "cell_type": "code",
      "source": [
        "translate('Здесь наша жизнь.')"
      ],
      "metadata": {
        "colab": {
          "base_uri": "https://localhost:8080/",
          "height": 1000
        },
        "id": "2aKfmWQ61B2L",
        "outputId": "731e6c10-7ca6-4ab5-919a-9e6c2fa9f15a"
      },
      "execution_count": 46,
      "outputs": [
        {
          "output_type": "stream",
          "name": "stdout",
          "text": [
            "Input: <start> здесь наша жизнь . <end>\n",
            "Predicted translation: it's our lives here . <end> \n"
          ]
        },
        {
          "output_type": "stream",
          "name": "stderr",
          "text": [
            "<ipython-input-34-ef64c003f9d5>:9: UserWarning: FixedFormatter should only be used together with FixedLocator\n",
            "  ax.set_xticklabels([''] + sentence, fontdict=fontdict, rotation=90)\n",
            "<ipython-input-34-ef64c003f9d5>:10: UserWarning: FixedFormatter should only be used together with FixedLocator\n",
            "  ax.set_yticklabels([''] + predicted_sentence, fontdict=fontdict)\n"
          ]
        },
        {
          "output_type": "display_data",
          "data": {
            "text/plain": [
              "<Figure size 1000x1000 with 1 Axes>"
            ],
            "image/png": "[encoded data removed]"
          },
          "metadata": {}
        }
      ]
    },
    {
      "cell_type": "code",
      "source": [
        "translate('Слушаю шум дождя.')"
      ],
      "metadata": {
        "colab": {
          "base_uri": "https://localhost:8080/",
          "height": 1000
        },
        "id": "MJ5eGmJ11KrL",
        "outputId": "d2057f7d-bb09-450a-a453-f68bf999f4a4"
      },
      "execution_count": 54,
      "outputs": [
        {
          "output_type": "stream",
          "name": "stdout",
          "text": [
            "Input: <start> слушаю шум дождя . <end>\n",
            "Predicted translation: my mind the music . <end> \n"
          ]
        },
        {
          "output_type": "stream",
          "name": "stderr",
          "text": [
            "<ipython-input-34-ef64c003f9d5>:9: UserWarning: FixedFormatter should only be used together with FixedLocator\n",
            "  ax.set_xticklabels([''] + sentence, fontdict=fontdict, rotation=90)\n",
            "<ipython-input-34-ef64c003f9d5>:10: UserWarning: FixedFormatter should only be used together with FixedLocator\n",
            "  ax.set_yticklabels([''] + predicted_sentence, fontdict=fontdict)\n"
          ]
        },
        {
          "output_type": "display_data",
          "data": {
            "text/plain": [
              "<Figure size 1000x1000 with 1 Axes>"
            ],
            "image/png": "[encoded data removed]"
          },
          "metadata": {}
        }
      ]
    },
    {
      "cell_type": "code",
      "source": [
        "translate('Как зовут тебя, мой друг?')"
      ],
      "metadata": {
        "colab": {
          "base_uri": "https://localhost:8080/",
          "height": 920
        },
        "id": "c86xbSa31OdO",
        "outputId": "9fe119e9-c350-4669-8f8b-7bd332fa9f52"
      },
      "execution_count": 53,
      "outputs": [
        {
          "output_type": "stream",
          "name": "stdout",
          "text": [
            "Input: <start> как зовут тебя , мой друг ? <end>\n",
            "Predicted translation: how is your my friend ? <end> \n"
          ]
        },
        {
          "output_type": "stream",
          "name": "stderr",
          "text": [
            "<ipython-input-34-ef64c003f9d5>:9: UserWarning: FixedFormatter should only be used together with FixedLocator\n",
            "  ax.set_xticklabels([''] + sentence, fontdict=fontdict, rotation=90)\n",
            "<ipython-input-34-ef64c003f9d5>:10: UserWarning: FixedFormatter should only be used together with FixedLocator\n",
            "  ax.set_yticklabels([''] + predicted_sentence, fontdict=fontdict)\n"
          ]
        },
        {
          "output_type": "display_data",
          "data": {
            "text/plain": [
              "<Figure size 1000x1000 with 1 Axes>"
            ],
            "image/png": "[encoded data removed]"
          },
          "metadata": {}
        }
      ]
    },
    {
      "cell_type": "code",
      "source": [
        "translate('Какой карандаш у тебя?')"
      ],
      "metadata": {
        "colab": {
          "base_uri": "https://localhost:8080/",
          "height": 1000
        },
        "id": "qB37LIpa1cB_",
        "outputId": "a146a592-478a-424c-8b62-780d873a2070"
      },
      "execution_count": 52,
      "outputs": [
        {
          "output_type": "stream",
          "name": "stdout",
          "text": [
            "Input: <start> какой карандаш у тебя ? <end>\n",
            "Predicted translation: which pencil is that ? <end> \n"
          ]
        },
        {
          "output_type": "stream",
          "name": "stderr",
          "text": [
            "<ipython-input-34-ef64c003f9d5>:9: UserWarning: FixedFormatter should only be used together with FixedLocator\n",
            "  ax.set_xticklabels([''] + sentence, fontdict=fontdict, rotation=90)\n",
            "<ipython-input-34-ef64c003f9d5>:10: UserWarning: FixedFormatter should only be used together with FixedLocator\n",
            "  ax.set_yticklabels([''] + predicted_sentence, fontdict=fontdict)\n"
          ]
        },
        {
          "output_type": "display_data",
          "data": {
            "text/plain": [
              "<Figure size 1000x1000 with 1 Axes>"
            ],
            "image/png": "[encoded data removed]"
          },
          "metadata": {}
        }
      ]
    },
    {
      "cell_type": "markdown",
      "source": [
        "Вывод: качество перевода оставляет желать лучшего :("
      ],
      "metadata": {
        "id": "6ODyC3_jGu5X"
      }
    }
  ]
}